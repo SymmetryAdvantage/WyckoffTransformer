{
 "cells": [
  {
   "cell_type": "code",
   "execution_count": 1,
   "metadata": {},
   "outputs": [],
   "source": [
    "import json\n",
    "import pandas as pd\n",
    "\n",
    "\n",
    "with open('data/wbm/40344463.json', 'r') as f:\n",
    "    data = json.load(f)\n",
    "df = pd.read_csv('data/wbm/44225498.csv')"
   ]
  },
  {
   "cell_type": "code",
   "execution_count": 2,
   "metadata": {},
   "outputs": [
    {
     "data": {
      "text/plain": [
       "(256963, 18)"
      ]
     },
     "execution_count": 2,
     "metadata": {},
     "output_type": "execute_result"
    }
   ],
   "source": [
    "df.shape"
   ]
  },
  {
   "cell_type": "code",
   "execution_count": 3,
   "metadata": {},
   "outputs": [],
   "source": [
    "idxs = [17 + i * 20 for i in range(10000)]\n",
    "idx2id = {idx: data['material_id'][str(idx)] for idx in idxs}"
   ]
  },
  {
   "cell_type": "code",
   "execution_count": 4,
   "metadata": {},
   "outputs": [
    {
     "data": {
      "application/vnd.jupyter.widget-view+json": {
       "model_id": "2b7ebe92ff3e46c5890c1b1cdf1b695c",
       "version_major": 2,
       "version_minor": 0
      },
      "text/plain": [
       "  0%|          | 0/10000 [00:00<?, ?it/s]"
      ]
     },
     "metadata": {},
     "output_type": "display_data"
    },
    {
     "data": {
      "application/vnd.jupyter.widget-view+json": {
       "model_id": "bd240363f4af4f7c8965d1dcf941ce1e",
       "version_major": 2,
       "version_minor": 0
      },
      "text/plain": [
       "  0%|          | 0/10000 [00:00<?, ?it/s]"
      ]
     },
     "metadata": {},
     "output_type": "display_data"
    },
    {
     "data": {
      "application/vnd.jupyter.widget-view+json": {
       "model_id": "2b6deff375b64d2196e5f3cc83df0429",
       "version_major": 2,
       "version_minor": 0
      },
      "text/plain": [
       "  0%|          | 0/10000 [00:00<?, ?it/s]"
      ]
     },
     "metadata": {},
     "output_type": "display_data"
    }
   ],
   "source": [
    "from tqdm.auto import tqdm\n",
    "\n",
    "structs = {idx2id[idx]: data['computed_structure_entry'][str(idx)] for idx in tqdm(idxs)}\n",
    "energy = {idx2id[idx]: df[df['material_id'] == idx2id[idx]]['e_form_per_atom_wbm'].item() for idx in tqdm(idxs)}\n",
    "band_gap = {idx2id[idx]: df[df['material_id'] == idx2id[idx]]['bandgap_pbe'].item() for idx in tqdm(idxs)}"
   ]
  },
  {
   "cell_type": "code",
   "execution_count": 5,
   "metadata": {},
   "outputs": [],
   "source": [
    "from pymatgen.io.cif import CifWriter\n",
    "from pymatgen.core import Structure"
   ]
  },
  {
   "cell_type": "code",
   "execution_count": 6,
   "metadata": {},
   "outputs": [],
   "source": [
    "res = {\n",
    "    'cif': [str(CifWriter(Structure.from_dict(structs[idx2id[idx]]['structure']))) for idx in idxs],\n",
    "    'formation_energy_per_atom': [energy[idx2id[idx]] for idx in idxs],\n",
    "    'band_gap': [band_gap[idx2id[idx]] for idx in idxs]\n",
    "}"
   ]
  },
  {
   "cell_type": "code",
   "execution_count": 7,
   "metadata": {},
   "outputs": [
    {
     "data": {
      "text/html": [
       "<div>\n",
       "<style scoped>\n",
       "    .dataframe tbody tr th:only-of-type {\n",
       "        vertical-align: middle;\n",
       "    }\n",
       "\n",
       "    .dataframe tbody tr th {\n",
       "        vertical-align: top;\n",
       "    }\n",
       "\n",
       "    .dataframe thead th {\n",
       "        text-align: right;\n",
       "    }\n",
       "</style>\n",
       "<table border=\"1\" class=\"dataframe\">\n",
       "  <thead>\n",
       "    <tr style=\"text-align: right;\">\n",
       "      <th></th>\n",
       "      <th>cif</th>\n",
       "      <th>formation_energy_per_atom</th>\n",
       "      <th>band_gap</th>\n",
       "    </tr>\n",
       "  </thead>\n",
       "  <tbody>\n",
       "    <tr>\n",
       "      <th>0</th>\n",
       "      <td># generated using pymatgen\\ndata_CeAg2Hg\\n_sym...</td>\n",
       "      <td>-0.162</td>\n",
       "      <td>0.0</td>\n",
       "    </tr>\n",
       "    <tr>\n",
       "      <th>1</th>\n",
       "      <td># generated using pymatgen\\ndata_InAg2\\n_symme...</td>\n",
       "      <td>-0.019</td>\n",
       "      <td>0.0</td>\n",
       "    </tr>\n",
       "    <tr>\n",
       "      <th>2</th>\n",
       "      <td># generated using pymatgen\\ndata_SmAg2\\n_symme...</td>\n",
       "      <td>-0.289</td>\n",
       "      <td>0.0</td>\n",
       "    </tr>\n",
       "    <tr>\n",
       "      <th>3</th>\n",
       "      <td># generated using pymatgen\\ndata_TaAg2\\n_symme...</td>\n",
       "      <td>0.281</td>\n",
       "      <td>0.0</td>\n",
       "    </tr>\n",
       "    <tr>\n",
       "      <th>4</th>\n",
       "      <td># generated using pymatgen\\ndata_Ag3Bi\\n_symme...</td>\n",
       "      <td>0.045</td>\n",
       "      <td>0.0</td>\n",
       "    </tr>\n",
       "  </tbody>\n",
       "</table>\n",
       "</div>"
      ],
      "text/plain": [
       "                                                 cif  \\\n",
       "0  # generated using pymatgen\\ndata_CeAg2Hg\\n_sym...   \n",
       "1  # generated using pymatgen\\ndata_InAg2\\n_symme...   \n",
       "2  # generated using pymatgen\\ndata_SmAg2\\n_symme...   \n",
       "3  # generated using pymatgen\\ndata_TaAg2\\n_symme...   \n",
       "4  # generated using pymatgen\\ndata_Ag3Bi\\n_symme...   \n",
       "\n",
       "   formation_energy_per_atom  band_gap  \n",
       "0                     -0.162       0.0  \n",
       "1                     -0.019       0.0  \n",
       "2                     -0.289       0.0  \n",
       "3                      0.281       0.0  \n",
       "4                      0.045       0.0  "
      ]
     },
     "execution_count": 7,
     "metadata": {},
     "output_type": "execute_result"
    }
   ],
   "source": [
    "df1 = pd.DataFrame.from_dict(res)\n",
    "df1.head()"
   ]
  },
  {
   "cell_type": "code",
   "execution_count": 8,
   "metadata": {},
   "outputs": [],
   "source": [
    "df1.to_csv('data/wbm/val.csv.gz')"
   ]
  }
 ],
 "metadata": {
  "kernelspec": {
   "display_name": "wyckofftransformer-M7c5dv_y-py3.10",
   "language": "python",
   "name": "python3"
  },
  "language_info": {
   "codemirror_mode": {
    "name": "ipython",
    "version": 3
   },
   "file_extension": ".py",
   "mimetype": "text/x-python",
   "name": "python",
   "nbconvert_exporter": "python",
   "pygments_lexer": "ipython3",
   "version": "3.10.14"
  }
 },
 "nbformat": 4,
 "nbformat_minor": 2
}
