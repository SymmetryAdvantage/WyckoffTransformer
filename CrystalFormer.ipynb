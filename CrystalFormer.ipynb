{
 "cells": [
  {
   "cell_type": "code",
   "execution_count": 21,
   "metadata": {},
   "outputs": [
    {
     "name": "stdout",
     "output_type": "stream",
     "text": [
      "999\n",
      "Full Formula (Tb1 Al2 Ge2)\n",
      "Reduced Formula: Tb(AlGe)2\n",
      "abc   :   4.341395   4.341395   6.632113\n",
      "angles:  90.000000  90.000000 120.000000\n",
      "pbc   :       True       True       True\n",
      "Sites (5)\n",
      "  #  SP           a         b         c\n",
      "---  ----  --------  --------  --------\n",
      "  0  Tb    0         0         0\n",
      "  1  Ge    0.333333  0.666667  0.249565\n",
      "  2  Ge    0.666667  0.333333  0.750435\n",
      "  3  Al    0.333333  0.666667  0.658959\n",
      "  4  Al    0.666667  0.333333  0.341041\n"
     ]
    }
   ],
   "source": [
    "from pathlib import Path\n",
    "import monty.json\n",
    "import pandas as pd\n",
    "import json\n",
    "from ast import literal_eval\n",
    "\n",
    "dataset = pd.read_csv(Path(\"generated\", \"CrystalFormer_mp_20.csv.gz\"))\n",
    "decoder = monty.json.MontyDecoder()\n",
    "structures = dataset.cif.apply(lambda s: decoder.process_decoded(literal_eval(s)))\n",
    "print(len(structures))\n",
    "print(structures[100])"
   ]
  }
 ],
 "metadata": {
  "kernelspec": {
   "display_name": "wyckofftransformer-FeCwefly-py3.12",
   "language": "python",
   "name": "python3"
  },
  "language_info": {
   "codemirror_mode": {
    "name": "ipython",
    "version": 3
   },
   "file_extension": ".py",
   "mimetype": "text/x-python",
   "name": "python",
   "nbconvert_exporter": "python",
   "pygments_lexer": "ipython3",
   "version": "3.12.6"
  }
 },
 "nbformat": 4,
 "nbformat_minor": 2
}
