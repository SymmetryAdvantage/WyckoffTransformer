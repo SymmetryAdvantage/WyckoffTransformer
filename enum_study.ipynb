{
 "cells": [
  {
   "cell_type": "code",
   "execution_count": 105,
   "metadata": {},
   "outputs": [],
   "source": [
    "from wyckoff_transformer.tokenization import load_tensors_and_tokenisers\n",
    "\n",
    "tensors, tokenisers, token_engineers = load_tensors_and_tokenisers(\"matbench_discovery\", \"sg_scalars\")"
   ]
  },
  {
   "cell_type": "code",
   "execution_count": 111,
   "metadata": {},
   "outputs": [
    {
     "data": {
      "text/plain": [
       "145923"
      ]
     },
     "execution_count": 111,
     "metadata": {},
     "output_type": "execute_result"
    }
   ],
   "source": [
    "len(tensors['train']['site_symmetries'])"
   ]
  },
  {
   "cell_type": "code",
   "execution_count": 112,
   "metadata": {},
   "outputs": [
    {
     "data": {
      "text/plain": [
       "256963"
      ]
     },
     "execution_count": 112,
     "metadata": {},
     "output_type": "execute_result"
    }
   ],
   "source": [
    "len(tensors['val']['site_symmetries'])"
   ]
  },
  {
   "cell_type": "code",
   "execution_count": 1,
   "metadata": {},
   "outputs": [],
   "source": [
    "from pyxtal import Group"
   ]
  },
  {
   "cell_type": "code",
   "execution_count": 28,
   "metadata": {},
   "outputs": [],
   "source": [
    "g = Group(162)"
   ]
  },
  {
   "cell_type": "code",
   "execution_count": 104,
   "metadata": {},
   "outputs": [],
   "source": [
    "import numpy as np\n",
    "def check_group(group_number):\n",
    "    group = Group(group_number)\n",
    "    last_site_symmetry = None\n",
    "    last_distace = None\n",
    "    for wyckoff_position in group:\n",
    "        wyckoff_position.get_site_symmetry()\n",
    "        this_distance = np.linalg.norm(wyckoff_position.ops[0].affine_matrix[:3, 3])\n",
    "        #print(wyckoff_position.site_symm, this_distance)\n",
    "        if wyckoff_position.site_symm == last_site_symmetry:\n",
    "            if this_distance > last_distance:\n",
    "                print(f\"Group {group_number} has a Wyckoff position with site symmetry {wyckoff_position.site_symm} that is not ordered by distance\")\n",
    "        last_site_symmetry = wyckoff_position.site_symm\n",
    "        last_distance = this_distance"
   ]
  },
  {
   "cell_type": "code",
   "execution_count": 105,
   "metadata": {},
   "outputs": [
    {
     "name": "stdout",
     "output_type": "stream",
     "text": [
      "Group 13 has a Wyckoff position with site symmetry -1 that is not ordered by distance\n",
      "Group 15 has a Wyckoff position with site symmetry -1 that is not ordered by distance\n",
      "Group 21 has a Wyckoff position with site symmetry ..2 that is not ordered by distance\n",
      "Group 21 has a Wyckoff position with site symmetry 222 that is not ordered by distance\n",
      "Group 22 has a Wyckoff position with site symmetry 222 that is not ordered by distance\n",
      "Group 37 has a Wyckoff position with site symmetry ..2 that is not ordered by distance\n",
      "Group 47 has a Wyckoff position with site symmetry mmm that is not ordered by distance\n",
      "Group 48 has a Wyckoff position with site symmetry -1 that is not ordered by distance\n",
      "Group 49 has a Wyckoff position with site symmetry ..2 that is not ordered by distance\n",
      "Group 49 has a Wyckoff position with site symmetry ..2/m that is not ordered by distance\n",
      "Group 50 has a Wyckoff position with site symmetry 222 that is not ordered by distance\n",
      "Group 53 has a Wyckoff position with site symmetry 2/m.. that is not ordered by distance\n",
      "Group 65 has a Wyckoff position with site symmetry mmm that is not ordered by distance\n",
      "Group 66 has a Wyckoff position with site symmetry ..2 that is not ordered by distance\n",
      "Group 66 has a Wyckoff position with site symmetry ..2/m that is not ordered by distance\n",
      "Group 68 has a Wyckoff position with site symmetry -1 that is not ordered by distance\n",
      "Group 77 has a Wyckoff position with site symmetry 2.. that is not ordered by distance\n",
      "Group 81 has a Wyckoff position with site symmetry 2.. that is not ordered by distance\n",
      "Group 84 has a Wyckoff position with site symmetry 2.. that is not ordered by distance\n",
      "Group 84 has a Wyckoff position with site symmetry 2/m.. that is not ordered by distance\n",
      "Group 86 has a Wyckoff position with site symmetry 2.. that is not ordered by distance\n",
      "Group 89 has a Wyckoff position with site symmetry .2. that is not ordered by distance\n",
      "Group 93 has a Wyckoff position with site symmetry .2. that is not ordered by distance\n",
      "Group 93 has a Wyckoff position with site symmetry 2.. that is not ordered by distance\n",
      "Group 93 has a Wyckoff position with site symmetry 222. that is not ordered by distance\n",
      "Group 105 has a Wyckoff position with site symmetry 2mm. that is not ordered by distance\n",
      "Group 111 has a Wyckoff position with site symmetry .2. that is not ordered by distance\n",
      "Group 111 has a Wyckoff position with site symmetry -42m that is not ordered by distance\n",
      "Group 112 has a Wyckoff position with site symmetry 2.. that is not ordered by distance\n",
      "Group 112 has a Wyckoff position with site symmetry .2. that is not ordered by distance\n",
      "Group 112 has a Wyckoff position with site symmetry 222. that is not ordered by distance\n",
      "Group 115 has a Wyckoff position with site symmetry 2mm. that is not ordered by distance\n",
      "Group 115 has a Wyckoff position with site symmetry -4m2 that is not ordered by distance\n",
      "Group 116 has a Wyckoff position with site symmetry 2.. that is not ordered by distance\n",
      "Group 123 has a Wyckoff position with site symmetry mmm. that is not ordered by distance\n",
      "Group 127 has a Wyckoff position with site symmetry m.mm that is not ordered by distance\n",
      "Group 131 has a Wyckoff position with site symmetry m2m. that is not ordered by distance\n",
      "Group 131 has a Wyckoff position with site symmetry 2mm. that is not ordered by distance\n",
      "Group 131 has a Wyckoff position with site symmetry mmm. that is not ordered by distance\n",
      "Group 134 has a Wyckoff position with site symmetry .2. that is not ordered by distance\n",
      "Group 134 has a Wyckoff position with site symmetry ..2/m that is not ordered by distance\n",
      "Group 137 has a Wyckoff position with site symmetry 2mm. that is not ordered by distance\n",
      "Group 137 has a Wyckoff position with site symmetry -4m2 that is not ordered by distance\n",
      "Group 138 has a Wyckoff position with site symmetry ..2 that is not ordered by distance\n",
      "Group 138 has a Wyckoff position with site symmetry ..2/m that is not ordered by distance\n",
      "Group 141 has a Wyckoff position with site symmetry -4m2 that is not ordered by distance\n",
      "Group 148 has a Wyckoff position with site symmetry -1 that is not ordered by distance\n",
      "Group 149 has a Wyckoff position with site symmetry 322 that is not ordered by distance\n",
      "Group 150 has a Wyckoff position with site symmetry 1 that is not ordered by distance\n",
      "Group 152 has a Wyckoff position with site symmetry 1 that is not ordered by distance\n",
      "Group 153 has a Wyckoff position with site symmetry ..2 that is not ordered by distance\n",
      "Group 154 has a Wyckoff position with site symmetry 1 that is not ordered by distance\n",
      "Group 154 has a Wyckoff position with site symmetry 1 that is not ordered by distance\n",
      "Group 155 has a Wyckoff position with site symmetry 1 that is not ordered by distance\n",
      "Group 165 has a Wyckoff position with site symmetry 1 that is not ordered by distance\n",
      "Group 166 has a Wyckoff position with site symmetry -1 that is not ordered by distance\n",
      "Group 167 has a Wyckoff position with site symmetry 1 that is not ordered by distance\n",
      "Group 174 has a Wyckoff position with site symmetry -6.. that is not ordered by distance\n",
      "Group 187 has a Wyckoff position with site symmetry -622m2 that is not ordered by distance\n",
      "Group 195 has a Wyckoff position with site symmetry 222.. that is not ordered by distance\n",
      "Group 196 has a Wyckoff position with site symmetry 23. that is not ordered by distance\n",
      "Group 200 has a Wyckoff position with site symmetry mmm.. that is not ordered by distance\n",
      "Group 207 has a Wyckoff position with site symmetry 42.2 that is not ordered by distance\n",
      "Group 215 has a Wyckoff position with site symmetry -42.m that is not ordered by distance\n",
      "Group 216 has a Wyckoff position with site symmetry -43m that is not ordered by distance\n",
      "Group 219 has a Wyckoff position with site symmetry -4.. that is not ordered by distance\n",
      "Group 221 has a Wyckoff position with site symmetry 4/mm.m that is not ordered by distance\n",
      "Group 224 has a Wyckoff position with site symmetry ..2 that is not ordered by distance\n"
     ]
    }
   ],
   "source": [
    "for i in range(1, 231):\n",
    "    check_group(i)"
   ]
  },
  {
   "cell_type": "code",
   "execution_count": 106,
   "metadata": {},
   "outputs": [
    {
     "data": {
      "text/plain": [
       "-- Spacegroup --# 49 (Pccm)--\n",
       "8r\tsite symm: 1\n",
       "4q\tsite symm: ..m\n",
       "4p\tsite symm: ..2\n",
       "4o\tsite symm: ..2\n",
       "4n\tsite symm: ..2\n",
       "4m\tsite symm: ..2\n",
       "4l\tsite symm: .2.\n",
       "4k\tsite symm: .2.\n",
       "4j\tsite symm: 2..\n",
       "4i\tsite symm: 2..\n",
       "2h\tsite symm: 222\n",
       "2g\tsite symm: 222\n",
       "2f\tsite symm: 222\n",
       "2e\tsite symm: 222\n",
       "2d\tsite symm: ..2/m\n",
       "2c\tsite symm: ..2/m\n",
       "2b\tsite symm: ..2/m\n",
       "2a\tsite symm: ..2/m"
      ]
     },
     "execution_count": 106,
     "metadata": {},
     "output_type": "execute_result"
    }
   ],
   "source": [
    "Group(49)"
   ]
  },
  {
   "cell_type": "code",
   "execution_count": 101,
   "metadata": {},
   "outputs": [
    {
     "data": {
      "text/plain": [
       "array([[0. , 0. , 0. , 0.5],\n",
       "       [0. , 0. , 0. , 0.5],\n",
       "       [0. , 0. , 0. , 0.5],\n",
       "       [0. , 0. , 0. , 1. ]])"
      ]
     },
     "execution_count": 101,
     "metadata": {},
     "output_type": "execute_result"
    }
   ],
   "source": [
    "Group(13)[-2].ops[1].affine_matrix"
   ]
  },
  {
   "cell_type": "code",
   "execution_count": 98,
   "metadata": {},
   "outputs": [
    {
     "data": {
      "text/plain": [
       "array([[0. , 0. , 0. , 0. ],\n",
       "       [0. , 0. , 0. , 0.5],\n",
       "       [0. , 0. , 0. , 0. ],\n",
       "       [0. , 0. , 0. , 1. ]])"
      ]
     },
     "execution_count": 98,
     "metadata": {},
     "output_type": "execute_result"
    }
   ],
   "source": [
    "Group(13)[-3].ops[0].affine_matrix"
   ]
  },
  {
   "cell_type": "code",
   "execution_count": 100,
   "metadata": {},
   "outputs": [
    {
     "data": {
      "text/plain": [
       "-- Spacegroup --# 13 (P2/c)--\n",
       "4g\tsite symm: 1\n",
       "2f\tsite symm: 2\n",
       "2e\tsite symm: 2\n",
       "2d\tsite symm: -1\n",
       "2c\tsite symm: -1\n",
       "2b\tsite symm: -1\n",
       "2a\tsite symm: -1"
      ]
     },
     "execution_count": 100,
     "metadata": {},
     "output_type": "execute_result"
    }
   ],
   "source": [
    "Group(13)"
   ]
  },
  {
   "cell_type": "code",
   "execution_count": 89,
   "metadata": {},
   "outputs": [
    {
     "ename": "IndexError",
     "evalue": "list index out of range",
     "output_type": "error",
     "traceback": [
      "\u001b[0;31m---------------------------------------------------------------------------\u001b[0m",
      "\u001b[0;31mIndexError\u001b[0m                                Traceback (most recent call last)",
      "Cell \u001b[0;32mIn[89], line 1\u001b[0m\n\u001b[0;32m----> 1\u001b[0m \u001b[43mGroup\u001b[49m\u001b[43m(\u001b[49m\u001b[38;5;241;43m13\u001b[39;49m\u001b[43m)\u001b[49m\u001b[43m[\u001b[49m\u001b[38;5;241;43m7\u001b[39;49m\u001b[43m]\u001b[49m\n",
      "File \u001b[0;32m~/.cache/pypoetry/virtualenvs/wyckofftransformer-FeCwefly-py3.12/lib/python3.12/site-packages/pyxtal/symmetry.py:846\u001b[0m, in \u001b[0;36mGroup.__getitem__\u001b[0;34m(self, index)\u001b[0m\n\u001b[1;32m    845\u001b[0m \u001b[38;5;28;01mdef\u001b[39;00m \u001b[38;5;21m__getitem__\u001b[39m(\u001b[38;5;28mself\u001b[39m, index):\n\u001b[0;32m--> 846\u001b[0m     \u001b[38;5;28;01mreturn\u001b[39;00m \u001b[38;5;28;43mself\u001b[39;49m\u001b[38;5;241;43m.\u001b[39;49m\u001b[43mget_wyckoff_position\u001b[49m\u001b[43m(\u001b[49m\u001b[43mindex\u001b[49m\u001b[43m)\u001b[49m\n",
      "File \u001b[0;32m~/.cache/pypoetry/virtualenvs/wyckofftransformer-FeCwefly-py3.12/lib/python3.12/site-packages/pyxtal/symmetry.py:1111\u001b[0m, in \u001b[0;36mGroup.get_wyckoff_position\u001b[0;34m(self, index)\u001b[0m\n\u001b[1;32m   1109\u001b[0m             \u001b[38;5;28;01mbreak\u001b[39;00m\n\u001b[1;32m   1110\u001b[0m     index \u001b[38;5;241m=\u001b[39m index_from_letter(letter, \u001b[38;5;28mself\u001b[39m\u001b[38;5;241m.\u001b[39mwyckoffs, dim\u001b[38;5;241m=\u001b[39m\u001b[38;5;28mself\u001b[39m\u001b[38;5;241m.\u001b[39mdim)\n\u001b[0;32m-> 1111\u001b[0m \u001b[38;5;28;01mreturn\u001b[39;00m \u001b[38;5;28;43mself\u001b[39;49m\u001b[38;5;241;43m.\u001b[39;49m\u001b[43mWyckoff_positions\u001b[49m\u001b[43m[\u001b[49m\u001b[43mindex\u001b[49m\u001b[43m]\u001b[49m\n",
      "\u001b[0;31mIndexError\u001b[0m: list index out of range"
     ]
    }
   ],
   "source": [
    "Group(13)[7]"
   ]
  },
  {
   "cell_type": "code",
   "execution_count": 38,
   "metadata": {},
   "outputs": [
    {
     "data": {
      "text/plain": [
       "array([[ 1.,  0.,  0.,  0.],\n",
       "       [-1.,  0.,  0.,  0.],\n",
       "       [ 0.,  0.,  0.,  0.],\n",
       "       [ 0.,  0.,  0.,  1.]])"
      ]
     },
     "execution_count": 38,
     "metadata": {},
     "output_type": "execute_result"
    }
   ],
   "source": [
    "g[3].ops[0].affine_matrix"
   ]
  },
  {
   "cell_type": "code",
   "execution_count": 34,
   "metadata": {},
   "outputs": [
    {
     "data": {
      "text/plain": [
       "[SymmOp(self.affine_matrix=array([[ 1. ,  0. ,  0. ,  0. ],\n",
       "        [-1. ,  0. ,  0. ,  0. ],\n",
       "        [ 0. ,  0. ,  0. ,  0.5],\n",
       "        [ 0. ,  0. ,  0. ,  1. ]])),\n",
       " SymmOp(self.affine_matrix=array([[1. , 0. , 0. , 0. ],\n",
       "        [2. , 0. , 0. , 0. ],\n",
       "        [0. , 0. , 0. , 0.5],\n",
       "        [0. , 0. , 0. , 1. ]])),\n",
       " SymmOp(self.affine_matrix=array([[-2. ,  0. ,  0. ,  0. ],\n",
       "        [-1. ,  0. ,  0. ,  0. ],\n",
       "        [ 0. ,  0. ,  0. ,  0.5],\n",
       "        [ 0. ,  0. ,  0. ,  1. ]])),\n",
       " SymmOp(self.affine_matrix=array([[-1. ,  0. ,  0. ,  0. ],\n",
       "        [ 1. ,  0. ,  0. ,  0. ],\n",
       "        [ 0. ,  0. ,  0. ,  0.5],\n",
       "        [ 0. ,  0. ,  0. ,  1. ]])),\n",
       " SymmOp(self.affine_matrix=array([[-1. ,  0. ,  0. ,  0. ],\n",
       "        [-2. ,  0. ,  0. ,  0. ],\n",
       "        [ 0. ,  0. ,  0. ,  0.5],\n",
       "        [ 0. ,  0. ,  0. ,  1. ]])),\n",
       " SymmOp(self.affine_matrix=array([[2. , 0. , 0. , 0. ],\n",
       "        [1. , 0. , 0. , 0. ],\n",
       "        [0. , 0. , 0. , 0.5],\n",
       "        [0. , 0. , 0. , 1. ]]))]"
      ]
     },
     "execution_count": 34,
     "metadata": {},
     "output_type": "execute_result"
    }
   ],
   "source": [
    "g[2].ops"
   ]
  },
  {
   "cell_type": "code",
   "execution_count": 27,
   "metadata": {},
   "outputs": [
    {
     "data": {
      "text/plain": [
       "SymmOp(self.affine_matrix=array([[1., 0., 0., 0.],\n",
       "       [0., 0., 0., 0.],\n",
       "       [0., 0., 1., 0.],\n",
       "       [0., 0., 0., 1.]]))"
      ]
     },
     "execution_count": 27,
     "metadata": {},
     "output_type": "execute_result"
    }
   ],
   "source": [
    "s.ops[0]"
   ]
  },
  {
   "cell_type": "code",
   "execution_count": 25,
   "metadata": {},
   "outputs": [
    {
     "ename": "TypeError",
     "evalue": "Wyckoff_position.get_euclidean_generator() missing 1 required positional argument: 'cell'",
     "output_type": "error",
     "traceback": [
      "\u001b[0;31m---------------------------------------------------------------------------\u001b[0m",
      "\u001b[0;31mTypeError\u001b[0m                                 Traceback (most recent call last)",
      "Cell \u001b[0;32mIn[25], line 1\u001b[0m\n\u001b[0;32m----> 1\u001b[0m \u001b[43mg\u001b[49m\u001b[43m[\u001b[49m\u001b[38;5;241;43m-\u001b[39;49m\u001b[38;5;241;43m2\u001b[39;49m\u001b[43m]\u001b[49m\u001b[38;5;241;43m.\u001b[39;49m\u001b[43mget_euclidean_generator\u001b[49m\u001b[43m(\u001b[49m\u001b[43m)\u001b[49m\n",
      "\u001b[0;31mTypeError\u001b[0m: Wyckoff_position.get_euclidean_generator() missing 1 required positional argument: 'cell'"
     ]
    }
   ],
   "source": [
    "g[-2].get_euclidean_generator()"
   ]
  },
  {
   "cell_type": "code",
   "execution_count": 18,
   "metadata": {},
   "outputs": [
    {
     "data": {
      "text/plain": [
       "array([0., 0., 0.])"
      ]
     },
     "execution_count": 18,
     "metadata": {},
     "output_type": "execute_result"
    }
   ],
   "source": [
    "s.project((1,1,1))"
   ]
  },
  {
   "cell_type": "code",
   "execution_count": 101,
   "metadata": {},
   "outputs": [
    {
     "data": {
      "text/plain": [
       "[SymmOp(self.affine_matrix=array([[0.        , 0.        , 0.        , 0.33333333],\n",
       "        [0.        , 0.        , 0.        , 0.66666667],\n",
       "        [0.        , 0.        , 0.        , 0.5       ],\n",
       "        [0.        , 0.        , 0.        , 1.        ]])),\n",
       " SymmOp(self.affine_matrix=array([[0.        , 0.        , 0.        , 0.66666667],\n",
       "        [0.        , 0.        , 0.        , 0.33333333],\n",
       "        [0.        , 0.        , 0.        , 0.5       ],\n",
       "        [0.        , 0.        , 0.        , 1.        ]]))]"
      ]
     },
     "execution_count": 101,
     "metadata": {},
     "output_type": "execute_result"
    }
   ],
   "source": [
    "s.ops"
   ]
  },
  {
   "cell_type": "code",
   "execution_count": 103,
   "metadata": {},
   "outputs": [
    {
     "data": {
      "text/plain": [
       "[SymmOp(self.affine_matrix=array([[0. , 0. , 0. , 0. ],\n",
       "        [0. , 0. , 0. , 0. ],\n",
       "        [0. , 0. , 0. , 0.5],\n",
       "        [0. , 0. , 0. , 1. ]]))]"
      ]
     },
     "execution_count": 103,
     "metadata": {},
     "output_type": "execute_result"
    }
   ],
   "source": [
    "g[-2].ops"
   ]
  },
  {
   "cell_type": "code",
   "execution_count": 104,
   "metadata": {},
   "outputs": [
    {
     "data": {
      "text/plain": [
       "[SymmOp(self.affine_matrix=array([[0., 0., 0., 0.],\n",
       "        [0., 0., 0., 0.],\n",
       "        [0., 0., 0., 0.],\n",
       "        [0., 0., 0., 1.]]))]"
      ]
     },
     "execution_count": 104,
     "metadata": {},
     "output_type": "execute_result"
    }
   ],
   "source": [
    "g[-1].ops"
   ]
  },
  {
   "cell_type": "code",
   "execution_count": 62,
   "metadata": {},
   "outputs": [
    {
     "data": {
      "text/plain": [
       "[SymmOp(self.affine_matrix=array([[0.        , 0.        , 0.        , 0.33333333],\n",
       "        [0.        , 0.        , 0.        , 0.66666667],\n",
       "        [0.        , 0.        , 0.        , 0.        ],\n",
       "        [0.        , 0.        , 0.        , 1.        ]])),\n",
       " SymmOp(self.affine_matrix=array([[0.        , 0.        , 0.        , 0.66666667],\n",
       "        [0.        , 0.        , 0.        , 0.33333333],\n",
       "        [0.        , 0.        , 0.        , 0.        ],\n",
       "        [0.        , 0.        , 0.        , 1.        ]]))]"
      ]
     },
     "execution_count": 62,
     "metadata": {},
     "output_type": "execute_result"
    }
   ],
   "source": [
    "g[-3].ops"
   ]
  },
  {
   "cell_type": "code",
   "execution_count": null,
   "metadata": {},
   "outputs": [
    {
     "data": {
      "text/plain": [
       "[SymmOp(self.affine_matrix=array([[0.        , 0.        , 0.        , 0.33333333],\n",
       "        [0.        , 0.        , 0.        , 0.66666667],\n",
       "        [0.        , 0.        , 0.        , 0.5       ],\n",
       "        [0.        , 0.        , 0.        , 1.        ]])),\n",
       " SymmOp(self.affine_matrix=array([[0.        , 0.        , 0.        , 0.66666667],\n",
       "        [0.        , 0.        , 0.        , 0.33333333],\n",
       "        [0.        , 0.        , 0.        , 0.5       ],\n",
       "        [0.        , 0.        , 0.        , 1.        ]]))]"
      ]
     },
     "execution_count": 63,
     "metadata": {},
     "output_type": "execute_result"
    }
   ],
   "source": [
    "g[-4]."
   ]
  },
  {
   "cell_type": "code",
   "execution_count": 39,
   "metadata": {},
   "outputs": [
    {
     "data": {
      "text/plain": [
       "array([[0, 0, 0, 0, 0, 1, 0, 0, 0, 0, 0, 0, 0],\n",
       "       [0, 0, 0, 0, 0, 1, 0, 0, 0, 0, 0, 0, 0],\n",
       "       [0, 0, 0, 0, 0, 0, 0, 0, 1, 0, 0, 0, 0],\n",
       "       [0, 1, 0, 0, 0, 0, 0, 0, 0, 0, 0, 0, 0],\n",
       "       [0, 1, 0, 0, 0, 0, 0, 0, 0, 0, 0, 0, 0],\n",
       "       [0, 1, 0, 0, 0, 0, 0, 0, 0, 0, 0, 0, 0],\n",
       "       [0, 1, 0, 0, 0, 0, 0, 0, 0, 0, 0, 0, 0],\n",
       "       [0, 0, 0, 0, 0, 1, 0, 0, 0, 0, 0, 0, 0],\n",
       "       [0, 1, 0, 0, 0, 0, 0, 0, 0, 0, 0, 0, 0],\n",
       "       [0, 1, 0, 0, 0, 0, 0, 0, 0, 0, 0, 0, 0],\n",
       "       [0, 1, 0, 0, 0, 0, 0, 0, 0, 0, 0, 0, 0],\n",
       "       [0, 1, 0, 0, 0, 0, 0, 0, 0, 0, 0, 0, 0],\n",
       "       [0, 1, 0, 0, 0, 0, 0, 0, 0, 0, 0, 0, 0],\n",
       "       [0, 1, 0, 0, 0, 0, 0, 0, 0, 0, 0, 0, 0],\n",
       "       [0, 1, 0, 0, 0, 0, 0, 0, 0, 0, 0, 0, 0]])"
      ]
     },
     "execution_count": 39,
     "metadata": {},
     "output_type": "execute_result"
    }
   ],
   "source": [
    "g[-2].get_site_symmetry_object().to_one_hot()"
   ]
  },
  {
   "cell_type": "code",
   "execution_count": 20,
   "metadata": {},
   "outputs": [
    {
     "data": {
      "text/plain": [
       "-- Spacegroup --# 150 (P321)--\n",
       "6g\tsite symm: 1\n",
       "3f\tsite symm: 1\n",
       "3e\tsite symm: 1\n",
       "2d\tsite symm: 3..\n",
       "2c\tsite symm: 3..\n",
       "1b\tsite symm: 32.\n",
       "1a\tsite symm: 32."
      ]
     },
     "execution_count": 20,
     "metadata": {},
     "output_type": "execute_result"
    }
   ],
   "source": [
    "g"
   ]
  }
 ],
 "metadata": {
  "kernelspec": {
   "display_name": "wyckofftransformer-FeCwefly-py3.12",
   "language": "python",
   "name": "python3"
  },
  "language_info": {
   "codemirror_mode": {
    "name": "ipython",
    "version": 3
   },
   "file_extension": ".py",
   "mimetype": "text/x-python",
   "name": "python",
   "nbconvert_exporter": "python",
   "pygments_lexer": "ipython3",
   "version": "3.12.3"
  }
 },
 "nbformat": 4,
 "nbformat_minor": 2
}
