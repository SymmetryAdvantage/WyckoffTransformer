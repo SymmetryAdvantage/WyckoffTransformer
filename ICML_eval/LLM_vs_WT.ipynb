{
 "cells": [
  {
   "cell_type": "code",
   "execution_count": 1,
   "metadata": {},
   "outputs": [
    {
     "name": "stderr",
     "output_type": "stream",
     "text": [
      "/home/kna/.cache/pypoetry/virtualenvs/wyckofftransformer-FeCwefly-py3.12/lib/python3.12/site-packages/matminer/utils/data.py:326: UserWarning: MagpieData(impute_nan=False):\n",
      "In a future release, impute_nan will be set to True by default.\n",
      "                    This means that features that are missing or are NaNs for elements\n",
      "                    from the data source will be replaced by the average of that value\n",
      "                    over the available elements.\n",
      "                    This avoids NaNs after featurization that are often replaced by\n",
      "                    dataset-dependent averages.\n",
      "  warnings.warn(f\"{self.__class__.__name__}(impute_nan=False):\\n\" + IMPUTE_NAN_WARNING)\n"
     ]
    }
   ],
   "source": [
    "from typing import Tuple\n",
    "import pandas as pd\n",
    "from tqdm.notebook import tqdm\n",
    "import sys\n",
    "sys.path.append('..')\n",
    "from evaluation.generated_dataset import GeneratedDataset, load_all_from_config\n",
    "from evaluation.novelty import NoveltyFilter, filter_by_unique_structure"
   ]
  },
  {
   "cell_type": "code",
   "execution_count": 2,
   "metadata": {},
   "outputs": [],
   "source": [
    "datasets = {\n",
    "    \"WyckoffTransformer\": (\"WyckoffTransformer\",),\n",
    "    \"WyckoffLLM-naive\": (\"WyckoffLLM-naive\",),\n",
    "    \"WyckoffLLM-vanilla\": (\"WyckoffLLM-vanilla\",),\n",
    "    \"WyckoffLLM-site-symmetry\": (\"WyckoffLLM-site-symmetry\",),\n",
    "}"
   ]
  },
  {
   "cell_type": "code",
   "execution_count": 3,
   "metadata": {},
   "outputs": [],
   "source": [
    "all_datasets = load_all_from_config(\n",
    "    datasets=list(datasets.values()) + [(\"split\", \"train\"), (\"split\", \"val\"), (\"split\", \"test\")],\n",
    "    dataset_name=\"mp_20\")"
   ]
  },
  {
   "cell_type": "code",
   "execution_count": 4,
   "metadata": {},
   "outputs": [],
   "source": [
    "novelty_reference = pd.concat([\n",
    "    all_datasets[('split', 'train')].data,\n",
    "    all_datasets[('split', 'val')].data], axis=0, verify_integrity=True)\n",
    "novelty_filter = NoveltyFilter(novelty_reference)"
   ]
  },
  {
   "cell_type": "code",
   "execution_count": 5,
   "metadata": {},
   "outputs": [],
   "source": [
    "import evaluation.statistical_evaluator\n",
    "test_evaluator = evaluation.statistical_evaluator.StatisticalEvaluator(all_datasets[('split', 'test')].data)"
   ]
  },
  {
   "cell_type": "code",
   "execution_count": 6,
   "metadata": {},
   "outputs": [],
   "source": [
    "train_w_template_set = frozenset(novelty_reference.apply(\n",
    "    evaluation.novelty.record_to_anonymous_fingerprint, axis=1))"
   ]
  },
  {
   "cell_type": "code",
   "execution_count": 7,
   "metadata": {},
   "outputs": [
    {
     "data": {
      "application/vnd.jupyter.widget-view+json": {
       "model_id": "775851b771a640ccb757a6056a8a941a",
       "version_major": 2,
       "version_minor": 0
      },
      "text/plain": [
       "  0%|          | 0/4 [00:00<?, ?it/s]"
      ]
     },
     "metadata": {},
     "output_type": "display_data"
    },
    {
     "name": "stdout",
     "output_type": "stream",
     "text": [
      "9887 10000 0.9887\n",
      "9540 9618 0.991890205864005\n",
      "1261 2902 0.43452791178497585\n",
      "8847 8971 0.986177683647308\n"
     ]
    }
   ],
   "source": [
    "table = pd.DataFrame(\n",
    "    index=datasets.keys(), columns=[\n",
    "        \"Novelty (%)\", \"Structural\", \"Compositional\", \n",
    "        \"Recall\", \"Precision\",\n",
    "        r\"$\\rho$\", \"$E$\", \"# Elements\",\n",
    "        \"S.U.N. (%)\",\n",
    "        \"Novel Template (%)\", \"P1 (%)\",\n",
    "        \"Space Group\", \"S.S.U.N. (%)\"])\n",
    "table.index.name = \"Method\"\n",
    "E_hull_threshold = 0.08\n",
    "\n",
    "for name, transformations in tqdm(datasets.items()):\n",
    "    dataset = all_datasets[transformations]\n",
    "    unique = filter_by_unique_structure(dataset.data)\n",
    "    print(len(unique), len(dataset.data), len(unique) / len(dataset.data))\n",
    "    novel_template = ~unique.apply(evaluation.novelty.record_to_anonymous_fingerprint, axis=1).isin(train_w_template_set)\n",
    "    table.loc[name, \"Novel Template (%)\"] = 100 * novel_template.mean()\n",
    "    novel = novelty_filter.get_novel(unique)\n",
    "    table.loc[name, \"Novelty (%)\"] = 100 * len(novel) / len(unique)\n",
    "    if \"structural_validity\" in novel.columns:\n",
    "        table.loc[name, \"Structural\"] = 100 * novel.structural_validity.mean()\n",
    "    table.loc[name, \"Compositional\"] = 100 * novel.smact_validity.mean()\n",
    "    if \"cdvae_crystal\" in novel.columns:\n",
    "        cov_metrics = test_evaluator.get_coverage(novel.cdvae_crystal)    \n",
    "        table.loc[name, \"Recall\"] = 100 * cov_metrics[\"cov_recall\"]\n",
    "        table.loc[name, \"Precision\"] = 100 * cov_metrics[\"cov_precision\"]\n",
    "        novel = novel[novel.structural_validity]\n",
    "        table.loc[name, r\"$\\rho$\"] = test_evaluator.get_density_emd(novel)\n",
    "        table.loc[name, \"$E$\"] = test_evaluator.get_cdvae_e_emd(novel)\n",
    "        table.loc[name, \"# Elements\"] = test_evaluator.get_num_elements_emd(novel)\n",
    "    table.loc[name, \"P1 (%)\"] = 100 * (novel.group == 1).mean()\n",
    "    # table.loc[name, \"# DoF\"] = test_evaluator.get_dof_emd(novel)\n",
    "    table.loc[name, \"Space Group\"] = test_evaluator.get_sg_chi2(novel)\n",
    "    #try:\n",
    "    #    table.loc[name, \"SG preserved (%)\"] = 100 * is_sg_preserved(novel.spacegroup_number, transformations).mean()\n",
    "    #except KeyError:\n",
    "    #    pass\n",
    "    #table.loc[name, \"Elements\"] = test_evaluator.get_elements_chi2(novel)\n",
    "    if \"corrected_chgnet_ehull\" in novel.columns:\n",
    "        # S.U.N. is measured with respect to the initial structures\n",
    "        has_ehull = dataset.data.corrected_chgnet_ehull.notna().sum()\n",
    "        is_sun = (novel.corrected_chgnet_ehull <= E_hull_threshold)\n",
    "        table.loc[name, \"S.U.N. (%)\"] = 100 * is_sun.sum() / has_ehull.sum()\n",
    "        table.loc[name, \"S.S.U.N. (%)\"] = 100 * (is_sun & (novel.group != 1)).sum() / has_ehull.sum()"
   ]
  },
  {
   "cell_type": "code",
   "execution_count": 8,
   "metadata": {},
   "outputs": [
    {
     "data": {
      "text/html": [
       "<div>\n",
       "<style scoped>\n",
       "    .dataframe tbody tr th:only-of-type {\n",
       "        vertical-align: middle;\n",
       "    }\n",
       "\n",
       "    .dataframe tbody tr th {\n",
       "        vertical-align: top;\n",
       "    }\n",
       "\n",
       "    .dataframe thead th {\n",
       "        text-align: right;\n",
       "    }\n",
       "</style>\n",
       "<table border=\"1\" class=\"dataframe\">\n",
       "  <thead>\n",
       "    <tr style=\"text-align: right;\">\n",
       "      <th></th>\n",
       "      <th>Novelty (%)</th>\n",
       "      <th>Structural</th>\n",
       "      <th>Compositional</th>\n",
       "      <th>Recall</th>\n",
       "      <th>Precision</th>\n",
       "      <th>$\\rho$</th>\n",
       "      <th>$E$</th>\n",
       "      <th># Elements</th>\n",
       "      <th>S.U.N. (%)</th>\n",
       "      <th>Novel Template (%)</th>\n",
       "      <th>P1 (%)</th>\n",
       "      <th>Space Group</th>\n",
       "      <th>S.S.U.N. (%)</th>\n",
       "    </tr>\n",
       "    <tr>\n",
       "      <th>Method</th>\n",
       "      <th></th>\n",
       "      <th></th>\n",
       "      <th></th>\n",
       "      <th></th>\n",
       "      <th></th>\n",
       "      <th></th>\n",
       "      <th></th>\n",
       "      <th></th>\n",
       "      <th></th>\n",
       "      <th></th>\n",
       "      <th></th>\n",
       "      <th></th>\n",
       "      <th></th>\n",
       "    </tr>\n",
       "  </thead>\n",
       "  <tbody>\n",
       "    <tr>\n",
       "      <th>WyckoffTransformer</th>\n",
       "      <td>90.674623</td>\n",
       "      <td>NaN</td>\n",
       "      <td>81.63971</td>\n",
       "      <td>NaN</td>\n",
       "      <td>NaN</td>\n",
       "      <td>NaN</td>\n",
       "      <td>NaN</td>\n",
       "      <td>NaN</td>\n",
       "      <td>NaN</td>\n",
       "      <td>23.596642</td>\n",
       "      <td>1.952036</td>\n",
       "      <td>0.056771</td>\n",
       "      <td>NaN</td>\n",
       "    </tr>\n",
       "    <tr>\n",
       "      <th>WyckoffLLM-naive</th>\n",
       "      <td>94.633124</td>\n",
       "      <td>NaN</td>\n",
       "      <td>81.302614</td>\n",
       "      <td>NaN</td>\n",
       "      <td>NaN</td>\n",
       "      <td>NaN</td>\n",
       "      <td>NaN</td>\n",
       "      <td>NaN</td>\n",
       "      <td>NaN</td>\n",
       "      <td>28.878407</td>\n",
       "      <td>1.783341</td>\n",
       "      <td>0.058131</td>\n",
       "      <td>NaN</td>\n",
       "    </tr>\n",
       "    <tr>\n",
       "      <th>WyckoffLLM-vanilla</th>\n",
       "      <td>97.224425</td>\n",
       "      <td>NaN</td>\n",
       "      <td>87.683524</td>\n",
       "      <td>NaN</td>\n",
       "      <td>NaN</td>\n",
       "      <td>NaN</td>\n",
       "      <td>NaN</td>\n",
       "      <td>NaN</td>\n",
       "      <td>NaN</td>\n",
       "      <td>31.48295</td>\n",
       "      <td>0.734095</td>\n",
       "      <td>0.482112</td>\n",
       "      <td>NaN</td>\n",
       "    </tr>\n",
       "    <tr>\n",
       "      <th>WyckoffLLM-site-symmetry</th>\n",
       "      <td>90.075732</td>\n",
       "      <td>NaN</td>\n",
       "      <td>81.402936</td>\n",
       "      <td>NaN</td>\n",
       "      <td>NaN</td>\n",
       "      <td>NaN</td>\n",
       "      <td>NaN</td>\n",
       "      <td>NaN</td>\n",
       "      <td>NaN</td>\n",
       "      <td>20.063298</td>\n",
       "      <td>2.183461</td>\n",
       "      <td>0.072809</td>\n",
       "      <td>NaN</td>\n",
       "    </tr>\n",
       "  </tbody>\n",
       "</table>\n",
       "</div>"
      ],
      "text/plain": [
       "                         Novelty (%) Structural Compositional Recall  \\\n",
       "Method                                                                 \n",
       "WyckoffTransformer         90.674623        NaN      81.63971    NaN   \n",
       "WyckoffLLM-naive           94.633124        NaN     81.302614    NaN   \n",
       "WyckoffLLM-vanilla         97.224425        NaN     87.683524    NaN   \n",
       "WyckoffLLM-site-symmetry   90.075732        NaN     81.402936    NaN   \n",
       "\n",
       "                         Precision $\\rho$  $E$ # Elements S.U.N. (%)  \\\n",
       "Method                                                                 \n",
       "WyckoffTransformer             NaN    NaN  NaN        NaN        NaN   \n",
       "WyckoffLLM-naive               NaN    NaN  NaN        NaN        NaN   \n",
       "WyckoffLLM-vanilla             NaN    NaN  NaN        NaN        NaN   \n",
       "WyckoffLLM-site-symmetry       NaN    NaN  NaN        NaN        NaN   \n",
       "\n",
       "                         Novel Template (%)    P1 (%) Space Group S.S.U.N. (%)  \n",
       "Method                                                                          \n",
       "WyckoffTransformer                23.596642  1.952036    0.056771          NaN  \n",
       "WyckoffLLM-naive                  28.878407  1.783341    0.058131          NaN  \n",
       "WyckoffLLM-vanilla                 31.48295  0.734095    0.482112          NaN  \n",
       "WyckoffLLM-site-symmetry          20.063298  2.183461    0.072809          NaN  "
      ]
     },
     "execution_count": 8,
     "metadata": {},
     "output_type": "execute_result"
    }
   ],
   "source": [
    "table"
   ]
  },
  {
   "cell_type": "code",
   "execution_count": 9,
   "metadata": {},
   "outputs": [],
   "source": [
    "mp_20 = pd.concat([\n",
    "    GeneratedDataset.from_cache(('split', 'train'), 'mp_20').data,\n",
    "    GeneratedDataset.from_cache(('split', 'val'), 'mp_20').data,\n",
    "    GeneratedDataset.from_cache(('split', 'test'), 'mp_20').data],\n",
    "    axis=0)\n",
    "import numpy as np\n",
    "mp_20_sgs = np.histogram(mp_20.spacegroup_number, bins=range(1, 231))"
   ]
  },
  {
   "cell_type": "code",
   "execution_count": 10,
   "metadata": {},
   "outputs": [],
   "source": [
    "generated = dict(zip([x[0] for x in all_datasets.keys()], [x.data for x in all_datasets.values()]))"
   ]
  },
  {
   "cell_type": "code",
   "execution_count": 11,
   "metadata": {},
   "outputs": [],
   "source": [
    "sg_order = np.argsort(mp_20_sgs[0])[::-1]\n",
    "wyformer_sgs = np.histogram(generated['WyckoffTransformer'].spacegroup_number, bins=range(1, 231))\n",
    "wyllm_sgs = np.histogram(generated['WyckoffLLM-naive'].spacegroup_number, bins=range(1, 231))"
   ]
  },
  {
   "cell_type": "code",
   "execution_count": 12,
   "metadata": {},
   "outputs": [],
   "source": [
    "import pyxtal\n",
    "from matplotlib import pyplot as plt"
   ]
  },
  {
   "cell_type": "code",
   "execution_count": null,
   "metadata": {},
   "outputs": [
    {
     "data": {
      "image/png": "[encoded data removed]",
      "text/plain": [
       "<Figure size 640x480 with 1 Axes>"
      ]
     },
     "metadata": {},
     "output_type": "display_data"
    }
   ],
   "source": [
    "fig, ax = plt.subplots()\n",
    "\n",
    "ax.bar(wyformer_sgs[1][:-1], wyformer_sgs[0][sg_order] / wyformer_sgs[0].sum(), alpha=0.5, label='WyFormer', color='green')\n",
    "ax.bar(wyllm_sgs[1][:-1], wyllm_sgs[0][sg_order] / wyllm_sgs[0].sum(), alpha=0.6, label='WyLLM', color='orange')\n",
    "ax.step(mp_20_sgs[1][:-1], mp_20_sgs[0][sg_order] / mp_20_sgs[0].sum(), label='MP-20', where='mid')\n",
    "chosen_groups_ticks = (wyllm_sgs[0][sg_order] / wyllm_sgs[0].sum() > 0.03)\n",
    "ax.set_xticks(np.arange(1, 230)[chosen_groups_ticks])\n",
    "ax.set_xticklabels([pyxtal.Group(g).symbol for g in np.arange(1, 230)[sg_order][chosen_groups_ticks]], rotation=90)\n",
    "ax.set_xlabel('Spacegroups, in descending order of frequency in MP-20')\n",
    "ax.set_xlim(0, 50)\n",
    "ax.set_ylabel('Histogram density')\n",
    "ax.set_title('Space group distribution')\n",
    "ax.legend()\n",
    "fig.tight_layout()\n",
    "fig.savefig('../plots/ICLR_rebuttal/space_groups_wt_vs_wyllm_top50.pdf');"
   ]
  }
 ],
 "metadata": {
  "kernelspec": {
   "display_name": "wyckofftransformer-FeCwefly-py3.12",
   "language": "python",
   "name": "python3"
  },
  "language_info": {
   "codemirror_mode": {
    "name": "ipython",
    "version": 3
   },
   "file_extension": ".py",
   "mimetype": "text/x-python",
   "name": "python",
   "nbconvert_exporter": "python",
   "pygments_lexer": "ipython3",
   "version": "3.12.3"
  }
 },
 "nbformat": 4,
 "nbformat_minor": 2
}
