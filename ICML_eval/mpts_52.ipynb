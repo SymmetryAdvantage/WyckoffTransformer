{
 "cells": [
  {
   "cell_type": "code",
   "execution_count": 1,
   "metadata": {},
   "outputs": [
    {
     "name": "stderr",
     "output_type": "stream",
     "text": [
      "/home/kna/.cache/pypoetry/virtualenvs/wyckofftransformer-FeCwefly-py3.12/lib/python3.12/site-packages/matminer/utils/data.py:326: UserWarning: MagpieData(impute_nan=False):\n",
      "In a future release, impute_nan will be set to True by default.\n",
      "                    This means that features that are missing or are NaNs for elements\n",
      "                    from the data source will be replaced by the average of that value\n",
      "                    over the available elements.\n",
      "                    This avoids NaNs after featurization that are often replaced by\n",
      "                    dataset-dependent averages.\n",
      "  warnings.warn(f\"{self.__class__.__name__}(impute_nan=False):\\n\" + IMPUTE_NAN_WARNING)\n"
     ]
    }
   ],
   "source": [
    "from typing import Tuple\n",
    "import pandas as pd\n",
    "from tqdm.notebook import tqdm\n",
    "import sys\n",
    "sys.path.append('..')\n",
    "from evaluation.generated_dataset import GeneratedDataset, load_all_from_config\n",
    "from evaluation.novelty import NoveltyFilter, filter_by_unique_structure"
   ]
  },
  {
   "cell_type": "code",
   "execution_count": 2,
   "metadata": {},
   "outputs": [],
   "source": [
    "raw_datasets = {\n",
    "    \"WyFormer\": (\"WyckoffTransformer\", ),\n",
    "    \"SymmCD\": (\"SymmCD\", ),\n",
    "    \"WyFormer-CHGNet\": (\"WyckoffTransformer\", \"CrySPR\", \"CHGNet_fix\"),\n",
    "    \"SymmCD-CHGNet\": (\"SymmCD\", \"CHGNet_fix\")\n",
    "}"
   ]
  },
  {
   "cell_type": "code",
   "execution_count": 3,
   "metadata": {},
   "outputs": [],
   "source": [
    "all_datasets = load_all_from_config(\n",
    "    datasets=list(raw_datasets.values()) + \\\n",
    "        [(\"split\", \"train\"), (\"split\", \"val\"), (\"split\", \"test\")],\n",
    "    dataset_name=\"mpts_52\")"
   ]
  },
  {
   "cell_type": "code",
   "execution_count": 4,
   "metadata": {},
   "outputs": [],
   "source": [
    "novelty_reference = pd.concat([\n",
    "    all_datasets[('split', 'train')].data,\n",
    "    all_datasets[('split', 'val')].data], axis=0, verify_integrity=True)\n",
    "novelty_filter = NoveltyFilter(novelty_reference)"
   ]
  },
  {
   "cell_type": "code",
   "execution_count": 5,
   "metadata": {},
   "outputs": [],
   "source": [
    "import evaluation.statistical_evaluator\n",
    "test_evaluator = evaluation.statistical_evaluator.StatisticalEvaluator(\n",
    "    all_datasets[('split', 'test')].data, cdvae_eval_model_name=\"mp20\")"
   ]
  },
  {
   "cell_type": "code",
   "execution_count": 6,
   "metadata": {},
   "outputs": [],
   "source": [
    "mpts_52 = pd.concat([\n",
    "    all_datasets[('split', 'train')].data,\n",
    "    all_datasets[('split', 'val')].data,\n",
    "    all_datasets[('split', 'test')].data], axis=0, verify_integrity=True)"
   ]
  },
  {
   "cell_type": "code",
   "execution_count": 7,
   "metadata": {},
   "outputs": [],
   "source": [
    "train_evaluator = evaluation.statistical_evaluator.StatisticalEvaluator(\n",
    "    all_datasets[('split', 'train')].data, cdvae_eval_model_name=\"mp20\")"
   ]
  },
  {
   "cell_type": "code",
   "execution_count": 8,
   "metadata": {},
   "outputs": [
    {
     "data": {
      "text/plain": [
       "0.8710372534696859"
      ]
     },
     "execution_count": 8,
     "metadata": {},
     "output_type": "execute_result"
    }
   ],
   "source": [
    "train_evaluator.test_dataset.smact_validity.mean()"
   ]
  },
  {
   "cell_type": "code",
   "execution_count": 9,
   "metadata": {},
   "outputs": [
    {
     "data": {
      "text/plain": [
       "1.0"
      ]
     },
     "execution_count": 9,
     "metadata": {},
     "output_type": "execute_result"
    }
   ],
   "source": [
    "train_evaluator.test_dataset.structural_validity.mean()"
   ]
  },
  {
   "cell_type": "code",
   "execution_count": 10,
   "metadata": {},
   "outputs": [
    {
     "data": {
      "text/plain": [
       "frozenset({278, 399, 467, 535, 697})"
      ]
     },
     "execution_count": 10,
     "metadata": {},
     "output_type": "execute_result"
    }
   ],
   "source": [
    "frozenset(range(1000)) - frozenset(all_datasets[(\"WyckoffTransformer\", \"CrySPR\", \"CHGNet_fix\")].data.index)"
   ]
  },
  {
   "cell_type": "code",
   "execution_count": 11,
   "metadata": {},
   "outputs": [
    {
     "data": {
      "text/plain": [
       "0.0023009495982468956"
      ]
     },
     "execution_count": 11,
     "metadata": {},
     "output_type": "execute_result"
    }
   ],
   "source": [
    "(train_evaluator.test_dataset.spacegroup_number == 1).sum() / len(train_evaluator.test_dataset)"
   ]
  },
  {
   "cell_type": "code",
   "execution_count": 12,
   "metadata": {},
   "outputs": [],
   "source": [
    "train_w_template_set = frozenset(novelty_reference.apply(evaluation.novelty.record_to_anonymous_fingerprint, axis=1))"
   ]
  },
  {
   "cell_type": "code",
   "execution_count": 13,
   "metadata": {},
   "outputs": [
    {
     "data": {
      "text/plain": [
       "2.141915765380806"
      ]
     },
     "execution_count": 13,
     "metadata": {},
     "output_type": "execute_result"
    }
   ],
   "source": [
    "train_evaluator.get_num_sites_emd(all_datasets[('split', 'test')].data)"
   ]
  },
  {
   "cell_type": "code",
   "execution_count": 14,
   "metadata": {},
   "outputs": [
    {
     "data": {
      "text/plain": [
       "(39907, 40476)"
      ]
     },
     "execution_count": 14,
     "metadata": {},
     "output_type": "execute_result"
    }
   ],
   "source": [
    "mpts_52.fingerprint.nunique(), mpts_52.shape[0]"
   ]
  },
  {
   "cell_type": "code",
   "execution_count": 15,
   "metadata": {},
   "outputs": [
    {
     "data": {
      "text/plain": [
       "0.985942286787232"
      ]
     },
     "execution_count": 15,
     "metadata": {},
     "output_type": "execute_result"
    }
   ],
   "source": [
    "mpts_52.fingerprint.nunique() / mpts_52.shape[0]"
   ]
  },
  {
   "cell_type": "code",
   "execution_count": 16,
   "metadata": {},
   "outputs": [
    {
     "data": {
      "text/plain": [
       "0.8824488585828639"
      ]
     },
     "execution_count": 16,
     "metadata": {},
     "output_type": "execute_result"
    }
   ],
   "source": [
    "mpts_52.smact_validity.mean()"
   ]
  },
  {
   "cell_type": "markdown",
   "metadata": {},
   "source": [
    "Formal validity:\n",
    "1. WyFormer 0.935 [WanDB](https://wandb.ai/symmetry-advantage/WyckoffTransformer/runs/9sqoiuvh?nw=nwuserkazeev)\n",
    "2. SymmCD: 9170 / 10000"
   ]
  },
  {
   "cell_type": "code",
   "execution_count": 25,
   "metadata": {},
   "outputs": [],
   "source": [
    "formal_validity = {\n",
    "    \"WyckoffTransformer\": 0.935,\n",
    "    \"SymmCD\": 9170 / 10000\n",
    "}"
   ]
  },
  {
   "cell_type": "code",
   "execution_count": 27,
   "metadata": {},
   "outputs": [
    {
     "data": {
      "application/vnd.jupyter.widget-view+json": {
       "model_id": "c09ef5ae21b6464895a2b15324988b79",
       "version_major": 2,
       "version_minor": 0
      },
      "text/plain": [
       "  0%|          | 0/4 [00:00<?, ?it/s]"
      ]
     },
     "metadata": {},
     "output_type": "display_data"
    },
    {
     "name": "stdout",
     "output_type": "stream",
     "text": [
      "Unique: 9330 / 9350 = 0.9978609625668449\n",
      "Unique: 9011 / 9170 = 0.9826608505997819\n",
      "Unique: 995 / 995 = 1.0\n",
      "Unique: 8734 / 8890 = 0.9824521934758155\n"
     ]
    },
    {
     "data": {
      "text/html": [
       "<div>\n",
       "<style scoped>\n",
       "    .dataframe tbody tr th:only-of-type {\n",
       "        vertical-align: middle;\n",
       "    }\n",
       "\n",
       "    .dataframe tbody tr th {\n",
       "        vertical-align: top;\n",
       "    }\n",
       "\n",
       "    .dataframe thead th {\n",
       "        text-align: right;\n",
       "    }\n",
       "</style>\n",
       "<table border=\"1\" class=\"dataframe\">\n",
       "  <thead>\n",
       "    <tr style=\"text-align: right;\">\n",
       "      <th></th>\n",
       "      <th>Novelty (%)</th>\n",
       "      <th>Structural</th>\n",
       "      <th>Compositional</th>\n",
       "      <th>Recall</th>\n",
       "      <th>Precision</th>\n",
       "      <th>$\\rho$</th>\n",
       "      <th>$E$</th>\n",
       "      <th># Elements</th>\n",
       "      <th>Novel Template (%)</th>\n",
       "      <th>P1 (%)</th>\n",
       "      <th>Space Group</th>\n",
       "      <th>Novel Uniques Templates (#)</th>\n",
       "      <th>S.U.N. (%)</th>\n",
       "      <th>S.S.U.N. (%)</th>\n",
       "    </tr>\n",
       "    <tr>\n",
       "      <th>Method</th>\n",
       "      <th></th>\n",
       "      <th></th>\n",
       "      <th></th>\n",
       "      <th></th>\n",
       "      <th></th>\n",
       "      <th></th>\n",
       "      <th></th>\n",
       "      <th></th>\n",
       "      <th></th>\n",
       "      <th></th>\n",
       "      <th></th>\n",
       "      <th></th>\n",
       "      <th></th>\n",
       "      <th></th>\n",
       "    </tr>\n",
       "  </thead>\n",
       "  <tbody>\n",
       "    <tr>\n",
       "      <th>WyFormer</th>\n",
       "      <td>97.867095</td>\n",
       "      <td>NaN</td>\n",
       "      <td>NaN</td>\n",
       "      <td>NaN</td>\n",
       "      <td>NaN</td>\n",
       "      <td>NaN</td>\n",
       "      <td>NaN</td>\n",
       "      <td>NaN</td>\n",
       "      <td>37.299035</td>\n",
       "      <td>0.208082</td>\n",
       "      <td>0.04972</td>\n",
       "      <td>NaN</td>\n",
       "      <td>NaN</td>\n",
       "      <td>NaN</td>\n",
       "    </tr>\n",
       "    <tr>\n",
       "      <th>SymmCD</th>\n",
       "      <td>95.228055</td>\n",
       "      <td>100.0</td>\n",
       "      <td>79.641067</td>\n",
       "      <td>NaN</td>\n",
       "      <td>NaN</td>\n",
       "      <td>0.127218</td>\n",
       "      <td>0.275252</td>\n",
       "      <td>0.632112</td>\n",
       "      <td>27.828924</td>\n",
       "      <td>0.279688</td>\n",
       "      <td>0.050546</td>\n",
       "      <td>1131.0</td>\n",
       "      <td>NaN</td>\n",
       "      <td>NaN</td>\n",
       "    </tr>\n",
       "    <tr>\n",
       "      <th>WyFormer-CHGNet</th>\n",
       "      <td>98.693467</td>\n",
       "      <td>99.287169</td>\n",
       "      <td>76.680244</td>\n",
       "      <td>NaN</td>\n",
       "      <td>NaN</td>\n",
       "      <td>0.697912</td>\n",
       "      <td>0.108448</td>\n",
       "      <td>0.228226</td>\n",
       "      <td>44.512821</td>\n",
       "      <td>0.0</td>\n",
       "      <td>0.225362</td>\n",
       "      <td>386.0</td>\n",
       "      <td>24.422111</td>\n",
       "      <td>24.422111</td>\n",
       "    </tr>\n",
       "    <tr>\n",
       "      <th>SymmCD-CHGNet</th>\n",
       "      <td>93.061598</td>\n",
       "      <td>96.690453</td>\n",
       "      <td>79.466043</td>\n",
       "      <td>NaN</td>\n",
       "      <td>NaN</td>\n",
       "      <td>0.551155</td>\n",
       "      <td>0.173934</td>\n",
       "      <td>0.616459</td>\n",
       "      <td>28.464181</td>\n",
       "      <td>0.305382</td>\n",
       "      <td>0.063133</td>\n",
       "      <td>1075.0</td>\n",
       "      <td>25.073116</td>\n",
       "      <td>25.050619</td>\n",
       "    </tr>\n",
       "  </tbody>\n",
       "</table>\n",
       "</div>"
      ],
      "text/plain": [
       "                Novelty (%) Structural Compositional Recall Precision  \\\n",
       "Method                                                                  \n",
       "WyFormer          97.867095        NaN           NaN    NaN       NaN   \n",
       "SymmCD            95.228055      100.0     79.641067    NaN       NaN   \n",
       "WyFormer-CHGNet   98.693467  99.287169     76.680244    NaN       NaN   \n",
       "SymmCD-CHGNet     93.061598  96.690453     79.466043    NaN       NaN   \n",
       "\n",
       "                   $\\rho$       $E$ # Elements Novel Template (%)    P1 (%)  \\\n",
       "Method                                                                        \n",
       "WyFormer              NaN       NaN        NaN          37.299035  0.208082   \n",
       "SymmCD           0.127218  0.275252   0.632112          27.828924  0.279688   \n",
       "WyFormer-CHGNet  0.697912  0.108448   0.228226          44.512821       0.0   \n",
       "SymmCD-CHGNet    0.551155  0.173934   0.616459          28.464181  0.305382   \n",
       "\n",
       "                Space Group  Novel Uniques Templates (#)  S.U.N. (%)  \\\n",
       "Method                                                                 \n",
       "WyFormer            0.04972                          NaN         NaN   \n",
       "SymmCD             0.050546                       1131.0         NaN   \n",
       "WyFormer-CHGNet    0.225362                        386.0   24.422111   \n",
       "SymmCD-CHGNet      0.063133                       1075.0   25.073116   \n",
       "\n",
       "                 S.S.U.N. (%)  \n",
       "Method                         \n",
       "WyFormer                  NaN  \n",
       "SymmCD                    NaN  \n",
       "WyFormer-CHGNet     24.422111  \n",
       "SymmCD-CHGNet       25.050619  "
      ]
     },
     "execution_count": 27,
     "metadata": {},
     "output_type": "execute_result"
    }
   ],
   "source": [
    "table = pd.DataFrame(\n",
    "    index=raw_datasets.keys(), columns=[\n",
    "        \"Novelty (%)\", \"Structural\", \"Compositional\", \n",
    "        \"Recall\", \"Precision\",\n",
    "        r\"$\\rho$\", \"$E$\", \"# Elements\",\n",
    "        \"Novel Template (%)\", \n",
    "        \"P1 (%)\",\n",
    "        \"Space Group\"])\n",
    "table.index.name = \"Method\"\n",
    "E_hull_threshold = 0.08\n",
    "for name, transformations in tqdm(raw_datasets.items()):\n",
    "    dataset = all_datasets[transformations]\n",
    "    unique = filter_by_unique_structure(dataset.data)\n",
    "    print(f\"Unique: {len(unique)} / {len(dataset.data)} = {len(unique) / len(dataset.data)}\")\n",
    "    novel_template = ~unique.apply(evaluation.novelty.record_to_anonymous_fingerprint, axis=1).isin(train_w_template_set)\n",
    "    table.loc[name, \"Novel Template (%)\"] = 100 * novel_template.mean()\n",
    "    if transformations == (\"split\", \"train\"):\n",
    "        novel = unique\n",
    "    else:\n",
    "        novel = novelty_filter.get_novel(unique)\n",
    "    table.loc[name, \"Novelty (%)\"] = 100 * len(novel) / len(unique)\n",
    "    if \"structural_validity\" in novel.columns:\n",
    "        table.loc[name, \"Structural\"] = 100 * novel.structural_validity.mean()\n",
    "        table.loc[name, \"Compositional\"] = 100 * novel.smact_validity.mean()\n",
    "    if \"cdvae_crystal\" in novel.columns:\n",
    "        #cov_metrics = test_evaluator.get_coverage(novel.cdvae_crystal)    \n",
    "        #table.loc[name, \"Recall\"] = 100 * cov_metrics[\"cov_recall\"]\n",
    "        #table.loc[name, \"Precision\"] = 100 * cov_metrics[\"cov_precision\"]\n",
    "        novel = novel[novel.structural_validity]\n",
    "        all_templates = novel.apply(evaluation.novelty.record_to_anonymous_fingerprint, axis=1)\n",
    "        novel_template = ~all_templates.isin(train_w_template_set)\n",
    "        table.loc[name, \"Novel Template (%)\"] = 100 * novel_template.mean()\n",
    "        table.loc[name, \"Novel Uniques Templates (#)\"] = all_templates[novel_template].nunique() \n",
    "        table.loc[name, r\"$\\rho$\"] = train_evaluator.get_density_emd(novel)\n",
    "        table.loc[name, \"$E$\"] = train_evaluator.get_cdvae_e_emd(novel)\n",
    "        table.loc[name, \"# Elements\"] = train_evaluator.get_num_elements_emd(novel)\n",
    "    table.loc[name, \"P1 (%)\"] = 100 * (novel.group == 1).mean()\n",
    "    table.loc[name, \"Space Group\"] = train_evaluator.get_sg_chi2(novel)\n",
    "    if \"corrected_chgnet_ehull\" in dataset.data.columns:\n",
    "        has_ehull = dataset.data.corrected_chgnet_ehull.notna()\n",
    "        is_sun = (novel.corrected_chgnet_ehull <= E_hull_threshold)\n",
    "        table.loc[name, \"S.U.N. (%)\"] = 100 * is_sun.sum() / has_ehull.sum()\n",
    "        table.loc[name, \"S.S.U.N. (%)\"] = 100 * (is_sun & (novel.group != 1)).sum() / has_ehull.sum()\n",
    "table"
   ]
  },
  {
   "cell_type": "code",
   "execution_count": 18,
   "metadata": {},
   "outputs": [
    {
     "data": {
      "application/vnd.jupyter.widget-view+json": {
       "model_id": "10fc591503654a83bd96354c78c257cc",
       "version_major": 2,
       "version_minor": 0
      },
      "text/plain": [
       "  0%|          | 0/4 [00:00<?, ?it/s]"
      ]
     },
     "metadata": {},
     "output_type": "display_data"
    },
    {
     "name": "stderr",
     "output_type": "stream",
     "text": [
      "Requested sample size 900 is larger than the number of generated samples 757.\n"
     ]
    }
   ],
   "source": [
    "cdvae_table = pd.DataFrame(index=pd.Index(raw_datasets.keys(), tupleize_cols=False),\n",
    "    columns=[\n",
    "        \"Structural\", \"Compositional\",\n",
    "        \"Recall\", \"Precision\",\n",
    "        r\"$\\rho$\", \"$E$\", \"# Elements\"])\n",
    "sample_size = 900\n",
    "for name, transformations in tqdm(raw_datasets.items()):\n",
    "    dataset = all_datasets[transformations]\n",
    "    if \"structure\" in dataset.data.columns:\n",
    "        cdvae_table.loc[name, \"Compositional\"] = 100*dataset.data.smact_validity.mean()\n",
    "        cdvae_table.loc[name, \"Structural\"] = 100*dataset.data.structural_validity.mean()\n",
    "        valid = dataset.data[dataset.data.naive_validity]\n",
    "        cov_metrics = test_evaluator.get_coverage(valid.cdvae_crystal, sample_size)\n",
    "        cdvae_table.loc[name, \"Recall\"] = 100*cov_metrics[\"cov_recall\"]\n",
    "        cdvae_table.loc[name, \"Precision\"] = 100*cov_metrics[\"cov_precision\"]\n",
    "        cdvae_table.loc[name, r\"$\\rho$\"] = test_evaluator.get_density_emd(valid)\n",
    "        cdvae_table.loc[name, \"$E$\"] = test_evaluator.get_cdvae_e_emd(valid)\n",
    "        cdvae_table.loc[name, \"# Elements\"] = test_evaluator.get_num_elements_emd(valid)\n",
    "cdvae_table.to_csv(\"tables/cdvae_metrics_no_relax_table.csv\")\n",
    "#prettify(cdvae_table).to_latex(\"tables/cdvae_metrics_no_relax_table.tex\", siunitx=True, convert_css=True)\n",
    "#prettify(cdvae_table)"
   ]
  },
  {
   "cell_type": "code",
   "execution_count": 19,
   "metadata": {},
   "outputs": [
    {
     "data": {
      "text/html": [
       "<div>\n",
       "<style scoped>\n",
       "    .dataframe tbody tr th:only-of-type {\n",
       "        vertical-align: middle;\n",
       "    }\n",
       "\n",
       "    .dataframe tbody tr th {\n",
       "        vertical-align: top;\n",
       "    }\n",
       "\n",
       "    .dataframe thead th {\n",
       "        text-align: right;\n",
       "    }\n",
       "</style>\n",
       "<table border=\"1\" class=\"dataframe\">\n",
       "  <thead>\n",
       "    <tr style=\"text-align: right;\">\n",
       "      <th></th>\n",
       "      <th>Structural</th>\n",
       "      <th>Compositional</th>\n",
       "      <th>Recall</th>\n",
       "      <th>Precision</th>\n",
       "      <th>$\\rho$</th>\n",
       "      <th>$E$</th>\n",
       "      <th># Elements</th>\n",
       "    </tr>\n",
       "  </thead>\n",
       "  <tbody>\n",
       "    <tr>\n",
       "      <th>WyFormer</th>\n",
       "      <td>NaN</td>\n",
       "      <td>NaN</td>\n",
       "      <td>NaN</td>\n",
       "      <td>NaN</td>\n",
       "      <td>NaN</td>\n",
       "      <td>NaN</td>\n",
       "      <td>NaN</td>\n",
       "    </tr>\n",
       "    <tr>\n",
       "      <th>SymmCD</th>\n",
       "      <td>100.0</td>\n",
       "      <td>80.196292</td>\n",
       "      <td>97.777778</td>\n",
       "      <td>95.479249</td>\n",
       "      <td>1.074465</td>\n",
       "      <td>0.640633</td>\n",
       "      <td>0.364367</td>\n",
       "    </tr>\n",
       "    <tr>\n",
       "      <th>WyFormer-CHGNet</th>\n",
       "      <td>99.296482</td>\n",
       "      <td>76.683417</td>\n",
       "      <td>95.555556</td>\n",
       "      <td>95.034585</td>\n",
       "      <td>0.6083</td>\n",
       "      <td>0.479468</td>\n",
       "      <td>0.376129</td>\n",
       "    </tr>\n",
       "    <tr>\n",
       "      <th>SymmCD-CHGNet</th>\n",
       "      <td>96.974128</td>\n",
       "      <td>80.213723</td>\n",
       "      <td>97.0</td>\n",
       "      <td>97.369071</td>\n",
       "      <td>0.800725</td>\n",
       "      <td>0.552997</td>\n",
       "      <td>0.359354</td>\n",
       "    </tr>\n",
       "  </tbody>\n",
       "</table>\n",
       "</div>"
      ],
      "text/plain": [
       "                Structural Compositional     Recall  Precision    $\\rho$  \\\n",
       "WyFormer               NaN           NaN        NaN        NaN       NaN   \n",
       "SymmCD               100.0     80.196292  97.777778  95.479249  1.074465   \n",
       "WyFormer-CHGNet  99.296482     76.683417  95.555556  95.034585    0.6083   \n",
       "SymmCD-CHGNet    96.974128     80.213723       97.0  97.369071  0.800725   \n",
       "\n",
       "                      $E$ # Elements  \n",
       "WyFormer              NaN        NaN  \n",
       "SymmCD           0.640633   0.364367  \n",
       "WyFormer-CHGNet  0.479468   0.376129  \n",
       "SymmCD-CHGNet    0.552997   0.359354  "
      ]
     },
     "execution_count": 19,
     "metadata": {},
     "output_type": "execute_result"
    }
   ],
   "source": [
    "cdvae_table"
   ]
  }
 ],
 "metadata": {
  "kernelspec": {
   "display_name": "wyckofftransformer-FeCwefly-py3.12",
   "language": "python",
   "name": "python3"
  },
  "language_info": {
   "codemirror_mode": {
    "name": "ipython",
    "version": 3
   },
   "file_extension": ".py",
   "mimetype": "text/x-python",
   "name": "python",
   "nbconvert_exporter": "python",
   "pygments_lexer": "ipython3",
   "version": "3.12.3"
  }
 },
 "nbformat": 4,
 "nbformat_minor": 2
}
