{
 "cells": [
  {
   "cell_type": "code",
   "execution_count": 6,
   "id": "08dec25a",
   "metadata": {},
   "outputs": [],
   "source": [
    "from pymatgen.core import Structure\n",
    "from pyxtal import pyxtal"
   ]
  },
  {
   "cell_type": "code",
   "execution_count": 8,
   "id": "0a05f457",
   "metadata": {},
   "outputs": [],
   "source": [
    "almandine = Structure.from_file(\"Al2Fe3(SiO4)3.cif\")\n",
    "almandine_pyxtal = pyxtal()\n",
    "almandine_pyxtal.from_seed(almandine)"
   ]
  },
  {
   "cell_type": "code",
   "execution_count": 9,
   "id": "6ae036ee",
   "metadata": {},
   "outputs": [
    {
     "data": {
      "text/plain": [
       "\n",
       "------Crystal from Seed------\n",
       "Dimension: 3\n",
       "Composition: Al16Fe24Si24O96\n",
       "Group: I a -3 d (230)\n",
       " 11.6660,  11.6660,  11.6660,  90.0000,  90.0000,  90.0000, cubic\n",
       "Wyckoff sites:\n",
       "\tAl @ [ 0.0000  0.0000  0.0000], WP [16a] Site [.-3.]\n",
       "\tFe @ [ 0.1250  0.0000  0.2500], WP [24c] Site [2.22]\n",
       "\tSi @ [ 0.3750  0.0000  0.2500], WP [24d] Site [-4..]\n",
       "\t O @ [ 0.0339  0.0479  0.6526], WP [96h] Site [1]"
      ]
     },
     "execution_count": 9,
     "metadata": {},
     "output_type": "execute_result"
    }
   ],
   "source": [
    "almandine_pyxtal"
   ]
  }
 ],
 "metadata": {
  "kernelspec": {
   "display_name": "wyckofftransformer-FeCwefly-py3.12",
   "language": "python",
   "name": "python3"
  },
  "language_info": {
   "codemirror_mode": {
    "name": "ipython",
    "version": 3
   },
   "file_extension": ".py",
   "mimetype": "text/x-python",
   "name": "python",
   "nbconvert_exporter": "python",
   "pygments_lexer": "ipython3",
   "version": "3.12.3"
  }
 },
 "nbformat": 4,
 "nbformat_minor": 5
}
