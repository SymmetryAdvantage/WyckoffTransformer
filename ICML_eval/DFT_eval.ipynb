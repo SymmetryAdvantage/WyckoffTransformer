{
 "cells": [
  {
   "cell_type": "code",
   "execution_count": 1,
   "metadata": {},
   "outputs": [
    {
     "name": "stderr",
     "output_type": "stream",
     "text": [
      "/home/kna/.cache/pypoetry/virtualenvs/wyckofftransformer-FeCwefly-py3.12/lib/python3.12/site-packages/matminer/utils/data.py:326: UserWarning: MagpieData(impute_nan=False):\n",
      "In a future release, impute_nan will be set to True by default.\n",
      "                    This means that features that are missing or are NaNs for elements\n",
      "                    from the data source will be replaced by the average of that value\n",
      "                    over the available elements.\n",
      "                    This avoids NaNs after featurization that are often replaced by\n",
      "                    dataset-dependent averages.\n",
      "  warnings.warn(f\"{self.__class__.__name__}(impute_nan=False):\\n\" + IMPUTE_NAN_WARNING)\n"
     ]
    }
   ],
   "source": [
    "from typing import Tuple\n",
    "import pandas as pd\n",
    "from scipy.stats import pearsonr\n",
    "from tqdm.notebook import tqdm\n",
    "import sys\n",
    "sys.path.append('..')\n",
    "from evaluation.generated_dataset import GeneratedDataset, load_all_from_config\n",
    "from evaluation.novelty import NoveltyFilter, filter_by_unique_structure"
   ]
  },
  {
   "cell_type": "code",
   "execution_count": 3,
   "metadata": {},
   "outputs": [],
   "source": [
    "dft_datasets = {\n",
    "    \"WyFormerDirect\": (\"WyckoffTransformer\", \"DFT\"),\n",
    "    \"WyFormerCrySPR\": (\"WyckoffTransformer\", \"CrySPR\", \"CHGNet_fix\", \"DFT\"),\n",
    "    \"WyFormerDiffCSP++\": (\"WyckoffTransformer\", \"DiffCSP++\", \"DFT\"),\n",
    "    \"WyLLM-DiffCSP++\": (\"WyckoffLLM-naive\", \"DiffCSP++\", \"DFT\"),\n",
    "    \"WyFormer-letters-DiffCSP++\": (\"WyckoffTransformer-letters\", \"DiffCSP++\", \"DFT\"),\n",
    "    \"SymmCD\": (\"SymmCD\", \"DFT\"),\n",
    "    \"DiffCSP\": (\"DiffCSP\", \"DFT\"),\n",
    "    \"CrystalFormer\": (\"CrystalFormer\", \"DFT\"),\n",
    "    \"DiffCSP++\": (\"DiffCSP++\", \"DFT\"),\n",
    "    \"FlowMM\": (\"FlowMM\", \"DFT\")\n",
    "}\n",
    "\n",
    "source_datasets = {name: t[:-1] for name, t in dft_datasets.items()}"
   ]
  },
  {
   "cell_type": "code",
   "execution_count": 4,
   "metadata": {},
   "outputs": [],
   "source": [
    "chgnet_datasets = {\n",
    "    \"WyFormerDirect\": (\"WyckoffTransformer\", \"CrySPR\", \"CHGNet_fix_release\"),\n",
    "    \"WyFormerCrySPR\": (\"WyckoffTransformer\", \"CrySPR\", \"CHGNet_fix_release\"),\n",
    "    \"WyFormerDiffCSP++\": (\"WyckoffTransformer\", \"DiffCSP++\", \"CHGNet_fix\"),\n",
    "    \"WyLLM-DiffCSP++\": (\"WyckoffLLM-naive\", \"DiffCSP++\", \"CHGNet_fix\"),\n",
    "    \"WyFormer-letters-DiffCSP++\": (\"WyckoffTransformer-letters\", \"DiffCSP++\", \"CHGNet_fix\"),\n",
    "    \"SymmCD\": (\"SymmCD\", \"CHGNet_fix\"),\n",
    "    \"DiffCSP\": (\"DiffCSP\", \"CHGNet_fix\"),\n",
    "    \"CrystalFormer\": (\"CrystalFormer\", \"CHGNet_fix_release\"),\n",
    "    \"DiffCSP++\": (\"DiffCSP++\", \"CHGNet_fix_release\"),\n",
    "    \"FlowMM\": (\"FlowMM\", \"CHGNet_fix\")\n",
    "}"
   ]
  },
  {
   "cell_type": "code",
   "execution_count": 5,
   "metadata": {},
   "outputs": [],
   "source": [
    "chgnet_data = load_all_from_config(datasets=list(chgnet_datasets.values()) + [('WyckoffTransformer', 'CrySPR', 'CHGNet_fix')])"
   ]
  },
  {
   "cell_type": "code",
   "execution_count": 6,
   "metadata": {},
   "outputs": [],
   "source": [
    "all_datasets = load_all_from_config(\n",
    "    datasets=list(dft_datasets.values()) + list(source_datasets.values()) + \\\n",
    "        [(\"split\", \"train\"), (\"split\", \"val\"), (\"split\", \"test\")],\n",
    "    dataset_name=\"mp_20\")"
   ]
  },
  {
   "cell_type": "code",
   "execution_count": 7,
   "metadata": {},
   "outputs": [],
   "source": [
    "wycryst_transformations = ('WyCryst', 'CrySPR', 'CHGNet_fix')\n",
    "source_datasets[\"WyCryst\"] = wycryst_transformations\n",
    "chgnet_datasets[\"WyCryst\"] = wycryst_transformations\n",
    "chgnet_data[wycryst_transformations] = GeneratedDataset.from_cache(wycryst_transformations, \"mp_20_biternary\")\n",
    "dft_datasets[\"WyCryst\"] = tuple(list(wycryst_transformations) + [\"DFT\"])\n",
    "all_datasets[dft_datasets[\"WyCryst\"]] = GeneratedDataset.from_cache(dft_datasets[\"WyCryst\"], \"mp_20_biternary\")"
   ]
  },
  {
   "cell_type": "code",
   "execution_count": 8,
   "metadata": {},
   "outputs": [],
   "source": [
    "excluded_categories = frozenset([\"radioactive\", \"rare_earth_metal\", \"noble_gas\"])\n",
    "from pymatgen.core import Structure\n",
    "def check_composition(structure: Structure) -> bool:\n",
    "    for category in excluded_categories:\n",
    "        if structure.composition.contains_element_type(category):\n",
    "            return False\n",
    "    return True"
   ]
  },
  {
   "cell_type": "code",
   "execution_count": 9,
   "metadata": {},
   "outputs": [],
   "source": [
    "novelty_reference = pd.concat([\n",
    "    all_datasets[('split', 'train')].data,\n",
    "    all_datasets[('split', 'val')].data], axis=0, verify_integrity=True)\n",
    "novelty_filter = NoveltyFilter(novelty_reference)"
   ]
  },
  {
   "cell_type": "code",
   "execution_count": 10,
   "metadata": {},
   "outputs": [],
   "source": [
    "import evaluation.statistical_evaluator\n",
    "test_evaluator = evaluation.statistical_evaluator.StatisticalEvaluator(all_datasets[('split', 'test')].data)"
   ]
  },
  {
   "cell_type": "code",
   "execution_count": 11,
   "metadata": {},
   "outputs": [],
   "source": [
    "import evaluation.novelty\n",
    "train_w_template_set = frozenset(novelty_reference.apply(evaluation.novelty.record_to_anonymous_fingerprint, axis=1))"
   ]
  },
  {
   "cell_type": "code",
   "execution_count": 12,
   "metadata": {},
   "outputs": [],
   "source": [
    "def is_sg_preserved(relaxed_sg, transformations: Tuple[str]) -> pd.Series:\n",
    "    source_sg = all_datasets[transformations[:-1]].data.spacegroup_number\n",
    "    return relaxed_sg == source_sg.reindex_like(relaxed_sg)"
   ]
  },
  {
   "cell_type": "code",
   "execution_count": 13,
   "metadata": {},
   "outputs": [
    {
     "data": {
      "text/plain": [
       "0.9057020937893829"
      ]
     },
     "execution_count": 13,
     "metadata": {},
     "output_type": "execute_result"
    }
   ],
   "source": [
    "mp_20 = pd.concat([\n",
    "    all_datasets[('split', 'train')].data,\n",
    "    all_datasets[('split', 'test')].data,\n",
    "    all_datasets[('split', 'val')].data], axis=0, verify_integrity=True)\n",
    "(mp_20.spacegroup_number == 1).mean()\n",
    "mp_20.smact_validity.mean()"
   ]
  },
  {
   "cell_type": "code",
   "execution_count": 14,
   "metadata": {},
   "outputs": [],
   "source": [
    "from collections import Counter\n",
    "from operator import itemgetter\n",
    "from itertools import chain\n",
    "element_counts = Counter(chain(*mp_20.elements))"
   ]
  },
  {
   "cell_type": "code",
   "execution_count": 15,
   "metadata": {},
   "outputs": [],
   "source": [
    "represented_elements=frozenset(map(itemgetter(0), element_counts.most_common(30)))"
   ]
  },
  {
   "cell_type": "code",
   "execution_count": 16,
   "metadata": {},
   "outputs": [],
   "source": [
    "def check_represented_composition(structure: Structure) -> bool:\n",
    "    for element in structure.composition:\n",
    "        if element not in represented_elements:\n",
    "            return False\n",
    "    return True"
   ]
  },
  {
   "cell_type": "code",
   "execution_count": 17,
   "metadata": {},
   "outputs": [],
   "source": [
    "top_10_groups = frozenset(mp_20.spacegroup_number.value_counts().iloc[:10].index)\n",
    "n_elements_dist = {}"
   ]
  },
  {
   "cell_type": "markdown",
   "metadata": {},
   "source": [
    "Validity\n",
    "1. Vanilla; Valid records: 2866 / 9648 = 29.71%\n",
    "2. Naive; Valid records: 9492 / 9804 = 96.82%\n",
    "3. Site Symmetry; Valid records: 8955 / 9709 = 92.23%"
   ]
  },
  {
   "cell_type": "code",
   "execution_count": 18,
   "metadata": {},
   "outputs": [
    {
     "data": {
      "application/vnd.jupyter.widget-view+json": {
       "model_id": "f01defc2071d4482a0e43289073a92dd",
       "version_major": 2,
       "version_minor": 0
      },
      "text/plain": [
       "  0%|          | 0/11 [00:00<?, ?it/s]"
      ]
     },
     "metadata": {},
     "output_type": "display_data"
    },
    {
     "data": {
      "text/html": [
       "<div>\n",
       "<style scoped>\n",
       "    .dataframe tbody tr th:only-of-type {\n",
       "        vertical-align: middle;\n",
       "    }\n",
       "\n",
       "    .dataframe tbody tr th {\n",
       "        vertical-align: top;\n",
       "    }\n",
       "\n",
       "    .dataframe thead th {\n",
       "        text-align: right;\n",
       "    }\n",
       "</style>\n",
       "<table border=\"1\" class=\"dataframe\">\n",
       "  <thead>\n",
       "    <tr style=\"text-align: right;\">\n",
       "      <th></th>\n",
       "      <th>DFT dataset size</th>\n",
       "      <th>Source Novelty (%)</th>\n",
       "      <th>In-DFT Novelty (%)</th>\n",
       "      <th>S.U.N. (%)</th>\n",
       "      <th>P1 in source (%)</th>\n",
       "      <th>S.S.U.N. (%)</th>\n",
       "      <th>SG preserved (%)</th>\n",
       "      <th>total_sun</th>\n",
       "      <th>total_ssun</th>\n",
       "      <th>P1 in stable (%)</th>\n",
       "      <th>S.U.N. (CHGNet) (%)</th>\n",
       "      <th>S.S.U.N. (CHGNet) (%)</th>\n",
       "      <th>r DFT CHGNet</th>\n",
       "    </tr>\n",
       "    <tr>\n",
       "      <th>Method</th>\n",
       "      <th></th>\n",
       "      <th></th>\n",
       "      <th></th>\n",
       "      <th></th>\n",
       "      <th></th>\n",
       "      <th></th>\n",
       "      <th></th>\n",
       "      <th></th>\n",
       "      <th></th>\n",
       "      <th></th>\n",
       "      <th></th>\n",
       "      <th></th>\n",
       "      <th></th>\n",
       "    </tr>\n",
       "  </thead>\n",
       "  <tbody>\n",
       "    <tr>\n",
       "      <th>WyFormerDirect</th>\n",
       "      <td>94</td>\n",
       "      <td>90.09</td>\n",
       "      <td>100.0</td>\n",
       "      <td>4.29</td>\n",
       "      <td>1.964702</td>\n",
       "      <td>4.29</td>\n",
       "      <td>86.170213</td>\n",
       "      <td>5.0</td>\n",
       "      <td>5.0</td>\n",
       "      <td>0.000000</td>\n",
       "      <td>39.239239</td>\n",
       "      <td>38.238238</td>\n",
       "      <td>0.269486</td>\n",
       "    </tr>\n",
       "    <tr>\n",
       "      <th>WyFormerCrySPR</th>\n",
       "      <td>97</td>\n",
       "      <td>90.0</td>\n",
       "      <td>100.0</td>\n",
       "      <td>6.857143</td>\n",
       "      <td>1.555556</td>\n",
       "      <td>6.857143</td>\n",
       "      <td>96.907216</td>\n",
       "      <td>8.0</td>\n",
       "      <td>8.0</td>\n",
       "      <td>0.000000</td>\n",
       "      <td>39.239239</td>\n",
       "      <td>38.238238</td>\n",
       "      <td>0.335979</td>\n",
       "    </tr>\n",
       "    <tr>\n",
       "      <th>WyFormerDiffCSP++</th>\n",
       "      <td>99</td>\n",
       "      <td>88.59596</td>\n",
       "      <td>98.989899</td>\n",
       "      <td>12.785714</td>\n",
       "      <td>1.564246</td>\n",
       "      <td>12.785714</td>\n",
       "      <td>90.816327</td>\n",
       "      <td>15.0</td>\n",
       "      <td>15.0</td>\n",
       "      <td>0.000000</td>\n",
       "      <td>36.700000</td>\n",
       "      <td>36.000000</td>\n",
       "      <td>0.435583</td>\n",
       "    </tr>\n",
       "    <tr>\n",
       "      <th>WyLLM-DiffCSP++</th>\n",
       "      <td>98</td>\n",
       "      <td>94.578313</td>\n",
       "      <td>100.0</td>\n",
       "      <td>9.007458</td>\n",
       "      <td>1.380042</td>\n",
       "      <td>9.007458</td>\n",
       "      <td>94.897959</td>\n",
       "      <td>10.0</td>\n",
       "      <td>10.0</td>\n",
       "      <td>0.000000</td>\n",
       "      <td>31.600408</td>\n",
       "      <td>30.886850</td>\n",
       "      <td>0.546646</td>\n",
       "    </tr>\n",
       "    <tr>\n",
       "      <th>WyFormer-letters-DiffCSP++</th>\n",
       "      <td>96</td>\n",
       "      <td>90.562249</td>\n",
       "      <td>100.0</td>\n",
       "      <td>6.899981</td>\n",
       "      <td>1.108647</td>\n",
       "      <td>6.899981</td>\n",
       "      <td>91.666667</td>\n",
       "      <td>8.0</td>\n",
       "      <td>8.0</td>\n",
       "      <td>0.000000</td>\n",
       "      <td>31.491137</td>\n",
       "      <td>30.969760</td>\n",
       "      <td>0.320983</td>\n",
       "    </tr>\n",
       "    <tr>\n",
       "      <th>SymmCD</th>\n",
       "      <td>88</td>\n",
       "      <td>90.649077</td>\n",
       "      <td>100.0</td>\n",
       "      <td>12.086544</td>\n",
       "      <td>2.177203</td>\n",
       "      <td>12.086544</td>\n",
       "      <td>92.045455</td>\n",
       "      <td>14.0</td>\n",
       "      <td>14.0</td>\n",
       "      <td>0.000000</td>\n",
       "      <td>34.551148</td>\n",
       "      <td>34.070981</td>\n",
       "      <td>0.102101</td>\n",
       "    </tr>\n",
       "    <tr>\n",
       "      <th>DiffCSP</th>\n",
       "      <td>96</td>\n",
       "      <td>88.874479</td>\n",
       "      <td>98.958333</td>\n",
       "      <td>19.672667</td>\n",
       "      <td>31.566641</td>\n",
       "      <td>13.685333</td>\n",
       "      <td>55.789474</td>\n",
       "      <td>23.0</td>\n",
       "      <td>16.0</td>\n",
       "      <td>30.434783</td>\n",
       "      <td>57.400000</td>\n",
       "      <td>40.600000</td>\n",
       "      <td>0.326947</td>\n",
       "    </tr>\n",
       "    <tr>\n",
       "      <th>CrystalFormer</th>\n",
       "      <td>85</td>\n",
       "      <td>77.06059</td>\n",
       "      <td>98.823529</td>\n",
       "      <td>13.367653</td>\n",
       "      <td>1.797176</td>\n",
       "      <td>13.367653</td>\n",
       "      <td>91.666667</td>\n",
       "      <td>18.0</td>\n",
       "      <td>18.0</td>\n",
       "      <td>0.000000</td>\n",
       "      <td>37.600806</td>\n",
       "      <td>37.399194</td>\n",
       "      <td>0.229633</td>\n",
       "    </tr>\n",
       "    <tr>\n",
       "      <th>DiffCSP++</th>\n",
       "      <td>95</td>\n",
       "      <td>88.95</td>\n",
       "      <td>100.0</td>\n",
       "      <td>7.624286</td>\n",
       "      <td>1.843732</td>\n",
       "      <td>7.624286</td>\n",
       "      <td>94.736842</td>\n",
       "      <td>9.0</td>\n",
       "      <td>9.0</td>\n",
       "      <td>0.000000</td>\n",
       "      <td>41.400000</td>\n",
       "      <td>40.800000</td>\n",
       "      <td>0.322832</td>\n",
       "    </tr>\n",
       "    <tr>\n",
       "      <th>FlowMM</th>\n",
       "      <td>97</td>\n",
       "      <td>87.837258</td>\n",
       "      <td>93.814433</td>\n",
       "      <td>16.942341</td>\n",
       "      <td>40.690097</td>\n",
       "      <td>16.050639</td>\n",
       "      <td>43.956044</td>\n",
       "      <td>19.0</td>\n",
       "      <td>18.0</td>\n",
       "      <td>5.263158</td>\n",
       "      <td>50.952859</td>\n",
       "      <td>30.692076</td>\n",
       "      <td>-0.208221</td>\n",
       "    </tr>\n",
       "    <tr>\n",
       "      <th>WyCryst</th>\n",
       "      <td>95</td>\n",
       "      <td>50.954146</td>\n",
       "      <td>96.842105</td>\n",
       "      <td>5.51212</td>\n",
       "      <td>4.780115</td>\n",
       "      <td>5.51212</td>\n",
       "      <td>NaN</td>\n",
       "      <td>11.0</td>\n",
       "      <td>11.0</td>\n",
       "      <td>0.000000</td>\n",
       "      <td>36.720322</td>\n",
       "      <td>35.311871</td>\n",
       "      <td>-0.275469</td>\n",
       "    </tr>\n",
       "  </tbody>\n",
       "</table>\n",
       "</div>"
      ],
      "text/plain": [
       "                           DFT dataset size Source Novelty (%)  \\\n",
       "Method                                                           \n",
       "WyFormerDirect                           94              90.09   \n",
       "WyFormerCrySPR                           97               90.0   \n",
       "WyFormerDiffCSP++                        99           88.59596   \n",
       "WyLLM-DiffCSP++                          98          94.578313   \n",
       "WyFormer-letters-DiffCSP++               96          90.562249   \n",
       "SymmCD                                   88          90.649077   \n",
       "DiffCSP                                  96          88.874479   \n",
       "CrystalFormer                            85           77.06059   \n",
       "DiffCSP++                                95              88.95   \n",
       "FlowMM                                   97          87.837258   \n",
       "WyCryst                                  95          50.954146   \n",
       "\n",
       "                           In-DFT Novelty (%) S.U.N. (%) P1 in source (%)  \\\n",
       "Method                                                                      \n",
       "WyFormerDirect                          100.0       4.29         1.964702   \n",
       "WyFormerCrySPR                          100.0   6.857143         1.555556   \n",
       "WyFormerDiffCSP++                   98.989899  12.785714         1.564246   \n",
       "WyLLM-DiffCSP++                         100.0   9.007458         1.380042   \n",
       "WyFormer-letters-DiffCSP++              100.0   6.899981         1.108647   \n",
       "SymmCD                                  100.0  12.086544         2.177203   \n",
       "DiffCSP                             98.958333  19.672667        31.566641   \n",
       "CrystalFormer                       98.823529  13.367653         1.797176   \n",
       "DiffCSP++                               100.0   7.624286         1.843732   \n",
       "FlowMM                              93.814433  16.942341        40.690097   \n",
       "WyCryst                             96.842105    5.51212         4.780115   \n",
       "\n",
       "                           S.S.U.N. (%)  SG preserved (%)  total_sun  \\\n",
       "Method                                                                 \n",
       "WyFormerDirect                     4.29         86.170213        5.0   \n",
       "WyFormerCrySPR                 6.857143         96.907216        8.0   \n",
       "WyFormerDiffCSP++             12.785714         90.816327       15.0   \n",
       "WyLLM-DiffCSP++                9.007458         94.897959       10.0   \n",
       "WyFormer-letters-DiffCSP++     6.899981         91.666667        8.0   \n",
       "SymmCD                        12.086544         92.045455       14.0   \n",
       "DiffCSP                       13.685333         55.789474       23.0   \n",
       "CrystalFormer                 13.367653         91.666667       18.0   \n",
       "DiffCSP++                      7.624286         94.736842        9.0   \n",
       "FlowMM                        16.050639         43.956044       19.0   \n",
       "WyCryst                         5.51212               NaN       11.0   \n",
       "\n",
       "                            total_ssun  P1 in stable (%)  S.U.N. (CHGNet) (%)  \\\n",
       "Method                                                                          \n",
       "WyFormerDirect                     5.0          0.000000            39.239239   \n",
       "WyFormerCrySPR                     8.0          0.000000            39.239239   \n",
       "WyFormerDiffCSP++                 15.0          0.000000            36.700000   \n",
       "WyLLM-DiffCSP++                   10.0          0.000000            31.600408   \n",
       "WyFormer-letters-DiffCSP++         8.0          0.000000            31.491137   \n",
       "SymmCD                            14.0          0.000000            34.551148   \n",
       "DiffCSP                           16.0         30.434783            57.400000   \n",
       "CrystalFormer                     18.0          0.000000            37.600806   \n",
       "DiffCSP++                          9.0          0.000000            41.400000   \n",
       "FlowMM                            18.0          5.263158            50.952859   \n",
       "WyCryst                           11.0          0.000000            36.720322   \n",
       "\n",
       "                            S.S.U.N. (CHGNet) (%)  r DFT CHGNet  \n",
       "Method                                                           \n",
       "WyFormerDirect                          38.238238      0.269486  \n",
       "WyFormerCrySPR                          38.238238      0.335979  \n",
       "WyFormerDiffCSP++                       36.000000      0.435583  \n",
       "WyLLM-DiffCSP++                         30.886850      0.546646  \n",
       "WyFormer-letters-DiffCSP++              30.969760      0.320983  \n",
       "SymmCD                                  34.070981      0.102101  \n",
       "DiffCSP                                 40.600000      0.326947  \n",
       "CrystalFormer                           37.399194      0.229633  \n",
       "DiffCSP++                               40.800000      0.322832  \n",
       "FlowMM                                  30.692076     -0.208221  \n",
       "WyCryst                                 35.311871     -0.275469  "
      ]
     },
     "execution_count": 18,
     "metadata": {},
     "output_type": "execute_result"
    }
   ],
   "source": [
    "table = pd.DataFrame(\n",
    "    index=dft_datasets.keys(), columns=[\n",
    "        \"DFT dataset size\",\n",
    "        \"Source Novelty (%)\",\n",
    "        \"In-DFT Novelty (%)\",\n",
    "        \"S.U.N. (%)\",\n",
    "        \"P1 in source (%)\",\n",
    "        \"S.S.U.N. (%)\"])\n",
    "table.index.name = \"Method\"\n",
    "E_hull_threshold = 0.08\n",
    "for name, transformations in tqdm(dft_datasets.items()):\n",
    "    dataset = all_datasets[transformations]\n",
    "    table.loc[name, \"DFT dataset size\"] = len(dataset.data)\n",
    "    try:\n",
    "        source_dataset = all_datasets[transformations[:-1]]\n",
    "    except KeyError:\n",
    "        source_dataset = chgnet_data[transformations[:-1]]\n",
    "    chgnet_dataset = chgnet_data[chgnet_datasets[name]]\n",
    "\n",
    "    unique = filter_by_unique_structure(dataset.data)\n",
    "    novel = novelty_filter.get_novel(unique)\n",
    "    table.loc[name, \"In-DFT Novelty (%)\"] = 100 * len(novel) / len(unique)\n",
    "    source_novel = novelty_filter.get_novel(source_dataset.data)\n",
    "    source_novelty = 100 * len(source_novel) / len(source_dataset.data)\n",
    "    table.loc[name, \"Source Novelty (%)\"] = len(novel) / len(unique) * source_novelty\n",
    "    table.loc[name, \"P1 in source (%)\"] = 100 * (source_novel.group == 1).mean()\n",
    "    try:\n",
    "        table.loc[name, \"SG preserved (%)\"] = 100 * is_sg_preserved(novel.spacegroup_number, transformations).mean()\n",
    "    except KeyError:\n",
    "        pass\n",
    "    # source_novel_symmetric = (source_novel.group != 1).sum() / len(source_dataset.data)\n",
    "    # table[\"Source Novel !P1 (%)\"] = 100 * source_novel_symmetric\n",
    "    # DFT failure == unreal structure\n",
    "    dft_structures = 105\n",
    "    has_ehull = dataset.data.corrected_e_hull.notna()\n",
    "    is_sun = (novel.corrected_e_hull <= E_hull_threshold) # & (novel.elements.apply(lambda x: len(frozenset(x))) >= 2)\n",
    "    table.loc[name, \"S.U.N. (%)\"] = source_novelty * is_sun.sum() / dft_structures\n",
    "    table.loc[name, \"total_sun\"] = is_sun.sum().astype(int)\n",
    "    table.loc[name, \"S.S.U.N. (%)\"] = source_novelty * (is_sun & (novel.group != 1)).sum() / dft_structures\n",
    "    table.loc[name, \"total_ssun\"] = (is_sun & (novel.group != 1)).sum().astype(int)\n",
    "    table.loc[name, \"P1 in stable (%)\"] = 100 * (novel[is_sun].group == 1).mean()\n",
    "\n",
    "    chgnet_unique = filter_by_unique_structure(chgnet_dataset.data)\n",
    "    chgnet_novel = novelty_filter.get_novel(chgnet_unique)\n",
    "    chgnet_is_sun = (chgnet_novel.corrected_chgnet_ehull < E_hull_threshold)\n",
    "    #table.loc[name, \"CHGNet dataset size\"] = chgnet_dataset.data.corrected_chgnet_ehull.notna().sum()\n",
    "    table.loc[name, \"S.U.N. (CHGNet) (%)\"] =  100 * chgnet_is_sun.sum() / chgnet_dataset.data.corrected_chgnet_ehull.notna().sum()\n",
    "    table.loc[name, \"S.S.U.N. (CHGNet) (%)\"] = 100 * (chgnet_is_sun & (chgnet_novel.group != 1)).sum() / chgnet_dataset.data.corrected_chgnet_ehull.notna().sum()\n",
    "    \n",
    "    chgnet_dft_available = chgnet_dataset.data.reindex(dataset.data.index[has_ehull])\n",
    "    table.loc[name, \"r DFT CHGNet\"] = \\\n",
    "        pearsonr((chgnet_dft_available.corrected_chgnet_ehull < E_hull_threshold).astype(float),\n",
    "                 (dataset.data.corrected_e_hull < E_hull_threshold).astype(float)).correlation\n",
    "table"
   ]
  },
  {
   "cell_type": "code",
   "execution_count": 121,
   "metadata": {},
   "outputs": [],
   "source": [
    "def prettify(table):\n",
    "    return table.style.format({\n",
    "    \"S.U.N. (%)\": \"{:.1f}\",\n",
    "    \"S.S.U.N. (%)\": \"{:.1f}\",\n",
    "    #\"S.U.N. (CHGNet) (%)\": \"{:.1f}\",\n",
    "    #\"S.S.U.N. (CHGNet) (%)\": \"{:.1f}\",\n",
    "    #\"r DFT CHGNet\": \"{:.2f}\",\n",
    "}).highlight_max(props=\"font-weight: bold\", axis=0, subset=[\"S.U.N. (%)\", \"S.S.U.N. (%)\"])"
   ]
  },
  {
   "cell_type": "code",
   "execution_count": 122,
   "metadata": {},
   "outputs": [],
   "source": [
    "selected_table = table.loc[:, [\"S.U.N. (%)\", \"S.S.U.N. (%)\"]]"
   ]
  },
  {
   "cell_type": "code",
   "execution_count": 123,
   "metadata": {},
   "outputs": [
    {
     "data": {
      "text/html": [
       "<style type=\"text/css\">\n",
       "#T_41efa_row3_col0, #T_41efa_row6_col1 {\n",
       "  font-weight: bold;\n",
       "}\n",
       "</style>\n",
       "<table id=\"T_41efa\">\n",
       "  <thead>\n",
       "    <tr>\n",
       "      <th class=\"blank level0\" >&nbsp;</th>\n",
       "      <th id=\"T_41efa_level0_col0\" class=\"col_heading level0 col0\" >S.U.N. (%)</th>\n",
       "      <th id=\"T_41efa_level0_col1\" class=\"col_heading level0 col1\" >S.S.U.N. (%)</th>\n",
       "    </tr>\n",
       "    <tr>\n",
       "      <th class=\"index_name level0\" >Method</th>\n",
       "      <th class=\"blank col0\" >&nbsp;</th>\n",
       "      <th class=\"blank col1\" >&nbsp;</th>\n",
       "    </tr>\n",
       "  </thead>\n",
       "  <tbody>\n",
       "    <tr>\n",
       "      <th id=\"T_41efa_level0_row0\" class=\"row_heading level0 row0\" >WyFormerDirect</th>\n",
       "      <td id=\"T_41efa_row0_col0\" class=\"data row0 col0\" >4.3</td>\n",
       "      <td id=\"T_41efa_row0_col1\" class=\"data row0 col1\" >4.3</td>\n",
       "    </tr>\n",
       "    <tr>\n",
       "      <th id=\"T_41efa_level0_row1\" class=\"row_heading level0 row1\" >WyFormerCrySPR</th>\n",
       "      <td id=\"T_41efa_row1_col0\" class=\"data row1 col0\" >6.9</td>\n",
       "      <td id=\"T_41efa_row1_col1\" class=\"data row1 col1\" >6.9</td>\n",
       "    </tr>\n",
       "    <tr>\n",
       "      <th id=\"T_41efa_level0_row2\" class=\"row_heading level0 row2\" >WyFormerDiffCSP++</th>\n",
       "      <td id=\"T_41efa_row2_col0\" class=\"data row2 col0\" >12.8</td>\n",
       "      <td id=\"T_41efa_row2_col1\" class=\"data row2 col1\" >12.8</td>\n",
       "    </tr>\n",
       "    <tr>\n",
       "      <th id=\"T_41efa_level0_row3\" class=\"row_heading level0 row3\" >DiffCSP</th>\n",
       "      <td id=\"T_41efa_row3_col0\" class=\"data row3 col0\" >19.7</td>\n",
       "      <td id=\"T_41efa_row3_col1\" class=\"data row3 col1\" >13.7</td>\n",
       "    </tr>\n",
       "    <tr>\n",
       "      <th id=\"T_41efa_level0_row4\" class=\"row_heading level0 row4\" >CrystalFormer</th>\n",
       "      <td id=\"T_41efa_row4_col0\" class=\"data row4 col0\" >13.4</td>\n",
       "      <td id=\"T_41efa_row4_col1\" class=\"data row4 col1\" >13.4</td>\n",
       "    </tr>\n",
       "    <tr>\n",
       "      <th id=\"T_41efa_level0_row5\" class=\"row_heading level0 row5\" >DiffCSP++</th>\n",
       "      <td id=\"T_41efa_row5_col0\" class=\"data row5 col0\" >7.6</td>\n",
       "      <td id=\"T_41efa_row5_col1\" class=\"data row5 col1\" >7.6</td>\n",
       "    </tr>\n",
       "    <tr>\n",
       "      <th id=\"T_41efa_level0_row6\" class=\"row_heading level0 row6\" >FlowMM</th>\n",
       "      <td id=\"T_41efa_row6_col0\" class=\"data row6 col0\" >16.9</td>\n",
       "      <td id=\"T_41efa_row6_col1\" class=\"data row6 col1\" >16.1</td>\n",
       "    </tr>\n",
       "    <tr>\n",
       "      <th id=\"T_41efa_level0_row7\" class=\"row_heading level0 row7\" >WyCryst</th>\n",
       "      <td id=\"T_41efa_row7_col0\" class=\"data row7 col0\" >5.5</td>\n",
       "      <td id=\"T_41efa_row7_col1\" class=\"data row7 col1\" >5.5</td>\n",
       "    </tr>\n",
       "  </tbody>\n",
       "</table>\n"
      ],
      "text/plain": [
       "<pandas.io.formats.style.Styler at 0x7f53a14471a0>"
      ]
     },
     "execution_count": 123,
     "metadata": {},
     "output_type": "execute_result"
    }
   ],
   "source": [
    "pretty_table = prettify(selected_table)\n",
    "pretty_table.to_latex(\"tables/dft.tex\", siunitx=True, convert_css=True)\n",
    "pretty_table"
   ]
  },
  {
   "cell_type": "code",
   "execution_count": 25,
   "metadata": {},
   "outputs": [
    {
     "data": {
      "text/plain": [
       "0.9713685606898077"
      ]
     },
     "execution_count": 25,
     "metadata": {},
     "output_type": "execute_result"
    }
   ],
   "source": [
    "all_datasets[('split', 'test')].data.apply(evaluation.novelty.record_to_anonymous_fingerprint, axis=1).isin(train_w_template_set).mean()"
   ]
  },
  {
   "cell_type": "code",
   "execution_count": 26,
   "metadata": {},
   "outputs": [
    {
     "data": {
      "text/plain": [
       "0.9328985186822906"
      ]
     },
     "execution_count": 26,
     "metadata": {},
     "output_type": "execute_result"
    }
   ],
   "source": [
    "all_datasets[('split', 'test')].data.apply(evaluation.novelty.record_to_strict_AFLOW_fingerprint, axis=1).isin(train_strict_AFLOW_set).mean()"
   ]
  },
  {
   "cell_type": "code",
   "execution_count": 27,
   "metadata": {},
   "outputs": [],
   "source": [
    "CF_CG = GeneratedDataset.from_cache((\"CrystalFormer\", \"CHGNet_fix_release\"))"
   ]
  },
  {
   "cell_type": "code",
   "execution_count": 99,
   "metadata": {},
   "outputs": [],
   "source": [
    "from scipy.stats import ttest_ind\n",
    "import numpy as np\n",
    "def get_observation(name, column=\"total_ssun\"):\n",
    "    all_observations = np.zeros(dft_structures)\n",
    "    all_observations[:int(table.at[name, column])] = table.loc[name, \"Source Novelty (%)\"]/100\n",
    "    return all_observations"
   ]
  },
  {
   "cell_type": "code",
   "execution_count": 101,
   "metadata": {},
   "outputs": [
    {
     "name": "stdout",
     "output_type": "stream",
     "text": [
      "WyFormerDirect TtestResult(statistic=2.8699643276771534, pvalue=0.004529164843545496, df=208.0)\n",
      "WyFormerCrySPR TtestResult(statistic=2.0489237904086535, pvalue=0.04172504759818785, df=208.0)\n",
      "WyFormerDiffCSP++ TtestResult(statistic=0.5399251990582908, pvalue=0.5898261986038633, df=208.0)\n",
      "DiffCSP TtestResult(statistic=0.3358706725126662, pvalue=0.7373069464508927, df=208.0)\n",
      "CrystalFormer TtestResult(statistic=0.4278113819160564, pvalue=0.669231052265232, df=208.0)\n",
      "DiffCSP++ TtestResult(statistic=1.8300352833914524, pvalue=0.0686759122341314, df=208.0)\n",
      "FlowMM TtestResult(statistic=0.0, pvalue=1.0, df=208.0)\n"
     ]
    }
   ],
   "source": [
    "for second in table.index:\n",
    "    print(second, ttest_ind(get_observation(\"FlowMM\"), get_observation(second)))"
   ]
  },
  {
   "cell_type": "code",
   "execution_count": 103,
   "metadata": {},
   "outputs": [
    {
     "name": "stdout",
     "output_type": "stream",
     "text": [
      "WyFormerDirect TtestResult(statistic=3.7329421055392644, pvalue=0.0002442600601858129, df=208.0)\n",
      "WyFormerCrySPR TtestResult(statistic=2.933952952207651, pvalue=0.0037223172815396767, df=208.0)\n",
      "WyFormerDiffCSP++ TtestResult(statistic=1.444489793625256, pvalue=0.15010593136692968, df=208.0)\n",
      "DiffCSP TtestResult(statistic=0.0, pvalue=1.0, df=208.0)\n",
      "CrystalFormer TtestResult(statistic=1.3621411208732088, pvalue=0.1746266271124153, df=208.0)\n",
      "DiffCSP++ TtestResult(statistic=2.7203519120538746, pvalue=0.007073135428130352, df=208.0)\n",
      "FlowMM TtestResult(statistic=0.7296066705938044, pvalue=0.4664514752444603, df=208.0)\n"
     ]
    }
   ],
   "source": [
    "for second in table.index:\n",
    "    print(second, ttest_ind(get_observation(\"DiffCSP\", column=\"total_sun\"), get_observation(second, column=\"total_sun\")))"
   ]
  }
 ],
 "metadata": {
  "kernelspec": {
   "display_name": "wyckofftransformer-FeCwefly-py3.12",
   "language": "python",
   "name": "python3"
  },
  "language_info": {
   "codemirror_mode": {
    "name": "ipython",
    "version": 3
   },
   "file_extension": ".py",
   "mimetype": "text/x-python",
   "name": "python",
   "nbconvert_exporter": "python",
   "pygments_lexer": "ipython3",
   "version": "3.12.3"
  }
 },
 "nbformat": 4,
 "nbformat_minor": 2
}
