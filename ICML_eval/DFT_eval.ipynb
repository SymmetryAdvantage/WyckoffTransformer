{
 "cells": [
  {
   "cell_type": "code",
   "execution_count": 1,
   "metadata": {},
   "outputs": [
    {
     "name": "stderr",
     "output_type": "stream",
     "text": [
      "/home/kna/.cache/pypoetry/virtualenvs/wyckofftransformer-FeCwefly-py3.12/lib/python3.12/site-packages/matminer/utils/data.py:326: UserWarning: MagpieData(impute_nan=False):\n",
      "In a future release, impute_nan will be set to True by default.\n",
      "                    This means that features that are missing or are NaNs for elements\n",
      "                    from the data source will be replaced by the average of that value\n",
      "                    over the available elements.\n",
      "                    This avoids NaNs after featurization that are often replaced by\n",
      "                    dataset-dependent averages.\n",
      "  warnings.warn(f\"{self.__class__.__name__}(impute_nan=False):\\n\" + IMPUTE_NAN_WARNING)\n"
     ]
    }
   ],
   "source": [
    "from typing import Tuple\n",
    "import pandas as pd\n",
    "from scipy.stats import pearsonr\n",
    "from tqdm.notebook import tqdm\n",
    "import sys\n",
    "sys.path.append('..')\n",
    "from evaluation.generated_dataset import GeneratedDataset, load_all_from_config\n",
    "from evaluation.novelty import NoveltyFilter, filter_by_unique_structure"
   ]
  },
  {
   "cell_type": "code",
   "execution_count": 2,
   "metadata": {},
   "outputs": [],
   "source": [
    "dft_datasets = {\n",
    "    \"WyFormerDirect\": (\"WyckoffTransformer\", \"DFT\"),\n",
    "    \"WyFormerCrySPR\": (\"WyckoffTransformer\", \"CrySPR\", \"CHGNet_fix\", \"DFT\"),\n",
    "    \"WyFormerDiffCSP++\": (\"WyckoffTransformer\", \"DiffCSP++\", \"DFT\"),\n",
    "    \"WyFormerHarmonicDiffCSP++\": (\"WyckoffTransformer-harmonic\", \"DiffCSP++\", \"DFT\"),\n",
    "    \"WyLLM-DiffCSP++\": (\"WyckoffLLM-naive\", \"DiffCSP++\", \"DFT\"),\n",
    "    \"WyFormer-letters-DiffCSP++\": (\"WyckoffTransformer-letters\", \"DiffCSP++\", \"DFT\"),\n",
    "    \"SymmCD\": (\"SymmCD\", \"DFT\"),\n",
    "    \"DiffCSP\": (\"DiffCSP\", \"DFT\"),\n",
    "    \"CrystalFormer\": (\"CrystalFormer\", \"DFT\"),\n",
    "    \"DiffCSP++\": (\"DiffCSP++\", \"DFT\"),\n",
    "    \"FlowMM\": (\"FlowMM\", \"DFT\")\n",
    "}\n",
    "\n",
    "source_datasets = {name: t[:-1] for name, t in dft_datasets.items()}"
   ]
  },
  {
   "cell_type": "code",
   "execution_count": 18,
   "metadata": {},
   "outputs": [],
   "source": [
    "chgnet_datasets = {\n",
    "    \"WyFormerDirect\": (\"WyckoffTransformer\", \"CrySPR\", \"CHGNet_fix_release\"),\n",
    "    \"WyFormerCrySPR\": (\"WyckoffTransformer\", \"CrySPR\", \"CHGNet_fix_release\"),\n",
    "    \"WyFormerDiffCSP++\": (\"WyckoffTransformer\", \"DiffCSP++\", \"CHGNet_fix\"),\n",
    "    \"WyLLM-DiffCSP++\": (\"WyckoffLLM-naive\", \"DiffCSP++\", \"CHGNet_fix\"),\n",
    "    \"WyFormer-letters-DiffCSP++\": (\"WyckoffTransformer-letters\", \"DiffCSP++\", \"CHGNet_fix\"),\n",
    "    \"WyFormerHarmonicDiffCSP++\": (\"WyckoffTransformer-harmonic\", \"DiffCSP++\", \"CHGNet_fix\"),\n",
    "    \"SymmCD\": (\"SymmCD\", \"CHGNet_fix\"),\n",
    "    \"DiffCSP\": (\"DiffCSP\", \"CHGNet_fix\"),\n",
    "    \"CrystalFormer\": (\"CrystalFormer\", \"CHGNet_fix_release\"),\n",
    "    \"DiffCSP++\": (\"DiffCSP++\", \"CHGNet_fix_release\"),\n",
    "    \"FlowMM\": (\"FlowMM\", \"CHGNet_fix\")\n",
    "}"
   ]
  },
  {
   "cell_type": "code",
   "execution_count": 19,
   "metadata": {},
   "outputs": [],
   "source": [
    "chgnet_data = load_all_from_config(datasets=list(chgnet_datasets.values()) + [('WyckoffTransformer', 'CrySPR', 'CHGNet_fix')])"
   ]
  },
  {
   "cell_type": "code",
   "execution_count": 20,
   "metadata": {},
   "outputs": [
    {
     "ename": "FileNotFoundError",
     "evalue": "[Errno 2] No such file or directory: '/home/kna/WyckoffTransformer/ICML_eval/../cache/mp_20/analysis_datasets/WyCryst/CrySPR/CHGNet_fix/DFT.pkl.gz'",
     "output_type": "error",
     "traceback": [
      "\u001b[0;31m---------------------------------------------------------------------------\u001b[0m",
      "\u001b[0;31mRemoteTraceback\u001b[0m                           Traceback (most recent call last)",
      "\u001b[0;31mRemoteTraceback\u001b[0m: \n\"\"\"\nTraceback (most recent call last):\n  File \"/usr/lib/python3.12/multiprocessing/pool.py\", line 125, in worker\n    result = (True, func(*args, **kwds))\n                    ^^^^^^^^^^^^^^^^^^^\n  File \"/usr/lib/python3.12/multiprocessing/pool.py\", line 48, in mapstar\n    return list(map(*args))\n           ^^^^^^^^^^^^^^^^\n  File \"/home/kna/WyckoffTransformer/ICML_eval/../evaluation/generated_dataset.py\", line 438, in from_cache\n    with gzip.open(cache_location, \"rb\") as f:\n         ^^^^^^^^^^^^^^^^^^^^^^^^^^^^^^^\n  File \"/usr/lib/python3.12/gzip.py\", line 61, in open\n    binary_file = GzipFile(filename, gz_mode, compresslevel)\n                  ^^^^^^^^^^^^^^^^^^^^^^^^^^^^^^^^^^^^^^^^^^\n  File \"/usr/lib/python3.12/gzip.py\", line 192, in __init__\n    fileobj = self.myfileobj = builtins.open(filename, mode or 'rb')\n                               ^^^^^^^^^^^^^^^^^^^^^^^^^^^^^^^^^^^^^\nFileNotFoundError: [Errno 2] No such file or directory: '/home/kna/WyckoffTransformer/ICML_eval/../cache/mp_20/analysis_datasets/WyCryst/CrySPR/CHGNet_fix/DFT.pkl.gz'\n\"\"\"",
      "\nThe above exception was the direct cause of the following exception:\n",
      "\u001b[0;31mFileNotFoundError\u001b[0m                         Traceback (most recent call last)",
      "Cell \u001b[0;32mIn[20], line 1\u001b[0m\n\u001b[0;32m----> 1\u001b[0m all_datasets \u001b[38;5;241m=\u001b[39m \u001b[43mload_all_from_config\u001b[49m\u001b[43m(\u001b[49m\n\u001b[1;32m      2\u001b[0m \u001b[43m    \u001b[49m\u001b[43mdatasets\u001b[49m\u001b[38;5;241;43m=\u001b[39;49m\u001b[38;5;28;43mlist\u001b[39;49m\u001b[43m(\u001b[49m\u001b[43mdft_datasets\u001b[49m\u001b[38;5;241;43m.\u001b[39;49m\u001b[43mvalues\u001b[49m\u001b[43m(\u001b[49m\u001b[43m)\u001b[49m\u001b[43m)\u001b[49m\u001b[43m \u001b[49m\u001b[38;5;241;43m+\u001b[39;49m\u001b[43m \u001b[49m\u001b[38;5;28;43mlist\u001b[39;49m\u001b[43m(\u001b[49m\u001b[43msource_datasets\u001b[49m\u001b[38;5;241;43m.\u001b[39;49m\u001b[43mvalues\u001b[49m\u001b[43m(\u001b[49m\u001b[43m)\u001b[49m\u001b[43m)\u001b[49m\u001b[43m \u001b[49m\u001b[38;5;241;43m+\u001b[39;49m\u001b[43m \u001b[49m\u001b[43m\\\u001b[49m\n\u001b[1;32m      3\u001b[0m \u001b[43m        \u001b[49m\u001b[43m[\u001b[49m\u001b[43m(\u001b[49m\u001b[38;5;124;43m\"\u001b[39;49m\u001b[38;5;124;43msplit\u001b[39;49m\u001b[38;5;124;43m\"\u001b[39;49m\u001b[43m,\u001b[49m\u001b[43m \u001b[49m\u001b[38;5;124;43m\"\u001b[39;49m\u001b[38;5;124;43mtrain\u001b[39;49m\u001b[38;5;124;43m\"\u001b[39;49m\u001b[43m)\u001b[49m\u001b[43m,\u001b[49m\u001b[43m \u001b[49m\u001b[43m(\u001b[49m\u001b[38;5;124;43m\"\u001b[39;49m\u001b[38;5;124;43msplit\u001b[39;49m\u001b[38;5;124;43m\"\u001b[39;49m\u001b[43m,\u001b[49m\u001b[43m \u001b[49m\u001b[38;5;124;43m\"\u001b[39;49m\u001b[38;5;124;43mval\u001b[39;49m\u001b[38;5;124;43m\"\u001b[39;49m\u001b[43m)\u001b[49m\u001b[43m,\u001b[49m\u001b[43m \u001b[49m\u001b[43m(\u001b[49m\u001b[38;5;124;43m\"\u001b[39;49m\u001b[38;5;124;43msplit\u001b[39;49m\u001b[38;5;124;43m\"\u001b[39;49m\u001b[43m,\u001b[49m\u001b[43m \u001b[49m\u001b[38;5;124;43m\"\u001b[39;49m\u001b[38;5;124;43mtest\u001b[39;49m\u001b[38;5;124;43m\"\u001b[39;49m\u001b[43m)\u001b[49m\u001b[43m]\u001b[49m\u001b[43m,\u001b[49m\n\u001b[1;32m      4\u001b[0m \u001b[43m    \u001b[49m\u001b[43mdataset_name\u001b[49m\u001b[38;5;241;43m=\u001b[39;49m\u001b[38;5;124;43m\"\u001b[39;49m\u001b[38;5;124;43mmp_20\u001b[39;49m\u001b[38;5;124;43m\"\u001b[39;49m\u001b[43m)\u001b[49m\n",
      "File \u001b[0;32m~/WyckoffTransformer/ICML_eval/../evaluation/generated_dataset.py:88\u001b[0m, in \u001b[0;36mload_all_from_config\u001b[0;34m(datasets, dataset_name, config_path)\u001b[0m\n\u001b[1;32m     86\u001b[0m load_from_this_dataset \u001b[38;5;241m=\u001b[39m partial(GeneratedDataset\u001b[38;5;241m.\u001b[39mfrom_cache, dataset\u001b[38;5;241m=\u001b[39mdataset_name)\n\u001b[1;32m     87\u001b[0m \u001b[38;5;28;01mwith\u001b[39;00m Pool(\u001b[38;5;241m10\u001b[39m) \u001b[38;5;28;01mas\u001b[39;00m pool:\n\u001b[0;32m---> 88\u001b[0m     datasest_list \u001b[38;5;241m=\u001b[39m \u001b[43mpool\u001b[49m\u001b[38;5;241;43m.\u001b[39;49m\u001b[43mmap\u001b[49m\u001b[43m(\u001b[49m\u001b[43mload_from_this_dataset\u001b[49m\u001b[43m,\u001b[49m\u001b[43m \u001b[49m\u001b[43mavailable_dataset_signatures\u001b[49m\u001b[43m)\u001b[49m\n\u001b[1;32m     89\u001b[0m datasets \u001b[38;5;241m=\u001b[39m \u001b[38;5;28mdict\u001b[39m(\u001b[38;5;28mzip\u001b[39m(available_dataset_signatures, datasest_list))\n\u001b[1;32m     91\u001b[0m \u001b[38;5;28;01mif\u001b[39;00m dataset_name \u001b[38;5;241m==\u001b[39m \u001b[38;5;124m\"\u001b[39m\u001b[38;5;124mmp_20\u001b[39m\u001b[38;5;124m\"\u001b[39m:\n",
      "File \u001b[0;32m/usr/lib/python3.12/multiprocessing/pool.py:367\u001b[0m, in \u001b[0;36mPool.map\u001b[0;34m(self, func, iterable, chunksize)\u001b[0m\n\u001b[1;32m    362\u001b[0m \u001b[38;5;28;01mdef\u001b[39;00m \u001b[38;5;21mmap\u001b[39m(\u001b[38;5;28mself\u001b[39m, func, iterable, chunksize\u001b[38;5;241m=\u001b[39m\u001b[38;5;28;01mNone\u001b[39;00m):\n\u001b[1;32m    363\u001b[0m \u001b[38;5;250m    \u001b[39m\u001b[38;5;124;03m'''\u001b[39;00m\n\u001b[1;32m    364\u001b[0m \u001b[38;5;124;03m    Apply `func` to each element in `iterable`, collecting the results\u001b[39;00m\n\u001b[1;32m    365\u001b[0m \u001b[38;5;124;03m    in a list that is returned.\u001b[39;00m\n\u001b[1;32m    366\u001b[0m \u001b[38;5;124;03m    '''\u001b[39;00m\n\u001b[0;32m--> 367\u001b[0m     \u001b[38;5;28;01mreturn\u001b[39;00m \u001b[38;5;28;43mself\u001b[39;49m\u001b[38;5;241;43m.\u001b[39;49m\u001b[43m_map_async\u001b[49m\u001b[43m(\u001b[49m\u001b[43mfunc\u001b[49m\u001b[43m,\u001b[49m\u001b[43m \u001b[49m\u001b[43miterable\u001b[49m\u001b[43m,\u001b[49m\u001b[43m \u001b[49m\u001b[43mmapstar\u001b[49m\u001b[43m,\u001b[49m\u001b[43m \u001b[49m\u001b[43mchunksize\u001b[49m\u001b[43m)\u001b[49m\u001b[38;5;241;43m.\u001b[39;49m\u001b[43mget\u001b[49m\u001b[43m(\u001b[49m\u001b[43m)\u001b[49m\n",
      "File \u001b[0;32m/usr/lib/python3.12/multiprocessing/pool.py:774\u001b[0m, in \u001b[0;36mApplyResult.get\u001b[0;34m(self, timeout)\u001b[0m\n\u001b[1;32m    772\u001b[0m     \u001b[38;5;28;01mreturn\u001b[39;00m \u001b[38;5;28mself\u001b[39m\u001b[38;5;241m.\u001b[39m_value\n\u001b[1;32m    773\u001b[0m \u001b[38;5;28;01melse\u001b[39;00m:\n\u001b[0;32m--> 774\u001b[0m     \u001b[38;5;28;01mraise\u001b[39;00m \u001b[38;5;28mself\u001b[39m\u001b[38;5;241m.\u001b[39m_value\n",
      "\u001b[0;31mFileNotFoundError\u001b[0m: [Errno 2] No such file or directory: '/home/kna/WyckoffTransformer/ICML_eval/../cache/mp_20/analysis_datasets/WyCryst/CrySPR/CHGNet_fix/DFT.pkl.gz'"
     ]
    }
   ],
   "source": [
    "all_datasets = load_all_from_config(\n",
    "    datasets=list(dft_datasets.values()) + list(source_datasets.values()) + \\\n",
    "        [(\"split\", \"train\"), (\"split\", \"val\"), (\"split\", \"test\")],\n",
    "    dataset_name=\"mp_20\")"
   ]
  },
  {
   "cell_type": "code",
   "execution_count": null,
   "metadata": {},
   "outputs": [],
   "source": [
    "wycryst_transformations = ('WyCryst', 'CrySPR', 'CHGNet_fix')\n",
    "source_datasets[\"WyCryst\"] = wycryst_transformations\n",
    "chgnet_datasets[\"WyCryst\"] = wycryst_transformations\n",
    "chgnet_data[wycryst_transformations] = GeneratedDataset.from_cache(wycryst_transformations, \"mp_20_biternary\")\n",
    "dft_datasets[\"WyCryst\"] = tuple(list(wycryst_transformations) + [\"DFT\"])\n",
    "all_datasets[dft_datasets[\"WyCryst\"]] = GeneratedDataset.from_cache(dft_datasets[\"WyCryst\"], \"mp_20_biternary\")"
   ]
  },
  {
   "cell_type": "code",
   "execution_count": null,
   "metadata": {},
   "outputs": [],
   "source": [
    "excluded_categories = frozenset([\"radioactive\", \"rare_earth_metal\", \"noble_gas\"])\n",
    "from pymatgen.core import Structure\n",
    "def check_composition(structure: Structure) -> bool:\n",
    "    for category in excluded_categories:\n",
    "        if structure.composition.contains_element_type(category):\n",
    "            return False\n",
    "    return True"
   ]
  },
  {
   "cell_type": "code",
   "execution_count": null,
   "metadata": {},
   "outputs": [],
   "source": [
    "novelty_reference = pd.concat([\n",
    "    all_datasets[('split', 'train')].data,\n",
    "    all_datasets[('split', 'val')].data], axis=0, verify_integrity=True)\n",
    "novelty_filter = NoveltyFilter(novelty_reference)"
   ]
  },
  {
   "cell_type": "code",
   "execution_count": null,
   "metadata": {},
   "outputs": [],
   "source": [
    "import evaluation.statistical_evaluator\n",
    "test_evaluator = evaluation.statistical_evaluator.StatisticalEvaluator(all_datasets[('split', 'test')].data)"
   ]
  },
  {
   "cell_type": "code",
   "execution_count": null,
   "metadata": {},
   "outputs": [],
   "source": [
    "import evaluation.novelty\n",
    "train_w_template_set = frozenset(novelty_reference.apply(evaluation.novelty.record_to_anonymous_fingerprint, axis=1))"
   ]
  },
  {
   "cell_type": "code",
   "execution_count": null,
   "metadata": {},
   "outputs": [],
   "source": [
    "def is_sg_preserved(relaxed_sg, transformations: Tuple[str]) -> pd.Series:\n",
    "    source_sg = all_datasets[transformations[:-1]].data.spacegroup_number\n",
    "    return relaxed_sg == source_sg.reindex_like(relaxed_sg)"
   ]
  },
  {
   "cell_type": "code",
   "execution_count": null,
   "metadata": {},
   "outputs": [
    {
     "data": {
      "text/plain": [
       "0.9057020937893829"
      ]
     },
     "execution_count": 12,
     "metadata": {},
     "output_type": "execute_result"
    }
   ],
   "source": [
    "mp_20 = pd.concat([\n",
    "    all_datasets[('split', 'train')].data,\n",
    "    all_datasets[('split', 'test')].data,\n",
    "    all_datasets[('split', 'val')].data], axis=0, verify_integrity=True)\n",
    "(mp_20.spacegroup_number == 1).mean()\n",
    "mp_20.smact_validity.mean()"
   ]
  },
  {
   "cell_type": "code",
   "execution_count": null,
   "metadata": {},
   "outputs": [],
   "source": [
    "from collections import Counter\n",
    "from operator import itemgetter\n",
    "from itertools import chain\n",
    "element_counts = Counter(chain(*mp_20.elements))"
   ]
  },
  {
   "cell_type": "code",
   "execution_count": null,
   "metadata": {},
   "outputs": [],
   "source": [
    "represented_elements=frozenset(map(itemgetter(0), element_counts.most_common(30)))"
   ]
  },
  {
   "cell_type": "code",
   "execution_count": null,
   "metadata": {},
   "outputs": [],
   "source": [
    "def check_represented_composition(structure: Structure) -> bool:\n",
    "    for element in structure.composition:\n",
    "        if element not in represented_elements:\n",
    "            return False\n",
    "    return True"
   ]
  },
  {
   "cell_type": "code",
   "execution_count": null,
   "metadata": {},
   "outputs": [],
   "source": [
    "top_10_groups = frozenset(mp_20.spacegroup_number.value_counts().iloc[:10].index)\n",
    "n_elements_dist = {}"
   ]
  },
  {
   "cell_type": "markdown",
   "metadata": {},
   "source": [
    "Validity\n",
    "1. Vanilla; Valid records: 2866 / 9648 = 29.71%\n",
    "2. Naive; Valid records: 9492 / 9804 = 96.82%\n",
    "3. Site Symmetry; Valid records: 8955 / 9709 = 92.23%"
   ]
  },
  {
   "cell_type": "code",
   "execution_count": null,
   "metadata": {},
   "outputs": [
    {
     "data": {
      "application/vnd.jupyter.widget-view+json": {
       "model_id": "0dd83bfa72a14c618aeeaffa9920f1b7",
       "version_major": 2,
       "version_minor": 0
      },
      "text/plain": [
       "  0%|          | 0/12 [00:00<?, ?it/s]"
      ]
     },
     "metadata": {},
     "output_type": "display_data"
    },
    {
     "ename": "KeyError",
     "evalue": "'WyFormerHarmonicDiffCSP++'",
     "output_type": "error",
     "traceback": [
      "\u001b[0;31m---------------------------------------------------------------------------\u001b[0m",
      "\u001b[0;31mKeyError\u001b[0m                                  Traceback (most recent call last)",
      "Cell \u001b[0;32mIn[17], line 18\u001b[0m\n\u001b[1;32m     16\u001b[0m \u001b[38;5;28;01mexcept\u001b[39;00m \u001b[38;5;167;01mKeyError\u001b[39;00m:\n\u001b[1;32m     17\u001b[0m     source_dataset \u001b[38;5;241m=\u001b[39m chgnet_data[transformations[:\u001b[38;5;241m-\u001b[39m\u001b[38;5;241m1\u001b[39m]]\n\u001b[0;32m---> 18\u001b[0m chgnet_dataset \u001b[38;5;241m=\u001b[39m chgnet_data[\u001b[43mchgnet_datasets\u001b[49m\u001b[43m[\u001b[49m\u001b[43mname\u001b[49m\u001b[43m]\u001b[49m]\n\u001b[1;32m     20\u001b[0m unique \u001b[38;5;241m=\u001b[39m filter_by_unique_structure(dataset\u001b[38;5;241m.\u001b[39mdata)\n\u001b[1;32m     21\u001b[0m novel \u001b[38;5;241m=\u001b[39m novelty_filter\u001b[38;5;241m.\u001b[39mget_novel(unique)\n",
      "\u001b[0;31mKeyError\u001b[0m: 'WyFormerHarmonicDiffCSP++'"
     ]
    }
   ],
   "source": [
    "table = pd.DataFrame(\n",
    "    index=dft_datasets.keys(), columns=[\n",
    "        \"DFT dataset size\",\n",
    "        \"Source Novelty (%)\",\n",
    "        \"In-DFT Novelty (%)\",\n",
    "        \"S.U.N. (%)\",\n",
    "        \"P1 in source (%)\",\n",
    "        \"S.S.U.N. (%)\"])\n",
    "table.index.name = \"Method\"\n",
    "E_hull_threshold = 0.08\n",
    "for name, transformations in tqdm(dft_datasets.items()):\n",
    "    dataset = all_datasets[transformations]\n",
    "    table.loc[name, \"DFT dataset size\"] = len(dataset.data)\n",
    "    try:\n",
    "        source_dataset = all_datasets[transformations[:-1]]\n",
    "    except KeyError:\n",
    "        source_dataset = chgnet_data[transformations[:-1]]\n",
    "    chgnet_dataset = chgnet_data[chgnet_datasets[name]]\n",
    "\n",
    "    unique = filter_by_unique_structure(dataset.data)\n",
    "    novel = novelty_filter.get_novel(unique)\n",
    "    table.loc[name, \"In-DFT Novelty (%)\"] = 100 * len(novel) / len(unique)\n",
    "    source_novel = novelty_filter.get_novel(source_dataset.data)\n",
    "    source_novelty = 100 * len(source_novel) / len(source_dataset.data)\n",
    "    table.loc[name, \"Source Novelty (%)\"] = len(novel) / len(unique) * source_novelty\n",
    "    table.loc[name, \"P1 in source (%)\"] = 100 * (source_novel.group == 1).mean()\n",
    "    try:\n",
    "        table.loc[name, \"SG preserved (%)\"] = 100 * is_sg_preserved(novel.spacegroup_number, transformations).mean()\n",
    "    except KeyError:\n",
    "        pass\n",
    "    # source_novel_symmetric = (source_novel.group != 1).sum() / len(source_dataset.data)\n",
    "    # table[\"Source Novel !P1 (%)\"] = 100 * source_novel_symmetric\n",
    "    # DFT failure == unreal structure\n",
    "    dft_structures = 105\n",
    "    has_ehull = dataset.data.corrected_e_hull.notna()\n",
    "    is_sun = (novel.corrected_e_hull <= E_hull_threshold) # & (novel.elements.apply(lambda x: len(frozenset(x))) >= 2)\n",
    "    table.loc[name, \"S.U.N. (%)\"] = source_novelty * is_sun.sum() / dft_structures\n",
    "    table.loc[name, \"total_sun\"] = is_sun.sum().astype(int)\n",
    "    table.loc[name, \"S.S.U.N. (%)\"] = source_novelty * (is_sun & (novel.group != 1)).sum() / dft_structures\n",
    "    table.loc[name, \"total_ssun\"] = (is_sun & (novel.group != 1)).sum().astype(int)\n",
    "    table.loc[name, \"P1 in stable (%)\"] = 100 * (novel[is_sun].group == 1).mean()\n",
    "\n",
    "    chgnet_unique = filter_by_unique_structure(chgnet_dataset.data)\n",
    "    chgnet_novel = novelty_filter.get_novel(chgnet_unique)\n",
    "    chgnet_is_sun = (chgnet_novel.corrected_chgnet_ehull < E_hull_threshold)\n",
    "    #table.loc[name, \"CHGNet dataset size\"] = chgnet_dataset.data.corrected_chgnet_ehull.notna().sum()\n",
    "    table.loc[name, \"S.U.N. (CHGNet) (%)\"] =  100 * chgnet_is_sun.sum() / chgnet_dataset.data.corrected_chgnet_ehull.notna().sum()\n",
    "    table.loc[name, \"S.S.U.N. (CHGNet) (%)\"] = 100 * (chgnet_is_sun & (chgnet_novel.group != 1)).sum() / chgnet_dataset.data.corrected_chgnet_ehull.notna().sum()\n",
    "    \n",
    "    chgnet_dft_available = chgnet_dataset.data.reindex(dataset.data.index[has_ehull])\n",
    "    table.loc[name, \"r DFT CHGNet\"] = \\\n",
    "        pearsonr((chgnet_dft_available.corrected_chgnet_ehull < E_hull_threshold).astype(float),\n",
    "                 (dataset.data.corrected_e_hull < E_hull_threshold).astype(float)).correlation\n",
    "table"
   ]
  },
  {
   "cell_type": "code",
   "execution_count": 121,
   "metadata": {},
   "outputs": [],
   "source": [
    "def prettify(table):\n",
    "    return table.style.format({\n",
    "    \"S.U.N. (%)\": \"{:.1f}\",\n",
    "    \"S.S.U.N. (%)\": \"{:.1f}\",\n",
    "    #\"S.U.N. (CHGNet) (%)\": \"{:.1f}\",\n",
    "    #\"S.S.U.N. (CHGNet) (%)\": \"{:.1f}\",\n",
    "    #\"r DFT CHGNet\": \"{:.2f}\",\n",
    "}).highlight_max(props=\"font-weight: bold\", axis=0, subset=[\"S.U.N. (%)\", \"S.S.U.N. (%)\"])"
   ]
  },
  {
   "cell_type": "code",
   "execution_count": 122,
   "metadata": {},
   "outputs": [],
   "source": [
    "selected_table = table.loc[:, [\"S.U.N. (%)\", \"S.S.U.N. (%)\"]]"
   ]
  },
  {
   "cell_type": "code",
   "execution_count": 123,
   "metadata": {},
   "outputs": [
    {
     "data": {
      "text/html": [
       "<style type=\"text/css\">\n",
       "#T_41efa_row3_col0, #T_41efa_row6_col1 {\n",
       "  font-weight: bold;\n",
       "}\n",
       "</style>\n",
       "<table id=\"T_41efa\">\n",
       "  <thead>\n",
       "    <tr>\n",
       "      <th class=\"blank level0\" >&nbsp;</th>\n",
       "      <th id=\"T_41efa_level0_col0\" class=\"col_heading level0 col0\" >S.U.N. (%)</th>\n",
       "      <th id=\"T_41efa_level0_col1\" class=\"col_heading level0 col1\" >S.S.U.N. (%)</th>\n",
       "    </tr>\n",
       "    <tr>\n",
       "      <th class=\"index_name level0\" >Method</th>\n",
       "      <th class=\"blank col0\" >&nbsp;</th>\n",
       "      <th class=\"blank col1\" >&nbsp;</th>\n",
       "    </tr>\n",
       "  </thead>\n",
       "  <tbody>\n",
       "    <tr>\n",
       "      <th id=\"T_41efa_level0_row0\" class=\"row_heading level0 row0\" >WyFormerDirect</th>\n",
       "      <td id=\"T_41efa_row0_col0\" class=\"data row0 col0\" >4.3</td>\n",
       "      <td id=\"T_41efa_row0_col1\" class=\"data row0 col1\" >4.3</td>\n",
       "    </tr>\n",
       "    <tr>\n",
       "      <th id=\"T_41efa_level0_row1\" class=\"row_heading level0 row1\" >WyFormerCrySPR</th>\n",
       "      <td id=\"T_41efa_row1_col0\" class=\"data row1 col0\" >6.9</td>\n",
       "      <td id=\"T_41efa_row1_col1\" class=\"data row1 col1\" >6.9</td>\n",
       "    </tr>\n",
       "    <tr>\n",
       "      <th id=\"T_41efa_level0_row2\" class=\"row_heading level0 row2\" >WyFormerDiffCSP++</th>\n",
       "      <td id=\"T_41efa_row2_col0\" class=\"data row2 col0\" >12.8</td>\n",
       "      <td id=\"T_41efa_row2_col1\" class=\"data row2 col1\" >12.8</td>\n",
       "    </tr>\n",
       "    <tr>\n",
       "      <th id=\"T_41efa_level0_row3\" class=\"row_heading level0 row3\" >DiffCSP</th>\n",
       "      <td id=\"T_41efa_row3_col0\" class=\"data row3 col0\" >19.7</td>\n",
       "      <td id=\"T_41efa_row3_col1\" class=\"data row3 col1\" >13.7</td>\n",
       "    </tr>\n",
       "    <tr>\n",
       "      <th id=\"T_41efa_level0_row4\" class=\"row_heading level0 row4\" >CrystalFormer</th>\n",
       "      <td id=\"T_41efa_row4_col0\" class=\"data row4 col0\" >13.4</td>\n",
       "      <td id=\"T_41efa_row4_col1\" class=\"data row4 col1\" >13.4</td>\n",
       "    </tr>\n",
       "    <tr>\n",
       "      <th id=\"T_41efa_level0_row5\" class=\"row_heading level0 row5\" >DiffCSP++</th>\n",
       "      <td id=\"T_41efa_row5_col0\" class=\"data row5 col0\" >7.6</td>\n",
       "      <td id=\"T_41efa_row5_col1\" class=\"data row5 col1\" >7.6</td>\n",
       "    </tr>\n",
       "    <tr>\n",
       "      <th id=\"T_41efa_level0_row6\" class=\"row_heading level0 row6\" >FlowMM</th>\n",
       "      <td id=\"T_41efa_row6_col0\" class=\"data row6 col0\" >16.9</td>\n",
       "      <td id=\"T_41efa_row6_col1\" class=\"data row6 col1\" >16.1</td>\n",
       "    </tr>\n",
       "    <tr>\n",
       "      <th id=\"T_41efa_level0_row7\" class=\"row_heading level0 row7\" >WyCryst</th>\n",
       "      <td id=\"T_41efa_row7_col0\" class=\"data row7 col0\" >5.5</td>\n",
       "      <td id=\"T_41efa_row7_col1\" class=\"data row7 col1\" >5.5</td>\n",
       "    </tr>\n",
       "  </tbody>\n",
       "</table>\n"
      ],
      "text/plain": [
       "<pandas.io.formats.style.Styler at 0x7f53a14471a0>"
      ]
     },
     "execution_count": 123,
     "metadata": {},
     "output_type": "execute_result"
    }
   ],
   "source": [
    "pretty_table = prettify(selected_table)\n",
    "pretty_table.to_latex(\"tables/dft.tex\", siunitx=True, convert_css=True)\n",
    "pretty_table"
   ]
  },
  {
   "cell_type": "code",
   "execution_count": 25,
   "metadata": {},
   "outputs": [
    {
     "data": {
      "text/plain": [
       "0.9713685606898077"
      ]
     },
     "execution_count": 25,
     "metadata": {},
     "output_type": "execute_result"
    }
   ],
   "source": [
    "all_datasets[('split', 'test')].data.apply(evaluation.novelty.record_to_anonymous_fingerprint, axis=1).isin(train_w_template_set).mean()"
   ]
  },
  {
   "cell_type": "code",
   "execution_count": 26,
   "metadata": {},
   "outputs": [
    {
     "data": {
      "text/plain": [
       "0.9328985186822906"
      ]
     },
     "execution_count": 26,
     "metadata": {},
     "output_type": "execute_result"
    }
   ],
   "source": [
    "all_datasets[('split', 'test')].data.apply(evaluation.novelty.record_to_strict_AFLOW_fingerprint, axis=1).isin(train_strict_AFLOW_set).mean()"
   ]
  },
  {
   "cell_type": "code",
   "execution_count": 27,
   "metadata": {},
   "outputs": [],
   "source": [
    "CF_CG = GeneratedDataset.from_cache((\"CrystalFormer\", \"CHGNet_fix_release\"))"
   ]
  },
  {
   "cell_type": "code",
   "execution_count": 99,
   "metadata": {},
   "outputs": [],
   "source": [
    "from scipy.stats import ttest_ind\n",
    "import numpy as np\n",
    "def get_observation(name, column=\"total_ssun\"):\n",
    "    all_observations = np.zeros(dft_structures)\n",
    "    all_observations[:int(table.at[name, column])] = table.loc[name, \"Source Novelty (%)\"]/100\n",
    "    return all_observations"
   ]
  },
  {
   "cell_type": "code",
   "execution_count": 101,
   "metadata": {},
   "outputs": [
    {
     "name": "stdout",
     "output_type": "stream",
     "text": [
      "WyFormerDirect TtestResult(statistic=2.8699643276771534, pvalue=0.004529164843545496, df=208.0)\n",
      "WyFormerCrySPR TtestResult(statistic=2.0489237904086535, pvalue=0.04172504759818785, df=208.0)\n",
      "WyFormerDiffCSP++ TtestResult(statistic=0.5399251990582908, pvalue=0.5898261986038633, df=208.0)\n",
      "DiffCSP TtestResult(statistic=0.3358706725126662, pvalue=0.7373069464508927, df=208.0)\n",
      "CrystalFormer TtestResult(statistic=0.4278113819160564, pvalue=0.669231052265232, df=208.0)\n",
      "DiffCSP++ TtestResult(statistic=1.8300352833914524, pvalue=0.0686759122341314, df=208.0)\n",
      "FlowMM TtestResult(statistic=0.0, pvalue=1.0, df=208.0)\n"
     ]
    }
   ],
   "source": [
    "for second in table.index:\n",
    "    print(second, ttest_ind(get_observation(\"FlowMM\"), get_observation(second)))"
   ]
  },
  {
   "cell_type": "code",
   "execution_count": 103,
   "metadata": {},
   "outputs": [
    {
     "name": "stdout",
     "output_type": "stream",
     "text": [
      "WyFormerDirect TtestResult(statistic=3.7329421055392644, pvalue=0.0002442600601858129, df=208.0)\n",
      "WyFormerCrySPR TtestResult(statistic=2.933952952207651, pvalue=0.0037223172815396767, df=208.0)\n",
      "WyFormerDiffCSP++ TtestResult(statistic=1.444489793625256, pvalue=0.15010593136692968, df=208.0)\n",
      "DiffCSP TtestResult(statistic=0.0, pvalue=1.0, df=208.0)\n",
      "CrystalFormer TtestResult(statistic=1.3621411208732088, pvalue=0.1746266271124153, df=208.0)\n",
      "DiffCSP++ TtestResult(statistic=2.7203519120538746, pvalue=0.007073135428130352, df=208.0)\n",
      "FlowMM TtestResult(statistic=0.7296066705938044, pvalue=0.4664514752444603, df=208.0)\n"
     ]
    }
   ],
   "source": [
    "for second in table.index:\n",
    "    print(second, ttest_ind(get_observation(\"DiffCSP\", column=\"total_sun\"), get_observation(second, column=\"total_sun\")))"
   ]
  }
 ],
 "metadata": {
  "kernelspec": {
   "display_name": "wyckofftransformer-FeCwefly-py3.12",
   "language": "python",
   "name": "python3"
  },
  "language_info": {
   "codemirror_mode": {
    "name": "ipython",
    "version": 3
   },
   "file_extension": ".py",
   "mimetype": "text/x-python",
   "name": "python",
   "nbconvert_exporter": "python",
   "pygments_lexer": "ipython3",
   "version": "3.12.3"
  }
 },
 "nbformat": 4,
 "nbformat_minor": 2
}
