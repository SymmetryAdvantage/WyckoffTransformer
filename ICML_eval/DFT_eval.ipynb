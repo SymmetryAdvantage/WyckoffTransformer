{
 "cells": [
  {
   "cell_type": "code",
   "execution_count": 3,
   "metadata": {},
   "outputs": [
    {
     "name": "stderr",
     "output_type": "stream",
     "text": [
      "/work/y-tomiya/.cache/pypoetry/virtualenvs/wyckofftransformer-zMQH9JJo-py3.11/lib/python3.11/site-packages/matminer/utils/data.py:326: UserWarning: MagpieData(impute_nan=False):\n",
      "In a future release, impute_nan will be set to True by default.\n",
      "                    This means that features that are missing or are NaNs for elements\n",
      "                    from the data source will be replaced by the average of that value\n",
      "                    over the available elements.\n",
      "                    This avoids NaNs after featurization that are often replaced by\n",
      "                    dataset-dependent averages.\n",
      "  warnings.warn(f\"{self.__class__.__name__}(impute_nan=False):\\n\" + IMPUTE_NAN_WARNING)\n"
     ]
    }
   ],
   "source": [
    "from typing import Tuple\n",
    "import pandas as pd\n",
    "from scipy.stats import pearsonr\n",
    "from tqdm.notebook import tqdm\n",
    "import sys\n",
    "sys.path.append('..')\n",
    "\n",
    "from evaluation.generated_dataset import GeneratedDataset, load_all_from_config\n",
    "from evaluation.novelty import NoveltyFilter, filter_by_unique_structure"
   ]
  },
  {
   "cell_type": "code",
   "execution_count": 4,
   "metadata": {},
   "outputs": [
    {
     "data": {
      "text/plain": [
       "['/work/y-tomiya/.pyenv/versions/3.11.0/lib/python311.zip',\n",
       " '/work/y-tomiya/.pyenv/versions/3.11.0/lib/python3.11',\n",
       " '/work/y-tomiya/.pyenv/versions/3.11.0/lib/python3.11/lib-dynload',\n",
       " '',\n",
       " '/work/y-tomiya/.cache/pypoetry/virtualenvs/wyckofftransformer-zMQH9JJo-py3.11/lib/python3.11/site-packages',\n",
       " '..',\n",
       " '/work/y-tomiya/ntu/wyckoff_transformer_master/wyformer_latest/WyckoffTransformer',\n",
       " '/work/y-tomiya/ntu/wyckoff_transformer_master/wyformer_latest/WyckoffTransformer/ICML_eval/..',\n",
       " '/work/y-tomiya/ntu/wyckoff_transformer_master/wyformer_latest/WyckoffTransformer',\n",
       " '/tmp/tmp_dh895bb']"
      ]
     },
     "execution_count": 4,
     "metadata": {},
     "output_type": "execute_result"
    }
   ],
   "source": [
    "sys.path"
   ]
  },
  {
   "cell_type": "code",
   "execution_count": 5,
   "metadata": {},
   "outputs": [],
   "source": [
    "dft_datasets = {\n",
    "    # \"WyFormerDirect\": (\"WyckoffTransformer\", \"DFT\"),\n",
    "    # \"WyFormerCrySPR\": (\"WyckoffTransformer\", \"CrySPR\", \"CHGNet_fix\", \"DFT\"),\n",
    "    # \"WyFormerDiffCSP++\": (\"WyckoffTransformer\", \"DiffCSP++\", \"DFT\"),\n",
    "    # \"WyFormerDiffCSP++10k\": (\"WyckoffTransformer\", \"DiffCSP++10k\", \"CHGNet_free\", \"DFT\"),\n",
    "    # \"WyFormerDiffCSP++10k-GGA-relax-1\": (\"WyckoffTransformer\", \"DiffCSP++10k\", \"CHGNet_free\", \"DFT-GGA-relax-1\"),\n",
    "    # \"WyFormerHarmonicDiffCSP++\": (\"WyckoffTransformer-harmonic\", \"DiffCSP++\", \"DFT\"),\n",
    "    # \"WyLLM-DiffCSP++\": (\"WyckoffLLM-naive\", \"DiffCSP++\", \"DFT\"),\n",
    "    # \"WyFormer-letters-DiffCSP++\": (\"WyckoffTransformer-letters\", \"DiffCSP++\", \"DFT\"),\n",
    "    # \"SymmCD\": (\"SymmCD\", \"DFT\"),\n",
    "    # \"DiffCSP\": (\"DiffCSP\", \"DFT\"),\n",
    "    # \"CrystalFormer\": (\"CrystalFormer\", \"DFT\"),\n",
    "    # \"DiffCSP++\": (\"DiffCSP++\", \"DFT\"),\n",
    "    # \"FlowMM\": (\"FlowMM\", \"DFT\")\n",
    "    \"MatterGen\": (\"MatterGen\",\"MatterGen_10k\",\"DFT\"),\n",
    "}\n",
    "\n",
    "source_datasets = {name: t[:-1] for name, t in dft_datasets.items()}"
   ]
  },
  {
   "cell_type": "code",
   "execution_count": null,
   "metadata": {},
   "outputs": [],
   "source": [
    "chgnet_datasets = {\n",
    "    # \"WyFormerDirect\": (\"WyckoffTransformer\", \"CrySPR\", \"CHGNet_fix_release\"),\n",
    "    # \"WyFormerCrySPR\": (\"WyckoffTransformer\", \"CrySPR\", \"CHGNet_fix_release\"),\n",
    "    # \"WyFormerDiffCSP++\": (\"WyckoffTransformer\", \"DiffCSP++\", \"CHGNet_fix\"),\n",
    "    # \"WyFormerDiffCSP++10k\": (\"WyckoffTransformer\", \"DiffCSP++10k\", \"CHGNet_free\"),\n",
    "    # \"WyLLM-DiffCSP++\": (\"WyckoffLLM-naive\", \"DiffCSP++\", \"CHGNet_fix\"),\n",
    "    # \"WyFormer-letters-DiffCSP++\": (\"WyckoffTransformer-letters\", \"DiffCSP++\", \"CHGNet_fix\"),\n",
    "    # \"WyFormerHarmonicDiffCSP++\": (\"WyckoffTransformer-harmonic\", \"DiffCSP++\", \"CHGNet_fix\"),\n",
    "    # \"SymmCD\": (\"SymmCD\", \"CHGNet_fix\"),\n",
    "    # \"DiffCSP\": (\"DiffCSP\", \"CHGNet_fix\"),\n",
    "    # \"CrystalFormer\": (\"CrystalFormer\", \"CHGNet_fix_release\"),\n",
    "    # \"DiffCSP++\": (\"DiffCSP++\", \"CHGNet_fix_release\"),\n",
    "    # \"FlowMM\": (\"FlowMM\", \"CHGNet_fix\"),\n",
    "    \"MatterGen\":(\"MatterGen\", \"MatterGen_10k\", \"DFT\"),\n",
    "}"
   ]
  },
  {
   "cell_type": "code",
   "execution_count": 7,
   "metadata": {},
   "outputs": [],
   "source": [
    "# chgnet_data = load_all_from_config(datasets=list(chgnet_datasets.values()) + [('WyckoffTransformer', 'CrySPR', 'CHGNet_fix')])\n",
    "chgnet_data = load_all_from_config(datasets=list(chgnet_datasets.values()) + [('MatterGen','CHGNet_fix')])"
   ]
  },
  {
   "cell_type": "code",
   "execution_count": 28,
   "metadata": {},
   "outputs": [
    {
     "name": "stdout",
     "output_type": "stream",
     "text": [
      "('MatterGen', 'MatterGen_10k', 'DFT')\n",
      "Index(['cif_raw', 'formula', 'composition', 'energy_dft', 'energy_corrected',\n",
      "       'e_form', 'e_above_hull_corrected', 'structure', 'density',\n",
      "       'corrected_chgnet_ehull', 'site_symmetries', 'elements', 'multiplicity',\n",
      "       'wyckoff_letters', 'sites_enumeration', 'dof', 'spacegroup_number',\n",
      "       'sites_enumeration_augmented', 'fingerprint', 'group', 'sites',\n",
      "       'species', 'numIons', 'smact_validity', 'cdvae_crystal',\n",
      "       'structural_validity', 'naive_validity', 'cdvae_e'],\n",
      "      dtype='object')\n",
      "('MatterGen', 'CHGNet_fix')\n",
      "Index(['filename', 'id', 'structure', 'density', 'corrected_chgnet_ehull',\n",
      "       'site_symmetries', 'elements', 'multiplicity', 'wyckoff_letters',\n",
      "       'sites_enumeration', 'dof', 'spacegroup_number',\n",
      "       'sites_enumeration_augmented', 'composition', 'fingerprint', 'group',\n",
      "       'sites', 'species', 'numIons', 'smact_validity', 'cdvae_crystal',\n",
      "       'structural_validity', 'naive_validity', 'cdvae_e'],\n",
      "      dtype='object')\n"
     ]
    }
   ],
   "source": [
    "for i in chgnet_data:\n",
    "    print(i)\n",
    "    print( chgnet_data[i].data.columns)"
   ]
  },
  {
   "cell_type": "code",
   "execution_count": 5,
   "metadata": {},
   "outputs": [],
   "source": [
    "all_datasets = load_all_from_config(\n",
    "    datasets=list(dft_datasets.values()) + list(source_datasets.values()) + \\\n",
    "        [(\"split\", \"train\"), (\"split\", \"val\"), (\"split\", \"test\")],\n",
    "    dataset_name=\"mp_20\")"
   ]
  },
  {
   "cell_type": "markdown",
   "metadata": {},
   "source": [
    "### original oode"
   ]
  },
  {
   "cell_type": "code",
   "execution_count": 6,
   "metadata": {},
   "outputs": [],
   "source": [
    "wycryst_transformations = ('WyCryst', 'CrySPR', 'CHGNet_fix')\n",
    "source_datasets[\"WyCryst\"] = wycryst_transformations\n",
    "chgnet_datasets[\"WyCryst\"] = wycryst_transformations\n",
    "chgnet_data[wycryst_transformations] = GeneratedDataset.from_cache(wycryst_transformations, \"mp_20_biternary\")\n",
    "dft_datasets[\"WyCryst\"] = tuple(list(wycryst_transformations) + [\"DFT\"])\n",
    "all_datasets[dft_datasets[\"WyCryst\"]] = GeneratedDataset.from_cache(dft_datasets[\"WyCryst\"], \"mp_20_biternary\")"
   ]
  },
  {
   "cell_type": "markdown",
   "metadata": {},
   "source": [
    "### for MatterGen"
   ]
  },
  {
   "cell_type": "code",
   "execution_count": 40,
   "metadata": {},
   "outputs": [],
   "source": [
    "wycryst_transformations = ('MatterGen', 'MatterGen_10k','DFT')\n",
    "source_datasets[\"MatterGen\"] = wycryst_transformations\n",
    "chgnet_datasets[\"MatterGen\"] = wycryst_transformations\n",
    "chgnet_data[wycryst_transformations] = GeneratedDataset.from_cache(wycryst_transformations, \"mp_20\")\n",
    "# dft_datasets[\"MatterGen\"] = tuple(list(wycryst_transformations) + [\"DFT\"])\n",
    "dft_datasets[\"MatterGen\"] = tuple(list(wycryst_transformations))\n",
    "all_datasets[dft_datasets[\"MatterGen\"]] = GeneratedDataset.from_cache(dft_datasets[\"MatterGen\"], \"mp_20\")"
   ]
  },
  {
   "cell_type": "code",
   "execution_count": 41,
   "metadata": {},
   "outputs": [
    {
     "data": {
      "text/plain": [
       "{'MatterGen': ('MatterGen', 'MatterGen_10k', 'DFT')}"
      ]
     },
     "execution_count": 41,
     "metadata": {},
     "output_type": "execute_result"
    }
   ],
   "source": [
    "chgnet_datasets"
   ]
  },
  {
   "cell_type": "code",
   "execution_count": 42,
   "metadata": {},
   "outputs": [],
   "source": [
    "excluded_categories = frozenset([\"radioactive\", \"rare_earth_metal\", \"noble_gas\"])\n",
    "from pymatgen.core import Structure\n",
    "def check_composition(structure: Structure) -> bool:\n",
    "    for category in excluded_categories:\n",
    "        if structure.composition.contains_element_type(category):\n",
    "            return False\n",
    "    return True"
   ]
  },
  {
   "cell_type": "code",
   "execution_count": 43,
   "metadata": {},
   "outputs": [],
   "source": [
    "novelty_reference = pd.concat([\n",
    "    all_datasets[('split', 'train')].data,\n",
    "    all_datasets[('split', 'val')].data], axis=0, verify_integrity=True)\n",
    "novelty_filter = NoveltyFilter(novelty_reference)"
   ]
  },
  {
   "cell_type": "code",
   "execution_count": 44,
   "metadata": {},
   "outputs": [],
   "source": [
    "import evaluation.statistical_evaluator\n",
    "test_evaluator = evaluation.statistical_evaluator.StatisticalEvaluator(all_datasets[('split', 'test')].data)"
   ]
  },
  {
   "cell_type": "code",
   "execution_count": 45,
   "metadata": {},
   "outputs": [],
   "source": [
    "import evaluation.novelty\n",
    "train_w_template_set = frozenset(novelty_reference.apply(evaluation.novelty.record_to_anonymous_fingerprint, axis=1))"
   ]
  },
  {
   "cell_type": "code",
   "execution_count": 46,
   "metadata": {},
   "outputs": [],
   "source": [
    "def is_sg_preserved(relaxed_sg, transformations: Tuple[str]) -> pd.Series:\n",
    "    source_sg = all_datasets[transformations[:-1]].data.spacegroup_number\n",
    "    return relaxed_sg == source_sg.reindex_like(relaxed_sg)"
   ]
  },
  {
   "cell_type": "code",
   "execution_count": 47,
   "metadata": {},
   "outputs": [
    {
     "data": {
      "text/plain": [
       "0.9057020937893829"
      ]
     },
     "execution_count": 47,
     "metadata": {},
     "output_type": "execute_result"
    }
   ],
   "source": [
    "mp_20 = pd.concat([\n",
    "    all_datasets[('split', 'train')].data,\n",
    "    all_datasets[('split', 'test')].data,\n",
    "    all_datasets[('split', 'val')].data], axis=0, verify_integrity=True)\n",
    "(mp_20.spacegroup_number == 1).mean()\n",
    "mp_20.smact_validity.mean()"
   ]
  },
  {
   "cell_type": "code",
   "execution_count": 48,
   "metadata": {},
   "outputs": [],
   "source": [
    "from collections import Counter\n",
    "from operator import itemgetter\n",
    "from itertools import chain\n",
    "element_counts = Counter(chain(*mp_20.elements))"
   ]
  },
  {
   "cell_type": "code",
   "execution_count": 49,
   "metadata": {},
   "outputs": [],
   "source": [
    "represented_elements=frozenset(map(itemgetter(0), element_counts.most_common(30)))"
   ]
  },
  {
   "cell_type": "code",
   "execution_count": 50,
   "metadata": {},
   "outputs": [],
   "source": [
    "def check_represented_composition(structure: Structure) -> bool:\n",
    "    for element in structure.composition:\n",
    "        if element not in represented_elements:\n",
    "            return False\n",
    "    return True"
   ]
  },
  {
   "cell_type": "code",
   "execution_count": 51,
   "metadata": {},
   "outputs": [],
   "source": [
    "top_10_groups = frozenset(mp_20.spacegroup_number.value_counts().iloc[:10].index)\n",
    "n_elements_dist = {}"
   ]
  },
  {
   "cell_type": "code",
   "execution_count": 52,
   "metadata": {},
   "outputs": [],
   "source": [
    "train_novelty_filter = NoveltyFilter(all_datasets[('split', 'train')].data)"
   ]
  },
  {
   "cell_type": "code",
   "execution_count": 53,
   "metadata": {},
   "outputs": [],
   "source": [
    "from evaluation.novelty import filter_by_unique_structure_chem_sys_index"
   ]
  },
  {
   "cell_type": "code",
   "execution_count": 54,
   "metadata": {},
   "outputs": [],
   "source": [
    "def get_train_based_sun(dataset: pd.DataFrame, intial_count: int):\n",
    "    unique = filter_by_unique_structure_chem_sys_index(dataset)\n",
    "    print(\"Unique structures %\", len(unique)/len(dataset) * 100)\n",
    "    unique_novel = train_novelty_filter.get_novel(unique)\n",
    "    print(\"Novel & Unique structures %\", len(unique_novel)/len(dataset) * 100)\n",
    "    for threshold in (0, 0.08):\n",
    "        sun = ((unique_novel.e_above_hull_corrected < threshold) & unique_novel.structure.map(lambda s: len(set(s.composition)) >=2)).sum()\n",
    "        print(f\"S.U.N. (E<{threshold}) %: {sun/intial_count * 100:.2f})\")"
   ]
  },
  {
   "cell_type": "code",
   "execution_count": 21,
   "metadata": {},
   "outputs": [
    {
     "ename": "KeyError",
     "evalue": "'WyFormerDiffCSP++10k'",
     "output_type": "error",
     "traceback": [
      "\u001b[31m---------------------------------------------------------------------------\u001b[39m",
      "\u001b[31mKeyError\u001b[39m                                  Traceback (most recent call last)",
      "\u001b[36mCell\u001b[39m\u001b[36m \u001b[39m\u001b[32mIn[21]\u001b[39m\u001b[32m, line 1\u001b[39m\n\u001b[32m----> \u001b[39m\u001b[32m1\u001b[39m get_train_based_sun(all_datasets[\u001b[43mdft_datasets\u001b[49m\u001b[43m[\u001b[49m\u001b[33;43m\"\u001b[39;49m\u001b[33;43mWyFormerDiffCSP++10k\u001b[39;49m\u001b[33;43m\"\u001b[39;49m\u001b[43m]\u001b[49m].data, \u001b[32m1e4\u001b[39m)\n",
      "\u001b[31mKeyError\u001b[39m: 'WyFormerDiffCSP++10k'"
     ]
    }
   ],
   "source": [
    "get_train_based_sun(all_datasets[dft_datasets[\"WyFormerDiffCSP++10k\"]].data, 1e4)"
   ]
  },
  {
   "cell_type": "code",
   "execution_count": null,
   "metadata": {},
   "outputs": [
    {
     "name": "stdout",
     "output_type": "stream",
     "text": [
      "Unique structures % 98.80855397148676\n",
      "Novel & Unique structures % 92.60692464358452\n",
      "S.U.N. % (not counting failed) 4.429735234215886\n",
      "S.U.N. % (counting failed) 4.35\n"
     ]
    }
   ],
   "source": [
    "get_train_based_sun(all_datasets[dft_datasets[\"WyFormerDiffCSP++10k-GGA-relax-1\"]].data, 1e4)"
   ]
  },
  {
   "cell_type": "code",
   "execution_count": 55,
   "metadata": {},
   "outputs": [
    {
     "name": "stdout",
     "output_type": "stream",
     "text": [
      "Unique structures % 100.0\n",
      "Novel & Unique structures % 100.0\n",
      "S.U.N. (E<0) %: 0.03)\n",
      "S.U.N. (E<0.08) %: 0.28)\n"
     ]
    }
   ],
   "source": [
    "get_train_based_sun(all_datasets[dft_datasets[\"MatterGen\"]].data, 1e4)"
   ]
  },
  {
   "cell_type": "code",
   "execution_count": null,
   "metadata": {},
   "outputs": [
    {
     "name": "stdout",
     "output_type": "stream",
     "text": [
      "0.965513536742587\n"
     ]
    }
   ],
   "source": [
    "novel = train_novelty_filter.get_novel(wyformer_10k)\n",
    "print(len(filter_by_unique_structure_chem_sys_index(novel))/len(novel))"
   ]
  },
  {
   "cell_type": "code",
   "execution_count": null,
   "metadata": {},
   "outputs": [
    {
     "data": {
      "text/plain": [
       "0.9585"
      ]
     },
     "execution_count": 21,
     "metadata": {},
     "output_type": "execute_result"
    }
   ],
   "source": [
    "len(unique)/10000"
   ]
  },
  {
   "cell_type": "code",
   "execution_count": null,
   "metadata": {},
   "outputs": [],
   "source": [
    "wyformer_10k[\"is_novel\"] = wyformer_10k.apply(novelty_filter.is_novel, axis=1)\n",
    "wyformer_10k[\"is_novel_train\"] = wyformer_10k.apply(train_novelty_filter.is_novel, axis=1)"
   ]
  },
  {
   "cell_type": "code",
   "execution_count": null,
   "metadata": {},
   "outputs": [
    {
     "data": {
      "text/plain": [
       "0.9142341257899489"
      ]
     },
     "execution_count": 23,
     "metadata": {},
     "output_type": "execute_result"
    }
   ],
   "source": [
    "wyformer_10k[\"is_novel\"].mean()"
   ]
  },
  {
   "cell_type": "code",
   "execution_count": null,
   "metadata": {},
   "outputs": [
    {
     "data": {
      "text/plain": [
       "0.9336944528036915"
      ]
     },
     "execution_count": 24,
     "metadata": {},
     "output_type": "execute_result"
    }
   ],
   "source": [
    "wyformer_10k[\"is_novel_train\"].mean()"
   ]
  },
  {
   "cell_type": "code",
   "execution_count": null,
   "metadata": {},
   "outputs": [
    {
     "data": {
      "text/plain": [
       "0.0535"
      ]
     },
     "execution_count": 25,
     "metadata": {},
     "output_type": "execute_result"
    }
   ],
   "source": [
    "(wyformer_10k.e_above_hull_corrected < 0).sum()/10000"
   ]
  },
  {
   "cell_type": "code",
   "execution_count": null,
   "metadata": {},
   "outputs": [
    {
     "data": {
      "text/plain": [
       "0.3171"
      ]
     },
     "execution_count": 26,
     "metadata": {},
     "output_type": "execute_result"
    }
   ],
   "source": [
    "(wyformer_10k.e_above_hull_corrected < 0.1).sum()/10000"
   ]
  },
  {
   "cell_type": "markdown",
   "metadata": {},
   "source": [
    "Validity\n",
    "1. Vanilla; Valid records: 2866 / 9648 = 29.71%\n",
    "2. Naive; Valid records: 9492 / 9804 = 96.82%\n",
    "3. Site Symmetry; Valid records: 8955 / 9709 = 92.23%"
   ]
  },
  {
   "cell_type": "code",
   "execution_count": 43,
   "metadata": {},
   "outputs": [
    {
     "data": {
      "application/vnd.jupyter.widget-view+json": {
       "model_id": "20b097f04d8e40b0b456ff63bae6d9c0",
       "version_major": 2,
       "version_minor": 0
      },
      "text/plain": [
       "  0%|          | 0/1 [00:00<?, ?it/s]"
      ]
     },
     "metadata": {},
     "output_type": "display_data"
    },
    {
     "name": "stdout",
     "output_type": "stream",
     "text": [
      "MatterGen ('MatterGen', 'MatterGen_10k', 'DFT')\n"
     ]
    }
   ],
   "source": [
    "for name, transformations in tqdm(dft_datasets.items()):\n",
    "    \n",
    "    print(f\"{name} {transformations}\")"
   ]
  },
  {
   "cell_type": "code",
   "execution_count": 56,
   "metadata": {},
   "outputs": [
    {
     "data": {
      "application/vnd.jupyter.widget-view+json": {
       "model_id": "cf25dba5d1b049f7be421495fca0af42",
       "version_major": 2,
       "version_minor": 0
      },
      "text/plain": [
       "  0%|          | 0/1 [00:00<?, ?it/s]"
      ]
     },
     "metadata": {},
     "output_type": "display_data"
    },
    {
     "data": {
      "application/vnd.jupyter.widget-view+json": {
       "model_id": "6932bb73e8134df2a8e9cd5a036f55c4",
       "version_major": 2,
       "version_minor": 0
      },
      "text/plain": [
       "  0%|          | 0/1 [00:00<?, ?it/s]"
      ]
     },
     "metadata": {},
     "output_type": "display_data"
    }
   ],
   "source": [
    "tables = {}\n",
    "for E_hull_threshold in (0, 0.08):\n",
    "    table = pd.DataFrame(\n",
    "        index=dft_datasets.keys(), columns=[\n",
    "            \"DFT dataset size\",\n",
    "            \"Source Novelty (%)\",\n",
    "            \"In-DFT Novelty (%)\",\n",
    "            \"S.U.N. (%)\",\n",
    "            \"P1 in source (%)\",\n",
    "            \"S.S.U.N. (%)\"])\n",
    "    table.index.name = \"Method\"\n",
    "\n",
    "    for name, transformations in tqdm(dft_datasets.items()):\n",
    "        dataset = all_datasets[transformations]\n",
    "        if \"corrected_e_hull\" not in dataset.data.columns:\n",
    "            dataset.data[\"corrected_e_hull\"] = dataset.data.e_above_hull_corrected\n",
    "        table.loc[name, \"DFT dataset size\"] = len(dataset.data)\n",
    "        try:\n",
    "            source_dataset = all_datasets[transformations[:-1]]\n",
    "        except KeyError:\n",
    "            source_dataset = chgnet_data[transformations[:-1]]\n",
    "        chgnet_dataset = chgnet_data[chgnet_datasets[name]]\n",
    "\n",
    "        unique = filter_by_unique_structure(dataset.data)\n",
    "        novel = novelty_filter.get_novel(unique)\n",
    "        table.loc[name, \"In-DFT Novelty (%)\"] = 100 * len(novel) / len(unique)\n",
    "        source_novel = novelty_filter.get_novel(source_dataset.data)\n",
    "        source_novelty = 100 * len(source_novel) / len(source_dataset.data)\n",
    "        table.loc[name, \"Source Novelty (%)\"] = len(novel) / len(unique) * source_novelty\n",
    "        table.loc[name, \"P1 in source (%)\"] = 100 * (source_novel.group == 1).mean()\n",
    "        try:\n",
    "            table.loc[name, \"SG preserved (%)\"] = 100 * is_sg_preserved(novel.spacegroup_number, transformations).mean()\n",
    "        except KeyError:\n",
    "            pass\n",
    "        # source_novel_symmetric = (source_novel.group != 1).sum() / len(source_dataset.data)\n",
    "        # table[\"Source Novel !P1 (%)\"] = 100 * source_novel_symmetric\n",
    "        # DFT failure == unreal structure\n",
    "        if name == \"WyFormerDiffCSP++10k\":\n",
    "            # This dataset is a bit special, as it contains 10k structures from the WyckoffTransformer\n",
    "            # not filtered by the novelty filter\n",
    "            dft_structures = 10000\n",
    "            source_novelty = 100\n",
    "        else:\n",
    "            dft_structures = 105\n",
    "        has_ehull = dataset.data.corrected_e_hull.notna()\n",
    "        is_sun = (novel.corrected_e_hull <= E_hull_threshold) # & (novel.elements.apply(lambda x: len(frozenset(x))) >= 2)\n",
    "        table.loc[name, \"S.U.N. (%)\"] = source_novelty * is_sun.sum() / dft_structures\n",
    "        table.loc[name, \"total_sun\"] = is_sun.sum().astype(int)\n",
    "        table.loc[name, \"S.S.U.N. (%)\"] = source_novelty * (is_sun & (novel.group != 1)).sum() / dft_structures\n",
    "        table.loc[name, \"total_ssun\"] = (is_sun & (novel.group != 1)).sum().astype(int)\n",
    "        table.loc[name, \"P1 in stable (%)\"] = 100 * (novel[is_sun].group == 1).mean()\n",
    "\n",
    "        chgnet_unique = filter_by_unique_structure(chgnet_dataset.data)\n",
    "        chgnet_novel = novelty_filter.get_novel(chgnet_unique)\n",
    "        if \"corrected_chgnet_ehull\" in chgnet_dataset.data.columns:\n",
    "            chgnet_is_sun = (chgnet_novel.corrected_chgnet_ehull < E_hull_threshold)\n",
    "            #table.loc[name, \"CHGNet dataset size\"] = chgnet_dataset.data.corrected_chgnet_ehull.notna().sum()\n",
    "            table.loc[name, \"S.U.N. (CHGNet) (%)\"] =  100 * chgnet_is_sun.sum() / chgnet_dataset.data.corrected_chgnet_ehull.notna().sum()\n",
    "            table.loc[name, \"S.S.U.N. (CHGNet) (%)\"] = 100 * (chgnet_is_sun & (chgnet_novel.group != 1)).sum() / chgnet_dataset.data.corrected_chgnet_ehull.notna().sum()\n",
    "            \n",
    "            chgnet_dft_available = chgnet_dataset.data.reindex(dataset.data.index[has_ehull])\n",
    "            table.loc[name, \"r DFT CHGNet\"] = \\\n",
    "                pearsonr((chgnet_dft_available.corrected_chgnet_ehull < E_hull_threshold).astype(float),\n",
    "                        (dataset.data.corrected_e_hull < E_hull_threshold).astype(float)).correlation\n",
    "    tables[E_hull_threshold] = table"
   ]
  },
  {
   "cell_type": "code",
   "execution_count": 57,
   "metadata": {},
   "outputs": [
    {
     "data": {
      "text/plain": [
       "{'MatterGen': ('MatterGen', 'MatterGen_10k', 'DFT')}"
      ]
     },
     "execution_count": 57,
     "metadata": {},
     "output_type": "execute_result"
    }
   ],
   "source": [
    "dft_datasets"
   ]
  },
  {
   "cell_type": "code",
   "execution_count": 58,
   "metadata": {},
   "outputs": [
    {
     "data": {
      "text/plain": [
       "{'MatterGen': ('MatterGen', 'MatterGen_10k', 'DFT')}"
      ]
     },
     "execution_count": 58,
     "metadata": {},
     "output_type": "execute_result"
    }
   ],
   "source": [
    "chgnet_datasets"
   ]
  },
  {
   "cell_type": "code",
   "execution_count": 59,
   "metadata": {},
   "outputs": [],
   "source": [
    "chgnet_dataset = chgnet_data[chgnet_datasets[name]]"
   ]
  },
  {
   "cell_type": "code",
   "execution_count": 60,
   "metadata": {},
   "outputs": [
    {
     "data": {
      "text/html": [
       "<div>\n",
       "<style scoped>\n",
       "    .dataframe tbody tr th:only-of-type {\n",
       "        vertical-align: middle;\n",
       "    }\n",
       "\n",
       "    .dataframe tbody tr th {\n",
       "        vertical-align: top;\n",
       "    }\n",
       "\n",
       "    .dataframe thead th {\n",
       "        text-align: right;\n",
       "    }\n",
       "</style>\n",
       "<table border=\"1\" class=\"dataframe\">\n",
       "  <thead>\n",
       "    <tr style=\"text-align: right;\">\n",
       "      <th></th>\n",
       "      <th>DFT dataset size</th>\n",
       "      <th>Source Novelty (%)</th>\n",
       "      <th>In-DFT Novelty (%)</th>\n",
       "      <th>S.U.N. (%)</th>\n",
       "      <th>P1 in source (%)</th>\n",
       "      <th>S.S.U.N. (%)</th>\n",
       "      <th>SG preserved (%)</th>\n",
       "      <th>total_sun</th>\n",
       "      <th>total_ssun</th>\n",
       "      <th>P1 in stable (%)</th>\n",
       "      <th>S.U.N. (CHGNet) (%)</th>\n",
       "      <th>S.S.U.N. (CHGNet) (%)</th>\n",
       "      <th>r DFT CHGNet</th>\n",
       "    </tr>\n",
       "    <tr>\n",
       "      <th>Method</th>\n",
       "      <th></th>\n",
       "      <th></th>\n",
       "      <th></th>\n",
       "      <th></th>\n",
       "      <th></th>\n",
       "      <th></th>\n",
       "      <th></th>\n",
       "      <th></th>\n",
       "      <th></th>\n",
       "      <th></th>\n",
       "      <th></th>\n",
       "      <th></th>\n",
       "      <th></th>\n",
       "    </tr>\n",
       "  </thead>\n",
       "  <tbody>\n",
       "    <tr>\n",
       "      <th>MatterGen</th>\n",
       "      <td>103</td>\n",
       "      <td>90.35</td>\n",
       "      <td>100.0</td>\n",
       "      <td>24.093333</td>\n",
       "      <td>18.173769</td>\n",
       "      <td>21.511905</td>\n",
       "      <td>87.378641</td>\n",
       "      <td>28.0</td>\n",
       "      <td>25.0</td>\n",
       "      <td>10.714286</td>\n",
       "      <td>60.194175</td>\n",
       "      <td>52.427184</td>\n",
       "      <td>0.496872</td>\n",
       "    </tr>\n",
       "  </tbody>\n",
       "</table>\n",
       "</div>"
      ],
      "text/plain": [
       "          DFT dataset size Source Novelty (%) In-DFT Novelty (%) S.U.N. (%)  \\\n",
       "Method                                                                        \n",
       "MatterGen              103              90.35              100.0  24.093333   \n",
       "\n",
       "          P1 in source (%) S.S.U.N. (%)  SG preserved (%)  total_sun  \\\n",
       "Method                                                                 \n",
       "MatterGen        18.173769    21.511905         87.378641       28.0   \n",
       "\n",
       "           total_ssun  P1 in stable (%)  S.U.N. (CHGNet) (%)  \\\n",
       "Method                                                         \n",
       "MatterGen        25.0         10.714286            60.194175   \n",
       "\n",
       "           S.S.U.N. (CHGNet) (%)  r DFT CHGNet  \n",
       "Method                                          \n",
       "MatterGen              52.427184      0.496872  "
      ]
     },
     "execution_count": 60,
     "metadata": {},
     "output_type": "execute_result"
    }
   ],
   "source": [
    "tables[0.08]"
   ]
  },
  {
   "cell_type": "code",
   "execution_count": 30,
   "metadata": {},
   "outputs": [
    {
     "data": {
      "text/html": [
       "<div>\n",
       "<style scoped>\n",
       "    .dataframe tbody tr th:only-of-type {\n",
       "        vertical-align: middle;\n",
       "    }\n",
       "\n",
       "    .dataframe tbody tr th {\n",
       "        vertical-align: top;\n",
       "    }\n",
       "\n",
       "    .dataframe thead th {\n",
       "        text-align: right;\n",
       "    }\n",
       "</style>\n",
       "<table border=\"1\" class=\"dataframe\">\n",
       "  <thead>\n",
       "    <tr style=\"text-align: right;\">\n",
       "      <th></th>\n",
       "      <th>DFT dataset size</th>\n",
       "      <th>Source Novelty (%)</th>\n",
       "      <th>In-DFT Novelty (%)</th>\n",
       "      <th>S.U.N. (%)</th>\n",
       "      <th>P1 in source (%)</th>\n",
       "      <th>S.S.U.N. (%)</th>\n",
       "      <th>SG preserved (%)</th>\n",
       "      <th>total_sun</th>\n",
       "      <th>total_ssun</th>\n",
       "      <th>P1 in stable (%)</th>\n",
       "    </tr>\n",
       "    <tr>\n",
       "      <th>Method</th>\n",
       "      <th></th>\n",
       "      <th></th>\n",
       "      <th></th>\n",
       "      <th></th>\n",
       "      <th></th>\n",
       "      <th></th>\n",
       "      <th></th>\n",
       "      <th></th>\n",
       "      <th></th>\n",
       "      <th></th>\n",
       "    </tr>\n",
       "  </thead>\n",
       "  <tbody>\n",
       "    <tr>\n",
       "      <th>MatterGen</th>\n",
       "      <td>104</td>\n",
       "      <td>90.35</td>\n",
       "      <td>100.0</td>\n",
       "      <td>24.95381</td>\n",
       "      <td>18.173769</td>\n",
       "      <td>22.372381</td>\n",
       "      <td>87.5</td>\n",
       "      <td>29.0</td>\n",
       "      <td>26.0</td>\n",
       "      <td>10.344828</td>\n",
       "    </tr>\n",
       "  </tbody>\n",
       "</table>\n",
       "</div>"
      ],
      "text/plain": [
       "          DFT dataset size Source Novelty (%) In-DFT Novelty (%) S.U.N. (%)  \\\n",
       "Method                                                                        \n",
       "MatterGen              104              90.35              100.0   24.95381   \n",
       "\n",
       "          P1 in source (%) S.S.U.N. (%)  SG preserved (%)  total_sun  \\\n",
       "Method                                                                 \n",
       "MatterGen        18.173769    22.372381              87.5       29.0   \n",
       "\n",
       "           total_ssun  P1 in stable (%)  \n",
       "Method                                   \n",
       "MatterGen        26.0         10.344828  "
      ]
     },
     "execution_count": 30,
     "metadata": {},
     "output_type": "execute_result"
    }
   ],
   "source": [
    "tables[0.08]"
   ]
  },
  {
   "cell_type": "code",
   "execution_count": 31,
   "metadata": {},
   "outputs": [
    {
     "data": {
      "text/html": [
       "<div>\n",
       "<style scoped>\n",
       "    .dataframe tbody tr th:only-of-type {\n",
       "        vertical-align: middle;\n",
       "    }\n",
       "\n",
       "    .dataframe tbody tr th {\n",
       "        vertical-align: top;\n",
       "    }\n",
       "\n",
       "    .dataframe thead th {\n",
       "        text-align: right;\n",
       "    }\n",
       "</style>\n",
       "<table border=\"1\" class=\"dataframe\">\n",
       "  <thead>\n",
       "    <tr style=\"text-align: right;\">\n",
       "      <th></th>\n",
       "      <th>DFT dataset size</th>\n",
       "      <th>Source Novelty (%)</th>\n",
       "      <th>In-DFT Novelty (%)</th>\n",
       "      <th>S.U.N. (%)</th>\n",
       "      <th>P1 in source (%)</th>\n",
       "      <th>S.S.U.N. (%)</th>\n",
       "      <th>SG preserved (%)</th>\n",
       "      <th>total_sun</th>\n",
       "      <th>total_ssun</th>\n",
       "      <th>P1 in stable (%)</th>\n",
       "    </tr>\n",
       "    <tr>\n",
       "      <th>Method</th>\n",
       "      <th></th>\n",
       "      <th></th>\n",
       "      <th></th>\n",
       "      <th></th>\n",
       "      <th></th>\n",
       "      <th></th>\n",
       "      <th></th>\n",
       "      <th></th>\n",
       "      <th></th>\n",
       "      <th></th>\n",
       "    </tr>\n",
       "  </thead>\n",
       "  <tbody>\n",
       "    <tr>\n",
       "      <th>MatterGen</th>\n",
       "      <td>104</td>\n",
       "      <td>90.35</td>\n",
       "      <td>100.0</td>\n",
       "      <td>2.581429</td>\n",
       "      <td>18.173769</td>\n",
       "      <td>2.581429</td>\n",
       "      <td>87.5</td>\n",
       "      <td>3.0</td>\n",
       "      <td>3.0</td>\n",
       "      <td>0.0</td>\n",
       "    </tr>\n",
       "  </tbody>\n",
       "</table>\n",
       "</div>"
      ],
      "text/plain": [
       "          DFT dataset size Source Novelty (%) In-DFT Novelty (%) S.U.N. (%)  \\\n",
       "Method                                                                        \n",
       "MatterGen              104              90.35              100.0   2.581429   \n",
       "\n",
       "          P1 in source (%) S.S.U.N. (%)  SG preserved (%)  total_sun  \\\n",
       "Method                                                                 \n",
       "MatterGen        18.173769     2.581429              87.5        3.0   \n",
       "\n",
       "           total_ssun  P1 in stable (%)  \n",
       "Method                                   \n",
       "MatterGen         3.0               0.0  "
      ]
     },
     "execution_count": 31,
     "metadata": {},
     "output_type": "execute_result"
    }
   ],
   "source": [
    "tables[0]"
   ]
  },
  {
   "cell_type": "code",
   "execution_count": null,
   "metadata": {},
   "outputs": [
    {
     "data": {
      "text/html": [
       "<div>\n",
       "<style scoped>\n",
       "    .dataframe tbody tr th:only-of-type {\n",
       "        vertical-align: middle;\n",
       "    }\n",
       "\n",
       "    .dataframe tbody tr th {\n",
       "        vertical-align: top;\n",
       "    }\n",
       "\n",
       "    .dataframe thead th {\n",
       "        text-align: right;\n",
       "    }\n",
       "</style>\n",
       "<table border=\"1\" class=\"dataframe\">\n",
       "  <thead>\n",
       "    <tr style=\"text-align: right;\">\n",
       "      <th></th>\n",
       "      <th>DFT dataset size</th>\n",
       "      <th>Source Novelty (%)</th>\n",
       "      <th>In-DFT Novelty (%)</th>\n",
       "      <th>S.U.N. (%)</th>\n",
       "      <th>P1 in source (%)</th>\n",
       "      <th>S.S.U.N. (%)</th>\n",
       "      <th>SG preserved (%)</th>\n",
       "      <th>total_sun</th>\n",
       "      <th>total_ssun</th>\n",
       "      <th>P1 in stable (%)</th>\n",
       "      <th>S.U.N. (CHGNet) (%)</th>\n",
       "      <th>S.S.U.N. (CHGNet) (%)</th>\n",
       "      <th>r DFT CHGNet</th>\n",
       "    </tr>\n",
       "    <tr>\n",
       "      <th>Method</th>\n",
       "      <th></th>\n",
       "      <th></th>\n",
       "      <th></th>\n",
       "      <th></th>\n",
       "      <th></th>\n",
       "      <th></th>\n",
       "      <th></th>\n",
       "      <th></th>\n",
       "      <th></th>\n",
       "      <th></th>\n",
       "      <th></th>\n",
       "      <th></th>\n",
       "      <th></th>\n",
       "    </tr>\n",
       "  </thead>\n",
       "  <tbody>\n",
       "    <tr>\n",
       "      <th>WyFormerDirect</th>\n",
       "      <td>94</td>\n",
       "      <td>90.09</td>\n",
       "      <td>100.0</td>\n",
       "      <td>4.29</td>\n",
       "      <td>1.964702</td>\n",
       "      <td>4.29</td>\n",
       "      <td>86.170213</td>\n",
       "      <td>5.0</td>\n",
       "      <td>5.0</td>\n",
       "      <td>0.000000</td>\n",
       "      <td>39.239239</td>\n",
       "      <td>38.238238</td>\n",
       "      <td>0.269486</td>\n",
       "    </tr>\n",
       "    <tr>\n",
       "      <th>WyFormerCrySPR</th>\n",
       "      <td>104</td>\n",
       "      <td>90.0</td>\n",
       "      <td>100.0</td>\n",
       "      <td>23.142857</td>\n",
       "      <td>1.555556</td>\n",
       "      <td>22.285714</td>\n",
       "      <td>96.153846</td>\n",
       "      <td>27.0</td>\n",
       "      <td>26.0</td>\n",
       "      <td>3.703704</td>\n",
       "      <td>39.239239</td>\n",
       "      <td>38.238238</td>\n",
       "      <td>0.664923</td>\n",
       "    </tr>\n",
       "    <tr>\n",
       "      <th>WyFormerDiffCSP++</th>\n",
       "      <td>104</td>\n",
       "      <td>88.639423</td>\n",
       "      <td>99.038462</td>\n",
       "      <td>22.161905</td>\n",
       "      <td>1.564246</td>\n",
       "      <td>21.309524</td>\n",
       "      <td>95.145631</td>\n",
       "      <td>26.0</td>\n",
       "      <td>25.0</td>\n",
       "      <td>3.846154</td>\n",
       "      <td>36.700000</td>\n",
       "      <td>36.000000</td>\n",
       "      <td>0.615387</td>\n",
       "    </tr>\n",
       "    <tr>\n",
       "      <th>WyFormerDiffCSP++10k</th>\n",
       "      <td>9969</td>\n",
       "      <td>84.207425</td>\n",
       "      <td>91.95127</td>\n",
       "      <td>18.34</td>\n",
       "      <td>6.968108</td>\n",
       "      <td>17.93</td>\n",
       "      <td>90.329521</td>\n",
       "      <td>1834.0</td>\n",
       "      <td>1793.0</td>\n",
       "      <td>2.235551</td>\n",
       "      <td>NaN</td>\n",
       "      <td>NaN</td>\n",
       "      <td>NaN</td>\n",
       "    </tr>\n",
       "    <tr>\n",
       "      <th>WyFormerHarmonicDiffCSP++</th>\n",
       "      <td>101</td>\n",
       "      <td>92.6</td>\n",
       "      <td>100.0</td>\n",
       "      <td>20.28381</td>\n",
       "      <td>2.37581</td>\n",
       "      <td>20.28381</td>\n",
       "      <td>92.079208</td>\n",
       "      <td>23.0</td>\n",
       "      <td>23.0</td>\n",
       "      <td>0.000000</td>\n",
       "      <td>35.503561</td>\n",
       "      <td>34.486267</td>\n",
       "      <td>0.593771</td>\n",
       "    </tr>\n",
       "    <tr>\n",
       "      <th>WyLLM-DiffCSP++</th>\n",
       "      <td>102</td>\n",
       "      <td>94.578313</td>\n",
       "      <td>100.0</td>\n",
       "      <td>11.709696</td>\n",
       "      <td>1.380042</td>\n",
       "      <td>11.709696</td>\n",
       "      <td>99.019608</td>\n",
       "      <td>13.0</td>\n",
       "      <td>13.0</td>\n",
       "      <td>0.000000</td>\n",
       "      <td>31.600408</td>\n",
       "      <td>30.886850</td>\n",
       "      <td>0.592083</td>\n",
       "    </tr>\n",
       "    <tr>\n",
       "      <th>WyFormer-letters-DiffCSP++</th>\n",
       "      <td>104</td>\n",
       "      <td>90.562249</td>\n",
       "      <td>100.0</td>\n",
       "      <td>18.974947</td>\n",
       "      <td>1.108647</td>\n",
       "      <td>18.974947</td>\n",
       "      <td>96.153846</td>\n",
       "      <td>22.0</td>\n",
       "      <td>22.0</td>\n",
       "      <td>0.000000</td>\n",
       "      <td>31.491137</td>\n",
       "      <td>30.969760</td>\n",
       "      <td>0.548767</td>\n",
       "    </tr>\n",
       "    <tr>\n",
       "      <th>SymmCD</th>\n",
       "      <td>96</td>\n",
       "      <td>90.649077</td>\n",
       "      <td>100.0</td>\n",
       "      <td>20.719789</td>\n",
       "      <td>2.177203</td>\n",
       "      <td>20.719789</td>\n",
       "      <td>92.708333</td>\n",
       "      <td>24.0</td>\n",
       "      <td>24.0</td>\n",
       "      <td>0.000000</td>\n",
       "      <td>34.551148</td>\n",
       "      <td>34.070981</td>\n",
       "      <td>0.108845</td>\n",
       "    </tr>\n",
       "    <tr>\n",
       "      <th>DiffCSP</th>\n",
       "      <td>104</td>\n",
       "      <td>88.082885</td>\n",
       "      <td>98.076923</td>\n",
       "      <td>22.238667</td>\n",
       "      <td>31.566641</td>\n",
       "      <td>20.528</td>\n",
       "      <td>78.431373</td>\n",
       "      <td>26.0</td>\n",
       "      <td>24.0</td>\n",
       "      <td>7.692308</td>\n",
       "      <td>57.400000</td>\n",
       "      <td>40.600000</td>\n",
       "      <td>0.405781</td>\n",
       "    </tr>\n",
       "    <tr>\n",
       "      <th>CrystalFormer</th>\n",
       "      <td>89</td>\n",
       "      <td>77.101821</td>\n",
       "      <td>98.876404</td>\n",
       "      <td>20.05148</td>\n",
       "      <td>1.797176</td>\n",
       "      <td>20.05148</td>\n",
       "      <td>94.318182</td>\n",
       "      <td>27.0</td>\n",
       "      <td>27.0</td>\n",
       "      <td>0.000000</td>\n",
       "      <td>37.600806</td>\n",
       "      <td>37.399194</td>\n",
       "      <td>0.232002</td>\n",
       "    </tr>\n",
       "    <tr>\n",
       "      <th>DiffCSP++</th>\n",
       "      <td>103</td>\n",
       "      <td>88.95</td>\n",
       "      <td>100.0</td>\n",
       "      <td>14.401429</td>\n",
       "      <td>1.843732</td>\n",
       "      <td>14.401429</td>\n",
       "      <td>95.145631</td>\n",
       "      <td>17.0</td>\n",
       "      <td>17.0</td>\n",
       "      <td>0.000000</td>\n",
       "      <td>41.400000</td>\n",
       "      <td>40.800000</td>\n",
       "      <td>0.482596</td>\n",
       "    </tr>\n",
       "    <tr>\n",
       "      <th>FlowMM</th>\n",
       "      <td>104</td>\n",
       "      <td>90.027621</td>\n",
       "      <td>96.153846</td>\n",
       "      <td>17.834043</td>\n",
       "      <td>40.690097</td>\n",
       "      <td>16.942341</td>\n",
       "      <td>62.000000</td>\n",
       "      <td>20.0</td>\n",
       "      <td>19.0</td>\n",
       "      <td>5.000000</td>\n",
       "      <td>50.952859</td>\n",
       "      <td>30.692076</td>\n",
       "      <td>-0.081181</td>\n",
       "    </tr>\n",
       "    <tr>\n",
       "      <th>WyCryst</th>\n",
       "      <td>95</td>\n",
       "      <td>50.954146</td>\n",
       "      <td>96.842105</td>\n",
       "      <td>5.51212</td>\n",
       "      <td>4.780115</td>\n",
       "      <td>5.51212</td>\n",
       "      <td>NaN</td>\n",
       "      <td>11.0</td>\n",
       "      <td>11.0</td>\n",
       "      <td>0.000000</td>\n",
       "      <td>36.720322</td>\n",
       "      <td>35.311871</td>\n",
       "      <td>-0.275469</td>\n",
       "    </tr>\n",
       "  </tbody>\n",
       "</table>\n",
       "</div>"
      ],
      "text/plain": [
       "                           DFT dataset size Source Novelty (%)  \\\n",
       "Method                                                           \n",
       "WyFormerDirect                           94              90.09   \n",
       "WyFormerCrySPR                          104               90.0   \n",
       "WyFormerDiffCSP++                       104          88.639423   \n",
       "WyFormerDiffCSP++10k                   9969          84.207425   \n",
       "WyFormerHarmonicDiffCSP++               101               92.6   \n",
       "WyLLM-DiffCSP++                         102          94.578313   \n",
       "WyFormer-letters-DiffCSP++              104          90.562249   \n",
       "SymmCD                                   96          90.649077   \n",
       "DiffCSP                                 104          88.082885   \n",
       "CrystalFormer                            89          77.101821   \n",
       "DiffCSP++                               103              88.95   \n",
       "FlowMM                                  104          90.027621   \n",
       "WyCryst                                  95          50.954146   \n",
       "\n",
       "                           In-DFT Novelty (%) S.U.N. (%) P1 in source (%)  \\\n",
       "Method                                                                      \n",
       "WyFormerDirect                          100.0       4.29         1.964702   \n",
       "WyFormerCrySPR                          100.0  23.142857         1.555556   \n",
       "WyFormerDiffCSP++                   99.038462  22.161905         1.564246   \n",
       "WyFormerDiffCSP++10k                 91.95127      18.34         6.968108   \n",
       "WyFormerHarmonicDiffCSP++               100.0   20.28381          2.37581   \n",
       "WyLLM-DiffCSP++                         100.0  11.709696         1.380042   \n",
       "WyFormer-letters-DiffCSP++              100.0  18.974947         1.108647   \n",
       "SymmCD                                  100.0  20.719789         2.177203   \n",
       "DiffCSP                             98.076923  22.238667        31.566641   \n",
       "CrystalFormer                       98.876404   20.05148         1.797176   \n",
       "DiffCSP++                               100.0  14.401429         1.843732   \n",
       "FlowMM                              96.153846  17.834043        40.690097   \n",
       "WyCryst                             96.842105    5.51212         4.780115   \n",
       "\n",
       "                           S.S.U.N. (%)  SG preserved (%)  total_sun  \\\n",
       "Method                                                                 \n",
       "WyFormerDirect                     4.29         86.170213        5.0   \n",
       "WyFormerCrySPR                22.285714         96.153846       27.0   \n",
       "WyFormerDiffCSP++             21.309524         95.145631       26.0   \n",
       "WyFormerDiffCSP++10k              17.93         90.329521     1834.0   \n",
       "WyFormerHarmonicDiffCSP++      20.28381         92.079208       23.0   \n",
       "WyLLM-DiffCSP++               11.709696         99.019608       13.0   \n",
       "WyFormer-letters-DiffCSP++    18.974947         96.153846       22.0   \n",
       "SymmCD                        20.719789         92.708333       24.0   \n",
       "DiffCSP                          20.528         78.431373       26.0   \n",
       "CrystalFormer                  20.05148         94.318182       27.0   \n",
       "DiffCSP++                     14.401429         95.145631       17.0   \n",
       "FlowMM                        16.942341         62.000000       20.0   \n",
       "WyCryst                         5.51212               NaN       11.0   \n",
       "\n",
       "                            total_ssun  P1 in stable (%)  S.U.N. (CHGNet) (%)  \\\n",
       "Method                                                                          \n",
       "WyFormerDirect                     5.0          0.000000            39.239239   \n",
       "WyFormerCrySPR                    26.0          3.703704            39.239239   \n",
       "WyFormerDiffCSP++                 25.0          3.846154            36.700000   \n",
       "WyFormerDiffCSP++10k            1793.0          2.235551                  NaN   \n",
       "WyFormerHarmonicDiffCSP++         23.0          0.000000            35.503561   \n",
       "WyLLM-DiffCSP++                   13.0          0.000000            31.600408   \n",
       "WyFormer-letters-DiffCSP++        22.0          0.000000            31.491137   \n",
       "SymmCD                            24.0          0.000000            34.551148   \n",
       "DiffCSP                           24.0          7.692308            57.400000   \n",
       "CrystalFormer                     27.0          0.000000            37.600806   \n",
       "DiffCSP++                         17.0          0.000000            41.400000   \n",
       "FlowMM                            19.0          5.000000            50.952859   \n",
       "WyCryst                           11.0          0.000000            36.720322   \n",
       "\n",
       "                            S.S.U.N. (CHGNet) (%)  r DFT CHGNet  \n",
       "Method                                                           \n",
       "WyFormerDirect                          38.238238      0.269486  \n",
       "WyFormerCrySPR                          38.238238      0.664923  \n",
       "WyFormerDiffCSP++                       36.000000      0.615387  \n",
       "WyFormerDiffCSP++10k                          NaN           NaN  \n",
       "WyFormerHarmonicDiffCSP++               34.486267      0.593771  \n",
       "WyLLM-DiffCSP++                         30.886850      0.592083  \n",
       "WyFormer-letters-DiffCSP++              30.969760      0.548767  \n",
       "SymmCD                                  34.070981      0.108845  \n",
       "DiffCSP                                 40.600000      0.405781  \n",
       "CrystalFormer                           37.399194      0.232002  \n",
       "DiffCSP++                               40.800000      0.482596  \n",
       "FlowMM                                  30.692076     -0.081181  \n",
       "WyCryst                                 35.311871     -0.275469  "
      ]
     },
     "execution_count": 29,
     "metadata": {},
     "output_type": "execute_result"
    }
   ],
   "source": [
    "tables[0.08]"
   ]
  },
  {
   "cell_type": "code",
   "execution_count": null,
   "metadata": {},
   "outputs": [],
   "source": [
    "def prettify(table):\n",
    "    return table.style.format({\n",
    "    \"S.U.N. (%)\": \"{:.1f}\",\n",
    "    \"S.S.U.N. (%)\": \"{:.1f}\",\n",
    "    #\"S.U.N. (CHGNet) (%)\": \"{:.1f}\",\n",
    "    #\"S.S.U.N. (CHGNet) (%)\": \"{:.1f}\",\n",
    "    #\"r DFT CHGNet\": \"{:.2f}\",\n",
    "}).highlight_max(props=\"font-weight: bold\", axis=0, subset=[\"S.U.N. (%)\", \"S.S.U.N. (%)\"])"
   ]
  },
  {
   "cell_type": "code",
   "execution_count": null,
   "metadata": {},
   "outputs": [],
   "source": [
    "selected_table = table.loc[:, [\"S.U.N. (%)\", \"S.S.U.N. (%)\"]]"
   ]
  },
  {
   "cell_type": "code",
   "execution_count": null,
   "metadata": {},
   "outputs": [
    {
     "data": {
      "text/html": [
       "<style type=\"text/css\">\n",
       "#T_44f0a_row1_col0, #T_44f0a_row1_col1 {\n",
       "  font-weight: bold;\n",
       "}\n",
       "</style>\n",
       "<table id=\"T_44f0a\">\n",
       "  <thead>\n",
       "    <tr>\n",
       "      <th class=\"blank level0\" >&nbsp;</th>\n",
       "      <th id=\"T_44f0a_level0_col0\" class=\"col_heading level0 col0\" >S.U.N. (%)</th>\n",
       "      <th id=\"T_44f0a_level0_col1\" class=\"col_heading level0 col1\" >S.S.U.N. (%)</th>\n",
       "    </tr>\n",
       "    <tr>\n",
       "      <th class=\"index_name level0\" >Method</th>\n",
       "      <th class=\"blank col0\" >&nbsp;</th>\n",
       "      <th class=\"blank col1\" >&nbsp;</th>\n",
       "    </tr>\n",
       "  </thead>\n",
       "  <tbody>\n",
       "    <tr>\n",
       "      <th id=\"T_44f0a_level0_row0\" class=\"row_heading level0 row0\" >WyFormerDirect</th>\n",
       "      <td id=\"T_44f0a_row0_col0\" class=\"data row0 col0\" >4.3</td>\n",
       "      <td id=\"T_44f0a_row0_col1\" class=\"data row0 col1\" >4.3</td>\n",
       "    </tr>\n",
       "    <tr>\n",
       "      <th id=\"T_44f0a_level0_row1\" class=\"row_heading level0 row1\" >WyFormerCrySPR</th>\n",
       "      <td id=\"T_44f0a_row1_col0\" class=\"data row1 col0\" >23.1</td>\n",
       "      <td id=\"T_44f0a_row1_col1\" class=\"data row1 col1\" >22.3</td>\n",
       "    </tr>\n",
       "    <tr>\n",
       "      <th id=\"T_44f0a_level0_row2\" class=\"row_heading level0 row2\" >WyFormerDiffCSP++</th>\n",
       "      <td id=\"T_44f0a_row2_col0\" class=\"data row2 col0\" >22.2</td>\n",
       "      <td id=\"T_44f0a_row2_col1\" class=\"data row2 col1\" >21.3</td>\n",
       "    </tr>\n",
       "    <tr>\n",
       "      <th id=\"T_44f0a_level0_row3\" class=\"row_heading level0 row3\" >WyFormerDiffCSP++10k</th>\n",
       "      <td id=\"T_44f0a_row3_col0\" class=\"data row3 col0\" >18.3</td>\n",
       "      <td id=\"T_44f0a_row3_col1\" class=\"data row3 col1\" >17.9</td>\n",
       "    </tr>\n",
       "    <tr>\n",
       "      <th id=\"T_44f0a_level0_row4\" class=\"row_heading level0 row4\" >WyFormerHarmonicDiffCSP++</th>\n",
       "      <td id=\"T_44f0a_row4_col0\" class=\"data row4 col0\" >20.3</td>\n",
       "      <td id=\"T_44f0a_row4_col1\" class=\"data row4 col1\" >20.3</td>\n",
       "    </tr>\n",
       "    <tr>\n",
       "      <th id=\"T_44f0a_level0_row5\" class=\"row_heading level0 row5\" >WyLLM-DiffCSP++</th>\n",
       "      <td id=\"T_44f0a_row5_col0\" class=\"data row5 col0\" >11.7</td>\n",
       "      <td id=\"T_44f0a_row5_col1\" class=\"data row5 col1\" >11.7</td>\n",
       "    </tr>\n",
       "    <tr>\n",
       "      <th id=\"T_44f0a_level0_row6\" class=\"row_heading level0 row6\" >WyFormer-letters-DiffCSP++</th>\n",
       "      <td id=\"T_44f0a_row6_col0\" class=\"data row6 col0\" >19.0</td>\n",
       "      <td id=\"T_44f0a_row6_col1\" class=\"data row6 col1\" >19.0</td>\n",
       "    </tr>\n",
       "    <tr>\n",
       "      <th id=\"T_44f0a_level0_row7\" class=\"row_heading level0 row7\" >SymmCD</th>\n",
       "      <td id=\"T_44f0a_row7_col0\" class=\"data row7 col0\" >20.7</td>\n",
       "      <td id=\"T_44f0a_row7_col1\" class=\"data row7 col1\" >20.7</td>\n",
       "    </tr>\n",
       "    <tr>\n",
       "      <th id=\"T_44f0a_level0_row8\" class=\"row_heading level0 row8\" >DiffCSP</th>\n",
       "      <td id=\"T_44f0a_row8_col0\" class=\"data row8 col0\" >22.2</td>\n",
       "      <td id=\"T_44f0a_row8_col1\" class=\"data row8 col1\" >20.5</td>\n",
       "    </tr>\n",
       "    <tr>\n",
       "      <th id=\"T_44f0a_level0_row9\" class=\"row_heading level0 row9\" >CrystalFormer</th>\n",
       "      <td id=\"T_44f0a_row9_col0\" class=\"data row9 col0\" >20.1</td>\n",
       "      <td id=\"T_44f0a_row9_col1\" class=\"data row9 col1\" >20.1</td>\n",
       "    </tr>\n",
       "    <tr>\n",
       "      <th id=\"T_44f0a_level0_row10\" class=\"row_heading level0 row10\" >DiffCSP++</th>\n",
       "      <td id=\"T_44f0a_row10_col0\" class=\"data row10 col0\" >14.4</td>\n",
       "      <td id=\"T_44f0a_row10_col1\" class=\"data row10 col1\" >14.4</td>\n",
       "    </tr>\n",
       "    <tr>\n",
       "      <th id=\"T_44f0a_level0_row11\" class=\"row_heading level0 row11\" >FlowMM</th>\n",
       "      <td id=\"T_44f0a_row11_col0\" class=\"data row11 col0\" >17.8</td>\n",
       "      <td id=\"T_44f0a_row11_col1\" class=\"data row11 col1\" >16.9</td>\n",
       "    </tr>\n",
       "    <tr>\n",
       "      <th id=\"T_44f0a_level0_row12\" class=\"row_heading level0 row12\" >WyCryst</th>\n",
       "      <td id=\"T_44f0a_row12_col0\" class=\"data row12 col0\" >5.5</td>\n",
       "      <td id=\"T_44f0a_row12_col1\" class=\"data row12 col1\" >5.5</td>\n",
       "    </tr>\n",
       "  </tbody>\n",
       "</table>\n"
      ],
      "text/plain": [
       "<pandas.io.formats.style.Styler at 0x752d69bbca70>"
      ]
     },
     "execution_count": 32,
     "metadata": {},
     "output_type": "execute_result"
    }
   ],
   "source": [
    "pretty_table = prettify(selected_table)\n",
    "pretty_table.to_latex(\"tables/dft.tex\", siunitx=True, convert_css=True)\n",
    "pretty_table"
   ]
  },
  {
   "cell_type": "code",
   "execution_count": null,
   "metadata": {},
   "outputs": [
    {
     "data": {
      "text/plain": [
       "0.9713685606898077"
      ]
     },
     "execution_count": 33,
     "metadata": {},
     "output_type": "execute_result"
    }
   ],
   "source": [
    "all_datasets[('split', 'test')].data.apply(evaluation.novelty.record_to_anonymous_fingerprint, axis=1).isin(train_w_template_set).mean()"
   ]
  },
  {
   "cell_type": "code",
   "execution_count": null,
   "metadata": {},
   "outputs": [],
   "source": [
    "from scipy.stats import ttest_ind\n",
    "import numpy as np\n",
    "def get_observation(name, column=\"total_ssun\"):\n",
    "    all_observations = np.zeros(dft_structures)\n",
    "    all_observations[:int(table.at[name, column])] = table.loc[name, \"Source Novelty (%)\"]/100\n",
    "    return all_observations"
   ]
  },
  {
   "cell_type": "code",
   "execution_count": null,
   "metadata": {},
   "outputs": [
    {
     "name": "stdout",
     "output_type": "stream",
     "text": [
      "WyFormerDirect TtestResult(statistic=2.8699643276771534, pvalue=0.004529164843545496, df=208.0)\n",
      "WyFormerCrySPR TtestResult(statistic=2.0489237904086535, pvalue=0.04172504759818785, df=208.0)\n",
      "WyFormerDiffCSP++ TtestResult(statistic=0.5399251990582908, pvalue=0.5898261986038633, df=208.0)\n",
      "DiffCSP TtestResult(statistic=0.3358706725126662, pvalue=0.7373069464508927, df=208.0)\n",
      "CrystalFormer TtestResult(statistic=0.4278113819160564, pvalue=0.669231052265232, df=208.0)\n",
      "DiffCSP++ TtestResult(statistic=1.8300352833914524, pvalue=0.0686759122341314, df=208.0)\n",
      "FlowMM TtestResult(statistic=0.0, pvalue=1.0, df=208.0)\n"
     ]
    }
   ],
   "source": [
    "for second in table.index:\n",
    "    print(second, ttest_ind(get_observation(\"FlowMM\"), get_observation(second)))"
   ]
  },
  {
   "cell_type": "code",
   "execution_count": null,
   "metadata": {},
   "outputs": [
    {
     "name": "stdout",
     "output_type": "stream",
     "text": [
      "WyFormerDirect TtestResult(statistic=3.7329421055392644, pvalue=0.0002442600601858129, df=208.0)\n",
      "WyFormerCrySPR TtestResult(statistic=2.933952952207651, pvalue=0.0037223172815396767, df=208.0)\n",
      "WyFormerDiffCSP++ TtestResult(statistic=1.444489793625256, pvalue=0.15010593136692968, df=208.0)\n",
      "DiffCSP TtestResult(statistic=0.0, pvalue=1.0, df=208.0)\n",
      "CrystalFormer TtestResult(statistic=1.3621411208732088, pvalue=0.1746266271124153, df=208.0)\n",
      "DiffCSP++ TtestResult(statistic=2.7203519120538746, pvalue=0.007073135428130352, df=208.0)\n",
      "FlowMM TtestResult(statistic=0.7296066705938044, pvalue=0.4664514752444603, df=208.0)\n"
     ]
    }
   ],
   "source": [
    "for second in table.index:\n",
    "    print(second, ttest_ind(get_observation(\"DiffCSP\", column=\"total_sun\"), get_observation(second, column=\"total_sun\")))"
   ]
  }
 ],
 "metadata": {
  "kernelspec": {
   "display_name": "wyckofftransformer-zMQH9JJo-py3.11",
   "language": "python",
   "name": "python3"
  },
  "language_info": {
   "codemirror_mode": {
    "name": "ipython",
    "version": 3
   },
   "file_extension": ".py",
   "mimetype": "text/x-python",
   "name": "python",
   "nbconvert_exporter": "python",
   "pygments_lexer": "ipython3",
   "version": "3.11.0"
  }
 },
 "nbformat": 4,
 "nbformat_minor": 2
}
