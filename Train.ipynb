{
 "cells": [
  {
   "cell_type": "code",
   "execution_count": 1,
   "metadata": {
    "execution": {
     "iopub.execute_input": "2024-05-14T08:17:16.374519Z",
     "iopub.status.busy": "2024-05-14T08:17:16.374232Z",
     "iopub.status.idle": "2024-05-14T08:17:16.385720Z",
     "shell.execute_reply": "2024-05-14T08:17:16.384382Z"
    }
   },
   "outputs": [
    {
     "name": "stdout",
     "output_type": "stream",
     "text": [
      "env: WANDB_NOTEBOOK_NAME=Train.ipynb\n",
      "env: CUDA_DEVICE_ORDER=PCI_BUS_ID\n",
      "env: CUDA_VISIBLE_DEVICES=1\n",
      "env: PYTORCH_CUDA_ALLOC_CONF=backend:cudaMallocAsync\n"
     ]
    }
   ],
   "source": [
    "%env WANDB_NOTEBOOK_NAME Train.ipynb\n",
    "%env CUDA_DEVICE_ORDER PCI_BUS_ID\n",
    "%env CUDA_VISIBLE_DEVICES 1\n",
    "%env PYTORCH_CUDA_ALLOC_CONF backend:cudaMallocAsync"
   ]
  },
  {
   "cell_type": "code",
   "execution_count": 2,
   "metadata": {
    "execution": {
     "iopub.execute_input": "2024-05-14T08:17:16.417953Z",
     "iopub.status.busy": "2024-05-14T08:17:16.417688Z",
     "iopub.status.idle": "2024-05-14T08:17:40.546274Z",
     "shell.execute_reply": "2024-05-14T08:17:40.545170Z"
    }
   },
   "outputs": [
    {
     "name": "stdout",
     "output_type": "stream",
     "text": [
      "21\n"
     ]
    }
   ],
   "source": [
    "from mp_20_utils import load_all_data\n",
    "from tokenization import MASK_SITE\n",
    "device = 'cuda'\n",
    "dataset = 'mp_ternary'\n",
    "datasets_pd, torch_datasets, site_to_ids, element_to_ids, spacegroup_to_ids, max_len = load_all_data(\n",
    "    device=device, allow_retokenize=False, dataset=dataset)\n",
    "print(max_len)"
   ]
  },
  {
   "cell_type": "code",
   "execution_count": 3,
   "metadata": {
    "execution": {
     "iopub.execute_input": "2024-05-14T08:17:40.552015Z",
     "iopub.status.busy": "2024-05-14T08:17:40.551651Z",
     "iopub.status.idle": "2024-05-14T08:17:40.762008Z",
     "shell.execute_reply": "2024-05-14T08:17:40.761479Z"
    }
   },
   "outputs": [],
   "source": [
    "del torch_datasets['test'], datasets_pd['test']"
   ]
  },
  {
   "cell_type": "code",
   "execution_count": 4,
   "metadata": {
    "execution": {
     "iopub.execute_input": "2024-05-14T08:17:40.767094Z",
     "iopub.status.busy": "2024-05-14T08:17:40.766891Z",
     "iopub.status.idle": "2024-05-14T08:17:40.781019Z",
     "shell.execute_reply": "2024-05-14T08:17:40.780514Z"
    }
   },
   "outputs": [
    {
     "name": "stdout",
     "output_type": "stream",
     "text": [
      "7\n"
     ]
    }
   ],
   "source": [
    "from itertools import chain\n",
    "from operator import itemgetter\n",
    "max_enumeration = max(map(\n",
    "    lambda dataframe: max(chain.from_iterable(dataframe.symmetry_sites_enumeration_padded)),\n",
    "    datasets_pd.values()))\n",
    "print(max_enumeration)"
   ]
  },
  {
   "cell_type": "code",
   "execution_count": 5,
   "metadata": {
    "execution": {
     "iopub.execute_input": "2024-05-14T08:17:40.783183Z",
     "iopub.status.busy": "2024-05-14T08:17:40.782796Z",
     "iopub.status.idle": "2024-05-14T08:17:40.959009Z",
     "shell.execute_reply": "2024-05-14T08:17:40.958536Z"
    }
   },
   "outputs": [],
   "source": [
    "import torch\n",
    "# UserWarning: TensorFloat32 tensor cores for float32 matrix multiplication available but not enabled. Consider setting `torch.set_float32_matmul_precision('high')` for better performance.\n",
    "torch.set_float32_matmul_precision('high')\n",
    "from wyckoff_transformer import WyckoffTransformerModel, WyckoffTrainer\n",
    "d_hid = 170  # dimension of the feedforward network model in ``nn.TransformerEncoder``\n",
    "nlayers = 3  # number of ``nn.TransformerEncoderLayer`` in ``nn.TransformerEncoder``\n",
    "nhead = 1  # number of heads in ``nn.MultiheadAttention``\n",
    "dropout = 0.1  # dropout probability\n",
    "n_space_groups = len(spacegroup_to_ids)\n",
    "# Not all 230 space groups are present in the data\n",
    "model = WyckoffTransformerModel(\n",
    "    n_space_groups = n_space_groups,\n",
    "    n_sites = len(site_to_ids),\n",
    "    n_elements = len(element_to_ids),\n",
    "    max_enumeration = max_enumeration,\n",
    "    d_space_groups = 16,\n",
    "    d_sites = 64,\n",
    "    d_species = 64,\n",
    "    nhead=nhead,\n",
    "    d_hid=d_hid,\n",
    "    max_len=max_len,\n",
    "    nlayers=nlayers,\n",
    "    dropout=dropout).to(device)\n",
    "#model = torch.compile(model)"
   ]
  },
  {
   "cell_type": "code",
   "execution_count": 6,
   "metadata": {
    "execution": {
     "iopub.execute_input": "2024-05-14T08:17:40.961336Z",
     "iopub.status.busy": "2024-05-14T08:17:40.961029Z",
     "iopub.status.idle": "2024-05-14T10:00:49.933238Z",
     "shell.execute_reply": "2024-05-14T10:00:49.932085Z"
    }
   },
   "outputs": [
    {
     "name": "stderr",
     "output_type": "stream",
     "text": [
      "\u001b[34m\u001b[1mwandb\u001b[0m: Currently logged in as: \u001b[33mkazeev\u001b[0m. Use \u001b[1m`wandb login --relogin`\u001b[0m to force relogin\n"
     ]
    },
    {
     "name": "stderr",
     "output_type": "stream",
     "text": [
      "\u001b[34m\u001b[1mwandb\u001b[0m: wandb version 0.17.0 is available!  To upgrade, please run:\n",
      "\u001b[34m\u001b[1mwandb\u001b[0m:  $ pip install wandb --upgrade\n"
     ]
    },
    {
     "name": "stderr",
     "output_type": "stream",
     "text": [
      "\u001b[34m\u001b[1mwandb\u001b[0m: Tracking run with wandb version 0.16.6\n"
     ]
    },
    {
     "name": "stderr",
     "output_type": "stream",
     "text": [
      "\u001b[34m\u001b[1mwandb\u001b[0m: Run data is saved locally in \u001b[35m\u001b[1m/home/kna/WyckoffTransformer/wandb/run-20240514_161742-dxwcwrq0\u001b[0m\n",
      "\u001b[34m\u001b[1mwandb\u001b[0m: Run \u001b[1m`wandb offline`\u001b[0m to turn off syncing.\n"
     ]
    },
    {
     "name": "stderr",
     "output_type": "stream",
     "text": [
      "\u001b[34m\u001b[1mwandb\u001b[0m: Syncing run \u001b[33mancient-armadillo-183\u001b[0m\n"
     ]
    },
    {
     "name": "stderr",
     "output_type": "stream",
     "text": [
      "\u001b[34m\u001b[1mwandb\u001b[0m: ⭐️ View project at \u001b[34m\u001b[4mhttps://wandb.ai/kazeev/WyckoffTransformer\u001b[0m\n"
     ]
    },
    {
     "name": "stderr",
     "output_type": "stream",
     "text": [
      "\u001b[34m\u001b[1mwandb\u001b[0m: 🚀 View run at \u001b[34m\u001b[4mhttps://wandb.ai/kazeev/WyckoffTransformer/runs/dxwcwrq0\u001b[0m\n"
     ]
    },
    {
     "name": "stdout",
     "output_type": "stream",
     "text": [
      "Epoch 10 val_loss_epoch 56.8856315612793 saved to checkpoints/2024-05-14_16-17-41/best_model_params.pt\n"
     ]
    },
    {
     "name": "stdout",
     "output_type": "stream",
     "text": [
      "Epoch 20 val_loss_epoch 47.87232208251953 saved to checkpoints/2024-05-14_16-17-41/best_model_params.pt\n"
     ]
    },
    {
     "name": "stdout",
     "output_type": "stream",
     "text": [
      "Epoch 30 val_loss_epoch 41.03173065185547 saved to checkpoints/2024-05-14_16-17-41/best_model_params.pt\n"
     ]
    },
    {
     "name": "stdout",
     "output_type": "stream",
     "text": [
      "Epoch 60 val_loss_epoch 36.338783264160156 saved to checkpoints/2024-05-14_16-17-41/best_model_params.pt\n"
     ]
    },
    {
     "name": "stdout",
     "output_type": "stream",
     "text": [
      "Epoch 70 val_loss_epoch 36.10588455200195 saved to checkpoints/2024-05-14_16-17-41/best_model_params.pt\n"
     ]
    },
    {
     "name": "stdout",
     "output_type": "stream",
     "text": [
      "Epoch 80 val_loss_epoch 33.755218505859375 saved to checkpoints/2024-05-14_16-17-41/best_model_params.pt\n"
     ]
    },
    {
     "name": "stdout",
     "output_type": "stream",
     "text": [
      "Epoch 90 val_loss_epoch 30.522628784179688 saved to checkpoints/2024-05-14_16-17-41/best_model_params.pt\n"
     ]
    },
    {
     "name": "stdout",
     "output_type": "stream",
     "text": [
      "Epoch 130 val_loss_epoch 28.03639793395996 saved to checkpoints/2024-05-14_16-17-41/best_model_params.pt\n"
     ]
    },
    {
     "name": "stdout",
     "output_type": "stream",
     "text": [
      "Epoch 190 val_loss_epoch 26.560815811157227 saved to checkpoints/2024-05-14_16-17-41/best_model_params.pt\n"
     ]
    },
    {
     "name": "stdout",
     "output_type": "stream",
     "text": [
      "Epoch 210 val_loss_epoch 24.5246524810791 saved to checkpoints/2024-05-14_16-17-41/best_model_params.pt\n"
     ]
    },
    {
     "name": "stdout",
     "output_type": "stream",
     "text": [
      "Epoch 220 val_loss_epoch 23.34353256225586 saved to checkpoints/2024-05-14_16-17-41/best_model_params.pt\n"
     ]
    },
    {
     "name": "stdout",
     "output_type": "stream",
     "text": [
      "Epoch 270 val_loss_epoch 23.111074447631836 saved to checkpoints/2024-05-14_16-17-41/best_model_params.pt\n"
     ]
    },
    {
     "name": "stdout",
     "output_type": "stream",
     "text": [
      "Epoch 320 val_loss_epoch 21.604360580444336 saved to checkpoints/2024-05-14_16-17-41/best_model_params.pt\n"
     ]
    },
    {
     "name": "stdout",
     "output_type": "stream",
     "text": [
      "Epoch 350 val_loss_epoch 21.49207878112793 saved to checkpoints/2024-05-14_16-17-41/best_model_params.pt\n"
     ]
    },
    {
     "name": "stdout",
     "output_type": "stream",
     "text": [
      "Epoch 390 val_loss_epoch 21.035730361938477 saved to checkpoints/2024-05-14_16-17-41/best_model_params.pt\n"
     ]
    },
    {
     "name": "stdout",
     "output_type": "stream",
     "text": [
      "Epoch 460 val_loss_epoch 20.608182907104492 saved to checkpoints/2024-05-14_16-17-41/best_model_params.pt\n"
     ]
    },
    {
     "name": "stdout",
     "output_type": "stream",
     "text": [
      "Epoch 470 val_loss_epoch 19.246746063232422 saved to checkpoints/2024-05-14_16-17-41/best_model_params.pt\n"
     ]
    },
    {
     "name": "stdout",
     "output_type": "stream",
     "text": [
      "Epoch 560 val_loss_epoch 18.370458602905273 saved to checkpoints/2024-05-14_16-17-41/best_model_params.pt\n"
     ]
    },
    {
     "name": "stdout",
     "output_type": "stream",
     "text": [
      "Epoch 570 val_loss_epoch 18.04160499572754 saved to checkpoints/2024-05-14_16-17-41/best_model_params.pt\n"
     ]
    },
    {
     "name": "stdout",
     "output_type": "stream",
     "text": [
      "Epoch 610 val_loss_epoch 18.02469825744629 saved to checkpoints/2024-05-14_16-17-41/best_model_params.pt\n"
     ]
    },
    {
     "name": "stdout",
     "output_type": "stream",
     "text": [
      "Epoch 730 val_loss_epoch 17.131065368652344 saved to checkpoints/2024-05-14_16-17-41/best_model_params.pt\n"
     ]
    },
    {
     "name": "stdout",
     "output_type": "stream",
     "text": [
      "Epoch 820 val_loss_epoch 16.94735336303711 saved to checkpoints/2024-05-14_16-17-41/best_model_params.pt\n"
     ]
    },
    {
     "name": "stdout",
     "output_type": "stream",
     "text": [
      "Epoch 870 val_loss_epoch 16.73912239074707 saved to checkpoints/2024-05-14_16-17-41/best_model_params.pt\n"
     ]
    },
    {
     "name": "stdout",
     "output_type": "stream",
     "text": [
      "Epoch 880 val_loss_epoch 16.620065689086914 saved to checkpoints/2024-05-14_16-17-41/best_model_params.pt\n"
     ]
    },
    {
     "name": "stdout",
     "output_type": "stream",
     "text": [
      "Epoch 900 val_loss_epoch 16.55777359008789 saved to checkpoints/2024-05-14_16-17-41/best_model_params.pt\n"
     ]
    },
    {
     "name": "stdout",
     "output_type": "stream",
     "text": [
      "Epoch 970 val_loss_epoch 16.469478607177734 saved to checkpoints/2024-05-14_16-17-41/best_model_params.pt\n"
     ]
    },
    {
     "name": "stdout",
     "output_type": "stream",
     "text": [
      "Epoch 980 val_loss_epoch 15.94975757598877 saved to checkpoints/2024-05-14_16-17-41/best_model_params.pt\n"
     ]
    },
    {
     "name": "stdout",
     "output_type": "stream",
     "text": [
      "Epoch 1040 val_loss_epoch 15.562901496887207 saved to checkpoints/2024-05-14_16-17-41/best_model_params.pt\n"
     ]
    },
    {
     "name": "stdout",
     "output_type": "stream",
     "text": [
      "Epoch 1130 val_loss_epoch 15.37140941619873 saved to checkpoints/2024-05-14_16-17-41/best_model_params.pt\n"
     ]
    },
    {
     "name": "stdout",
     "output_type": "stream",
     "text": [
      "Epoch 1210 val_loss_epoch 15.039588928222656 saved to checkpoints/2024-05-14_16-17-41/best_model_params.pt\n"
     ]
    },
    {
     "name": "stdout",
     "output_type": "stream",
     "text": [
      "Epoch 1300 val_loss_epoch 15.007890701293945 saved to checkpoints/2024-05-14_16-17-41/best_model_params.pt\n"
     ]
    },
    {
     "name": "stdout",
     "output_type": "stream",
     "text": [
      "Epoch 1310 val_loss_epoch 14.989428520202637 saved to checkpoints/2024-05-14_16-17-41/best_model_params.pt\n"
     ]
    },
    {
     "name": "stdout",
     "output_type": "stream",
     "text": [
      "Epoch 1340 val_loss_epoch 14.824711799621582 saved to checkpoints/2024-05-14_16-17-41/best_model_params.pt\n"
     ]
    },
    {
     "name": "stdout",
     "output_type": "stream",
     "text": [
      "Epoch 1370 val_loss_epoch 14.79946231842041 saved to checkpoints/2024-05-14_16-17-41/best_model_params.pt\n"
     ]
    },
    {
     "name": "stdout",
     "output_type": "stream",
     "text": [
      "Epoch 1390 val_loss_epoch 14.591344833374023 saved to checkpoints/2024-05-14_16-17-41/best_model_params.pt\n"
     ]
    },
    {
     "name": "stdout",
     "output_type": "stream",
     "text": [
      "Epoch 1410 val_loss_epoch 14.576495170593262 saved to checkpoints/2024-05-14_16-17-41/best_model_params.pt\n"
     ]
    },
    {
     "name": "stdout",
     "output_type": "stream",
     "text": [
      "Epoch 1480 val_loss_epoch 14.514979362487793 saved to checkpoints/2024-05-14_16-17-41/best_model_params.pt\n"
     ]
    },
    {
     "name": "stdout",
     "output_type": "stream",
     "text": [
      "Epoch 1510 val_loss_epoch 14.51476764678955 saved to checkpoints/2024-05-14_16-17-41/best_model_params.pt\n"
     ]
    },
    {
     "name": "stdout",
     "output_type": "stream",
     "text": [
      "Epoch 1520 val_loss_epoch 14.416912078857422 saved to checkpoints/2024-05-14_16-17-41/best_model_params.pt\n"
     ]
    },
    {
     "name": "stdout",
     "output_type": "stream",
     "text": [
      "Epoch 1540 val_loss_epoch 14.111063003540039 saved to checkpoints/2024-05-14_16-17-41/best_model_params.pt\n"
     ]
    },
    {
     "name": "stdout",
     "output_type": "stream",
     "text": [
      "Epoch 1710 val_loss_epoch 14.106059074401855 saved to checkpoints/2024-05-14_16-17-41/best_model_params.pt\n"
     ]
    },
    {
     "name": "stdout",
     "output_type": "stream",
     "text": [
      "Epoch 1720 val_loss_epoch 14.037627220153809 saved to checkpoints/2024-05-14_16-17-41/best_model_params.pt\n"
     ]
    },
    {
     "name": "stdout",
     "output_type": "stream",
     "text": [
      "Epoch 1730 val_loss_epoch 14.004071235656738 saved to checkpoints/2024-05-14_16-17-41/best_model_params.pt\n"
     ]
    },
    {
     "name": "stdout",
     "output_type": "stream",
     "text": [
      "Epoch 1770 val_loss_epoch 13.849783897399902 saved to checkpoints/2024-05-14_16-17-41/best_model_params.pt\n"
     ]
    },
    {
     "name": "stdout",
     "output_type": "stream",
     "text": [
      "Epoch 1860 val_loss_epoch 13.814911842346191 saved to checkpoints/2024-05-14_16-17-41/best_model_params.pt\n"
     ]
    },
    {
     "name": "stdout",
     "output_type": "stream",
     "text": [
      "Epoch 1870 val_loss_epoch 13.689327239990234 saved to checkpoints/2024-05-14_16-17-41/best_model_params.pt\n"
     ]
    },
    {
     "name": "stdout",
     "output_type": "stream",
     "text": [
      "Epoch 1880 val_loss_epoch 13.562174797058105 saved to checkpoints/2024-05-14_16-17-41/best_model_params.pt\n"
     ]
    },
    {
     "name": "stdout",
     "output_type": "stream",
     "text": [
      "Epoch 1950 val_loss_epoch 13.46802806854248 saved to checkpoints/2024-05-14_16-17-41/best_model_params.pt\n"
     ]
    },
    {
     "name": "stdout",
     "output_type": "stream",
     "text": [
      "Epoch 2030 val_loss_epoch 13.19936752319336 saved to checkpoints/2024-05-14_16-17-41/best_model_params.pt\n"
     ]
    },
    {
     "name": "stdout",
     "output_type": "stream",
     "text": [
      "Epoch 2120 val_loss_epoch 13.195074081420898 saved to checkpoints/2024-05-14_16-17-41/best_model_params.pt\n"
     ]
    },
    {
     "name": "stdout",
     "output_type": "stream",
     "text": [
      "Epoch 2160 val_loss_epoch 13.119917869567871 saved to checkpoints/2024-05-14_16-17-41/best_model_params.pt\n"
     ]
    },
    {
     "name": "stdout",
     "output_type": "stream",
     "text": [
      "Epoch 2300 val_loss_epoch 13.09028434753418 saved to checkpoints/2024-05-14_16-17-41/best_model_params.pt\n"
     ]
    },
    {
     "name": "stdout",
     "output_type": "stream",
     "text": [
      "Epoch 2310 val_loss_epoch 12.990287780761719 saved to checkpoints/2024-05-14_16-17-41/best_model_params.pt\n"
     ]
    },
    {
     "name": "stdout",
     "output_type": "stream",
     "text": [
      "Epoch 2360 val_loss_epoch 12.884918212890625 saved to checkpoints/2024-05-14_16-17-41/best_model_params.pt\n"
     ]
    },
    {
     "name": "stdout",
     "output_type": "stream",
     "text": [
      "Epoch 2510 val_loss_epoch 12.826676368713379 saved to checkpoints/2024-05-14_16-17-41/best_model_params.pt\n"
     ]
    },
    {
     "name": "stdout",
     "output_type": "stream",
     "text": [
      "Epoch 2580 val_loss_epoch 12.746898651123047 saved to checkpoints/2024-05-14_16-17-41/best_model_params.pt\n"
     ]
    },
    {
     "name": "stdout",
     "output_type": "stream",
     "text": [
      "Epoch 2590 val_loss_epoch 12.726361274719238 saved to checkpoints/2024-05-14_16-17-41/best_model_params.pt\n"
     ]
    },
    {
     "name": "stdout",
     "output_type": "stream",
     "text": [
      "Epoch 2610 val_loss_epoch 12.707494735717773 saved to checkpoints/2024-05-14_16-17-41/best_model_params.pt\n"
     ]
    },
    {
     "name": "stdout",
     "output_type": "stream",
     "text": [
      "Epoch 2640 val_loss_epoch 12.681039810180664 saved to checkpoints/2024-05-14_16-17-41/best_model_params.pt\n"
     ]
    },
    {
     "name": "stdout",
     "output_type": "stream",
     "text": [
      "Epoch 2650 val_loss_epoch 12.607321739196777 saved to checkpoints/2024-05-14_16-17-41/best_model_params.pt\n"
     ]
    },
    {
     "name": "stdout",
     "output_type": "stream",
     "text": [
      "Epoch 2860 val_loss_epoch 12.557382583618164 saved to checkpoints/2024-05-14_16-17-41/best_model_params.pt\n"
     ]
    },
    {
     "name": "stdout",
     "output_type": "stream",
     "text": [
      "Epoch 3010 val_loss_epoch 12.464326858520508 saved to checkpoints/2024-05-14_16-17-41/best_model_params.pt\n"
     ]
    },
    {
     "name": "stdout",
     "output_type": "stream",
     "text": [
      "Epoch 3090 val_loss_epoch 12.437613487243652 saved to checkpoints/2024-05-14_16-17-41/best_model_params.pt\n"
     ]
    },
    {
     "name": "stdout",
     "output_type": "stream",
     "text": [
      "Epoch 3140 val_loss_epoch 12.420923233032227 saved to checkpoints/2024-05-14_16-17-41/best_model_params.pt\n"
     ]
    },
    {
     "name": "stdout",
     "output_type": "stream",
     "text": [
      "Epoch 3160 val_loss_epoch 12.340370178222656 saved to checkpoints/2024-05-14_16-17-41/best_model_params.pt\n"
     ]
    },
    {
     "name": "stdout",
     "output_type": "stream",
     "text": [
      "Epoch 3430 val_loss_epoch 12.308722496032715 saved to checkpoints/2024-05-14_16-17-41/best_model_params.pt\n"
     ]
    },
    {
     "name": "stdout",
     "output_type": "stream",
     "text": [
      "Epoch 3440 val_loss_epoch 12.293840408325195 saved to checkpoints/2024-05-14_16-17-41/best_model_params.pt\n"
     ]
    },
    {
     "name": "stdout",
     "output_type": "stream",
     "text": [
      "Epoch 3500 val_loss_epoch 12.286148071289062 saved to checkpoints/2024-05-14_16-17-41/best_model_params.pt\n"
     ]
    },
    {
     "name": "stdout",
     "output_type": "stream",
     "text": [
      "Epoch 3510 val_loss_epoch 12.281603813171387 saved to checkpoints/2024-05-14_16-17-41/best_model_params.pt\n"
     ]
    },
    {
     "name": "stdout",
     "output_type": "stream",
     "text": [
      "Epoch 3930 val_loss_epoch 12.269510269165039 saved to checkpoints/2024-05-14_16-17-41/best_model_params.pt\n"
     ]
    },
    {
     "name": "stdout",
     "output_type": "stream",
     "text": [
      "Epoch 4040 val_loss_epoch 12.262396812438965 saved to checkpoints/2024-05-14_16-17-41/best_model_params.pt\n"
     ]
    },
    {
     "name": "stdout",
     "output_type": "stream",
     "text": [
      "Epoch 4260 val_loss_epoch 12.234994888305664 saved to checkpoints/2024-05-14_16-17-41/best_model_params.pt\n"
     ]
    },
    {
     "name": "stdout",
     "output_type": "stream",
     "text": [
      "Epoch 4390 val_loss_epoch 12.227904319763184 saved to checkpoints/2024-05-14_16-17-41/best_model_params.pt\n"
     ]
    },
    {
     "name": "stdout",
     "output_type": "stream",
     "text": [
      "Epoch 4410 val_loss_epoch 12.218871116638184 saved to checkpoints/2024-05-14_16-17-41/best_model_params.pt\n"
     ]
    },
    {
     "name": "stdout",
     "output_type": "stream",
     "text": [
      "Epoch 4430 val_loss_epoch 12.216769218444824 saved to checkpoints/2024-05-14_16-17-41/best_model_params.pt\n"
     ]
    },
    {
     "name": "stdout",
     "output_type": "stream",
     "text": [
      "Epoch 4710 val_loss_epoch 12.206721305847168 saved to checkpoints/2024-05-14_16-17-41/best_model_params.pt\n"
     ]
    },
    {
     "name": "stdout",
     "output_type": "stream",
     "text": [
      "Epoch 5360 val_loss_epoch 12.202596664428711 saved to checkpoints/2024-05-14_16-17-41/best_model_params.pt\n"
     ]
    },
    {
     "name": "stdout",
     "output_type": "stream",
     "text": [
      "Epoch 5390 val_loss_epoch 12.201485633850098 saved to checkpoints/2024-05-14_16-17-41/best_model_params.pt\n"
     ]
    },
    {
     "name": "stdout",
     "output_type": "stream",
     "text": [
      "Epoch 5420 val_loss_epoch 12.199073791503906 saved to checkpoints/2024-05-14_16-17-41/best_model_params.pt\n"
     ]
    },
    {
     "name": "stdout",
     "output_type": "stream",
     "text": [
      "Epoch 5440 val_loss_epoch 12.196263313293457 saved to checkpoints/2024-05-14_16-17-41/best_model_params.pt\n"
     ]
    },
    {
     "name": "stdout",
     "output_type": "stream",
     "text": [
      "Epoch 5450 val_loss_epoch 12.186529159545898 saved to checkpoints/2024-05-14_16-17-41/best_model_params.pt\n"
     ]
    },
    {
     "name": "stdout",
     "output_type": "stream",
     "text": [
      "Epoch 5540 val_loss_epoch 12.176400184631348 saved to checkpoints/2024-05-14_16-17-41/best_model_params.pt\n"
     ]
    },
    {
     "name": "stdout",
     "output_type": "stream",
     "text": [
      "Epoch 5650 val_loss_epoch 12.175714492797852 saved to checkpoints/2024-05-14_16-17-41/best_model_params.pt\n"
     ]
    },
    {
     "name": "stdout",
     "output_type": "stream",
     "text": [
      "Epoch 5660 val_loss_epoch 12.172255516052246 saved to checkpoints/2024-05-14_16-17-41/best_model_params.pt\n"
     ]
    },
    {
     "name": "stderr",
     "output_type": "stream",
     "text": [
      "\u001b[34m\u001b[1mwandb\u001b[0m: - 1.745 MB of 1.745 MB uploaded\r"
     ]
    },
    {
     "name": "stderr",
     "output_type": "stream",
     "text": [
      "\u001b[34m\u001b[1mwandb\u001b[0m: \\ 1.745 MB of 1.758 MB uploaded\r"
     ]
    },
    {
     "name": "stderr",
     "output_type": "stream",
     "text": [
      "\u001b[34m\u001b[1mwandb\u001b[0m: | 0.006 MB of 1.758 MB uploaded\r"
     ]
    },
    {
     "name": "stderr",
     "output_type": "stream",
     "text": [
      "\u001b[34m\u001b[1mwandb\u001b[0m: / 0.988 MB of 1.758 MB uploaded\r"
     ]
    },
    {
     "name": "stderr",
     "output_type": "stream",
     "text": [
      "\u001b[34m\u001b[1mwandb\u001b[0m: - 1.758 MB of 1.758 MB uploaded\r"
     ]
    },
    {
     "name": "stderr",
     "output_type": "stream",
     "text": [
      "\u001b[34m\u001b[1mwandb\u001b[0m: \\ 1.758 MB of 1.758 MB uploaded\r"
     ]
    },
    {
     "name": "stderr",
     "output_type": "stream",
     "text": [
      "\u001b[34m\u001b[1mwandb\u001b[0m: | 1.758 MB of 1.758 MB uploaded\r"
     ]
    },
    {
     "name": "stderr",
     "output_type": "stream",
     "text": [
      "\u001b[34m\u001b[1mwandb\u001b[0m:                                                                                \n"
     ]
    },
    {
     "name": "stderr",
     "output_type": "stream",
     "text": [
      "\u001b[34m\u001b[1mwandb\u001b[0m: \n",
      "\u001b[34m\u001b[1mwandb\u001b[0m: Run history:\n",
      "\u001b[34m\u001b[1mwandb\u001b[0m:          known_seq_len ▃▇▁▇▆▄▇▂▆▅█▁▂▅▂▂▄▅▅▇▃▆▂▆▅▁▄▅▁▇▄▇▃▂▇▇▅▁▄▅\n",
      "\u001b[34m\u001b[1mwandb\u001b[0m:                     lr ██▇▆▅▄▄▃▃▂▂▂▁▁▁▁▁▁▁▁▁▁▁▁▁▁▁▁▁▁▁▁▁▁▁▁▁▁▁▁\n",
      "\u001b[34m\u001b[1mwandb\u001b[0m:       train_loss_batch ▂▁█▁▁▁▁▄▁▁▁▅▂▁▂▂▁▁▁▁▁▁▃▁▁▅▁▁▅▁▁▁▁▃▁▁▁▅▁▁\n",
      "\u001b[34m\u001b[1mwandb\u001b[0m:     train_loss_element ▂▁█▁▁▁▁▄▁▁▁▆▂▁▂▂▁▁▁▁▁▁▃▁▁▆▁▁▆▁▁▁▁▃▁▁▁▆▁▁\n",
      "\u001b[34m\u001b[1mwandb\u001b[0m: train_loss_enumeration ▂▁█▁▁▁▁▃▁▁▁▄▂▁▂▂▁▁▁▁▁▁▃▁▁▄▁▁▄▁▁▁▁▃▁▁▁▄▁▁\n",
      "\u001b[34m\u001b[1mwandb\u001b[0m:        train_loss_site ▂▁█▁▁▁▁▃▁▁▁▄▂▁▂▂▁▁▁▁▁▁▃▁▁▄▁▁▄▁▁▁▁▃▁▁▁▄▁▁\n",
      "\u001b[34m\u001b[1mwandb\u001b[0m:         val_loss_epoch █▄▃▃▂▂▂▂▁▁▁▁▁▁▁▁▁▁▁▁▁▁▁▁▁▁▁▁▁▁▁▁▁▁▁▁▁▁▁▁\n",
      "\u001b[34m\u001b[1mwandb\u001b[0m: \n",
      "\u001b[34m\u001b[1mwandb\u001b[0m: Run summary:\n",
      "\u001b[34m\u001b[1mwandb\u001b[0m:          known_seq_len 13\n",
      "\u001b[34m\u001b[1mwandb\u001b[0m:                     lr 1e-05\n",
      "\u001b[34m\u001b[1mwandb\u001b[0m:       train_loss_batch 892.75684\n",
      "\u001b[34m\u001b[1mwandb\u001b[0m:     train_loss_element 744.34021\n",
      "\u001b[34m\u001b[1mwandb\u001b[0m: train_loss_enumeration 28.12473\n",
      "\u001b[34m\u001b[1mwandb\u001b[0m:        train_loss_site 120.29189\n",
      "\u001b[34m\u001b[1mwandb\u001b[0m:         val_loss_epoch 12.18972\n",
      "\u001b[34m\u001b[1mwandb\u001b[0m: \n"
     ]
    },
    {
     "name": "stderr",
     "output_type": "stream",
     "text": [
      "\u001b[34m\u001b[1mwandb\u001b[0m: 🚀 View run \u001b[33mancient-armadillo-183\u001b[0m at: \u001b[34m\u001b[4mhttps://wandb.ai/kazeev/WyckoffTransformer/runs/dxwcwrq0\u001b[0m\n",
      "\u001b[34m\u001b[1mwandb\u001b[0m: ⭐️ View project at: \u001b[34m\u001b[4mhttps://wandb.ai/kazeev/WyckoffTransformer\u001b[0m\n",
      "\u001b[34m\u001b[1mwandb\u001b[0m: Synced 5 W&B file(s), 0 media file(s), 0 artifact file(s) and 1 other file(s)\n"
     ]
    },
    {
     "name": "stderr",
     "output_type": "stream",
     "text": [
      "\u001b[34m\u001b[1mwandb\u001b[0m: Find logs at: \u001b[35m\u001b[1m./wandb/run-20240514_161742-dxwcwrq0/logs\u001b[0m\n"
     ]
    }
   ],
   "source": [
    "import torch\n",
    "trainer = WyckoffTrainer(model, torch_datasets, max_len,\n",
    "                         site_mask=torch.tensor(site_to_ids[MASK_SITE]).to(device),\n",
    "                         element_pad=torch.tensor(element_to_ids[\"PAD\"]).to(device),\n",
    "                         site_pad=torch.tensor(site_to_ids[\"PAD\"]).to(device))\n",
    "trainer.train(epochs=10000, val_period=10)"
   ]
  }
 ],
 "metadata": {
  "kernelspec": {
   "display_name": "wyckofftransformer-FeCwefly-py3.10",
   "language": "python",
   "name": "python3"
  },
  "language_info": {
   "codemirror_mode": {
    "name": "ipython",
    "version": 3
   },
   "file_extension": ".py",
   "mimetype": "text/x-python",
   "name": "python",
   "nbconvert_exporter": "python",
   "pygments_lexer": "ipython3",
   "version": "3.10.12"
  }
 },
 "nbformat": 4,
 "nbformat_minor": 2
}
