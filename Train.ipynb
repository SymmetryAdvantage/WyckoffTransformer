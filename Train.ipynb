{
 "cells": [
  {
   "cell_type": "code",
   "execution_count": 1,
   "metadata": {},
   "outputs": [
    {
     "name": "stdout",
     "output_type": "stream",
     "text": [
      "env: \"WANDB_NOTEBOOK_NAME\"=\"Train.ipynb\"\n"
     ]
    }
   ],
   "source": [
    "%env \"WANDB_NOTEBOOK_NAME\" \"Train.ipynb\""
   ]
  },
  {
   "cell_type": "code",
   "execution_count": 2,
   "metadata": {},
   "outputs": [],
   "source": [
    "import pickle\n",
    "import logging\n",
    "import gzip\n",
    "from data import read_all_MP_csv\n",
    "from tokenization import get_tokens, MASK_SITE\n",
    "\n",
    "MP_20_cache_data = \"cache/mp_20/data.pkl.gz\"\n",
    "MP_20_cache_tensors = \"cache/mp_20/tensors.pkl.gz\"\n",
    "MP_20_path = \"cdvae/data/mp_20\"\n",
    "\n",
    "try:\n",
    "    with gzip.open(MP_20_cache_data, \"rb\") as f:\n",
    "        datasets_pd, max_len = pickle.load(f)\n",
    "except Exception as e:\n",
    "    logging.info(\"Error reading data cache:\")\n",
    "    logging.info(e)\n",
    "    logging.info(\"Reading from csv\")\n",
    "    datasets_pd, max_len = read_all_MP_csv()\n",
    "    with gzip.open(MP_20_cache_data, \"wb\") as f:\n",
    "        pickle.dump((datasets_pd, max_len), f)"
   ]
  },
  {
   "cell_type": "code",
   "execution_count": 3,
   "metadata": {},
   "outputs": [],
   "source": [
    "try:\n",
    "    with gzip.open(MP_20_cache_tensors, \"rb\") as f:\n",
    "        tensors, site_to_ids, element_to_ids, spacegroup_to_ids = pickle.load(f)\n",
    "except Exception as e:\n",
    "    logging.warning(\"Error reading tensor cache! The token order will change!\")\n",
    "    logging.info(e)\n",
    "    logging.info(\"Generating new tensors\")\n",
    "    tensors, site_to_ids, element_to_ids, spacegroup_to_ids = get_tokens(datasets_pd)\n",
    "    with gzip.open(MP_20_cache_tensors, \"wb\") as f:\n",
    "        pickle.dump((tensors, site_to_ids, element_to_ids, spacegroup_to_ids), f)"
   ]
  },
  {
   "cell_type": "code",
   "execution_count": 4,
   "metadata": {},
   "outputs": [],
   "source": [
    "import torch\n",
    "device = torch.device('cuda' if torch.cuda.is_available() else 'cpu')\n",
    "def to_combined_dataset(dataset):\n",
    "    return dict(\n",
    "        symmetry_sites=torch.stack(dataset['symmetry_sites_tensor'].to_list()).T.to(device),\n",
    "        symmetry_elements=torch.stack(dataset['symmetry_elements_tensor'].to_list()).T.to(device),\n",
    "        spacegroup_number=torch.stack(dataset['spacegroup_number_tensor'].to_list()).to(device),\n",
    "        padding_mask = torch.stack(dataset['padding_mask_tensor'].to_list()).to(device)\n",
    "    )\n",
    "torch_datasets = dict(zip(tensors.keys(), map(to_combined_dataset, tensors.values())))"
   ]
  },
  {
   "cell_type": "code",
   "execution_count": 5,
   "metadata": {},
   "outputs": [
    {
     "name": "stderr",
     "output_type": "stream",
     "text": [
      "/home/kna/.cache/pypoetry/virtualenvs/wyckofftransformer-FeCwefly-py3.10/lib/python3.10/site-packages/torch/nn/modules/transformer.py:282: UserWarning: enable_nested_tensor is True, but self.use_nested_tensor is False because encoder_layer.self_attn.batch_first was not True(use batch_first for better inference performance)\n",
      "  warnings.warn(f\"enable_nested_tensor is True, but self.use_nested_tensor is False because {why_not_sparsity_fast_path}\")\n"
     ]
    }
   ],
   "source": [
    "from wyckoff_transformer import WyckoffTransformerModel, WyckoffTrainer\n",
    "d_hid = 200  # dimension of the feedforward network model in ``nn.TransformerEncoder``\n",
    "nlayers = 4  # number of ``nn.TransformerEncoderLayer`` in ``nn.TransformerEncoder``\n",
    "nhead = 4  # number of heads in ``nn.MultiheadAttention``\n",
    "dropout = 0.2  # dropout probability\n",
    "n_space_groups = len(spacegroup_to_ids)\n",
    "# Nope, not all SGs are present\n",
    "# assert n_space_groups == 230\n",
    "model = WyckoffTransformerModel(\n",
    "    n_space_groups = n_space_groups,\n",
    "    n_sites = len(site_to_ids),\n",
    "    n_elements = len(element_to_ids),\n",
    "    d_space_groups = 16,\n",
    "    d_sites = 64,\n",
    "    d_species = 64,\n",
    "    nhead=nhead,\n",
    "    d_hid=d_hid,\n",
    "    nlayers=nlayers,\n",
    "    dropout=dropout).to(device)"
   ]
  },
  {
   "cell_type": "code",
   "execution_count": 6,
   "metadata": {},
   "outputs": [
    {
     "name": "stderr",
     "output_type": "stream",
     "text": [
      "Failed to detect the name of this notebook, you can set it manually with the WANDB_NOTEBOOK_NAME environment variable to enable code saving.\n",
      "\u001b[34m\u001b[1mwandb\u001b[0m: Currently logged in as: \u001b[33mkazeev\u001b[0m. Use \u001b[1m`wandb login --relogin`\u001b[0m to force relogin\n"
     ]
    },
    {
     "data": {
      "application/vnd.jupyter.widget-view+json": {
       "model_id": "2d47f0b90ad44bb0bfb3a13670bb749a",
       "version_major": 2,
       "version_minor": 0
      },
      "text/plain": [
       "VBox(children=(Label(value='Waiting for wandb.init()...\\r'), FloatProgress(value=0.011113049355076832, max=1.0…"
      ]
     },
     "metadata": {},
     "output_type": "display_data"
    },
    {
     "data": {
      "text/html": [
       "Tracking run with wandb version 0.16.2"
      ],
      "text/plain": [
       "<IPython.core.display.HTML object>"
      ]
     },
     "metadata": {},
     "output_type": "display_data"
    },
    {
     "data": {
      "text/html": [
       "Run data is saved locally in <code>/home/kna/WyckoffTransformer/wandb/run-20240116_153228-kgtraro8</code>"
      ],
      "text/plain": [
       "<IPython.core.display.HTML object>"
      ]
     },
     "metadata": {},
     "output_type": "display_data"
    },
    {
     "data": {
      "text/html": [
       "Syncing run <strong><a href='https://wandb.ai/kazeev/WyckoffTransformer/runs/kgtraro8' target=\"_blank\">autumn-terrain-64</a></strong> to <a href='https://wandb.ai/kazeev/WyckoffTransformer' target=\"_blank\">Weights & Biases</a> (<a href='https://wandb.me/run' target=\"_blank\">docs</a>)<br/>"
      ],
      "text/plain": [
       "<IPython.core.display.HTML object>"
      ]
     },
     "metadata": {},
     "output_type": "display_data"
    },
    {
     "data": {
      "text/html": [
       " View project at <a href='https://wandb.ai/kazeev/WyckoffTransformer' target=\"_blank\">https://wandb.ai/kazeev/WyckoffTransformer</a>"
      ],
      "text/plain": [
       "<IPython.core.display.HTML object>"
      ]
     },
     "metadata": {},
     "output_type": "display_data"
    },
    {
     "data": {
      "text/html": [
       " View run at <a href='https://wandb.ai/kazeev/WyckoffTransformer/runs/kgtraro8' target=\"_blank\">https://wandb.ai/kazeev/WyckoffTransformer/runs/kgtraro8</a>"
      ],
      "text/plain": [
       "<IPython.core.display.HTML object>"
      ]
     },
     "metadata": {},
     "output_type": "display_data"
    },
    {
     "name": "stderr",
     "output_type": "stream",
     "text": [
      "/home/kna/.cache/pypoetry/virtualenvs/wyckofftransformer-FeCwefly-py3.10/lib/python3.10/site-packages/torch/optim/lr_scheduler.py:136: UserWarning: Detected call of `lr_scheduler.step()` before `optimizer.step()`. In PyTorch 1.1.0 and later, you should call them in the opposite order: `optimizer.step()` before `lr_scheduler.step()`.  Failure to do this will result in PyTorch skipping the first value of the learning rate schedule. See more details at https://pytorch.org/docs/stable/optim.html#how-to-adjust-learning-rate\n",
      "  warnings.warn(\"Detected call of `lr_scheduler.step()` before `optimizer.step()`. \"\n"
     ]
    },
    {
     "name": "stdout",
     "output_type": "stream",
     "text": [
      "New best val_loss_epoch 9.011067390441895, saving the model\n",
      "Epoch 10 val_loss_epoch 9.011067390441895 saved to checkpoints/2024-01-16_15-32-26/best_model_params.pt\n",
      "Epoch 20 val_loss_epoch 9.011067390441895 saved to checkpoints/2024-01-16_15-32-26/best_model_params.pt\n",
      "Epoch 30 val_loss_epoch 9.011067390441895 saved to checkpoints/2024-01-16_15-32-26/best_model_params.pt\n",
      "Epoch 40 val_loss_epoch 9.011067390441895 saved to checkpoints/2024-01-16_15-32-26/best_model_params.pt\n",
      "Epoch 50 val_loss_epoch 9.011067390441895 saved to checkpoints/2024-01-16_15-32-26/best_model_params.pt\n",
      "Epoch 60 val_loss_epoch 9.011067390441895 saved to checkpoints/2024-01-16_15-32-26/best_model_params.pt\n",
      "Epoch 70 val_loss_epoch 9.011067390441895 saved to checkpoints/2024-01-16_15-32-26/best_model_params.pt\n",
      "Epoch 80 val_loss_epoch 9.011067390441895 saved to checkpoints/2024-01-16_15-32-26/best_model_params.pt\n",
      "Epoch 90 val_loss_epoch 9.011067390441895 saved to checkpoints/2024-01-16_15-32-26/best_model_params.pt\n",
      "Epoch 100 val_loss_epoch 9.011067390441895 saved to checkpoints/2024-01-16_15-32-26/best_model_params.pt\n",
      "Epoch 110 val_loss_epoch 9.011067390441895 saved to checkpoints/2024-01-16_15-32-26/best_model_params.pt\n",
      "Epoch 120 val_loss_epoch 9.011067390441895 saved to checkpoints/2024-01-16_15-32-26/best_model_params.pt\n",
      "Epoch 130 val_loss_epoch 9.011067390441895 saved to checkpoints/2024-01-16_15-32-26/best_model_params.pt\n",
      "Epoch 140 val_loss_epoch 9.011067390441895 saved to checkpoints/2024-01-16_15-32-26/best_model_params.pt\n",
      "Epoch 150 val_loss_epoch 9.011067390441895 saved to checkpoints/2024-01-16_15-32-26/best_model_params.pt\n",
      "Epoch 160 val_loss_epoch 9.011067390441895 saved to checkpoints/2024-01-16_15-32-26/best_model_params.pt\n",
      "Epoch 170 val_loss_epoch 9.011067390441895 saved to checkpoints/2024-01-16_15-32-26/best_model_params.pt\n",
      "Epoch 180 val_loss_epoch 9.011067390441895 saved to checkpoints/2024-01-16_15-32-26/best_model_params.pt\n",
      "Epoch 190 val_loss_epoch 9.011067390441895 saved to checkpoints/2024-01-16_15-32-26/best_model_params.pt\n",
      "Epoch 200 val_loss_epoch 9.011067390441895 saved to checkpoints/2024-01-16_15-32-26/best_model_params.pt\n",
      "Epoch 210 val_loss_epoch 9.011067390441895 saved to checkpoints/2024-01-16_15-32-26/best_model_params.pt\n",
      "Epoch 220 val_loss_epoch 9.011067390441895 saved to checkpoints/2024-01-16_15-32-26/best_model_params.pt\n",
      "Epoch 230 val_loss_epoch 9.011067390441895 saved to checkpoints/2024-01-16_15-32-26/best_model_params.pt\n",
      "Epoch 240 val_loss_epoch 9.011067390441895 saved to checkpoints/2024-01-16_15-32-26/best_model_params.pt\n",
      "Epoch 250 val_loss_epoch 9.011067390441895 saved to checkpoints/2024-01-16_15-32-26/best_model_params.pt\n",
      "Epoch 260 val_loss_epoch 9.011067390441895 saved to checkpoints/2024-01-16_15-32-26/best_model_params.pt\n",
      "Epoch 270 val_loss_epoch 9.011067390441895 saved to checkpoints/2024-01-16_15-32-26/best_model_params.pt\n",
      "Epoch 280 val_loss_epoch 9.011067390441895 saved to checkpoints/2024-01-16_15-32-26/best_model_params.pt\n",
      "Epoch 290 val_loss_epoch 9.011067390441895 saved to checkpoints/2024-01-16_15-32-26/best_model_params.pt\n",
      "Epoch 300 val_loss_epoch 9.011067390441895 saved to checkpoints/2024-01-16_15-32-26/best_model_params.pt\n",
      "Epoch 310 val_loss_epoch 9.011067390441895 saved to checkpoints/2024-01-16_15-32-26/best_model_params.pt\n",
      "Epoch 320 val_loss_epoch 9.011067390441895 saved to checkpoints/2024-01-16_15-32-26/best_model_params.pt\n",
      "Epoch 330 val_loss_epoch 9.011067390441895 saved to checkpoints/2024-01-16_15-32-26/best_model_params.pt\n",
      "Epoch 340 val_loss_epoch 9.011067390441895 saved to checkpoints/2024-01-16_15-32-26/best_model_params.pt\n",
      "Epoch 350 val_loss_epoch 9.011067390441895 saved to checkpoints/2024-01-16_15-32-26/best_model_params.pt\n",
      "Epoch 360 val_loss_epoch 9.011067390441895 saved to checkpoints/2024-01-16_15-32-26/best_model_params.pt\n",
      "Epoch 370 val_loss_epoch 9.011067390441895 saved to checkpoints/2024-01-16_15-32-26/best_model_params.pt\n",
      "Epoch 380 val_loss_epoch 9.011067390441895 saved to checkpoints/2024-01-16_15-32-26/best_model_params.pt\n",
      "Epoch 390 val_loss_epoch 9.011067390441895 saved to checkpoints/2024-01-16_15-32-26/best_model_params.pt\n",
      "Epoch 400 val_loss_epoch 9.011067390441895 saved to checkpoints/2024-01-16_15-32-26/best_model_params.pt\n",
      "Epoch 410 val_loss_epoch 9.011067390441895 saved to checkpoints/2024-01-16_15-32-26/best_model_params.pt\n",
      "Epoch 420 val_loss_epoch 9.011067390441895 saved to checkpoints/2024-01-16_15-32-26/best_model_params.pt\n",
      "Epoch 430 val_loss_epoch 9.011067390441895 saved to checkpoints/2024-01-16_15-32-26/best_model_params.pt\n",
      "Epoch 440 val_loss_epoch 9.011067390441895 saved to checkpoints/2024-01-16_15-32-26/best_model_params.pt\n",
      "Epoch 450 val_loss_epoch 9.011067390441895 saved to checkpoints/2024-01-16_15-32-26/best_model_params.pt\n",
      "Epoch 460 val_loss_epoch 9.011067390441895 saved to checkpoints/2024-01-16_15-32-26/best_model_params.pt\n",
      "Epoch 470 val_loss_epoch 9.011067390441895 saved to checkpoints/2024-01-16_15-32-26/best_model_params.pt\n",
      "Epoch 480 val_loss_epoch 9.011067390441895 saved to checkpoints/2024-01-16_15-32-26/best_model_params.pt\n",
      "Epoch 490 val_loss_epoch 9.011067390441895 saved to checkpoints/2024-01-16_15-32-26/best_model_params.pt\n",
      "Epoch 500 val_loss_epoch 9.011067390441895 saved to checkpoints/2024-01-16_15-32-26/best_model_params.pt\n",
      "Epoch 510 val_loss_epoch 9.011067390441895 saved to checkpoints/2024-01-16_15-32-26/best_model_params.pt\n",
      "Epoch 520 val_loss_epoch 9.011067390441895 saved to checkpoints/2024-01-16_15-32-26/best_model_params.pt\n",
      "Epoch 530 val_loss_epoch 9.011067390441895 saved to checkpoints/2024-01-16_15-32-26/best_model_params.pt\n",
      "Epoch 540 val_loss_epoch 9.011067390441895 saved to checkpoints/2024-01-16_15-32-26/best_model_params.pt\n",
      "Epoch 550 val_loss_epoch 9.011067390441895 saved to checkpoints/2024-01-16_15-32-26/best_model_params.pt\n",
      "Epoch 560 val_loss_epoch 9.011067390441895 saved to checkpoints/2024-01-16_15-32-26/best_model_params.pt\n",
      "Epoch 570 val_loss_epoch 9.011067390441895 saved to checkpoints/2024-01-16_15-32-26/best_model_params.pt\n",
      "Epoch 580 val_loss_epoch 9.011067390441895 saved to checkpoints/2024-01-16_15-32-26/best_model_params.pt\n",
      "Epoch 590 val_loss_epoch 9.011067390441895 saved to checkpoints/2024-01-16_15-32-26/best_model_params.pt\n",
      "Epoch 600 val_loss_epoch 9.011067390441895 saved to checkpoints/2024-01-16_15-32-26/best_model_params.pt\n",
      "Epoch 610 val_loss_epoch 9.011067390441895 saved to checkpoints/2024-01-16_15-32-26/best_model_params.pt\n",
      "Epoch 620 val_loss_epoch 9.011067390441895 saved to checkpoints/2024-01-16_15-32-26/best_model_params.pt\n",
      "Epoch 630 val_loss_epoch 9.011067390441895 saved to checkpoints/2024-01-16_15-32-26/best_model_params.pt\n",
      "Epoch 640 val_loss_epoch 9.011067390441895 saved to checkpoints/2024-01-16_15-32-26/best_model_params.pt\n",
      "Epoch 650 val_loss_epoch 9.011067390441895 saved to checkpoints/2024-01-16_15-32-26/best_model_params.pt\n",
      "Epoch 660 val_loss_epoch 9.011067390441895 saved to checkpoints/2024-01-16_15-32-26/best_model_params.pt\n",
      "Epoch 670 val_loss_epoch 9.011067390441895 saved to checkpoints/2024-01-16_15-32-26/best_model_params.pt\n",
      "Epoch 680 val_loss_epoch 9.011067390441895 saved to checkpoints/2024-01-16_15-32-26/best_model_params.pt\n",
      "Epoch 690 val_loss_epoch 9.011067390441895 saved to checkpoints/2024-01-16_15-32-26/best_model_params.pt\n",
      "Epoch 700 val_loss_epoch 9.011067390441895 saved to checkpoints/2024-01-16_15-32-26/best_model_params.pt\n",
      "Epoch 710 val_loss_epoch 9.011067390441895 saved to checkpoints/2024-01-16_15-32-26/best_model_params.pt\n",
      "Epoch 720 val_loss_epoch 9.011067390441895 saved to checkpoints/2024-01-16_15-32-26/best_model_params.pt\n",
      "Epoch 730 val_loss_epoch 9.011067390441895 saved to checkpoints/2024-01-16_15-32-26/best_model_params.pt\n",
      "Epoch 740 val_loss_epoch 9.011067390441895 saved to checkpoints/2024-01-16_15-32-26/best_model_params.pt\n",
      "Epoch 750 val_loss_epoch 9.011067390441895 saved to checkpoints/2024-01-16_15-32-26/best_model_params.pt\n",
      "Epoch 760 val_loss_epoch 9.011067390441895 saved to checkpoints/2024-01-16_15-32-26/best_model_params.pt\n",
      "Epoch 770 val_loss_epoch 9.011067390441895 saved to checkpoints/2024-01-16_15-32-26/best_model_params.pt\n",
      "Epoch 780 val_loss_epoch 9.011067390441895 saved to checkpoints/2024-01-16_15-32-26/best_model_params.pt\n",
      "Epoch 790 val_loss_epoch 9.011067390441895 saved to checkpoints/2024-01-16_15-32-26/best_model_params.pt\n",
      "Epoch 800 val_loss_epoch 9.011067390441895 saved to checkpoints/2024-01-16_15-32-26/best_model_params.pt\n",
      "Epoch 810 val_loss_epoch 9.011067390441895 saved to checkpoints/2024-01-16_15-32-26/best_model_params.pt\n",
      "Epoch 820 val_loss_epoch 9.011067390441895 saved to checkpoints/2024-01-16_15-32-26/best_model_params.pt\n",
      "Epoch 830 val_loss_epoch 9.011067390441895 saved to checkpoints/2024-01-16_15-32-26/best_model_params.pt\n",
      "Epoch 840 val_loss_epoch 9.011067390441895 saved to checkpoints/2024-01-16_15-32-26/best_model_params.pt\n",
      "Epoch 850 val_loss_epoch 9.011067390441895 saved to checkpoints/2024-01-16_15-32-26/best_model_params.pt\n",
      "Epoch 860 val_loss_epoch 9.011067390441895 saved to checkpoints/2024-01-16_15-32-26/best_model_params.pt\n",
      "Epoch 870 val_loss_epoch 9.011067390441895 saved to checkpoints/2024-01-16_15-32-26/best_model_params.pt\n",
      "Epoch 880 val_loss_epoch 9.011067390441895 saved to checkpoints/2024-01-16_15-32-26/best_model_params.pt\n",
      "Epoch 890 val_loss_epoch 9.011067390441895 saved to checkpoints/2024-01-16_15-32-26/best_model_params.pt\n",
      "Epoch 900 val_loss_epoch 9.011067390441895 saved to checkpoints/2024-01-16_15-32-26/best_model_params.pt\n",
      "Epoch 910 val_loss_epoch 9.011067390441895 saved to checkpoints/2024-01-16_15-32-26/best_model_params.pt\n",
      "Epoch 920 val_loss_epoch 9.011067390441895 saved to checkpoints/2024-01-16_15-32-26/best_model_params.pt\n",
      "Epoch 930 val_loss_epoch 9.011067390441895 saved to checkpoints/2024-01-16_15-32-26/best_model_params.pt\n",
      "Epoch 940 val_loss_epoch 9.011067390441895 saved to checkpoints/2024-01-16_15-32-26/best_model_params.pt\n",
      "Epoch 950 val_loss_epoch 9.011067390441895 saved to checkpoints/2024-01-16_15-32-26/best_model_params.pt\n",
      "Epoch 960 val_loss_epoch 9.011067390441895 saved to checkpoints/2024-01-16_15-32-26/best_model_params.pt\n",
      "Epoch 970 val_loss_epoch 9.011067390441895 saved to checkpoints/2024-01-16_15-32-26/best_model_params.pt\n",
      "Epoch 980 val_loss_epoch 9.011067390441895 saved to checkpoints/2024-01-16_15-32-26/best_model_params.pt\n",
      "Epoch 990 val_loss_epoch 9.011067390441895 saved to checkpoints/2024-01-16_15-32-26/best_model_params.pt\n",
      "Epoch 1000 val_loss_epoch 9.011067390441895 saved to checkpoints/2024-01-16_15-32-26/best_model_params.pt\n",
      "Epoch 1010 val_loss_epoch 9.011067390441895 saved to checkpoints/2024-01-16_15-32-26/best_model_params.pt\n",
      "Epoch 1020 val_loss_epoch 9.011067390441895 saved to checkpoints/2024-01-16_15-32-26/best_model_params.pt\n",
      "Epoch 1030 val_loss_epoch 9.011067390441895 saved to checkpoints/2024-01-16_15-32-26/best_model_params.pt\n",
      "Epoch 1040 val_loss_epoch 9.011067390441895 saved to checkpoints/2024-01-16_15-32-26/best_model_params.pt\n",
      "Epoch 1050 val_loss_epoch 9.011067390441895 saved to checkpoints/2024-01-16_15-32-26/best_model_params.pt\n",
      "Epoch 1060 val_loss_epoch 9.011067390441895 saved to checkpoints/2024-01-16_15-32-26/best_model_params.pt\n",
      "Epoch 1070 val_loss_epoch 9.011067390441895 saved to checkpoints/2024-01-16_15-32-26/best_model_params.pt\n",
      "Epoch 1080 val_loss_epoch 9.011067390441895 saved to checkpoints/2024-01-16_15-32-26/best_model_params.pt\n",
      "Epoch 1090 val_loss_epoch 9.011067390441895 saved to checkpoints/2024-01-16_15-32-26/best_model_params.pt\n",
      "Epoch 1100 val_loss_epoch 9.011067390441895 saved to checkpoints/2024-01-16_15-32-26/best_model_params.pt\n",
      "Epoch 1110 val_loss_epoch 9.011067390441895 saved to checkpoints/2024-01-16_15-32-26/best_model_params.pt\n",
      "Epoch 1120 val_loss_epoch 9.011067390441895 saved to checkpoints/2024-01-16_15-32-26/best_model_params.pt\n",
      "Epoch 1130 val_loss_epoch 9.011067390441895 saved to checkpoints/2024-01-16_15-32-26/best_model_params.pt\n",
      "Epoch 1140 val_loss_epoch 9.011067390441895 saved to checkpoints/2024-01-16_15-32-26/best_model_params.pt\n",
      "Epoch 1150 val_loss_epoch 9.011067390441895 saved to checkpoints/2024-01-16_15-32-26/best_model_params.pt\n",
      "Epoch 1160 val_loss_epoch 9.011067390441895 saved to checkpoints/2024-01-16_15-32-26/best_model_params.pt\n",
      "Epoch 1170 val_loss_epoch 9.011067390441895 saved to checkpoints/2024-01-16_15-32-26/best_model_params.pt\n",
      "Epoch 1180 val_loss_epoch 9.011067390441895 saved to checkpoints/2024-01-16_15-32-26/best_model_params.pt\n",
      "Epoch 1190 val_loss_epoch 9.011067390441895 saved to checkpoints/2024-01-16_15-32-26/best_model_params.pt\n",
      "Epoch 1200 val_loss_epoch 9.011067390441895 saved to checkpoints/2024-01-16_15-32-26/best_model_params.pt\n",
      "Epoch 1210 val_loss_epoch 9.011067390441895 saved to checkpoints/2024-01-16_15-32-26/best_model_params.pt\n",
      "Epoch 1220 val_loss_epoch 9.011067390441895 saved to checkpoints/2024-01-16_15-32-26/best_model_params.pt\n",
      "Epoch 1230 val_loss_epoch 9.011067390441895 saved to checkpoints/2024-01-16_15-32-26/best_model_params.pt\n",
      "Epoch 1240 val_loss_epoch 9.011067390441895 saved to checkpoints/2024-01-16_15-32-26/best_model_params.pt\n",
      "Epoch 1250 val_loss_epoch 9.011067390441895 saved to checkpoints/2024-01-16_15-32-26/best_model_params.pt\n",
      "Epoch 1260 val_loss_epoch 9.011067390441895 saved to checkpoints/2024-01-16_15-32-26/best_model_params.pt\n",
      "Epoch 1270 val_loss_epoch 9.011067390441895 saved to checkpoints/2024-01-16_15-32-26/best_model_params.pt\n",
      "Epoch 1280 val_loss_epoch 9.011067390441895 saved to checkpoints/2024-01-16_15-32-26/best_model_params.pt\n",
      "Epoch 1290 val_loss_epoch 9.011067390441895 saved to checkpoints/2024-01-16_15-32-26/best_model_params.pt\n",
      "Epoch 1300 val_loss_epoch 9.011067390441895 saved to checkpoints/2024-01-16_15-32-26/best_model_params.pt\n",
      "Epoch 1310 val_loss_epoch 9.011067390441895 saved to checkpoints/2024-01-16_15-32-26/best_model_params.pt\n",
      "Epoch 1320 val_loss_epoch 9.011067390441895 saved to checkpoints/2024-01-16_15-32-26/best_model_params.pt\n",
      "Epoch 1330 val_loss_epoch 9.011067390441895 saved to checkpoints/2024-01-16_15-32-26/best_model_params.pt\n",
      "Epoch 1340 val_loss_epoch 9.011067390441895 saved to checkpoints/2024-01-16_15-32-26/best_model_params.pt\n",
      "Epoch 1350 val_loss_epoch 9.011067390441895 saved to checkpoints/2024-01-16_15-32-26/best_model_params.pt\n",
      "Epoch 1360 val_loss_epoch 9.011067390441895 saved to checkpoints/2024-01-16_15-32-26/best_model_params.pt\n",
      "Epoch 1370 val_loss_epoch 9.011067390441895 saved to checkpoints/2024-01-16_15-32-26/best_model_params.pt\n",
      "Epoch 1380 val_loss_epoch 9.011067390441895 saved to checkpoints/2024-01-16_15-32-26/best_model_params.pt\n",
      "Epoch 1390 val_loss_epoch 9.011067390441895 saved to checkpoints/2024-01-16_15-32-26/best_model_params.pt\n",
      "Epoch 1400 val_loss_epoch 9.011067390441895 saved to checkpoints/2024-01-16_15-32-26/best_model_params.pt\n",
      "Epoch 1410 val_loss_epoch 9.011067390441895 saved to checkpoints/2024-01-16_15-32-26/best_model_params.pt\n",
      "Epoch 1420 val_loss_epoch 9.011067390441895 saved to checkpoints/2024-01-16_15-32-26/best_model_params.pt\n",
      "Epoch 1430 val_loss_epoch 9.011067390441895 saved to checkpoints/2024-01-16_15-32-26/best_model_params.pt\n",
      "Epoch 1440 val_loss_epoch 9.011067390441895 saved to checkpoints/2024-01-16_15-32-26/best_model_params.pt\n",
      "Epoch 1450 val_loss_epoch 9.011067390441895 saved to checkpoints/2024-01-16_15-32-26/best_model_params.pt\n",
      "Epoch 1460 val_loss_epoch 9.011067390441895 saved to checkpoints/2024-01-16_15-32-26/best_model_params.pt\n",
      "Epoch 1470 val_loss_epoch 9.011067390441895 saved to checkpoints/2024-01-16_15-32-26/best_model_params.pt\n",
      "Epoch 1480 val_loss_epoch 9.011067390441895 saved to checkpoints/2024-01-16_15-32-26/best_model_params.pt\n",
      "Epoch 1490 val_loss_epoch 9.011067390441895 saved to checkpoints/2024-01-16_15-32-26/best_model_params.pt\n",
      "Epoch 1500 val_loss_epoch 9.011067390441895 saved to checkpoints/2024-01-16_15-32-26/best_model_params.pt\n",
      "Epoch 1510 val_loss_epoch 9.011067390441895 saved to checkpoints/2024-01-16_15-32-26/best_model_params.pt\n",
      "Epoch 1520 val_loss_epoch 9.011067390441895 saved to checkpoints/2024-01-16_15-32-26/best_model_params.pt\n",
      "Epoch 1530 val_loss_epoch 9.011067390441895 saved to checkpoints/2024-01-16_15-32-26/best_model_params.pt\n",
      "Epoch 1540 val_loss_epoch 9.011067390441895 saved to checkpoints/2024-01-16_15-32-26/best_model_params.pt\n",
      "Epoch 1550 val_loss_epoch 9.011067390441895 saved to checkpoints/2024-01-16_15-32-26/best_model_params.pt\n",
      "Epoch 1560 val_loss_epoch 9.011067390441895 saved to checkpoints/2024-01-16_15-32-26/best_model_params.pt\n",
      "Epoch 1570 val_loss_epoch 9.011067390441895 saved to checkpoints/2024-01-16_15-32-26/best_model_params.pt\n",
      "Epoch 1580 val_loss_epoch 9.011067390441895 saved to checkpoints/2024-01-16_15-32-26/best_model_params.pt\n",
      "Epoch 1590 val_loss_epoch 9.011067390441895 saved to checkpoints/2024-01-16_15-32-26/best_model_params.pt\n",
      "Epoch 1600 val_loss_epoch 9.011067390441895 saved to checkpoints/2024-01-16_15-32-26/best_model_params.pt\n",
      "Epoch 1610 val_loss_epoch 9.011067390441895 saved to checkpoints/2024-01-16_15-32-26/best_model_params.pt\n",
      "Epoch 1620 val_loss_epoch 9.011067390441895 saved to checkpoints/2024-01-16_15-32-26/best_model_params.pt\n",
      "Epoch 1630 val_loss_epoch 9.011067390441895 saved to checkpoints/2024-01-16_15-32-26/best_model_params.pt\n",
      "Epoch 1640 val_loss_epoch 9.011067390441895 saved to checkpoints/2024-01-16_15-32-26/best_model_params.pt\n",
      "Epoch 1650 val_loss_epoch 9.011067390441895 saved to checkpoints/2024-01-16_15-32-26/best_model_params.pt\n",
      "Epoch 1660 val_loss_epoch 9.011067390441895 saved to checkpoints/2024-01-16_15-32-26/best_model_params.pt\n",
      "Epoch 1670 val_loss_epoch 9.011067390441895 saved to checkpoints/2024-01-16_15-32-26/best_model_params.pt\n",
      "Epoch 1680 val_loss_epoch 9.011067390441895 saved to checkpoints/2024-01-16_15-32-26/best_model_params.pt\n",
      "Epoch 1690 val_loss_epoch 9.011067390441895 saved to checkpoints/2024-01-16_15-32-26/best_model_params.pt\n",
      "Epoch 1700 val_loss_epoch 9.011067390441895 saved to checkpoints/2024-01-16_15-32-26/best_model_params.pt\n",
      "Epoch 1710 val_loss_epoch 9.011067390441895 saved to checkpoints/2024-01-16_15-32-26/best_model_params.pt\n",
      "Epoch 1720 val_loss_epoch 9.011067390441895 saved to checkpoints/2024-01-16_15-32-26/best_model_params.pt\n",
      "Epoch 1730 val_loss_epoch 9.011067390441895 saved to checkpoints/2024-01-16_15-32-26/best_model_params.pt\n",
      "Epoch 1740 val_loss_epoch 9.011067390441895 saved to checkpoints/2024-01-16_15-32-26/best_model_params.pt\n",
      "Epoch 1750 val_loss_epoch 9.011067390441895 saved to checkpoints/2024-01-16_15-32-26/best_model_params.pt\n",
      "Epoch 1760 val_loss_epoch 9.011067390441895 saved to checkpoints/2024-01-16_15-32-26/best_model_params.pt\n",
      "Epoch 1770 val_loss_epoch 9.011067390441895 saved to checkpoints/2024-01-16_15-32-26/best_model_params.pt\n",
      "Epoch 1780 val_loss_epoch 9.011067390441895 saved to checkpoints/2024-01-16_15-32-26/best_model_params.pt\n",
      "Epoch 1790 val_loss_epoch 9.011067390441895 saved to checkpoints/2024-01-16_15-32-26/best_model_params.pt\n",
      "Epoch 1800 val_loss_epoch 9.011067390441895 saved to checkpoints/2024-01-16_15-32-26/best_model_params.pt\n",
      "Epoch 1810 val_loss_epoch 9.011067390441895 saved to checkpoints/2024-01-16_15-32-26/best_model_params.pt\n",
      "Epoch 1820 val_loss_epoch 9.011067390441895 saved to checkpoints/2024-01-16_15-32-26/best_model_params.pt\n",
      "Epoch 1830 val_loss_epoch 9.011067390441895 saved to checkpoints/2024-01-16_15-32-26/best_model_params.pt\n",
      "Epoch 1840 val_loss_epoch 9.011067390441895 saved to checkpoints/2024-01-16_15-32-26/best_model_params.pt\n",
      "Epoch 1850 val_loss_epoch 9.011067390441895 saved to checkpoints/2024-01-16_15-32-26/best_model_params.pt\n",
      "Epoch 1860 val_loss_epoch 9.011067390441895 saved to checkpoints/2024-01-16_15-32-26/best_model_params.pt\n",
      "Epoch 1870 val_loss_epoch 9.011067390441895 saved to checkpoints/2024-01-16_15-32-26/best_model_params.pt\n",
      "Epoch 1880 val_loss_epoch 9.011067390441895 saved to checkpoints/2024-01-16_15-32-26/best_model_params.pt\n",
      "Epoch 1890 val_loss_epoch 9.011067390441895 saved to checkpoints/2024-01-16_15-32-26/best_model_params.pt\n",
      "Epoch 1900 val_loss_epoch 9.011067390441895 saved to checkpoints/2024-01-16_15-32-26/best_model_params.pt\n",
      "Epoch 1910 val_loss_epoch 9.011067390441895 saved to checkpoints/2024-01-16_15-32-26/best_model_params.pt\n",
      "Epoch 1920 val_loss_epoch 9.011067390441895 saved to checkpoints/2024-01-16_15-32-26/best_model_params.pt\n",
      "Epoch 1930 val_loss_epoch 9.011067390441895 saved to checkpoints/2024-01-16_15-32-26/best_model_params.pt\n",
      "Epoch 1940 val_loss_epoch 9.011067390441895 saved to checkpoints/2024-01-16_15-32-26/best_model_params.pt\n",
      "Epoch 1950 val_loss_epoch 9.011067390441895 saved to checkpoints/2024-01-16_15-32-26/best_model_params.pt\n",
      "Epoch 1960 val_loss_epoch 9.011067390441895 saved to checkpoints/2024-01-16_15-32-26/best_model_params.pt\n",
      "Epoch 1970 val_loss_epoch 9.011067390441895 saved to checkpoints/2024-01-16_15-32-26/best_model_params.pt\n",
      "Epoch 1980 val_loss_epoch 9.011067390441895 saved to checkpoints/2024-01-16_15-32-26/best_model_params.pt\n",
      "Epoch 1990 val_loss_epoch 9.011067390441895 saved to checkpoints/2024-01-16_15-32-26/best_model_params.pt\n",
      "Epoch 2000 val_loss_epoch 9.011067390441895 saved to checkpoints/2024-01-16_15-32-26/best_model_params.pt\n"
     ]
    },
    {
     "name": "stderr",
     "output_type": "stream",
     "text": [
      "wandb: WARNING Source type is set to 'repo' but some required information is missing from the environment. A job will not be created from this run. See https://docs.wandb.ai/guides/launch/create-job\n"
     ]
    },
    {
     "data": {
      "application/vnd.jupyter.widget-view+json": {
       "model_id": "0c6b4a7c880e4330995edc577498913d",
       "version_major": 2,
       "version_minor": 0
      },
      "text/plain": [
       "VBox(children=(Label(value='0.006 MB of 0.006 MB uploaded\\r'), FloatProgress(value=1.0, max=1.0)))"
      ]
     },
     "metadata": {},
     "output_type": "display_data"
    },
    {
     "data": {
      "text/html": [
       "<style>\n",
       "    table.wandb td:nth-child(1) { padding: 0 10px; text-align: left ; width: auto;} td:nth-child(2) {text-align: left ; width: 100%}\n",
       "    .wandb-row { display: flex; flex-direction: row; flex-wrap: wrap; justify-content: flex-start; width: 100% }\n",
       "    .wandb-col { display: flex; flex-direction: column; flex-basis: 100%; flex: 1; padding: 10px; }\n",
       "    </style>\n",
       "<div class=\"wandb-row\"><div class=\"wandb-col\"><h3>Run history:</h3><br/><table class=\"wandb\"><tr><td>epoch</td><td>▁▁▁▁▂▂▂▂▂▃▃▃▃▃▃▄▄▄▄▄▅▅▅▅▅▅▆▆▆▆▆▇▇▇▇▇▇███</td></tr><tr><td>val_loss_epoch</td><td>▁▁▁▁▁▁▁▁▁▁▁▁▁▁▁▁▁▁▁▁▁▁▁▁▁▁▁▁▁▁▁▁▁▁▁▁▁▁▁▁</td></tr></table><br/></div><div class=\"wandb-col\"><h3>Run summary:</h3><br/><table class=\"wandb\"><tr><td>epoch</td><td>2000</td></tr><tr><td>val_loss_epoch</td><td>9.01107</td></tr></table><br/></div></div>"
      ],
      "text/plain": [
       "<IPython.core.display.HTML object>"
      ]
     },
     "metadata": {},
     "output_type": "display_data"
    },
    {
     "data": {
      "text/html": [
       " View run <strong style=\"color:#cdcd00\">autumn-terrain-64</strong> at: <a href='https://wandb.ai/kazeev/WyckoffTransformer/runs/kgtraro8' target=\"_blank\">https://wandb.ai/kazeev/WyckoffTransformer/runs/kgtraro8</a><br/>Synced 5 W&B file(s), 0 media file(s), 0 artifact file(s) and 0 other file(s)"
      ],
      "text/plain": [
       "<IPython.core.display.HTML object>"
      ]
     },
     "metadata": {},
     "output_type": "display_data"
    },
    {
     "data": {
      "text/html": [
       "Find logs at: <code>./wandb/run-20240116_153228-kgtraro8/logs</code>"
      ],
      "text/plain": [
       "<IPython.core.display.HTML object>"
      ]
     },
     "metadata": {},
     "output_type": "display_data"
    }
   ],
   "source": [
    "trainer = WyckoffTrainer(model, torch_datasets, max_len, torch.tensor(site_to_ids[MASK_SITE]).to(device))\n",
    "trainer.train(epochs=2000, val_period=10)"
   ]
  },
  {
   "cell_type": "code",
   "execution_count": null,
   "metadata": {},
   "outputs": [],
   "source": []
  }
 ],
 "metadata": {
  "kernelspec": {
   "display_name": "wyckofftransformer-FeCwefly-py3.10",
   "language": "python",
   "name": "python3"
  },
  "language_info": {
   "codemirror_mode": {
    "name": "ipython",
    "version": 3
   },
   "file_extension": ".py",
   "mimetype": "text/x-python",
   "name": "python",
   "nbconvert_exporter": "python",
   "pygments_lexer": "ipython3",
   "version": "3.10.12"
  }
 },
 "nbformat": 4,
 "nbformat_minor": 2
}
