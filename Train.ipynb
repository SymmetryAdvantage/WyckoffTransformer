{
 "cells": [
  {
   "cell_type": "code",
   "execution_count": 1,
   "metadata": {},
   "outputs": [
    {
     "name": "stdout",
     "output_type": "stream",
     "text": [
      "env: WANDB_NOTEBOOK_NAME=Train.ipynb\n",
      "env: CUDA_DEVICE_ORDER=PCI_BUS_ID\n",
      "env: CUDA_VISIBLE_DEVICES=1\n"
     ]
    }
   ],
   "source": [
    "\n",
    "%env WANDB_NOTEBOOK_NAME Train.ipynb\n",
    "%env CUDA_DEVICE_ORDER PCI_BUS_ID\n",
    "%env CUDA_VISIBLE_DEVICES 1"
   ]
  },
  {
   "cell_type": "code",
   "execution_count": 2,
   "metadata": {},
   "outputs": [],
   "source": [
    "import pickle\n",
    "import logging\n",
    "import gzip\n",
    "from data import read_all_MP_csv\n",
    "from tokenization import get_tokens, MASK_SITE\n",
    "\n",
    "MP_20_cache_data = \"cache/mp_20/data.pkl.gz\"\n",
    "MP_20_cache_tensors = \"cache/mp_20/tensors.pkl.gz\"\n",
    "MP_20_path = \"cdvae/data/mp_20\"\n",
    "\n",
    "try:\n",
    "    with gzip.open(MP_20_cache_data, \"rb\") as f:\n",
    "        datasets_pd, max_len = pickle.load(f)\n",
    "except Exception as e:\n",
    "    logging.info(\"Error reading data cache:\")\n",
    "    logging.info(e)\n",
    "    logging.info(\"Reading from csv\")\n",
    "    datasets_pd, max_len = read_all_MP_csv()\n",
    "    with gzip.open(MP_20_cache_data, \"wb\") as f:\n",
    "        pickle.dump((datasets_pd, max_len), f)"
   ]
  },
  {
   "cell_type": "code",
   "execution_count": 3,
   "metadata": {},
   "outputs": [],
   "source": [
    "try:\n",
    "    with gzip.open(MP_20_cache_tensors, \"rb\") as f:\n",
    "        tensors, site_to_ids, element_to_ids, spacegroup_to_ids = pickle.load(f)\n",
    "except Exception as e:\n",
    "    logging.warning(\"Error reading tensor cache! The token order will change!\")\n",
    "    logging.info(e)\n",
    "    logging.info(\"Generating new tensors\")\n",
    "    tensors, site_to_ids, element_to_ids, spacegroup_to_ids = get_tokens(datasets_pd)\n",
    "    with gzip.open(MP_20_cache_tensors, \"wb\") as f:\n",
    "        pickle.dump((tensors, site_to_ids, element_to_ids, spacegroup_to_ids), f)"
   ]
  },
  {
   "cell_type": "code",
   "execution_count": 4,
   "metadata": {},
   "outputs": [],
   "source": [
    "import torch\n",
    "device = 'cuda'\n",
    "#device = torch.device('cuda' if torch.cuda.is_available() else 'cpu')\n",
    "def to_combined_dataset(dataset):\n",
    "    return dict(\n",
    "        symmetry_sites=torch.stack(dataset['symmetry_sites_tensor'].to_list()).T.to(device),\n",
    "        symmetry_elements=torch.stack(dataset['symmetry_elements_tensor'].to_list()).T.to(device),\n",
    "        spacegroup_number=torch.stack(dataset['spacegroup_number_tensor'].to_list()).to(device),\n",
    "        padding_mask = torch.stack(dataset['padding_mask_tensor'].to_list()).to(device)\n",
    "    )\n",
    "torch_datasets = dict(zip(tensors.keys(), map(to_combined_dataset, tensors.values())))"
   ]
  },
  {
   "cell_type": "code",
   "execution_count": 5,
   "metadata": {},
   "outputs": [
    {
     "name": "stderr",
     "output_type": "stream",
     "text": [
      "/home/kna/.cache/pypoetry/virtualenvs/wyckofftransformer-FeCwefly-py3.10/lib/python3.10/site-packages/torch/nn/modules/transformer.py:282: UserWarning: enable_nested_tensor is True, but self.use_nested_tensor is False because encoder_layer.self_attn.batch_first was not True(use batch_first for better inference performance)\n",
      "  warnings.warn(f\"enable_nested_tensor is True, but self.use_nested_tensor is False because {why_not_sparsity_fast_path}\")\n"
     ]
    }
   ],
   "source": [
    "from wyckoff_transformer import WyckoffTransformerModel, WyckoffTrainer\n",
    "d_hid = 200  # dimension of the feedforward network model in ``nn.TransformerEncoder``\n",
    "nlayers = 4  # number of ``nn.TransformerEncoderLayer`` in ``nn.TransformerEncoder``\n",
    "nhead = 4  # number of heads in ``nn.MultiheadAttention``\n",
    "dropout = 0.2  # dropout probability\n",
    "n_space_groups = len(spacegroup_to_ids)\n",
    "# Nope, not all SGs are present\n",
    "# assert n_space_groups == 230\n",
    "model = WyckoffTransformerModel(\n",
    "    n_space_groups = n_space_groups,\n",
    "    n_sites = len(site_to_ids),\n",
    "    n_elements = len(element_to_ids),\n",
    "    d_space_groups = 16,\n",
    "    d_sites = 64,\n",
    "    d_species = 64,\n",
    "    nhead=nhead,\n",
    "    d_hid=d_hid,\n",
    "    nlayers=nlayers,\n",
    "    dropout=dropout).to(device)"
   ]
  },
  {
   "cell_type": "code",
   "execution_count": 6,
   "metadata": {},
   "outputs": [
    {
     "name": "stderr",
     "output_type": "stream",
     "text": [
      "\u001b[34m\u001b[1mwandb\u001b[0m: Currently logged in as: \u001b[33mkazeev\u001b[0m. Use \u001b[1m`wandb login --relogin`\u001b[0m to force relogin\n"
     ]
    },
    {
     "data": {
      "text/html": [
       "Tracking run with wandb version 0.16.2"
      ],
      "text/plain": [
       "<IPython.core.display.HTML object>"
      ]
     },
     "metadata": {},
     "output_type": "display_data"
    },
    {
     "data": {
      "text/html": [
       "Run data is saved locally in <code>/home/kna/WyckoffTransformer/wandb/run-20240123_162144-neh6enan</code>"
      ],
      "text/plain": [
       "<IPython.core.display.HTML object>"
      ]
     },
     "metadata": {},
     "output_type": "display_data"
    },
    {
     "data": {
      "text/html": [
       "Syncing run <strong><a href='https://wandb.ai/kazeev/WyckoffTransformer/runs/neh6enan' target=\"_blank\">eager-flower-72</a></strong> to <a href='https://wandb.ai/kazeev/WyckoffTransformer' target=\"_blank\">Weights & Biases</a> (<a href='https://wandb.me/run' target=\"_blank\">docs</a>)<br/>"
      ],
      "text/plain": [
       "<IPython.core.display.HTML object>"
      ]
     },
     "metadata": {},
     "output_type": "display_data"
    },
    {
     "data": {
      "text/html": [
       " View project at <a href='https://wandb.ai/kazeev/WyckoffTransformer' target=\"_blank\">https://wandb.ai/kazeev/WyckoffTransformer</a>"
      ],
      "text/plain": [
       "<IPython.core.display.HTML object>"
      ]
     },
     "metadata": {},
     "output_type": "display_data"
    },
    {
     "data": {
      "text/html": [
       " View run at <a href='https://wandb.ai/kazeev/WyckoffTransformer/runs/neh6enan' target=\"_blank\">https://wandb.ai/kazeev/WyckoffTransformer/runs/neh6enan</a>"
      ],
      "text/plain": [
       "<IPython.core.display.HTML object>"
      ]
     },
     "metadata": {},
     "output_type": "display_data"
    },
    {
     "name": "stdout",
     "output_type": "stream",
     "text": [
      "New best val_loss_epoch 4.947813510894775, saving the model\n",
      "Epoch 10 val_loss_epoch 4.947813510894775 saved to checkpoints/2024-01-23_16-21-43/best_model_params.pt\n",
      "New best val_loss_epoch 2.034229278564453, saving the model\n",
      "Epoch 20 val_loss_epoch 2.034229278564453 saved to checkpoints/2024-01-23_16-21-43/best_model_params.pt\n",
      "Epoch 30 val_loss_epoch 2.212127447128296 saved to checkpoints/2024-01-23_16-21-43/best_model_params.pt\n",
      "New best val_loss_epoch 1.8879921436309814, saving the model\n",
      "Epoch 40 val_loss_epoch 1.8879921436309814 saved to checkpoints/2024-01-23_16-21-43/best_model_params.pt\n",
      "New best val_loss_epoch 1.6738146543502808, saving the model\n",
      "Epoch 50 val_loss_epoch 1.6738146543502808 saved to checkpoints/2024-01-23_16-21-43/best_model_params.pt\n",
      "Epoch 60 val_loss_epoch 1.8593095541000366 saved to checkpoints/2024-01-23_16-21-43/best_model_params.pt\n",
      "Epoch 70 val_loss_epoch 1.6759945154190063 saved to checkpoints/2024-01-23_16-21-43/best_model_params.pt\n",
      "Epoch 80 val_loss_epoch 1.9539421796798706 saved to checkpoints/2024-01-23_16-21-43/best_model_params.pt\n",
      "Epoch 90 val_loss_epoch 1.726241946220398 saved to checkpoints/2024-01-23_16-21-43/best_model_params.pt\n",
      "Epoch 100 val_loss_epoch 16.42120933532715 saved to checkpoints/2024-01-23_16-21-43/best_model_params.pt\n",
      "Epoch 110 val_loss_epoch 4.0454020500183105 saved to checkpoints/2024-01-23_16-21-43/best_model_params.pt\n",
      "Epoch 120 val_loss_epoch 5.516134738922119 saved to checkpoints/2024-01-23_16-21-43/best_model_params.pt\n",
      "Epoch 130 val_loss_epoch 1.7661774158477783 saved to checkpoints/2024-01-23_16-21-43/best_model_params.pt\n",
      "Epoch 140 val_loss_epoch 1.784990668296814 saved to checkpoints/2024-01-23_16-21-43/best_model_params.pt\n",
      "Epoch 150 val_loss_epoch 1.6834888458251953 saved to checkpoints/2024-01-23_16-21-43/best_model_params.pt\n",
      "New best val_loss_epoch 1.473434567451477, saving the model\n",
      "Epoch 160 val_loss_epoch 1.473434567451477 saved to checkpoints/2024-01-23_16-21-43/best_model_params.pt\n",
      "New best val_loss_epoch 1.46177077293396, saving the model\n",
      "Epoch 170 val_loss_epoch 1.46177077293396 saved to checkpoints/2024-01-23_16-21-43/best_model_params.pt\n",
      "Epoch 180 val_loss_epoch 1.5070005655288696 saved to checkpoints/2024-01-23_16-21-43/best_model_params.pt\n",
      "Epoch 190 val_loss_epoch 1.4935057163238525 saved to checkpoints/2024-01-23_16-21-43/best_model_params.pt\n",
      "Epoch 200 val_loss_epoch 1.5579354763031006 saved to checkpoints/2024-01-23_16-21-43/best_model_params.pt\n",
      "New best val_loss_epoch 1.4092243909835815, saving the model\n",
      "Epoch 210 val_loss_epoch 1.4092243909835815 saved to checkpoints/2024-01-23_16-21-43/best_model_params.pt\n",
      "Epoch 220 val_loss_epoch 1.467978596687317 saved to checkpoints/2024-01-23_16-21-43/best_model_params.pt\n",
      "Epoch 230 val_loss_epoch 1.431542158126831 saved to checkpoints/2024-01-23_16-21-43/best_model_params.pt\n",
      "Epoch 240 val_loss_epoch 1.5010660886764526 saved to checkpoints/2024-01-23_16-21-43/best_model_params.pt\n",
      "Epoch 250 val_loss_epoch 1.630104660987854 saved to checkpoints/2024-01-23_16-21-43/best_model_params.pt\n",
      "Epoch 260 val_loss_epoch 1.5823897123336792 saved to checkpoints/2024-01-23_16-21-43/best_model_params.pt\n",
      "Epoch 270 val_loss_epoch 1.4371317625045776 saved to checkpoints/2024-01-23_16-21-43/best_model_params.pt\n",
      "New best val_loss_epoch 1.405275821685791, saving the model\n",
      "Epoch 280 val_loss_epoch 1.405275821685791 saved to checkpoints/2024-01-23_16-21-43/best_model_params.pt\n",
      "Epoch 290 val_loss_epoch 1.4148485660552979 saved to checkpoints/2024-01-23_16-21-43/best_model_params.pt\n",
      "Epoch 300 val_loss_epoch 1.4411081075668335 saved to checkpoints/2024-01-23_16-21-43/best_model_params.pt\n",
      "Epoch 310 val_loss_epoch 1.4090696573257446 saved to checkpoints/2024-01-23_16-21-43/best_model_params.pt\n",
      "Epoch 320 val_loss_epoch 1.4776448011398315 saved to checkpoints/2024-01-23_16-21-43/best_model_params.pt\n",
      "Epoch 330 val_loss_epoch 1.4753106832504272 saved to checkpoints/2024-01-23_16-21-43/best_model_params.pt\n",
      "Epoch 340 val_loss_epoch 1.4089192152023315 saved to checkpoints/2024-01-23_16-21-43/best_model_params.pt\n",
      "Epoch 350 val_loss_epoch 1.487367868423462 saved to checkpoints/2024-01-23_16-21-43/best_model_params.pt\n",
      "Epoch 360 val_loss_epoch 1.537430763244629 saved to checkpoints/2024-01-23_16-21-43/best_model_params.pt\n",
      "Epoch 370 val_loss_epoch 1.6608370542526245 saved to checkpoints/2024-01-23_16-21-43/best_model_params.pt\n",
      "Epoch 380 val_loss_epoch 1.434179425239563 saved to checkpoints/2024-01-23_16-21-43/best_model_params.pt\n",
      "Epoch 390 val_loss_epoch 1.408253788948059 saved to checkpoints/2024-01-23_16-21-43/best_model_params.pt\n",
      "Epoch 400 val_loss_epoch 1.4065676927566528 saved to checkpoints/2024-01-23_16-21-43/best_model_params.pt\n",
      "Epoch 410 val_loss_epoch 1.4685472249984741 saved to checkpoints/2024-01-23_16-21-43/best_model_params.pt\n",
      "Epoch 420 val_loss_epoch 1.4658911228179932 saved to checkpoints/2024-01-23_16-21-43/best_model_params.pt\n",
      "Epoch 430 val_loss_epoch 1.4060465097427368 saved to checkpoints/2024-01-23_16-21-43/best_model_params.pt\n",
      "Epoch 440 val_loss_epoch 1.459776520729065 saved to checkpoints/2024-01-23_16-21-43/best_model_params.pt\n",
      "Epoch 450 val_loss_epoch 1.42270028591156 saved to checkpoints/2024-01-23_16-21-43/best_model_params.pt\n",
      "Epoch 460 val_loss_epoch 1.429892897605896 saved to checkpoints/2024-01-23_16-21-43/best_model_params.pt\n",
      "New best val_loss_epoch 1.3226357698440552, saving the model\n",
      "Epoch 470 val_loss_epoch 1.3226357698440552 saved to checkpoints/2024-01-23_16-21-43/best_model_params.pt\n",
      "New best val_loss_epoch 1.3071622848510742, saving the model\n",
      "Epoch 480 val_loss_epoch 1.3071622848510742 saved to checkpoints/2024-01-23_16-21-43/best_model_params.pt\n",
      "Epoch 490 val_loss_epoch 1.3423773050308228 saved to checkpoints/2024-01-23_16-21-43/best_model_params.pt\n",
      "Epoch 500 val_loss_epoch 1.3150405883789062 saved to checkpoints/2024-01-23_16-21-43/best_model_params.pt\n",
      "New best val_loss_epoch 1.246235728263855, saving the model\n",
      "Epoch 510 val_loss_epoch 1.246235728263855 saved to checkpoints/2024-01-23_16-21-43/best_model_params.pt\n",
      "New best val_loss_epoch 1.1984784603118896, saving the model\n",
      "Epoch 520 val_loss_epoch 1.1984784603118896 saved to checkpoints/2024-01-23_16-21-43/best_model_params.pt\n",
      "New best val_loss_epoch 1.157509207725525, saving the model\n",
      "Epoch 530 val_loss_epoch 1.157509207725525 saved to checkpoints/2024-01-23_16-21-43/best_model_params.pt\n",
      "New best val_loss_epoch 1.1397556066513062, saving the model\n",
      "Epoch 540 val_loss_epoch 1.1397556066513062 saved to checkpoints/2024-01-23_16-21-43/best_model_params.pt\n",
      "Epoch 550 val_loss_epoch 1.178794264793396 saved to checkpoints/2024-01-23_16-21-43/best_model_params.pt\n",
      "New best val_loss_epoch 1.086847186088562, saving the model\n",
      "Epoch 560 val_loss_epoch 1.086847186088562 saved to checkpoints/2024-01-23_16-21-43/best_model_params.pt\n",
      "New best val_loss_epoch 1.056605339050293, saving the model\n",
      "Epoch 570 val_loss_epoch 1.056605339050293 saved to checkpoints/2024-01-23_16-21-43/best_model_params.pt\n",
      "Epoch 580 val_loss_epoch 1.0824631452560425 saved to checkpoints/2024-01-23_16-21-43/best_model_params.pt\n",
      "New best val_loss_epoch 1.0480908155441284, saving the model\n",
      "Epoch 590 val_loss_epoch 1.0480908155441284 saved to checkpoints/2024-01-23_16-21-43/best_model_params.pt\n",
      "New best val_loss_epoch 1.0305871963500977, saving the model\n",
      "Epoch 600 val_loss_epoch 1.0305871963500977 saved to checkpoints/2024-01-23_16-21-43/best_model_params.pt\n",
      "New best val_loss_epoch 0.9937151074409485, saving the model\n",
      "Epoch 610 val_loss_epoch 0.9937151074409485 saved to checkpoints/2024-01-23_16-21-43/best_model_params.pt\n",
      "New best val_loss_epoch 0.9720509648323059, saving the model\n",
      "Epoch 620 val_loss_epoch 0.9720509648323059 saved to checkpoints/2024-01-23_16-21-43/best_model_params.pt\n",
      "Epoch 630 val_loss_epoch 0.9846525192260742 saved to checkpoints/2024-01-23_16-21-43/best_model_params.pt\n",
      "New best val_loss_epoch 0.9279509782791138, saving the model\n",
      "Epoch 640 val_loss_epoch 0.9279509782791138 saved to checkpoints/2024-01-23_16-21-43/best_model_params.pt\n",
      "Epoch 650 val_loss_epoch 0.9401139616966248 saved to checkpoints/2024-01-23_16-21-43/best_model_params.pt\n",
      "Epoch 660 val_loss_epoch 0.9512689709663391 saved to checkpoints/2024-01-23_16-21-43/best_model_params.pt\n",
      "New best val_loss_epoch 0.8967539072036743, saving the model\n",
      "Epoch 670 val_loss_epoch 0.8967539072036743 saved to checkpoints/2024-01-23_16-21-43/best_model_params.pt\n",
      "New best val_loss_epoch 0.8823663592338562, saving the model\n",
      "Epoch 680 val_loss_epoch 0.8823663592338562 saved to checkpoints/2024-01-23_16-21-43/best_model_params.pt\n",
      "Epoch 690 val_loss_epoch 0.8933293223381042 saved to checkpoints/2024-01-23_16-21-43/best_model_params.pt\n",
      "New best val_loss_epoch 0.8716385960578918, saving the model\n",
      "Epoch 700 val_loss_epoch 0.8716385960578918 saved to checkpoints/2024-01-23_16-21-43/best_model_params.pt\n",
      "New best val_loss_epoch 0.8715437054634094, saving the model\n",
      "Epoch 710 val_loss_epoch 0.8715437054634094 saved to checkpoints/2024-01-23_16-21-43/best_model_params.pt\n",
      "Epoch 720 val_loss_epoch 0.8752011656761169 saved to checkpoints/2024-01-23_16-21-43/best_model_params.pt\n",
      "New best val_loss_epoch 0.8298625349998474, saving the model\n",
      "Epoch 730 val_loss_epoch 0.8298625349998474 saved to checkpoints/2024-01-23_16-21-43/best_model_params.pt\n",
      "Epoch 740 val_loss_epoch 0.8448100090026855 saved to checkpoints/2024-01-23_16-21-43/best_model_params.pt\n",
      "Epoch 750 val_loss_epoch 0.831337571144104 saved to checkpoints/2024-01-23_16-21-43/best_model_params.pt\n",
      "New best val_loss_epoch 0.8040353655815125, saving the model\n",
      "Epoch 760 val_loss_epoch 0.8040353655815125 saved to checkpoints/2024-01-23_16-21-43/best_model_params.pt\n",
      "New best val_loss_epoch 0.7983738780021667, saving the model\n",
      "Epoch 770 val_loss_epoch 0.7983738780021667 saved to checkpoints/2024-01-23_16-21-43/best_model_params.pt\n",
      "New best val_loss_epoch 0.7804033160209656, saving the model\n",
      "Epoch 780 val_loss_epoch 0.7804033160209656 saved to checkpoints/2024-01-23_16-21-43/best_model_params.pt\n",
      "Epoch 790 val_loss_epoch 0.8007381558418274 saved to checkpoints/2024-01-23_16-21-43/best_model_params.pt\n",
      "New best val_loss_epoch 0.7629543542861938, saving the model\n",
      "Epoch 800 val_loss_epoch 0.7629543542861938 saved to checkpoints/2024-01-23_16-21-43/best_model_params.pt\n",
      "Epoch 810 val_loss_epoch 0.7654153108596802 saved to checkpoints/2024-01-23_16-21-43/best_model_params.pt\n",
      "New best val_loss_epoch 0.7625371813774109, saving the model\n",
      "Epoch 820 val_loss_epoch 0.7625371813774109 saved to checkpoints/2024-01-23_16-21-43/best_model_params.pt\n",
      "New best val_loss_epoch 0.7620058655738831, saving the model\n",
      "Epoch 830 val_loss_epoch 0.7620058655738831 saved to checkpoints/2024-01-23_16-21-43/best_model_params.pt\n",
      "New best val_loss_epoch 0.7554634809494019, saving the model\n",
      "Epoch 840 val_loss_epoch 0.7554634809494019 saved to checkpoints/2024-01-23_16-21-43/best_model_params.pt\n",
      "Epoch 850 val_loss_epoch 0.7618564963340759 saved to checkpoints/2024-01-23_16-21-43/best_model_params.pt\n",
      "Epoch 860 val_loss_epoch 0.7622182369232178 saved to checkpoints/2024-01-23_16-21-43/best_model_params.pt\n",
      "New best val_loss_epoch 0.7435528635978699, saving the model\n",
      "Epoch 870 val_loss_epoch 0.7435528635978699 saved to checkpoints/2024-01-23_16-21-43/best_model_params.pt\n",
      "New best val_loss_epoch 0.7405211329460144, saving the model\n",
      "Epoch 880 val_loss_epoch 0.7405211329460144 saved to checkpoints/2024-01-23_16-21-43/best_model_params.pt\n",
      "Epoch 890 val_loss_epoch 0.7535655498504639 saved to checkpoints/2024-01-23_16-21-43/best_model_params.pt\n",
      "Epoch 900 val_loss_epoch 0.7507150769233704 saved to checkpoints/2024-01-23_16-21-43/best_model_params.pt\n",
      "New best val_loss_epoch 0.7258412837982178, saving the model\n",
      "Epoch 910 val_loss_epoch 0.7258412837982178 saved to checkpoints/2024-01-23_16-21-43/best_model_params.pt\n",
      "Epoch 920 val_loss_epoch 0.7326140403747559 saved to checkpoints/2024-01-23_16-21-43/best_model_params.pt\n",
      "Epoch 930 val_loss_epoch 0.7361077666282654 saved to checkpoints/2024-01-23_16-21-43/best_model_params.pt\n",
      "Epoch 940 val_loss_epoch 0.730508029460907 saved to checkpoints/2024-01-23_16-21-43/best_model_params.pt\n",
      "Epoch 950 val_loss_epoch 0.7259499430656433 saved to checkpoints/2024-01-23_16-21-43/best_model_params.pt\n",
      "New best val_loss_epoch 0.7255522608757019, saving the model\n",
      "Epoch 960 val_loss_epoch 0.7255522608757019 saved to checkpoints/2024-01-23_16-21-43/best_model_params.pt\n",
      "Epoch 970 val_loss_epoch 0.7375842928886414 saved to checkpoints/2024-01-23_16-21-43/best_model_params.pt\n",
      "New best val_loss_epoch 0.7065136432647705, saving the model\n",
      "Epoch 980 val_loss_epoch 0.7065136432647705 saved to checkpoints/2024-01-23_16-21-43/best_model_params.pt\n",
      "New best val_loss_epoch 0.7014967799186707, saving the model\n",
      "Epoch 990 val_loss_epoch 0.7014967799186707 saved to checkpoints/2024-01-23_16-21-43/best_model_params.pt\n",
      "Epoch 1000 val_loss_epoch 0.7106224298477173 saved to checkpoints/2024-01-23_16-21-43/best_model_params.pt\n",
      "New best val_loss_epoch 0.7010924220085144, saving the model\n",
      "Epoch 1010 val_loss_epoch 0.7010924220085144 saved to checkpoints/2024-01-23_16-21-43/best_model_params.pt\n",
      "Epoch 1020 val_loss_epoch 0.7013863921165466 saved to checkpoints/2024-01-23_16-21-43/best_model_params.pt\n",
      "New best val_loss_epoch 0.692503809928894, saving the model\n",
      "Epoch 1030 val_loss_epoch 0.692503809928894 saved to checkpoints/2024-01-23_16-21-43/best_model_params.pt\n",
      "Epoch 1040 val_loss_epoch 0.7065531611442566 saved to checkpoints/2024-01-23_16-21-43/best_model_params.pt\n",
      "New best val_loss_epoch 0.6918500065803528, saving the model\n",
      "Epoch 1050 val_loss_epoch 0.6918500065803528 saved to checkpoints/2024-01-23_16-21-43/best_model_params.pt\n",
      "Epoch 1060 val_loss_epoch 0.6931475400924683 saved to checkpoints/2024-01-23_16-21-43/best_model_params.pt\n",
      "Epoch 1070 val_loss_epoch 0.6921109557151794 saved to checkpoints/2024-01-23_16-21-43/best_model_params.pt\n",
      "New best val_loss_epoch 0.6804478764533997, saving the model\n",
      "Epoch 1080 val_loss_epoch 0.6804478764533997 saved to checkpoints/2024-01-23_16-21-43/best_model_params.pt\n",
      "New best val_loss_epoch 0.6784557104110718, saving the model\n",
      "Epoch 1090 val_loss_epoch 0.6784557104110718 saved to checkpoints/2024-01-23_16-21-43/best_model_params.pt\n",
      "Epoch 1100 val_loss_epoch 0.682799756526947 saved to checkpoints/2024-01-23_16-21-43/best_model_params.pt\n",
      "New best val_loss_epoch 0.6777405142784119, saving the model\n",
      "Epoch 1110 val_loss_epoch 0.6777405142784119 saved to checkpoints/2024-01-23_16-21-43/best_model_params.pt\n",
      "New best val_loss_epoch 0.6718711853027344, saving the model\n",
      "Epoch 1120 val_loss_epoch 0.6718711853027344 saved to checkpoints/2024-01-23_16-21-43/best_model_params.pt\n",
      "New best val_loss_epoch 0.6709374785423279, saving the model\n",
      "Epoch 1130 val_loss_epoch 0.6709374785423279 saved to checkpoints/2024-01-23_16-21-43/best_model_params.pt\n",
      "New best val_loss_epoch 0.6665675044059753, saving the model\n",
      "Epoch 1140 val_loss_epoch 0.6665675044059753 saved to checkpoints/2024-01-23_16-21-43/best_model_params.pt\n",
      "Epoch 1150 val_loss_epoch 0.6705808043479919 saved to checkpoints/2024-01-23_16-21-43/best_model_params.pt\n",
      "Epoch 1160 val_loss_epoch 0.672863245010376 saved to checkpoints/2024-01-23_16-21-43/best_model_params.pt\n",
      "Epoch 1170 val_loss_epoch 0.6668123006820679 saved to checkpoints/2024-01-23_16-21-43/best_model_params.pt\n",
      "New best val_loss_epoch 0.6655623316764832, saving the model\n",
      "Epoch 1180 val_loss_epoch 0.6655623316764832 saved to checkpoints/2024-01-23_16-21-43/best_model_params.pt\n",
      "Epoch 1190 val_loss_epoch 0.6675756573677063 saved to checkpoints/2024-01-23_16-21-43/best_model_params.pt\n",
      "Epoch 1200 val_loss_epoch 0.6662282943725586 saved to checkpoints/2024-01-23_16-21-43/best_model_params.pt\n",
      "New best val_loss_epoch 0.6637334227561951, saving the model\n",
      "Epoch 1210 val_loss_epoch 0.6637334227561951 saved to checkpoints/2024-01-23_16-21-43/best_model_params.pt\n",
      "New best val_loss_epoch 0.6587778925895691, saving the model\n",
      "Epoch 1220 val_loss_epoch 0.6587778925895691 saved to checkpoints/2024-01-23_16-21-43/best_model_params.pt\n",
      "Epoch 1230 val_loss_epoch 0.659724235534668 saved to checkpoints/2024-01-23_16-21-43/best_model_params.pt\n",
      "Epoch 1240 val_loss_epoch 0.6598078012466431 saved to checkpoints/2024-01-23_16-21-43/best_model_params.pt\n",
      "Epoch 1250 val_loss_epoch 0.6667962074279785 saved to checkpoints/2024-01-23_16-21-43/best_model_params.pt\n",
      "Epoch 1260 val_loss_epoch 0.6676690578460693 saved to checkpoints/2024-01-23_16-21-43/best_model_params.pt\n",
      "New best val_loss_epoch 0.6574336886405945, saving the model\n",
      "Epoch 1270 val_loss_epoch 0.6574336886405945 saved to checkpoints/2024-01-23_16-21-43/best_model_params.pt\n",
      "Epoch 1280 val_loss_epoch 0.66219562292099 saved to checkpoints/2024-01-23_16-21-43/best_model_params.pt\n",
      "New best val_loss_epoch 0.654269814491272, saving the model\n",
      "Epoch 1290 val_loss_epoch 0.654269814491272 saved to checkpoints/2024-01-23_16-21-43/best_model_params.pt\n",
      "Epoch 1300 val_loss_epoch 0.6558729410171509 saved to checkpoints/2024-01-23_16-21-43/best_model_params.pt\n",
      "New best val_loss_epoch 0.6496688723564148, saving the model\n",
      "Epoch 1310 val_loss_epoch 0.6496688723564148 saved to checkpoints/2024-01-23_16-21-43/best_model_params.pt\n",
      "Epoch 1320 val_loss_epoch 0.6502494812011719 saved to checkpoints/2024-01-23_16-21-43/best_model_params.pt\n",
      "Epoch 1330 val_loss_epoch 0.6504953503608704 saved to checkpoints/2024-01-23_16-21-43/best_model_params.pt\n",
      "Epoch 1340 val_loss_epoch 0.6515692472457886 saved to checkpoints/2024-01-23_16-21-43/best_model_params.pt\n",
      "Epoch 1350 val_loss_epoch 0.6514591574668884 saved to checkpoints/2024-01-23_16-21-43/best_model_params.pt\n",
      "Epoch 1360 val_loss_epoch 0.6524531245231628 saved to checkpoints/2024-01-23_16-21-43/best_model_params.pt\n",
      "New best val_loss_epoch 0.6492965817451477, saving the model\n",
      "Epoch 1370 val_loss_epoch 0.6492965817451477 saved to checkpoints/2024-01-23_16-21-43/best_model_params.pt\n",
      "Epoch 1380 val_loss_epoch 0.653820812702179 saved to checkpoints/2024-01-23_16-21-43/best_model_params.pt\n",
      "New best val_loss_epoch 0.6473556756973267, saving the model\n",
      "Epoch 1390 val_loss_epoch 0.6473556756973267 saved to checkpoints/2024-01-23_16-21-43/best_model_params.pt\n",
      "Epoch 1400 val_loss_epoch 0.650087296962738 saved to checkpoints/2024-01-23_16-21-43/best_model_params.pt\n",
      "New best val_loss_epoch 0.645235538482666, saving the model\n",
      "Epoch 1410 val_loss_epoch 0.645235538482666 saved to checkpoints/2024-01-23_16-21-43/best_model_params.pt\n",
      "New best val_loss_epoch 0.6451332569122314, saving the model\n",
      "Epoch 1420 val_loss_epoch 0.6451332569122314 saved to checkpoints/2024-01-23_16-21-43/best_model_params.pt\n",
      "New best val_loss_epoch 0.6443821787834167, saving the model\n",
      "Epoch 1430 val_loss_epoch 0.6443821787834167 saved to checkpoints/2024-01-23_16-21-43/best_model_params.pt\n",
      "New best val_loss_epoch 0.6426805257797241, saving the model\n",
      "Epoch 1440 val_loss_epoch 0.6426805257797241 saved to checkpoints/2024-01-23_16-21-43/best_model_params.pt\n",
      "Epoch 1450 val_loss_epoch 0.6442145109176636 saved to checkpoints/2024-01-23_16-21-43/best_model_params.pt\n",
      "Epoch 1460 val_loss_epoch 0.6448673605918884 saved to checkpoints/2024-01-23_16-21-43/best_model_params.pt\n",
      "Epoch 1470 val_loss_epoch 0.6495811343193054 saved to checkpoints/2024-01-23_16-21-43/best_model_params.pt\n",
      "Epoch 1480 val_loss_epoch 0.6450194120407104 saved to checkpoints/2024-01-23_16-21-43/best_model_params.pt\n",
      "Epoch 1490 val_loss_epoch 0.6483284831047058 saved to checkpoints/2024-01-23_16-21-43/best_model_params.pt\n",
      "Epoch 1500 val_loss_epoch 0.6481861472129822 saved to checkpoints/2024-01-23_16-21-43/best_model_params.pt\n",
      "Epoch 1510 val_loss_epoch 0.6457327604293823 saved to checkpoints/2024-01-23_16-21-43/best_model_params.pt\n",
      "Epoch 1520 val_loss_epoch 0.6443058252334595 saved to checkpoints/2024-01-23_16-21-43/best_model_params.pt\n",
      "New best val_loss_epoch 0.6395055651664734, saving the model\n",
      "Epoch 1530 val_loss_epoch 0.6395055651664734 saved to checkpoints/2024-01-23_16-21-43/best_model_params.pt\n",
      "Epoch 1540 val_loss_epoch 0.6441332697868347 saved to checkpoints/2024-01-23_16-21-43/best_model_params.pt\n",
      "Epoch 1550 val_loss_epoch 0.6444360613822937 saved to checkpoints/2024-01-23_16-21-43/best_model_params.pt\n",
      "Epoch 1560 val_loss_epoch 0.6457139253616333 saved to checkpoints/2024-01-23_16-21-43/best_model_params.pt\n",
      "Epoch 1570 val_loss_epoch 0.6454511284828186 saved to checkpoints/2024-01-23_16-21-43/best_model_params.pt\n",
      "Epoch 1580 val_loss_epoch 0.639911413192749 saved to checkpoints/2024-01-23_16-21-43/best_model_params.pt\n",
      "New best val_loss_epoch 0.6387059688568115, saving the model\n",
      "Epoch 1590 val_loss_epoch 0.6387059688568115 saved to checkpoints/2024-01-23_16-21-43/best_model_params.pt\n",
      "New best val_loss_epoch 0.6383945941925049, saving the model\n",
      "Epoch 1600 val_loss_epoch 0.6383945941925049 saved to checkpoints/2024-01-23_16-21-43/best_model_params.pt\n",
      "Epoch 1610 val_loss_epoch 0.6398646831512451 saved to checkpoints/2024-01-23_16-21-43/best_model_params.pt\n",
      "Epoch 1620 val_loss_epoch 0.6410576701164246 saved to checkpoints/2024-01-23_16-21-43/best_model_params.pt\n",
      "Epoch 1630 val_loss_epoch 0.6404420733451843 saved to checkpoints/2024-01-23_16-21-43/best_model_params.pt\n",
      "Epoch 1640 val_loss_epoch 0.6389057636260986 saved to checkpoints/2024-01-23_16-21-43/best_model_params.pt\n",
      "New best val_loss_epoch 0.637119472026825, saving the model\n",
      "Epoch 1650 val_loss_epoch 0.637119472026825 saved to checkpoints/2024-01-23_16-21-43/best_model_params.pt\n",
      "New best val_loss_epoch 0.6360453963279724, saving the model\n",
      "Epoch 1660 val_loss_epoch 0.6360453963279724 saved to checkpoints/2024-01-23_16-21-43/best_model_params.pt\n",
      "New best val_loss_epoch 0.6359850168228149, saving the model\n",
      "Epoch 1670 val_loss_epoch 0.6359850168228149 saved to checkpoints/2024-01-23_16-21-43/best_model_params.pt\n",
      "New best val_loss_epoch 0.6346620917320251, saving the model\n",
      "Epoch 1680 val_loss_epoch 0.6346620917320251 saved to checkpoints/2024-01-23_16-21-43/best_model_params.pt\n",
      "Epoch 1690 val_loss_epoch 0.6356632113456726 saved to checkpoints/2024-01-23_16-21-43/best_model_params.pt\n",
      "Epoch 1700 val_loss_epoch 0.6347785592079163 saved to checkpoints/2024-01-23_16-21-43/best_model_params.pt\n",
      "New best val_loss_epoch 0.6340320110321045, saving the model\n",
      "Epoch 1710 val_loss_epoch 0.6340320110321045 saved to checkpoints/2024-01-23_16-21-43/best_model_params.pt\n",
      "Epoch 1720 val_loss_epoch 0.6354926824569702 saved to checkpoints/2024-01-23_16-21-43/best_model_params.pt\n",
      "Epoch 1730 val_loss_epoch 0.6355239152908325 saved to checkpoints/2024-01-23_16-21-43/best_model_params.pt\n",
      "Epoch 1740 val_loss_epoch 0.6359300017356873 saved to checkpoints/2024-01-23_16-21-43/best_model_params.pt\n",
      "New best val_loss_epoch 0.6335381865501404, saving the model\n",
      "Epoch 1750 val_loss_epoch 0.6335381865501404 saved to checkpoints/2024-01-23_16-21-43/best_model_params.pt\n",
      "New best val_loss_epoch 0.6333585977554321, saving the model\n",
      "Epoch 1760 val_loss_epoch 0.6333585977554321 saved to checkpoints/2024-01-23_16-21-43/best_model_params.pt\n",
      "Epoch 1770 val_loss_epoch 0.6335315108299255 saved to checkpoints/2024-01-23_16-21-43/best_model_params.pt\n",
      "New best val_loss_epoch 0.633198082447052, saving the model\n",
      "Epoch 1780 val_loss_epoch 0.633198082447052 saved to checkpoints/2024-01-23_16-21-43/best_model_params.pt\n",
      "New best val_loss_epoch 0.6325168013572693, saving the model\n",
      "Epoch 1790 val_loss_epoch 0.6325168013572693 saved to checkpoints/2024-01-23_16-21-43/best_model_params.pt\n",
      "New best val_loss_epoch 0.6313784122467041, saving the model\n",
      "Epoch 1800 val_loss_epoch 0.6313784122467041 saved to checkpoints/2024-01-23_16-21-43/best_model_params.pt\n",
      "Epoch 1810 val_loss_epoch 0.6314704418182373 saved to checkpoints/2024-01-23_16-21-43/best_model_params.pt\n",
      "New best val_loss_epoch 0.6312419772148132, saving the model\n",
      "Epoch 1820 val_loss_epoch 0.6312419772148132 saved to checkpoints/2024-01-23_16-21-43/best_model_params.pt\n",
      "New best val_loss_epoch 0.629818320274353, saving the model\n",
      "Epoch 1830 val_loss_epoch 0.629818320274353 saved to checkpoints/2024-01-23_16-21-43/best_model_params.pt\n",
      "New best val_loss_epoch 0.6297416090965271, saving the model\n",
      "Epoch 1840 val_loss_epoch 0.6297416090965271 saved to checkpoints/2024-01-23_16-21-43/best_model_params.pt\n",
      "Epoch 1850 val_loss_epoch 0.6299514174461365 saved to checkpoints/2024-01-23_16-21-43/best_model_params.pt\n",
      "Epoch 1860 val_loss_epoch 0.629818856716156 saved to checkpoints/2024-01-23_16-21-43/best_model_params.pt\n",
      "Epoch 1870 val_loss_epoch 0.629748523235321 saved to checkpoints/2024-01-23_16-21-43/best_model_params.pt\n",
      "New best val_loss_epoch 0.6294681429862976, saving the model\n",
      "Epoch 1880 val_loss_epoch 0.6294681429862976 saved to checkpoints/2024-01-23_16-21-43/best_model_params.pt\n",
      "Epoch 1890 val_loss_epoch 0.6298204660415649 saved to checkpoints/2024-01-23_16-21-43/best_model_params.pt\n",
      "Epoch 1900 val_loss_epoch 0.6305361986160278 saved to checkpoints/2024-01-23_16-21-43/best_model_params.pt\n",
      "Epoch 1910 val_loss_epoch 0.629582941532135 saved to checkpoints/2024-01-23_16-21-43/best_model_params.pt\n",
      "New best val_loss_epoch 0.6294335126876831, saving the model\n",
      "Epoch 1920 val_loss_epoch 0.6294335126876831 saved to checkpoints/2024-01-23_16-21-43/best_model_params.pt\n",
      "Epoch 1930 val_loss_epoch 0.6296871900558472 saved to checkpoints/2024-01-23_16-21-43/best_model_params.pt\n",
      "Epoch 1940 val_loss_epoch 0.6294867396354675 saved to checkpoints/2024-01-23_16-21-43/best_model_params.pt\n",
      "New best val_loss_epoch 0.6293215155601501, saving the model\n",
      "Epoch 1950 val_loss_epoch 0.6293215155601501 saved to checkpoints/2024-01-23_16-21-43/best_model_params.pt\n",
      "Epoch 1960 val_loss_epoch 0.6294991374015808 saved to checkpoints/2024-01-23_16-21-43/best_model_params.pt\n",
      "Epoch 1970 val_loss_epoch 0.6300172805786133 saved to checkpoints/2024-01-23_16-21-43/best_model_params.pt\n",
      "Epoch 1980 val_loss_epoch 0.6298654675483704 saved to checkpoints/2024-01-23_16-21-43/best_model_params.pt\n",
      "New best val_loss_epoch 0.6293193697929382, saving the model\n",
      "Epoch 1990 val_loss_epoch 0.6293193697929382 saved to checkpoints/2024-01-23_16-21-43/best_model_params.pt\n",
      "Epoch 2000 val_loss_epoch 0.629341721534729 saved to checkpoints/2024-01-23_16-21-43/best_model_params.pt\n"
     ]
    },
    {
     "data": {
      "application/vnd.jupyter.widget-view+json": {
       "model_id": "f4e04eed7f6243c182638ff8baa364e8",
       "version_major": 2,
       "version_minor": 0
      },
      "text/plain": [
       "VBox(children=(Label(value='0.574 MB of 0.574 MB uploaded\\r'), FloatProgress(value=1.0, max=1.0)))"
      ]
     },
     "metadata": {},
     "output_type": "display_data"
    },
    {
     "data": {
      "text/html": [
       "<style>\n",
       "    table.wandb td:nth-child(1) { padding: 0 10px; text-align: left ; width: auto;} td:nth-child(2) {text-align: left ; width: 100%}\n",
       "    .wandb-row { display: flex; flex-direction: row; flex-wrap: wrap; justify-content: flex-start; width: 100% }\n",
       "    .wandb-col { display: flex; flex-direction: column; flex-basis: 100%; flex: 1; padding: 10px; }\n",
       "    </style>\n",
       "<div class=\"wandb-row\"><div class=\"wandb-col\"><h3>Run history:</h3><br/><table class=\"wandb\"><tr><td>epoch</td><td>▁▁▁▁▂▂▂▂▂▃▃▃▃▃▃▄▄▄▄▄▅▅▅▅▅▅▆▆▆▆▆▇▇▇▇▇▇███</td></tr><tr><td>known_seq_len</td><td>▂▄▇▄▅▁▃▁█▁▁▇▅█▇▄▆▇▇▄▅▁▂▄▆▅▅▅▁▆▂▇▃▇█▄▅▆▁▇</td></tr><tr><td>lr</td><td>█▇▆▆▅▅▄▄▃▃▃▃▂▂▂▂▂▂▂▂▁▁▁▁▁▁▁▁▁▁▁▁▁▁▁▁▁▁▁▁</td></tr><tr><td>train_loss_batch</td><td>▅▁▄▁▁▇▂▆▁█▇▁▁▁▁▁▁▁▁▁▁▅▂▁▁▁▁▁▅▁▂▁▁▁▁▁▁▁▅▁</td></tr><tr><td>val_loss_epoch</td><td>▃▃█▂▂▂▂▂▂▂▂▂▁▁▁▁▁▁▁▁▁▁▁▁▁▁▁▁▁▁▁▁▁▁▁▁▁▁▁▁</td></tr></table><br/></div><div class=\"wandb-col\"><h3>Run summary:</h3><br/><table class=\"wandb\"><tr><td>epoch</td><td>2000</td></tr><tr><td>known_seq_len</td><td>2</td></tr><tr><td>lr</td><td>0.03116</td></tr><tr><td>train_loss_batch</td><td>4.09911</td></tr><tr><td>val_loss_epoch</td><td>0.62934</td></tr></table><br/></div></div>"
      ],
      "text/plain": [
       "<IPython.core.display.HTML object>"
      ]
     },
     "metadata": {},
     "output_type": "display_data"
    },
    {
     "data": {
      "text/html": [
       " View run <strong style=\"color:#cdcd00\">eager-flower-72</strong> at: <a href='https://wandb.ai/kazeev/WyckoffTransformer/runs/neh6enan' target=\"_blank\">https://wandb.ai/kazeev/WyckoffTransformer/runs/neh6enan</a><br/> View job at <a href='https://wandb.ai/kazeev/WyckoffTransformer/jobs/QXJ0aWZhY3RDb2xsZWN0aW9uOjEzMjkxOTYwMw==/version_details/v1' target=\"_blank\">https://wandb.ai/kazeev/WyckoffTransformer/jobs/QXJ0aWZhY3RDb2xsZWN0aW9uOjEzMjkxOTYwMw==/version_details/v1</a><br/>Synced 5 W&B file(s), 0 media file(s), 2 artifact file(s) and 1 other file(s)"
      ],
      "text/plain": [
       "<IPython.core.display.HTML object>"
      ]
     },
     "metadata": {},
     "output_type": "display_data"
    },
    {
     "data": {
      "text/html": [
       "Find logs at: <code>./wandb/run-20240123_162144-neh6enan/logs</code>"
      ],
      "text/plain": [
       "<IPython.core.display.HTML object>"
      ]
     },
     "metadata": {},
     "output_type": "display_data"
    }
   ],
   "source": [
    "trainer = WyckoffTrainer(model, torch_datasets, max_len, torch.tensor(site_to_ids[MASK_SITE]).to(device))\n",
    "trainer.train(epochs=2000, val_period=10)"
   ]
  }
 ],
 "metadata": {
  "kernelspec": {
   "display_name": "wyckofftransformer-FeCwefly-py3.10",
   "language": "python",
   "name": "python3"
  },
  "language_info": {
   "codemirror_mode": {
    "name": "ipython",
    "version": 3
   },
   "file_extension": ".py",
   "mimetype": "text/x-python",
   "name": "python",
   "nbconvert_exporter": "python",
   "pygments_lexer": "ipython3",
   "version": "3.10.12"
  }
 },
 "nbformat": 4,
 "nbformat_minor": 2
}
