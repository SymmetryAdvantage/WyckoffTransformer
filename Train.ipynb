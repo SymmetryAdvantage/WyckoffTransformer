{
 "cells": [
  {
   "cell_type": "code",
   "execution_count": 1,
   "metadata": {},
   "outputs": [
    {
     "name": "stdout",
     "output_type": "stream",
     "text": [
      "env: WANDB_NOTEBOOK_NAME=Train.ipynb\n",
      "env: CUDA_DEVICE_ORDER=PCI_BUS_ID\n",
      "env: CUDA_VISIBLE_DEVICES=1\n"
     ]
    }
   ],
   "source": [
    "\n",
    "%env WANDB_NOTEBOOK_NAME Train.ipynb\n",
    "%env CUDA_DEVICE_ORDER PCI_BUS_ID\n",
    "%env CUDA_VISIBLE_DEVICES 1"
   ]
  },
  {
   "cell_type": "code",
   "execution_count": 2,
   "metadata": {},
   "outputs": [],
   "source": [
    "import pickle\n",
    "import logging\n",
    "import gzip\n",
    "from data import read_all_MP_csv\n",
    "from tokenization import get_tokens, MASK_SITE\n",
    "\n",
    "MP_20_cache_data = \"cache/mp_20/data.pkl.gz\"\n",
    "MP_20_cache_tensors = \"cache/mp_20/tensors.pkl.gz\"\n",
    "MP_20_path = \"cdvae/data/mp_20\"\n",
    "\n",
    "try:\n",
    "    with gzip.open(MP_20_cache_data, \"rb\") as f:\n",
    "        datasets_pd, max_len = pickle.load(f)\n",
    "except Exception as e:\n",
    "    logging.info(\"Error reading data cache:\")\n",
    "    logging.info(e)\n",
    "    logging.info(\"Reading from csv\")\n",
    "    datasets_pd, max_len = read_all_MP_csv()\n",
    "    with gzip.open(MP_20_cache_data, \"wb\") as f:\n",
    "        pickle.dump((datasets_pd, max_len), f)"
   ]
  },
  {
   "cell_type": "code",
   "execution_count": 3,
   "metadata": {},
   "outputs": [],
   "source": [
    "try:\n",
    "    with gzip.open(MP_20_cache_tensors, \"rb\") as f:\n",
    "        tensors, site_to_ids, element_to_ids, spacegroup_to_ids = pickle.load(f)\n",
    "except Exception as e:\n",
    "    logging.warning(\"Error reading tensor cache! The token order will change!\")\n",
    "    logging.info(e)\n",
    "    logging.info(\"Generating new tensors\")\n",
    "    tensors, site_to_ids, element_to_ids, spacegroup_to_ids = get_tokens(datasets_pd)\n",
    "    with gzip.open(MP_20_cache_tensors, \"wb\") as f:\n",
    "        pickle.dump((tensors, site_to_ids, element_to_ids, spacegroup_to_ids), f)"
   ]
  },
  {
   "cell_type": "code",
   "execution_count": 4,
   "metadata": {},
   "outputs": [],
   "source": [
    "import torch\n",
    "device = 'cuda'\n",
    "#device = torch.device('cuda' if torch.cuda.is_available() else 'cpu')\n",
    "def to_combined_dataset(dataset):\n",
    "    return dict(\n",
    "        symmetry_sites=torch.stack(dataset['symmetry_sites_tensor'].to_list()).T.to(device),\n",
    "        symmetry_elements=torch.stack(dataset['symmetry_elements_tensor'].to_list()).T.to(device),\n",
    "        spacegroup_number=torch.stack(dataset['spacegroup_number_tensor'].to_list()).to(device),\n",
    "        padding_mask = torch.stack(dataset['padding_mask_tensor'].to_list()).to(device)\n",
    "    )\n",
    "torch_datasets = dict(zip(tensors.keys(), map(to_combined_dataset, tensors.values())))"
   ]
  },
  {
   "cell_type": "code",
   "execution_count": 5,
   "metadata": {},
   "outputs": [
    {
     "name": "stderr",
     "output_type": "stream",
     "text": [
      "/home/kna/.cache/pypoetry/virtualenvs/wyckofftransformer-FeCwefly-py3.10/lib/python3.10/site-packages/torch/nn/modules/transformer.py:282: UserWarning: enable_nested_tensor is True, but self.use_nested_tensor is False because encoder_layer.self_attn.batch_first was not True(use batch_first for better inference performance)\n",
      "  warnings.warn(f\"enable_nested_tensor is True, but self.use_nested_tensor is False because {why_not_sparsity_fast_path}\")\n"
     ]
    }
   ],
   "source": [
    "from wyckoff_transformer import WyckoffTransformerModel, WyckoffTrainer\n",
    "d_hid = 200  # dimension of the feedforward network model in ``nn.TransformerEncoder``\n",
    "nlayers = 4  # number of ``nn.TransformerEncoderLayer`` in ``nn.TransformerEncoder``\n",
    "nhead = 4  # number of heads in ``nn.MultiheadAttention``\n",
    "dropout = 0.2  # dropout probability\n",
    "n_space_groups = len(spacegroup_to_ids)\n",
    "# Nope, not all SGs are present\n",
    "# assert n_space_groups == 230\n",
    "model = WyckoffTransformerModel(\n",
    "    n_space_groups = n_space_groups,\n",
    "    n_sites = len(site_to_ids),\n",
    "    n_elements = len(element_to_ids),\n",
    "    d_space_groups = 16,\n",
    "    d_sites = 64,\n",
    "    d_species = 64,\n",
    "    nhead=nhead,\n",
    "    d_hid=d_hid,\n",
    "    nlayers=nlayers,\n",
    "    dropout=dropout).to(device)"
   ]
  },
  {
   "cell_type": "code",
   "execution_count": 6,
   "metadata": {},
   "outputs": [
    {
     "name": "stderr",
     "output_type": "stream",
     "text": [
      "\u001b[34m\u001b[1mwandb\u001b[0m: Currently logged in as: \u001b[33mkazeev\u001b[0m. Use \u001b[1m`wandb login --relogin`\u001b[0m to force relogin\n"
     ]
    },
    {
     "data": {
      "text/html": [
       "Tracking run with wandb version 0.16.2"
      ],
      "text/plain": [
       "<IPython.core.display.HTML object>"
      ]
     },
     "metadata": {},
     "output_type": "display_data"
    },
    {
     "data": {
      "text/html": [
       "Run data is saved locally in <code>/home/kna/WyckoffTransformer/wandb/run-20240123_170456-cvfhuqoq</code>"
      ],
      "text/plain": [
       "<IPython.core.display.HTML object>"
      ]
     },
     "metadata": {},
     "output_type": "display_data"
    },
    {
     "data": {
      "text/html": [
       "Syncing run <strong><a href='https://wandb.ai/kazeev/WyckoffTransformer/runs/cvfhuqoq' target=\"_blank\">faithful-bush-73</a></strong> to <a href='https://wandb.ai/kazeev/WyckoffTransformer' target=\"_blank\">Weights & Biases</a> (<a href='https://wandb.me/run' target=\"_blank\">docs</a>)<br/>"
      ],
      "text/plain": [
       "<IPython.core.display.HTML object>"
      ]
     },
     "metadata": {},
     "output_type": "display_data"
    },
    {
     "data": {
      "text/html": [
       " View project at <a href='https://wandb.ai/kazeev/WyckoffTransformer' target=\"_blank\">https://wandb.ai/kazeev/WyckoffTransformer</a>"
      ],
      "text/plain": [
       "<IPython.core.display.HTML object>"
      ]
     },
     "metadata": {},
     "output_type": "display_data"
    },
    {
     "data": {
      "text/html": [
       " View run at <a href='https://wandb.ai/kazeev/WyckoffTransformer/runs/cvfhuqoq' target=\"_blank\">https://wandb.ai/kazeev/WyckoffTransformer/runs/cvfhuqoq</a>"
      ],
      "text/plain": [
       "<IPython.core.display.HTML object>"
      ]
     },
     "metadata": {},
     "output_type": "display_data"
    },
    {
     "name": "stdout",
     "output_type": "stream",
     "text": [
      "New best val_loss_epoch 2.860649824142456, saving the model\n",
      "Epoch 10 val_loss_epoch 2.860649824142456 saved to checkpoints/2024-01-23_17-04-55/best_model_params.pt\n",
      "New best val_loss_epoch 1.9290355443954468, saving the model\n",
      "Epoch 30 val_loss_epoch 1.9290355443954468 saved to checkpoints/2024-01-23_17-04-55/best_model_params.pt\n",
      "New best val_loss_epoch 1.825156807899475, saving the model\n",
      "Epoch 50 val_loss_epoch 1.825156807899475 saved to checkpoints/2024-01-23_17-04-55/best_model_params.pt\n",
      "New best val_loss_epoch 1.7547250986099243, saving the model\n",
      "Epoch 70 val_loss_epoch 1.7547250986099243 saved to checkpoints/2024-01-23_17-04-55/best_model_params.pt\n",
      "New best val_loss_epoch 1.6778690814971924, saving the model\n",
      "Epoch 110 val_loss_epoch 1.6778690814971924 saved to checkpoints/2024-01-23_17-04-55/best_model_params.pt\n",
      "New best val_loss_epoch 1.6232893466949463, saving the model\n",
      "Epoch 120 val_loss_epoch 1.6232893466949463 saved to checkpoints/2024-01-23_17-04-55/best_model_params.pt\n",
      "New best val_loss_epoch 1.615128755569458, saving the model\n",
      "Epoch 190 val_loss_epoch 1.615128755569458 saved to checkpoints/2024-01-23_17-04-55/best_model_params.pt\n",
      "New best val_loss_epoch 1.5467729568481445, saving the model\n",
      "Epoch 230 val_loss_epoch 1.5467729568481445 saved to checkpoints/2024-01-23_17-04-55/best_model_params.pt\n",
      "New best val_loss_epoch 1.5317448377609253, saving the model\n",
      "Epoch 270 val_loss_epoch 1.5317448377609253 saved to checkpoints/2024-01-23_17-04-55/best_model_params.pt\n",
      "New best val_loss_epoch 1.5229398012161255, saving the model\n",
      "Epoch 290 val_loss_epoch 1.5229398012161255 saved to checkpoints/2024-01-23_17-04-55/best_model_params.pt\n"
     ]
    }
   ],
   "source": [
    "trainer = WyckoffTrainer(model, torch_datasets, max_len, torch.tensor(site_to_ids[MASK_SITE]).to(device))\n",
    "trainer.train(epochs=2000, val_period=10)"
   ]
  }
 ],
 "metadata": {
  "kernelspec": {
   "display_name": "wyckofftransformer-FeCwefly-py3.10",
   "language": "python",
   "name": "python3"
  },
  "language_info": {
   "codemirror_mode": {
    "name": "ipython",
    "version": 3
   },
   "file_extension": ".py",
   "mimetype": "text/x-python",
   "name": "python",
   "nbconvert_exporter": "python",
   "pygments_lexer": "ipython3",
   "version": "3.10.12"
  }
 },
 "nbformat": 4,
 "nbformat_minor": 2
}
