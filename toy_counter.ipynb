{
 "cells": [
  {
   "cell_type": "code",
   "execution_count": 1,
   "metadata": {},
   "outputs": [
    {
     "name": "stdout",
     "output_type": "stream",
     "text": [
      "env: WANDB_NOTEBOOK_NAME=toy_counter.ipynb\n",
      "env: CUDA_VISIBLE_DEVICES=1\n"
     ]
    }
   ],
   "source": [
    "%env WANDB_NOTEBOOK_NAME=toy_counter.ipynb\n",
    "%env CUDA_VISIBLE_DEVICES=1"
   ]
  },
  {
   "cell_type": "code",
   "execution_count": 2,
   "metadata": {},
   "outputs": [],
   "source": [
    "import torch\n",
    "torch.set_float32_matmul_precision('high')\n",
    "import wandb"
   ]
  },
  {
   "cell_type": "code",
   "execution_count": 3,
   "metadata": {},
   "outputs": [],
   "source": [
    "class CountingTransformer(torch.nn.Module):\n",
    "    def __init__(self, n_tokens, d_embedding, n_outputs, embedding_weights=None):\n",
    "        super().__init__()\n",
    "        self.embedding = torch.nn.Embedding(n_tokens, d_embedding, _weight=embedding_weights)\n",
    "        encoder_layer = torch.nn.TransformerEncoderLayer(\n",
    "            d_embedding, dim_feedforward=16, nhead=4, batch_first=True)\n",
    "        self.encoder = torch.nn.TransformerEncoder(encoder_layer, num_layers=2, enable_nested_tensor=False)\n",
    "        self.head = torch.nn.Linear(d_embedding, n_outputs)\n",
    "    \n",
    "    def forward(self, x):\n",
    "        x = self.embedding(x)\n",
    "        x = self.encoder(x)\n",
    "        x = self.head(x.max(dim=1).values)\n",
    "        return x"
   ]
  },
  {
   "cell_type": "code",
   "execution_count": 4,
   "metadata": {},
   "outputs": [],
   "source": [
    "def batched_bincount(x, dim, max_value, dtype=None):\n",
    "    if dtype is None:\n",
    "        dtype = x.dtype\n",
    "    target = torch.zeros(x.shape[0], max_value, dtype=dtype, device=x.device)\n",
    "    values = torch.ones(x.size(), dtype=dtype, device=x.device)\n",
    "    target.scatter_add_(dim, x, values)\n",
    "    return target"
   ]
  },
  {
   "cell_type": "code",
   "execution_count": 5,
   "metadata": {},
   "outputs": [],
   "source": [
    "from tqdm.notebook import trange"
   ]
  },
  {
   "cell_type": "code",
   "execution_count": 6,
   "metadata": {},
   "outputs": [],
   "source": [
    "#  torch.nn.init.orthogonal_(tensor, gain=1, generator=None)[source]\n",
    "#  torch.nn.init.sparse_(tensor, sparsity, std=0.01, generator=None)[source]"
   ]
  },
  {
   "cell_type": "code",
   "execution_count": 7,
   "metadata": {},
   "outputs": [],
   "source": [
    "device = torch.device('cuda')\n",
    "n_tokens = 16\n",
    "data = torch.randint(0, n_tokens, (1024, 16), device=device)\n",
    "target_counts = batched_bincount(data, 1, n_tokens).float()\n",
    "target_uniques = batched_bincount(data, 1, n_tokens, dtype=torch.bool).sum(dim=1)"
   ]
  },
  {
   "cell_type": "code",
   "execution_count": 8,
   "metadata": {},
   "outputs": [
    {
     "name": "stdout",
     "output_type": "stream",
     "text": [
      "7\n"
     ]
    }
   ],
   "source": [
    "min_target = target_uniques.min()\n",
    "target_uniques_CE = target_uniques - min_target\n",
    "max_targets = int(target_uniques_CE.max())\n",
    "print(max_targets)"
   ]
  },
  {
   "cell_type": "code",
   "execution_count": 9,
   "metadata": {},
   "outputs": [
    {
     "name": "stderr",
     "output_type": "stream",
     "text": [
      "\u001b[34m\u001b[1mwandb\u001b[0m: Currently logged in as: \u001b[33mkazeev\u001b[0m (\u001b[33msymmetry-advantage\u001b[0m). Use \u001b[1m`wandb login --relogin`\u001b[0m to force relogin\n"
     ]
    },
    {
     "data": {
      "text/html": [
       "Tracking run with wandb version 0.17.0"
      ],
      "text/plain": [
       "<IPython.core.display.HTML object>"
      ]
     },
     "metadata": {},
     "output_type": "display_data"
    },
    {
     "data": {
      "text/html": [
       "Run data is saved locally in <code>/home/kna/WyckoffTransformer/wandb/run-20240603_035626-m3spwoxe</code>"
      ],
      "text/plain": [
       "<IPython.core.display.HTML object>"
      ]
     },
     "metadata": {},
     "output_type": "display_data"
    },
    {
     "data": {
      "text/html": [
       "Syncing run <strong><a href='https://wandb.ai/symmetry-advantage/toy_counter/runs/m3spwoxe' target=\"_blank\">drawn-waterfall-90</a></strong> to <a href='https://wandb.ai/symmetry-advantage/toy_counter' target=\"_blank\">Weights & Biases</a> (<a href='https://wandb.me/run' target=\"_blank\">docs</a>)<br/>"
      ],
      "text/plain": [
       "<IPython.core.display.HTML object>"
      ]
     },
     "metadata": {},
     "output_type": "display_data"
    },
    {
     "data": {
      "text/html": [
       " View project at <a href='https://wandb.ai/symmetry-advantage/toy_counter' target=\"_blank\">https://wandb.ai/symmetry-advantage/toy_counter</a>"
      ],
      "text/plain": [
       "<IPython.core.display.HTML object>"
      ]
     },
     "metadata": {},
     "output_type": "display_data"
    },
    {
     "data": {
      "text/html": [
       " View run at <a href='https://wandb.ai/symmetry-advantage/toy_counter/runs/m3spwoxe' target=\"_blank\">https://wandb.ai/symmetry-advantage/toy_counter/runs/m3spwoxe</a>"
      ],
      "text/plain": [
       "<IPython.core.display.HTML object>"
      ]
     },
     "metadata": {},
     "output_type": "display_data"
    },
    {
     "data": {
      "application/vnd.jupyter.widget-view+json": {
       "model_id": "15f8a930b31346838ecfb0ff99d47449",
       "version_major": 2,
       "version_minor": 0
      },
      "text/plain": [
       "  0%|          | 0/100000 [00:00<?, ?it/s]"
      ]
     },
     "metadata": {},
     "output_type": "display_data"
    }
   ],
   "source": [
    "d_embedding = n_tokens\n",
    "weight = None\n",
    "# weight = torch.eye(n_tokens)\n",
    "# weight = torch.empty(n_tokens, d_embedding, dtype=torch.float32)\n",
    "# torch.nn.init.orthogonal_(weight, gain=1)\n",
    "# torch.nn.init.sparse_(weight, sparsity=0.5)\n",
    "training_loss = \"CrossEntropyLoss\"\n",
    "model = CountingTransformer(n_tokens, d_embedding, n_outputs=max_targets + 1, embedding_weights=weight).to(device)\n",
    "#model = CountingTransformer(n_tokens, d_embedding, n_outputs=1, embedding_weights=weight).to(device)\n",
    "optimizer = torch.optim.Adadelta(model.parameters(), lr=0.01)\n",
    "# /home/kna/.cache/pypoetry/virtualenvs/wyckofftransformer-FeCwefly-py3.10/lib/python3.10/site-packages/torch/autograd/graph.py:767: UserWarning: aten::layer_norm: an autograd kernel was not registered to the Autograd key(s) but we are trying to backprop through it. This may lead to silently incorrect behavior. This behavior is deprecated and will be removed in a future version of PyTorch. If your operator is differentiable, please ensure you have registered an autograd kernel to the correct Autograd key (e.g. DispatchKey::Autograd, DispatchKey::CompositeImplicitAutograd). If your operator is not differentiable, or to squash this warning and use the previous behavior, please register torch::CppFunction::makeFallthrough() to DispatchKey::Autograd. (Triggered internally at /home/kna/WyckoffTransformer/pytorch/torch/csrc/autograd/autograd_not_implemented_fallback.cpp:63.)\n",
    "# import intel_extension_for_pytorch as ipex\n",
    "# model, optimizer = ipex.optimize(model, optimizer=optimizer, dtype=torch.float32)\n",
    "# model = torch.compile(model, backend=\"ipex\", fullgraph=True)\n",
    "\n",
    "model = torch.compile(model, fullgraph=True)\n",
    "loss_fn = torch.nn.CrossEntropyLoss(reduction=\"mean\")\n",
    "#loss_fn = torch.nn.MSELoss(reduction=\"mean\")\n",
    "loss_name = f\"loss_{type(loss_fn).__name__}\"\n",
    "loss_fn = torch.compile(loss_fn, fullgraph=True)\n",
    "\n",
    "@torch.compile(fullgraph=True)\n",
    "def get_mse_losses(scores, target):\n",
    "    expected = torch.softmax(scores, dim=1).matmul(torch.arange(scores.size(1), device=scores.device, dtype=output.dtype))\n",
    "    max_likelihood = scores.argmax(dim=1).float()\n",
    "    mse_expected = torch.nn.functional.mse_loss(expected, target)\n",
    "    mse_likelihood = torch.nn.functional.mse_loss(max_likelihood, target)\n",
    "    return mse_expected, mse_likelihood\n",
    "\n",
    "with wandb.init(project=\"toy_counter\", config={\"training_loss\": training_loss}) as run:\n",
    "    for i in trange(100000):\n",
    "        optimizer.zero_grad(set_to_none=True)\n",
    "        output = model(data)\n",
    "        loss = loss_fn(output, target_uniques_CE)\n",
    "        loss.backward()\n",
    "        torch.nn.utils.clip_grad_norm_(model.parameters(), 1.)\n",
    "        with torch.no_grad():\n",
    "            mse, mse_likelihood = get_mse_losses(output, target_uniques_CE)\n",
    "            run.log({\"loss_MSELoss\": mse, \"loss_MSELoss_likelihood\": mse_likelihood}, commit=False)\n",
    "        optimizer.step()\n",
    "        run.log({loss_name: loss.item()})"
   ]
  }
 ],
 "metadata": {
  "kernelspec": {
   "display_name": "wyckofftransformer-FeCwefly-py3.10",
   "language": "python",
   "name": "python3"
  },
  "language_info": {
   "codemirror_mode": {
    "name": "ipython",
    "version": 3
   },
   "file_extension": ".py",
   "mimetype": "text/x-python",
   "name": "python",
   "nbconvert_exporter": "python",
   "pygments_lexer": "ipython3",
   "version": "3.10.12"
  }
 },
 "nbformat": 4,
 "nbformat_minor": 2
}
