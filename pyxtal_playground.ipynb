{
 "cells": [
  {
   "cell_type": "code",
   "execution_count": 1,
   "metadata": {},
   "outputs": [],
   "source": [
    "import pyxtal"
   ]
  },
  {
   "cell_type": "code",
   "execution_count": 4,
   "metadata": {},
   "outputs": [
    {
     "data": {
      "text/plain": [
       "-- Spacegroup --# 194 (P63/mmc)--\n",
       "24l\tsite symm: 1\n",
       "12k\tsite symm: . m .\n",
       "12j\tsite symm: m . .\n",
       "12i\tsite symm: . 2 .\n",
       "6h\tsite symm: m m2 .\n",
       "6g\tsite symm: . 2/m .\n",
       "4f\tsite symm: 3 m m\n",
       "4e\tsite symm: 3 m .\n",
       "2d\tsite symm: -6 m2 m2\n",
       "2c\tsite symm: -6 m2 m2\n",
       "2b\tsite symm: -6 m2 .\n",
       "2a\tsite symm: -3 2/m ."
      ]
     },
     "execution_count": 4,
     "metadata": {},
     "output_type": "execute_result"
    }
   ],
   "source": [
    "g = pyxtal.Group(194)\n",
    "g"
   ]
  },
  {
   "cell_type": "code",
   "execution_count": 5,
   "metadata": {},
   "outputs": [],
   "source": [
    "w = g.Wyckoff_positions[-1]"
   ]
  },
  {
   "cell_type": "code",
   "execution_count": 6,
   "metadata": {},
   "outputs": [
    {
     "data": {
      "text/plain": [
       "Wyckoff position 2a in space group 194 with site symmetry -3 2/m .\n",
       "0, 0, 0\n",
       "0, 0, 1/2"
      ]
     },
     "execution_count": 6,
     "metadata": {},
     "output_type": "execute_result"
    }
   ],
   "source": [
    "w"
   ]
  },
  {
   "cell_type": "code",
   "execution_count": 7,
   "metadata": {},
   "outputs": [
    {
     "data": {
      "text/plain": [
       "Wyckoff position 2b in space group 194 with site symmetry -6 m2 .\n",
       "0, 0, 1/4\n",
       "0, 0, 3/4"
      ]
     },
     "execution_count": 7,
     "metadata": {},
     "output_type": "execute_result"
    }
   ],
   "source": [
    "g.Wyckoff_positions[-2]"
   ]
  }
 ],
 "metadata": {
  "kernelspec": {
   "display_name": "wyckofftransformer-FeCwefly-py3.10",
   "language": "python",
   "name": "python3"
  },
  "language_info": {
   "codemirror_mode": {
    "name": "ipython",
    "version": 3
   },
   "file_extension": ".py",
   "mimetype": "text/x-python",
   "name": "python",
   "nbconvert_exporter": "python",
   "pygments_lexer": "ipython3",
   "version": "3.10.12"
  }
 },
 "nbformat": 4,
 "nbformat_minor": 2
}
