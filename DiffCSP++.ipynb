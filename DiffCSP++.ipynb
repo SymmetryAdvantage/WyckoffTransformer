{
 "cells": [
  {
   "cell_type": "code",
   "execution_count": 1,
   "metadata": {},
   "outputs": [],
   "source": [
    "from pathlib import Path\n",
    "import json\n",
    "import gzip\n",
    "import monty.json"
   ]
  },
  {
   "cell_type": "code",
   "execution_count": 2,
   "metadata": {},
   "outputs": [],
   "source": [
    "with gzip.open(Path(\"generated\", \"WyckoffTransformer_mp_20_DiffCSP++.json.gz\"), 'rt') as f:\n",
    "    data = json.load(f)\n",
    "data = monty.json.MontyDecoder().process_decoded(data)"
   ]
  },
  {
   "cell_type": "code",
   "execution_count": 3,
   "metadata": {},
   "outputs": [
    {
     "data": {
      "text/plain": [
       "Structure Summary\n",
       "Lattice\n",
       "    abc : 5.620519638061523 9.466238021850586 8.957555770874023\n",
       " angles : 90.0 90.0 90.0\n",
       " volume : 476.58833759282413\n",
       "      A : 5.620519638061523 0.0 0.0\n",
       "      B : 0.0 9.466238021850586 0.0\n",
       "      C : 0.0 0.0 8.957555770874023\n",
       "    pbc : True True True\n",
       "PeriodicSite: In (0.0, 1.498, 4.479) [0.0, 0.1582, 0.5]\n",
       "PeriodicSite: In (0.0, 7.969, 4.479) [0.0, 0.8418, 0.5]\n",
       "PeriodicSite: In (2.81, 6.231, 0.0) [0.5, 0.6582, 0.0]\n",
       "PeriodicSite: In (2.81, 3.236, 0.0) [0.5, 0.3418, 0.0]\n",
       "PeriodicSite: In (2.81, 0.0, 5.926) [0.5, 0.0, 0.6615]\n",
       "PeriodicSite: In (2.81, 0.0, 3.032) [0.5, 0.0, 0.3385]\n",
       "PeriodicSite: In (0.0, 4.733, 1.447) [0.0, 0.5, 0.1615]\n",
       "PeriodicSite: In (0.0, 4.733, 7.511) [0.0, 0.5, 0.8385]\n",
       "PeriodicSite: In (0.0, 1.759, 0.0) [0.0, 0.1858, 0.0]\n",
       "PeriodicSite: In (0.0, 7.707, 0.0) [0.0, 0.8142, 0.0]\n",
       "PeriodicSite: In (2.81, 6.492, 4.479) [0.5, 0.6858, 0.5]\n",
       "PeriodicSite: In (2.81, 2.974, 4.479) [0.5, 0.3142, 0.5]\n",
       "PeriodicSite: Cu (0.0, 0.0, 6.932) [0.0, 0.0, 0.7739]\n",
       "PeriodicSite: Cu (0.0, 0.0, 2.025) [0.0, 0.0, 0.2261]\n",
       "PeriodicSite: Cu (2.81, 4.733, 2.453) [0.5, 0.5, 0.2739]\n",
       "PeriodicSite: Cu (2.81, 4.733, 6.504) [0.5, 0.5, 0.7261]\n",
       "PeriodicSite: Cu (1.405, 2.367, 2.239) [0.25, 0.25, 0.25]\n",
       "PeriodicSite: Cu (4.215, 7.1, 2.239) [0.75, 0.75, 0.25]\n",
       "PeriodicSite: Cu (4.215, 2.367, 6.718) [0.75, 0.25, 0.75]\n",
       "PeriodicSite: Cu (1.405, 7.1, 6.718) [0.25, 0.75, 0.75]\n",
       "PeriodicSite: Cu (4.215, 7.1, 6.718) [0.75, 0.75, 0.75]\n",
       "PeriodicSite: Cu (1.405, 2.367, 6.718) [0.25, 0.25, 0.75]\n",
       "PeriodicSite: Cu (1.405, 7.1, 2.239) [0.25, 0.75, 0.25]\n",
       "PeriodicSite: Cu (4.215, 2.367, 2.239) [0.75, 0.25, 0.25]\n",
       "PeriodicSite: Dy (0.0, 4.733, 4.479) [0.0, 0.5, 0.5]\n",
       "PeriodicSite: Dy (2.81, 0.0, 0.0) [0.5, 0.0, 0.0]"
      ]
     },
     "execution_count": 3,
     "metadata": {},
     "output_type": "execute_result"
    }
   ],
   "source": [
    "data[0]"
   ]
  }
 ],
 "metadata": {
  "kernelspec": {
   "display_name": "wyckofftransformer-FeCwefly-py3.12",
   "language": "python",
   "name": "python3"
  },
  "language_info": {
   "codemirror_mode": {
    "name": "ipython",
    "version": 3
   },
   "file_extension": ".py",
   "mimetype": "text/x-python",
   "name": "python",
   "nbconvert_exporter": "python",
   "pygments_lexer": "ipython3",
   "version": "3.12.0"
  }
 },
 "nbformat": 4,
 "nbformat_minor": 2
}
