{
 "cells": [
  {
   "cell_type": "code",
   "execution_count": 1,
   "metadata": {},
   "outputs": [],
   "source": [
    "from pathlib import Path\n",
    "import json\n",
    "import gzip\n",
    "import monty.json"
   ]
  },
  {
   "cell_type": "code",
   "execution_count": 2,
   "metadata": {},
   "outputs": [],
   "source": [
    "with gzip.open(Path(\"generated\", \"WyckoffTransformer_mp_20_DiffCSP++_tol=0.1.json.gz\"), 'rt') as f:\n",
    "    data = json.load(f)\n",
    "data = monty.json.MontyDecoder().process_decoded(data)"
   ]
  },
  {
   "cell_type": "code",
   "execution_count": 3,
   "metadata": {},
   "outputs": [],
   "source": [
    "from DiffCSP_to_sites import StructureToSites\n",
    "from multiprocessing import Pool\n",
    "converter = StructureToSites(tol=1e-4)\n",
    "with Pool() as pool:\n",
    "    sites_after = pool.map(converter.structure_to_sites, data)"
   ]
  },
  {
   "cell_type": "code",
   "execution_count": 4,
   "metadata": {},
   "outputs": [],
   "source": [
    "with gzip.open(Path(\"generated\", \"WyckoffTransformer_mp_20.json.gz\"), 'rt') as f:\n",
    "    sites_before = json.load(f)"
   ]
  },
  {
   "cell_type": "code",
   "execution_count": 5,
   "metadata": {},
   "outputs": [
    {
     "name": "stdout",
     "output_type": "stream",
     "text": [
      "(71, frozenset({(Element In, 'mm2', 1), (Element In, 'm2m', 0), (Element Cu, '-1', 0), (Element In, 'm2m', 1), (Element Cu, 'mm2', 0), (Element Dy, 'mmm', 1)})) (71, frozenset({(Element In, 'mm2', 1), (Element In, 'mm2', 0), (Element Cu, 'm2m', 0), (Element Cu, '-1', 0), (Element In, 'm2m', 1), (Element Dy, 'mmm', 1)}))\n",
      "{'group': 71, 'sites': [['4h', '4j', '4g'], ['4i', '8k'], ['2b']], 'species': ['In', 'Cu', 'Dy'], 'numIons': [12, 12, 2]} {'group': 71, 'sites': [['4j', '4h', '4i'], ['4g', '8k'], ['2b']], 'species': ['In', 'Cu', 'Dy'], 'numIons': [12, 12, 2]}\n",
      "\n",
      "(217, frozenset({(Element Mg, '-43m', 0), (Element Ag, '-42.m', 0)})) (229, frozenset({(Element Mg, 'm-3m', 0), (Element Ag, '4/mm.m', 0)}))\n",
      "{'group': 217, 'sites': [['6b'], ['2a']], 'species': ['Ag', 'Mg'], 'numIons': [6, 2]} {'group': 229, 'sites': [['6b'], ['2a']], 'species': ['Ag', 'Mg'], 'numIons': [6, 2]}\n",
      "\n",
      "(115, frozenset({(Element Te, '2mm.', 2), (Element Sb, '-4m2', 1), (Element La, '2mm.', 2), (Element Sb, '-4m2', 0)})) (129, frozenset({(Element La, '4mm', 0), (Element Te, '4mm', 0), (Element Sb, '-4m2', 0)}))\n",
      "{'group': 115, 'sites': [['1b', '1a'], ['2g'], ['2g']], 'species': ['Sb', 'Te', 'La'], 'numIons': [2, 2, 2]} {'group': 129, 'sites': [['2a'], ['2c'], ['2c']], 'species': ['Sb', 'Te', 'La'], 'numIons': [2, 2, 2]}\n",
      "\n",
      "(147, frozenset({(Element In, '-3..', 0), (Element Cs, '-3..', 1), (Element Te, '3..', 1)})) (164, frozenset({(Element In, '-32/m.', 0), (Element Te, '3m.', 1), (Element Cs, '-32/m.', 1)}))\n",
      "{'group': 147, 'sites': [['2d'], ['1a'], ['1b']], 'species': ['Te', 'In', 'Cs'], 'numIons': [2, 1, 1]} {'group': 164, 'sites': [['2d'], ['1a'], ['1b']], 'species': ['Te', 'In', 'Cs'], 'numIons': [2, 1, 1]}\n",
      "\n",
      "(11, frozenset({(Element Ti, '-1', 1), (Element Cr, 'm', 0), (Element S, 'm', 0), (Element Ti, 'm', 0), (Element S, '1', 0)})) (11, frozenset({(Element Cr, 'm', 0), (Element S, 'm', 0), (Element Ti, 'm', 0), (Element Ti, '-1', 2), (Element S, '1', 0)}))\n",
      "{'group': 11, 'sites': [['2e', '4f', '4f'], ['2e'], ['2e', '2b']], 'species': ['S', 'Cr', 'Ti'], 'numIons': [10, 2, 4]} {'group': 11, 'sites': [['2e', '4f', '4f'], ['2e'], ['2e', '2c']], 'species': ['S', 'Cr', 'Ti'], 'numIons': [10, 2, 4]}\n",
      "\n",
      "(225, frozenset({(Element Lu, '-43m', 0), (Element Mg, 'm-3m', 0), (Element Mg, 'm-3m', 1)})) (221, frozenset({(Element Mg, 'm-3m', 0), (Element Lu, 'm-3m', 1)}))\n",
      "{'group': 225, 'sites': [['4b', '4a'], ['8c']], 'species': ['Mg', 'Lu'], 'numIons': [8, 8]} {'group': 221, 'sites': [['1a'], ['1b']], 'species': ['Mg', 'Lu'], 'numIons': [1, 1]}\n",
      "\n",
      "(139, frozenset({(Element Au, '-4m2', 0), (Element La, '4/mmm', 0), (Element La, '4/mmm', 1)})) (123, frozenset({(Element La, '4/mmm', 0), (Element Au, '4/mmm', 3)}))\n",
      "{'group': 139, 'sites': [['2b', '2a'], ['4d']], 'species': ['La', 'Au'], 'numIons': [4, 4]} {'group': 123, 'sites': [['1a'], ['1d']], 'species': ['La', 'Au'], 'numIons': [1, 1]}\n",
      "\n",
      "(10, frozenset({(Element Mn, '2/m', 1), (Element V, '2/m', 4), (Element O, 'm', 1), (Element V, 'm', 0), (Element O, 'm', 0)})) (10, frozenset({(Element Mn, '2/m', 1), (Element O, 'm', 1), (Element V, 'm', 0), (Element O, 'm', 0), (Element V, '2/m', 5)}))\n",
      "{'group': 10, 'sites': [['1b'], ['1e', '2m'], ['2n', '2m', '2n']], 'species': ['Mn', 'V', 'O'], 'numIons': [1, 3, 6]} {'group': 10, 'sites': [['1b'], ['1f', '2m'], ['2n', '2m', '2n']], 'species': ['Mn', 'V', 'O'], 'numIons': [1, 3, 6]}\n",
      "\n",
      "(74, frozenset({(Element Ca, '2/m..', 1), (Element F, 'mm2', 0), (Element F, '1', 0), (Element V, '.2/m.', 0), (Element Li, '.2/m.', 1)})) (74, frozenset({(Element Li, '2/m..', 1), (Element V, '2/m..', 0), (Element F, 'mm2', 0), (Element F, '1', 0), (Element Ca, '.2/m.', 0)}))\n",
      "{'group': 74, 'sites': [['4b'], ['4c'], ['4d'], ['4e', '4e', '16j']], 'species': ['Ca', 'V', 'Li', 'F'], 'numIons': [4, 4, 4, 24]} {'group': 74, 'sites': [['4c'], ['4a'], ['4b'], ['4e', '4e', '16j']], 'species': ['Ca', 'V', 'Li', 'F'], 'numIons': [4, 4, 4, 24]}\n",
      "\n",
      "(225, frozenset({(Element Al, '-43m', 0), (Element Li, 'm-3m', 0), (Element Li, 'm-3m', 1)})) (221, frozenset({(Element Al, 'm-3m', 1), (Element Li, 'm-3m', 0)}))\n",
      "{'group': 225, 'sites': [['4b', '4a'], ['8c']], 'species': ['Li', 'Al'], 'numIons': [8, 8]} {'group': 221, 'sites': [['1a'], ['1b']], 'species': ['Li', 'Al'], 'numIons': [1, 1]}\n",
      "\n",
      "(71, frozenset({(Element B, 'mm2', 1), (Element Ru, 'm2m', 1), (Element Th, 'mmm', 3), (Element B, 'm..', 0)})) (71, frozenset({(Element Th, 'mmm', 2), (Element B, 'm..', 0), (Element Ru, 'mm2', 1), (Element B, 'm2m', 1)}))\n",
      "{'group': 71, 'sites': [['4h'], ['2d'], ['8l', '4j']], 'species': ['Ru', 'Th', 'B'], 'numIons': [4, 2, 12]} {'group': 71, 'sites': [['4j'], ['2c'], ['8l', '4h']], 'species': ['Ru', 'Th', 'B'], 'numIons': [4, 2, 12]}\n",
      "\n",
      "(12, frozenset({(Element Te, 'm', 0), (Element O, '1', 0), (Element O, '2/m', 2), (Element Li, '2', 1), (Element O, 'm', 0)})) (12, frozenset({(Element Te, 'm', 0), (Element O, '1', 0), (Element Li, '2', 0), (Element O, '2/m', 0), (Element O, 'm', 0)}))\n",
      "{'group': 12, 'sites': [['2c', '4i', '8j', '4i'], ['4i'], ['4h']], 'species': ['O', 'Te', 'Li'], 'numIons': [18, 4, 4]} {'group': 12, 'sites': [['2a', '4i', '8j', '4i'], ['4i'], ['4g']], 'species': ['O', 'Te', 'Li'], 'numIons': [18, 4, 4]}\n",
      "\n",
      "(72, frozenset({(Element O, '2..', 0), (Element U, '..m', 0), (Element O, '..m', 0), (Element Ta, '222', 0)})) (72, frozenset({(Element Ta, '222', 0), (Element U, '..m', 0), (Element O, '..m', 0), (Element O, '.2.', 0)}))\n",
      "{'group': 72, 'sites': [['8j', '8j', '8f'], ['4a'], ['8j']], 'species': ['O', 'Ta', 'U'], 'numIons': [24, 4, 8]} {'group': 72, 'sites': [['8j', '8j', '8g'], ['4a'], ['8j']], 'species': ['O', 'Ta', 'U'], 'numIons': [24, 4, 8]}\n",
      "\n",
      "(58, frozenset({(Element Ni, '..m', 0), (Element Ni, '..2/m', 2), (Element In, '..2/m', 0)})) (58, frozenset({(Element In, '..2/m', 0), (Element Ni, '..m', 0), (Element Ni, '..2/m', 3)}))\n",
      "{'group': 58, 'sites': [['4g', '2c', '4g'], ['2a']], 'species': ['Ni', 'In'], 'numIons': [10, 2]} {'group': 58, 'sites': [['4g', '2d', '4g'], ['2a']], 'species': ['Ni', 'In'], 'numIons': [10, 2]}\n",
      "\n",
      "(14, frozenset({(Element Na, '1', 0), (Element Cl, '-1', 2), (Element Eu, '1', 0), (Element Cl, '1', 0)})) (14, frozenset({(Element Na, '1', 0), (Element Cl, '-1', 3), (Element Eu, '1', 0), (Element Cl, '1', 0)}))\n",
      "{'group': 14, 'sites': [['4e', '2c', '4e', '4e'], ['4e'], ['4e']], 'species': ['Cl', 'Na', 'Eu'], 'numIons': [14, 4, 4]} {'group': 14, 'sites': [['4e', '2d', '4e', '4e'], ['4e'], ['4e']], 'species': ['Cl', 'Na', 'Eu'], 'numIons': [14, 4, 4]}\n",
      "\n",
      "(225, frozenset({(Element Cd, 'm-3m', 0), (Element Cd, 'm-3m', 1), (Element Cu, '-43m', 0)})) (221, frozenset({(Element Cd, 'm-3m', 0), (Element Cu, 'm-3m', 1)}))\n",
      "{'group': 225, 'sites': [['4a', '4b'], ['8c']], 'species': ['Cd', 'Cu'], 'numIons': [8, 8]} {'group': 221, 'sites': [['1a'], ['1b']], 'species': ['Cd', 'Cu'], 'numIons': [1, 1]}\n",
      "\n",
      "(119, frozenset({(Element Hf, '-4m2', 1), (Element Sb, '-4m2', 0)})) (139, frozenset({(Element Hf, '4/mmm', 1), (Element Sb, '4/mmm', 0)}))\n",
      "{'group': 119, 'sites': [['2b'], ['2a']], 'species': ['Hf', 'Sb'], 'numIons': [2, 2]} {'group': 139, 'sites': [['2b'], ['2a']], 'species': ['Hf', 'Sb'], 'numIons': [2, 2]}\n",
      "\n",
      "(139, frozenset({(Element Yb, '4/mmm', 0), (Element Ca, '-4m2', 0), (Element Yb, '4/mmm', 1)})) (123, frozenset({(Element Yb, '4/mmm', 0), (Element Ca, '4/mmm', 3)}))\n",
      "{'group': 139, 'sites': [['2b', '2a'], ['4d']], 'species': ['Yb', 'Ca'], 'numIons': [4, 4]} {'group': 123, 'sites': [['1a'], ['1d']], 'species': ['Yb', 'Ca'], 'numIons': [1, 1]}\n",
      "\n",
      "(12, frozenset({(Element Pd, '2/m', 3), (Element Pd, 'm', 0), (Element Tb, '2/m', 1), (Element Al, 'm', 0), (Element Tb, 'm', 0)})) (12, frozenset({(Element Pd, 'm', 0), (Element Al, 'm', 0), (Element Tb, 'm', 0), (Element Pd, '2/m', 1), (Element Tb, '2/m', 3)}))\n",
      "{'group': 12, 'sites': [['4i', '2b'], ['2d', '4i'], ['4i', '4i']], 'species': ['Tb', 'Pd', 'Al'], 'numIons': [6, 6, 8]} {'group': 12, 'sites': [['4i', '2d'], ['2b', '4i'], ['4i', '4i']], 'species': ['Tb', 'Pd', 'Al'], 'numIons': [6, 6, 8]}\n",
      "\n",
      "(216, frozenset({(Element Mg, '-43m', 2), (Element Mg, '-43m', 3), (Element Au, '-43m', 1), (Element Pd, '-43m', 0)})) (225, frozenset({(Element Mg, '-43m', 0), (Element Au, 'm-3m', 1), (Element Pd, 'm-3m', 0)}))\n",
      "{'group': 216, 'sites': [['4b'], ['4c', '4d'], ['4a']], 'species': ['Au', 'Mg', 'Pd'], 'numIons': [4, 8, 4]} {'group': 225, 'sites': [['4b'], ['8c'], ['4a']], 'species': ['Au', 'Mg', 'Pd'], 'numIons': [4, 8, 4]}\n",
      "\n",
      "(20, frozenset({(Element N, '1', 0), (Element O, '.2.', 0), (Element Si, '.2.', 0)})) (20, frozenset({(Element O, '2..', 0), (Element Si, '2..', 0), (Element N, '1', 0)}))\n",
      "{'group': 20, 'sites': [['8c'], ['4b'], ['4b']], 'species': ['N', 'Si', 'O'], 'numIons': [8, 4, 4]} {'group': 20, 'sites': [['8c'], ['4a'], ['4a']], 'species': ['N', 'Si', 'O'], 'numIons': [8, 4, 4]}\n",
      "\n",
      "(10, frozenset({(Element Mn, '2/m', 1), (Element O, '2', 3), (Element O, '1', 0), (Element Ni, '2/m', 7), (Element O, 'm', 1), (Element Li, '2', 0), (Element Co, '2/m', 4), (Element Co, '2/m', 0)})) (10, frozenset({(Element Mn, '2/m', 1), (Element O, '2', 3), (Element O, '1', 0), (Element Ni, '2/m', 7), (Element Co, '2/m', 5), (Element O, 'm', 1), (Element Li, '2', 0), (Element Co, '2/m', 0)}))\n",
      "{'group': 10, 'sites': [['1h'], ['1a', '1e'], ['1b'], ['2n', '4o', '2l'], ['2i']], 'species': ['Ni', 'Co', 'Mn', 'O', 'Li'], 'numIons': [1, 2, 1, 8, 2]} {'group': 10, 'sites': [['1h'], ['1a', '1f'], ['1b'], ['2n', '4o', '2l'], ['2i']], 'species': ['Ni', 'Co', 'Mn', 'O', 'Li'], 'numIons': [1, 2, 1, 8, 2]}\n",
      "\n",
      "(225, frozenset({(Element Tc, 'm-3m', 0), (Element Tc, 'm-3m', 1), (Element La, '-43m', 0)})) (221, frozenset({(Element Tc, 'm-3m', 0), (Element La, 'm-3m', 1)}))\n",
      "{'group': 225, 'sites': [['4b', '4a'], ['8c']], 'species': ['Tc', 'La'], 'numIons': [8, 8]} {'group': 221, 'sites': [['1a'], ['1b']], 'species': ['Tc', 'La'], 'numIons': [1, 1]}\n",
      "\n",
      "(74, frozenset({(Element Fe, 'mm2', 0), (Element Fe, '.2/m.', 1), (Element Co, '2/m..', 1), (Element Fe, '.2/m.', 0), (Element Gd, 'mm2', 0)})) (74, frozenset({(Element Fe, 'mm2', 0), (Element Fe, '2/m..', 1), (Element Fe, '2/m..', 0), (Element Co, '.2/m.', 0), (Element Gd, 'mm2', 0)}))\n",
      "{'group': 74, 'sites': [['4e', '4d', '4c'], ['4e'], ['4b']], 'species': ['Fe', 'Gd', 'Co'], 'numIons': [12, 4, 4]} {'group': 74, 'sites': [['4e', '4b', '4a'], ['4e'], ['4c']], 'species': ['Fe', 'Gd', 'Co'], 'numIons': [12, 4, 4]}\n",
      "\n",
      "(62, frozenset({(Element Y, '-1', 0), (Element S, '1', 0), (Element Ho, '.m.', 0), (Element S, '.m.', 0)})) (62, frozenset({(Element Y, '-1', 1), (Element S, '1', 0), (Element Ho, '.m.', 0), (Element S, '.m.', 0)}))\n",
      "{'group': 62, 'sites': [['4c'], ['8d', '4c'], ['4a']], 'species': ['Ho', 'S', 'Y'], 'numIons': [4, 12, 4]} {'group': 62, 'sites': [['4c'], ['8d', '4c'], ['4b']], 'species': ['Ho', 'S', 'Y'], 'numIons': [4, 12, 4]}\n",
      "\n",
      "(74, frozenset({(Element Al, 'mm2', 0), (Element Al, '2/m..', 0), (Element Nd, 'mm2', 0), (Element Al, '.2/m.', 0)})) (74, frozenset({(Element Nd, 'mm2', 0), (Element Al, 'mm2', 0), (Element Al, '.2/m.', 1), (Element Al, '2/m..', 0)}))\n",
      "{'group': 74, 'sites': [['4a', '4e', '4c'], ['4e']], 'species': ['Al', 'Nd'], 'numIons': [12, 4]} {'group': 74, 'sites': [['4d', '4e', '4a'], ['4e']], 'species': ['Al', 'Nd'], 'numIons': [12, 4]}\n",
      "\n",
      "(164, frozenset({(Element Fe, '-32/m.', 0)})) (191, frozenset({(Element Fe, '6/mm2/m', 0)}))\n",
      "{'group': 164, 'sites': [['1a']], 'species': ['Fe'], 'numIons': [1]} {'group': 191, 'sites': [['1a']], 'species': ['Fe'], 'numIons': [1]}\n",
      "\n",
      "(194, frozenset({(Element La, '-32/m.', 0)})) (191, frozenset({(Element La, '6/mm2/m', 0)}))\n",
      "{'group': 194, 'sites': [['2a']], 'species': ['La'], 'numIons': [2]} {'group': 191, 'sites': [['1a']], 'species': ['La'], 'numIons': [1]}\n",
      "\n",
      "(225, frozenset({(Element F, '-43m', 0)})) (221, frozenset({(Element F, 'm-3m', 1)}))\n",
      "{'group': 225, 'sites': [['8c']], 'species': ['F'], 'numIons': [8]} {'group': 221, 'sites': [['1b']], 'species': ['F'], 'numIons': [1]}\n",
      "\n",
      "(115, frozenset({(Element Mg, '-4m2', 2), (Element Mg, '-4m2', 3), (Element Li, '-4m2', 0), (Element Li, '-4m2', 1)})) (123, frozenset({(Element Li, '4/mmm', 0), (Element Mg, '4/mmm', 1)}))\n",
      "{'group': 115, 'sites': [['1b', '1a'], ['1c', '1d']], 'species': ['Li', 'Mg'], 'numIons': [2, 2]} {'group': 123, 'sites': [['1a'], ['1b']], 'species': ['Li', 'Mg'], 'numIons': [1, 1]}\n",
      "\n",
      "(47, frozenset({(Element Ag, 'mm2', 2), (Element Sr, 'mmm', 5), (Element Ag, 'mmm', 3), (Element Te, 'm2m', 2), (Element Ba, 'mm2', 0)})) (47, frozenset({(Element Ba, 'm2m', 0), (Element Te, 'mm2', 2), (Element Ag, 'mmm', 5), (Element Ag, 'm2m', 2), (Element Sr, 'mmm', 3)}))\n",
      "{'group': 47, 'sites': [['2s', '1d'], ['1f'], ['2q'], ['2o']], 'species': ['Ag', 'Sr', 'Ba', 'Te'], 'numIons': [3, 1, 2, 2]} {'group': 47, 'sites': [['2o', '1f'], ['1d'], ['2m'], ['2s']], 'species': ['Ag', 'Sr', 'Ba', 'Te'], 'numIons': [3, 1, 2, 2]}\n",
      "\n",
      "(42, frozenset({(Element P, 'm..', 0), (Element Ni, '..2', 0), (Element Ni, '1', 0), (Element Ta, '.m.', 0), (Element Ta, 'mm2', 0)})) (42, frozenset({(Element Ta, 'm..', 0), (Element P, '.m.', 0), (Element Ni, '..2', 0), (Element Ni, '1', 0), (Element Ta, 'mm2', 0)}))\n",
      "{'group': 42, 'sites': [['4a', '8d'], ['8c'], ['8b', '16e']], 'species': ['Ta', 'P', 'Ni'], 'numIons': [12, 8, 24]} {'group': 42, 'sites': [['4a', '8c'], ['8d'], ['8b', '16e']], 'species': ['Ta', 'P', 'Ni'], 'numIons': [12, 8, 24]}\n",
      "\n",
      "(225, frozenset({(Element Cd, 'm-3m', 0), (Element Cd, 'm-3m', 1), (Element Hg, '-43m', 0)})) (221, frozenset({(Element Cd, 'm-3m', 0), (Element Hg, 'm-3m', 1)}))\n",
      "{'group': 225, 'sites': [['4a', '4b'], ['8c']], 'species': ['Cd', 'Hg'], 'numIons': [8, 8]} {'group': 221, 'sites': [['1a'], ['1b']], 'species': ['Cd', 'Hg'], 'numIons': [1, 1]}\n",
      "\n",
      "(12, frozenset({(Element Fe, '2/m', 2), (Element Mn, '2/m', 1), (Element O, '1', 0), (Element Fe, '-1', 1), (Element Mn, '-1', 0), (Element O, 'm', 0)})) (12, frozenset({(Element Fe, '2/m', 2), (Element Mn, '-1', 1), (Element Mn, '2/m', 1), (Element O, '1', 0), (Element Fe, '-1', 0), (Element O, 'm', 0)}))\n",
      "{'group': 12, 'sites': [['2c', '4f'], ['8j', '4i', '4i'], ['4e', '2b']], 'species': ['Fe', 'O', 'Mn'], 'numIons': [6, 16, 6]} {'group': 12, 'sites': [['2c', '4e'], ['8j', '4i', '4i'], ['4f', '2b']], 'species': ['Fe', 'O', 'Mn'], 'numIons': [6, 16, 6]}\n",
      "\n",
      "(47, frozenset({(Element Sr, 'mm2', 2), (Element O, 'mmm', 7), (Element O, 'mmm', 3), (Element O, 'mm2', 0), (Element Mn, 'mm2', 1), (Element Mn, 'mmm', 1), (Element O, 'mm2', 2), (Element O, 'mm2', 1)})) (47, frozenset({(Element Mn, 'mmm', 6), (Element O, 'mmm', 4), (Element Mn, 'mm2', 2), (Element O, 'mm2', 0), (Element Sr, 'mm2', 1), (Element O, 'mmm', 5), (Element O, 'mm2', 2), (Element O, 'mm2', 1)}))\n",
      "{'group': 47, 'sites': [['2s', '1h', '2r', '2q', '1d'], ['2s'], ['1b', '2r']], 'species': ['O', 'Sr', 'Mn'], 'numIons': [8, 2, 3]} {'group': 47, 'sites': [['2r', '1f', '2s', '2q', '1e'], ['2r'], ['1g', '2s']], 'species': ['O', 'Sr', 'Mn'], 'numIons': [8, 2, 3]}\n",
      "\n",
      "(3, frozenset({(Element Nb, '2', 1), (Element O, '1', 0), (Element Na, '2', 3), (Element Na, '2', 0), (Element Nb, '2', 0), (Element Ti, '2', 3), (Element Eu, '2', 2)})) (3, frozenset({(Element Na, '2', 3), (Element O, '1', 0), (Element Eu, '2', 1), (Element Na, '2', 0), (Element Nb, '2', 0), (Element Ti, '2', 3), (Element Nb, '2', 2)}))\n",
      "{'group': 3, 'sites': [['1d'], ['2e', '2e', '2e', '2e', '2e', '2e'], ['1a', '1b', '1b'], ['1a', '1d'], ['1c']], 'species': ['Ti', 'O', 'Nb', 'Na', 'Eu'], 'numIons': [1, 12, 3, 2, 1]} {'group': 3, 'sites': [['1d'], ['2e', '2e', '2e', '2e', '2e', '2e'], ['1a', '1c', '1c'], ['1a', '1d'], ['1b']], 'species': ['Ti', 'O', 'Nb', 'Na', 'Eu'], 'numIons': [1, 12, 3, 2, 1]}\n",
      "\n",
      "(62, frozenset({(Element Li, '-1', 1), (Element Cs, '.m.', 0), (Element F, '1', 0), (Element F, '.m.', 0)})) (62, frozenset({(Element Cs, '.m.', 0), (Element F, '1', 0), (Element Li, '-1', 0), (Element F, '.m.', 0)}))\n",
      "{'group': 62, 'sites': [['4c'], ['8d', '4c'], ['4b']], 'species': ['Cs', 'F', 'Li'], 'numIons': [4, 12, 4]} {'group': 62, 'sites': [['4c'], ['8d', '4c'], ['4a']], 'species': ['Cs', 'F', 'Li'], 'numIons': [4, 12, 4]}\n",
      "\n",
      "(71, frozenset({(Element Ho, 'mmm', 2), (Element Ho, 'mm2', 0), (Element Ge, 'mm2', 1), (Element Ni, 'm2m', 1), (Element Ge, 'mm2', 0)})) (71, frozenset({(Element Ho, 'mmm', 1), (Element Ge, 'mm2', 1), (Element Ho, 'mm2', 1), (Element Ni, 'm2m', 1), (Element Ge, 'mm2', 0)}))\n",
      "{'group': 71, 'sites': [['4h'], ['4j', '4j', '4i'], ['4i', '2c']], 'species': ['Ni', 'Ge', 'Ho'], 'numIons': [4, 12, 6]} {'group': 71, 'sites': [['4h'], ['4i', '4i', '4j'], ['4j', '2b']], 'species': ['Ni', 'Ge', 'Ho'], 'numIons': [4, 12, 6]}\n",
      "\n",
      "(2, frozenset({(Element Mo, '-1', 2), (Element O, '1', 0), (Element P, '1', 0)})) (2, frozenset({(Element Mo, '-1', 3), (Element O, '1', 0), (Element P, '1', 0)}))\n",
      "{'group': 2, 'sites': [['2i', '2i', '2i', '2i'], ['1c'], ['2i']], 'species': ['O', 'Mo', 'P'], 'numIons': [8, 1, 2]} {'group': 2, 'sites': [['2i', '2i', '2i', '2i'], ['1d'], ['2i']], 'species': ['O', 'Mo', 'P'], 'numIons': [8, 1, 2]}\n",
      "\n",
      "(12, frozenset({(Element S, '2/m', 3), (Element S, '2/m', 0), (Element S, 'm', 0), (Element Pb, 'm', 0)})) (12, frozenset({(Element S, '2/m', 2), (Element S, '2/m', 1), (Element S, 'm', 0), (Element Pb, 'm', 0)}))\n",
      "{'group': 12, 'sites': [['4i'], ['4i', '2a', '2d']], 'species': ['Pb', 'S'], 'numIons': [4, 8]} {'group': 12, 'sites': [['4i'], ['4i', '2c', '2b']], 'species': ['Pb', 'S'], 'numIons': [4, 8]}\n",
      "\n",
      "(10, frozenset({(Element Li, '2/m', 7), (Element O, '1', 0), (Element O, '2', 1), (Element Nd, 'm', 1), (Element O, 'm', 1), (Element Nd, '2/m', 1), (Element Y, '2/m', 2), (Element O, 'm', 0), (Element Nd, 'm', 0)})) (10, frozenset({(Element Li, '2/m', 7), (Element O, '1', 0), (Element O, '2', 2), (Element Nd, 'm', 1), (Element Y, '2/m', 3), (Element O, 'm', 1), (Element Nd, '2/m', 1), (Element O, 'm', 0), (Element Nd, 'm', 0)}))\n",
      "{'group': 10, 'sites': [['2n', '4o', '2j', '2m', '2m'], ['1c'], ['1b', '2n', '2m'], ['1h']], 'species': ['O', 'Y', 'Nd', 'Li'], 'numIons': [12, 1, 5, 1]} {'group': 10, 'sites': [['2n', '4o', '2k', '2m', '2m'], ['1d'], ['1b', '2n', '2m'], ['1h']], 'species': ['O', 'Y', 'Nd', 'Li'], 'numIons': [12, 1, 5, 1]}\n",
      "\n",
      "(150, frozenset({(Element S, '3..', 1), (Element Nb, '3..', 1), (Element Ti, '32.', 0)})) (164, frozenset({(Element Ti, '-32/m.', 0), (Element S, '3m.', 1), (Element Nb, '3m.', 1)}))\n",
      "{'group': 150, 'sites': [['1a'], ['2d'], ['2d']], 'species': ['Ti', 'Nb', 'S'], 'numIons': [1, 2, 2]} {'group': 164, 'sites': [['1a'], ['2d'], ['2d']], 'species': ['Ti', 'Nb', 'S'], 'numIons': [1, 2, 2]}\n",
      "\n",
      "(139, frozenset({(Element Pm, '4/mmm', 1), (Element Pm, '-4m2', 0), (Element Pm, '4/mmm', 0)})) (139, frozenset({(Element Pm, '4/mmm', 0)}))\n",
      "{'group': 139, 'sites': [['2b', '4d', '2a']], 'species': ['Pm'], 'numIons': [8]} {'group': 139, 'sites': [['2a']], 'species': ['Pm'], 'numIons': [2]}\n",
      "\n"
     ]
    }
   ],
   "source": [
    "import pickle\n",
    "with open(Path(\"cache\", \"wychoffs_enumerated_by_ss.pkl.gz\"), \"rb\") as f:\n",
    "    letter_to_enum, _ , letter_to_ss = pickle.load(f)[:3]\n",
    "from wyckoff_transformer.evaluation import generated_to_fingerprint\n",
    "from functools import partial\n",
    "invoke_generated_to_fingerprint = partial(generated_to_fingerprint, letter_to_enum=letter_to_enum, letter_to_ss=letter_to_ss)\n",
    "mismatches = 0\n",
    "nones = 0\n",
    "for before, after in zip(sites_before, sites_after):\n",
    "    if after is None:\n",
    "        nones += 1\n",
    "        continue\n",
    "    before_fingerprint = invoke_generated_to_fingerprint(before)\n",
    "    after_fingerprint = invoke_generated_to_fingerprint(after)\n",
    "    if before_fingerprint != after_fingerprint:\n",
    "        mismatches += 1\n",
    "        print(before_fingerprint, after_fingerprint)\n",
    "        print(before, after)\n",
    "        print()"
   ]
  },
  {
   "cell_type": "code",
   "execution_count": 6,
   "metadata": {},
   "outputs": [
    {
     "name": "stdout",
     "output_type": "stream",
     "text": [
      "mismatches: 43, nones: 0, total: 1000\n"
     ]
    }
   ],
   "source": [
    "print (f\"mismatches: {mismatches}, nones: {nones}, total: {len(sites_after)}\")"
   ]
  },
  {
   "cell_type": "code",
   "execution_count": 7,
   "metadata": {},
   "outputs": [
    {
     "data": {
      "image/png": "[encoded data removed]",
      "text/plain": [
       "<Figure size 640x480 with 1 Axes>"
      ]
     },
     "metadata": {},
     "output_type": "display_data"
    }
   ],
   "source": [
    "from matplotlib import pyplot as plt\n",
    "fig, ax = plt.subplots()\n",
    "ax.hist([wr['group'] for wr in sites_before], bins=range(1, 231), density=True, alpha=0.5)\n",
    "ax.hist([wr['group'] for wr in sites_after if wr is not None], bins=range(1, 231), alpha=0.5, density=True);"
   ]
  }
 ],
 "metadata": {
  "kernelspec": {
   "display_name": "wyckofftransformer-FeCwefly-py3.12",
   "language": "python",
   "name": "python3"
  },
  "language_info": {
   "codemirror_mode": {
    "name": "ipython",
    "version": 3
   },
   "file_extension": ".py",
   "mimetype": "text/x-python",
   "name": "python",
   "nbconvert_exporter": "python",
   "pygments_lexer": "ipython3",
   "version": "3.12.6"
  }
 },
 "nbformat": 4,
 "nbformat_minor": 2
}
