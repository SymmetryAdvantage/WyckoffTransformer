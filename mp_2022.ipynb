{
 "cells": [
  {
   "cell_type": "code",
   "execution_count": 1,
   "metadata": {},
   "outputs": [],
   "source": [
    "import gzip\n",
    "import json\n",
    "import pandas as pd\n",
    "from pathlib import Path\n",
    "from sklearn.model_selection import train_test_split\n",
    "from monty.json import MontyDecoder\n",
    "from pymatgen.io.cif import CifWriter\n",
    "import matbench_discovery.data\n",
    "import matbench_discovery.energy"
   ]
  },
  {
   "cell_type": "code",
   "execution_count": 2,
   "metadata": {},
   "outputs": [],
   "source": [
    "mp_energies = pd.read_csv(matbench_discovery.data.DataFiles.mp_energies.path, index_col=\"material_id\")"
   ]
  },
  {
   "cell_type": "code",
   "execution_count": 3,
   "metadata": {},
   "outputs": [],
   "source": [
    "with gzip.open(matbench_discovery.data.DataFiles.mp_computed_structure_entries.path, \"rt\") as f:\n",
    "    mp_2022_raw = json.load(f)"
   ]
  },
  {
   "cell_type": "code",
   "execution_count": null,
   "metadata": {},
   "outputs": [],
   "source": [
    "mp_2022_processed = {}\n",
    "decoder = MontyDecoder()\n",
    "for entry_id, material_id in mp_2022_raw['material_id'].items():\n",
    "    entry = decoder.process_decoded(mp_2022_raw['entry'][entry_id])\n",
    "    mp_2022_processed[material_id] = {\n",
    "        \"cif\": str(CifWriter(entry.structure)),\n",
    "        \"formation_energy_per_atom\": matbench_discovery.energy.get_e_form_per_atom(entry)\n",
    "    }\n",
    "mp_2022 = pd.DataFrame.from_dict(mp_2022_processed, orient=\"index\")"
   ]
  },
  {
   "cell_type": "code",
   "execution_count": 11,
   "metadata": {},
   "outputs": [],
   "source": [
    "assert (mp_2022.reindex(mp_energies.index).formation_energy_per_atom - mp_energies.formation_energy_per_atom).abs().max() < 1e-4"
   ]
  },
  {
   "cell_type": "code",
   "execution_count": null,
   "metadata": {},
   "outputs": [],
   "source": [
    "train, val = train_test_split(mp_2022, test_size=0.1, random_state=42)\n",
    "train.to_csv(Path(\"data\", \"matbench_discovery_mp_2022\", \"train.csv.gz\"), index_label=\"material_id\")\n",
    "val.to_csv(Path(\"data\", \"matbench_discovery_mp_2022\", \"val.csv.gz\"), index_label=\"material_id\")"
   ]
  },
  {
   "cell_type": "code",
   "execution_count": 5,
   "metadata": {},
   "outputs": [
    {
     "name": "stdout",
     "output_type": "stream",
     "text": [
      "154718 139246 15472\n"
     ]
    }
   ],
   "source": [
    "print(len(mp_2022), len(train), len(val))"
   ]
  }
 ],
 "metadata": {
  "kernelspec": {
   "display_name": "wyckofftransformer-FeCwefly-py3.12",
   "language": "python",
   "name": "python3"
  },
  "language_info": {
   "codemirror_mode": {
    "name": "ipython",
    "version": 3
   },
   "file_extension": ".py",
   "mimetype": "text/x-python",
   "name": "python",
   "nbconvert_exporter": "python",
   "pygments_lexer": "ipython3",
   "version": "3.12.3"
  }
 },
 "nbformat": 4,
 "nbformat_minor": 2
}
