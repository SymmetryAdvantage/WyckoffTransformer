{
 "cells": [
  {
   "cell_type": "code",
   "execution_count": 1,
   "metadata": {},
   "outputs": [
    {
     "ename": "SyntaxError",
     "evalue": "invalid syntax (tokenization.py, line 92)",
     "output_type": "error",
     "traceback": [
      "Traceback \u001b[0;36m(most recent call last)\u001b[0m:\n",
      "\u001b[0m  File \u001b[1;32m~/.cache/pypoetry/virtualenvs/wyckofftransformer-FeCwefly-py3.10/lib/python3.10/site-packages/IPython/core/interactiveshell.py:3577\u001b[0m in \u001b[1;35mrun_code\u001b[0m\n    exec(code_obj, self.user_global_ns, self.user_ns)\u001b[0m\n",
      "\u001b[0;36m  Cell \u001b[0;32mIn[1], line 16\u001b[0;36m\n\u001b[0;31m    from wyckoff_transformer.tokenization import (\u001b[0;36m\n",
      "\u001b[0;36m  File \u001b[0;32m~/WyckoffTransformer/wyckoff_transformer/tokenization.py:92\u001b[0;36m\u001b[0m\n\u001b[0;31m    tokeniser = tokenisers[]\u001b[0m\n\u001b[0m                           ^\u001b[0m\n\u001b[0;31mSyntaxError\u001b[0m\u001b[0;31m:\u001b[0m invalid syntax\n"
     ]
    }
   ],
   "source": [
    "# One way to be sure we don't grab any cuda\n",
    "import os\n",
    "os.environ[\"CUDA_VISIBLE_DEVICES\"] = \"\"\n",
    "from functools import partial\n",
    "from multiprocessing import Pool\n",
    "from io import StringIO\n",
    "import argparse\n",
    "import torch\n",
    "from pathlib import Path\n",
    "import wandb\n",
    "import ast\n",
    "from omegaconf import OmegaConf\n",
    "\n",
    "from wyckoff_transformer.generator import WyckoffGenerator\n",
    "from cascade_transformer.model import CascadeTransformer\n",
    "from wyckoff_transformer.tokenization import (\n",
    "    load_tensors_and_tokenisers, tensor_to_pyxtal,\n",
    "    get_letter_from_ss_enum_idx, get_wp_index)"
   ]
  },
  {
   "cell_type": "code",
   "execution_count": 4,
   "metadata": {},
   "outputs": [],
   "source": [
    "config = OmegaConf.create({\"a\": {\"b\": {\"c\": [1,2]}}})"
   ]
  },
  {
   "cell_type": "code",
   "execution_count": 7,
   "metadata": {},
   "outputs": [
    {
     "data": {
      "text/plain": [
       "[1, 2]"
      ]
     },
     "execution_count": 7,
     "metadata": {},
     "output_type": "execute_result"
    }
   ],
   "source": [
    "config.a.b.c"
   ]
  },
  {
   "cell_type": "code",
   "execution_count": 3,
   "metadata": {},
   "outputs": [
    {
     "name": "stderr",
     "output_type": "stream",
     "text": [
      "Failed to detect the name of this notebook, you can set it manually with the WANDB_NOTEBOOK_NAME environment variable to enable code saving.\n",
      "\u001b[34m\u001b[1mwandb\u001b[0m: Currently logged in as: \u001b[33mkazeev\u001b[0m (\u001b[33msymmetry-advantage\u001b[0m). Use \u001b[1m`wandb login --relogin`\u001b[0m to force relogin\n"
     ]
    },
    {
     "data": {
      "text/html": [
       "Tracking run with wandb version 0.17.0"
      ],
      "text/plain": [
       "<IPython.core.display.HTML object>"
      ]
     },
     "metadata": {},
     "output_type": "display_data"
    },
    {
     "data": {
      "text/html": [
       "Run data is saved locally in <code>/home/kna/WyckoffTransformer/wandb/run-20240601_211723-maqpu3ee</code>"
      ],
      "text/plain": [
       "<IPython.core.display.HTML object>"
      ]
     },
     "metadata": {},
     "output_type": "display_data"
    },
    {
     "data": {
      "text/html": [
       "Resuming run <strong><a href='https://wandb.ai/symmetry-advantage/WyckoffTransformer/runs/maqpu3ee' target=\"_blank\">light-sweep-5</a></strong> to <a href='https://wandb.ai/symmetry-advantage/WyckoffTransformer' target=\"_blank\">Weights & Biases</a> (<a href='https://wandb.me/run' target=\"_blank\">docs</a>)<br/>Sweep page: <a href='https://wandb.ai/symmetry-advantage/WyckoffTransformer/sweeps/h13swroe' target=\"_blank\">https://wandb.ai/symmetry-advantage/WyckoffTransformer/sweeps/h13swroe</a>"
      ],
      "text/plain": [
       "<IPython.core.display.HTML object>"
      ]
     },
     "metadata": {},
     "output_type": "display_data"
    },
    {
     "data": {
      "text/html": [
       " View project at <a href='https://wandb.ai/symmetry-advantage/WyckoffTransformer' target=\"_blank\">https://wandb.ai/symmetry-advantage/WyckoffTransformer</a>"
      ],
      "text/plain": [
       "<IPython.core.display.HTML object>"
      ]
     },
     "metadata": {},
     "output_type": "display_data"
    },
    {
     "data": {
      "text/html": [
       " View sweep at <a href='https://wandb.ai/symmetry-advantage/WyckoffTransformer/sweeps/h13swroe' target=\"_blank\">https://wandb.ai/symmetry-advantage/WyckoffTransformer/sweeps/h13swroe</a>"
      ],
      "text/plain": [
       "<IPython.core.display.HTML object>"
      ]
     },
     "metadata": {},
     "output_type": "display_data"
    },
    {
     "data": {
      "text/html": [
       " View run at <a href='https://wandb.ai/symmetry-advantage/WyckoffTransformer/runs/maqpu3ee' target=\"_blank\">https://wandb.ai/symmetry-advantage/WyckoffTransformer/runs/maqpu3ee</a>"
      ],
      "text/plain": [
       "<IPython.core.display.HTML object>"
      ]
     },
     "metadata": {},
     "output_type": "display_data"
    },
    {
     "data": {
      "application/vnd.jupyter.widget-view+json": {
       "model_id": "b85254d7f2b2480197d4ad144dcbe042",
       "version_major": 2,
       "version_minor": 0
      },
      "text/plain": [
       "VBox(children=(Label(value='0.000 MB of 0.004 MB uploaded\\r'), FloatProgress(value=0.0, max=1.0)))"
      ]
     },
     "metadata": {},
     "output_type": "display_data"
    },
    {
     "data": {
      "text/html": [
       "<style>\n",
       "    table.wandb td:nth-child(1) { padding: 0 10px; text-align: left ; width: auto;} td:nth-child(2) {text-align: left ; width: 100%}\n",
       "    .wandb-row { display: flex; flex-direction: row; flex-wrap: wrap; justify-content: flex-start; width: 100% }\n",
       "    .wandb-col { display: flex; flex-direction: column; flex-basis: 100%; flex: 1; padding: 10px; }\n",
       "    </style>\n",
       "<div class=\"wandb-row\"><div class=\"wandb-col\"><h3>Run summary:</h3><br/><table class=\"wandb\"><tr><td>best_val_loss</td><td>16.37654</td></tr><tr><td>epoch</td><td>29990</td></tr><tr><td>known_cascade_len</td><td>0</td></tr><tr><td>known_seq_len</td><td>2</td></tr><tr><td>lr</td><td>0.00472</td></tr><tr><td>train_loss_batch</td><td>56399.35156</td></tr><tr><td>wp_formal_validity</td><td>0.98</td></tr></table><br/></div></div>"
      ],
      "text/plain": [
       "<IPython.core.display.HTML object>"
      ]
     },
     "metadata": {},
     "output_type": "display_data"
    },
    {
     "data": {
      "text/html": [
       " View run <strong style=\"color:#cdcd00\">light-sweep-5</strong> at: <a href='https://wandb.ai/symmetry-advantage/WyckoffTransformer/runs/maqpu3ee' target=\"_blank\">https://wandb.ai/symmetry-advantage/WyckoffTransformer/runs/maqpu3ee</a><br/> View project at: <a href='https://wandb.ai/symmetry-advantage/WyckoffTransformer' target=\"_blank\">https://wandb.ai/symmetry-advantage/WyckoffTransformer</a><br/>Synced 3 W&B file(s), 0 media file(s), 0 artifact file(s) and 0 other file(s)"
      ],
      "text/plain": [
       "<IPython.core.display.HTML object>"
      ]
     },
     "metadata": {},
     "output_type": "display_data"
    },
    {
     "data": {
      "text/html": [
       "Find logs at: <code>./wandb/run-20240601_211723-maqpu3ee/logs</code>"
      ],
      "text/plain": [
       "<IPython.core.display.HTML object>"
      ]
     },
     "metadata": {},
     "output_type": "display_data"
    }
   ],
   "source": [
    "device = torch.device(\"cpu\")\n",
    "run = wandb.init(id=\"maqpu3ee\", resume=True)\n",
    "config = OmegaConf.create(dict(wandb.config))\n",
    "wandb.finish()\n",
    "if \"tokeniser\" in config and isinstance(config.tokeniser, str):\n",
    "    config.tokeniser = ast.literal_eval(config.tokeniser)\n",
    "if \"model\" in config and isinstance(config.model, str):\n",
    "    config.model = ast.literal_eval(config.model)\n",
    "if \"base_config\" in config:\n",
    "    base_config = OmegaConf.load(Path(\"yamls\", \"models\", f\"{config.base_config}.yaml\"))\n",
    "    config = OmegaConf.merge(base_config, config)\n",
    "# The start tokens will be sampled from the train+validation datasets,\n",
    "# to preserve the sanctity of the test dataset and ex nihilo generation.\n",
    "\n",
    "tensors, tokenisers = load_tensors_and_tokenisers(config.dataset, config.tokeniser.name)    "
   ]
  },
  {
   "cell_type": "code",
   "execution_count": 4,
   "metadata": {},
   "outputs": [
    {
     "name": "stdout",
     "output_type": "stream",
     "text": [
      "torch.Size([100, 21, 3])\n",
      "Wyckchoffs formal validity: 0.98\n"
     ]
    }
   ],
   "source": [
    "generation_size = 100\n",
    "#del tensors[\"test\"]\n",
    "# First, we want to compute the unbiased validity number\n",
    "# Then we drop the underrepresented groups\n",
    "max_start = len(tokenisers[config.model.start_token])\n",
    "start_counts = torch.bincount(tensors[\"train\"][config.model.start_token], minlength=max_start) + \\\n",
    "                torch.bincount(tensors[\"val\"][config.model.start_token], minlength=max_start)\n",
    "underrepresented = start_counts < 10\n",
    "start_counts[underrepresented] = 0\n",
    "start_distribution = torch.distributions.Categorical(probs=start_counts.float())\n",
    "\n",
    "if \"augmented_token_fields\" not in config.tokeniser:\n",
    "    tokeniser_config = OmegaConf.load(Path(\"yamls\", \"tokenisers\", f\"{config.tokeniser.name}.yaml\"))\n",
    "    config.tokeniser = tokeniser_config\n",
    "model = CascadeTransformer.from_config_and_tokenisers(config, tokenisers, device)\n",
    "model.load_state_dict(torch.load(\"runs/maqpu3ee/best_model_params.pt\", map_location=device))\n",
    "# We need to grab any tensor from the train dataset\n",
    "max_sequence_len = tensors[\"train\"][config.model.cascade_order[0]].size(1)\n",
    "masks = {field: tokenisers[field].mask_token for field in config.model.cascade_order}\n",
    "generator = WyckoffGenerator(model, config.model.cascade_order, masks, max_sequence_len)\n",
    "start = start_distribution.sample((generation_size,))\n",
    "generated_tensors = torch.stack(generator.generate_tensors(start), dim=-1)\n",
    "print(generated_tensors.size())\n",
    "\n",
    "letter_from_ss_enum_idx = get_letter_from_ss_enum_idx(tokenisers['sites_enumeration'])\n",
    "to_pyxtal = partial(tensor_to_pyxtal,\n",
    "                    tokenisers=tokenisers,\n",
    "                    cascade_order=config.model.cascade_order,\n",
    "                    letter_from_ss_enum_idx=letter_from_ss_enum_idx,\n",
    "                    wp_index=get_wp_index())\n",
    "#with Pool() as p:\n",
    "from itertools import starmap\n",
    "import logging\n",
    "logging.basicConfig(level=logging.DEBUG)\n",
    "generated_wp = starmap(to_pyxtal, zip(start.detach().cpu(), generated_tensors.detach().cpu()))\n",
    "generated_wp = [s for s in generated_wp if s is not None]\n",
    "wp_formal_validity = len(generated_wp) / generation_size\n",
    "print(f\"Wyckchoffs formal validity: {wp_formal_validity}\")"
   ]
  },
  {
   "cell_type": "code",
   "execution_count": 5,
   "metadata": {},
   "outputs": [
    {
     "data": {
      "text/plain": [
       "{'group': 139,\n",
       " 'sites': [['4d'], ['2b'], ['4e']],\n",
       " 'species': ['Ni', 'Ga', 'Ge'],\n",
       " 'numIons': [4, 2, 4]}"
      ]
     },
     "execution_count": 5,
     "metadata": {},
     "output_type": "execute_result"
    }
   ],
   "source": [
    "generated_wp[0]"
   ]
  },
  {
   "cell_type": "code",
   "execution_count": 6,
   "metadata": {},
   "outputs": [],
   "source": [
    "import pyxtal\n",
    "p_st = pyxtal.pyxtal()"
   ]
  },
  {
   "cell_type": "code",
   "execution_count": 7,
   "metadata": {},
   "outputs": [],
   "source": [
    "p_st.from_random(3, **generated_wp[0])"
   ]
  },
  {
   "cell_type": "code",
   "execution_count": 10,
   "metadata": {},
   "outputs": [],
   "source": [
    "p=p_st.to_pymatgen()"
   ]
  },
  {
   "cell_type": "code",
   "execution_count": 35,
   "metadata": {},
   "outputs": [],
   "source": [
    "import gzip, pickle\n",
    "with gzip.open(\"cache/mp_20_biternary/data.pkl.gz\", \"rb\") as f:\n",
    "    data = pickle.load(f)"
   ]
  },
  {
   "cell_type": "code",
   "execution_count": 39,
   "metadata": {},
   "outputs": [
    {
     "data": {
      "text/plain": [
       "{Element Nd: 1.0, Element Al: 8.0, Element Cu: 4.0}"
      ]
     },
     "execution_count": 39,
     "metadata": {},
     "output_type": "execute_result"
    }
   ],
   "source": [
    "data['train']['composition'].iloc[0]"
   ]
  },
  {
   "cell_type": "code",
   "execution_count": 32,
   "metadata": {},
   "outputs": [
    {
     "data": {
      "text/plain": [
       "{'Ga': 2.0, 'Ge': 4.0, 'Ni': 4.0}"
      ]
     },
     "execution_count": 32,
     "metadata": {},
     "output_type": "execute_result"
    }
   ],
   "source": [
    "p.composition.get_el_amt_dict()"
   ]
  },
  {
   "cell_type": "code",
   "execution_count": null,
   "metadata": {},
   "outputs": [
    {
     "data": {
      "image/png": "[encoded data removed]",
      "text/plain": [
       "<Figure size 640x480 with 1 Axes>"
      ]
     },
     "metadata": {},
     "output_type": "display_data"
    }
   ],
   "source": [
    "import matplotlib.pyplot as plt\n",
    "fig, ax = plt.subplots()\n",
    "ax.hist([tokenisers['spacegroup_number'].to_token[x] for x in start], bins=230);"
   ]
  },
  {
   "cell_type": "code",
   "execution_count": null,
   "metadata": {},
   "outputs": [
    {
     "data": {
      "image/png": "[encoded data removed]",
      "text/plain": [
       "<Figure size 640x480 with 1 Axes>"
      ]
     },
     "metadata": {},
     "output_type": "display_data"
    }
   ],
   "source": [
    "plt.hist(generated_tensors[:, :, 1].numpy().flatten(), bins=200);"
   ]
  },
  {
   "cell_type": "code",
   "execution_count": null,
   "metadata": {},
   "outputs": [
    {
     "data": {
      "image/png": "[encoded data removed]",
      "text/plain": [
       "<Figure size 640x480 with 1 Axes>"
      ]
     },
     "metadata": {},
     "output_type": "display_data"
    }
   ],
   "source": [
    "plt.hist(generated_tensors[:, :, 2].numpy().flatten(), bins=30);"
   ]
  },
  {
   "cell_type": "code",
   "execution_count": null,
   "metadata": {},
   "outputs": [
    {
     "data": {
      "image/png": "[encoded data removed]",
      "text/plain": [
       "<Figure size 640x480 with 1 Axes>"
      ]
     },
     "metadata": {},
     "output_type": "display_data"
    }
   ],
   "source": [
    "plt.hist(tensors['train']['sites_enumeration'].flatten(), bins=30);"
   ]
  },
  {
   "cell_type": "code",
   "execution_count": null,
   "metadata": {},
   "outputs": [
    {
     "data": {
      "image/png": "[encoded data removed]",
      "text/plain": [
       "<Figure size 640x480 with 1 Axes>"
      ]
     },
     "metadata": {},
     "output_type": "display_data"
    }
   ],
   "source": [
    "plt.hist(generated_tensors[:, :, 0].numpy().flatten(), bins=200);"
   ]
  },
  {
   "cell_type": "code",
   "execution_count": null,
   "metadata": {},
   "outputs": [
    {
     "data": {
      "text/plain": [
       "torch.Size([7118, 21, 3])"
      ]
     },
     "execution_count": 19,
     "metadata": {},
     "output_type": "execute_result"
    }
   ],
   "source": [
    "generated_tensors.shape"
   ]
  },
  {
   "cell_type": "code",
   "execution_count": null,
   "metadata": {},
   "outputs": [
    {
     "data": {
      "text/plain": [
       "torch.Size([7118, 21, 3])"
      ]
     },
     "execution_count": 18,
     "metadata": {},
     "output_type": "execute_result"
    }
   ],
   "source": [
    "generated_tensors.shape"
   ]
  },
  {
   "cell_type": "code",
   "execution_count": null,
   "metadata": {},
   "outputs": [
    {
     "data": {
      "text/plain": [
       "defaultdict(dict,\n",
       "            {1: {'1': {0: 'a'}},\n",
       "             2: {'-1': {0: 'a',\n",
       "               1: 'b',\n",
       "               2: 'c',\n",
       "               3: 'd',\n",
       "               4: 'e',\n",
       "               5: 'f',\n",
       "               6: 'g',\n",
       "               7: 'h'},\n",
       "              '1': {0: 'i'}},\n",
       "             3: {'2': {0: 'a', 1: 'b', 2: 'c', 3: 'd'}, '1': {0: 'e'}},\n",
       "             4: {'1': {0: 'a'}},\n",
       "             5: {'2': {0: 'a', 1: 'b'}, '1': {0: 'c'}},\n",
       "             6: {'m': {0: 'a', 1: 'b'}, '1': {0: 'c'}},\n",
       "             7: {'1': {0: 'a'}},\n",
       "             8: {'m': {0: 'a'}, '1': {0: 'b'}},\n",
       "             9: {'1': {0: 'a'}},\n",
       "             10: {'2/m': {0: 'a',\n",
       "               1: 'b',\n",
       "               2: 'c',\n",
       "               3: 'd',\n",
       "               4: 'e',\n",
       "               5: 'f',\n",
       "               6: 'g',\n",
       "               7: 'h'},\n",
       "              '2': {0: 'i', 1: 'j', 2: 'k', 3: 'l'},\n",
       "              'm': {0: 'm', 1: 'n'},\n",
       "              '1': {0: 'o'}},\n",
       "             11: {'-1': {0: 'a', 1: 'b', 2: 'c', 3: 'd'},\n",
       "              'm': {0: 'e'},\n",
       "              '1': {0: 'f'}},\n",
       "             12: {'2/m': {0: 'a', 1: 'b', 2: 'c', 3: 'd'},\n",
       "              '-1': {0: 'e', 1: 'f'},\n",
       "              '2': {0: 'g', 1: 'h'},\n",
       "              'm': {0: 'i'},\n",
       "              '1': {0: 'j'}},\n",
       "             13: {'-1': {0: 'a', 1: 'b', 2: 'c', 3: 'd'},\n",
       "              '2': {0: 'e', 1: 'f'},\n",
       "              '1': {0: 'g'}},\n",
       "             14: {'-1': {0: 'a', 1: 'b', 2: 'c', 3: 'd'}, '1': {0: 'e'}},\n",
       "             15: {'-1': {0: 'a', 1: 'b', 2: 'c', 3: 'd'},\n",
       "              '2': {0: 'e'},\n",
       "              '1': {0: 'f'}},\n",
       "             16: {'222': {0: 'a',\n",
       "               1: 'b',\n",
       "               2: 'c',\n",
       "               3: 'd',\n",
       "               4: 'e',\n",
       "               5: 'f',\n",
       "               6: 'g',\n",
       "               7: 'h'},\n",
       "              '2..': {0: 'i', 1: 'j', 2: 'k', 3: 'l'},\n",
       "              '.2.': {0: 'm', 1: 'n', 2: 'o', 3: 'p'},\n",
       "              '..2': {0: 'q', 1: 'r', 2: 's', 3: 't'},\n",
       "              '1': {0: 'u'}},\n",
       "             17: {'2..': {0: 'a', 1: 'b'},\n",
       "              '.2.': {0: 'c', 1: 'd'},\n",
       "              '1': {0: 'e'}},\n",
       "             18: {'..2': {0: 'a', 1: 'b'}, '1': {0: 'c'}},\n",
       "             19: {'1': {0: 'a'}},\n",
       "             20: {'2..': {0: 'a'}, '.2.': {0: 'b'}, '1': {0: 'c'}},\n",
       "             21: {'222': {0: 'a', 1: 'b', 2: 'c', 3: 'd'},\n",
       "              '2..': {0: 'e', 1: 'f'},\n",
       "              '.2.': {0: 'g', 1: 'h'},\n",
       "              '..2': {0: 'i', 1: 'j', 2: 'k'},\n",
       "              '1': {0: 'l'}},\n",
       "             22: {'222': {0: 'a', 1: 'b', 2: 'c', 3: 'd'},\n",
       "              '2..': {0: 'e', 1: 'j'},\n",
       "              '.2.': {0: 'f', 1: 'i'},\n",
       "              '..2': {0: 'g', 1: 'h'},\n",
       "              '1': {0: 'k'}},\n",
       "             23: {'222': {0: 'a', 1: 'b', 2: 'c', 3: 'd'},\n",
       "              '2..': {0: 'e', 1: 'f'},\n",
       "              '.2.': {0: 'g', 1: 'h'},\n",
       "              '..2': {0: 'i', 1: 'j'},\n",
       "              '1': {0: 'k'}},\n",
       "             24: {'2..': {0: 'a'},\n",
       "              '.2.': {0: 'b'},\n",
       "              '..2': {0: 'c'},\n",
       "              '1': {0: 'd'}},\n",
       "             25: {'mm2': {0: 'a', 1: 'b', 2: 'c', 3: 'd'},\n",
       "              '.m.': {0: 'e', 1: 'f'},\n",
       "              'm..': {0: 'g', 1: 'h'},\n",
       "              '1': {0: 'i'}},\n",
       "             26: {'m..': {0: 'a', 1: 'b'}, '1': {0: 'c'}},\n",
       "             27: {'..2': {0: 'a', 1: 'b', 2: 'c', 3: 'd'}, '1': {0: 'e'}},\n",
       "             28: {'..2': {0: 'a', 1: 'b'}, 'm..': {0: 'c'}, '1': {0: 'd'}},\n",
       "             29: {'1': {0: 'a'}},\n",
       "             30: {'..2': {0: 'a', 1: 'b'}, '1': {0: 'c'}},\n",
       "             31: {'m..': {0: 'a'}, '1': {0: 'b'}},\n",
       "             32: {'..2': {0: 'a', 1: 'b'}, '1': {0: 'c'}},\n",
       "             33: {'1': {0: 'a'}},\n",
       "             34: {'..2': {0: 'a', 1: 'b'}, '1': {0: 'c'}},\n",
       "             35: {'mm2': {0: 'a', 1: 'b'},\n",
       "              '..2': {0: 'c'},\n",
       "              '.m.': {0: 'd'},\n",
       "              'm..': {0: 'e'},\n",
       "              '1': {0: 'f'}},\n",
       "             36: {'m..': {0: 'a'}, '1': {0: 'b'}},\n",
       "             37: {'..2': {0: 'a', 1: 'b', 2: 'c'}, '1': {0: 'd'}},\n",
       "             38: {'mm2': {0: 'a', 1: 'b'},\n",
       "              '.m.': {0: 'c'},\n",
       "              'm..': {0: 'd', 1: 'e'},\n",
       "              '1': {0: 'f'}},\n",
       "             39: {'..2': {0: 'a', 1: 'b'}, '.m.': {0: 'c'}, '1': {0: 'd'}},\n",
       "             40: {'..2': {0: 'a'}, 'm..': {0: 'b'}, '1': {0: 'c'}},\n",
       "             41: {'..2': {0: 'a'}, '1': {0: 'b'}},\n",
       "             42: {'mm2': {0: 'a'},\n",
       "              '..2': {0: 'b'},\n",
       "              'm..': {0: 'c'},\n",
       "              '.m.': {0: 'd'},\n",
       "              '1': {0: 'e'}},\n",
       "             43: {'..2': {0: 'a'}, '1': {0: 'b'}},\n",
       "             44: {'mm2': {0: 'a', 1: 'b'},\n",
       "              '.m.': {0: 'c'},\n",
       "              'm..': {0: 'd'},\n",
       "              '1': {0: 'e'}},\n",
       "             45: {'..2': {0: 'a', 1: 'b'}, '1': {0: 'c'}},\n",
       "             46: {'..2': {0: 'a'}, 'm..': {0: 'b'}, '1': {0: 'c'}},\n",
       "             47: {'mmm': {0: 'a',\n",
       "               1: 'b',\n",
       "               2: 'c',\n",
       "               3: 'd',\n",
       "               4: 'e',\n",
       "               5: 'f',\n",
       "               6: 'g',\n",
       "               7: 'h'},\n",
       "              '2mm': {0: 'i', 1: 'j', 2: 'k', 3: 'l'},\n",
       "              'm2m': {0: 'm', 1: 'n', 2: 'o', 3: 'p'},\n",
       "              'mm2': {0: 'q', 1: 'r', 2: 's', 3: 't'},\n",
       "              'm..': {0: 'u', 1: 'v'},\n",
       "              '.m.': {0: 'w', 1: 'x'},\n",
       "              '..m': {0: 'y', 1: 'z'},\n",
       "              '1': {0: 'A'}},\n",
       "             48: {'222': {0: 'a', 1: 'b', 2: 'c', 3: 'd'},\n",
       "              '-1': {0: 'e', 1: 'f'},\n",
       "              '2..': {0: 'g', 1: 'h'},\n",
       "              '.2.': {0: 'i', 1: 'j'},\n",
       "              '..2': {0: 'k', 1: 'l'},\n",
       "              '1': {0: 'm'}},\n",
       "             49: {'..2/m': {0: 'a', 1: 'b', 2: 'c', 3: 'd'},\n",
       "              '222': {0: 'e', 1: 'f', 2: 'g', 3: 'h'},\n",
       "              '2..': {0: 'i', 1: 'j'},\n",
       "              '.2.': {0: 'k', 1: 'l'},\n",
       "              '..2': {0: 'm', 1: 'n', 2: 'o', 3: 'p'},\n",
       "              '..m': {0: 'q'},\n",
       "              '1': {0: 'r'}},\n",
       "             50: {'222': {0: 'a', 1: 'b', 2: 'c', 3: 'd'},\n",
       "              '-1': {0: 'e', 1: 'f'},\n",
       "              '2..': {0: 'g', 1: 'h'},\n",
       "              '.2.': {0: 'i', 1: 'j'},\n",
       "              '..2': {0: 'k', 1: 'l'},\n",
       "              '1': {0: 'm'}},\n",
       "             51: {'.2/m.': {0: 'a', 1: 'b', 2: 'c', 3: 'd'},\n",
       "              'mm2': {0: 'e', 1: 'f'},\n",
       "              '.2.': {0: 'g', 1: 'h'},\n",
       "              '.m.': {0: 'i', 1: 'j'},\n",
       "              'm..': {0: 'k'},\n",
       "              '1': {0: 'l'}},\n",
       "             52: {'-1': {0: 'a', 1: 'b'},\n",
       "              '..2': {0: 'c'},\n",
       "              '2..': {0: 'd'},\n",
       "              '1': {0: 'e'}},\n",
       "             53: {'2/m..': {0: 'a', 1: 'b', 2: 'c', 3: 'd'},\n",
       "              '2..': {0: 'e', 1: 'f'},\n",
       "              '.2.': {0: 'g'},\n",
       "              'm..': {0: 'h'},\n",
       "              '1': {0: 'i'}},\n",
       "             54: {'-1': {0: 'a', 1: 'b'},\n",
       "              '.2.': {0: 'c'},\n",
       "              '..2': {0: 'd', 1: 'e'},\n",
       "              '1': {0: 'f'}},\n",
       "             55: {'..2/m': {0: 'a', 1: 'b', 2: 'c', 3: 'd'},\n",
       "              '..2': {0: 'e', 1: 'f'},\n",
       "              '..m': {0: 'g', 1: 'h'},\n",
       "              '1': {0: 'i'}},\n",
       "             56: {'-1': {0: 'a', 1: 'b'},\n",
       "              '..2': {0: 'c', 1: 'd'},\n",
       "              '1': {0: 'e'}},\n",
       "             57: {'-1': {0: 'a', 1: 'b'},\n",
       "              '2..': {0: 'c'},\n",
       "              '..m': {0: 'd'},\n",
       "              '1': {0: 'e'}},\n",
       "             58: {'..2/m': {0: 'a', 1: 'b', 2: 'c', 3: 'd'},\n",
       "              '..2': {0: 'e', 1: 'f'},\n",
       "              '..m': {0: 'g'},\n",
       "              '1': {0: 'h'}},\n",
       "             59: {'mm2': {0: 'a', 1: 'b'},\n",
       "              '-1': {0: 'c', 1: 'd'},\n",
       "              'm..': {0: 'e'},\n",
       "              '.m.': {0: 'f'},\n",
       "              '1': {0: 'g'}},\n",
       "             60: {'-1': {0: 'a', 1: 'b'}, '.2.': {0: 'c'}, '1': {0: 'd'}},\n",
       "             61: {'-1': {0: 'a', 1: 'b'}, '1': {0: 'c'}},\n",
       "             62: {'-1': {0: 'a', 1: 'b'}, '.m.': {0: 'c'}, '1': {0: 'd'}},\n",
       "             63: {'2/m..': {0: 'a', 1: 'b'},\n",
       "              'm2m': {0: 'c'},\n",
       "              '-1': {0: 'd'},\n",
       "              '2..': {0: 'e'},\n",
       "              'm..': {0: 'f'},\n",
       "              '..m': {0: 'g'},\n",
       "              '1': {0: 'h'}},\n",
       "             64: {'2/m..': {0: 'a', 1: 'b'},\n",
       "              '-1': {0: 'c'},\n",
       "              '2..': {0: 'd'},\n",
       "              '.2.': {0: 'e'},\n",
       "              'm..': {0: 'f'},\n",
       "              '1': {0: 'g'}},\n",
       "             65: {'mmm': {0: 'a', 1: 'b', 2: 'c', 3: 'd'},\n",
       "              '..2/m': {0: 'e', 1: 'f'},\n",
       "              '2mm': {0: 'g', 1: 'h'},\n",
       "              'm2m': {0: 'i', 1: 'j'},\n",
       "              'mm2': {0: 'k', 1: 'l'},\n",
       "              '..2': {0: 'm'},\n",
       "              'm..': {0: 'n'},\n",
       "              '.m.': {0: 'o'},\n",
       "              '..m': {0: 'p', 1: 'q'},\n",
       "              '1': {0: 'r'}},\n",
       "             66: {'222': {0: 'a', 1: 'b'},\n",
       "              '..2/m': {0: 'c', 1: 'd', 2: 'e', 3: 'f'},\n",
       "              '2..': {0: 'g'},\n",
       "              '.2.': {0: 'h'},\n",
       "              '..2': {0: 'i', 1: 'j', 2: 'k'},\n",
       "              '..m': {0: 'l'},\n",
       "              '1': {0: 'm'}},\n",
       "             67: {'222': {0: 'a', 1: 'b'},\n",
       "              '2/m..': {0: 'c', 1: 'd'},\n",
       "              '.2/m.': {0: 'e', 1: 'f'},\n",
       "              'mm2': {0: 'g'},\n",
       "              '2..': {0: 'h', 1: 'i'},\n",
       "              '.2.': {0: 'j', 1: 'k'},\n",
       "              '..2': {0: 'l'},\n",
       "              'm..': {0: 'm'},\n",
       "              '.m.': {0: 'n'},\n",
       "              '1': {0: 'o'}},\n",
       "             68: {'222': {0: 'a', 1: 'b'},\n",
       "              '-1': {0: 'c', 1: 'd'},\n",
       "              '2..': {0: 'e'},\n",
       "              '.2.': {0: 'f'},\n",
       "              '..2': {0: 'g', 1: 'h'},\n",
       "              '1': {0: 'i'}},\n",
       "             69: {'mmm': {0: 'a', 1: 'b'},\n",
       "              '2/m..': {0: 'c'},\n",
       "              '.2/m.': {0: 'd'},\n",
       "              '..2/m': {0: 'e'},\n",
       "              '222': {0: 'f'},\n",
       "              '2mm': {0: 'g'},\n",
       "              'm2m': {0: 'h'},\n",
       "              'mm2': {0: 'i'},\n",
       "              '..2': {0: 'j'},\n",
       "              '.2.': {0: 'k'},\n",
       "              '2..': {0: 'l'},\n",
       "              'm..': {0: 'm'},\n",
       "              '.m.': {0: 'n'},\n",
       "              '..m': {0: 'o'},\n",
       "              '1': {0: 'p'}},\n",
       "             70: {'222': {0: 'a', 1: 'b'},\n",
       "              '-1': {0: 'c', 1: 'd'},\n",
       "              '2..': {0: 'e'},\n",
       "              '.2.': {0: 'f'},\n",
       "              '..2': {0: 'g'},\n",
       "              '1': {0: 'h'}},\n",
       "             71: {'mmm': {0: 'a', 1: 'b', 2: 'c', 3: 'd'},\n",
       "              '2mm': {0: 'e', 1: 'f'},\n",
       "              'm2m': {0: 'g', 1: 'h'},\n",
       "              'mm2': {0: 'i', 1: 'j'},\n",
       "              '-1': {0: 'k'},\n",
       "              'm..': {0: 'l'},\n",
       "              '.m.': {0: 'm'},\n",
       "              '..m': {0: 'n'},\n",
       "              '1': {0: 'o'}},\n",
       "             72: {'222': {0: 'a', 1: 'b'},\n",
       "              '..2/m': {0: 'c', 1: 'd'},\n",
       "              '-1': {0: 'e'},\n",
       "              '2..': {0: 'f'},\n",
       "              '.2.': {0: 'g'},\n",
       "              '..2': {0: 'h', 1: 'i'},\n",
       "              '..m': {0: 'j'},\n",
       "              '1': {0: 'k'}},\n",
       "             73: {'-1': {0: 'a', 1: 'b'},\n",
       "              '2..': {0: 'c'},\n",
       "              '.2.': {0: 'd'},\n",
       "              '..2': {0: 'e'},\n",
       "              '1': {0: 'f'}},\n",
       "             74: {'2/m..': {0: 'a', 1: 'b'},\n",
       "              '.2/m.': {0: 'c', 1: 'd'},\n",
       "              'mm2': {0: 'e'},\n",
       "              '2..': {0: 'f'},\n",
       "              '.2.': {0: 'g'},\n",
       "              'm..': {0: 'h'},\n",
       "              '.m.': {0: 'i'},\n",
       "              '1': {0: 'j'}},\n",
       "             75: {'4..': {0: 'a', 1: 'b'}, '2..': {0: 'c'}, '1': {0: 'd'}},\n",
       "             76: {'1': {0: 'a'}},\n",
       "             77: {'2..': {0: 'a', 1: 'b', 2: 'c'}, '1': {0: 'd'}},\n",
       "             78: {'1': {0: 'a'}},\n",
       "             79: {'4..': {0: 'a'}, '2..': {0: 'b'}, '1': {0: 'c'}},\n",
       "             80: {'2..': {0: 'a'}, '1': {0: 'b'}},\n",
       "             81: {'-4..': {0: 'a', 1: 'b', 2: 'c', 3: 'd'},\n",
       "              '2..': {0: 'e', 1: 'f', 2: 'g'},\n",
       "              '1': {0: 'h'}},\n",
       "             82: {'-4..': {0: 'a', 1: 'b', 2: 'c', 3: 'd'},\n",
       "              '2..': {0: 'e', 1: 'f'},\n",
       "              '1': {0: 'g'}},\n",
       "             83: {'4/m..': {0: 'a', 1: 'b', 2: 'c', 3: 'd'},\n",
       "              '2/m..': {0: 'e', 1: 'f'},\n",
       "              '4..': {0: 'g', 1: 'h'},\n",
       "              '2..': {0: 'i'},\n",
       "              'm..': {0: 'j', 1: 'k'},\n",
       "              '1': {0: 'l'}},\n",
       "             84: {'2/m..': {0: 'a', 1: 'b', 2: 'c', 3: 'd'},\n",
       "              '-4..': {0: 'e', 1: 'f'},\n",
       "              '2..': {0: 'g', 1: 'h', 2: 'i'},\n",
       "              'm..': {0: 'j'},\n",
       "              '1': {0: 'k'}},\n",
       "             85: {'-4..': {0: 'a', 1: 'b'},\n",
       "              '4..': {0: 'c'},\n",
       "              '-1': {0: 'd', 1: 'e'},\n",
       "              '2..': {0: 'f'},\n",
       "              '1': {0: 'g'}},\n",
       "             86: {'-4..': {0: 'a', 1: 'b'},\n",
       "              '-1': {0: 'c', 1: 'd'},\n",
       "              '2..': {0: 'e', 1: 'f'},\n",
       "              '1': {0: 'g'}},\n",
       "             87: {'4/m..': {0: 'a', 1: 'b'},\n",
       "              '2/m..': {0: 'c'},\n",
       "              '-4..': {0: 'd'},\n",
       "              '4..': {0: 'e'},\n",
       "              '-1': {0: 'f'},\n",
       "              '2..': {0: 'g'},\n",
       "              'm..': {0: 'h'},\n",
       "              '1': {0: 'i'}},\n",
       "             88: {'-4..': {0: 'a', 1: 'b'},\n",
       "              '-1': {0: 'c', 1: 'd'},\n",
       "              '2..': {0: 'e'},\n",
       "              '1': {0: 'f'}},\n",
       "             89: {'422': {0: 'a', 1: 'b', 2: 'c', 3: 'd'},\n",
       "              '222.': {0: 'e', 1: 'f'},\n",
       "              '4..': {0: 'g', 1: 'h'},\n",
       "              '2..': {0: 'i'},\n",
       "              '..2': {0: 'j', 1: 'k'},\n",
       "              '.2.': {0: 'l', 1: 'm', 2: 'n', 3: 'o'},\n",
       "              '1': {0: 'p'}},\n",
       "             90: {'2.22': {0: 'a', 1: 'b'},\n",
       "              '4..': {0: 'c'},\n",
       "              '2..': {0: 'd'},\n",
       "              '..2': {0: 'e', 1: 'f'},\n",
       "              '1': {0: 'g'}},\n",
       "             91: {'.2.': {0: 'a', 1: 'b'}, '..2': {0: 'c'}, '1': {0: 'd'}},\n",
       "             92: {'..2': {0: 'a'}, '1': {0: 'b'}},\n",
       "             93: {'222.': {0: 'a', 1: 'b', 2: 'c', 3: 'd'},\n",
       "              '2.22': {0: 'e', 1: 'f'},\n",
       "              '2..': {0: 'g', 1: 'h', 2: 'i'},\n",
       "              '.2.': {0: 'j', 1: 'k', 2: 'l', 3: 'm'},\n",
       "              '..2': {0: 'n', 1: 'o'},\n",
       "              '1': {0: 'p'}},\n",
       "             94: {'2.22': {0: 'a', 1: 'b'},\n",
       "              '2..': {0: 'c', 1: 'd'},\n",
       "              '..2': {0: 'e', 1: 'f'},\n",
       "              '1': {0: 'g'}},\n",
       "             95: {'.2.': {0: 'a', 1: 'b'}, '..2': {0: 'c'}, '1': {0: 'd'}},\n",
       "             96: {'..2': {0: 'a'}, '1': {0: 'b'}},\n",
       "             97: {'422': {0: 'a', 1: 'b'},\n",
       "              '222.': {0: 'c'},\n",
       "              '2.22': {0: 'd'},\n",
       "              '4..': {0: 'e'},\n",
       "              '2..': {0: 'f'},\n",
       "              '..2': {0: 'g', 1: 'j'},\n",
       "              '.2.': {0: 'h', 1: 'i'},\n",
       "              '1': {0: 'k'}},\n",
       "             98: {'2.22': {0: 'a', 1: 'b'},\n",
       "              '2..': {0: 'c'},\n",
       "              '..2': {0: 'd', 1: 'e'},\n",
       "              '.2.': {0: 'f'},\n",
       "              '1': {0: 'g'}},\n",
       "             99: {'4mm': {0: 'a', 1: 'b'},\n",
       "              '2mm.': {0: 'c'},\n",
       "              '..m': {0: 'd'},\n",
       "              '.m.': {0: 'e', 1: 'f'},\n",
       "              '1': {0: 'g'}},\n",
       "             100: {'4..': {0: 'a'},\n",
       "              '2.mm': {0: 'b'},\n",
       "              '..m': {0: 'c'},\n",
       "              '1': {0: 'd'}},\n",
       "             101: {'2.mm': {0: 'a', 1: 'b'},\n",
       "              '2..': {0: 'c'},\n",
       "              '..m': {0: 'd'},\n",
       "              '1': {0: 'e'}},\n",
       "             102: {'2.mm': {0: 'a'},\n",
       "              '2..': {0: 'b'},\n",
       "              '..m': {0: 'c'},\n",
       "              '1': {0: 'd'}},\n",
       "             103: {'4..': {0: 'a', 1: 'b'}, '2..': {0: 'c'}, '1': {0: 'd'}},\n",
       "             104: {'4..': {0: 'a'}, '2..': {0: 'b'}, '1': {0: 'c'}},\n",
       "             105: {'2mm.': {0: 'a', 1: 'b', 2: 'c'},\n",
       "              '.m.': {0: 'd', 1: 'e'},\n",
       "              '1': {0: 'f'}},\n",
       "             106: {'2..': {0: 'a', 1: 'b'}, '1': {0: 'c'}},\n",
       "             107: {'4mm': {0: 'a'},\n",
       "              '2mm.': {0: 'b'},\n",
       "              '..m': {0: 'c'},\n",
       "              '.m.': {0: 'd'},\n",
       "              '1': {0: 'e'}},\n",
       "             108: {'4..': {0: 'a'},\n",
       "              '2.mm': {0: 'b'},\n",
       "              '..m': {0: 'c'},\n",
       "              '1': {0: 'd'}},\n",
       "             109: {'2mm.': {0: 'a'}, '.m.': {0: 'b'}, '1': {0: 'c'}},\n",
       "             110: {'2..': {0: 'a'}, '1': {0: 'b'}},\n",
       "             111: {'-42m': {0: 'a', 1: 'b', 2: 'c', 3: 'd'},\n",
       "              '222.': {0: 'e', 1: 'f'},\n",
       "              '2.mm': {0: 'g', 1: 'h'},\n",
       "              '.2.': {0: 'i', 1: 'j', 2: 'k', 3: 'l'},\n",
       "              '2..': {0: 'm'},\n",
       "              '..m': {0: 'n'},\n",
       "              '1': {0: 'o'}},\n",
       "             112: {'222.': {0: 'a', 1: 'b', 2: 'c', 3: 'd'},\n",
       "              '-4..': {0: 'e', 1: 'f'},\n",
       "              '.2.': {0: 'g', 1: 'h', 2: 'i', 3: 'j'},\n",
       "              '2..': {0: 'k', 1: 'l', 2: 'm'},\n",
       "              '1': {0: 'n'}},\n",
       "             113: {'-4..': {0: 'a', 1: 'b'},\n",
       "              '2.mm': {0: 'c'},\n",
       "              '2..': {0: 'd'},\n",
       "              '..m': {0: 'e'},\n",
       "              '1': {0: 'f'}},\n",
       "             114: {'-4..': {0: 'a', 1: 'b'},\n",
       "              '2..': {0: 'c', 1: 'd'},\n",
       "              '1': {0: 'e'}},\n",
       "             115: {'-4m2': {0: 'a', 1: 'b', 2: 'c', 3: 'd'},\n",
       "              '2mm.': {0: 'e', 1: 'f', 2: 'g'},\n",
       "              '..2': {0: 'h', 1: 'i'},\n",
       "              '.m.': {0: 'j', 1: 'k'},\n",
       "              '1': {0: 'l'}},\n",
       "             116: {'2.22': {0: 'a', 1: 'b'},\n",
       "              '-4..': {0: 'c', 1: 'd'},\n",
       "              '..2': {0: 'e', 1: 'f'},\n",
       "              '2..': {0: 'g', 1: 'h', 2: 'i'},\n",
       "              '1': {0: 'j'}},\n",
       "             117: {'-4..': {0: 'a', 1: 'b'},\n",
       "              '2.22': {0: 'c', 1: 'd'},\n",
       "              '2..': {0: 'e', 1: 'f'},\n",
       "              '..2': {0: 'g', 1: 'h'},\n",
       "              '1': {0: 'i'}},\n",
       "             118: {'-4..': {0: 'a', 1: 'b'},\n",
       "              '2.22': {0: 'c', 1: 'd'},\n",
       "              '2..': {0: 'e', 1: 'h'},\n",
       "              '..2': {0: 'f', 1: 'g'},\n",
       "              '1': {0: 'i'}},\n",
       "             119: {'-4m2': {0: 'a', 1: 'b', 2: 'c', 3: 'd'},\n",
       "              '2mm.': {0: 'e', 1: 'f'},\n",
       "              '..2': {0: 'g', 1: 'h'},\n",
       "              '.m.': {0: 'i'},\n",
       "              '1': {0: 'j'}},\n",
       "             120: {'2.22': {0: 'a', 1: 'd'},\n",
       "              '-4..': {0: 'b', 1: 'c'},\n",
       "              '..2': {0: 'e', 1: 'h'},\n",
       "              '2..': {0: 'f', 1: 'g'},\n",
       "              '1': {0: 'i'}},\n",
       "             121: {'-42m': {0: 'a', 1: 'b'},\n",
       "              '222.': {0: 'c'},\n",
       "              '-4..': {0: 'd'},\n",
       "              '2.mm': {0: 'e'},\n",
       "              '.2.': {0: 'f', 1: 'g'},\n",
       "              '2..': {0: 'h'},\n",
       "              '..m': {0: 'i'},\n",
       "              '1': {0: 'j'}},\n",
       "             122: {'-4..': {0: 'a', 1: 'b'},\n",
       "              '2..': {0: 'c'},\n",
       "              '.2.': {0: 'd'},\n",
       "              '1': {0: 'e'}},\n",
       "             123: {'4/mmm': {0: 'a', 1: 'b', 2: 'c', 3: 'd'},\n",
       "              'mmm.': {0: 'e', 1: 'f'},\n",
       "              '4mm': {0: 'g', 1: 'h'},\n",
       "              '2mm.': {0: 'i'},\n",
       "              'm.2m': {0: 'j', 1: 'k'},\n",
       "              'm2m.': {0: 'l', 1: 'm', 2: 'n', 3: 'o'},\n",
       "              'm..': {0: 'p', 1: 'q'},\n",
       "              '..m': {0: 'r'},\n",
       "              '.m.': {0: 's', 1: 't'},\n",
       "              '1': {0: 'u'}},\n",
       "             124: {'422': {0: 'a', 1: 'c'},\n",
       "              '4/m..': {0: 'b', 1: 'd'},\n",
       "              '2/m..': {0: 'e'},\n",
       "              '222.': {0: 'f'},\n",
       "              '4..': {0: 'g', 1: 'h'},\n",
       "              '2..': {0: 'i'},\n",
       "              '..2': {0: 'j'},\n",
       "              '.2.': {0: 'k', 1: 'l'},\n",
       "              'm..': {0: 'm'},\n",
       "              '1': {0: 'n'}},\n",
       "             125: {'422': {0: 'a', 1: 'b'},\n",
       "              '-42m': {0: 'c', 1: 'd'},\n",
       "              '..2/m': {0: 'e', 1: 'f'},\n",
       "              '4..': {0: 'g'},\n",
       "              '2.mm': {0: 'h'},\n",
       "              '..2': {0: 'i', 1: 'j'},\n",
       "              '.2.': {0: 'k', 1: 'l'},\n",
       "              '..m': {0: 'm'},\n",
       "              '1': {0: 'n'}},\n",
       "             126: {'422': {0: 'a', 1: 'b'},\n",
       "              '222.': {0: 'c'},\n",
       "              '-4..': {0: 'd'},\n",
       "              '4..': {0: 'e'},\n",
       "              '-1': {0: 'f'},\n",
       "              '2..': {0: 'g'},\n",
       "              '..2': {0: 'h'},\n",
       "              '.2.': {0: 'i', 1: 'j'},\n",
       "              '1': {0: 'k'}},\n",
       "             127: {'4/m..': {0: 'a', 1: 'b'},\n",
       "              'm.mm': {0: 'c', 1: 'd'},\n",
       "              '4..': {0: 'e'},\n",
       "              '2.mm': {0: 'f'},\n",
       "              'm.2m': {0: 'g', 1: 'h'},\n",
       "              'm..': {0: 'i', 1: 'j'},\n",
       "              '..m': {0: 'k'},\n",
       "              '1': {0: 'l'}},\n",
       "             128: {'4/m..': {0: 'a', 1: 'b'},\n",
       "              '2/m..': {0: 'c'},\n",
       "              '2.22': {0: 'd'},\n",
       "              '4..': {0: 'e'},\n",
       "              '2..': {0: 'f'},\n",
       "              '..2': {0: 'g'},\n",
       "              'm..': {0: 'h'},\n",
       "              '1': {0: 'i'}},\n",
       "             129: {'-4m2': {0: 'a', 1: 'b'},\n",
       "              '4mm': {0: 'c'},\n",
       "              '..2/m': {0: 'd', 1: 'e'},\n",
       "              '2mm.': {0: 'f'},\n",
       "              '..2': {0: 'g', 1: 'h'},\n",
       "              '.m.': {0: 'i'},\n",
       "              '..m': {0: 'j'},\n",
       "              '1': {0: 'k'}},\n",
       "             130: {'2.22': {0: 'a'},\n",
       "              '-4..': {0: 'b'},\n",
       "              '4..': {0: 'c'},\n",
       "              '-1': {0: 'd'},\n",
       "              '2..': {0: 'e'},\n",
       "              '..2': {0: 'f'},\n",
       "              '1': {0: 'g'}},\n",
       "             131: {'mmm.': {0: 'a', 1: 'b', 2: 'c', 3: 'd'},\n",
       "              '-4m2': {0: 'e', 1: 'f'},\n",
       "              '2mm.': {0: 'g', 1: 'h', 2: 'i'},\n",
       "              'm2m.': {0: 'j', 1: 'k', 2: 'l', 3: 'm'},\n",
       "              '..2': {0: 'n'},\n",
       "              '.m.': {0: 'o', 1: 'p'},\n",
       "              'm..': {0: 'q'},\n",
       "              '1': {0: 'r'}},\n",
       "             132: {'m.mm': {0: 'a', 1: 'c'},\n",
       "              '-42m': {0: 'b', 1: 'd'},\n",
       "              '222.': {0: 'e'},\n",
       "              '2/m..': {0: 'f'},\n",
       "              '2.mm': {0: 'g', 1: 'h'},\n",
       "              'm.2m': {0: 'i', 1: 'j'},\n",
       "              '2..': {0: 'k'},\n",
       "              '.2.': {0: 'l', 1: 'm'},\n",
       "              'm..': {0: 'n'},\n",
       "              '..m': {0: 'o'},\n",
       "              '1': {0: 'p'}},\n",
       "             133: {'222.': {0: 'a', 1: 'b'},\n",
       "              '2.22': {0: 'c'},\n",
       "              '-4..': {0: 'd'},\n",
       "              '-1': {0: 'e'},\n",
       "              '2..': {0: 'f', 1: 'g'},\n",
       "              '.2.': {0: 'h', 1: 'i'},\n",
       "              '..2': {0: 'j'},\n",
       "              '1': {0: 'k'}},\n",
       "             134: {'-42m': {0: 'a', 1: 'b'},\n",
       "              '222.': {0: 'c'},\n",
       "              '2.22': {0: 'd'},\n",
       "              '..2/m': {0: 'e', 1: 'f'},\n",
       "              '2.mm': {0: 'g'},\n",
       "              '2..': {0: 'h'},\n",
       "              '.2.': {0: 'i', 1: 'j'},\n",
       "              '..2': {0: 'k', 1: 'l'},\n",
       "              '..m': {0: 'm'},\n",
       "              '1': {0: 'n'}},\n",
       "             135: {'2/m..': {0: 'a', 1: 'c'},\n",
       "              '-4..': {0: 'b'},\n",
       "              '2.22': {0: 'd'},\n",
       "              '2..': {0: 'e', 1: 'f'},\n",
       "              '..2': {0: 'g'},\n",
       "              'm..': {0: 'h'},\n",
       "              '1': {0: 'i'}},\n",
       "             136: {'m.mm': {0: 'a', 1: 'b'},\n",
       "              '2/m..': {0: 'c'},\n",
       "              '-4..': {0: 'd'},\n",
       "              '2.mm': {0: 'e'},\n",
       "              'm.2m': {0: 'f', 1: 'g'},\n",
       "              '2..': {0: 'h'},\n",
       "              'm..': {0: 'i'},\n",
       "              '..m': {0: 'j'},\n",
       "              '1': {0: 'k'}},\n",
       "             137: {'-4m2': {0: 'a', 1: 'b'},\n",
       "              '2mm.': {0: 'c', 1: 'd'},\n",
       "              '-1': {0: 'e'},\n",
       "              '..2': {0: 'f'},\n",
       "              '.m.': {0: 'g'},\n",
       "              '1': {0: 'h'}},\n",
       "             138: {'2.22': {0: 'a'},\n",
       "              '-4..': {0: 'b'},\n",
       "              '..2/m': {0: 'c', 1: 'd'},\n",
       "              '2.mm': {0: 'e'},\n",
       "              '2..': {0: 'f'},\n",
       "              '..2': {0: 'g', 1: 'h'},\n",
       "              '..m': {0: 'i'},\n",
       "              '1': {0: 'j'}},\n",
       "             139: {'4/mmm': {0: 'a', 1: 'b'},\n",
       "              'mmm.': {0: 'c'},\n",
       "              '-4m2': {0: 'd'},\n",
       "              '4mm': {0: 'e'},\n",
       "              '..2/m': {0: 'f'},\n",
       "              '2mm.': {0: 'g'},\n",
       "              'm.2m': {0: 'h'},\n",
       "              'm2m.': {0: 'i', 1: 'j'},\n",
       "              '..2': {0: 'k'},\n",
       "              'm..': {0: 'l'},\n",
       "              '..m': {0: 'm'},\n",
       "              '.m.': {0: 'n'},\n",
       "              '1': {0: 'o'}},\n",
       "             140: {'422': {0: 'a'},\n",
       "              '-42m': {0: 'b'},\n",
       "              '4/m..': {0: 'c'},\n",
       "              'm.mm': {0: 'd'},\n",
       "              '..2/m': {0: 'e'},\n",
       "              '4..': {0: 'f'},\n",
       "              '2.mm': {0: 'g'},\n",
       "              'm.2m': {0: 'h'},\n",
       "              '..2': {0: 'i'},\n",
       "              '.2.': {0: 'j'},\n",
       "              'm..': {0: 'k'},\n",
       "              '..m': {0: 'l'},\n",
       "              '1': {0: 'm'}},\n",
       "             141: {'-4m2': {0: 'a', 1: 'b'},\n",
       "              '.2/m.': {0: 'c', 1: 'd'},\n",
       "              '2mm.': {0: 'e'},\n",
       "              '.2.': {0: 'f'},\n",
       "              '..2': {0: 'g'},\n",
       "              '.m.': {0: 'h'},\n",
       "              '1': {0: 'i'}},\n",
       "             142: {'-4..': {0: 'a'},\n",
       "              '2.22': {0: 'b'},\n",
       "              '-1': {0: 'c'},\n",
       "              '2..': {0: 'd'},\n",
       "              '.2.': {0: 'e'},\n",
       "              '..2': {0: 'f'},\n",
       "              '1': {0: 'g'}},\n",
       "             143: {'3..': {0: 'a', 1: 'b', 2: 'c'}, '1': {0: 'd'}},\n",
       "             144: {'1': {0: 'a'}},\n",
       "             145: {'1': {0: 'a'}},\n",
       "             146: {'3.': {0: 'a'}, '1': {0: 'b'}},\n",
       "             147: {'-3..': {0: 'a', 1: 'b'},\n",
       "              '3..': {0: 'c', 1: 'd'},\n",
       "              '-1': {0: 'e', 1: 'f'},\n",
       "              '1': {0: 'g'}},\n",
       "             148: {'-3.': {0: 'a', 1: 'b'},\n",
       "              '3.': {0: 'c'},\n",
       "              '-1': {0: 'd', 1: 'e'},\n",
       "              '1': {0: 'f'}},\n",
       "             149: {'322': {0: 'a', 1: 'b', 2: 'c', 3: 'd', 4: 'e', 5: 'f'},\n",
       "              '3..': {0: 'g', 1: 'h', 2: 'i'},\n",
       "              '..2': {0: 'j', 1: 'k'},\n",
       "              '1': {0: 'l'}},\n",
       "             150: {'32.': {0: 'a', 1: 'b'},\n",
       "              '3..': {0: 'c', 1: 'd'},\n",
       "              '1': {0: 'e', 1: 'f', 2: 'g'}},\n",
       "             151: {'..2': {0: 'a', 1: 'b'}, '1': {0: 'c'}},\n",
       "             152: {'1': {0: 'a', 1: 'b', 2: 'c'}},\n",
       "             153: {'..2': {0: 'a', 1: 'b'}, '1': {0: 'c'}},\n",
       "             154: {'1': {0: 'a', 1: 'b', 2: 'c'}},\n",
       "             155: {'32': {0: 'a', 1: 'b'},\n",
       "              '3.': {0: 'c'},\n",
       "              '1': {0: 'd', 1: 'e', 2: 'f'}},\n",
       "             156: {'3m.': {0: 'a', 1: 'b', 2: 'c'},\n",
       "              '.m.': {0: 'd'},\n",
       "              '1': {0: 'e'}},\n",
       "             157: {'3mm': {0: 'a'},\n",
       "              '3..': {0: 'b'},\n",
       "              '.m.': {0: 'c'},\n",
       "              '1': {0: 'd'}},\n",
       "             158: {'3..': {0: 'a', 1: 'b', 2: 'c'}, '1': {0: 'd'}},\n",
       "             159: {'3..': {0: 'a', 1: 'b'}, '1': {0: 'c'}},\n",
       "             160: {'3m': {0: 'a'}, '.m': {0: 'b'}, '1': {0: 'c'}},\n",
       "             161: {'3.': {0: 'a'}, '1': {0: 'b'}},\n",
       "             162: {'-3m2/m': {0: 'a', 1: 'b'},\n",
       "              '322': {0: 'c', 1: 'd'},\n",
       "              '3mm': {0: 'e'},\n",
       "              '.2/m.': {0: 'f', 1: 'g'},\n",
       "              '3..': {0: 'h'},\n",
       "              '..2': {0: 'i', 1: 'j'},\n",
       "              '.m.': {0: 'k'},\n",
       "              '1': {0: 'l'}},\n",
       "             163: {'322': {0: 'a', 1: 'c', 2: 'd'},\n",
       "              '-3..': {0: 'b'},\n",
       "              '3..': {0: 'e', 1: 'f'},\n",
       "              '-1': {0: 'g'},\n",
       "              '..2': {0: 'h'},\n",
       "              '1': {0: 'i'}},\n",
       "             164: {'-32/m.': {0: 'a', 1: 'b'},\n",
       "              '3m.': {0: 'c', 1: 'd'},\n",
       "              '-1': {0: 'e', 1: 'f'},\n",
       "              '1': {0: 'g', 1: 'h', 2: 'j'},\n",
       "              '.m.': {0: 'i'}},\n",
       "             165: {'32.': {0: 'a'},\n",
       "              '-3..': {0: 'b'},\n",
       "              '3..': {0: 'c', 1: 'd'},\n",
       "              '-1': {0: 'e'},\n",
       "              '1': {0: 'f', 1: 'g'}},\n",
       "             166: {'-32/m': {0: 'a', 1: 'b'},\n",
       "              '3m': {0: 'c'},\n",
       "              '-1': {0: 'd', 1: 'e'},\n",
       "              '1': {0: 'f', 1: 'g', 2: 'i'},\n",
       "              '.m': {0: 'h'}},\n",
       "             167: {'32': {0: 'a'},\n",
       "              '-3.': {0: 'b'},\n",
       "              '3.': {0: 'c'},\n",
       "              '-1': {0: 'd'},\n",
       "              '1': {0: 'e', 1: 'f'}},\n",
       "             168: {'6..': {0: 'a'},\n",
       "              '3..': {0: 'b'},\n",
       "              '2..': {0: 'c'},\n",
       "              '1': {0: 'd'}},\n",
       "             169: {'1': {0: 'a'}},\n",
       "             170: {'1': {0: 'a'}},\n",
       "             171: {'2..': {0: 'a', 1: 'b'}, '1': {0: 'c'}},\n",
       "             172: {'2..': {0: 'a', 1: 'b'}, '1': {0: 'c'}},\n",
       "             173: {'3..': {0: 'a', 1: 'b'}, '1': {0: 'c'}},\n",
       "             174: {'-6..': {0: 'a', 1: 'b', 2: 'c', 3: 'd', 4: 'e', 5: 'f'},\n",
       "              '3..': {0: 'g', 1: 'h', 2: 'i'},\n",
       "              'm..': {0: 'j', 1: 'k'},\n",
       "              '1': {0: 'l'}},\n",
       "             175: {'6/m..': {0: 'a', 1: 'b'},\n",
       "              '-6..': {0: 'c', 1: 'd'},\n",
       "              '6..': {0: 'e'},\n",
       "              '2/m..': {0: 'f', 1: 'g'},\n",
       "              '3..': {0: 'h'},\n",
       "              '2..': {0: 'i'},\n",
       "              'm..': {0: 'j', 1: 'k'},\n",
       "              '1': {0: 'l'}},\n",
       "             176: {'-6..': {0: 'a', 1: 'c', 2: 'd'},\n",
       "              '-3..': {0: 'b'},\n",
       "              '3..': {0: 'e', 1: 'f'},\n",
       "              '-1': {0: 'g'},\n",
       "              'm..': {0: 'h'},\n",
       "              '1': {0: 'i'}},\n",
       "             177: {'622': {0: 'a', 1: 'b'},\n",
       "              '322': {0: 'c', 1: 'd'},\n",
       "              '6..': {0: 'e'},\n",
       "              '22.': {0: 'f', 1: 'g'},\n",
       "              '3..': {0: 'h'},\n",
       "              '2..': {0: 'i'},\n",
       "              '1': {0: 'j', 1: 'k', 2: 'n'},\n",
       "              '..2': {0: 'l', 1: 'm'}},\n",
       "             178: {'1': {0: 'a', 1: 'c'}, '.2.': {0: 'b'}},\n",
       "             179: {'1': {0: 'a', 1: 'c'}, '.2.': {0: 'b'}},\n",
       "             180: {'22.': {0: 'a', 1: 'b', 2: 'c', 3: 'd'},\n",
       "              '2..': {0: 'e', 1: 'f'},\n",
       "              '1': {0: 'g', 1: 'h', 2: 'k'},\n",
       "              '.2.': {0: 'i', 1: 'j'}},\n",
       "             181: {'22.': {0: 'a', 1: 'b', 2: 'c', 3: 'd'},\n",
       "              '2..': {0: 'e', 1: 'f'},\n",
       "              '1': {0: 'g', 1: 'h', 2: 'k'},\n",
       "              '.2.': {0: 'i', 1: 'j'}},\n",
       "             182: {'32.': {0: 'a'},\n",
       "              '322': {0: 'b', 1: 'c', 2: 'd'},\n",
       "              '3..': {0: 'e', 1: 'f'},\n",
       "              '1': {0: 'g', 1: 'i'},\n",
       "              '.2.': {0: 'h'}},\n",
       "             183: {'6mm': {0: 'a'},\n",
       "              '3m.': {0: 'b'},\n",
       "              '2m.': {0: 'c'},\n",
       "              '.m.': {0: 'd', 1: 'e'},\n",
       "              '1': {0: 'f'}},\n",
       "             184: {'6..': {0: 'a'},\n",
       "              '3..': {0: 'b'},\n",
       "              '2..': {0: 'c'},\n",
       "              '1': {0: 'd'}},\n",
       "             185: {'3mm': {0: 'a'},\n",
       "              '3..': {0: 'b'},\n",
       "              '.m.': {0: 'c'},\n",
       "              '1': {0: 'd'}},\n",
       "             186: {'3m.': {0: 'a', 1: 'b'}, '.m.': {0: 'c'}, '1': {0: 'd'}},\n",
       "             187: {'-622m2': {0: 'a', 1: 'b', 2: 'c', 3: 'd', 4: 'e', 5: 'f'},\n",
       "              '3m.': {0: 'g', 1: 'h', 2: 'i'},\n",
       "              'mm2': {0: 'j', 1: 'k'},\n",
       "              'm..': {0: 'l', 1: 'm'},\n",
       "              '.m.': {0: 'n'},\n",
       "              '1': {0: 'o'}},\n",
       "             188: {'322': {0: 'a', 1: 'c', 2: 'e'},\n",
       "              '-6..': {0: 'b', 1: 'd', 2: 'f'},\n",
       "              '3..': {0: 'g', 1: 'h', 2: 'i'},\n",
       "              '..2': {0: 'j'},\n",
       "              'm..': {0: 'k'},\n",
       "              '1': {0: 'l'}},\n",
       "             189: {'-6mm2m': {0: 'a', 1: 'b'},\n",
       "              '-6..': {0: 'c', 1: 'd'},\n",
       "              '3mm': {0: 'e'},\n",
       "              'mm.': {0: 'f', 1: 'g'},\n",
       "              '3..': {0: 'h'},\n",
       "              '.m.': {0: 'i'},\n",
       "              'm..': {0: 'j', 1: 'k'},\n",
       "              '1': {0: 'l'}},\n",
       "             190: {'32.': {0: 'a'},\n",
       "              '-6..': {0: 'b', 1: 'c', 2: 'd'},\n",
       "              '3..': {0: 'e', 1: 'f'},\n",
       "              '1': {0: 'g', 1: 'i'},\n",
       "              'm..': {0: 'h'}},\n",
       "             191: {'6/mm2/m': {0: 'a', 1: 'b'},\n",
       "              '-622m2': {0: 'c', 1: 'd'},\n",
       "              '6mm': {0: 'e'},\n",
       "              '2/m2/m.': {0: 'f', 1: 'g'},\n",
       "              '3m.': {0: 'h'},\n",
       "              '2m.': {0: 'i'},\n",
       "              'mm.': {0: 'j', 1: 'k'},\n",
       "              'm2.': {0: 'l', 1: 'm'},\n",
       "              '.m.': {0: 'n'},\n",
       "              '1': {0: 'o', 1: 'r'},\n",
       "              'm..': {0: 'p', 1: 'q'}},\n",
       "             192: {'622': {0: 'a'},\n",
       "              '6/m..': {0: 'b'},\n",
       "              '322': {0: 'c'},\n",
       "              '-6..': {0: 'd'},\n",
       "              '6..': {0: 'e'},\n",
       "              '22.': {0: 'f'},\n",
       "              '2/m..': {0: 'g'},\n",
       "              '3..': {0: 'h'},\n",
       "              '2..': {0: 'i'},\n",
       "              '1': {0: 'j', 1: 'm'},\n",
       "              '.2.': {0: 'k'},\n",
       "              'm..': {0: 'l'}},\n",
       "             193: {'-6mm2m': {0: 'a'},\n",
       "              '-3m2/m': {0: 'b'},\n",
       "              '-6..': {0: 'c'},\n",
       "              '322': {0: 'd'},\n",
       "              '3mm': {0: 'e'},\n",
       "              '.2/m.': {0: 'f'},\n",
       "              'mm.': {0: 'g'},\n",
       "              '3..': {0: 'h'},\n",
       "              '.2.': {0: 'i'},\n",
       "              'm..': {0: 'j'},\n",
       "              '.m.': {0: 'k'},\n",
       "              '1': {0: 'l'}},\n",
       "             194: {'-32/m.': {0: 'a'},\n",
       "              '-622m2': {0: 'b', 1: 'c', 2: 'd'},\n",
       "              '3m.': {0: 'e', 1: 'f'},\n",
       "              '-1': {0: 'g'},\n",
       "              'm2.': {0: 'h'},\n",
       "              '1': {0: 'i', 1: 'k', 2: 'l'},\n",
       "              'm..': {0: 'j'}},\n",
       "             195: {'23.': {0: 'a', 1: 'b'},\n",
       "              '222..': {0: 'c', 1: 'd'},\n",
       "              '.3.': {0: 'e'},\n",
       "              '2..': {0: 'f', 1: 'g', 2: 'h', 3: 'i'},\n",
       "              '1': {0: 'j'}},\n",
       "             196: {'23.': {0: 'a', 1: 'b', 2: 'c', 3: 'd'},\n",
       "              '.3.': {0: 'e'},\n",
       "              '2..': {0: 'f', 1: 'g'},\n",
       "              '1': {0: 'h'}},\n",
       "             197: {'23.': {0: 'a'},\n",
       "              '222..': {0: 'b'},\n",
       "              '.3.': {0: 'c'},\n",
       "              '2..': {0: 'd', 1: 'e'},\n",
       "              '1': {0: 'f'}},\n",
       "             198: {'.3.': {0: 'a'}, '1': {0: 'b'}},\n",
       "             199: {'.3.': {0: 'a'}, '2..': {0: 'b'}, '1': {0: 'c'}},\n",
       "             200: {'m-3.': {0: 'a', 1: 'b'},\n",
       "              'mmm..': {0: 'c', 1: 'd'},\n",
       "              'mm2..': {0: 'e', 1: 'f', 2: 'g', 3: 'h'},\n",
       "              '.3.': {0: 'i'},\n",
       "              'm..': {0: 'j', 1: 'k'},\n",
       "              '1': {0: 'l'}},\n",
       "             201: {'23.': {0: 'a'},\n",
       "              '.-3.': {0: 'b', 1: 'c'},\n",
       "              '222..': {0: 'd'},\n",
       "              '.3.': {0: 'e'},\n",
       "              '2..': {0: 'f', 1: 'g'},\n",
       "              '1': {0: 'h'}},\n",
       "             202: {'m-3.': {0: 'a', 1: 'b'},\n",
       "              '23.': {0: 'c'},\n",
       "              '2/m..': {0: 'd'},\n",
       "              'mm2..': {0: 'e'},\n",
       "              '.3.': {0: 'f'},\n",
       "              '2..': {0: 'g'},\n",
       "              'm..': {0: 'h'},\n",
       "              '1': {0: 'i'}},\n",
       "             203: {'23.': {0: 'a', 1: 'b'},\n",
       "              '.-3.': {0: 'c', 1: 'd'},\n",
       "              '.3.': {0: 'e'},\n",
       "              '2..': {0: 'f'},\n",
       "              '1': {0: 'g'}},\n",
       "             204: {'m-3.': {0: 'a'},\n",
       "              'mmm..': {0: 'b'},\n",
       "              '.-3.': {0: 'c'},\n",
       "              'mm2..': {0: 'd', 1: 'e'},\n",
       "              '.3.': {0: 'f'},\n",
       "              'm..': {0: 'g'},\n",
       "              '1': {0: 'h'}},\n",
       "             205: {'.-3.': {0: 'a', 1: 'b'}, '.3.': {0: 'c'}, '1': {0: 'd'}},\n",
       "             206: {'.-3.': {0: 'a', 1: 'b'},\n",
       "              '.3.': {0: 'c'},\n",
       "              '2..': {0: 'd'},\n",
       "              '1': {0: 'e'}},\n",
       "             207: {'432': {0: 'a', 1: 'b'},\n",
       "              '42.2': {0: 'c', 1: 'd'},\n",
       "              '4..': {0: 'e', 1: 'f'},\n",
       "              '.3.': {0: 'g'},\n",
       "              '2..': {0: 'h'},\n",
       "              '..2': {0: 'i', 1: 'j'},\n",
       "              '1': {0: 'k'}},\n",
       "             208: {'23.': {0: 'a'},\n",
       "              '.32': {0: 'b', 1: 'c'},\n",
       "              '222..': {0: 'd'},\n",
       "              '2.22': {0: 'e', 1: 'f'},\n",
       "              '.3.': {0: 'g'},\n",
       "              '2..': {0: 'h', 1: 'i', 2: 'j'},\n",
       "              '..2': {0: 'k', 1: 'l'},\n",
       "              '1': {0: 'm'}},\n",
       "             209: {'432': {0: 'a', 1: 'b'},\n",
       "              '23.': {0: 'c'},\n",
       "              '2.22': {0: 'd'},\n",
       "              '4..': {0: 'e'},\n",
       "              '.3.': {0: 'f'},\n",
       "              '..2': {0: 'g', 1: 'h'},\n",
       "              '2..': {0: 'i'},\n",
       "              '1': {0: 'j'}},\n",
       "             210: {'23.': {0: 'a', 1: 'b'},\n",
       "              '.32': {0: 'c', 1: 'd'},\n",
       "              '.3.': {0: 'e'},\n",
       "              '2..': {0: 'f'},\n",
       "              '..2': {0: 'g'},\n",
       "              '1': {0: 'h'}},\n",
       "             211: {'432': {0: 'a'},\n",
       "              '42.2': {0: 'b'},\n",
       "              '.32': {0: 'c'},\n",
       "              '2.22': {0: 'd'},\n",
       "              '4..': {0: 'e'},\n",
       "              '.3.': {0: 'f'},\n",
       "              '2..': {0: 'g'},\n",
       "              '..2': {0: 'h', 1: 'i'},\n",
       "              '1': {0: 'j'}},\n",
       "             212: {'.32': {0: 'a', 1: 'b'},\n",
       "              '.3.': {0: 'c'},\n",
       "              '..2': {0: 'd'},\n",
       "              '1': {0: 'e'}},\n",
       "             213: {'.32': {0: 'a', 1: 'b'},\n",
       "              '.3.': {0: 'c'},\n",
       "              '..2': {0: 'd'},\n",
       "              '1': {0: 'e'}},\n",
       "             214: {'.32': {0: 'a', 1: 'b'},\n",
       "              '2.22': {0: 'c', 1: 'd'},\n",
       "              '.3.': {0: 'e'},\n",
       "              '2..': {0: 'f'},\n",
       "              '..2': {0: 'g', 1: 'h'},\n",
       "              '1': {0: 'i'}},\n",
       "             215: {'-43m': {0: 'a', 1: 'b'},\n",
       "              '-42.m': {0: 'c', 1: 'd'},\n",
       "              '.3m': {0: 'e'},\n",
       "              '2.mm': {0: 'f', 1: 'g'},\n",
       "              '2..': {0: 'h'},\n",
       "              '..m': {0: 'i'},\n",
       "              '1': {0: 'j'}},\n",
       "             216: {'-43m': {0: 'a', 1: 'b', 2: 'c', 3: 'd'},\n",
       "              '.3m': {0: 'e'},\n",
       "              '2.mm': {0: 'f', 1: 'g'},\n",
       "              '..m': {0: 'h'},\n",
       "              '1': {0: 'i'}},\n",
       "             217: {'-43m': {0: 'a'},\n",
       "              '-42.m': {0: 'b'},\n",
       "              '.3m': {0: 'c'},\n",
       "              '-4..': {0: 'd'},\n",
       "              '2.mm': {0: 'e'},\n",
       "              '2..': {0: 'f'},\n",
       "              '..m': {0: 'g'},\n",
       "              '1': {0: 'h'}},\n",
       "             218: {'23.': {0: 'a'},\n",
       "              '222..': {0: 'b'},\n",
       "              '-4..': {0: 'c', 1: 'd'},\n",
       "              '.3.': {0: 'e'},\n",
       "              '2..': {0: 'f', 1: 'g', 2: 'h'},\n",
       "              '1': {0: 'i'}},\n",
       "             219: {'23.': {0: 'a', 1: 'b'},\n",
       "              '-4..': {0: 'c', 1: 'd'},\n",
       "              '.3.': {0: 'e'},\n",
       "              '2..': {0: 'f', 1: 'g'},\n",
       "              '1': {0: 'h'}},\n",
       "             220: {'-4..': {0: 'a', 1: 'b'},\n",
       "              '.3.': {0: 'c'},\n",
       "              '2..': {0: 'd'},\n",
       "              '1': {0: 'e'}},\n",
       "             221: {'m-3m': {0: 'a', 1: 'b'},\n",
       "              '4/mm.m': {0: 'c', 1: 'd'},\n",
       "              '4m.m': {0: 'e', 1: 'f'},\n",
       "              '.3m': {0: 'g'},\n",
       "              'mm2..': {0: 'h'},\n",
       "              'm.m2': {0: 'i', 1: 'j'},\n",
       "              'm..': {0: 'k', 1: 'l'},\n",
       "              '..m': {0: 'm'},\n",
       "              '1': {0: 'n'}},\n",
       "             222: {'432': {0: 'a'},\n",
       "              '42.2': {0: 'b'},\n",
       "              '.-3.': {0: 'c'},\n",
       "              '-4..': {0: 'd'},\n",
       "              '4..': {0: 'e'},\n",
       "              '.3.': {0: 'f'},\n",
       "              '2..': {0: 'g'},\n",
       "              '..2': {0: 'h'},\n",
       "              '1': {0: 'i'}},\n",
       "             223: {'m-3.': {0: 'a'},\n",
       "              'mmm..': {0: 'b'},\n",
       "              '-4m.2': {0: 'c', 1: 'd'},\n",
       "              '.32': {0: 'e'},\n",
       "              'mm2..': {0: 'f', 1: 'g', 2: 'h'},\n",
       "              '.3.': {0: 'i'},\n",
       "              '..2': {0: 'j'},\n",
       "              'm..': {0: 'k'},\n",
       "              '1': {0: 'l'}},\n",
       "             224: {'-43m': {0: 'a'},\n",
       "              '.-3m': {0: 'b', 1: 'c'},\n",
       "              '-42.m': {0: 'd'},\n",
       "              '.3m': {0: 'e'},\n",
       "              '2.22': {0: 'f'},\n",
       "              '2.mm': {0: 'g'},\n",
       "              '2..': {0: 'h'},\n",
       "              '..2': {0: 'i', 1: 'j'},\n",
       "              '..m': {0: 'k'},\n",
       "              '1': {0: 'l'}},\n",
       "             225: {'m-3m': {0: 'a', 1: 'b'},\n",
       "              '-43m': {0: 'c'},\n",
       "              'm.mm': {0: 'd'},\n",
       "              '4m.m': {0: 'e'},\n",
       "              '.3m': {0: 'f'},\n",
       "              '2.mm': {0: 'g'},\n",
       "              'm.m2': {0: 'h', 1: 'i'},\n",
       "              'm..': {0: 'j'},\n",
       "              '..m': {0: 'k'},\n",
       "              '1': {0: 'l'}},\n",
       "             226: {'432': {0: 'a'},\n",
       "              'm-3.': {0: 'b'},\n",
       "              '-4m.2': {0: 'c'},\n",
       "              '4/m..': {0: 'd'},\n",
       "              'mm2..': {0: 'e'},\n",
       "              '4..': {0: 'f'},\n",
       "              '.3.': {0: 'g'},\n",
       "              '..2': {0: 'h'},\n",
       "              'm..': {0: 'i'},\n",
       "              '1': {0: 'j'}},\n",
       "             227: {'-43m': {0: 'a', 1: 'b'},\n",
       "              '.-3m': {0: 'c', 1: 'd'},\n",
       "              '.3m': {0: 'e'},\n",
       "              '2.mm': {0: 'f'},\n",
       "              '..m': {0: 'g'},\n",
       "              '..2': {0: 'h'},\n",
       "              '1': {0: 'i'}},\n",
       "             228: {'23.': {0: 'a'},\n",
       "              '.32': {0: 'b'},\n",
       "              '.-3.': {0: 'c'},\n",
       "              '-4..': {0: 'd'},\n",
       "              '.3.': {0: 'e'},\n",
       "              '2..': {0: 'f'},\n",
       "              '..2': {0: 'g'},\n",
       "              '1': {0: 'h'}},\n",
       "             229: {'m-3m': {0: 'a'},\n",
       "              '4/mm.m': {0: 'b'},\n",
       "              '.-3m': {0: 'c'},\n",
       "              '-4m.2': {0: 'd'},\n",
       "              '4m.m': {0: 'e'},\n",
       "              '.3m': {0: 'f'},\n",
       "              'mm2..': {0: 'g'},\n",
       "              'm.m2': {0: 'h'},\n",
       "              '..2': {0: 'i'},\n",
       "              'm..': {0: 'j'},\n",
       "              '..m': {0: 'k'},\n",
       "              '1': {0: 'l'}},\n",
       "             230: {'.-3.': {0: 'a'},\n",
       "              '.32': {0: 'b'},\n",
       "              '2.22': {0: 'c'},\n",
       "              '-4..': {0: 'd'},\n",
       "              '.3.': {0: 'e'},\n",
       "              '2..': {0: 'f'},\n",
       "              '..2': {0: 'g'},\n",
       "              '1': {0: 'h'}}})"
      ]
     },
     "execution_count": 8,
     "metadata": {},
     "output_type": "execute_result"
    }
   ],
   "source": [
    "letter_from_ss_enum_idx"
   ]
  },
  {
   "cell_type": "code",
   "execution_count": null,
   "metadata": {},
   "outputs": [
    {
     "data": {
      "text/plain": [
       "Element Zn"
      ]
     },
     "execution_count": 13,
     "metadata": {},
     "output_type": "execute_result"
    }
   ],
   "source": [
    "tokenisers['elements'].to_token[27]"
   ]
  },
  {
   "cell_type": "code",
   "execution_count": null,
   "metadata": {},
   "outputs": [
    {
     "data": {
      "text/plain": [
       "'2/m2/m.'"
      ]
     },
     "execution_count": 16,
     "metadata": {},
     "output_type": "execute_result"
    }
   ],
   "source": [
    "tokenisers['site_symmetries'].to_token[71]"
   ]
  },
  {
   "cell_type": "code",
   "execution_count": null,
   "metadata": {},
   "outputs": [
    {
     "data": {
      "text/plain": [
       "'PAD'"
      ]
     },
     "execution_count": 19,
     "metadata": {},
     "output_type": "execute_result"
    }
   ],
   "source": [
    "tokenisers['sites_enumeration'].to_token[8]"
   ]
  },
  {
   "cell_type": "code",
   "execution_count": null,
   "metadata": {},
   "outputs": [],
   "source": []
  },
  {
   "cell_type": "code",
   "execution_count": null,
   "metadata": {},
   "outputs": [
    {
     "data": {
      "text/plain": [
       "12"
      ]
     },
     "execution_count": 8,
     "metadata": {},
     "output_type": "execute_result"
    }
   ],
   "source": [
    "tokenisers['spacegroup_number'].to_token[start[0]]"
   ]
  },
  {
   "cell_type": "code",
   "execution_count": null,
   "metadata": {},
   "outputs": [
    {
     "data": {
      "text/plain": [
       "11"
      ]
     },
     "execution_count": 9,
     "metadata": {},
     "output_type": "execute_result"
    }
   ],
   "source": [
    "tokenisers['spacegroup_number'][12]"
   ]
  },
  {
   "cell_type": "code",
   "execution_count": null,
   "metadata": {},
   "outputs": [
    {
     "data": {
      "text/html": [
       "Finishing last run (ID:0r6dpswx) before initializing another..."
      ],
      "text/plain": [
       "<IPython.core.display.HTML object>"
      ]
     },
     "metadata": {},
     "output_type": "display_data"
    },
    {
     "data": {
      "application/vnd.jupyter.widget-view+json": {
       "model_id": "1539abb517dc4e4898e738ec9a83a335",
       "version_major": 2,
       "version_minor": 0
      },
      "text/plain": [
       "VBox(children=(Label(value='0.000 MB of 0.000 MB uploaded\\r'), FloatProgress(value=1.0, max=1.0)))"
      ]
     },
     "metadata": {},
     "output_type": "display_data"
    },
    {
     "data": {
      "text/html": [
       "<style>\n",
       "    table.wandb td:nth-child(1) { padding: 0 10px; text-align: left ; width: auto;} td:nth-child(2) {text-align: left ; width: 100%}\n",
       "    .wandb-row { display: flex; flex-direction: row; flex-wrap: wrap; justify-content: flex-start; width: 100% }\n",
       "    .wandb-col { display: flex; flex-direction: column; flex-basis: 100%; flex: 1; padding: 10px; }\n",
       "    </style>\n",
       "<div class=\"wandb-row\"><div class=\"wandb-col\"><h3>Run summary:</h3><br/><table class=\"wandb\"><tr><td>best_val_loss</td><td>17.2129</td></tr><tr><td>epoch</td><td>4990</td></tr><tr><td>known_cascade_len</td><td>0</td></tr><tr><td>known_seq_len</td><td>4</td></tr><tr><td>lr</td><td>1</td></tr><tr><td>pyxtal_generated_fraction</td><td>0</td></tr><tr><td>train_loss_batch</td><td>11212.93262</td></tr><tr><td>wp_formal_validity</td><td>0</td></tr></table><br/></div></div>"
      ],
      "text/plain": [
       "<IPython.core.display.HTML object>"
      ]
     },
     "metadata": {},
     "output_type": "display_data"
    },
    {
     "data": {
      "text/html": [
       " View run <strong style=\"color:#cdcd00\">chocolate-dew-135</strong> at: <a href='https://wandb.ai/symmetry-advantage/WyckoffTransformer/runs/0r6dpswx' target=\"_blank\">https://wandb.ai/symmetry-advantage/WyckoffTransformer/runs/0r6dpswx</a><br/> View project at: <a href='https://wandb.ai/symmetry-advantage/WyckoffTransformer' target=\"_blank\">https://wandb.ai/symmetry-advantage/WyckoffTransformer</a><br/>Synced 4 W&B file(s), 0 media file(s), 0 artifact file(s) and 0 other file(s)"
      ],
      "text/plain": [
       "<IPython.core.display.HTML object>"
      ]
     },
     "metadata": {},
     "output_type": "display_data"
    },
    {
     "data": {
      "text/html": [
       "Find logs at: <code>./wandb/run-20240601_030236-0r6dpswx/logs</code>"
      ],
      "text/plain": [
       "<IPython.core.display.HTML object>"
      ]
     },
     "metadata": {},
     "output_type": "display_data"
    },
    {
     "data": {
      "text/html": [
       "Successfully finished last run (ID:0r6dpswx). Initializing new run:<br/>"
      ],
      "text/plain": [
       "<IPython.core.display.HTML object>"
      ]
     },
     "metadata": {},
     "output_type": "display_data"
    },
    {
     "name": "stderr",
     "output_type": "stream",
     "text": [
      "DEBUG:git.cmd:Popen(['git', 'cat-file', '--batch-check'], cwd=/home/kna/WyckoffTransformer, stdin=<valid stream>, shell=False, universal_newlines=False)\n"
     ]
    },
    {
     "data": {
      "application/vnd.jupyter.widget-view+json": {
       "model_id": "4684729280604c58b86802e66c07587f",
       "version_major": 2,
       "version_minor": 0
      },
      "text/plain": [
       "VBox(children=(Label(value='Waiting for wandb.init()...\\r'), FloatProgress(value=0.011113006057631639, max=1.0…"
      ]
     },
     "metadata": {},
     "output_type": "display_data"
    },
    {
     "data": {
      "text/html": [
       "Tracking run with wandb version 0.17.0"
      ],
      "text/plain": [
       "<IPython.core.display.HTML object>"
      ]
     },
     "metadata": {},
     "output_type": "display_data"
    },
    {
     "data": {
      "text/html": [
       "Run data is saved locally in <code>/home/kna/WyckoffTransformer/wandb/run-20240601_030423-0r6dpswx</code>"
      ],
      "text/plain": [
       "<IPython.core.display.HTML object>"
      ]
     },
     "metadata": {},
     "output_type": "display_data"
    },
    {
     "data": {
      "text/html": [
       "Resuming run <strong><a href='https://wandb.ai/symmetry-advantage/WyckoffTransformer/runs/0r6dpswx' target=\"_blank\">chocolate-dew-135</a></strong> to <a href='https://wandb.ai/symmetry-advantage/WyckoffTransformer' target=\"_blank\">Weights & Biases</a> (<a href='https://wandb.me/run' target=\"_blank\">docs</a>)<br/>"
      ],
      "text/plain": [
       "<IPython.core.display.HTML object>"
      ]
     },
     "metadata": {},
     "output_type": "display_data"
    },
    {
     "data": {
      "text/html": [
       " View project at <a href='https://wandb.ai/symmetry-advantage/WyckoffTransformer' target=\"_blank\">https://wandb.ai/symmetry-advantage/WyckoffTransformer</a>"
      ],
      "text/plain": [
       "<IPython.core.display.HTML object>"
      ]
     },
     "metadata": {},
     "output_type": "display_data"
    },
    {
     "data": {
      "text/html": [
       " View run at <a href='https://wandb.ai/symmetry-advantage/WyckoffTransformer/runs/0r6dpswx' target=\"_blank\">https://wandb.ai/symmetry-advantage/WyckoffTransformer/runs/0r6dpswx</a>"
      ],
      "text/plain": [
       "<IPython.core.display.HTML object>"
      ]
     },
     "metadata": {},
     "output_type": "display_data"
    },
    {
     "name": "stdout",
     "output_type": "stream",
     "text": [
      "long time to generate structure, check inputs\n",
      "long time to generate structure, check inputs\n",
      "long time to generate structure, check inputs\n",
      "long time to generate structure, check inputs\n",
      "long time to generate structure, check inputs\n",
      "long time to generate structure, check inputs\n"
     ]
    }
   ],
   "source": [
    "run = wandb.init(id=\"0r6dpswx\", resume=True)\n",
    "valid_structures = list(map(pyxtal_generate, generated_wp))\n",
    "valid_structures = [s for s in valid_structures if s is not None]\n",
    "pyxtal_success_rate = len(valid_structures) / len(generated_wp)\n",
    "print(f\"Pyxtal success rate: {pyxtal_success_rate}\")\n",
    "for s in valid_structures:\n",
    "    wandb.log({\"structure\": wandb.Molecule(s, file_type=\"cif\")}, commit=True)\n",
    "#valid_strucutes = [wandb.Molecule(s, file_type=\"cif\") for s in valid_structures]\n",
    "wandb.finish()"
   ]
  }
 ],
 "metadata": {
  "kernelspec": {
   "display_name": "wyckofftransformer-FeCwefly-py3.10",
   "language": "python",
   "name": "python3"
  },
  "language_info": {
   "codemirror_mode": {
    "name": "ipython",
    "version": 3
   },
   "file_extension": ".py",
   "mimetype": "text/x-python",
   "name": "python",
   "nbconvert_exporter": "python",
   "pygments_lexer": "ipython3",
   "version": "3.10.12"
  }
 },
 "nbformat": 4,
 "nbformat_minor": 2
}
