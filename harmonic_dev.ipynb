{
 "cells": [
  {
   "cell_type": "code",
   "execution_count": 1,
   "metadata": {},
   "outputs": [],
   "source": [
    "import gzip\n",
    "import pickle"
   ]
  },
  {
   "cell_type": "code",
   "execution_count": 2,
   "metadata": {},
   "outputs": [],
   "source": [
    "with gzip.open(\"cache/engineers/harmonic_site_symmetries.pkl.gz\", \"rb\") as f:\n",
    "    data = pickle.load(f)"
   ]
  },
  {
   "cell_type": "code",
   "execution_count": 3,
   "metadata": {},
   "outputs": [],
   "source": [
    "from preprocess_wychoffs import clasterize_harmonics"
   ]
  },
  {
   "cell_type": "code",
   "execution_count": 5,
   "metadata": {},
   "outputs": [],
   "source": [
    "distances = clasterize_harmonics(data)"
   ]
  },
  {
   "cell_type": "code",
   "execution_count": 134,
   "metadata": {},
   "outputs": [],
   "source": [
    "def assign_to_clusters(\n",
    "    distances: pd.DataFrame):\n",
    "\n",
    "    remaining_distances = distances.copy().droplevel((0, 1), axis=0)\n",
    "    assert (remaining_distances.index == np.arange(remaining_distances.shape[0])).all()\n",
    "    assert (remaining_distances.columns == np.arange(remaining_distances.shape[1])).all()\n",
    "    mapping = np.empty(distances.shape[0], dtype=int)\n",
    "    \n",
    "    while not remaining_distances.empty:\n",
    "        row, col = np.unravel_index(np.argmin(remaining_distances.values), remaining_distances.shape)\n",
    "        row_label = remaining_distances.index[row]\n",
    "        col_label = remaining_distances.columns[col]\n",
    "        # enum -> cluster\n",
    "        mapping[row_label] = col_label\n",
    "        remaining_distances = remaining_distances.drop(row_label, axis=0).drop(col_label, axis=1)\n",
    "    return pd.Series(mapping, index=distances.index.get_level_values(2))"
   ]
  },
  {
   "cell_type": "code",
   "execution_count": 152,
   "metadata": {},
   "outputs": [],
   "source": [
    "mapping = distances.groupby(level=[\"spacegroup_number\", \"site_symmetries\"]).apply(assign_to_clusters)"
   ]
  },
  {
   "cell_type": "code",
   "execution_count": 153,
   "metadata": {},
   "outputs": [
    {
     "data": {
      "text/plain": [
       "spacegroup_number  site_symmetries  sites_enumeration\n",
       "1                  1                0                    5\n",
       "2                  -1               0                    0\n",
       "                                    1                    6\n",
       "                                    2                    3\n",
       "                                    3                    7\n",
       "                                                        ..\n",
       "230                .3.              0                    5\n",
       "                   .32              0                    5\n",
       "                   1                0                    5\n",
       "                   2..              0                    5\n",
       "                   2.22             0                    5\n",
       "Length: 1731, dtype: int64"
      ]
     },
     "execution_count": 153,
     "metadata": {},
     "output_type": "execute_result"
    }
   ],
   "source": [
    "mapping"
   ]
  },
  {
   "cell_type": "code",
   "execution_count": 169,
   "metadata": {},
   "outputs": [
    {
     "data": {
      "text/plain": [
       "MultiIndex([(  1,     '1', 5),\n",
       "            (  2,    '-1', 0),\n",
       "            (  2,    '-1', 6),\n",
       "            (  2,    '-1', 3),\n",
       "            (  2,    '-1', 7),\n",
       "            (  2,    '-1', 2),\n",
       "            (  2,    '-1', 1),\n",
       "            (  2,    '-1', 4),\n",
       "            (  2,    '-1', 5),\n",
       "            (  2,     '1', 5),\n",
       "            ...\n",
       "            (229,  'm.m2', 0),\n",
       "            (229, 'mm2..', 0),\n",
       "            (230,  '-4..', 5),\n",
       "            (230,  '.-3.', 5),\n",
       "            (230,   '..2', 5),\n",
       "            (230,   '.3.', 5),\n",
       "            (230,   '.32', 5),\n",
       "            (230,     '1', 5),\n",
       "            (230,   '2..', 5),\n",
       "            (230,  '2.22', 5)],\n",
       "           names=['spacegroup_number', 'site_symmetries', 'cluster-index'], length=1731)"
      ]
     },
     "execution_count": 169,
     "metadata": {},
     "output_type": "execute_result"
    }
   ],
   "source": [
    "pd.MultiIndex.from_arrays(\n",
    "    [mapping.index.get_level_values(0), mapping.index.get_level_values(1), mapping.values],\n",
    "    names=[mapping.index.names[0], mapping.index.names[1], \"cluster-index\"]\n",
    ")"
   ]
  },
  {
   "cell_type": "code",
   "execution_count": 164,
   "metadata": {},
   "outputs": [
    {
     "ename": "TypeError",
     "evalue": "Levels must be list-like",
     "output_type": "error",
     "traceback": [
      "\u001b[0;31m---------------------------------------------------------------------------\u001b[0m",
      "\u001b[0;31mTypeError\u001b[0m                                 Traceback (most recent call last)",
      "Cell \u001b[0;32mIn[164], line 1\u001b[0m\n\u001b[0;32m----> 1\u001b[0m \u001b[43mmapping_expanded\u001b[49m\u001b[38;5;241;43m.\u001b[39;49m\u001b[43mindex\u001b[49m\u001b[38;5;241;43m.\u001b[39;49m\u001b[43mset_levels\u001b[49m\u001b[43m(\u001b[49m\u001b[38;5;124;43m\"\u001b[39;49m\u001b[38;5;124;43mcluster_index\u001b[39;49m\u001b[38;5;124;43m\"\u001b[39;49m\u001b[43m,\u001b[49m\u001b[43m \u001b[49m\u001b[43mlevel\u001b[49m\u001b[38;5;241;43m=\u001b[39;49m\u001b[38;5;241;43m3\u001b[39;49m\u001b[43m)\u001b[49m\n",
      "File \u001b[0;32m~/.cache/pypoetry/virtualenvs/wyckofftransformer-FeCwefly-py3.12/lib/python3.12/site-packages/pandas/core/indexes/multi.py:1038\u001b[0m, in \u001b[0;36mMultiIndex.set_levels\u001b[0;34m(self, levels, level, verify_integrity)\u001b[0m\n\u001b[1;32m   1035\u001b[0m \u001b[38;5;28;01melif\u001b[39;00m is_list_like(levels):\n\u001b[1;32m   1036\u001b[0m     levels \u001b[38;5;241m=\u001b[39m \u001b[38;5;28mlist\u001b[39m(levels)\n\u001b[0;32m-> 1038\u001b[0m level, levels \u001b[38;5;241m=\u001b[39m \u001b[43m_require_listlike\u001b[49m\u001b[43m(\u001b[49m\u001b[43mlevel\u001b[49m\u001b[43m,\u001b[49m\u001b[43m \u001b[49m\u001b[43mlevels\u001b[49m\u001b[43m,\u001b[49m\u001b[43m \u001b[49m\u001b[38;5;124;43m\"\u001b[39;49m\u001b[38;5;124;43mLevels\u001b[39;49m\u001b[38;5;124;43m\"\u001b[39;49m\u001b[43m)\u001b[49m\n\u001b[1;32m   1039\u001b[0m idx \u001b[38;5;241m=\u001b[39m \u001b[38;5;28mself\u001b[39m\u001b[38;5;241m.\u001b[39m_view()\n\u001b[1;32m   1040\u001b[0m idx\u001b[38;5;241m.\u001b[39m_reset_identity()\n",
      "File \u001b[0;32m~/.cache/pypoetry/virtualenvs/wyckofftransformer-FeCwefly-py3.12/lib/python3.12/site-packages/pandas/core/indexes/multi.py:4149\u001b[0m, in \u001b[0;36m_require_listlike\u001b[0;34m(level, arr, arrname)\u001b[0m\n\u001b[1;32m   4147\u001b[0m \u001b[38;5;28;01mif\u001b[39;00m level \u001b[38;5;129;01mis\u001b[39;00m \u001b[38;5;129;01mnot\u001b[39;00m \u001b[38;5;28;01mNone\u001b[39;00m \u001b[38;5;129;01mand\u001b[39;00m \u001b[38;5;129;01mnot\u001b[39;00m is_list_like(level):\n\u001b[1;32m   4148\u001b[0m     \u001b[38;5;28;01mif\u001b[39;00m \u001b[38;5;129;01mnot\u001b[39;00m is_list_like(arr):\n\u001b[0;32m-> 4149\u001b[0m         \u001b[38;5;28;01mraise\u001b[39;00m \u001b[38;5;167;01mTypeError\u001b[39;00m(\u001b[38;5;124mf\u001b[39m\u001b[38;5;124m\"\u001b[39m\u001b[38;5;132;01m{\u001b[39;00marrname\u001b[38;5;132;01m}\u001b[39;00m\u001b[38;5;124m must be list-like\u001b[39m\u001b[38;5;124m\"\u001b[39m)\n\u001b[1;32m   4150\u001b[0m     \u001b[38;5;28;01mif\u001b[39;00m \u001b[38;5;28mlen\u001b[39m(arr) \u001b[38;5;241m>\u001b[39m \u001b[38;5;241m0\u001b[39m \u001b[38;5;129;01mand\u001b[39;00m is_list_like(arr[\u001b[38;5;241m0\u001b[39m]):\n\u001b[1;32m   4151\u001b[0m         \u001b[38;5;28;01mraise\u001b[39;00m \u001b[38;5;167;01mTypeError\u001b[39;00m(\u001b[38;5;124mf\u001b[39m\u001b[38;5;124m\"\u001b[39m\u001b[38;5;132;01m{\u001b[39;00marrname\u001b[38;5;132;01m}\u001b[39;00m\u001b[38;5;124m must be list-like\u001b[39m\u001b[38;5;124m\"\u001b[39m)\n",
      "\u001b[0;31mTypeError\u001b[0m: Levels must be list-like"
     ]
    }
   ],
   "source": [
    "mapping_expanded.index.set_levels(\"cluster_index\", level=3)"
   ]
  },
  {
   "cell_type": "code",
   "execution_count": null,
   "metadata": {},
   "outputs": [
    {
     "data": {
      "text/plain": [
       "sites_enumeration\n",
       "0    1138\n",
       "1     416\n",
       "2      92\n",
       "3      63\n",
       "4       7\n",
       "5       7\n",
       "6       4\n",
       "7       4\n",
       "Name: count, dtype: int64"
      ]
     },
     "execution_count": 126,
     "metadata": {},
     "output_type": "execute_result"
    }
   ],
   "source": [
    "pd.Series(\n",
    "    data=mapping.index.get_level_values(2),\n",
    "    index=\n",
    ")"
   ]
  },
  {
   "cell_type": "code",
   "execution_count": 127,
   "metadata": {},
   "outputs": [
    {
     "data": {
      "text/plain": [
       "0    499\n",
       "5    257\n",
       "3    203\n",
       "2    184\n",
       "4    179\n",
       "6    178\n",
       "1    128\n",
       "7    103\n",
       "Name: count, dtype: int64"
      ]
     },
     "execution_count": 127,
     "metadata": {},
     "output_type": "execute_result"
    }
   ],
   "source": [
    "mapping.value_counts()"
   ]
  },
  {
   "cell_type": "code",
   "execution_count": 65,
   "metadata": {},
   "outputs": [
    {
     "data": {
      "text/plain": [
       "(8,)"
      ]
     },
     "execution_count": 65,
     "metadata": {},
     "output_type": "execute_result"
    }
   ],
   "source": [
    "mapping.shape"
   ]
  },
  {
   "cell_type": "code",
   "execution_count": 64,
   "metadata": {},
   "outputs": [],
   "source": [
    "mapping = np.empty(len(d), dtype=int)"
   ]
  }
 ],
 "metadata": {
  "kernelspec": {
   "display_name": "wyckofftransformer-FeCwefly-py3.12",
   "language": "python",
   "name": "python3"
  },
  "language_info": {
   "codemirror_mode": {
    "name": "ipython",
    "version": 3
   },
   "file_extension": ".py",
   "mimetype": "text/x-python",
   "name": "python",
   "nbconvert_exporter": "python",
   "pygments_lexer": "ipython3",
   "version": "3.12.3"
  }
 },
 "nbformat": 4,
 "nbformat_minor": 2
}
