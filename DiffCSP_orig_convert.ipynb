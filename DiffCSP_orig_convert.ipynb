{
 "cells": [
  {
   "cell_type": "code",
   "execution_count": 2,
   "metadata": {},
   "outputs": [],
   "source": [
    "import torch"
   ]
  },
  {
   "cell_type": "code",
   "execution_count": 3,
   "metadata": {},
   "outputs": [],
   "source": [
    "def get_crystals_list(\n",
    "        frac_coords, atom_types, lengths, angles, num_atoms):\n",
    "    \"\"\"\n",
    "    args:\n",
    "        frac_coords: (num_atoms, 3)\n",
    "        atom_types: (num_atoms)\n",
    "        lengths: (num_crystals)\n",
    "        angles: (num_crystals)\n",
    "        num_atoms: (num_crystals)\n",
    "    \"\"\"\n",
    "    assert frac_coords.size(0) == atom_types.size(0) == num_atoms.sum()\n",
    "    assert lengths.size(0) == angles.size(0) == num_atoms.size(0)\n",
    "\n",
    "    start_idx = 0\n",
    "    crystal_array_list = []\n",
    "    for batch_idx, num_atom in enumerate(num_atoms.tolist()):\n",
    "        cur_frac_coords = frac_coords.narrow(0, start_idx, num_atom)\n",
    "        cur_atom_types = atom_types.narrow(0, start_idx, num_atom)\n",
    "        cur_lengths = lengths[batch_idx]\n",
    "        cur_angles = angles[batch_idx]\n",
    "\n",
    "        crystal_array_list.append({\n",
    "            'frac_coords': cur_frac_coords.detach().cpu().numpy(),\n",
    "            'atom_types': cur_atom_types.detach().cpu().numpy(),\n",
    "            'lengths': cur_lengths.detach().cpu().numpy(),\n",
    "            'angles': cur_angles.detach().cpu().numpy(),\n",
    "        })\n",
    "        start_idx = start_idx + num_atom\n",
    "    return crystal_array_list"
   ]
  },
  {
   "cell_type": "code",
   "execution_count": 4,
   "metadata": {},
   "outputs": [],
   "source": [
    "data = torch.load(\"generated/DiffCSP_mp_20.pt\", map_location='cpu')\n",
    "crystals_list = get_crystals_list(\n",
    "    data['frac_coords'], data['atom_types'], data['lengths'], data['angles'], data['num_atoms'])"
   ]
  },
  {
   "cell_type": "code",
   "execution_count": 5,
   "metadata": {},
   "outputs": [],
   "source": [
    "from pymatgen.core.structure import Structure, Lattice\n",
    "def get_structure(record):\n",
    "    return Structure(\n",
    "                lattice=Lattice.from_parameters(\n",
    "                    *(record['lengths'].tolist() + record['angles'].tolist())),\n",
    "                species=record['atom_types'], coords=record['frac_coords'], coords_are_cartesian=False)"
   ]
  },
  {
   "cell_type": "code",
   "execution_count": 6,
   "metadata": {},
   "outputs": [],
   "source": [
    "from multiprocessing import Pool\n",
    "with Pool() as pool:\n",
    "    structures = pool.map(get_structure, crystals_list)"
   ]
  },
  {
   "cell_type": "code",
   "execution_count": 13,
   "metadata": {},
   "outputs": [
    {
     "data": {
      "text/plain": [
       "True"
      ]
     },
     "execution_count": 13,
     "metadata": {},
     "output_type": "execute_result"
    }
   ],
   "source": [
    "from functools import partial\n",
    "all(map(lambda x: isinstance(x, Structure), structures))"
   ]
  },
  {
   "cell_type": "code",
   "execution_count": 17,
   "metadata": {},
   "outputs": [
    {
     "data": {
      "text/plain": [
       "PosixPath('dfdf.json.gz')"
      ]
     },
     "execution_count": 17,
     "metadata": {},
     "output_type": "execute_result"
    }
   ],
   "source": [
    "from pathlib import Path\n",
    "Path(\"dfdf.csv\").with_suffix(\".json.gz\")"
   ]
  },
  {
   "cell_type": "code",
   "execution_count": 6,
   "metadata": {},
   "outputs": [],
   "source": [
    "import gzip\n",
    "import pickle\n",
    "from pathlib import Path\n",
    "with open(Path(\"cache\", \"wychoffs_enumerated_by_ss.pkl.gz\"), \"rb\") as f:\n",
    "    wychoffs_enumerated_by_ss = pickle.load(f)[0]"
   ]
  },
  {
   "cell_type": "code",
   "execution_count": 7,
   "metadata": {},
   "outputs": [
    {
     "name": "stderr",
     "output_type": "stream",
     "text": [
      "spglib: ssm_get_exact_positions failed.\n",
      "spglib: get_bravais_exact_positions_and_lattice failed.\n",
      "spglib: ssm_get_exact_positions failed.\n",
      "spglib: get_bravais_exact_positions_and_lattice failed.\n",
      "spglib: ssm_get_exact_positions failed.\n",
      "spglib: get_bravais_exact_positions_and_lattice failed.\n",
      "spglib: ssm_get_exact_positions failed.\n",
      "spglib: get_bravais_exact_positions_and_lattice failed.\n",
      "/home/kna/.cache/pypoetry/virtualenvs/wyckofftransformer-FeCwefly-py3.12/lib64/python3.12/site-packages/pymatgen/core/periodic_table.py:267: UserWarning: No Pauling electronegativity for He. Setting to NaN. This has no physical meaning, and is mainly done to avoid errors caused by the code expecting a float.\n",
      "  warnings.warn(\n"
     ]
    }
   ],
   "source": [
    "import os\n",
    "os.environ[\"OMP_NUM_THREADS\"] = \"1\"\n",
    "os.environ[\"OMP_THREAD_LIMIT\"] = \"1\"\n",
    "from functools import partial\n",
    "from data import structure_to_sites\n",
    "with Pool() as pool:\n",
    "    sites = pool.map(partial(structure_to_sites, wychoffs_enumerated_by_ss=wychoffs_enumerated_by_ss), structures)"
   ]
  },
  {
   "cell_type": "code",
   "execution_count": 18,
   "metadata": {},
   "outputs": [
    {
     "ename": "SyntaxError",
     "evalue": "expected ':' (1952972701.py, line 1)",
     "output_type": "error",
     "traceback": [
      "\u001b[0;36m  Cell \u001b[0;32mIn[18], line 1\u001b[0;36m\u001b[0m\n\u001b[0;31m    with gzip\u001b[0m\n\u001b[0m             ^\u001b[0m\n\u001b[0;31mSyntaxError\u001b[0m\u001b[0;31m:\u001b[0m expected ':'\n"
     ]
    }
   ],
   "source": [
    "with gzip.open(Path(\"generated\", \"DiffCSP_mp_20.json.gz\"), \"wt\") as f:\n",
    "    import json\n",
    "    json.dump(sites, f)"
   ]
  }
 ],
 "metadata": {
  "kernelspec": {
   "display_name": "wyckofftransformer-FeCwefly-py3.12",
   "language": "python",
   "name": "python3"
  },
  "language_info": {
   "codemirror_mode": {
    "name": "ipython",
    "version": 3
   },
   "file_extension": ".py",
   "mimetype": "text/x-python",
   "name": "python",
   "nbconvert_exporter": "python",
   "pygments_lexer": "ipython3",
   "version": "3.12.0"
  }
 },
 "nbformat": 4,
 "nbformat_minor": 2
}
