{
 "cells": [
  {
   "cell_type": "code",
   "execution_count": 1,
   "metadata": {},
   "outputs": [],
   "source": [
    "from ast import  literal_eval\n",
    "import monty.json\n",
    "bad_structure = monty.json.MontyDecoder().process_decoded(literal_eval(\n",
    "\"\"\"\n",
    "{'@module': 'pymatgen.core.structure',\n",
    " '@class': 'Structure',\n",
    " 'charge': 0,\n",
    " 'lattice': {'matrix': [[3.841249880161881, 0.0, -0.0006935850049256381],\n",
    "   [0.007247957966444269, 6.4029947665953575, -2.1467915653566236],\n",
    "   [0.0, 0.0, 6.739798545837402]],\n",
    "  'pbc': (True, True, True),\n",
    "  'a': 3.8412499427795406,\n",
    "  'b': 6.753303527832032,\n",
    "  'c': 6.739798545837402,\n",
    "  'alpha': 108.53522491455078,\n",
    "  'beta': 90.01034545898438,\n",
    "  'gamma': 89.93521881103516,\n",
    "  'volume': 165.76873454383065},\n",
    " 'properties': {},\n",
    " 'sites': [{'species': [{'element': 'Br', 'occu': 1}],\n",
    "   'abc': [0.6151519417762756, 0.5809592008590698, 0.4217175841331482],\n",
    "   'properties': {},\n",
    "   'label': 'Br',\n",
    "   'xyz': [2.3671630904975127, 3.7198787227060452, 1.594666587911512]},\n",
    "  {'species': [{'element': 'Br', 'occu': 1}],\n",
    "   'abc': [0.11668065935373306, 0.0819755345582962, 0.4206688702106476],\n",
    "   'properties': {},\n",
    "   'label': 'Br',\n",
    "   'xyz': [0.4487937239884917, 0.5248889187656275, 2.659158125613742]},\n",
    "  {'species': [{'element': 'Mg', 'occu': 1}],\n",
    "   'abc': [0.6136149168014526, 0.3313424289226532, 0.6719481945037842],\n",
    "   'properties': {},\n",
    "   'label': 'Mg',\n",
    "   'xyz': [2.3594497816264535, 2.1215838383427426, 3.817046738433652]},\n",
    "  {'species': [{'element': 'Br', 'occu': 1}],\n",
    "   'abc': [0.11528473347425461, 0.57020103931427, 0.9267598986625671],\n",
    "   'properties': {},\n",
    "   'label': 'Br',\n",
    "   'xyz': [0.4469702618078476, 3.6509942706365046, 5.0219922758264985]},\n",
    "  {'species': [{'element': 'Mg', 'occu': 1}],\n",
    "   'abc': [0.6135606169700623, 0.832730770111084, 0.1716589629650116],\n",
    "   'properties': {},\n",
    "   'label': 'Mg',\n",
    "   'xyz': [2.3628752440274314, 5.331970763004192, -0.6311781209594023]},\n",
    "  {'species': [{'element': 'Br', 'occu': 1}],\n",
    "   'abc': [0.6150649785995483, 0.0814078152179718, 0.9171372652053833],\n",
    "   'properties': {},\n",
    "   'label': 'Br',\n",
    "   'xyz': [2.363208315760125, 0.5212538148006354, 6.00612819545427]}]}\n",
    "\"\"\"))"
   ]
  },
  {
   "cell_type": "code",
   "execution_count": 2,
   "metadata": {},
   "outputs": [
    {
     "data": {
      "text/plain": [
       "Structure Summary\n",
       "Lattice\n",
       "    abc : 3.8412499427795406 6.753303527832032 6.739798545837402\n",
       " angles : 108.53522491455078 90.01034545898438 89.93521881103516\n",
       " volume : 165.76873454383065\n",
       "      A : 3.841249880161881 0.0 -0.0006935850049256381\n",
       "      B : 0.007247957966444269 6.4029947665953575 -2.1467915653566236\n",
       "      C : 0.0 0.0 6.739798545837402\n",
       "    pbc : True True True\n",
       "PeriodicSite: Br (2.367, 3.72, 1.595) [0.6152, 0.581, 0.4217]\n",
       "PeriodicSite: Br (0.4488, 0.5249, 2.659) [0.1167, 0.08198, 0.4207]\n",
       "PeriodicSite: Mg (2.359, 2.122, 3.817) [0.6136, 0.3313, 0.6719]\n",
       "PeriodicSite: Br (0.447, 3.651, 5.022) [0.1153, 0.5702, 0.9268]\n",
       "PeriodicSite: Mg (2.363, 5.332, -0.6312) [0.6136, 0.8327, 0.1717]\n",
       "PeriodicSite: Br (2.363, 0.5213, 6.006) [0.6151, 0.08141, 0.9171]"
      ]
     },
     "execution_count": 2,
     "metadata": {},
     "output_type": "execute_result"
    }
   ],
   "source": [
    "bad_structure"
   ]
  },
  {
   "cell_type": "code",
   "execution_count": 3,
   "metadata": {},
   "outputs": [],
   "source": [
    "import pyxtal"
   ]
  },
  {
   "cell_type": "code",
   "execution_count": 4,
   "metadata": {},
   "outputs": [],
   "source": [
    "ps_good = pyxtal.pyxtal()\n",
    "ps_good.from_seed(bad_structure, tol=0.09)"
   ]
  },
  {
   "cell_type": "code",
   "execution_count": 5,
   "metadata": {},
   "outputs": [
    {
     "data": {
      "text/plain": [
       "\n",
       "------Crystal from Seed------\n",
       "Dimension: 3\n",
       "Composition: Br8Mg4\n",
       "Group: A m m 2 (38)\n",
       "  3.8412,   7.8800,  10.9531,  90.0000,  90.0000,  90.0000, orthorhombic\n",
       "Wyckoff sites:\n",
       "\tBr @ [ 0.5000  0.7502  0.3311], WP [4e] Site [m..]\n",
       "\tBr @ [ 0.0000  0.0000  0.0822], WP [2a] Site [mm2]\n",
       "\tMg @ [ 0.5000  0.7499  0.0812], WP [4e] Site [m..]\n",
       "\tBr @ [ 0.0000  0.0000  0.5732], WP [2a] Site [mm2]"
      ]
     },
     "execution_count": 5,
     "metadata": {},
     "output_type": "execute_result"
    }
   ],
   "source": [
    "ps_good"
   ]
  },
  {
   "cell_type": "code",
   "execution_count": 6,
   "metadata": {},
   "outputs": [],
   "source": [
    "ps_bad = pyxtal.pyxtal()\n",
    "ps_bad.from_seed(bad_structure, tol=0.1)"
   ]
  },
  {
   "cell_type": "code",
   "execution_count": 7,
   "metadata": {},
   "outputs": [
    {
     "data": {
      "text/plain": [
       "\n",
       "------Crystal from Seed------\n",
       "Dimension: 3\n",
       "Composition: Br2Mg1\n",
       "Group: P m m m (47)\n",
       "  3.8412,   3.9400,   5.4765,  90.0000,  90.0000,  90.0000, orthorhombic\n",
       "Wyckoff sites:\n",
       "\tBr @ [ 0.5000  0.5000  0.0000], WP [1f] Site [mmm]\n",
       "\tBr @ [ 0.0000  0.0000  0.5000], WP [1c] Site [mmm]\n",
       "\tMg @ [ 0.5000  0.5000  0.5000], WP [1h] Site [mmm]"
      ]
     },
     "execution_count": 7,
     "metadata": {},
     "output_type": "execute_result"
    }
   ],
   "source": [
    "ps_bad"
   ]
  }
 ],
 "metadata": {
  "kernelspec": {
   "display_name": "wyckofftransformer-FeCwefly-py3.10",
   "language": "python",
   "name": "python3"
  },
  "language_info": {
   "codemirror_mode": {
    "name": "ipython",
    "version": 3
   },
   "file_extension": ".py",
   "mimetype": "text/x-python",
   "name": "python",
   "nbconvert_exporter": "python",
   "pygments_lexer": "ipython3",
   "version": "3.10.12"
  }
 },
 "nbformat": 4,
 "nbformat_minor": 2
}
