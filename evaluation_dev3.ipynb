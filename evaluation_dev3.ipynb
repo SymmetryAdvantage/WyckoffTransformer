{
 "cells": [
  {
   "cell_type": "code",
   "execution_count": 1,
   "metadata": {},
   "outputs": [
    {
     "name": "stdout",
     "output_type": "stream",
     "text": [
      "env: CUDA_VISIBLE_DEVICES=\n"
     ]
    }
   ],
   "source": [
    "%env CUDA_VISIBLE_DEVICES="
   ]
  },
  {
   "cell_type": "code",
   "execution_count": 2,
   "metadata": {},
   "outputs": [],
   "source": [
    "import gzip\n",
    "import pickle\n",
    "from pathlib import Path"
   ]
  },
  {
   "cell_type": "code",
   "execution_count": 3,
   "metadata": {},
   "outputs": [],
   "source": [
    "diffcspp_path = Path(\"cache\", \"mp_20\", \"analysis_datasets\", \"DiffCSP++\", \"CHGNet_fix_release.pkl.gz\")\n",
    "with gzip.open(diffcspp_path, \"rb\") as f:\n",
    "    diffcsppp_chg_relaxed = pickle.load(f)\n",
    "mp_20_test_path = Path(\"cache\", \"mp_20\", \"analysis_datasets\", \"mp_20\", \"test.pkl.gz\")\n",
    "with gzip.open(mp_20_test_path, \"rb\") as f:\n",
    "    mp_20_test = pickle.load(f)"
   ]
  },
  {
   "cell_type": "code",
   "execution_count": 4,
   "metadata": {},
   "outputs": [],
   "source": [
    "diffcsppp_chg_relaxed.compute_wyckoffs(n_jobs=20)"
   ]
  },
  {
   "cell_type": "code",
   "execution_count": 4,
   "metadata": {},
   "outputs": [],
   "source": [
    "import importlib\n",
    "import evaluation.cdvae_metrics\n",
    "importlib.reload(evaluation.cdvae_metrics)\n",
    "\n",
    "eval = evaluation.cdvae_metrics.GenEval(\n",
    "    diffcsppp_chg_relaxed.data.cdvae_crystal.tolist(),\n",
    "    mp_20_test.data.cdvae_crystal.tolist(),\n",
    "    n_samples=850, eval_model_name=\"mp20\")"
   ]
  },
  {
   "cell_type": "code",
   "execution_count": 5,
   "metadata": {},
   "outputs": [
    {
     "data": {
      "application/vnd.jupyter.widget-view+json": {
       "model_id": "30d7c8b9f54b46809302aa48af3d68b1",
       "version_major": 2,
       "version_minor": 0
      },
      "text/plain": [
       "  0%|          | 0/850 [00:00<?, ?it/s]"
      ]
     },
     "metadata": {},
     "output_type": "display_data"
    },
    {
     "data": {
      "application/vnd.jupyter.widget-view+json": {
       "model_id": "2740dfcb040441728040344a252dbfe5",
       "version_major": 2,
       "version_minor": 0
      },
      "text/plain": [
       "  0%|          | 0/9046 [00:00<?, ?it/s]"
      ]
     },
     "metadata": {},
     "output_type": "display_data"
    },
    {
     "data": {
      "text/plain": [
       "{'wdist_prop': 0.03465153724870259}"
      ]
     },
     "execution_count": 5,
     "metadata": {},
     "output_type": "execute_result"
    }
   ],
   "source": [
    "eval.get_prop_wdist()"
   ]
  },
  {
   "cell_type": "code",
   "execution_count": 6,
   "metadata": {},
   "outputs": [
    {
     "data": {
      "text/plain": [
       "{'wdist_density': 0.14201182907433782}"
      ]
     },
     "execution_count": 6,
     "metadata": {},
     "output_type": "execute_result"
    }
   ],
   "source": [
    "eval.get_density_wdist()"
   ]
  },
  {
   "cell_type": "code",
   "execution_count": 7,
   "metadata": {},
   "outputs": [
    {
     "data": {
      "text/plain": [
       "{'cov_recall': 0.9646252487287199,\n",
       " 'cov_precision': 0.994,\n",
       " 'amsd_recall': 0.15816723893445786,\n",
       " 'amsd_precision': 0.13375143008381513,\n",
       " 'amcd_recall': 5.138831875394305,\n",
       " 'amcd_precision': 3.4067594457467947}"
      ]
     },
     "execution_count": 7,
     "metadata": {},
     "output_type": "execute_result"
    }
   ],
   "source": [
    "eval.get_coverage()"
   ]
  },
  {
   "cell_type": "code",
   "execution_count": 8,
   "metadata": {},
   "outputs": [],
   "source": [
    "mp20_val_path = Path(\"cache\", \"mp_20\", \"analysis_datasets\", \"mp_20\", \"val.pkl.gz\")\n",
    "with gzip.open(mp20_val_path, \"rb\") as f:\n",
    "    mp20_val = pickle.load(f)"
   ]
  },
  {
   "cell_type": "code",
   "execution_count": 18,
   "metadata": {},
   "outputs": [],
   "source": [
    "eval_val_vs_test = evaluation.cdvae_metrics.GenEval(\n",
    "    mp20_val.data.cdvae_crystal.tolist(),\n",
    "    mp_20_test.data.cdvae_crystal.tolist(),\n",
    "    n_samples=1000, eval_model_name=\"mp20\")"
   ]
  },
  {
   "cell_type": "code",
   "execution_count": 19,
   "metadata": {},
   "outputs": [
    {
     "data": {
      "text/plain": [
       "{'cov_recall': 0.9981207163387132,\n",
       " 'cov_precision': 0.9980103901845916,\n",
       " 'amsd_recall': 0.0691269383222219,\n",
       " 'amsd_precision': 0.06883625051535347,\n",
       " 'amcd_recall': 2.4751866206273627,\n",
       " 'amcd_precision': 2.4558400287072604}"
      ]
     },
     "execution_count": 19,
     "metadata": {},
     "output_type": "execute_result"
    }
   ],
   "source": [
    "eval_val_vs_test.get_coverage()"
   ]
  },
  {
   "cell_type": "code",
   "execution_count": 20,
   "metadata": {},
   "outputs": [
    {
     "data": {
      "text/plain": [
       "{'wdist_density': 0.172412821056586}"
      ]
     },
     "execution_count": 20,
     "metadata": {},
     "output_type": "execute_result"
    }
   ],
   "source": [
    "eval_val_vs_test.get_density_wdist()"
   ]
  },
  {
   "cell_type": "code",
   "execution_count": 21,
   "metadata": {},
   "outputs": [
    {
     "data": {
      "application/vnd.jupyter.widget-view+json": {
       "model_id": "9dd93a0fc53a4f6494414d71a180a6e9",
       "version_major": 2,
       "version_minor": 0
      },
      "text/plain": [
       "  0%|          | 0/1000 [00:00<?, ?it/s]"
      ]
     },
     "metadata": {},
     "output_type": "display_data"
    },
    {
     "data": {
      "application/vnd.jupyter.widget-view+json": {
       "model_id": "99e99fc6b15f49c2959598fb72dc7f82",
       "version_major": 2,
       "version_minor": 0
      },
      "text/plain": [
       "  0%|          | 0/9046 [00:00<?, ?it/s]"
      ]
     },
     "metadata": {},
     "output_type": "display_data"
    },
    {
     "data": {
      "text/plain": [
       "{'wdist_prop': 0.09629728455048549}"
      ]
     },
     "execution_count": 21,
     "metadata": {},
     "output_type": "execute_result"
    }
   ],
   "source": [
    "eval_val_vs_test.get_prop_wdist()"
   ]
  },
  {
   "cell_type": "code",
   "execution_count": 22,
   "metadata": {},
   "outputs": [
    {
     "data": {
      "text/plain": [
       "{'comp_valid': 0.9053829998894661,\n",
       " 'struct_valid': 1.0,\n",
       " 'valid': 0.9053829998894661}"
      ]
     },
     "execution_count": 22,
     "metadata": {},
     "output_type": "execute_result"
    }
   ],
   "source": [
    "eval_val_vs_test.get_validity()"
   ]
  },
  {
   "cell_type": "code",
   "execution_count": 11,
   "metadata": {},
   "outputs": [
    {
     "data": {
      "text/plain": [
       "{'wdist_density': 0.14201182907433782}"
      ]
     },
     "execution_count": 11,
     "metadata": {},
     "output_type": "execute_result"
    }
   ],
   "source": [
    "eval.get_density_wdist()"
   ]
  },
  {
   "cell_type": "code",
   "execution_count": 4,
   "metadata": {},
   "outputs": [
    {
     "ename": "NameError",
     "evalue": "name 'evaluation' is not defined",
     "output_type": "error",
     "traceback": [
      "\u001b[0;31m---------------------------------------------------------------------------\u001b[0m",
      "\u001b[0;31mNameError\u001b[0m                                 Traceback (most recent call last)",
      "Cell \u001b[0;32mIn[4], line 4\u001b[0m\n\u001b[1;32m      2\u001b[0m \u001b[38;5;28;01mwith\u001b[39;00m gzip\u001b[38;5;241m.\u001b[39mopen(diffcsp_path, \u001b[38;5;124m\"\u001b[39m\u001b[38;5;124mrb\u001b[39m\u001b[38;5;124m\"\u001b[39m) \u001b[38;5;28;01mas\u001b[39;00m f:\n\u001b[1;32m      3\u001b[0m     diffcsp \u001b[38;5;241m=\u001b[39m pickle\u001b[38;5;241m.\u001b[39mload(f)\n\u001b[0;32m----> 4\u001b[0m eval_diffcsp \u001b[38;5;241m=\u001b[39m \u001b[43mevaluation\u001b[49m\u001b[38;5;241m.\u001b[39mcdvae_metrics\u001b[38;5;241m.\u001b[39mGenEval(\n\u001b[1;32m      5\u001b[0m     diffcsp\u001b[38;5;241m.\u001b[39mdata\u001b[38;5;241m.\u001b[39mcdvae_crystal\u001b[38;5;241m.\u001b[39mtolist(),\n\u001b[1;32m      6\u001b[0m     mp_20_test\u001b[38;5;241m.\u001b[39mdata\u001b[38;5;241m.\u001b[39mcdvae_crystal\u001b[38;5;241m.\u001b[39mtolist(),\n\u001b[1;32m      7\u001b[0m     n_samples\u001b[38;5;241m=\u001b[39m\u001b[38;5;241m1000\u001b[39m, eval_model_name\u001b[38;5;241m=\u001b[39m\u001b[38;5;124m\"\u001b[39m\u001b[38;5;124mmp20\u001b[39m\u001b[38;5;124m\"\u001b[39m)\n",
      "\u001b[0;31mNameError\u001b[0m: name 'evaluation' is not defined"
     ]
    }
   ],
   "source": [
    "diffcsp_path = Path(\"cache\", \"mp_20\", \"analysis_datasets\", \"DiffCSP.pkl.gz\")\n",
    "with gzip.open(diffcsp_path, \"rb\") as f:\n",
    "    diffcsp = pickle.load(f)\n",
    "eval_diffcsp = evaluation.cdvae_metrics.GenEval(\n",
    "    diffcsp.data.cdvae_crystal.tolist(),\n",
    "    mp_20_test.data.cdvae_crystal.tolist(),\n",
    "    n_samples=1000, eval_model_name=\"mp20\")"
   ]
  },
  {
   "cell_type": "code",
   "execution_count": 5,
   "metadata": {},
   "outputs": [
    {
     "name": "stderr",
     "output_type": "stream",
     "text": [
      "/home/kna/.cache/pypoetry/virtualenvs/wyckofftransformer-FeCwefly-py3.10/lib/python3.10/site-packages/pymatgen/core/periodic_table.py:289: UserWarning: No Pauling electronegativity for He. Setting to NaN. This has no physical meaning, and is mainly done to avoid errors caused by the code expecting a float.\n",
      "  warnings.warn(\n",
      "spglib: ssm_get_exact_positions failed.\n",
      "spglib: get_bravais_exact_positions_and_lattice failed.\n",
      "spglib: ssm_get_exact_positions failed.\n",
      "spglib: get_bravais_exact_positions_and_lattice failed.\n",
      "spglib: ssm_get_exact_positions failed.\n",
      "spglib: get_bravais_exact_positions_and_lattice failed.\n",
      "spglib: ssm_get_exact_positions failed.\n",
      "spglib: get_bravais_exact_positions_and_lattice failed.\n",
      "spglib: ssm_get_exact_positions failed.\n",
      "spglib: get_bravais_exact_positions_and_lattice failed.\n",
      "spglib: ssm_get_exact_positions failed.\n",
      "spglib: get_bravais_exact_positions_and_lattice failed.\n",
      "spglib: ssm_get_exact_positions failed.\n",
      "spglib: get_bravais_exact_positions_and_lattice failed.\n",
      "spglib: ssm_get_exact_positions failed.\n",
      "spglib: get_bravais_exact_positions_and_lattice failed.\n",
      "spglib: ssm_get_exact_positions failed.\n",
      "spglib: get_bravais_exact_positions_and_lattice failed.\n",
      "spglib: ssm_get_exact_positions failed.\n",
      "spglib: get_bravais_exact_positions_and_lattice failed.\n",
      "spglib: ssm_get_exact_positions failed.\n",
      "spglib: get_bravais_exact_positions_and_lattice failed.\n",
      "spglib: No centring was found.\n",
      "spglib: ssm_get_exact_positions failed.\n",
      "spglib: get_bravais_exact_positions_and_lattice failed.\n",
      "spglib: ssm_get_exact_positions failed.\n",
      "spglib: get_bravais_exact_positions_and_lattice failed.\n",
      "spglib: ssm_get_exact_positions failed.\n",
      "spglib: get_bravais_exact_positions_and_lattice failed.\n",
      "spglib: ssm_get_exact_positions failed.\n",
      "spglib: get_bravais_exact_positions_and_lattice failed.\n",
      "spglib: ssm_get_exact_positions failed.\n",
      "spglib: get_bravais_exact_positions_and_lattice failed.\n",
      "spglib: Primitive lattice cleaning is incomplete\n",
      "spglib: ssm_get_exact_positions failed.\n",
      "spglib: get_bravais_exact_positions_and_lattice failed.\n",
      "spglib: ssm_get_exact_positions failed.\n",
      "spglib: get_bravais_exact_positions_and_lattice failed.\n",
      "spglib: ssm_get_exact_positions failed.\n",
      "spglib: get_bravais_exact_positions_and_lattice failed.\n",
      "spglib: ssm_get_exact_positions failed.\n",
      "spglib: get_bravais_exact_positions_and_lattice failed.\n",
      "spglib: ssm_get_exact_positions failed.\n",
      "spglib: get_bravais_exact_positions_and_lattice failed.\n",
      "spglib: ssm_get_exact_positions failed.\n",
      "spglib: get_bravais_exact_positions_and_lattice failed.\n",
      "spglib: ssm_get_exact_positions failed.\n",
      "spglib: get_bravais_exact_positions_and_lattice failed.\n",
      "spglib: ssm_get_exact_positions failed.\n",
      "spglib: get_bravais_exact_positions_and_lattice failed.\n",
      "/home/kna/.cache/pypoetry/virtualenvs/wyckofftransformer-FeCwefly-py3.10/lib/python3.10/site-packages/pymatgen/core/periodic_table.py:289: UserWarning: No Pauling electronegativity for He. Setting to NaN. This has no physical meaning, and is mainly done to avoid errors caused by the code expecting a float.\n",
      "  warnings.warn(\n",
      "spglib: ssm_get_exact_positions failed.\n",
      "spglib: get_bravais_exact_positions_and_lattice failed.\n",
      "spglib: ssm_get_exact_positions failed.\n",
      "spglib: get_bravais_exact_positions_and_lattice failed.\n",
      "spglib: ssm_get_exact_positions failed.\n",
      "spglib: get_bravais_exact_positions_and_lattice failed.\n",
      "spglib: ssm_get_exact_positions failed.\n",
      "spglib: get_bravais_exact_positions_and_lattice failed.\n"
     ]
    },
    {
     "ename": "AttributeError",
     "evalue": "'NoneType' object has no attribute 'international'",
     "output_type": "error",
     "traceback": [
      "\u001b[0;31m---------------------------------------------------------------------------\u001b[0m",
      "\u001b[0;31mRemoteTraceback\u001b[0m                           Traceback (most recent call last)",
      "\u001b[0;31mRemoteTraceback\u001b[0m: \n\"\"\"\nTraceback (most recent call last):\n  File \"/usr/lib/python3.10/multiprocessing/pool.py\", line 125, in worker\n    result = (True, func(*args, **kwds))\n  File \"/usr/lib/python3.10/multiprocessing/pool.py\", line 48, in mapstar\n    return list(map(*args))\n  File \"/home/kna/WyckoffTransformer/data.py\", line 51, in structure_to_sites\n    pyxtal_structure.from_seed(structure, tol=tol)\n  File \"/home/kna/.cache/pypoetry/virtualenvs/wyckofftransformer-FeCwefly-py3.10/lib/python3.10/site-packages/pyxtal/__init__.py\", line 448, in from_seed\n    self._from_pymatgen(seed, tol, style=style)\n  File \"/home/kna/.cache/pypoetry/virtualenvs/wyckofftransformer-FeCwefly-py3.10/lib/python3.10/site-packages/pyxtal/__init__.py\", line 483, in _from_pymatgen\n    sym_struc, number = get_symmetrized_pmg(\n  File \"/home/kna/.cache/pypoetry/virtualenvs/wyckofftransformer-FeCwefly-py3.10/lib/python3.10/site-packages/pyxtal/util.py\", line 138, in get_symmetrized_pmg\n    return s.get_symmetrized_structure(), s.get_space_group_number()\n  File \"/home/kna/.cache/pypoetry/virtualenvs/wyckofftransformer-FeCwefly-py3.10/lib/python3.10/site-packages/pymatgen/symmetry/analyzer.py\", line 343, in get_symmetrized_structure\n    self.get_space_group_symbol(),\n  File \"/home/kna/.cache/pypoetry/virtualenvs/wyckofftransformer-FeCwefly-py3.10/lib/python3.10/site-packages/pymatgen/symmetry/analyzer.py\", line 152, in get_space_group_symbol\n    return self._space_group_data.international\nAttributeError: 'NoneType' object has no attribute 'international'\n\"\"\"",
      "\nThe above exception was the direct cause of the following exception:\n",
      "\u001b[0;31mAttributeError\u001b[0m                            Traceback (most recent call last)",
      "Cell \u001b[0;32mIn[5], line 1\u001b[0m\n\u001b[0;32m----> 1\u001b[0m \u001b[43mdiffcsp\u001b[49m\u001b[38;5;241;43m.\u001b[39;49m\u001b[43mcompute_wyckoffs\u001b[49m\u001b[43m(\u001b[49m\u001b[43m)\u001b[49m\n",
      "File \u001b[0;32m~/WyckoffTransformer/evaluation/generated_dataset.py:213\u001b[0m, in \u001b[0;36mGeneratedDataset.compute_wyckoffs\u001b[0;34m(self, n_jobs)\u001b[0m\n\u001b[1;32m    212\u001b[0m \u001b[38;5;28;01mdef\u001b[39;00m \u001b[38;5;21mcompute_wyckoffs\u001b[39m(\u001b[38;5;28mself\u001b[39m, n_jobs: Optional[\u001b[38;5;28mint\u001b[39m] \u001b[38;5;241m=\u001b[39m \u001b[38;5;28;01mNone\u001b[39;00m):\n\u001b[0;32m--> 213\u001b[0m     wyckoffs \u001b[38;5;241m=\u001b[39m \u001b[43mcompute_symmetry_sites\u001b[49m\u001b[43m(\u001b[49m\u001b[43m{\u001b[49m\u001b[38;5;124;43m\"\u001b[39;49m\u001b[38;5;124;43m_\u001b[39;49m\u001b[38;5;124;43m\"\u001b[39;49m\u001b[43m:\u001b[49m\u001b[43m \u001b[49m\u001b[38;5;28;43mself\u001b[39;49m\u001b[38;5;241;43m.\u001b[39;49m\u001b[43mdata\u001b[49m\u001b[43m}\u001b[49m\u001b[43m,\u001b[49m\u001b[43m \u001b[49m\u001b[43mn_jobs\u001b[49m\u001b[38;5;241;43m=\u001b[39;49m\u001b[43mn_jobs\u001b[49m\u001b[43m)\u001b[49m[\u001b[38;5;124m\"\u001b[39m\u001b[38;5;124m_\u001b[39m\u001b[38;5;124m\"\u001b[39m]\n\u001b[1;32m    214\u001b[0m     \u001b[38;5;28mself\u001b[39m\u001b[38;5;241m.\u001b[39mdata\u001b[38;5;241m.\u001b[39mloc[:, wyckoffs\u001b[38;5;241m.\u001b[39mcolumns] \u001b[38;5;241m=\u001b[39m wyckoffs\n",
      "File \u001b[0;32m~/WyckoffTransformer/data.py:164\u001b[0m, in \u001b[0;36mcompute_symmetry_sites\u001b[0;34m(datasets_pd, wychoffs_enumerated_by_ss_file, n_jobs)\u001b[0m\n\u001b[1;32m    161\u001b[0m \u001b[38;5;28;01mfor\u001b[39;00m dataset_name, dataset \u001b[38;5;129;01min\u001b[39;00m datasets_pd\u001b[38;5;241m.\u001b[39mitems():\n\u001b[1;32m    162\u001b[0m     \u001b[38;5;28;01mwith\u001b[39;00m Pool(processes\u001b[38;5;241m=\u001b[39mn_jobs) \u001b[38;5;28;01mas\u001b[39;00m p:\n\u001b[1;32m    163\u001b[0m         symmetry_dataset \u001b[38;5;241m=\u001b[39m pd\u001b[38;5;241m.\u001b[39mDataFrame\u001b[38;5;241m.\u001b[39mfrom_records(\n\u001b[0;32m--> 164\u001b[0m             \u001b[43mp\u001b[49m\u001b[38;5;241;43m.\u001b[39;49m\u001b[43mmap\u001b[49m\u001b[43m(\u001b[49m\u001b[43mstructure_to_sites_with_args\u001b[49m\u001b[43m,\u001b[49m\u001b[43m \u001b[49m\u001b[43mdataset\u001b[49m\u001b[43m[\u001b[49m\u001b[38;5;124;43m'\u001b[39;49m\u001b[38;5;124;43mstructure\u001b[39;49m\u001b[38;5;124;43m'\u001b[39;49m\u001b[43m]\u001b[49m\u001b[43m)\u001b[49m)\u001b[38;5;241m.\u001b[39mset_index(dataset\u001b[38;5;241m.\u001b[39mindex)\n\u001b[1;32m    165\u001b[0m     symmetry_dataset[\u001b[38;5;124m\"\u001b[39m\u001b[38;5;124mcomposition\u001b[39m\u001b[38;5;124m\"\u001b[39m] \u001b[38;5;241m=\u001b[39m symmetry_dataset\u001b[38;5;241m.\u001b[39mapply(get_composition_from_symmetry_sites, axis\u001b[38;5;241m=\u001b[39m\u001b[38;5;241m1\u001b[39m)\n\u001b[1;32m    166\u001b[0m     result[dataset_name] \u001b[38;5;241m=\u001b[39m symmetry_dataset\n",
      "File \u001b[0;32m/usr/lib/python3.10/multiprocessing/pool.py:367\u001b[0m, in \u001b[0;36mPool.map\u001b[0;34m(self, func, iterable, chunksize)\u001b[0m\n\u001b[1;32m    362\u001b[0m \u001b[38;5;28;01mdef\u001b[39;00m \u001b[38;5;21mmap\u001b[39m(\u001b[38;5;28mself\u001b[39m, func, iterable, chunksize\u001b[38;5;241m=\u001b[39m\u001b[38;5;28;01mNone\u001b[39;00m):\n\u001b[1;32m    363\u001b[0m \u001b[38;5;250m    \u001b[39m\u001b[38;5;124;03m'''\u001b[39;00m\n\u001b[1;32m    364\u001b[0m \u001b[38;5;124;03m    Apply `func` to each element in `iterable`, collecting the results\u001b[39;00m\n\u001b[1;32m    365\u001b[0m \u001b[38;5;124;03m    in a list that is returned.\u001b[39;00m\n\u001b[1;32m    366\u001b[0m \u001b[38;5;124;03m    '''\u001b[39;00m\n\u001b[0;32m--> 367\u001b[0m     \u001b[38;5;28;01mreturn\u001b[39;00m \u001b[38;5;28;43mself\u001b[39;49m\u001b[38;5;241;43m.\u001b[39;49m\u001b[43m_map_async\u001b[49m\u001b[43m(\u001b[49m\u001b[43mfunc\u001b[49m\u001b[43m,\u001b[49m\u001b[43m \u001b[49m\u001b[43miterable\u001b[49m\u001b[43m,\u001b[49m\u001b[43m \u001b[49m\u001b[43mmapstar\u001b[49m\u001b[43m,\u001b[49m\u001b[43m \u001b[49m\u001b[43mchunksize\u001b[49m\u001b[43m)\u001b[49m\u001b[38;5;241;43m.\u001b[39;49m\u001b[43mget\u001b[49m\u001b[43m(\u001b[49m\u001b[43m)\u001b[49m\n",
      "File \u001b[0;32m/usr/lib/python3.10/multiprocessing/pool.py:774\u001b[0m, in \u001b[0;36mApplyResult.get\u001b[0;34m(self, timeout)\u001b[0m\n\u001b[1;32m    772\u001b[0m     \u001b[38;5;28;01mreturn\u001b[39;00m \u001b[38;5;28mself\u001b[39m\u001b[38;5;241m.\u001b[39m_value\n\u001b[1;32m    773\u001b[0m \u001b[38;5;28;01melse\u001b[39;00m:\n\u001b[0;32m--> 774\u001b[0m     \u001b[38;5;28;01mraise\u001b[39;00m \u001b[38;5;28mself\u001b[39m\u001b[38;5;241m.\u001b[39m_value\n",
      "\u001b[0;31mAttributeError\u001b[0m: 'NoneType' object has no attribute 'international'"
     ]
    }
   ],
   "source": [
    "diffcsp.compute_wyckoffs()"
   ]
  },
  {
   "cell_type": "code",
   "execution_count": 7,
   "metadata": {},
   "outputs": [],
   "source": [
    "import pyxtal"
   ]
  },
  {
   "cell_type": "code",
   "execution_count": 8,
   "metadata": {},
   "outputs": [
    {
     "data": {
      "text/plain": [
       "'1.0.3'"
      ]
     },
     "execution_count": 8,
     "metadata": {},
     "output_type": "execute_result"
    }
   ],
   "source": [
    "pyxtal.__version__"
   ]
  },
  {
   "cell_type": "code",
   "execution_count": null,
   "metadata": {},
   "outputs": [],
   "source": [
    "diffcsp.data.head()"
   ]
  },
  {
   "cell_type": "code",
   "execution_count": 13,
   "metadata": {},
   "outputs": [
    {
     "data": {
      "text/plain": [
       "{'wdist_density': 0.3360415514138243}"
      ]
     },
     "execution_count": 13,
     "metadata": {},
     "output_type": "execute_result"
    }
   ],
   "source": [
    "eval_diffcsp.get_density_wdist()"
   ]
  },
  {
   "cell_type": "code",
   "execution_count": 14,
   "metadata": {},
   "outputs": [
    {
     "data": {
      "text/plain": [
       "{'cov_recall': 0.9971258014592085,\n",
       " 'cov_precision': 0.9976,\n",
       " 'amsd_recall': 0.10810102630180003,\n",
       " 'amsd_precision': 0.12991439316253264,\n",
       " 'amcd_recall': 2.9395680021169595,\n",
       " 'amcd_precision': 3.1490774656747944}"
      ]
     },
     "execution_count": 14,
     "metadata": {},
     "output_type": "execute_result"
    }
   ],
   "source": [
    "eval_diffcsp.get_coverage()"
   ]
  },
  {
   "cell_type": "code",
   "execution_count": 15,
   "metadata": {},
   "outputs": [
    {
     "data": {
      "text/plain": [
       "{'wdist_num_elems': 0.3398206942294938}"
      ]
     },
     "execution_count": 15,
     "metadata": {},
     "output_type": "execute_result"
    }
   ],
   "source": [
    "eval_diffcsp.get_num_elem_wdist()"
   ]
  },
  {
   "cell_type": "code",
   "execution_count": 16,
   "metadata": {},
   "outputs": [
    {
     "data": {
      "text/plain": [
       "{'comp_valid': 0.8322, 'struct_valid': 1.0, 'valid': 0.8322}"
      ]
     },
     "execution_count": 16,
     "metadata": {},
     "output_type": "execute_result"
    }
   ],
   "source": [
    "eval_diffcsp.get_validity()"
   ]
  },
  {
   "cell_type": "code",
   "execution_count": 17,
   "metadata": {},
   "outputs": [
    {
     "data": {
      "application/vnd.jupyter.widget-view+json": {
       "model_id": "4cc914ecd9034faeb9892dfdc58c6d30",
       "version_major": 2,
       "version_minor": 0
      },
      "text/plain": [
       "  0%|          | 0/1000 [00:00<?, ?it/s]"
      ]
     },
     "metadata": {},
     "output_type": "display_data"
    },
    {
     "data": {
      "application/vnd.jupyter.widget-view+json": {
       "model_id": "2706395cf8bc43cca968917c1d71d243",
       "version_major": 2,
       "version_minor": 0
      },
      "text/plain": [
       "  0%|          | 0/9046 [00:00<?, ?it/s]"
      ]
     },
     "metadata": {},
     "output_type": "display_data"
    },
    {
     "data": {
      "text/plain": [
       "{'wdist_prop': 0.11277692582306545}"
      ]
     },
     "execution_count": 17,
     "metadata": {},
     "output_type": "execute_result"
    }
   ],
   "source": [
    "eval_diffcsp.get_prop_wdist()"
   ]
  }
 ],
 "metadata": {
  "kernelspec": {
   "display_name": "wyckofftransformer-FeCwefly-py3.10",
   "language": "python",
   "name": "python3"
  },
  "language_info": {
   "codemirror_mode": {
    "name": "ipython",
    "version": 3
   },
   "file_extension": ".py",
   "mimetype": "text/x-python",
   "name": "python",
   "nbconvert_exporter": "python",
   "pygments_lexer": "ipython3",
   "version": "3.10.12"
  }
 },
 "nbformat": 4,
 "nbformat_minor": 2
}
