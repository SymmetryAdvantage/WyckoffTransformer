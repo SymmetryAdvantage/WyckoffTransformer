{
 "cells": [
  {
   "cell_type": "code",
   "execution_count": 1,
   "metadata": {},
   "outputs": [
    {
     "name": "stdout",
     "output_type": "stream",
     "text": [
      "env: CUDA_VISIBLE_DEVICES=\n"
     ]
    }
   ],
   "source": [
    "%env CUDA_VISIBLE_DEVICES="
   ]
  },
  {
   "cell_type": "code",
   "execution_count": 2,
   "metadata": {},
   "outputs": [],
   "source": [
    "import gzip\n",
    "import pickle\n",
    "from pathlib import Path"
   ]
  },
  {
   "cell_type": "code",
   "execution_count": 3,
   "metadata": {},
   "outputs": [],
   "source": [
    "diffcspp_path = Path(\"cache\", \"mp_20\", \"analysis_datasets\", \"DiffCSP++\", \"CHGNet_fix_release.pkl.gz\")\n",
    "with gzip.open(diffcspp_path, \"rb\") as f:\n",
    "    diffcsppp_chg_relaxed = pickle.load(f)\n",
    "mp_20_test_path = Path(\"cache\", \"mp_20\", \"analysis_datasets\", \"mp_20\", \"test.pkl.gz\")\n",
    "with gzip.open(mp_20_test_path, \"rb\") as f:\n",
    "    mp_20_test = pickle.load(f)"
   ]
  },
  {
   "cell_type": "code",
   "execution_count": 4,
   "metadata": {},
   "outputs": [],
   "source": [
    "import importlib\n",
    "import evaluation.cdvae_metrics\n",
    "importlib.reload(evaluation.cdvae_metrics)\n",
    "\n",
    "eval = evaluation.cdvae_metrics.GenEval(\n",
    "    diffcsppp_chg_relaxed.data.cdvae_crystal.tolist(),\n",
    "    mp_20_test.data.cdvae_crystal.tolist(),\n",
    "    n_samples=850, eval_model_name=\"mp20\")"
   ]
  },
  {
   "cell_type": "code",
   "execution_count": 5,
   "metadata": {},
   "outputs": [
    {
     "data": {
      "application/vnd.jupyter.widget-view+json": {
       "model_id": "30d7c8b9f54b46809302aa48af3d68b1",
       "version_major": 2,
       "version_minor": 0
      },
      "text/plain": [
       "  0%|          | 0/850 [00:00<?, ?it/s]"
      ]
     },
     "metadata": {},
     "output_type": "display_data"
    },
    {
     "data": {
      "application/vnd.jupyter.widget-view+json": {
       "model_id": "2740dfcb040441728040344a252dbfe5",
       "version_major": 2,
       "version_minor": 0
      },
      "text/plain": [
       "  0%|          | 0/9046 [00:00<?, ?it/s]"
      ]
     },
     "metadata": {},
     "output_type": "display_data"
    },
    {
     "data": {
      "text/plain": [
       "{'wdist_prop': 0.03465153724870259}"
      ]
     },
     "execution_count": 5,
     "metadata": {},
     "output_type": "execute_result"
    }
   ],
   "source": [
    "eval.get_prop_wdist()"
   ]
  },
  {
   "cell_type": "code",
   "execution_count": 6,
   "metadata": {},
   "outputs": [
    {
     "data": {
      "text/plain": [
       "{'wdist_density': 0.14201182907433782}"
      ]
     },
     "execution_count": 6,
     "metadata": {},
     "output_type": "execute_result"
    }
   ],
   "source": [
    "eval.get_density_wdist()"
   ]
  },
  {
   "cell_type": "code",
   "execution_count": 7,
   "metadata": {},
   "outputs": [
    {
     "data": {
      "text/plain": [
       "{'cov_recall': 0.9646252487287199,\n",
       " 'cov_precision': 0.994,\n",
       " 'amsd_recall': 0.15816723893445786,\n",
       " 'amsd_precision': 0.13375143008381513,\n",
       " 'amcd_recall': 5.138831875394305,\n",
       " 'amcd_precision': 3.4067594457467947}"
      ]
     },
     "execution_count": 7,
     "metadata": {},
     "output_type": "execute_result"
    }
   ],
   "source": [
    "eval.get_coverage()"
   ]
  },
  {
   "cell_type": "code",
   "execution_count": 8,
   "metadata": {},
   "outputs": [],
   "source": [
    "mp20_val_path = Path(\"cache\", \"mp_20\", \"analysis_datasets\", \"mp_20\", \"val.pkl.gz\")\n",
    "with gzip.open(mp20_val_path, \"rb\") as f:\n",
    "    mp20_val = pickle.load(f)\n",
    "eval_val_vs_test = evaluation.cdvae_metrics.GenEval(\n",
    "    mp20_val.data.cdvae_crystal.tolist(),\n",
    "    mp_20_test.data.cdvae_crystal.tolist(),\n",
    "    n_samples=1000, eval_model_name=\"mp20\")"
   ]
  },
  {
   "cell_type": "code",
   "execution_count": 9,
   "metadata": {},
   "outputs": [
    {
     "data": {
      "text/plain": [
       "{'cov_recall': 0.9981207163387132,\n",
       " 'cov_precision': 0.9980103901845916,\n",
       " 'amsd_recall': 0.0691269383222219,\n",
       " 'amsd_precision': 0.06883625051535347,\n",
       " 'amcd_recall': 2.4751866206273627,\n",
       " 'amcd_precision': 2.4558400287072604}"
      ]
     },
     "execution_count": 9,
     "metadata": {},
     "output_type": "execute_result"
    }
   ],
   "source": [
    "eval_val_vs_test.get_coverage()"
   ]
  },
  {
   "cell_type": "code",
   "execution_count": 10,
   "metadata": {},
   "outputs": [
    {
     "data": {
      "text/plain": [
       "{'wdist_density': 0.17707924885963994}"
      ]
     },
     "execution_count": 10,
     "metadata": {},
     "output_type": "execute_result"
    }
   ],
   "source": [
    "eval_val_vs_test.get_density_wdist()"
   ]
  },
  {
   "cell_type": "code",
   "execution_count": 11,
   "metadata": {},
   "outputs": [
    {
     "data": {
      "text/plain": [
       "{'wdist_density': 0.14201182907433782}"
      ]
     },
     "execution_count": 11,
     "metadata": {},
     "output_type": "execute_result"
    }
   ],
   "source": [
    "eval.get_density_wdist()"
   ]
  },
  {
   "cell_type": "code",
   "execution_count": 12,
   "metadata": {},
   "outputs": [],
   "source": [
    "diffcsp_path = Path(\"cache\", \"mp_20\", \"analysis_datasets\", \"DiffCSP.pkl.gz\")\n",
    "with gzip.open(diffcsp_path, \"rb\") as f:\n",
    "    diffcsp = pickle.load(f)\n",
    "eval_diffcsp = evaluation.cdvae_metrics.GenEval(\n",
    "    diffcsp.data.cdvae_crystal.tolist(),\n",
    "    mp_20_test.data.cdvae_crystal.tolist(),\n",
    "    n_samples=1000, eval_model_name=\"mp20\")"
   ]
  },
  {
   "cell_type": "code",
   "execution_count": 13,
   "metadata": {},
   "outputs": [
    {
     "data": {
      "text/plain": [
       "{'wdist_density': 0.3360415514138243}"
      ]
     },
     "execution_count": 13,
     "metadata": {},
     "output_type": "execute_result"
    }
   ],
   "source": [
    "eval_diffcsp.get_density_wdist()"
   ]
  },
  {
   "cell_type": "code",
   "execution_count": 14,
   "metadata": {},
   "outputs": [
    {
     "data": {
      "text/plain": [
       "{'cov_recall': 0.9971258014592085,\n",
       " 'cov_precision': 0.9976,\n",
       " 'amsd_recall': 0.10810102630180003,\n",
       " 'amsd_precision': 0.12991439316253264,\n",
       " 'amcd_recall': 2.9395680021169595,\n",
       " 'amcd_precision': 3.1490774656747944}"
      ]
     },
     "execution_count": 14,
     "metadata": {},
     "output_type": "execute_result"
    }
   ],
   "source": [
    "eval_diffcsp.get_coverage()"
   ]
  },
  {
   "cell_type": "code",
   "execution_count": 15,
   "metadata": {},
   "outputs": [
    {
     "data": {
      "text/plain": [
       "{'wdist_num_elems': 0.3398206942294938}"
      ]
     },
     "execution_count": 15,
     "metadata": {},
     "output_type": "execute_result"
    }
   ],
   "source": [
    "eval_diffcsp.get_num_elem_wdist()"
   ]
  },
  {
   "cell_type": "code",
   "execution_count": 16,
   "metadata": {},
   "outputs": [
    {
     "data": {
      "text/plain": [
       "{'comp_valid': 0.8322, 'struct_valid': 1.0, 'valid': 0.8322}"
      ]
     },
     "execution_count": 16,
     "metadata": {},
     "output_type": "execute_result"
    }
   ],
   "source": [
    "eval_diffcsp.get_validity()"
   ]
  },
  {
   "cell_type": "code",
   "execution_count": 17,
   "metadata": {},
   "outputs": [
    {
     "data": {
      "application/vnd.jupyter.widget-view+json": {
       "model_id": "4cc914ecd9034faeb9892dfdc58c6d30",
       "version_major": 2,
       "version_minor": 0
      },
      "text/plain": [
       "  0%|          | 0/1000 [00:00<?, ?it/s]"
      ]
     },
     "metadata": {},
     "output_type": "display_data"
    },
    {
     "data": {
      "application/vnd.jupyter.widget-view+json": {
       "model_id": "2706395cf8bc43cca968917c1d71d243",
       "version_major": 2,
       "version_minor": 0
      },
      "text/plain": [
       "  0%|          | 0/9046 [00:00<?, ?it/s]"
      ]
     },
     "metadata": {},
     "output_type": "display_data"
    }
   ],
   "source": [
    "eval_diffcsp.get_prop_wdist()"
   ]
  }
 ],
 "metadata": {
  "kernelspec": {
   "display_name": "wyckofftransformer-FeCwefly-py3.10",
   "language": "python",
   "name": "python3"
  },
  "language_info": {
   "codemirror_mode": {
    "name": "ipython",
    "version": 3
   },
   "file_extension": ".py",
   "mimetype": "text/x-python",
   "name": "python",
   "nbconvert_exporter": "python",
   "pygments_lexer": "ipython3",
   "version": "3.10.12"
  }
 },
 "nbformat": 4,
 "nbformat_minor": 2
}
