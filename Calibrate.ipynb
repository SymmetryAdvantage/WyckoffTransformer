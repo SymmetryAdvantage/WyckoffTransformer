{
 "cells": [
  {
   "cell_type": "code",
   "execution_count": 1,
   "metadata": {},
   "outputs": [
    {
     "name": "stdout",
     "output_type": "stream",
     "text": [
      "env: CUDA_VISIBLE_DEVICES=\"\"\n"
     ]
    }
   ],
   "source": [
    "%env CUDA_VISIBLE_DEVICES \"\""
   ]
  },
  {
   "cell_type": "code",
   "execution_count": 2,
   "metadata": {},
   "outputs": [],
   "source": [
    "from mp_20_utils import load_all_data\n",
    "dataset = \"mp_20_biternary\"\n",
    "#dataset = \"mp_20\"\n",
    "datasets_pd, torch_datasets, site_to_ids, element_to_ids, spacegroup_to_ids, max_len = load_all_data(dataset=dataset)"
   ]
  },
  {
   "cell_type": "code",
   "execution_count": 3,
   "metadata": {},
   "outputs": [
    {
     "data": {
      "text/plain": [
       "WyckoffTransformerModel(\n",
       "  (pos_encoder): PositionalEncoding()\n",
       "  (transformer_encoder): TransformerEncoder(\n",
       "    (layers): ModuleList(\n",
       "      (0-2): 3 x TransformerEncoderLayer(\n",
       "        (self_attn): MultiheadAttention(\n",
       "          (out_proj): NonDynamicallyQuantizableLinear(in_features=145, out_features=145, bias=True)\n",
       "        )\n",
       "        (linear1): Linear(in_features=145, out_features=170, bias=True)\n",
       "        (dropout): Dropout(p=0.1, inplace=False)\n",
       "        (linear2): Linear(in_features=170, out_features=145, bias=True)\n",
       "        (norm1): LayerNorm((145,), eps=1e-05, elementwise_affine=True)\n",
       "        (norm2): LayerNorm((145,), eps=1e-05, elementwise_affine=True)\n",
       "        (dropout1): Dropout(p=0.1, inplace=False)\n",
       "        (dropout2): Dropout(p=0.1, inplace=False)\n",
       "      )\n",
       "    )\n",
       "  )\n",
       "  (sites_embedding): Embedding(77, 64)\n",
       "  (species_embedding): Embedding(89, 64)\n",
       "  (space_groups_embedding): Embedding(172, 16)\n",
       "  (linear): Linear(in_features=145, out_features=174, bias=True)\n",
       ")"
      ]
     },
     "execution_count": 3,
     "metadata": {},
     "output_type": "execute_result"
    }
   ],
   "source": [
    "import torch\n",
    "from wyckoff_transformer import WyckoffTransformerModel\n",
    "device = torch.device('cpu')\n",
    "d_hid = 170  # dimension of the feedforward network model in ``nn.TransformerEncoder``\n",
    "nlayers = 3  # number of ``nn.TransformerEncoderLayer`` in ``nn.TransformerEncoder``\n",
    "nhead = 1  # number of heads in ``nn.MultiheadAttention``\n",
    "dropout = 0.1\n",
    "# Not all SGs are present in the dataset\n",
    "n_space_groups = len(spacegroup_to_ids)\n",
    "\n",
    "model = WyckoffTransformerModel(\n",
    "    n_space_groups = n_space_groups,\n",
    "    n_sites = len(site_to_ids),\n",
    "    n_elements = len(element_to_ids),\n",
    "    max_enumeration = 7,\n",
    "    d_space_groups = 16,\n",
    "    d_sites = 64,\n",
    "    d_species = 64,\n",
    "    nhead=nhead,\n",
    "    d_hid=d_hid,\n",
    "    max_len=max_len,\n",
    "    nlayers=nlayers,\n",
    "    dropout=dropout).to(device)\n",
    "# mp-20\n",
    "# model.load_state_dict(torch.load('checkpoints/2024-04-10_04-13-19/best_model_params.pt', map_location=device))\n",
    "# mp-ternary\n",
    "# model.load_state_dict(torch.load('checkpoints/2024-05-14_16-17-41/best_model_params.pt', map_location=device))\n",
    "model.load_state_dict(torch.load('checkpoints/2024-05-17_15-04-28/best_model_params.pt', map_location=device))\n",
    "model.eval()"
   ]
  },
  {
   "cell_type": "code",
   "execution_count": 4,
   "metadata": {},
   "outputs": [],
   "source": [
    "from torch import optim\n",
    "from torch import nn\n",
    "\n",
    "class CalibrateFromLogits(nn.Module):\n",
    "    def __init__(\n",
    "        self, lr:float=0.1, max_iter:int=100, n_steps:int=10,\n",
    "        device:str='cpu'):\n",
    "        super().__init__()\n",
    "        self.lr = lr\n",
    "        self.max_iter = max_iter\n",
    "        self.n_steps = n_steps\n",
    "        self.device = device\n",
    "        self.temperature = nn.Parameter(torch.ones(1, device=device), requires_grad=True)\n",
    "        self.optimizer = optim.LBFGS([self.temperature], lr=lr, max_iter=max_iter)\n",
    "        self.criterion = nn.CrossEntropyLoss()\n",
    "        self.t_max = 2.\n",
    "    \n",
    "    def fit(self, logits, targets):\n",
    "        \"\"\"\n",
    "        logits: (batch_size, n_classes)\n",
    "        targets: (batch_size)\n",
    "        \"\"\"\n",
    "        def calib_eval() -> float:\n",
    "            self.optimizer.zero_grad()\n",
    "            scaled_predictions = logits / self.temperature\n",
    "            loss = self.criterion(scaled_predictions, targets)\n",
    "            loss.backward()\n",
    "            return loss\n",
    "        for i in range(self.n_steps):\n",
    "            self.optimizer.step(calib_eval)\n",
    "        #self.temperature = torch.clip(self.temperature, -self.t_max, self.t_max)\n",
    "        return self"
   ]
  },
  {
   "cell_type": "code",
   "execution_count": 5,
   "metadata": {},
   "outputs": [],
   "source": [
    "from wyckoff_transformer import get_batches\n",
    "from tokenization import MASK_SITE\n",
    "site_mask_tensor=torch.tensor(site_to_ids[MASK_SITE], device=device)\n",
    "element_pad_tensor = torch.tensor(element_to_ids['PAD'], device=device)\n",
    "site_pad_tensor = torch.tensor(site_to_ids['PAD'], device=device)\n",
    "scalers_element = []\n",
    "scalers_site = []\n",
    "scalers_enum = []\n",
    "with torch.no_grad():\n",
    "    for known_seq_len in range(1, max_len - 1):\n",
    "        ((data_element, target_element), (data_site, target_site), (data_enumeration, target_enumeration)) = get_batches(\n",
    "            torch_datasets['val'][\"symmetry_sites\"],\n",
    "            torch_datasets['val'][\"symmetry_elements\"],\n",
    "            torch_datasets['val'][\"symmetry_sites_enumeration\"],\n",
    "            known_seq_len,\n",
    "            site_mask = site_mask_tensor,\n",
    "            enumeration_mask = torch.tensor(-1, device=device))\n",
    "        output_element = model(torch_datasets['val'][\"spacegroup_number\"], **data_element,\n",
    "                            padding_mask=torch_datasets['val'][\"padding_mask\"][:, :known_seq_len])[0].detach()\n",
    "        element_mask = target_element != element_pad_tensor\n",
    "        masked_target_element = target_element[element_mask]\n",
    "        scalers_element.append(CalibrateFromLogits())\n",
    "        if masked_target_element.size(0) > 100:\n",
    "            scalers_element[-1].fit(output_element[element_mask, -1, :], masked_target_element)\n",
    "\n",
    "        output_site = model(torch_datasets['val'][\"spacegroup_number\"], **data_site,\n",
    "                            padding_mask=torch_datasets['val'][\"padding_mask\"][:, :known_seq_len + 1])[1].detach()\n",
    "        site_mask = target_site != site_pad_tensor\n",
    "        masked_target_site = target_site[site_mask]\n",
    "        scalers_site.append(CalibrateFromLogits())\n",
    "        if masked_target_site.size(0) > 100:\n",
    "            scalers_site[-1].fit(output_site[site_mask, -1, :], masked_target_site)\n",
    "\n",
    "        output_enumeration = model(torch_datasets['val'][\"spacegroup_number\"], **data_enumeration,\n",
    "                                   padding_mask=torch_datasets['val'][\"padding_mask\"][:, :known_seq_len + 1])[2]\n",
    "        enum_mask = target_enumeration != -1\n",
    "        masked_target_enum = target_enumeration[enum_mask]\n",
    "        scalers_enum.append(CalibrateFromLogits())\n",
    "        if masked_target_enum.size(0) > 100:\n",
    "            scalers_enum[-1].fit(output_enumeration[enum_mask, -1, :], masked_target_enum)"
   ]
  },
  {
   "cell_type": "code",
   "execution_count": 6,
   "metadata": {},
   "outputs": [
    {
     "name": "stdout",
     "output_type": "stream",
     "text": [
      "[Parameter containing:\n",
      "tensor([1.3369], requires_grad=True), Parameter containing:\n",
      "tensor([1.1295], requires_grad=True), Parameter containing:\n",
      "tensor([0.8238], requires_grad=True), Parameter containing:\n",
      "tensor([0.8777], requires_grad=True), Parameter containing:\n",
      "tensor([0.9171], requires_grad=True), Parameter containing:\n",
      "tensor([0.9629], requires_grad=True), Parameter containing:\n",
      "tensor([0.9530], requires_grad=True), Parameter containing:\n",
      "tensor([0.9757], requires_grad=True), Parameter containing:\n",
      "tensor([1.0576], requires_grad=True), Parameter containing:\n",
      "tensor([1.0768], requires_grad=True), Parameter containing:\n",
      "tensor([0.9333], requires_grad=True), Parameter containing:\n",
      "tensor([1.1117], requires_grad=True), Parameter containing:\n",
      "tensor([1.], requires_grad=True), Parameter containing:\n",
      "tensor([1.], requires_grad=True), Parameter containing:\n",
      "tensor([1.], requires_grad=True), Parameter containing:\n",
      "tensor([1.], requires_grad=True), Parameter containing:\n",
      "tensor([1.], requires_grad=True), Parameter containing:\n",
      "tensor([1.], requires_grad=True), Parameter containing:\n",
      "tensor([1.], requires_grad=True)]\n"
     ]
    }
   ],
   "source": [
    "print([s.temperature for s in scalers_element])"
   ]
  },
  {
   "cell_type": "code",
   "execution_count": 7,
   "metadata": {},
   "outputs": [
    {
     "name": "stdout",
     "output_type": "stream",
     "text": [
      "[Parameter containing:\n",
      "tensor([1.0967], requires_grad=True), Parameter containing:\n",
      "tensor([1.0435], requires_grad=True), Parameter containing:\n",
      "tensor([1.1438], requires_grad=True), Parameter containing:\n",
      "tensor([1.1778], requires_grad=True), Parameter containing:\n",
      "tensor([1.1651], requires_grad=True), Parameter containing:\n",
      "tensor([1.2293], requires_grad=True), Parameter containing:\n",
      "tensor([1.2215], requires_grad=True), Parameter containing:\n",
      "tensor([1.0984], requires_grad=True), Parameter containing:\n",
      "tensor([0.9206], requires_grad=True), Parameter containing:\n",
      "tensor([0.6053], requires_grad=True), Parameter containing:\n",
      "tensor([0.9419], requires_grad=True), Parameter containing:\n",
      "tensor([1.], requires_grad=True), Parameter containing:\n",
      "tensor([1.], requires_grad=True), Parameter containing:\n",
      "tensor([1.], requires_grad=True), Parameter containing:\n",
      "tensor([1.], requires_grad=True), Parameter containing:\n",
      "tensor([1.], requires_grad=True), Parameter containing:\n",
      "tensor([1.], requires_grad=True), Parameter containing:\n",
      "tensor([1.], requires_grad=True), Parameter containing:\n",
      "tensor([1.], requires_grad=True)]\n"
     ]
    }
   ],
   "source": [
    "print([s.temperature for s in scalers_site])"
   ]
  },
  {
   "cell_type": "code",
   "execution_count": 8,
   "metadata": {},
   "outputs": [
    {
     "name": "stdout",
     "output_type": "stream",
     "text": [
      "[Parameter containing:\n",
      "tensor([1.0543], requires_grad=True), Parameter containing:\n",
      "tensor([0.9925], requires_grad=True), Parameter containing:\n",
      "tensor([1.0285], requires_grad=True), Parameter containing:\n",
      "tensor([1.0474], requires_grad=True), Parameter containing:\n",
      "tensor([0.9701], requires_grad=True), Parameter containing:\n",
      "tensor([1.0544], requires_grad=True), Parameter containing:\n",
      "tensor([1.1368], requires_grad=True), Parameter containing:\n",
      "tensor([1.1836], requires_grad=True), Parameter containing:\n",
      "tensor([0.8426], requires_grad=True), Parameter containing:\n",
      "tensor([1.2966], requires_grad=True), Parameter containing:\n",
      "tensor([1.0043], requires_grad=True), Parameter containing:\n",
      "tensor([1.], requires_grad=True), Parameter containing:\n",
      "tensor([1.], requires_grad=True), Parameter containing:\n",
      "tensor([1.], requires_grad=True), Parameter containing:\n",
      "tensor([1.], requires_grad=True), Parameter containing:\n",
      "tensor([1.], requires_grad=True), Parameter containing:\n",
      "tensor([1.], requires_grad=True), Parameter containing:\n",
      "tensor([1.], requires_grad=True), Parameter containing:\n",
      "tensor([1.], requires_grad=True)]\n"
     ]
    }
   ],
   "source": [
    "print([s.temperature for s in scalers_enum])"
   ]
  },
  {
   "cell_type": "code",
   "execution_count": 9,
   "metadata": {},
   "outputs": [],
   "source": [
    "from torch.nn.functional import softmax\n",
    "def generate(\n",
    "    space_groups,\n",
    "    elements,\n",
    "    sites,\n",
    "    enums):\n",
    "    for i in range(max_len - 2):\n",
    "        probas_elements = softmax(model(space_groups, sites, elements, enums, None)[0]/scalers_element[i].temperature, -1)\n",
    "        next_elemenets = torch.multinomial(probas_elements[:, -1, :], 1)\n",
    "        elements = torch.cat((elements, next_elemenets), 1)\n",
    "\n",
    "        masked_sites = torch.cat([sites, site_mask_tensor.expand(sites.shape[0], 1)], dim=1)\n",
    "        masked_enums = torch.cat([enums, torch.tensor(-1, device=device).expand(enums.shape[0], 1)], dim=1)\n",
    "        probas_sites = softmax(model(space_groups, masked_sites, elements, masked_enums, None)[1]/scalers_site[i].temperature, -1)\n",
    "        next_sites = torch.multinomial(probas_sites[:, -1, :], 1)\n",
    "        sites = torch.cat((sites, next_sites), 1)\n",
    "\n",
    "        probas_enums = softmax(model(space_groups, sites, elements, masked_enums, None)[2]/scalers_enum[i].temperature, -1)\n",
    "        next_enums = torch.multinomial(probas_enums[:, -1, :], 1)\n",
    "        enums = torch.cat((enums, next_enums), 1)\n",
    "    return (elements, sites, enums)"
   ]
  },
  {
   "cell_type": "code",
   "execution_count": 10,
   "metadata": {},
   "outputs": [],
   "source": [
    "idx_to_element = {idx: element for element, idx in element_to_ids.items()}\n",
    "idx_to_site = {idx: site for site, idx in site_to_ids.items()}\n",
    "idx_to_spacegroup = {idx: spacegroup for spacegroup, idx in spacegroup_to_ids.items()}\n",
    "import pickle\n",
    "with open(\"wychoffs_enumerated_by_ss.pkl.gz\", \"rb\") as f:\n",
    "    _, letter_from_ss_enum, _ = pickle.load(f)\n",
    "SITE_PAD_ID = site_to_ids[\"PAD\"]\n",
    "ELEMENT_PAD_ID = element_to_ids[\"PAD\"]\n",
    "ELEMENT_STOP_ID = element_to_ids[\"STOP\"]"
   ]
  },
  {
   "cell_type": "code",
   "execution_count": 11,
   "metadata": {},
   "outputs": [],
   "source": [
    "from collections import defaultdict\n",
    "from pyxtal.symmetry import Group\n",
    "wp_index = defaultdict(lambda: defaultdict(dict))\n",
    "for group_number in range(1, 231):\n",
    "    group = Group(group_number)\n",
    "    for wp in group.Wyckoff_positions:\n",
    "        wp.get_site_symmetry()\n",
    "        wp_index[group_number][wp.site_symm][wp.letter] = (wp.multiplicity, wp.get_dof())"
   ]
  },
  {
   "cell_type": "code",
   "execution_count": 12,
   "metadata": {},
   "outputs": [],
   "source": [
    "import logging\n",
    "# logging.basicConfig(level=logging.INFO)\n",
    "def tensors_to_pyxtal(elements, sites, enums, space_group, enforced_num_elements = None):\n",
    "    space_group_real = int(idx_to_spacegroup[int(this_spacegroup)])\n",
    "    pyxtal_args = defaultdict(lambda: [0, []])\n",
    "    available_sites = deepcopy(wp_index[space_group_real])\n",
    "    for element_tensor, ss_tensor, enum_tensor in zip(elements, sites, enums):\n",
    "        if element_tensor == ELEMENT_STOP_ID:\n",
    "            break\n",
    "        if element_tensor == ELEMENT_PAD_ID:\n",
    "            logging.info(\"PAD element\")\n",
    "            return None\n",
    "        element = idx_to_element[element_tensor.item()]\n",
    "        if ss_tensor == SITE_PAD_ID:\n",
    "            logging.info(\"PAD site\")\n",
    "            return None\n",
    "        ss = idx_to_site[ss_tensor.item()]\n",
    "        try:\n",
    "            wp_letter = letter_from_ss_enum[space_group_real][ss][enum_tensor.item()]\n",
    "        except KeyError:\n",
    "            logging.info(\"Invalid WP letter\")\n",
    "            return None\n",
    "        try:\n",
    "            our_site = available_sites[ss][wp_letter]\n",
    "        except KeyError:\n",
    "            logging.info(\"Repeated special WP\")\n",
    "            return None\n",
    "        pyxtal_args[element][0] += our_site[0]\n",
    "        pyxtal_args[element][1].append(str(our_site[0])+wp_letter)\n",
    "        if our_site[1] == 0: # The position is special\n",
    "            del available_sites[ss][wp_letter]\n",
    "    # TODO: move up\n",
    "    if enforced_num_elements is not None and len(pyxtal_args.keys()) != enforced_num_elements:\n",
    "        logging.info(\"Invalid number of elements\")\n",
    "        return None\n",
    "    return {\n",
    "            \"spacegroup\": space_group_real,\n",
    "            \"sites\": [x[1] for x in pyxtal_args.values()],\n",
    "            \"elements\": list(map(str, pyxtal_args.keys())),\n",
    "            \"composition\": [x[0] for x in pyxtal_args.values()]\n",
    "        }"
   ]
  },
  {
   "cell_type": "code",
   "execution_count": 13,
   "metadata": {},
   "outputs": [
    {
     "name": "stdout",
     "output_type": "stream",
     "text": [
      "tensor(1253) 7118 tensor(0.1760)\n",
      "tensor(1554) 7118 tensor(0.2183)\n",
      "tensor(1683) 7118 tensor(0.2364)\n",
      "tensor(1741) 7118 tensor(0.2446)\n"
     ]
    }
   ],
   "source": [
    "from collections import Counter\n",
    "from copy import deepcopy\n",
    "from random import choice\n",
    "from pymatgen.symmetry.analyzer import SpacegroupAnalyzer\n",
    "\n",
    "if dataset == \"mp_ternary\":\n",
    "  enforced_num_elements = 3\n",
    "else:\n",
    "  enforced_num_elements = None\n",
    "\n",
    "\n",
    "valid_generated = torch.zeros(len(torch_datasets[\"test\"][\"spacegroup_number\"]), dtype=torch.bool, requires_grad=False)\n",
    "generated_structures = [None] * len(torch_datasets[\"test\"][\"spacegroup_number\"])\n",
    "while not valid_generated.all():\n",
    "  space_groups = torch_datasets[\"test\"][\"spacegroup_number\"][~valid_generated]\n",
    "  elements = torch_datasets[\"test\"][\"symmetry_elements\"][~valid_generated, 0].view(-1, 1)\n",
    "  sites = torch_datasets[\"test\"][\"symmetry_sites\"][~valid_generated, 0].view(-1, 1)\n",
    "  enums = torch_datasets[\"test\"][\"symmetry_sites_enumeration\"][~valid_generated, 0].view(-1, 1)\n",
    "  with torch.no_grad():\n",
    "    elements, sites, enums = generate(space_groups, elements, sites, enums)\n",
    "\n",
    "  index = torch.arange(len(valid_generated))[~valid_generated]\n",
    "  for i, (this_elements, this_sites, this_enums, this_spacegroup) in enumerate(zip(elements, sites, enums, space_groups)):    \n",
    "    pyxtal_args = tensors_to_pyxtal(this_elements, this_sites, this_enums, this_spacegroup, enforced_num_elements=enforced_num_elements)\n",
    "    if pyxtal_args is not None:\n",
    "        generated_structures[index[i]] = pyxtal_args\n",
    "        valid_generated[index[i]] = True\n",
    "  print(valid_generated.sum(), valid_generated.size(0), valid_generated.sum()/valid_generated.size(0))"
   ]
  },
  {
   "cell_type": "code",
   "execution_count": null,
   "metadata": {},
   "outputs": [],
   "source": [
    "generated_structures = list(filter(lambda x: x is not None, generated_structures))"
   ]
  },
  {
   "cell_type": "code",
   "execution_count": null,
   "metadata": {},
   "outputs": [
    {
     "data": {
      "image/png": "[encoded data removed]",
      "text/plain": [
       "<Figure size 640x480 with 1 Axes>"
      ]
     },
     "metadata": {},
     "output_type": "display_data"
    }
   ],
   "source": [
    "import numpy as np\n",
    "import matplotlib.pyplot as plt\n",
    "fig, ax = plt.subplots()\n",
    "x = np.arange(1, max_len)\n",
    "ax.hist(datasets_pd['test'].symmetry_sites.map(len), label=\"test\", density=True, bins=x)\n",
    "#ax.hist(datasets_pd['train'].symmetry_sites.map(len), label=\"train\", density=True, alpha=0.5, bins=x)\n",
    "ax.hist(list(map(lambda s: sum(map(len, s['sites'])), generated_structures)), label=\"generated\", density=True, alpha=0.5, bins=x)\n",
    "ax.set_xlabel(\"Number of symmetry sites\")\n",
    "ax.set_ylabel(\"Proportion of structures\")\n",
    "ax.legend()\n",
    "ax.set_xlim(1, max_len);"
   ]
  },
  {
   "cell_type": "code",
   "execution_count": null,
   "metadata": {},
   "outputs": [
    {
     "data": {
      "image/png": "[encoded data removed]",
      "text/plain": [
       "<Figure size 640x480 with 1 Axes>"
      ]
     },
     "metadata": {},
     "output_type": "display_data"
    }
   ],
   "source": [
    "def count_elements(record):\n",
    "    return len(set(record[\"elements\"]))\n",
    "def count_elements_pd(record):\n",
    "    return len(set(record.structure.elements))\n",
    "fig, ax = plt.subplots()\n",
    "bins = np.arange(1, 10)\n",
    "ax.hist(datasets_pd['test'].apply(count_elements_pd, axis=1), label=\"test\", density=True, bins=bins)\n",
    "#ax.hist(datasets_pd['train'].apply(count_elements_pd, axis=1), label=\"train\", density=True, alpha=0.5, bins=bins)\n",
    "ax.hist(list(map(count_elements, generated_structures)), label=\"generated\", density=True, alpha=0.5, bins=bins)\n",
    "ax.set_xlabel(\"Number of unique elements\")\n",
    "ax.set_ylabel(\"Fraction of structures\")\n",
    "ax.legend()\n",
    "ax.set_xlim((1,10));"
   ]
  },
  {
   "cell_type": "code",
   "execution_count": null,
   "metadata": {},
   "outputs": [],
   "source": [
    "import pyxtal\n",
    "example = generated_structures[2]\n",
    "generator = pyxtal.pyxtal()\n",
    "generator.from_random(3, group=example[\"spacegroup\"], species=example[\"elements\"],\n",
    "                      numIons=example[\"composition\"], sites=example[\"sites\"])"
   ]
  },
  {
   "cell_type": "code",
   "execution_count": null,
   "metadata": {},
   "outputs": [
    {
     "data": {
      "text/plain": [
       "{'spacegroup': 71,\n",
       " 'sites': [['4e'], ['2a'], ['2b']],\n",
       " 'elements': ['Be', 'Co', 'Ir'],\n",
       " 'composition': [4, 2, 2]}"
      ]
     },
     "execution_count": 18,
     "metadata": {},
     "output_type": "execute_result"
    }
   ],
   "source": [
    "example"
   ]
  },
  {
   "cell_type": "code",
   "execution_count": null,
   "metadata": {},
   "outputs": [
    {
     "data": {
      "application/vnd.jupyter.widget-view+json": {
       "model_id": "3d8ffe27b0174d45802b1fc1b98b4e20",
       "version_major": 2,
       "version_minor": 0
      },
      "text/plain": []
     },
     "metadata": {},
     "output_type": "display_data"
    },
    {
     "data": {
      "application/vnd.jupyter.widget-view+json": {
       "model_id": "404a971701154b6c9b6e9010daf6c964",
       "version_major": 2,
       "version_minor": 0
      },
      "text/plain": [
       "HBox(children=(NGLWidget(), VBox(children=(Dropdown(description='Show', options=('All', 'Be', 'Ir', 'Co'), val…"
      ]
     },
     "execution_count": 19,
     "metadata": {},
     "output_type": "execute_result"
    }
   ],
   "source": [
    "ase_struct = generator.to_ase()\n",
    "import ase.visualize\n",
    "ase.visualize.view(ase_struct, viewer=\"ngl\")"
   ]
  },
  {
   "cell_type": "code",
   "execution_count": null,
   "metadata": {},
   "outputs": [],
   "source": [
    "import json\n",
    "with open(f\"generated_{dataset}.json\", \"w\") as f:\n",
    "    json.dump(generated_structures, f)"
   ]
  }
 ],
 "metadata": {
  "kernelspec": {
   "display_name": "wyckofftransformer-FeCwefly-py3.10",
   "language": "python",
   "name": "python3"
  },
  "language_info": {
   "codemirror_mode": {
    "name": "ipython",
    "version": 3
   },
   "file_extension": ".py",
   "mimetype": "text/x-python",
   "name": "python",
   "nbconvert_exporter": "python",
   "pygments_lexer": "ipython3",
   "version": "3.10.12"
  }
 },
 "nbformat": 4,
 "nbformat_minor": 2
}
