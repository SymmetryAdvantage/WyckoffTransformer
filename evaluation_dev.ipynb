{
 "cells": [
  {
   "cell_type": "code",
   "execution_count": 1,
   "metadata": {},
   "outputs": [],
   "source": [
    "from evaluation.generated_dataset import GeneratedDataset, StorageType\n",
    "from pathlib import Path"
   ]
  },
  {
   "cell_type": "code",
   "execution_count": 2,
   "metadata": {},
   "outputs": [
    {
     "name": "stdout",
     "output_type": "stream",
     "text": [
      "Suppressed CIF rounding warnings.\n"
     ]
    },
    {
     "data": {
      "text/html": [
       "<div>\n",
       "<style scoped>\n",
       "    .dataframe tbody tr th:only-of-type {\n",
       "        vertical-align: middle;\n",
       "    }\n",
       "\n",
       "    .dataframe tbody tr th {\n",
       "        vertical-align: top;\n",
       "    }\n",
       "\n",
       "    .dataframe thead th {\n",
       "        text-align: right;\n",
       "    }\n",
       "</style>\n",
       "<table border=\"1\" class=\"dataframe\">\n",
       "  <thead>\n",
       "    <tr style=\"text-align: right;\">\n",
       "      <th></th>\n",
       "      <th>formula</th>\n",
       "      <th>error_str</th>\n",
       "      <th>str_ind</th>\n",
       "      <th>chgnet_ehull</th>\n",
       "      <th>corrected_chgnet_ehull</th>\n",
       "      <th>structure</th>\n",
       "    </tr>\n",
       "  </thead>\n",
       "  <tbody>\n",
       "    <tr>\n",
       "      <th>0</th>\n",
       "      <td>Co6 N6</td>\n",
       "      <td>no_error</td>\n",
       "      <td>0</td>\n",
       "      <td>0.397344</td>\n",
       "      <td>0.397344</td>\n",
       "      <td>[[0.         0.         5.89674821] Co, [0.   ...</td>\n",
       "    </tr>\n",
       "    <tr>\n",
       "      <th>1</th>\n",
       "      <td>Li8 Mn4 Fe6 O22</td>\n",
       "      <td>no_error</td>\n",
       "      <td>1</td>\n",
       "      <td>0.118686</td>\n",
       "      <td>0.118686</td>\n",
       "      <td>[[4.27041797 0.         7.6159842 ] Li, [6.613...</td>\n",
       "    </tr>\n",
       "    <tr>\n",
       "      <th>2</th>\n",
       "      <td>Y2 Bi2 O10</td>\n",
       "      <td>no_error</td>\n",
       "      <td>2</td>\n",
       "      <td>0.192212</td>\n",
       "      <td>0.192212</td>\n",
       "      <td>[[0.85270075 1.6633296  4.26072173] Y, [0.8527...</td>\n",
       "    </tr>\n",
       "    <tr>\n",
       "      <th>3</th>\n",
       "      <td>Tb2 Zn24</td>\n",
       "      <td>No valid decomposition found for PDEntry : Tb2...</td>\n",
       "      <td>3</td>\n",
       "      <td>0.000000</td>\n",
       "      <td>-0.007543</td>\n",
       "      <td>[[0. 0. 0.] Tb, [4.44514 4.44514 2.59775] Tb, ...</td>\n",
       "    </tr>\n",
       "    <tr>\n",
       "      <th>4</th>\n",
       "      <td>Ba8 Sm4 W4 O24</td>\n",
       "      <td>No valid decomposition found for PDEntry : Ba8...</td>\n",
       "      <td>4</td>\n",
       "      <td>0.000000</td>\n",
       "      <td>-0.000128</td>\n",
       "      <td>[[2.1590525 2.1590525 2.1590525] Ba, [2.159052...</td>\n",
       "    </tr>\n",
       "  </tbody>\n",
       "</table>\n",
       "</div>"
      ],
      "text/plain": [
       "           formula                                          error_str  \\\n",
       "0           Co6 N6                                           no_error   \n",
       "1  Li8 Mn4 Fe6 O22                                           no_error   \n",
       "2       Y2 Bi2 O10                                           no_error   \n",
       "3         Tb2 Zn24  No valid decomposition found for PDEntry : Tb2...   \n",
       "4   Ba8 Sm4 W4 O24  No valid decomposition found for PDEntry : Ba8...   \n",
       "\n",
       "   str_ind  chgnet_ehull  corrected_chgnet_ehull  \\\n",
       "0        0      0.397344                0.397344   \n",
       "1        1      0.118686                0.118686   \n",
       "2        2      0.192212                0.192212   \n",
       "3        3      0.000000               -0.007543   \n",
       "4        4      0.000000               -0.000128   \n",
       "\n",
       "                                           structure  \n",
       "0  [[0.         0.         5.89674821] Co, [0.   ...  \n",
       "1  [[4.27041797 0.         7.6159842 ] Li, [6.613...  \n",
       "2  [[0.85270075 1.6633296  4.26072173] Y, [0.8527...  \n",
       "3  [[0. 0. 0.] Tb, [4.44514 4.44514 2.59775] Tb, ...  \n",
       "4  [[2.1590525 2.1590525 2.1590525] Ba, [2.159052...  "
      ]
     },
     "execution_count": 2,
     "metadata": {},
     "output_type": "execute_result"
    }
   ],
   "source": [
    "diffcsppp = GeneratedDataset()\n",
    "diffcsppp.load_structures(\"generated/DiffCSP++_mp20_two_step_symmetry\", storage_type=StorageType.Raymond)\n",
    "diffcsppp.data.head()"
   ]
  },
  {
   "cell_type": "code",
   "execution_count": 3,
   "metadata": {},
   "outputs": [
    {
     "data": {
      "text/plain": [
       "1000"
      ]
     },
     "execution_count": 3,
     "metadata": {},
     "output_type": "execute_result"
    }
   ],
   "source": [
    "len(diffcsppp.data)"
   ]
  },
  {
   "cell_type": "code",
   "execution_count": 4,
   "metadata": {},
   "outputs": [
    {
     "name": "stdout",
     "output_type": "stream",
     "text": [
      "Suppressed CIF rounding warnings.\n"
     ]
    },
    {
     "data": {
      "text/html": [
       "<div>\n",
       "<style scoped>\n",
       "    .dataframe tbody tr th:only-of-type {\n",
       "        vertical-align: middle;\n",
       "    }\n",
       "\n",
       "    .dataframe tbody tr th {\n",
       "        vertical-align: top;\n",
       "    }\n",
       "\n",
       "    .dataframe thead th {\n",
       "        text-align: right;\n",
       "    }\n",
       "</style>\n",
       "<table border=\"1\" class=\"dataframe\">\n",
       "  <thead>\n",
       "    <tr style=\"text-align: right;\">\n",
       "      <th></th>\n",
       "      <th>energy_per_atom</th>\n",
       "      <th>structure</th>\n",
       "      <th>corrected_chgnet_ehull</th>\n",
       "    </tr>\n",
       "    <tr>\n",
       "      <th>id</th>\n",
       "      <th></th>\n",
       "      <th></th>\n",
       "      <th></th>\n",
       "    </tr>\n",
       "  </thead>\n",
       "  <tbody>\n",
       "    <tr>\n",
       "      <th>0</th>\n",
       "      <td>-3.638075</td>\n",
       "      <td>[[-2.8629701e-16  4.6755850e+00  4.6298650e+00...</td>\n",
       "      <td>-0.004395</td>\n",
       "    </tr>\n",
       "    <tr>\n",
       "      <th>1</th>\n",
       "      <td>-4.438842</td>\n",
       "      <td>[[2.739675 2.739675 2.739675] K, [2.739675 2.7...</td>\n",
       "      <td>0.041951</td>\n",
       "    </tr>\n",
       "    <tr>\n",
       "      <th>2</th>\n",
       "      <td>-4.083131</td>\n",
       "      <td>[[-2.08714393e-16  3.40856470e+00  2.08714393e...</td>\n",
       "      <td>0.038817</td>\n",
       "    </tr>\n",
       "    <tr>\n",
       "      <th>3</th>\n",
       "      <td>-7.841442</td>\n",
       "      <td>[[ 2.77536469  0.         -1.29517647] Gd, [0....</td>\n",
       "      <td>0.241139</td>\n",
       "    </tr>\n",
       "    <tr>\n",
       "      <th>4</th>\n",
       "      <td>-5.923808</td>\n",
       "      <td>[[0.         0.         0.41106447] Te, [ 2.25...</td>\n",
       "      <td>0.446337</td>\n",
       "    </tr>\n",
       "  </tbody>\n",
       "</table>\n",
       "</div>"
      ],
      "text/plain": [
       "    energy_per_atom                                          structure  \\\n",
       "id                                                                       \n",
       "0         -3.638075  [[-2.8629701e-16  4.6755850e+00  4.6298650e+00...   \n",
       "1         -4.438842  [[2.739675 2.739675 2.739675] K, [2.739675 2.7...   \n",
       "2         -4.083131  [[-2.08714393e-16  3.40856470e+00  2.08714393e...   \n",
       "3         -7.841442  [[ 2.77536469  0.         -1.29517647] Gd, [0....   \n",
       "4         -5.923808  [[0.         0.         0.41106447] Te, [ 2.25...   \n",
       "\n",
       "    corrected_chgnet_ehull  \n",
       "id                          \n",
       "0                -0.004395  \n",
       "1                 0.041951  \n",
       "2                 0.038817  \n",
       "3                 0.241139  \n",
       "4                 0.446337  "
      ]
     },
     "execution_count": 4,
     "metadata": {},
     "output_type": "execute_result"
    }
   ],
   "source": [
    "ntu_fix = GeneratedDataset()\n",
    "ntu_fix.load_structures(\"generated/WyckoffTransformer_mp_20_CHGNet_relax_fix-symmetry_vs_removal/fix_symmetry\", storage_type=StorageType.NongWei)\n",
    "ntu_fix.load_corrected_chgnet_ehull(\"generated/WyckoffTransformer_mp_20.ehull.csv.gz\")\n",
    "ntu_fix.data.head()"
   ]
  },
  {
   "cell_type": "code",
   "execution_count": 5,
   "metadata": {},
   "outputs": [
    {
     "data": {
      "text/html": [
       "<div>\n",
       "<style scoped>\n",
       "    .dataframe tbody tr th:only-of-type {\n",
       "        vertical-align: middle;\n",
       "    }\n",
       "\n",
       "    .dataframe tbody tr th {\n",
       "        vertical-align: top;\n",
       "    }\n",
       "\n",
       "    .dataframe thead th {\n",
       "        text-align: right;\n",
       "    }\n",
       "</style>\n",
       "<table border=\"1\" class=\"dataframe\">\n",
       "  <thead>\n",
       "    <tr style=\"text-align: right;\">\n",
       "      <th></th>\n",
       "      <th>structure</th>\n",
       "    </tr>\n",
       "  </thead>\n",
       "  <tbody>\n",
       "    <tr>\n",
       "      <th>0</th>\n",
       "      <td>[[5.03535423 5.03535423 5.03535423] Cu, [5.035...</td>\n",
       "    </tr>\n",
       "    <tr>\n",
       "      <th>1</th>\n",
       "      <td>[[0. 0. 0.] Cu, [-3.14774869e-16  5.14066373e+...</td>\n",
       "    </tr>\n",
       "    <tr>\n",
       "      <th>2</th>\n",
       "      <td>[[0. 0. 0.] Ce, [-2.45370641e-16  4.00720667e+...</td>\n",
       "    </tr>\n",
       "    <tr>\n",
       "      <th>3</th>\n",
       "      <td>[[0. 0. 0.] Ag, [-2.20974564e-16  3.60878849e+...</td>\n",
       "    </tr>\n",
       "    <tr>\n",
       "      <th>4</th>\n",
       "      <td>[[0. 0. 0.] Lu, [-2.16015964e-16  3.52780841e+...</td>\n",
       "    </tr>\n",
       "  </tbody>\n",
       "</table>\n",
       "</div>"
      ],
      "text/plain": [
       "                                           structure\n",
       "0  [[5.03535423 5.03535423 5.03535423] Cu, [5.035...\n",
       "1  [[0. 0. 0.] Cu, [-3.14774869e-16  5.14066373e+...\n",
       "2  [[0. 0. 0.] Ce, [-2.45370641e-16  4.00720667e+...\n",
       "3  [[0. 0. 0.] Ag, [-2.20974564e-16  3.60878849e+...\n",
       "4  [[0. 0. 0.] Lu, [-2.16015964e-16  3.52780841e+..."
      ]
     },
     "execution_count": 5,
     "metadata": {},
     "output_type": "execute_result"
    }
   ],
   "source": [
    "crystalformer = GeneratedDataset()\n",
    "crystalformer.load_structures(\"generated/CrystalFormer_mp_20.csv.gz\", storage_type=StorageType.CrystalFormer)\n",
    "crystalformer.data.head()"
   ]
  },
  {
   "cell_type": "code",
   "execution_count": 6,
   "metadata": {},
   "outputs": [
    {
     "name": "stderr",
     "output_type": "stream",
     "text": [
      "/home/kna/.cache/pypoetry/virtualenvs/wyckofftransformer-FeCwefly-py3.12/lib64/python3.12/site-packages/pymatgen/core/periodic_table.py:289: UserWarning: No Pauling electronegativity for He. Setting to NaN. This has no physical meaning, and is mainly done to avoid errors caused by the code expecting a float.\n",
      "  warnings.warn(\n"
     ]
    },
    {
     "data": {
      "text/html": [
       "<div>\n",
       "<style scoped>\n",
       "    .dataframe tbody tr th:only-of-type {\n",
       "        vertical-align: middle;\n",
       "    }\n",
       "\n",
       "    .dataframe tbody tr th {\n",
       "        vertical-align: top;\n",
       "    }\n",
       "\n",
       "    .dataframe thead th {\n",
       "        text-align: right;\n",
       "    }\n",
       "</style>\n",
       "<table border=\"1\" class=\"dataframe\">\n",
       "  <thead>\n",
       "    <tr style=\"text-align: right;\">\n",
       "      <th></th>\n",
       "      <th>structure</th>\n",
       "      <th>corrected_chgnet_ehull</th>\n",
       "    </tr>\n",
       "  </thead>\n",
       "  <tbody>\n",
       "    <tr>\n",
       "      <th>0</th>\n",
       "      <td>[[4.38947248 0.28834792 0.09050225] Al, [0.712...</td>\n",
       "      <td>-0.003376</td>\n",
       "    </tr>\n",
       "    <tr>\n",
       "      <th>1</th>\n",
       "      <td>[[-0.07616964  1.98341802  7.52683213] Ti, [ 1...</td>\n",
       "      <td>0.027168</td>\n",
       "    </tr>\n",
       "    <tr>\n",
       "      <th>2</th>\n",
       "      <td>[[5.0197007  2.38936983 3.48968536] Al, [2.633...</td>\n",
       "      <td>0.054842</td>\n",
       "    </tr>\n",
       "    <tr>\n",
       "      <th>3</th>\n",
       "      <td>[[1.13688876 1.62911306 5.20726629] Li, [3.084...</td>\n",
       "      <td>0.158709</td>\n",
       "    </tr>\n",
       "    <tr>\n",
       "      <th>4</th>\n",
       "      <td>[[ 0.05785525  2.80655018 -0.10674992] Ag, [2....</td>\n",
       "      <td>0.186460</td>\n",
       "    </tr>\n",
       "  </tbody>\n",
       "</table>\n",
       "</div>"
      ],
      "text/plain": [
       "                                           structure  corrected_chgnet_ehull\n",
       "0  [[4.38947248 0.28834792 0.09050225] Al, [0.712...               -0.003376\n",
       "1  [[-0.07616964  1.98341802  7.52683213] Ti, [ 1...                0.027168\n",
       "2  [[5.0197007  2.38936983 3.48968536] Al, [2.633...                0.054842\n",
       "3  [[1.13688876 1.62911306 5.20726629] Li, [3.084...                0.158709\n",
       "4  [[ 0.05785525  2.80655018 -0.10674992] Ag, [2....                0.186460"
      ]
     },
     "execution_count": 6,
     "metadata": {},
     "output_type": "execute_result"
    }
   ],
   "source": [
    "diffcsp = GeneratedDataset()\n",
    "diffcsp.load_structures(\"generated/DiffCSP_mp_20.pt\", storage_type=StorageType.DiffCSP_pt)\n",
    "diffcsp.load_corrected_chgnet_ehull(\"generated/DiffCSP_mp_20.ehull.csv.gz\")\n",
    "diffcsp.data.head()"
   ]
  },
  {
   "cell_type": "code",
   "execution_count": 7,
   "metadata": {},
   "outputs": [
    {
     "name": "stdout",
     "output_type": "stream",
     "text": [
      "Suppressed CIF rounding warnings.\n"
     ]
    },
    {
     "data": {
      "text/html": [
       "<div>\n",
       "<style scoped>\n",
       "    .dataframe tbody tr th:only-of-type {\n",
       "        vertical-align: middle;\n",
       "    }\n",
       "\n",
       "    .dataframe tbody tr th {\n",
       "        vertical-align: top;\n",
       "    }\n",
       "\n",
       "    .dataframe thead th {\n",
       "        text-align: right;\n",
       "    }\n",
       "</style>\n",
       "<table border=\"1\" class=\"dataframe\">\n",
       "  <thead>\n",
       "    <tr style=\"text-align: right;\">\n",
       "      <th></th>\n",
       "      <th>energy_per_atom</th>\n",
       "      <th>structure</th>\n",
       "    </tr>\n",
       "    <tr>\n",
       "      <th>id</th>\n",
       "      <th></th>\n",
       "      <th></th>\n",
       "    </tr>\n",
       "  </thead>\n",
       "  <tbody>\n",
       "    <tr>\n",
       "      <th>0</th>\n",
       "      <td>-3.638075</td>\n",
       "      <td>[[-2.86297623e-16  4.67559500e+00  4.62986500e...</td>\n",
       "    </tr>\n",
       "    <tr>\n",
       "      <th>1</th>\n",
       "      <td>-4.438842</td>\n",
       "      <td>[[2.739675 2.739675 2.739675] K, [8.219025 8.2...</td>\n",
       "    </tr>\n",
       "    <tr>\n",
       "      <th>2</th>\n",
       "      <td>-4.138813</td>\n",
       "      <td>[[14.09294029  2.97236324 -1.1556865 ] K, [ 7....</td>\n",
       "    </tr>\n",
       "    <tr>\n",
       "      <th>3</th>\n",
       "      <td>-7.889234</td>\n",
       "      <td>[[4.39974985 7.16718826 5.11008854] Gd, [1.569...</td>\n",
       "    </tr>\n",
       "    <tr>\n",
       "      <th>4</th>\n",
       "      <td>-6.224335</td>\n",
       "      <td>[[1.38197334 1.70916485 7.11452783] Te, [ 2.68...</td>\n",
       "    </tr>\n",
       "  </tbody>\n",
       "</table>\n",
       "</div>"
      ],
      "text/plain": [
       "    energy_per_atom                                          structure\n",
       "id                                                                    \n",
       "0         -3.638075  [[-2.86297623e-16  4.67559500e+00  4.62986500e...\n",
       "1         -4.438842  [[2.739675 2.739675 2.739675] K, [8.219025 8.2...\n",
       "2         -4.138813  [[14.09294029  2.97236324 -1.1556865 ] K, [ 7....\n",
       "3         -7.889234  [[4.39974985 7.16718826 5.11008854] Gd, [1.569...\n",
       "4         -6.224335  [[1.38197334 1.70916485 7.11452783] Te, [ 2.68..."
      ]
     },
     "execution_count": 7,
     "metadata": {},
     "output_type": "execute_result"
    }
   ],
   "source": [
    "ntu_free = GeneratedDataset()\n",
    "ntu_free.load_structures(\"generated/WyckoffTransformer_mp_20_CHGNet_relax_no_symmetry/no_symmetry\", storage_type=StorageType.NongWei)\n",
    "ntu_free.data.head()"
   ]
  }
 ],
 "metadata": {
  "kernelspec": {
   "display_name": "wyckofftransformer-FeCwefly-py3.12",
   "language": "python",
   "name": "python3"
  },
  "language_info": {
   "codemirror_mode": {
    "name": "ipython",
    "version": 3
   },
   "file_extension": ".py",
   "mimetype": "text/x-python",
   "name": "python",
   "nbconvert_exporter": "python",
   "pygments_lexer": "ipython3",
   "version": "3.12.6"
  }
 },
 "nbformat": 4,
 "nbformat_minor": 2
}
