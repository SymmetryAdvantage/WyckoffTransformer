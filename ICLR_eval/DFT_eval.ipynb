{
 "cells": [
  {
   "cell_type": "code",
   "execution_count": 1,
   "metadata": {},
   "outputs": [
    {
     "name": "stderr",
     "output_type": "stream",
     "text": [
      "/home/kna/.cache/pypoetry/virtualenvs/wyckofftransformer-FeCwefly-py3.12/lib/python3.12/site-packages/matminer/utils/data.py:326: UserWarning: MagpieData(impute_nan=False):\n",
      "In a future release, impute_nan will be set to True by default.\n",
      "                    This means that features that are missing or are NaNs for elements\n",
      "                    from the data source will be replaced by the average of that value\n",
      "                    over the available elements.\n",
      "                    This avoids NaNs after featurization that are often replaced by\n",
      "                    dataset-dependent averages.\n",
      "  warnings.warn(f\"{self.__class__.__name__}(impute_nan=False):\\n\" + IMPUTE_NAN_WARNING)\n"
     ]
    }
   ],
   "source": [
    "from typing import Tuple\n",
    "import pandas as pd\n",
    "from scipy.stats import pearsonr\n",
    "from tqdm.notebook import tqdm\n",
    "import sys\n",
    "sys.path.append('..')\n",
    "from evaluation.generated_dataset import GeneratedDataset, load_all_from_config\n",
    "from evaluation.novelty import NoveltyFilter, filter_by_unique_structure"
   ]
  },
  {
   "cell_type": "code",
   "execution_count": 2,
   "metadata": {},
   "outputs": [],
   "source": [
    "dft_datasets = {\n",
    "  #  \"WyFormerDirect\": (\"WyckoffTransformer\", \"DFT\"),\n",
    "    \"WyFormerCrySPR\": (\"WyckoffTransformer\", \"CrySPR\", \"CHGNet_fix\", \"DFT\"),\n",
    "    \"WyFormerDiffCSP++\": (\"WyckoffTransformer\", \"DiffCSP++\", \"DFT\"),\n",
    "    \"DiffCSP\": (\"DiffCSP\", \"DFT\"),\n",
    "  #  \"CrystalFormer WRONG\": (\"CrystalFormer\", \"DFT\"),\n",
    "    \"DiffCSP++\": (\"DiffCSP++\", \"DFT\"),\n",
    "  #  \"FlowMM\": (\"FlowMM\", \"DFT\")\n",
    "}\n",
    "\n",
    "source_datasets = {name: t[:-1] for name, t in dft_datasets.items()}"
   ]
  },
  {
   "cell_type": "code",
   "execution_count": 3,
   "metadata": {},
   "outputs": [],
   "source": [
    "chgnet_datasets = {\n",
    "    \"WyFormerDirect\": (\"WyckoffTransformer\", \"CrySPR\", \"CHGNet_fix_release\"),\n",
    "    \"WyFormerCrySPR\": (\"WyckoffTransformer\", \"CrySPR\", \"CHGNet_fix_release\"),\n",
    "    \"WyFormerDiffCSP++\": (\"WyckoffTransformer\", \"DiffCSP++\", \"CHGNet_fix\"),\n",
    "    \"DiffCSP\": (\"DiffCSP\", \"CHGNet_fix\"),\n",
    "    \"CrystalFormer WRONG\": (\"CrystalFormer\", \"CHGNet_fix_release\"),\n",
    "    \"DiffCSP++\": (\"DiffCSP++\", \"CHGNet_fix_release\"),\n",
    "    \"FlowMM\": (\"FlowMM\", \"CHGNet_fix\")\n",
    "}"
   ]
  },
  {
   "cell_type": "code",
   "execution_count": 4,
   "metadata": {},
   "outputs": [],
   "source": [
    "chgnet_data = load_all_from_config(datasets=list(chgnet_datasets.values()) + [('WyckoffTransformer', 'CrySPR', 'CHGNet_fix')])"
   ]
  },
  {
   "cell_type": "code",
   "execution_count": 5,
   "metadata": {},
   "outputs": [],
   "source": [
    "all_datasets = load_all_from_config(\n",
    "    datasets=list(dft_datasets.values()) + list(source_datasets.values()) + \\\n",
    "        [(\"split\", \"train\"), (\"split\", \"val\"), (\"split\", \"test\")],\n",
    "    dataset_name=\"mp_20\")"
   ]
  },
  {
   "cell_type": "code",
   "execution_count": 6,
   "metadata": {},
   "outputs": [],
   "source": [
    "#wycryst_transformations = ('WyCryst', 'CrySPR', 'CHGNet_fix')\n",
    "#source_datasets[\"WyCryst\"] = wycryst_transformations\n",
    "#all_datasets[wycryst_transformations] = GeneratedDataset.from_cache(wycryst_transformations, \"mp_20_biternary\")\n",
    "#dft_datasets[\"WyCryst\"] = tuple(list(wycryst_transformations) + [\"DFT\"])\n",
    "#all_datasets[dft_datasets[\"WyCryst\"]] = GeneratedDataset.from_cache(dft_datasets[\"WyCryst\"], \"mp_20_biternary\")"
   ]
  },
  {
   "cell_type": "code",
   "execution_count": 7,
   "metadata": {},
   "outputs": [],
   "source": [
    "excluded_categories = frozenset([\"radioactive\", \"rare_earth_metal\", \"noble_gas\"])\n",
    "from pymatgen.core import Structure\n",
    "def check_composition(structure: Structure) -> bool:\n",
    "    for category in excluded_categories:\n",
    "        if structure.composition.contains_element_type(category):\n",
    "            return False\n",
    "    return True"
   ]
  },
  {
   "cell_type": "code",
   "execution_count": 8,
   "metadata": {},
   "outputs": [],
   "source": [
    "novelty_reference = pd.concat([\n",
    "    all_datasets[('split', 'train')].data,\n",
    "    all_datasets[('split', 'val')].data], axis=0, verify_integrity=True)\n",
    "novelty_filter = NoveltyFilter(novelty_reference)"
   ]
  },
  {
   "cell_type": "code",
   "execution_count": 9,
   "metadata": {},
   "outputs": [],
   "source": [
    "import evaluation.statistical_evaluator\n",
    "test_evaluator = evaluation.statistical_evaluator.StatisticalEvaluator(all_datasets[('split', 'test')].data)"
   ]
  },
  {
   "cell_type": "code",
   "execution_count": 10,
   "metadata": {},
   "outputs": [],
   "source": [
    "import evaluation.novelty\n",
    "train_w_template_set = frozenset(novelty_reference.apply(evaluation.novelty.record_to_anonymous_fingerprint, axis=1))\n",
    "train_strict_AFLOW_set = frozenset(novelty_reference.apply(evaluation.novelty.record_to_strict_AFLOW_fingerprint, axis=1))\n",
    "train_relaxed_AFLOW_set = frozenset(novelty_reference.apply(evaluation.novelty.record_to_relaxed_AFLOW_fingerprint, axis=1))"
   ]
  },
  {
   "cell_type": "code",
   "execution_count": 11,
   "metadata": {},
   "outputs": [],
   "source": [
    "def is_sg_preserved(relaxed_sg, transformations: Tuple[str]) -> pd.Series:\n",
    "    source_sg = all_datasets[(transformations[0],)].data.spacegroup_number\n",
    "    return relaxed_sg == source_sg.reindex_like(relaxed_sg)"
   ]
  },
  {
   "cell_type": "code",
   "execution_count": 12,
   "metadata": {},
   "outputs": [
    {
     "data": {
      "text/plain": [
       "0.9057020937893829"
      ]
     },
     "execution_count": 12,
     "metadata": {},
     "output_type": "execute_result"
    }
   ],
   "source": [
    "mp_20 = pd.concat([\n",
    "    all_datasets[('split', 'train')].data,\n",
    "    all_datasets[('split', 'test')].data,\n",
    "    all_datasets[('split', 'val')].data], axis=0, verify_integrity=True)\n",
    "(mp_20.spacegroup_number == 1).mean()\n",
    "mp_20.smact_validity.mean()"
   ]
  },
  {
   "cell_type": "code",
   "execution_count": 13,
   "metadata": {},
   "outputs": [],
   "source": [
    "from collections import Counter\n",
    "from operator import itemgetter\n",
    "from itertools import chain\n",
    "element_counts = Counter(chain(*mp_20.elements))"
   ]
  },
  {
   "cell_type": "code",
   "execution_count": 14,
   "metadata": {},
   "outputs": [],
   "source": [
    "represented_elements=frozenset(map(itemgetter(0), element_counts.most_common(30)))"
   ]
  },
  {
   "cell_type": "code",
   "execution_count": 15,
   "metadata": {},
   "outputs": [],
   "source": [
    "def check_represented_composition(structure: Structure) -> bool:\n",
    "    for element in structure.composition:\n",
    "        if element not in represented_elements:\n",
    "            return False\n",
    "    return True"
   ]
  },
  {
   "cell_type": "code",
   "execution_count": 16,
   "metadata": {},
   "outputs": [],
   "source": [
    "top_10_groups = frozenset(mp_20.spacegroup_number.value_counts().iloc[:10].index)\n",
    "n_elements_dist = {}"
   ]
  },
  {
   "cell_type": "markdown",
   "metadata": {},
   "source": [
    "Validity\n",
    "1. Vanilla; Valid records: 2866 / 9648 = 29.71%\n",
    "2. Naive; Valid records: 9492 / 9804 = 96.82%\n",
    "3. Site Symmetry; Valid records: 8955 / 9709 = 92.23%"
   ]
  },
  {
   "cell_type": "code",
   "execution_count": 67,
   "metadata": {},
   "outputs": [
    {
     "data": {
      "application/vnd.jupyter.widget-view+json": {
       "model_id": "018e7c08001f47ac9727d28d558b4f2e",
       "version_major": 2,
       "version_minor": 0
      },
      "text/plain": [
       "  0%|          | 0/4 [00:00<?, ?it/s]"
      ]
     },
     "metadata": {},
     "output_type": "display_data"
    },
    {
     "data": {
      "text/html": [
       "<div>\n",
       "<style scoped>\n",
       "    .dataframe tbody tr th:only-of-type {\n",
       "        vertical-align: middle;\n",
       "    }\n",
       "\n",
       "    .dataframe tbody tr th {\n",
       "        vertical-align: top;\n",
       "    }\n",
       "\n",
       "    .dataframe thead th {\n",
       "        text-align: right;\n",
       "    }\n",
       "</style>\n",
       "<table border=\"1\" class=\"dataframe\">\n",
       "  <thead>\n",
       "    <tr style=\"text-align: right;\">\n",
       "      <th></th>\n",
       "      <th>DFT dataset size</th>\n",
       "      <th>Source Novelty (%)</th>\n",
       "      <th>In-DFT Novelty (%)</th>\n",
       "      <th>S.U.N. (%)</th>\n",
       "      <th>P1 in source (%)</th>\n",
       "      <th>S.S.U.N. (%)</th>\n",
       "      <th>total_sun</th>\n",
       "      <th>total_ssun</th>\n",
       "      <th>P1 in stable (%)</th>\n",
       "      <th>S.U.N. (CHGNet) (%)</th>\n",
       "      <th>S.S.U.N. (CHGNet) (%)</th>\n",
       "      <th>r DFT CHGNet</th>\n",
       "    </tr>\n",
       "    <tr>\n",
       "      <th>Method</th>\n",
       "      <th></th>\n",
       "      <th></th>\n",
       "      <th></th>\n",
       "      <th></th>\n",
       "      <th></th>\n",
       "      <th></th>\n",
       "      <th></th>\n",
       "      <th></th>\n",
       "      <th></th>\n",
       "      <th></th>\n",
       "      <th></th>\n",
       "      <th></th>\n",
       "    </tr>\n",
       "  </thead>\n",
       "  <tbody>\n",
       "    <tr>\n",
       "      <th>WyFormerCrySPR</th>\n",
       "      <td>96</td>\n",
       "      <td>90.0</td>\n",
       "      <td>100.0</td>\n",
       "      <td>7.5</td>\n",
       "      <td>1.555556</td>\n",
       "      <td>7.5</td>\n",
       "      <td>8.0</td>\n",
       "      <td>8.0</td>\n",
       "      <td>0.000000</td>\n",
       "      <td>39.239239</td>\n",
       "      <td>38.238238</td>\n",
       "      <td>0.334740</td>\n",
       "    </tr>\n",
       "    <tr>\n",
       "      <th>WyFormerDiffCSP++</th>\n",
       "      <td>95</td>\n",
       "      <td>88.557895</td>\n",
       "      <td>98.947368</td>\n",
       "      <td>14.131579</td>\n",
       "      <td>1.564246</td>\n",
       "      <td>14.131579</td>\n",
       "      <td>15.0</td>\n",
       "      <td>15.0</td>\n",
       "      <td>0.000000</td>\n",
       "      <td>36.700000</td>\n",
       "      <td>36.000000</td>\n",
       "      <td>0.437595</td>\n",
       "    </tr>\n",
       "    <tr>\n",
       "      <th>DiffCSP</th>\n",
       "      <td>82</td>\n",
       "      <td>88.714756</td>\n",
       "      <td>98.780488</td>\n",
       "      <td>20.809634</td>\n",
       "      <td>31.566641</td>\n",
       "      <td>13.142927</td>\n",
       "      <td>19.0</td>\n",
       "      <td>12.0</td>\n",
       "      <td>36.842105</td>\n",
       "      <td>57.400000</td>\n",
       "      <td>40.600000</td>\n",
       "      <td>0.360729</td>\n",
       "    </tr>\n",
       "    <tr>\n",
       "      <th>DiffCSP++</th>\n",
       "      <td>94</td>\n",
       "      <td>88.95</td>\n",
       "      <td>100.0</td>\n",
       "      <td>8.516489</td>\n",
       "      <td>1.843732</td>\n",
       "      <td>8.516489</td>\n",
       "      <td>9.0</td>\n",
       "      <td>9.0</td>\n",
       "      <td>0.000000</td>\n",
       "      <td>41.400000</td>\n",
       "      <td>40.800000</td>\n",
       "      <td>0.321342</td>\n",
       "    </tr>\n",
       "  </tbody>\n",
       "</table>\n",
       "</div>"
      ],
      "text/plain": [
       "                  DFT dataset size Source Novelty (%) In-DFT Novelty (%)  \\\n",
       "Method                                                                     \n",
       "WyFormerCrySPR                  96               90.0              100.0   \n",
       "WyFormerDiffCSP++               95          88.557895          98.947368   \n",
       "DiffCSP                         82          88.714756          98.780488   \n",
       "DiffCSP++                       94              88.95              100.0   \n",
       "\n",
       "                  S.U.N. (%) P1 in source (%) S.S.U.N. (%)  total_sun  \\\n",
       "Method                                                                  \n",
       "WyFormerCrySPR           7.5         1.555556          7.5        8.0   \n",
       "WyFormerDiffCSP++  14.131579         1.564246    14.131579       15.0   \n",
       "DiffCSP            20.809634        31.566641    13.142927       19.0   \n",
       "DiffCSP++           8.516489         1.843732     8.516489        9.0   \n",
       "\n",
       "                   total_ssun  P1 in stable (%)  S.U.N. (CHGNet) (%)  \\\n",
       "Method                                                                 \n",
       "WyFormerCrySPR            8.0          0.000000            39.239239   \n",
       "WyFormerDiffCSP++        15.0          0.000000            36.700000   \n",
       "DiffCSP                  12.0         36.842105            57.400000   \n",
       "DiffCSP++                 9.0          0.000000            41.400000   \n",
       "\n",
       "                   S.S.U.N. (CHGNet) (%)  r DFT CHGNet  \n",
       "Method                                                  \n",
       "WyFormerCrySPR                 38.238238      0.334740  \n",
       "WyFormerDiffCSP++              36.000000      0.437595  \n",
       "DiffCSP                        40.600000      0.360729  \n",
       "DiffCSP++                      40.800000      0.321342  "
      ]
     },
     "execution_count": 67,
     "metadata": {},
     "output_type": "execute_result"
    }
   ],
   "source": [
    "table = pd.DataFrame(\n",
    "    index=dft_datasets.keys(), columns=[\n",
    "        \"DFT dataset size\",\n",
    "        \"Source Novelty (%)\",\n",
    "        \"In-DFT Novelty (%)\",\n",
    "        \"S.U.N. (%)\",\n",
    "        \"P1 in source (%)\",\n",
    "        \"S.S.U.N. (%)\"])\n",
    "table.index.name = \"Method\"\n",
    "E_hull_threshold = 0.08\n",
    "for name, transformations in tqdm(dft_datasets.items()):\n",
    "    dataset = all_datasets[transformations]\n",
    "    table.loc[name, \"DFT dataset size\"] = len(dataset.data)\n",
    "    source_dataset = all_datasets[transformations[:-1]]\n",
    "    chgnet_dataset = chgnet_data[chgnet_datasets[name]]\n",
    "\n",
    "    unique = filter_by_unique_structure(dataset.data)\n",
    "    novel = novelty_filter.get_novel(unique)\n",
    "    table.loc[name, \"In-DFT Novelty (%)\"] = 100 * len(novel) / len(unique)\n",
    "    source_novel = novelty_filter.get_novel(source_dataset.data)\n",
    "    source_novelty = 100 * len(source_novel) / len(source_dataset.data)\n",
    "    table.loc[name, \"Source Novelty (%)\"] = len(novel) / len(unique) * source_novelty\n",
    "    table.loc[name, \"P1 in source (%)\"] = 100 * (source_novel.group == 1).mean()\n",
    "    #source_novel_symmetric = (source_novel.group != 1).sum() / len(source_dataset.data)\n",
    "    #table[\"Source Novel !P1 (%)\"] = 100 * source_novel_symmetric\n",
    "    has_ehull = dataset.data.corrected_e_hull.notna()\n",
    "    is_sun = (novel.corrected_e_hull <= E_hull_threshold) # & (novel.elements.apply(lambda x: len(frozenset(x))) >= 2)\n",
    "    table.loc[name, \"S.U.N. (%)\"] = source_novelty * is_sun.sum() / has_ehull.sum()\n",
    "    table.loc[name, \"total_sun\"] = is_sun.sum().astype(int)\n",
    "    table.loc[name, \"S.S.U.N. (%)\"] = source_novelty * (is_sun & (novel.group != 1)).sum() / has_ehull.sum()\n",
    "    table.loc[name, \"total_ssun\"] = (is_sun & (novel.group != 1)).sum().astype(int)\n",
    "    table.loc[name, \"P1 in stable (%)\"] = 100 * (novel[is_sun].group == 1).mean()\n",
    "\n",
    "    chgnet_unique = filter_by_unique_structure(chgnet_dataset.data)\n",
    "    chgnet_novel = novelty_filter.get_novel(chgnet_unique)\n",
    "    chgnet_is_sun = (chgnet_novel.corrected_chgnet_ehull < E_hull_threshold)\n",
    "    #table.loc[name, \"CHGNet dataset size\"] = chgnet_dataset.data.corrected_chgnet_ehull.notna().sum()\n",
    "    table.loc[name, \"S.U.N. (CHGNet) (%)\"] =  100 * chgnet_is_sun.sum() / chgnet_dataset.data.corrected_chgnet_ehull.notna().sum()\n",
    "    table.loc[name, \"S.S.U.N. (CHGNet) (%)\"] = 100 * (chgnet_is_sun & (chgnet_novel.group != 1)).sum() / chgnet_dataset.data.corrected_chgnet_ehull.notna().sum()\n",
    "    \n",
    "    chgnet_dft_available = chgnet_dataset.data.reindex(dataset.data.index)\n",
    "    table.loc[name, \"r DFT CHGNet\"] = \\\n",
    "        pearsonr((chgnet_dft_available.corrected_chgnet_ehull < E_hull_threshold).astype(float),\n",
    "                 (dataset.data.corrected_e_hull < E_hull_threshold).astype(float)).correlation\n",
    "table"
   ]
  },
  {
   "cell_type": "code",
   "execution_count": 68,
   "metadata": {},
   "outputs": [],
   "source": [
    "def prettify(table):\n",
    "    return table.style.format({\n",
    "    \"S.U.N. (%)\": \"{:.1f}\",\n",
    "    \"S.S.U.N. (%)\": \"{:.1f}\",\n",
    "    \"S.U.N. (CHGNet) (%)\": \"{:.1f}\",\n",
    "    \"S.S.U.N. (CHGNet) (%)\": \"{:.1f}\",\n",
    "    \"r DFT CHGNet\": \"{:.2f}\",\n",
    "}).highlight_max(props=\"font-weight: bold\", axis=0, subset=[\"S.U.N. (%)\", \"S.S.U.N. (%)\", \"S.U.N. (CHGNet) (%)\", \"S.S.U.N. (CHGNet) (%)\"])"
   ]
  },
  {
   "cell_type": "code",
   "execution_count": 69,
   "metadata": {},
   "outputs": [],
   "source": [
    "selected_table = table.loc[:, [\"DFT dataset size\", \"S.U.N. (%)\", \"S.S.U.N. (%)\", \"r DFT CHGNet\", \"S.U.N. (CHGNet) (%)\", \"S.S.U.N. (CHGNet) (%)\"]]"
   ]
  },
  {
   "cell_type": "code",
   "execution_count": 70,
   "metadata": {},
   "outputs": [
    {
     "data": {
      "text/html": [
       "<style type=\"text/css\">\n",
       "#T_c0f02_row1_col2, #T_c0f02_row2_col1, #T_c0f02_row2_col4, #T_c0f02_row3_col5 {\n",
       "  font-weight: bold;\n",
       "}\n",
       "</style>\n",
       "<table id=\"T_c0f02\">\n",
       "  <thead>\n",
       "    <tr>\n",
       "      <th class=\"blank level0\" >&nbsp;</th>\n",
       "      <th id=\"T_c0f02_level0_col0\" class=\"col_heading level0 col0\" >DFT dataset size</th>\n",
       "      <th id=\"T_c0f02_level0_col1\" class=\"col_heading level0 col1\" >S.U.N. (%)</th>\n",
       "      <th id=\"T_c0f02_level0_col2\" class=\"col_heading level0 col2\" >S.S.U.N. (%)</th>\n",
       "      <th id=\"T_c0f02_level0_col3\" class=\"col_heading level0 col3\" >r DFT CHGNet</th>\n",
       "      <th id=\"T_c0f02_level0_col4\" class=\"col_heading level0 col4\" >S.U.N. (CHGNet) (%)</th>\n",
       "      <th id=\"T_c0f02_level0_col5\" class=\"col_heading level0 col5\" >S.S.U.N. (CHGNet) (%)</th>\n",
       "    </tr>\n",
       "    <tr>\n",
       "      <th class=\"index_name level0\" >Method</th>\n",
       "      <th class=\"blank col0\" >&nbsp;</th>\n",
       "      <th class=\"blank col1\" >&nbsp;</th>\n",
       "      <th class=\"blank col2\" >&nbsp;</th>\n",
       "      <th class=\"blank col3\" >&nbsp;</th>\n",
       "      <th class=\"blank col4\" >&nbsp;</th>\n",
       "      <th class=\"blank col5\" >&nbsp;</th>\n",
       "    </tr>\n",
       "  </thead>\n",
       "  <tbody>\n",
       "    <tr>\n",
       "      <th id=\"T_c0f02_level0_row0\" class=\"row_heading level0 row0\" >WyFormerCrySPR</th>\n",
       "      <td id=\"T_c0f02_row0_col0\" class=\"data row0 col0\" >96</td>\n",
       "      <td id=\"T_c0f02_row0_col1\" class=\"data row0 col1\" >7.5</td>\n",
       "      <td id=\"T_c0f02_row0_col2\" class=\"data row0 col2\" >7.5</td>\n",
       "      <td id=\"T_c0f02_row0_col3\" class=\"data row0 col3\" >0.33</td>\n",
       "      <td id=\"T_c0f02_row0_col4\" class=\"data row0 col4\" >39.2</td>\n",
       "      <td id=\"T_c0f02_row0_col5\" class=\"data row0 col5\" >38.2</td>\n",
       "    </tr>\n",
       "    <tr>\n",
       "      <th id=\"T_c0f02_level0_row1\" class=\"row_heading level0 row1\" >WyFormerDiffCSP++</th>\n",
       "      <td id=\"T_c0f02_row1_col0\" class=\"data row1 col0\" >95</td>\n",
       "      <td id=\"T_c0f02_row1_col1\" class=\"data row1 col1\" >14.1</td>\n",
       "      <td id=\"T_c0f02_row1_col2\" class=\"data row1 col2\" >14.1</td>\n",
       "      <td id=\"T_c0f02_row1_col3\" class=\"data row1 col3\" >0.44</td>\n",
       "      <td id=\"T_c0f02_row1_col4\" class=\"data row1 col4\" >36.7</td>\n",
       "      <td id=\"T_c0f02_row1_col5\" class=\"data row1 col5\" >36.0</td>\n",
       "    </tr>\n",
       "    <tr>\n",
       "      <th id=\"T_c0f02_level0_row2\" class=\"row_heading level0 row2\" >DiffCSP</th>\n",
       "      <td id=\"T_c0f02_row2_col0\" class=\"data row2 col0\" >82</td>\n",
       "      <td id=\"T_c0f02_row2_col1\" class=\"data row2 col1\" >20.8</td>\n",
       "      <td id=\"T_c0f02_row2_col2\" class=\"data row2 col2\" >13.1</td>\n",
       "      <td id=\"T_c0f02_row2_col3\" class=\"data row2 col3\" >0.36</td>\n",
       "      <td id=\"T_c0f02_row2_col4\" class=\"data row2 col4\" >57.4</td>\n",
       "      <td id=\"T_c0f02_row2_col5\" class=\"data row2 col5\" >40.6</td>\n",
       "    </tr>\n",
       "    <tr>\n",
       "      <th id=\"T_c0f02_level0_row3\" class=\"row_heading level0 row3\" >DiffCSP++</th>\n",
       "      <td id=\"T_c0f02_row3_col0\" class=\"data row3 col0\" >94</td>\n",
       "      <td id=\"T_c0f02_row3_col1\" class=\"data row3 col1\" >8.5</td>\n",
       "      <td id=\"T_c0f02_row3_col2\" class=\"data row3 col2\" >8.5</td>\n",
       "      <td id=\"T_c0f02_row3_col3\" class=\"data row3 col3\" >0.32</td>\n",
       "      <td id=\"T_c0f02_row3_col4\" class=\"data row3 col4\" >41.4</td>\n",
       "      <td id=\"T_c0f02_row3_col5\" class=\"data row3 col5\" >40.8</td>\n",
       "    </tr>\n",
       "  </tbody>\n",
       "</table>\n"
      ],
      "text/plain": [
       "<pandas.io.formats.style.Styler at 0x7873eb165b20>"
      ]
     },
     "execution_count": 70,
     "metadata": {},
     "output_type": "execute_result"
    }
   ],
   "source": [
    "pretty_table = prettify(selected_table)\n",
    "pretty_table.to_latex(\"tables/dft_vs_chgnet.tex\", siunitx=True, convert_css=True)\n",
    "pretty_table"
   ]
  },
  {
   "cell_type": "code",
   "execution_count": 71,
   "metadata": {},
   "outputs": [
    {
     "data": {
      "text/plain": [
       "0.9713685606898077"
      ]
     },
     "execution_count": 71,
     "metadata": {},
     "output_type": "execute_result"
    }
   ],
   "source": [
    "all_datasets[('split', 'test')].data.apply(evaluation.novelty.record_to_anonymous_fingerprint, axis=1).isin(train_w_template_set).mean()"
   ]
  },
  {
   "cell_type": "code",
   "execution_count": 72,
   "metadata": {},
   "outputs": [
    {
     "data": {
      "text/plain": [
       "0.9328985186822906"
      ]
     },
     "execution_count": 72,
     "metadata": {},
     "output_type": "execute_result"
    }
   ],
   "source": [
    "all_datasets[('split', 'test')].data.apply(evaluation.novelty.record_to_strict_AFLOW_fingerprint, axis=1).isin(train_strict_AFLOW_set).mean()"
   ]
  },
  {
   "cell_type": "code",
   "execution_count": 73,
   "metadata": {},
   "outputs": [],
   "source": [
    "CF_CG = GeneratedDataset.from_cache((\"CrystalFormer\", \"CHGNet_fix_release\"))"
   ]
  },
  {
   "cell_type": "code",
   "execution_count": 86,
   "metadata": {},
   "outputs": [],
   "source": [
    "def get_observation(name, column=\"total_ssun\"):\n",
    "    all_observations = np.zeros(table.loc[name, \"DFT dataset size\"])\n",
    "    all_observations[:int(table.at[name, column])] = table.loc[name, \"Source Novelty (%)\"]/100\n",
    "    print(all_observations.mean())\n",
    "    return all_observations"
   ]
  },
  {
   "cell_type": "code",
   "execution_count": 88,
   "metadata": {},
   "outputs": [
    {
     "name": "stdout",
     "output_type": "stream",
     "text": [
      "0.13982825484764544\n",
      "0.2055585812016657\n"
     ]
    },
    {
     "data": {
      "text/plain": [
       "TtestResult(statistic=-1.247125872330728, pvalue=0.2140178215673167, df=175.0)"
      ]
     },
     "execution_count": 88,
     "metadata": {},
     "output_type": "execute_result"
    }
   ],
   "source": [
    "ttest_ind(get_observation(\"WyFormerDiffCSP++\", \"total_sun\"), get_observation(\"DiffCSP\", \"total_sun\"))"
   ]
  },
  {
   "cell_type": "code",
   "execution_count": 89,
   "metadata": {},
   "outputs": [
    {
     "name": "stdout",
     "output_type": "stream",
     "text": [
      "0.08516489361702129\n",
      "0.2055585812016657\n"
     ]
    },
    {
     "data": {
      "text/plain": [
       "TtestResult(statistic=-2.482155242556018, pvalue=0.014007462431079434, df=174.0)"
      ]
     },
     "execution_count": 89,
     "metadata": {},
     "output_type": "execute_result"
    }
   ],
   "source": [
    "ttest_ind(get_observation(\"DiffCSP++\", \"total_sun\"), get_observation(\"DiffCSP\", \"total_sun\"))"
   ]
  },
  {
   "cell_type": "code",
   "execution_count": 81,
   "metadata": {},
   "outputs": [
    {
     "name": "stdout",
     "output_type": "stream",
     "text": [
      "0.13982825484764544\n",
      "0.12982647233789413\n"
     ]
    },
    {
     "data": {
      "text/plain": [
       "TtestResult(statistic=0.20707210907430382, pvalue=0.8361942926057152, df=175.0)"
      ]
     },
     "execution_count": 81,
     "metadata": {},
     "output_type": "execute_result"
    }
   ],
   "source": [
    "ttest_ind(get_observation(\"WyFormerDiffCSP++\"), get_observation(\"DiffCSP\"))"
   ]
  },
  {
   "cell_type": "code",
   "execution_count": 82,
   "metadata": {},
   "outputs": [
    {
     "name": "stdout",
     "output_type": "stream",
     "text": [
      "0.13982825484764544\n",
      "0.08516489361702129\n"
     ]
    },
    {
     "data": {
      "text/plain": [
       "TtestResult(statistic=1.2709073832738933, pvalue=0.20534030841538564, df=187.0)"
      ]
     },
     "execution_count": 82,
     "metadata": {},
     "output_type": "execute_result"
    }
   ],
   "source": [
    "ttest_ind(get_observation(\"WyFormerDiffCSP++\"), get_observation(\"DiffCSP++\"))"
   ]
  },
  {
   "cell_type": "code",
   "execution_count": 84,
   "metadata": {},
   "outputs": [
    {
     "name": "stdout",
     "output_type": "stream",
     "text": [
      "0.13982825484764544\n",
      "0.075\n"
     ]
    },
    {
     "data": {
      "text/plain": [
       "TtestResult(statistic=1.5470765477410633, pvalue=0.12351759062236797, df=189.0)"
      ]
     },
     "execution_count": 84,
     "metadata": {},
     "output_type": "execute_result"
    }
   ],
   "source": [
    "ttest_ind(get_observation(\"WyFormerDiffCSP++\"), get_observation(\"WyFormerCrySPR\"))"
   ]
  },
  {
   "cell_type": "code",
   "execution_count": 50,
   "metadata": {},
   "outputs": [
    {
     "name": "stdout",
     "output_type": "stream",
     "text": [
      "0.08516489361702129\n"
     ]
    }
   ],
   "source": [
    "get_observation(\"DiffCSP++\")"
   ]
  },
  {
   "cell_type": "code",
   "execution_count": null,
   "metadata": {},
   "outputs": [],
   "source": [
    "import numpy as np\n",
    "a = np.zeros(95)\n",
    "a[:14] = 1\n",
    "b = np.zeros(82)\n",
    "b[:13] = 1"
   ]
  },
  {
   "cell_type": "code",
   "execution_count": 34,
   "metadata": {},
   "outputs": [
    {
     "data": {
      "text/plain": [
       "TtestResult(statistic=-0.20492461993117714, pvalue=0.8378691749121991, df=175.0)"
      ]
     },
     "execution_count": 34,
     "metadata": {},
     "output_type": "execute_result"
    }
   ],
   "source": [
    "ttest_ind(a, b)"
   ]
  },
  {
   "cell_type": "code",
   "execution_count": null,
   "metadata": {},
   "outputs": [],
   "source": []
  },
  {
   "cell_type": "code",
   "execution_count": null,
   "metadata": {},
   "outputs": [
    {
     "data": {
      "text/plain": [
       "PearsonRResult(statistic=0.37903646651905626, pvalue=0.0009432999586367356)"
      ]
     },
     "execution_count": 93,
     "metadata": {},
     "output_type": "execute_result"
    }
   ],
   "source": [
    "pearsonr(is_stable_CHG.astype(float), is_stable_DFT.astype(float))"
   ]
  },
  {
   "cell_type": "code",
   "execution_count": null,
   "metadata": {},
   "outputs": [
    {
     "name": "stderr",
     "output_type": "stream",
     "text": [
      "/tmp/ipykernel_2813233/4049628493.py:3: UserWarning: No data for colormapping provided via 'c'. Parameters 'cmap' will be ignored\n",
      "  ax.scatter(CHG.corrected_chgnet_ehull, all_datasets[('CrystalFormer', 'DFT')].data.corrected_e_hull, cmap='coolwarm')\n"
     ]
    },
    {
     "data": {
      "image/png": "[encoded data removed]",
      "text/plain": [
       "<Figure size 640x480 with 1 Axes>"
      ]
     },
     "metadata": {},
     "output_type": "display_data"
    }
   ],
   "source": [
    "import matplotlib.pyplot as plt\n",
    "fig, ax = plt.subplots()\n",
    "ax.scatter(CHG.corrected_chgnet_ehull, all_datasets[('CrystalFormer', 'DFT')].data.corrected_e_hull, cmap='coolwarm')\n",
    "ax.set_xlabel(\"CHGNet $E_\\\\text{hull}$\")\n",
    "ax.set_ylabel(\"DFT $E_\\\\text{hull}$\");"
   ]
  },
  {
   "cell_type": "code",
   "execution_count": null,
   "metadata": {},
   "outputs": [
    {
     "data": {
      "text/plain": [
       "Index(['structure', 'density', 'site_symmetries', 'elements', 'multiplicity',\n",
       "       'wyckoff_letters', 'sites_enumeration', 'dof', 'spacegroup_number',\n",
       "       'sites_enumeration_augmented', 'composition', 'fingerprint', 'group',\n",
       "       'sites', 'species', 'numIons', 'cdvae_crystal', 'structural_validity',\n",
       "       'smact_validity', 'naive_validity', 'cdvae_e'],\n",
       "      dtype='object')"
      ]
     },
     "execution_count": 40,
     "metadata": {},
     "output_type": "execute_result"
    }
   ],
   "source": [
    "all_datasets[('CrystalFormer',)].data.columns"
   ]
  },
  {
   "cell_type": "code",
   "execution_count": null,
   "metadata": {},
   "outputs": [
    {
     "data": {
      "text/plain": [
       "0.863013698630137"
      ]
     },
     "execution_count": 27,
     "metadata": {},
     "output_type": "execute_result"
    }
   ],
   "source": [
    "all_datasets[('CrystalFormer', 'DFT')].data.naive_validity.mean()"
   ]
  },
  {
   "cell_type": "code",
   "execution_count": null,
   "metadata": {},
   "outputs": [],
   "source": [
    "stable = all_datasets[('CrystalFormer', 'DFT')].data.corrected_e_hull < E_hull_threshold"
   ]
  },
  {
   "cell_type": "code",
   "execution_count": null,
   "metadata": {},
   "outputs": [
    {
     "data": {
      "text/plain": [
       "true_index\n",
       "2       True\n",
       "12      True\n",
       "13      True\n",
       "14      True\n",
       "15      True\n",
       "18      True\n",
       "19      True\n",
       "23      True\n",
       "34      True\n",
       "58      True\n",
       "61      True\n",
       "63      True\n",
       "67      True\n",
       "68      True\n",
       "71      True\n",
       "72      True\n",
       "81      True\n",
       "103     True\n",
       "107     True\n",
       "110    False\n",
       "113     True\n",
       "121     True\n",
       "145     True\n",
       "Name: naive_validity, dtype: bool"
      ]
     },
     "execution_count": 36,
     "metadata": {},
     "output_type": "execute_result"
    }
   ],
   "source": [
    "all_datasets[('CrystalFormer', 'DFT')].data[stable].naive_validity"
   ]
  },
  {
   "cell_type": "code",
   "execution_count": null,
   "metadata": {},
   "outputs": [
    {
     "data": {
      "text/plain": [
       "23"
      ]
     },
     "execution_count": 35,
     "metadata": {},
     "output_type": "execute_result"
    }
   ],
   "source": [
    "stable.sum"
   ]
  }
 ],
 "metadata": {
  "kernelspec": {
   "display_name": "wyckofftransformer-FeCwefly-py3.12",
   "language": "python",
   "name": "python3"
  },
  "language_info": {
   "codemirror_mode": {
    "name": "ipython",
    "version": 3
   },
   "file_extension": ".py",
   "mimetype": "text/x-python",
   "name": "python",
   "nbconvert_exporter": "python",
   "pygments_lexer": "ipython3",
   "version": "3.12.3"
  }
 },
 "nbformat": 4,
 "nbformat_minor": 2
}
