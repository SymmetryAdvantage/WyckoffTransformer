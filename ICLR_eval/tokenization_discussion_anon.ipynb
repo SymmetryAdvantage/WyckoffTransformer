{
 "cells": [
  {
   "cell_type": "code",
   "execution_count": 2,
   "metadata": {},
   "outputs": [
    {
     "name": "stderr",
     "output_type": "stream",
     "text": [
      "/home/kna/.cache/pypoetry/virtualenvs/wyckofftransformer-FeCwefly-py3.12/lib/python3.12/site-packages/matminer/utils/data.py:326: UserWarning: MagpieData(impute_nan=False):\n",
      "In a future release, impute_nan will be set to True by default.\n",
      "                    This means that features that are missing or are NaNs for elements\n",
      "                    from the data source will be replaced by the average of that value\n",
      "                    over the available elements.\n",
      "                    This avoids NaNs after featurization that are often replaced by\n",
      "                    dataset-dependent averages.\n",
      "  warnings.warn(f\"{self.__class__.__name__}(impute_nan=False):\\n\" + IMPUTE_NAN_WARNING)\n"
     ]
    }
   ],
   "source": [
    "import sys\n",
    "sys.path.append('..')\n",
    "from evaluation.generated_dataset import load_all_from_config, GeneratedDataset\n",
    "import pandas as pd"
   ]
  },
  {
   "cell_type": "code",
   "execution_count": 3,
   "metadata": {},
   "outputs": [],
   "source": [
    "train_val_ = load_all_from_config(datasets=[(\"split\", \"train\"), (\"split\", \"val\")])\n",
    "train_val = pd.concat((d.data for d in train_val_.values()), axis=0, ignore_index=False)"
   ]
  },
  {
   "cell_type": "code",
   "execution_count": 4,
   "metadata": {},
   "outputs": [],
   "source": [
    "test = GeneratedDataset.from_cache((\"split\", \"test\")).data"
   ]
  },
  {
   "cell_type": "code",
   "execution_count": 5,
   "metadata": {},
   "outputs": [],
   "source": [
    "wt = GeneratedDataset.from_cache((\"WyckoffTransformer\", )).data.sample(len(test), random_state=42)"
   ]
  },
  {
   "cell_type": "code",
   "execution_count": 6,
   "metadata": {},
   "outputs": [],
   "source": [
    "from itertools import chain, repeat\n",
    "from collections import Counter"
   ]
  },
  {
   "cell_type": "code",
   "execution_count": 7,
   "metadata": {},
   "outputs": [],
   "source": [
    "def collect_tokens(fingerprint):\n",
    "    counts = Counter()\n",
    "    for equivalent_set in fingerprint[1]:\n",
    "        for ese, count in equivalent_set:\n",
    "            counts[(fingerprint[0], ese[1], ese[2])] += count\n",
    "    return counts\n",
    "         \n",
    "\n",
    "def record_to_token_counter(row):\n",
    "    \"\"\"\n",
    "    Produces a non-augmented token counter from a row\n",
    "    \"\"\"\n",
    "    return Counter(\n",
    "        map(tuple, zip(repeat(row[\"spacegroup_number\"]), row[\"site_symmetries\"], row[\"sites_enumeration\"])))"
   ]
  },
  {
   "cell_type": "code",
   "execution_count": 8,
   "metadata": {},
   "outputs": [],
   "source": [
    "test_token_counts = test.apply(record_to_token_counter, axis=1).sum()"
   ]
  },
  {
   "cell_type": "code",
   "execution_count": 9,
   "metadata": {},
   "outputs": [
    {
     "data": {
      "text/plain": [
       "[((1, '1', 0), 2663),\n",
       " ((12, 'm', 0), 1567),\n",
       " ((2, '1', 0), 1558),\n",
       " ((225, 'm-3m', 0), 1450),\n",
       " ((225, 'm-3m', 1), 1368),\n",
       " ((225, '-43m', 0), 1366),\n",
       " ((62, '.m.', 0), 1092),\n",
       " ((8, 'm', 0), 1002),\n",
       " ((63, 'm2m', 0), 743),\n",
       " ((14, '1', 0), 705)]"
      ]
     },
     "execution_count": 9,
     "metadata": {},
     "output_type": "execute_result"
    }
   ],
   "source": [
    "test_token_counts.most_common(10)"
   ]
  },
  {
   "cell_type": "code",
   "execution_count": 10,
   "metadata": {},
   "outputs": [],
   "source": [
    "augmented_test_token_counts = test.fingerprint.apply(collect_tokens).sum()"
   ]
  },
  {
   "cell_type": "code",
   "execution_count": 11,
   "metadata": {},
   "outputs": [
    {
     "data": {
      "text/plain": [
       "[((2, '1', 0), 5809),\n",
       " ((12, 'm', 0), 4362),\n",
       " ((225, 'm-3m', 1), 2810),\n",
       " ((225, 'm-3m', 0), 2810),\n",
       " ((225, '-43m', 0), 2724),\n",
       " ((1, '1', 0), 2663),\n",
       " ((156, '3m.', 2), 1910),\n",
       " ((156, '3m.', 0), 1910),\n",
       " ((156, '3m.', 1), 1910),\n",
       " ((14, '1', 0), 1908)]"
      ]
     },
     "execution_count": 11,
     "metadata": {},
     "output_type": "execute_result"
    }
   ],
   "source": [
    "augmented_test_token_counts.most_common(10)"
   ]
  },
  {
   "cell_type": "code",
   "execution_count": 12,
   "metadata": {},
   "outputs": [],
   "source": [
    "train_val_token_counts = train_val.fingerprint.apply(collect_tokens).sum()"
   ]
  },
  {
   "cell_type": "code",
   "execution_count": 13,
   "metadata": {},
   "outputs": [],
   "source": [
    "wt_token_counts = wt.apply(record_to_token_counter, axis=1).sum()"
   ]
  },
  {
   "cell_type": "code",
   "execution_count": 14,
   "metadata": {},
   "outputs": [
    {
     "data": {
      "text/plain": [
       "9046"
      ]
     },
     "execution_count": 14,
     "metadata": {},
     "output_type": "execute_result"
    }
   ],
   "source": [
    "len(test)"
   ]
  },
  {
   "cell_type": "code",
   "execution_count": 15,
   "metadata": {},
   "outputs": [
    {
     "data": {
      "text/plain": [
       "21"
      ]
     },
     "execution_count": 15,
     "metadata": {},
     "output_type": "execute_result"
    }
   ],
   "source": [
    "len(test_token_counts.keys() - train_val_token_counts.keys())"
   ]
  },
  {
   "cell_type": "markdown",
   "metadata": {},
   "source": [
    "1. There are no precise details on how many tokens were formed from the MP-20 dataset after tokenization. It would be interesting to discuss this number and other statistics about the tokens, e.g., which tokens are present more often (for some of the high symmetry space groups) and how the distribution of tokens affects training."
   ]
  },
  {
   "cell_type": "code",
   "execution_count": 16,
   "metadata": {},
   "outputs": [],
   "source": [
    "mp_20_token_counts = augmented_test_token_counts + train_val_token_counts"
   ]
  },
  {
   "cell_type": "code",
   "execution_count": 17,
   "metadata": {},
   "outputs": [
    {
     "data": {
      "text/plain": [
       "1047"
      ]
     },
     "execution_count": 17,
     "metadata": {},
     "output_type": "execute_result"
    }
   ],
   "source": [
    "len(mp_20_token_counts)"
   ]
  },
  {
   "cell_type": "code",
   "execution_count": 18,
   "metadata": {},
   "outputs": [],
   "source": [
    "mp_20_token_freq_pd = pd.Series(mp_20_token_counts).sort_values(ascending=False)\n",
    "mp_20_token_freq_pd /= mp_20_token_freq_pd.sum()"
   ]
  },
  {
   "cell_type": "code",
   "execution_count": 19,
   "metadata": {},
   "outputs": [
    {
     "data": {
      "image/png": "[encoded data removed]",
      "text/plain": [
       "<Figure size 640x480 with 1 Axes>"
      ]
     },
     "metadata": {},
     "output_type": "display_data"
    }
   ],
   "source": [
    "import matplotlib\n",
    "import matplotlib.pyplot as plt\n",
    "font = {'size': 7}\n",
    "matplotlib.rc('font', **font)\n",
    "fig, ax = plt.subplots()\n",
    "mp_20_token_freq_pd.hist(bins=500, ax=ax)\n",
    "threshold = 0.01\n",
    "ax.set_xlim(0, threshold)\n",
    "ax.set_xlabel(\"Token frequency in MP-20\")\n",
    "ax.set_ylabel(\"Number of tokens\")\n",
    "ax.set_yscale(\"log\");\n",
    "ax.set_title(f\"Template token frequency distribution in MP-20 for {(mp_20_token_freq_pd < 0.01).sum()} tokens with frequency < {threshold}\");"
   ]
  },
  {
   "cell_type": "code",
   "execution_count": 20,
   "metadata": {},
   "outputs": [
    {
     "data": {
      "image/png": "[encoded data removed]",
      "text/plain": [
       "<Figure size 1000x50 with 1 Axes>"
      ]
     },
     "metadata": {},
     "output_type": "display_data"
    }
   ],
   "source": [
    "fig, ax = plt.subplots(figsize=(10, 0.5))\n",
    "start = 0\n",
    "top_count = 30\n",
    "cmap = matplotlib.colormaps['tab10']\n",
    "for i, (token, frequency) in enumerate(mp_20_token_freq_pd.iloc[:top_count].items()):\n",
    "    ax.barh(0, frequency, left=start, color=cmap(i % cmap.N), label=f\"{token[0]}, {token[1]}, {token[2]}\")\n",
    "    start += frequency\n",
    "ax.set_yticks([])\n",
    "ax.set_xlabel(f\"Template token frequency in MP-20 for top {top_count} tokens\")\n",
    "ax.legend(ncol=7, bbox_to_anchor=(0.5, 2.2), loc='center')\n",
    "ax.spines['top'].set_visible(False)\n",
    "ax.spines['right'].set_visible(False)\n",
    "ax.spines['bottom'].set_visible(False)\n",
    "ax.spines['left'].set_visible(False)"
   ]
  },
  {
   "cell_type": "markdown",
   "metadata": {},
   "source": [
    "2. It is also important to add how many new tokens the method generates or if it just predicts the fixed set of tokens in different combinations (and these combinations result in more template novelty than just sampling existing templates from training data). For instance, naively thinking about it, how will your model generate tokens that are not present in its dictionary?\n"
   ]
  },
  {
   "cell_type": "code",
   "execution_count": 21,
   "metadata": {},
   "outputs": [
    {
     "name": "stdout",
     "output_type": "stream",
     "text": [
      "20 21\n"
     ]
    }
   ],
   "source": [
    "print(len(wt_token_counts.keys() - train_val_token_counts.keys()), len(test_token_counts.keys() - train_val_token_counts.keys()))"
   ]
  },
  {
   "cell_type": "markdown",
   "metadata": {},
   "source": [
    "3. Another thing is that the token space is relatively smaller, so how can it be argued that these tokens cover all possible values a token could take in real material? Since we do not expect to see new tokens during generation, it should be added as a limitation of the method."
   ]
  },
  {
   "cell_type": "code",
   "execution_count": 22,
   "metadata": {},
   "outputs": [
    {
     "data": {
      "text/plain": [
       "[((188, '1', 0), 2),\n",
       " ((139, 'm..', 0), 1),\n",
       " ((224, '.3m', 0), 1),\n",
       " ((224, '2.mm', 0), 1),\n",
       " ((140, '..2', 0), 1),\n",
       " ((72, '2..', 0), 1),\n",
       " ((131, '2mm.', 2), 1),\n",
       " ((23, '.2.', 0), 1),\n",
       " ((23, '2..', 0), 1),\n",
       " ((164, '1', 1), 1)]"
      ]
     },
     "execution_count": 22,
     "metadata": {},
     "output_type": "execute_result"
    }
   ],
   "source": [
    "(wt_token_counts - train_val_token_counts).most_common(10)"
   ]
  },
  {
   "cell_type": "code",
   "execution_count": 23,
   "metadata": {},
   "outputs": [
    {
     "data": {
      "text/plain": [
       "8161"
      ]
     },
     "execution_count": 23,
     "metadata": {},
     "output_type": "execute_result"
    }
   ],
   "source": [
    "len(wt)-wt.fingerprint.isin(train_val.fingerprint).sum()"
   ]
  },
  {
   "cell_type": "code",
   "execution_count": 24,
   "metadata": {},
   "outputs": [],
   "source": [
    "import gzip\n",
    "import pickle\n",
    "with gzip.open(\"../cache/wychoffs_enumerated_by_ss.pkl.gz\", \"rb\") as f:\n",
    "    a, letter_from_ss_enum, ss_from_letter = pickle.load(f)"
   ]
  },
  {
   "cell_type": "code",
   "execution_count": 30,
   "metadata": {},
   "outputs": [],
   "source": [
    "all_ss = frozenset(chain(*((s.values() for s in ss_from_letter.values()))))"
   ]
  },
  {
   "cell_type": "code",
   "execution_count": 36,
   "metadata": {},
   "outputs": [],
   "source": [
    "missing_ss = all_ss - frozenset(mp_20_token_freq_pd.index.get_level_values(1).unique())"
   ]
  },
  {
   "cell_type": "code",
   "execution_count": 40,
   "metadata": {},
   "outputs": [
    {
     "data": {
      "text/plain": [
       "7"
      ]
     },
     "execution_count": 40,
     "metadata": {},
     "output_type": "execute_result"
    }
   ],
   "source": [
    "len(missing_ss)"
   ]
  },
  {
   "cell_type": "code",
   "execution_count": 54,
   "metadata": {},
   "outputs": [],
   "source": [
    "bad_sg = dict([(sg, missing_ss.intersection(d.keys())) for sg, d in letter_from_ss_enum.items() if missing_ss.intersection(d.keys())])"
   ]
  },
  {
   "cell_type": "code",
   "execution_count": 59,
   "metadata": {},
   "outputs": [
    {
     "data": {
      "text/plain": [
       "1654"
      ]
     },
     "execution_count": 59,
     "metadata": {},
     "output_type": "execute_result"
    }
   ],
   "source": [
    "train_val.spacegroup_number.isin(bad_sg.keys()).sum()"
   ]
  },
  {
   "cell_type": "code",
   "execution_count": 46,
   "metadata": {},
   "outputs": [
    {
     "data": {
      "text/plain": [
       "defaultdict(dict, {'..2': {0: 'a', 1: 'b'}, '1': {0: 'c'}})"
      ]
     },
     "execution_count": 46,
     "metadata": {},
     "output_type": "execute_result"
    }
   ],
   "source": [
    "letter_from_ss_enum[34]"
   ]
  },
  {
   "cell_type": "code",
   "execution_count": 39,
   "metadata": {},
   "outputs": [
    {
     "data": {
      "text/plain": [
       "82"
      ]
     },
     "execution_count": 39,
     "metadata": {},
     "output_type": "execute_result"
    }
   ],
   "source": [
    "len(all_ss)"
   ]
  },
  {
   "cell_type": "code",
   "execution_count": 125,
   "metadata": {},
   "outputs": [
    {
     "data": {
      "text/plain": [
       "82"
      ]
     },
     "execution_count": 125,
     "metadata": {},
     "output_type": "execute_result"
    }
   ],
   "source": [
    "len(frozenset(chain(*((s.values() for s in ss_from_letter.values())))))"
   ]
  }
 ],
 "metadata": {
  "kernelspec": {
   "display_name": "wyckofftransformer-FeCwefly-py3.12",
   "language": "python",
   "name": "python3"
  },
  "language_info": {
   "codemirror_mode": {
    "name": "ipython",
    "version": 3
   },
   "file_extension": ".py",
   "mimetype": "text/x-python",
   "name": "python",
   "nbconvert_exporter": "python",
   "pygments_lexer": "ipython3",
   "version": "3.12.3"
  }
 },
 "nbformat": 4,
 "nbformat_minor": 2
}
