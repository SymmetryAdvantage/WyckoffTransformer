{
 "cells": [
  {
   "cell_type": "code",
   "execution_count": 14,
   "metadata": {},
   "outputs": [],
   "source": [
    "import torch\n",
    "torch.no_grad()\n",
    "import pandas as pd"
   ]
  },
  {
   "cell_type": "code",
   "execution_count": 13,
   "metadata": {},
   "outputs": [],
   "source": [
    "preds_torch = torch.load(\"../generated/jd66k0gx.pt\", weights_only=True)"
   ]
  },
  {
   "cell_type": "code",
   "execution_count": 18,
   "metadata": {},
   "outputs": [],
   "source": [
    "wbm = pd.read_csv(\"../data/matbench_discovery_mp_trj_full/test.csv.gz\", index_col=0)"
   ]
  },
  {
   "cell_type": "code",
   "execution_count": 19,
   "metadata": {},
   "outputs": [
    {
     "data": {
      "text/html": [
       "<div>\n",
       "<style scoped>\n",
       "    .dataframe tbody tr th:only-of-type {\n",
       "        vertical-align: middle;\n",
       "    }\n",
       "\n",
       "    .dataframe tbody tr th {\n",
       "        vertical-align: top;\n",
       "    }\n",
       "\n",
       "    .dataframe thead th {\n",
       "        text-align: right;\n",
       "    }\n",
       "</style>\n",
       "<table border=\"1\" class=\"dataframe\">\n",
       "  <thead>\n",
       "    <tr style=\"text-align: right;\">\n",
       "      <th></th>\n",
       "      <th>cif</th>\n",
       "      <th>band_gap</th>\n",
       "      <th>formation_energy_per_atom</th>\n",
       "    </tr>\n",
       "    <tr>\n",
       "      <th>material_id</th>\n",
       "      <th></th>\n",
       "      <th></th>\n",
       "      <th></th>\n",
       "    </tr>\n",
       "  </thead>\n",
       "  <tbody>\n",
       "    <tr>\n",
       "      <th>wbm-1-1</th>\n",
       "      <td>data_image0\\n_chemical_formula_structural     ...</td>\n",
       "      <td>0.0</td>\n",
       "      <td>0.544327</td>\n",
       "    </tr>\n",
       "    <tr>\n",
       "      <th>wbm-1-2</th>\n",
       "      <td>data_image0\\n_chemical_formula_structural     ...</td>\n",
       "      <td>0.0</td>\n",
       "      <td>0.126190</td>\n",
       "    </tr>\n",
       "    <tr>\n",
       "      <th>wbm-1-3</th>\n",
       "      <td>data_image0\\n_chemical_formula_structural     ...</td>\n",
       "      <td>0.0</td>\n",
       "      <td>0.765339</td>\n",
       "    </tr>\n",
       "    <tr>\n",
       "      <th>wbm-1-4</th>\n",
       "      <td>data_image0\\n_chemical_formula_structural     ...</td>\n",
       "      <td>0.0</td>\n",
       "      <td>0.032195</td>\n",
       "    </tr>\n",
       "    <tr>\n",
       "      <th>wbm-1-5</th>\n",
       "      <td>data_image0\\n_chemical_formula_structural     ...</td>\n",
       "      <td>0.0</td>\n",
       "      <td>-0.175452</td>\n",
       "    </tr>\n",
       "  </tbody>\n",
       "</table>\n",
       "</div>"
      ],
      "text/plain": [
       "                                                           cif  band_gap  \\\n",
       "material_id                                                                \n",
       "wbm-1-1      data_image0\\n_chemical_formula_structural     ...       0.0   \n",
       "wbm-1-2      data_image0\\n_chemical_formula_structural     ...       0.0   \n",
       "wbm-1-3      data_image0\\n_chemical_formula_structural     ...       0.0   \n",
       "wbm-1-4      data_image0\\n_chemical_formula_structural     ...       0.0   \n",
       "wbm-1-5      data_image0\\n_chemical_formula_structural     ...       0.0   \n",
       "\n",
       "             formation_energy_per_atom  \n",
       "material_id                             \n",
       "wbm-1-1                       0.544327  \n",
       "wbm-1-2                       0.126190  \n",
       "wbm-1-3                       0.765339  \n",
       "wbm-1-4                       0.032195  \n",
       "wbm-1-5                      -0.175452  "
      ]
     },
     "execution_count": 19,
     "metadata": {},
     "output_type": "execute_result"
    }
   ],
   "source": [
    "wbm.head()"
   ]
  },
  {
   "cell_type": "code",
   "execution_count": 20,
   "metadata": {},
   "outputs": [],
   "source": [
    "preds_pd = pd.Series(preds_torch.mean(axis=(1,2)).numpy(), name=\"wyformer_eform\", index=wbm.index)"
   ]
  },
  {
   "cell_type": "code",
   "execution_count": 22,
   "metadata": {},
   "outputs": [],
   "source": [
    "preds_pd.to_csv(\"../generated/jd66k0gx.csv.gz\", index=True)"
   ]
  }
 ],
 "metadata": {
  "kernelspec": {
   "display_name": "wyckofftransformer-FeCwefly-py3.12",
   "language": "python",
   "name": "python3"
  },
  "language_info": {
   "codemirror_mode": {
    "name": "ipython",
    "version": 3
   },
   "file_extension": ".py",
   "mimetype": "text/x-python",
   "name": "python",
   "nbconvert_exporter": "python",
   "pygments_lexer": "ipython3",
   "version": "3.12.3"
  }
 },
 "nbformat": 4,
 "nbformat_minor": 2
}
