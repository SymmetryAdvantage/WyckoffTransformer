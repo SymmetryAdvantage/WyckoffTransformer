{
 "cells": [
  {
   "cell_type": "code",
   "execution_count": 4,
   "metadata": {},
   "outputs": [],
   "source": [
    "from typing import Tuple\n",
    "import pandas as pd\n",
    "from tqdm.notebook import tqdm\n",
    "import sys\n",
    "sys.path.append('..')\n",
    "from evaluation.generated_dataset import GeneratedDataset, load_all_from_config\n",
    "from evaluation.novelty import NoveltyFilter, filter_by_unique_structure"
   ]
  },
  {
   "cell_type": "code",
   "execution_count": 5,
   "metadata": {},
   "outputs": [],
   "source": [
    "raw_datasets = {\n",
    "    \"WyFormer\": (\"WyckoffTransformer\",),\n",
    "#    \"DiffCSP\": (\"DiffCSP\",)\n",
    "}"
   ]
  },
  {
   "cell_type": "code",
   "execution_count": 6,
   "metadata": {},
   "outputs": [],
   "source": [
    "all_datasets = load_all_from_config(\n",
    "    datasets=list(raw_datasets.values()) + \\\n",
    "        [(\"split\", \"train\"), (\"split\", \"val\"), (\"split\", \"test\")],\n",
    "    dataset_name=\"carbon_24\")"
   ]
  },
  {
   "cell_type": "code",
   "execution_count": 7,
   "metadata": {},
   "outputs": [],
   "source": [
    "novelty_reference = pd.concat([\n",
    "    all_datasets[('split', 'train')].data,\n",
    "    all_datasets[('split', 'val')].data], axis=0, verify_integrity=True)\n",
    "novelty_filter = NoveltyFilter(novelty_reference)"
   ]
  },
  {
   "cell_type": "code",
   "execution_count": 8,
   "metadata": {},
   "outputs": [],
   "source": [
    "import evaluation.statistical_evaluator\n",
    "test_evaluator = evaluation.statistical_evaluator.StatisticalEvaluator(all_datasets[('split', 'test')].data)"
   ]
  },
  {
   "cell_type": "code",
   "execution_count": 9,
   "metadata": {},
   "outputs": [],
   "source": [
    "import evaluation.novelty\n",
    "train_w_template_set = frozenset(novelty_reference.apply(evaluation.novelty.record_to_anonymous_fingerprint, axis=1))\n",
    "train_strict_AFLOW_set = frozenset(novelty_reference.apply(evaluation.novelty.record_to_strict_AFLOW_fingerprint, axis=1))\n",
    "train_relaxed_AFLOW_set = frozenset(novelty_reference.apply(evaluation.novelty.record_to_relaxed_AFLOW_fingerprint, axis=1))"
   ]
  },
  {
   "cell_type": "code",
   "execution_count": 10,
   "metadata": {},
   "outputs": [],
   "source": [
    "carbon_24 = pd.concat([\n",
    "    all_datasets[('split', 'train')].data,\n",
    "    all_datasets[('split', 'val')].data,\n",
    "    all_datasets[('split', 'test')].data], axis=0, verify_integrity=True)"
   ]
  },
  {
   "cell_type": "code",
   "execution_count": 11,
   "metadata": {},
   "outputs": [
    {
     "data": {
      "text/plain": [
       "1.0"
      ]
     },
     "execution_count": 11,
     "metadata": {},
     "output_type": "execute_result"
    }
   ],
   "source": [
    "carbon_24.smact_validity.mean()"
   ]
  },
  {
   "cell_type": "code",
   "execution_count": 12,
   "metadata": {},
   "outputs": [
    {
     "data": {
      "text/plain": [
       "True"
      ]
     },
     "execution_count": 12,
     "metadata": {},
     "output_type": "execute_result"
    }
   ],
   "source": [
    "(carbon_24.spacegroup_number == 1).any()"
   ]
  },
  {
   "cell_type": "code",
   "execution_count": 13,
   "metadata": {},
   "outputs": [
    {
     "data": {
      "text/plain": [
       "spacegroup_number\n",
       "12     3253\n",
       "2      1573\n",
       "1      1028\n",
       "8       532\n",
       "166     426\n",
       "63      424\n",
       "227     355\n",
       "65      310\n",
       "10      253\n",
       "6       215\n",
       "5       188\n",
       "69      178\n",
       "15      147\n",
       "74      147\n",
       "51      140\n",
       "11      135\n",
       "194     127\n",
       "44      102\n",
       "71       87\n",
       "25       87\n",
       "38       84\n",
       "178      56\n",
       "179      53\n",
       "139      42\n",
       "42       29\n",
       "35       29\n",
       "14       20\n",
       "20       17\n",
       "24       14\n",
       "229      12\n",
       "3        11\n",
       "13       10\n",
       "191      10\n",
       "47        8\n",
       "31        8\n",
       "64        7\n",
       "4         5\n",
       "119       5\n",
       "9         4\n",
       "164       3\n",
       "17        2\n",
       "140       2\n",
       "59        2\n",
       "46        2\n",
       "136       1\n",
       "82        1\n",
       "138       1\n",
       "72        1\n",
       "39        1\n",
       "55        1\n",
       "70        1\n",
       "148       1\n",
       "122       1\n",
       "36        1\n",
       "7         1\n",
       "Name: count, dtype: int64"
      ]
     },
     "execution_count": 13,
     "metadata": {},
     "output_type": "execute_result"
    }
   ],
   "source": [
    "carbon_24.spacegroup_number.value_counts()"
   ]
  },
  {
   "cell_type": "code",
   "execution_count": 14,
   "metadata": {},
   "outputs": [
    {
     "data": {
      "application/vnd.jupyter.widget-view+json": {
       "model_id": "acf29db8ef00483bb46841ff5a76bc47",
       "version_major": 2,
       "version_minor": 0
      },
      "text/plain": [
       "  0%|          | 0/1 [00:00<?, ?it/s]"
      ]
     },
     "metadata": {},
     "output_type": "display_data"
    },
    {
     "name": "stdout",
     "output_type": "stream",
     "text": [
      "Unique: 522 / 10000 = 0.0522\n"
     ]
    },
    {
     "data": {
      "text/html": [
       "<div>\n",
       "<style scoped>\n",
       "    .dataframe tbody tr th:only-of-type {\n",
       "        vertical-align: middle;\n",
       "    }\n",
       "\n",
       "    .dataframe tbody tr th {\n",
       "        vertical-align: top;\n",
       "    }\n",
       "\n",
       "    .dataframe thead th {\n",
       "        text-align: right;\n",
       "    }\n",
       "</style>\n",
       "<table border=\"1\" class=\"dataframe\">\n",
       "  <thead>\n",
       "    <tr style=\"text-align: right;\">\n",
       "      <th></th>\n",
       "      <th>Novelty (%)</th>\n",
       "      <th>Structural</th>\n",
       "      <th>Compositional</th>\n",
       "      <th>Recall</th>\n",
       "      <th>Precision</th>\n",
       "      <th>$\\rho$</th>\n",
       "      <th>$E$</th>\n",
       "      <th># Elements</th>\n",
       "      <th>Novel Template (%)</th>\n",
       "      <th>Novel AFLOW on P1</th>\n",
       "      <th>Novel AFLOW on !P1</th>\n",
       "      <th>Novel AFLOW (%)</th>\n",
       "      <th>Novel AFLOW relaxed (%)</th>\n",
       "      <th>P1 (%)</th>\n",
       "      <th>Space Group</th>\n",
       "    </tr>\n",
       "    <tr>\n",
       "      <th>Method</th>\n",
       "      <th></th>\n",
       "      <th></th>\n",
       "      <th></th>\n",
       "      <th></th>\n",
       "      <th></th>\n",
       "      <th></th>\n",
       "      <th></th>\n",
       "      <th></th>\n",
       "      <th></th>\n",
       "      <th></th>\n",
       "      <th></th>\n",
       "      <th></th>\n",
       "      <th></th>\n",
       "      <th></th>\n",
       "      <th></th>\n",
       "    </tr>\n",
       "  </thead>\n",
       "  <tbody>\n",
       "    <tr>\n",
       "      <th>WyFormer</th>\n",
       "      <td>53.065134</td>\n",
       "      <td>NaN</td>\n",
       "      <td>NaN</td>\n",
       "      <td>NaN</td>\n",
       "      <td>NaN</td>\n",
       "      <td>NaN</td>\n",
       "      <td>NaN</td>\n",
       "      <td>NaN</td>\n",
       "      <td>53.065134</td>\n",
       "      <td>54.545455</td>\n",
       "      <td>53.0</td>\n",
       "      <td>53.065134</td>\n",
       "      <td>53.065134</td>\n",
       "      <td>4.33213</td>\n",
       "      <td>4.032625</td>\n",
       "    </tr>\n",
       "  </tbody>\n",
       "</table>\n",
       "</div>"
      ],
      "text/plain": [
       "         Novelty (%) Structural Compositional Recall Precision $\\rho$  $E$  \\\n",
       "Method                                                                       \n",
       "WyFormer   53.065134        NaN           NaN    NaN       NaN    NaN  NaN   \n",
       "\n",
       "         # Elements Novel Template (%) Novel AFLOW on P1 Novel AFLOW on !P1  \\\n",
       "Method                                                                        \n",
       "WyFormer        NaN          53.065134         54.545455               53.0   \n",
       "\n",
       "         Novel AFLOW (%) Novel AFLOW relaxed (%)   P1 (%) Space Group  \n",
       "Method                                                                 \n",
       "WyFormer       53.065134               53.065134  4.33213    4.032625  "
      ]
     },
     "execution_count": 14,
     "metadata": {},
     "output_type": "execute_result"
    }
   ],
   "source": [
    "table = pd.DataFrame(\n",
    "    index=raw_datasets.keys(), columns=[\n",
    "        \"Novelty (%)\", \"Structural\", \"Compositional\", \n",
    "        \"Recall\", \"Precision\",\n",
    "        r\"$\\rho$\", \"$E$\", \"# Elements\",\n",
    "        \"Novel Template (%)\", \n",
    "        \"Novel AFLOW on P1\",\n",
    "        \"Novel AFLOW on !P1\",\n",
    "        \"Novel AFLOW (%)\",\n",
    "        \"Novel AFLOW relaxed (%)\",\n",
    "        \"P1 (%)\",\n",
    "        \"Space Group\"])\n",
    "table.index.name = \"Method\"\n",
    "E_hull_threshold = 0.08\n",
    "for name, transformations in tqdm(raw_datasets.items()):\n",
    "    dataset = all_datasets[transformations]\n",
    "    unique = filter_by_unique_structure(dataset.data)\n",
    "    print(f\"Unique: {len(unique)} / {len(dataset.data)} = {len(unique) / len(dataset.data)}\")\n",
    "    novel_template = ~unique.apply(evaluation.novelty.record_to_anonymous_fingerprint, axis=1).isin(train_w_template_set)\n",
    "    table.loc[name, \"Novel Template (%)\"] = 100 * novel_template.mean()\n",
    "    novel_aflow_strict = ~unique.apply(evaluation.novelty.record_to_strict_AFLOW_fingerprint, axis=1).isin(train_strict_AFLOW_set)\n",
    "    table.loc[name, \"Novel AFLOW (%)\"] = 100 * novel_aflow_strict.mean()\n",
    "    novel_aflow_relaxed = ~unique.apply(evaluation.novelty.record_to_relaxed_AFLOW_fingerprint, axis=1).isin(train_relaxed_AFLOW_set)\n",
    "    table.loc[name, \"Novel AFLOW relaxed (%)\"] = 100 * novel_aflow_relaxed.mean()\n",
    "    unique_is_P1 = unique.group == 1\n",
    "    table.loc[name, \"Novel AFLOW on P1\"] = 100 * novel_aflow_strict[unique_is_P1].mean()\n",
    "    table.loc[name, \"Novel AFLOW on !P1\"] = 100 * novel_aflow_strict[~unique_is_P1].mean()\n",
    "    if transformations == (\"split\", \"train\"):\n",
    "        novel = unique\n",
    "    else:\n",
    "        novel = novelty_filter.get_novel(unique)\n",
    "    table.loc[name, \"Novelty (%)\"] = 100 * len(novel) / len(unique)\n",
    "    if \"structural_validity\" in novel.columns:\n",
    "        table.loc[name, \"Structural\"] = 100 * novel.structural_validity.mean()\n",
    "        table.loc[name, \"Compositional\"] = 100 * novel.smact_validity.mean()\n",
    "    if \"cdvae_crystal\" in novel.columns:\n",
    "        cov_metrics = test_evaluator.get_coverage(novel.cdvae_crystal)    \n",
    "        table.loc[name, \"Recall\"] = 100 * cov_metrics[\"cov_recall\"]\n",
    "        table.loc[name, \"Precision\"] = 100 * cov_metrics[\"cov_precision\"]\n",
    "        novel = novel[novel.structural_validity]\n",
    "        table.loc[name, r\"$\\rho$\"] = test_evaluator.get_density_emd(novel)\n",
    "        table.loc[name, \"$E$\"] = test_evaluator.get_cdvae_e_emd(novel)\n",
    "        table.loc[name, \"# Elements\"] = test_evaluator.get_num_elements_emd(novel)\n",
    "    table.loc[name, \"P1 (%)\"] = 100 * (novel.group == 1).mean()\n",
    "    table.loc[name, \"Space Group\"] = test_evaluator.get_sg_chi2(novel)\n",
    "table"
   ]
  },
  {
   "cell_type": "code",
   "execution_count": 19,
   "metadata": {},
   "outputs": [
    {
     "data": {
      "application/vnd.jupyter.widget-view+json": {
       "model_id": "f5a0239862f540a8a1d1e65a6ff7f93c",
       "version_major": 2,
       "version_minor": 0
      },
      "text/plain": [
       "  0%|          | 0/1 [00:00<?, ?it/s]"
      ]
     },
     "metadata": {},
     "output_type": "display_data"
    }
   ],
   "source": [
    "cdvae_table = pd.DataFrame(index=pd.Index(raw_datasets.keys(), tupleize_cols=False),\n",
    "    columns=[\n",
    "        \"Structural\", \"Compositional\",\n",
    "        \"Recall\", \"Precision\",\n",
    "        r\"$\\rho$\", \"$E$\", \"# Elements\"])\n",
    "sample_size = 992\n",
    "for name, transformations in tqdm(raw_datasets.items()):\n",
    "    dataset = all_datasets[transformations]\n",
    "    if \"structure\" in dataset.data.columns:\n",
    "        cdvae_table.loc[name, \"Compositional\"] = 100*dataset.data.smact_validity.mean()\n",
    "        cdvae_table.loc[name, \"Structural\"] = 100*dataset.data.structural_validity.mean()\n",
    "        valid = dataset.data[dataset.data.naive_validity]\n",
    "        cov_metrics = test_evaluator.get_coverage(valid.cdvae_crystal)\n",
    "        cdvae_table.loc[name, \"Recall\"] = 100*cov_metrics[\"cov_recall\"]\n",
    "        cdvae_table.loc[name, \"Precision\"] = 100*cov_metrics[\"cov_precision\"]\n",
    "        cdvae_table.loc[name, r\"$\\rho$\"] = test_evaluator.get_density_emd(valid)\n",
    "        cdvae_table.loc[name, \"$E$\"] = test_evaluator.get_cdvae_e_emd(valid)\n",
    "        cdvae_table.loc[name, \"# Elements\"] = test_evaluator.get_num_elements_emd(valid)\n",
    "cdvae_table.to_csv(\"tables/cdvae_metrics_no_relax_table.csv\")\n",
    "#prettify(cdvae_table).to_latex(\"tables/cdvae_metrics_no_relax_table.tex\", siunitx=True, convert_css=True)\n",
    "#prettify(cdvae_table)"
   ]
  },
  {
   "cell_type": "code",
   "execution_count": 16,
   "metadata": {},
   "outputs": [
    {
     "data": {
      "text/html": [
       "<div>\n",
       "<style scoped>\n",
       "    .dataframe tbody tr th:only-of-type {\n",
       "        vertical-align: middle;\n",
       "    }\n",
       "\n",
       "    .dataframe tbody tr th {\n",
       "        vertical-align: top;\n",
       "    }\n",
       "\n",
       "    .dataframe thead th {\n",
       "        text-align: right;\n",
       "    }\n",
       "</style>\n",
       "<table border=\"1\" class=\"dataframe\">\n",
       "  <thead>\n",
       "    <tr style=\"text-align: right;\">\n",
       "      <th></th>\n",
       "      <th>Structural</th>\n",
       "      <th>Compositional</th>\n",
       "      <th>Recall</th>\n",
       "      <th>Precision</th>\n",
       "      <th>$\\rho$</th>\n",
       "      <th>$E$</th>\n",
       "      <th># Elements</th>\n",
       "    </tr>\n",
       "  </thead>\n",
       "  <tbody>\n",
       "    <tr>\n",
       "      <th>WyFormer</th>\n",
       "      <td>NaN</td>\n",
       "      <td>NaN</td>\n",
       "      <td>NaN</td>\n",
       "      <td>NaN</td>\n",
       "      <td>NaN</td>\n",
       "      <td>NaN</td>\n",
       "      <td>NaN</td>\n",
       "    </tr>\n",
       "  </tbody>\n",
       "</table>\n",
       "</div>"
      ],
      "text/plain": [
       "         Structural Compositional Recall Precision $\\rho$  $E$ # Elements\n",
       "WyFormer        NaN           NaN    NaN       NaN    NaN  NaN        NaN"
      ]
     },
     "execution_count": 16,
     "metadata": {},
     "output_type": "execute_result"
    }
   ],
   "source": [
    "cdvae_table"
   ]
  }
 ],
 "metadata": {
  "kernelspec": {
   "display_name": "wyckofftransformer-FeCwefly-py3.12",
   "language": "python",
   "name": "python3"
  },
  "language_info": {
   "codemirror_mode": {
    "name": "ipython",
    "version": 3
   },
   "file_extension": ".py",
   "mimetype": "text/x-python",
   "name": "python",
   "nbconvert_exporter": "python",
   "pygments_lexer": "ipython3",
   "version": "3.12.3"
  }
 },
 "nbformat": 4,
 "nbformat_minor": 2
}
