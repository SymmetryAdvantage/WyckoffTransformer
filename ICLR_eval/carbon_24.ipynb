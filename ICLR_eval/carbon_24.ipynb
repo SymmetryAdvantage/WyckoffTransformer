{
 "cells": [
  {
   "cell_type": "code",
   "execution_count": 6,
   "metadata": {},
   "outputs": [
    {
     "name": "stderr",
     "output_type": "stream",
     "text": [
      "/home/kna/.cache/pypoetry/virtualenvs/wyckofftransformer-FeCwefly-py3.12/lib/python3.12/site-packages/matminer/utils/data.py:326: UserWarning: MagpieData(impute_nan=False):\n",
      "In a future release, impute_nan will be set to True by default.\n",
      "                    This means that features that are missing or are NaNs for elements\n",
      "                    from the data source will be replaced by the average of that value\n",
      "                    over the available elements.\n",
      "                    This avoids NaNs after featurization that are often replaced by\n",
      "                    dataset-dependent averages.\n",
      "  warnings.warn(f\"{self.__class__.__name__}(impute_nan=False):\\n\" + IMPUTE_NAN_WARNING)\n"
     ]
    }
   ],
   "source": [
    "from typing import Tuple\n",
    "import pandas as pd\n",
    "from tqdm.notebook import tqdm\n",
    "import sys\n",
    "sys.path.append('..')\n",
    "from evaluation.generated_dataset import GeneratedDataset, load_all_from_config\n",
    "from evaluation.novelty import NoveltyFilter, filter_by_unique_structure"
   ]
  },
  {
   "cell_type": "code",
   "execution_count": 9,
   "metadata": {},
   "outputs": [],
   "source": [
    "raw_datasets = {\n",
    "    \"WyFromer\": (\"WyckoffTransformer\", ),\n",
    "    \"WyFormer_CrySPR\": (\"WyckoffTransformer\", \"CrySPR\", \"CHGNet_fix\"),\n",
    "    \"WyForDiffCSP++\": (\"WyckoffTransformer\", \"DiffCSP++\"),\n",
    "    \"DiffCSP\": (\"DiffCSP\",)\n",
    "}"
   ]
  },
  {
   "cell_type": "code",
   "execution_count": 10,
   "metadata": {},
   "outputs": [],
   "source": [
    "all_datasets = load_all_from_config(\n",
    "    datasets=list(raw_datasets.values()) + \\\n",
    "        [(\"split\", \"train\"), (\"split\", \"val\"), (\"split\", \"test\")],\n",
    "    dataset_name=\"carbon_24\")"
   ]
  },
  {
   "cell_type": "code",
   "execution_count": 11,
   "metadata": {},
   "outputs": [],
   "source": [
    "novelty_reference = pd.concat([\n",
    "    all_datasets[('split', 'train')].data,\n",
    "    all_datasets[('split', 'val')].data], axis=0, verify_integrity=True)\n",
    "novelty_filter = NoveltyFilter(novelty_reference)"
   ]
  },
  {
   "cell_type": "code",
   "execution_count": 12,
   "metadata": {},
   "outputs": [],
   "source": [
    "import evaluation.statistical_evaluator\n",
    "test_evaluator = evaluation.statistical_evaluator.StatisticalEvaluator(\n",
    "    all_datasets[('split', 'test')].data, cdvae_eval_model_name=\"carbon\")"
   ]
  },
  {
   "cell_type": "code",
   "execution_count": 13,
   "metadata": {},
   "outputs": [],
   "source": [
    "import evaluation.novelty\n",
    "train_w_template_set = frozenset(novelty_reference.apply(evaluation.novelty.record_to_anonymous_fingerprint, axis=1))\n",
    "train_strict_AFLOW_set = frozenset(novelty_reference.apply(evaluation.novelty.record_to_strict_AFLOW_fingerprint, axis=1))\n",
    "train_relaxed_AFLOW_set = frozenset(novelty_reference.apply(evaluation.novelty.record_to_relaxed_AFLOW_fingerprint, axis=1))"
   ]
  },
  {
   "cell_type": "code",
   "execution_count": 14,
   "metadata": {},
   "outputs": [],
   "source": [
    "carbon_24 = pd.concat([\n",
    "    all_datasets[('split', 'train')].data,\n",
    "    all_datasets[('split', 'val')].data,\n",
    "    all_datasets[('split', 'test')].data], axis=0, verify_integrity=True)"
   ]
  },
  {
   "cell_type": "code",
   "execution_count": 15,
   "metadata": {},
   "outputs": [
    {
     "data": {
      "application/vnd.jupyter.widget-view+json": {
       "model_id": "6f5d8cc448a6440d9fee7ae437bc1b5b",
       "version_major": 2,
       "version_minor": 0
      },
      "text/plain": [
       "  0%|          | 0/4 [00:00<?, ?it/s]"
      ]
     },
     "metadata": {},
     "output_type": "display_data"
    },
    {
     "data": {
      "text/html": [
       "<div>\n",
       "<style scoped>\n",
       "    .dataframe tbody tr th:only-of-type {\n",
       "        vertical-align: middle;\n",
       "    }\n",
       "\n",
       "    .dataframe tbody tr th {\n",
       "        vertical-align: top;\n",
       "    }\n",
       "\n",
       "    .dataframe thead th {\n",
       "        text-align: right;\n",
       "    }\n",
       "</style>\n",
       "<table border=\"1\" class=\"dataframe\">\n",
       "  <thead>\n",
       "    <tr style=\"text-align: right;\">\n",
       "      <th></th>\n",
       "      <th>Novelty (%)</th>\n",
       "      <th>Structural</th>\n",
       "      <th>Compositional</th>\n",
       "      <th>Recall</th>\n",
       "      <th>Precision</th>\n",
       "      <th>$\\rho$</th>\n",
       "      <th>$E$</th>\n",
       "      <th># Elements</th>\n",
       "      <th>Novel Template (%)</th>\n",
       "      <th>Novel AFLOW on P1</th>\n",
       "      <th>Novel AFLOW on !P1</th>\n",
       "      <th>Novel AFLOW (%)</th>\n",
       "      <th>Novel AFLOW relaxed (%)</th>\n",
       "      <th>P1 (%)</th>\n",
       "      <th>Space Group</th>\n",
       "    </tr>\n",
       "    <tr>\n",
       "      <th>Method</th>\n",
       "      <th></th>\n",
       "      <th></th>\n",
       "      <th></th>\n",
       "      <th></th>\n",
       "      <th></th>\n",
       "      <th></th>\n",
       "      <th></th>\n",
       "      <th></th>\n",
       "      <th></th>\n",
       "      <th></th>\n",
       "      <th></th>\n",
       "      <th></th>\n",
       "      <th></th>\n",
       "      <th></th>\n",
       "      <th></th>\n",
       "    </tr>\n",
       "  </thead>\n",
       "  <tbody>\n",
       "    <tr>\n",
       "      <th>WyFromer</th>\n",
       "      <td>100.0</td>\n",
       "      <td>NaN</td>\n",
       "      <td>NaN</td>\n",
       "      <td>NaN</td>\n",
       "      <td>NaN</td>\n",
       "      <td>NaN</td>\n",
       "      <td>NaN</td>\n",
       "      <td>NaN</td>\n",
       "      <td>13.2</td>\n",
       "      <td>51.207243</td>\n",
       "      <td>9.005108</td>\n",
       "      <td>13.2</td>\n",
       "      <td>13.2</td>\n",
       "      <td>9.94</td>\n",
       "      <td>0.018352</td>\n",
       "    </tr>\n",
       "    <tr>\n",
       "      <th>WyFormer_CrySPR</th>\n",
       "      <td>100.0</td>\n",
       "      <td>100.0</td>\n",
       "      <td>100.0</td>\n",
       "      <td>77.2</td>\n",
       "      <td>98.423645</td>\n",
       "      <td>1.110789</td>\n",
       "      <td>0.102047</td>\n",
       "      <td>0.0</td>\n",
       "      <td>25.0</td>\n",
       "      <td>48.611111</td>\n",
       "      <td>23.168103</td>\n",
       "      <td>25.0</td>\n",
       "      <td>25.0</td>\n",
       "      <td>7.2</td>\n",
       "      <td>4.57169</td>\n",
       "    </tr>\n",
       "    <tr>\n",
       "      <th>WyForDiffCSP++</th>\n",
       "      <td>100.0</td>\n",
       "      <td>100.0</td>\n",
       "      <td>100.0</td>\n",
       "      <td>7.3</td>\n",
       "      <td>29.064039</td>\n",
       "      <td>1.626451</td>\n",
       "      <td>0.908245</td>\n",
       "      <td>0.0</td>\n",
       "      <td>19.1</td>\n",
       "      <td>43.68932</td>\n",
       "      <td>16.276477</td>\n",
       "      <td>19.1</td>\n",
       "      <td>19.1</td>\n",
       "      <td>10.3</td>\n",
       "      <td>0.084746</td>\n",
       "    </tr>\n",
       "    <tr>\n",
       "      <th>DiffCSP</th>\n",
       "      <td>100.0</td>\n",
       "      <td>100.0</td>\n",
       "      <td>100.0</td>\n",
       "      <td>98.41</td>\n",
       "      <td>99.802956</td>\n",
       "      <td>0.076489</td>\n",
       "      <td>0.044992</td>\n",
       "      <td>0.0</td>\n",
       "      <td>2.15</td>\n",
       "      <td>0.111607</td>\n",
       "      <td>2.350615</td>\n",
       "      <td>2.15</td>\n",
       "      <td>2.15</td>\n",
       "      <td>8.96</td>\n",
       "      <td>0.185129</td>\n",
       "    </tr>\n",
       "  </tbody>\n",
       "</table>\n",
       "</div>"
      ],
      "text/plain": [
       "                Novelty (%) Structural Compositional Recall  Precision  \\\n",
       "Method                                                                   \n",
       "WyFromer              100.0        NaN           NaN    NaN        NaN   \n",
       "WyFormer_CrySPR       100.0      100.0         100.0   77.2  98.423645   \n",
       "WyForDiffCSP++        100.0      100.0         100.0    7.3  29.064039   \n",
       "DiffCSP               100.0      100.0         100.0  98.41  99.802956   \n",
       "\n",
       "                   $\\rho$       $E$ # Elements Novel Template (%)  \\\n",
       "Method                                                              \n",
       "WyFromer              NaN       NaN        NaN               13.2   \n",
       "WyFormer_CrySPR  1.110789  0.102047        0.0               25.0   \n",
       "WyForDiffCSP++   1.626451  0.908245        0.0               19.1   \n",
       "DiffCSP          0.076489  0.044992        0.0               2.15   \n",
       "\n",
       "                Novel AFLOW on P1 Novel AFLOW on !P1 Novel AFLOW (%)  \\\n",
       "Method                                                                 \n",
       "WyFromer                51.207243           9.005108            13.2   \n",
       "WyFormer_CrySPR         48.611111          23.168103            25.0   \n",
       "WyForDiffCSP++           43.68932          16.276477            19.1   \n",
       "DiffCSP                  0.111607           2.350615            2.15   \n",
       "\n",
       "                Novel AFLOW relaxed (%) P1 (%) Space Group  \n",
       "Method                                                      \n",
       "WyFromer                           13.2   9.94    0.018352  \n",
       "WyFormer_CrySPR                    25.0    7.2     4.57169  \n",
       "WyForDiffCSP++                     19.1   10.3    0.084746  \n",
       "DiffCSP                            2.15   8.96    0.185129  "
      ]
     },
     "execution_count": 15,
     "metadata": {},
     "output_type": "execute_result"
    }
   ],
   "source": [
    "table = pd.DataFrame(\n",
    "    index=raw_datasets.keys(), columns=[\n",
    "        \"Novelty (%)\", \"Structural\", \"Compositional\", \n",
    "        \"Recall\", \"Precision\",\n",
    "        r\"$\\rho$\", \"$E$\", \"# Elements\",\n",
    "        \"Novel Template (%)\", \n",
    "        \"Novel AFLOW on P1\",\n",
    "        \"Novel AFLOW on !P1\",\n",
    "        \"Novel AFLOW (%)\",\n",
    "        \"Novel AFLOW relaxed (%)\",\n",
    "        \"P1 (%)\",\n",
    "        \"Space Group\"])\n",
    "table.index.name = \"Method\"\n",
    "E_hull_threshold = 0.08\n",
    "for name, transformations in tqdm(raw_datasets.items()):\n",
    "    dataset = all_datasets[transformations]\n",
    "    unique = dataset.data\n",
    "    #unique = filter_by_unique_structure(dataset.data)\n",
    "    #print(f\"Unique: {len(unique)} / {len(dataset.data)} = {len(unique) / len(dataset.data)}\")\n",
    "    novel_template = ~unique.apply(evaluation.novelty.record_to_anonymous_fingerprint, axis=1).isin(train_w_template_set)\n",
    "    table.loc[name, \"Novel Template (%)\"] = 100 * novel_template.mean()\n",
    "    novel_aflow_strict = ~unique.apply(evaluation.novelty.record_to_strict_AFLOW_fingerprint, axis=1).isin(train_strict_AFLOW_set)\n",
    "    table.loc[name, \"Novel AFLOW (%)\"] = 100 * novel_aflow_strict.mean()\n",
    "    novel_aflow_relaxed = ~unique.apply(evaluation.novelty.record_to_relaxed_AFLOW_fingerprint, axis=1).isin(train_relaxed_AFLOW_set)\n",
    "    table.loc[name, \"Novel AFLOW relaxed (%)\"] = 100 * novel_aflow_relaxed.mean()\n",
    "    unique_is_P1 = unique.group == 1\n",
    "    table.loc[name, \"Novel AFLOW on P1\"] = 100 * novel_aflow_strict[unique_is_P1].mean()\n",
    "    table.loc[name, \"Novel AFLOW on !P1\"] = 100 * novel_aflow_strict[~unique_is_P1].mean()\n",
    "    novel = unique\n",
    "    table.loc[name, \"Novelty (%)\"] = 100 * len(novel) / len(unique)\n",
    "    if \"structural_validity\" in novel.columns:\n",
    "        table.loc[name, \"Structural\"] = 100 * novel.structural_validity.mean()\n",
    "        table.loc[name, \"Compositional\"] = 100 * novel.smact_validity.mean()\n",
    "    if \"cdvae_crystal\" in novel.columns:\n",
    "        cov_metrics = test_evaluator.get_coverage(novel.cdvae_crystal)    \n",
    "        table.loc[name, \"Recall\"] = 100 * cov_metrics[\"cov_recall\"]\n",
    "        table.loc[name, \"Precision\"] = 100 * cov_metrics[\"cov_precision\"]\n",
    "        novel = novel[novel.structural_validity]\n",
    "        table.loc[name, r\"$\\rho$\"] = test_evaluator.get_density_emd(novel)\n",
    "        table.loc[name, \"$E$\"] = test_evaluator.get_cdvae_e_emd(novel)\n",
    "        table.loc[name, \"# Elements\"] = test_evaluator.get_num_elements_emd(novel)\n",
    "    table.loc[name, \"P1 (%)\"] = 100 * (novel.group == 1).mean()\n",
    "    table.loc[name, \"Space Group\"] = test_evaluator.get_sg_chi2(novel)\n",
    "table"
   ]
  },
  {
   "cell_type": "code",
   "execution_count": null,
   "metadata": {},
   "outputs": [
    {
     "data": {
      "application/vnd.jupyter.widget-view+json": {
       "model_id": "60b0b3b08c244cae906877991921975d",
       "version_major": 2,
       "version_minor": 0
      },
      "text/plain": [
       "  0%|          | 0/3 [00:00<?, ?it/s]"
      ]
     },
     "metadata": {},
     "output_type": "display_data"
    }
   ],
   "source": [
    "cdvae_table = pd.DataFrame(index=pd.Index(raw_datasets.keys(), tupleize_cols=False),\n",
    "    columns=[\n",
    "        \"Structural\", \"Compositional\",\n",
    "        \"Recall\", \"Precision\",\n",
    "        r\"$\\rho$\", \"$E$\", \"# Elements\"])\n",
    "\n",
    "for name, transformations in tqdm(raw_datasets.items()):\n",
    "    dataset = all_datasets[transformations]\n",
    "    if \"structure\" in dataset.data.columns:\n",
    "        cdvae_table.loc[name, \"Compositional\"] = 100*dataset.data.smact_validity.mean()\n",
    "        cdvae_table.loc[name, \"Structural\"] = 100*dataset.data.structural_validity.mean()\n",
    "        valid = dataset.data[dataset.data.naive_validity]\n",
    "        cov_metrics = test_evaluator.get_coverage(valid.cdvae_crystal.to_list())\n",
    "        cdvae_table.loc[name, \"Recall\"] = 100*cov_metrics[\"cov_recall\"]\n",
    "        cdvae_table.loc[name, \"Precision\"] = 100*cov_metrics[\"cov_precision\"]\n",
    "        cdvae_table.loc[name, r\"$\\rho$\"] = test_evaluator.get_density_emd(valid)\n",
    "        cdvae_table.loc[name, \"$E$\"] = test_evaluator.get_cdvae_e_emd(valid)\n",
    "        cdvae_table.loc[name, \"# Elements\"] = test_evaluator.get_num_elements_emd(valid)\n",
    "cdvae_table.to_csv(\"tables/cdvae_metrics_no_relax_table.csv\")\n",
    "#prettify(cdvae_table).to_latex(\"tables/cdvae_metrics_no_relax_table.tex\", siunitx=True, convert_css=True)\n",
    "#prettify(cdvae_table)"
   ]
  },
  {
   "cell_type": "code",
   "execution_count": null,
   "metadata": {},
   "outputs": [
    {
     "data": {
      "text/html": [
       "<div>\n",
       "<style scoped>\n",
       "    .dataframe tbody tr th:only-of-type {\n",
       "        vertical-align: middle;\n",
       "    }\n",
       "\n",
       "    .dataframe tbody tr th {\n",
       "        vertical-align: top;\n",
       "    }\n",
       "\n",
       "    .dataframe thead th {\n",
       "        text-align: right;\n",
       "    }\n",
       "</style>\n",
       "<table border=\"1\" class=\"dataframe\">\n",
       "  <thead>\n",
       "    <tr style=\"text-align: right;\">\n",
       "      <th></th>\n",
       "      <th>Structural</th>\n",
       "      <th>Compositional</th>\n",
       "      <th>Recall</th>\n",
       "      <th>Precision</th>\n",
       "      <th>$\\rho$</th>\n",
       "      <th>$E$</th>\n",
       "      <th># Elements</th>\n",
       "    </tr>\n",
       "  </thead>\n",
       "  <tbody>\n",
       "    <tr>\n",
       "      <th>WyFormer</th>\n",
       "      <td>100.0</td>\n",
       "      <td>100.0</td>\n",
       "      <td>77.2</td>\n",
       "      <td>98.423645</td>\n",
       "      <td>1.110789</td>\n",
       "      <td>0.102047</td>\n",
       "      <td>0.0</td>\n",
       "    </tr>\n",
       "    <tr>\n",
       "      <th>WyForDiffCSP++</th>\n",
       "      <td>100.0</td>\n",
       "      <td>100.0</td>\n",
       "      <td>7.3</td>\n",
       "      <td>29.064039</td>\n",
       "      <td>1.626451</td>\n",
       "      <td>0.908245</td>\n",
       "      <td>0.0</td>\n",
       "    </tr>\n",
       "    <tr>\n",
       "      <th>DiffCSP</th>\n",
       "      <td>100.0</td>\n",
       "      <td>100.0</td>\n",
       "      <td>98.41</td>\n",
       "      <td>99.802956</td>\n",
       "      <td>0.076489</td>\n",
       "      <td>0.044992</td>\n",
       "      <td>0.0</td>\n",
       "    </tr>\n",
       "  </tbody>\n",
       "</table>\n",
       "</div>"
      ],
      "text/plain": [
       "               Structural Compositional Recall  Precision    $\\rho$       $E$  \\\n",
       "WyFormer            100.0         100.0   77.2  98.423645  1.110789  0.102047   \n",
       "WyForDiffCSP++      100.0         100.0    7.3  29.064039  1.626451  0.908245   \n",
       "DiffCSP             100.0         100.0  98.41  99.802956  0.076489  0.044992   \n",
       "\n",
       "               # Elements  \n",
       "WyFormer              0.0  \n",
       "WyForDiffCSP++        0.0  \n",
       "DiffCSP               0.0  "
      ]
     },
     "execution_count": 9,
     "metadata": {},
     "output_type": "execute_result"
    }
   ],
   "source": [
    "cdvae_table"
   ]
  },
  {
   "cell_type": "code",
   "execution_count": 10,
   "metadata": {},
   "outputs": [
    {
     "data": {
      "image/png": "[encoded data removed]",
      "text/plain": [
       "<Figure size 640x480 with 1 Axes>"
      ]
     },
     "metadata": {},
     "output_type": "display_data"
    }
   ],
   "source": [
    "import matplotlib.pyplot as plt\n",
    "fig, ax = plt.subplots()\n",
    "all_datasets[('WyckoffTransformer', 'CrySPR', 'CHGNet_fix')].data.density.hist(\n",
    "    ax=ax, bins=100, alpha=0.5, label=\"WyFormer\", density=True)\n",
    "carbon_24.density.hist(ax=ax, bins=100, alpha=0.5, label=\"Data\", density=True)\n",
    "ax.set_xlabel(\"Density\")\n",
    "ax.set_ylabel(\"Histogram Density\")\n",
    "ax.legend();"
   ]
  }
 ],
 "metadata": {
  "kernelspec": {
   "display_name": "wyckofftransformer-FeCwefly-py3.12",
   "language": "python",
   "name": "python3"
  },
  "language_info": {
   "codemirror_mode": {
    "name": "ipython",
    "version": 3
   },
   "file_extension": ".py",
   "mimetype": "text/x-python",
   "name": "python",
   "nbconvert_exporter": "python",
   "pygments_lexer": "ipython3",
   "version": "3.12.3"
  }
 },
 "nbformat": 4,
 "nbformat_minor": 2
}
