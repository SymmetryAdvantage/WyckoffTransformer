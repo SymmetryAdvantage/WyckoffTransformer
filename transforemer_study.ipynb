{
 "cells": [
  {
   "cell_type": "code",
   "execution_count": 1,
   "metadata": {},
   "outputs": [],
   "source": [
    "import torch"
   ]
  },
  {
   "cell_type": "code",
   "execution_count": 3,
   "metadata": {},
   "outputs": [],
   "source": [
    "d_model = 32\n",
    "t = torch.nn.TransformerEncoderLayer(d_model, 1, 32, dropout=0., batch_first=True)"
   ]
  },
  {
   "cell_type": "code",
   "execution_count": 20,
   "metadata": {},
   "outputs": [],
   "source": [
    "short_sequence = torch.ones((1, 2, d_model))\n",
    "long_sequence = torch.concat([short_sequence, short_sequence], dim=1)"
   ]
  },
  {
   "cell_type": "code",
   "execution_count": 21,
   "metadata": {},
   "outputs": [],
   "source": [
    "with torch.no_grad():\n",
    "    short_res = t(short_sequence)\n",
    "    long_res = t(long_sequence)"
   ]
  },
  {
   "cell_type": "code",
   "execution_count": 24,
   "metadata": {},
   "outputs": [
    {
     "data": {
      "text/plain": [
       "tensor([[[-0.1130,  0.8106,  2.2705,  0.6448, -0.6849, -0.7490, -1.1787,\n",
       "           0.1775, -0.5302,  0.5908,  0.2943, -0.2116, -0.9939,  1.6527,\n",
       "           1.0880, -0.8146, -0.7010, -1.1211, -0.8637, -0.2664,  0.5879,\n",
       "           1.8372, -0.9136, -1.8011, -0.7456,  0.2504,  1.3576, -0.7380,\n",
       "           1.3670, -0.3313,  0.8131, -0.9846],\n",
       "         [-0.1130,  0.8106,  2.2705,  0.6448, -0.6849, -0.7490, -1.1787,\n",
       "           0.1775, -0.5302,  0.5908,  0.2943, -0.2116, -0.9939,  1.6527,\n",
       "           1.0880, -0.8146, -0.7010, -1.1211, -0.8637, -0.2664,  0.5879,\n",
       "           1.8372, -0.9136, -1.8011, -0.7456,  0.2504,  1.3576, -0.7380,\n",
       "           1.3670, -0.3313,  0.8131, -0.9846]]])"
      ]
     },
     "execution_count": 24,
     "metadata": {},
     "output_type": "execute_result"
    }
   ],
   "source": [
    "short_res"
   ]
  },
  {
   "cell_type": "code",
   "execution_count": 25,
   "metadata": {},
   "outputs": [
    {
     "data": {
      "text/plain": [
       "tensor([[[-0.1130,  0.8106,  2.2705,  0.6448, -0.6849, -0.7490, -1.1787,\n",
       "           0.1775, -0.5302,  0.5908,  0.2943, -0.2116, -0.9939,  1.6527,\n",
       "           1.0880, -0.8146, -0.7010, -1.1211, -0.8637, -0.2664,  0.5879,\n",
       "           1.8372, -0.9136, -1.8011, -0.7456,  0.2504,  1.3576, -0.7380,\n",
       "           1.3670, -0.3313,  0.8131, -0.9846],\n",
       "         [-0.1130,  0.8106,  2.2705,  0.6448, -0.6849, -0.7490, -1.1787,\n",
       "           0.1775, -0.5302,  0.5908,  0.2943, -0.2116, -0.9939,  1.6527,\n",
       "           1.0880, -0.8146, -0.7010, -1.1211, -0.8637, -0.2664,  0.5879,\n",
       "           1.8372, -0.9136, -1.8011, -0.7456,  0.2504,  1.3576, -0.7380,\n",
       "           1.3670, -0.3313,  0.8131, -0.9846],\n",
       "         [-0.1130,  0.8106,  2.2705,  0.6448, -0.6849, -0.7490, -1.1787,\n",
       "           0.1775, -0.5302,  0.5908,  0.2943, -0.2116, -0.9939,  1.6527,\n",
       "           1.0880, -0.8146, -0.7010, -1.1211, -0.8637, -0.2664,  0.5879,\n",
       "           1.8372, -0.9136, -1.8011, -0.7456,  0.2504,  1.3576, -0.7380,\n",
       "           1.3670, -0.3313,  0.8131, -0.9846],\n",
       "         [-0.1130,  0.8106,  2.2705,  0.6448, -0.6849, -0.7490, -1.1787,\n",
       "           0.1775, -0.5302,  0.5908,  0.2943, -0.2116, -0.9939,  1.6527,\n",
       "           1.0880, -0.8146, -0.7010, -1.1211, -0.8637, -0.2664,  0.5879,\n",
       "           1.8372, -0.9136, -1.8011, -0.7456,  0.2504,  1.3576, -0.7380,\n",
       "           1.3670, -0.3313,  0.8131, -0.9846]]])"
      ]
     },
     "execution_count": 25,
     "metadata": {},
     "output_type": "execute_result"
    }
   ],
   "source": [
    "long_res"
   ]
  }
 ],
 "metadata": {
  "kernelspec": {
   "display_name": "wyckofftransformer-FeCwefly-py3.10",
   "language": "python",
   "name": "python3"
  },
  "language_info": {
   "codemirror_mode": {
    "name": "ipython",
    "version": 3
   },
   "file_extension": ".py",
   "mimetype": "text/x-python",
   "name": "python",
   "nbconvert_exporter": "python",
   "pygments_lexer": "ipython3",
   "version": "3.10.12"
  }
 },
 "nbformat": 4,
 "nbformat_minor": 2
}
