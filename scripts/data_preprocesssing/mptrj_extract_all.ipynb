{
 "cells": [
  {
   "cell_type": "code",
   "execution_count": 1,
   "metadata": {},
   "outputs": [],
   "source": [
    "import matbench_discovery.data\n",
    "import matbench_discovery.energy"
   ]
  },
  {
   "cell_type": "code",
   "execution_count": 2,
   "metadata": {},
   "outputs": [],
   "source": [
    "mp_trj_path = matbench_discovery.data.DataFiles.mp_trj_extxyz.path"
   ]
  },
  {
   "cell_type": "code",
   "execution_count": 3,
   "metadata": {},
   "outputs": [
    {
     "name": "stderr",
     "output_type": "stream",
     "text": [
      "Reading ASE Atoms from zip_filename='/home/kna/.cache/matbench-discovery/mp/2024-09-03-mp-trj.extxyz.zip': 100%|██████████| 145923/145923 [06:07<00:00, 396.87it/s]\n"
     ]
    }
   ],
   "source": [
    "structures = matbench_discovery.data.ase_atoms_from_zip(mp_trj_path, filename_to_info=True)"
   ]
  },
  {
   "cell_type": "code",
   "execution_count": 4,
   "metadata": {},
   "outputs": [],
   "source": [
    "from pymatgen.core import Composition\n",
    "from pymatgen.io.ase import AseAtomsAdaptor\n",
    "from pymatgen.io.cif import CifWriter\n",
    "\n",
    "def atoms_to_record(ase_atoms):\n",
    "    pmg_structure = AseAtomsAdaptor.get_structure(ase_atoms)\n",
    "    res = {\n",
    "        \"formation_energy_per_atom\": matbench_discovery.energy.get_e_form_per_atom(\n",
    "            {'composition': pmg_structure.composition, 'energy': ase_atoms.info['mp2020_corrected_energy']}),\n",
    "        \"cif\": str(CifWriter(pmg_structure))}\n",
    "    res.update(ase_atoms.info)\n",
    "    return res\n",
    "\n",
    "from multiprocessing import Pool\n",
    "with Pool(20) as p:\n",
    "    records = p.map(atoms_to_record, structures)"
   ]
  },
  {
   "cell_type": "code",
   "execution_count": 5,
   "metadata": {},
   "outputs": [],
   "source": [
    "import pandas as pd\n",
    "dataset_pd = pd.DataFrame.from_records(records)"
   ]
  },
  {
   "cell_type": "code",
   "execution_count": 6,
   "metadata": {},
   "outputs": [
    {
     "data": {
      "text/html": [
       "<div>\n",
       "<style scoped>\n",
       "    .dataframe tbody tr th:only-of-type {\n",
       "        vertical-align: middle;\n",
       "    }\n",
       "\n",
       "    .dataframe tbody tr th {\n",
       "        vertical-align: top;\n",
       "    }\n",
       "\n",
       "    .dataframe thead th {\n",
       "        text-align: right;\n",
       "    }\n",
       "</style>\n",
       "<table border=\"1\" class=\"dataframe\">\n",
       "  <thead>\n",
       "    <tr style=\"text-align: right;\">\n",
       "      <th></th>\n",
       "      <th>formation_energy_per_atom</th>\n",
       "      <th>cif</th>\n",
       "      <th>material_id</th>\n",
       "      <th>formula</th>\n",
       "      <th>task_id</th>\n",
       "      <th>calc_id</th>\n",
       "      <th>ionic_step</th>\n",
       "      <th>frame_id</th>\n",
       "      <th>mp2020_corrected_energy</th>\n",
       "      <th>filename</th>\n",
       "    </tr>\n",
       "  </thead>\n",
       "  <tbody>\n",
       "    <tr>\n",
       "      <th>0</th>\n",
       "      <td>-2.904883</td>\n",
       "      <td># generated using pymatgen\\ndata_Mg14TiZnO16\\n...</td>\n",
       "      <td>mp-1034899</td>\n",
       "      <td>Mg14 Ti1 Zn1 O16</td>\n",
       "      <td>mp-1034899</td>\n",
       "      <td>0</td>\n",
       "      <td>16</td>\n",
       "      <td>mp-1034899-0-16</td>\n",
       "      <td>-203.662848</td>\n",
       "      <td>mp-1034899.extxyz</td>\n",
       "    </tr>\n",
       "    <tr>\n",
       "      <th>1</th>\n",
       "      <td>-2.904936</td>\n",
       "      <td># generated using pymatgen\\ndata_Mg14TiZnO16\\n...</td>\n",
       "      <td>mp-1034899</td>\n",
       "      <td>Mg14 Ti1 Zn1 O16</td>\n",
       "      <td>mp-1034899</td>\n",
       "      <td>0</td>\n",
       "      <td>14</td>\n",
       "      <td>mp-1034899-0-14</td>\n",
       "      <td>-203.664540</td>\n",
       "      <td>mp-1034899.extxyz</td>\n",
       "    </tr>\n",
       "    <tr>\n",
       "      <th>2</th>\n",
       "      <td>-2.904891</td>\n",
       "      <td># generated using pymatgen\\ndata_Mg14TiZnO16\\n...</td>\n",
       "      <td>mp-1034899</td>\n",
       "      <td>Mg14 Ti1 Zn1 O16</td>\n",
       "      <td>mp-1034899</td>\n",
       "      <td>0</td>\n",
       "      <td>12</td>\n",
       "      <td>mp-1034899-0-12</td>\n",
       "      <td>-203.663116</td>\n",
       "      <td>mp-1034899.extxyz</td>\n",
       "    </tr>\n",
       "    <tr>\n",
       "      <th>3</th>\n",
       "      <td>-2.904586</td>\n",
       "      <td># generated using pymatgen\\ndata_Mg14TiZnO16\\n...</td>\n",
       "      <td>mp-1034899</td>\n",
       "      <td>Mg14 Ti1 Zn1 O16</td>\n",
       "      <td>mp-1034899</td>\n",
       "      <td>0</td>\n",
       "      <td>10</td>\n",
       "      <td>mp-1034899-0-10</td>\n",
       "      <td>-203.653348</td>\n",
       "      <td>mp-1034899.extxyz</td>\n",
       "    </tr>\n",
       "    <tr>\n",
       "      <th>4</th>\n",
       "      <td>-2.904689</td>\n",
       "      <td># generated using pymatgen\\ndata_Mg14TiZnO16\\n...</td>\n",
       "      <td>mp-1034899</td>\n",
       "      <td>Mg14 Ti1 Zn1 O16</td>\n",
       "      <td>mp-1034899</td>\n",
       "      <td>0</td>\n",
       "      <td>5</td>\n",
       "      <td>mp-1034899-0-5</td>\n",
       "      <td>-203.656655</td>\n",
       "      <td>mp-1034899.extxyz</td>\n",
       "    </tr>\n",
       "  </tbody>\n",
       "</table>\n",
       "</div>"
      ],
      "text/plain": [
       "   formation_energy_per_atom  \\\n",
       "0                  -2.904883   \n",
       "1                  -2.904936   \n",
       "2                  -2.904891   \n",
       "3                  -2.904586   \n",
       "4                  -2.904689   \n",
       "\n",
       "                                                 cif material_id  \\\n",
       "0  # generated using pymatgen\\ndata_Mg14TiZnO16\\n...  mp-1034899   \n",
       "1  # generated using pymatgen\\ndata_Mg14TiZnO16\\n...  mp-1034899   \n",
       "2  # generated using pymatgen\\ndata_Mg14TiZnO16\\n...  mp-1034899   \n",
       "3  # generated using pymatgen\\ndata_Mg14TiZnO16\\n...  mp-1034899   \n",
       "4  # generated using pymatgen\\ndata_Mg14TiZnO16\\n...  mp-1034899   \n",
       "\n",
       "            formula     task_id  calc_id  ionic_step         frame_id  \\\n",
       "0  Mg14 Ti1 Zn1 O16  mp-1034899        0          16  mp-1034899-0-16   \n",
       "1  Mg14 Ti1 Zn1 O16  mp-1034899        0          14  mp-1034899-0-14   \n",
       "2  Mg14 Ti1 Zn1 O16  mp-1034899        0          12  mp-1034899-0-12   \n",
       "3  Mg14 Ti1 Zn1 O16  mp-1034899        0          10  mp-1034899-0-10   \n",
       "4  Mg14 Ti1 Zn1 O16  mp-1034899        0           5   mp-1034899-0-5   \n",
       "\n",
       "   mp2020_corrected_energy           filename  \n",
       "0              -203.662848  mp-1034899.extxyz  \n",
       "1              -203.664540  mp-1034899.extxyz  \n",
       "2              -203.663116  mp-1034899.extxyz  \n",
       "3              -203.653348  mp-1034899.extxyz  \n",
       "4              -203.656655  mp-1034899.extxyz  "
      ]
     },
     "execution_count": 6,
     "metadata": {},
     "output_type": "execute_result"
    }
   ],
   "source": [
    "dataset_pd.head()"
   ]
  },
  {
   "cell_type": "code",
   "execution_count": 7,
   "metadata": {},
   "outputs": [
    {
     "name": "stdout",
     "output_type": "stream",
     "text": [
      "1422355 158040\n"
     ]
    }
   ],
   "source": [
    "from pathlib import Path\n",
    "from sklearn.model_selection import train_test_split\n",
    "train, val = train_test_split(dataset_pd, test_size=0.1, random_state=42)\n",
    "print(len(train), len(val))\n",
    "data_path = Path(\"..\", \"..\", \"data\", \"matbench_discovery_mp_trj_full\")\n",
    "train.to_csv(data_path / \"train.csv.gz\")\n",
    "val.to_csv(data_path / \"val.csv.gz\")"
   ]
  }
 ],
 "metadata": {
  "kernelspec": {
   "display_name": "wyckofftransformer-FeCwefly-py3.12",
   "language": "python",
   "name": "python3"
  },
  "language_info": {
   "codemirror_mode": {
    "name": "ipython",
    "version": 3
   },
   "file_extension": ".py",
   "mimetype": "text/x-python",
   "name": "python",
   "nbconvert_exporter": "python",
   "pygments_lexer": "ipython3",
   "version": "3.12.3"
  }
 },
 "nbformat": 4,
 "nbformat_minor": 2
}
