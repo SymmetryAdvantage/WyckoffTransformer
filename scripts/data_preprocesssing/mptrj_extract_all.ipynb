{
 "cells": [
  {
   "cell_type": "code",
   "execution_count": 1,
   "metadata": {},
   "outputs": [],
   "source": [
    "import matbench_discovery.data\n",
    "import matbench_discovery.energy"
   ]
  },
  {
   "cell_type": "code",
   "execution_count": 2,
   "metadata": {},
   "outputs": [],
   "source": [
    "mp_trj_path = matbench_discovery.data.DataFiles.mp_trj_extxyz.path"
   ]
  },
  {
   "cell_type": "code",
   "execution_count": 3,
   "metadata": {},
   "outputs": [
    {
     "name": "stderr",
     "output_type": "stream",
     "text": [
      "Reading ASE Atoms from zip_filename='/home/kna/.cache/matbench-discovery/mp/2024-09-03-mp-trj.extxyz.zip': 100%|██████████| 145923/145923 [08:38<00:00, 281.47it/s]\n"
     ]
    }
   ],
   "source": [
    "structures = matbench_discovery.data.ase_atoms_from_zip(mp_trj_path, filename_to_info=True)"
   ]
  },
  {
   "cell_type": "code",
   "execution_count": 4,
   "metadata": {},
   "outputs": [],
   "source": [
    "from pymatgen.core import Composition\n",
    "from pymatgen.io.ase import AseAtomsAdaptor\n",
    "from pymatgen.io.cif import CifWriter\n",
    "\n",
    "def atoms_to_record(ase_atoms):\n",
    "    pmg_structure = AseAtomsAdaptor.get_structure(ase_atoms)\n",
    "    res = {\n",
    "        \"formation_energy_per_atom\": matbench_discovery.energy.get_e_form_per_atom(\n",
    "            {'composition': pmg_structure.composition, 'energy': ase_atoms.info['mp2020_corrected_energy']}),\n",
    "        \"cif\": str(CifWriter(pmg_structure))}\n",
    "    res.update(ase_atoms.info)\n",
    "    return res\n",
    "\n",
    "from multiprocessing import Pool\n",
    "with Pool(20) as p:\n",
    "    records = p.map(atoms_to_record, structures)"
   ]
  },
  {
   "cell_type": "code",
   "execution_count": 5,
   "metadata": {},
   "outputs": [],
   "source": [
    "import pandas as pd\n",
    "dataset_pd = pd.DataFrame.from_records(records)"
   ]
  },
  {
   "cell_type": "code",
   "execution_count": 6,
   "metadata": {},
   "outputs": [
    {
     "name": "stdout",
     "output_type": "stream",
     "text": [
      "1422355 158040\n"
     ]
    }
   ],
   "source": [
    "from sklearn.model_selection import train_test_split\n",
    "train, val = train_test_split(dataset_pd, test_size=0.1, random_state=42)\n",
    "print(len(train), len(val))\n",
    "train.to_csv('data/matbench_discovery_mp_trj_full/train.csv.gz')\n",
    "val.to_csv('data/matbench_discovery_mp_trj_full/val.csv.gz')"
   ]
  }
 ],
 "metadata": {
  "kernelspec": {
   "display_name": "wyckofftransformer-FeCwefly-py3.12",
   "language": "python",
   "name": "python3"
  },
  "language_info": {
   "codemirror_mode": {
    "name": "ipython",
    "version": 3
   },
   "file_extension": ".py",
   "mimetype": "text/x-python",
   "name": "python",
   "nbconvert_exporter": "python",
   "pygments_lexer": "ipython3",
   "version": "3.12.3"
  }
 },
 "nbformat": 4,
 "nbformat_minor": 2
}
