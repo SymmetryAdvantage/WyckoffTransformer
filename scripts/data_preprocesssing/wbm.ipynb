{
 "cells": [
  {
   "cell_type": "code",
   "execution_count": 1,
   "metadata": {},
   "outputs": [],
   "source": [
    "from pathlib import Path\n",
    "import pandas as pd\n",
    "import ase.io\n",
    "import ase.io.cif\n",
    "import matbench_discovery.data"
   ]
  },
  {
   "cell_type": "code",
   "execution_count": 2,
   "metadata": {},
   "outputs": [],
   "source": [
    "wbm_summary = pd.read_csv(matbench_discovery.data.DataFiles.wbm_summary.path, index_col='material_id')"
   ]
  },
  {
   "cell_type": "code",
   "execution_count": 3,
   "metadata": {},
   "outputs": [
    {
     "name": "stderr",
     "output_type": "stream",
     "text": [
      "Reading ASE Atoms from zip_filename='/home/kna/.cache/matbench-discovery/wbm/2024-08-04-wbm-relaxed-atoms.extxyz.zip': 100%|██████████| 256963/256963 [01:03<00:00, 4015.45it/s]\n"
     ]
    }
   ],
   "source": [
    "wbm_atoms = matbench_discovery.data.ase_atoms_from_zip(\n",
    "    matbench_discovery.data.DataFiles.wbm_relaxed_atoms.path, filename_to_info=True)"
   ]
  },
  {
   "cell_type": "code",
   "execution_count": 4,
   "metadata": {},
   "outputs": [],
   "source": [
    "structures = []\n",
    "from io import BytesIO\n",
    "for atoms in wbm_atoms:\n",
    "    with BytesIO() as output:\n",
    "        ase.io.cif.write_cif(output, atoms)\n",
    "        structures.append({\n",
    "            \"material_id\": atoms.info['material_id'],\n",
    "            \"cif\": output.getvalue().decode()})"
   ]
  },
  {
   "cell_type": "code",
   "execution_count": 5,
   "metadata": {},
   "outputs": [],
   "source": [
    "structures = pd.DataFrame.from_records(structures).set_index('material_id').reindex(wbm_summary.index)\n",
    "structures['band_gap'] = wbm_summary['bandgap_pbe']\n",
    "structures['formation_energy_per_atom'] = wbm_summary['e_form_per_atom_mp2020_corrected']"
   ]
  },
  {
   "cell_type": "code",
   "execution_count": 6,
   "metadata": {},
   "outputs": [],
   "source": [
    "structures.to_csv(Path(\"..\", \"..\", \"data\", \"wbm\", \"test.csv.gz\"), index_label=structures.index.name)"
   ]
  }
 ],
 "metadata": {
  "kernelspec": {
   "display_name": "wyckofftransformer-FeCwefly-py3.12",
   "language": "python",
   "name": "python3"
  },
  "language_info": {
   "codemirror_mode": {
    "name": "ipython",
    "version": 3
   },
   "file_extension": ".py",
   "mimetype": "text/x-python",
   "name": "python",
   "nbconvert_exporter": "python",
   "pygments_lexer": "ipython3",
   "version": "3.12.3"
  }
 },
 "nbformat": 4,
 "nbformat_minor": 2
}
