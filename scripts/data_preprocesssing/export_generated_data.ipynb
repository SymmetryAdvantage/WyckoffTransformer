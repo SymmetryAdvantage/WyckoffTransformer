{
 "cells": [
  {
   "cell_type": "code",
   "execution_count": 1,
   "id": "e8e0f520",
   "metadata": {},
   "outputs": [],
   "source": [
    "export_config = {\n",
    "    \"mp_20\": (\n",
    "        (\"WyckoffTransformer\", ),\n",
    "        (\"WyckoffTransformer\", \"DiffCSP++10k\"),\n",
    "        (\"WyckoffTransformer\", \"DiffCSP++10k\", \"CHGNet_free\", \"DFT\"),\n",
    "        (\"WyckoffTransformer\", \"DiffCSP++10k\", \"CHGNet_free\", \"DFT-GGA-relax-1\"),\n",
    "        (\"WyckoffTransformer\", \"CrySPR\", \"CHGNet_fix\"),\n",
    "        (\"WyckoffTransformer\", \"CrySPR\", \"CHGNet_fix\", \"DFT\"),\n",
    "        (\"WyckoffTransformer\", \"DiffCSP++\"),\n",
    "        (\"WyckoffTransformer\", \"DiffCSP++\", \"DFT\"),\n",
    "    ),\n",
    "    \"mpts_52\": (\n",
    "        (\"WyckoffTransformer\", ),\n",
    "        (\"WyckoffTransformer\", \"CrySPR\", \"CHGNet_fix\"))\n",
    "}"
   ]
  },
  {
   "cell_type": "code",
   "execution_count": 2,
   "id": "7b425fc8",
   "metadata": {},
   "outputs": [
    {
     "name": "stderr",
     "output_type": "stream",
     "text": [
      "/home/kna/.cache/pypoetry/virtualenvs/wyckofftransformer-test-RPZEUasj-py3.12/lib/python3.12/site-packages/matminer/utils/data.py:326: UserWarning: MagpieData(impute_nan=False):\n",
      "In a future release, impute_nan will be set to True by default.\n",
      "                    This means that features that are missing or are NaNs for elements\n",
      "                    from the data source will be replaced by the average of that value\n",
      "                    over the available elements.\n",
      "                    This avoids NaNs after featurization that are often replaced by\n",
      "                    dataset-dependent averages.\n",
      "  warnings.warn(f\"{self.__class__.__name__}(impute_nan=False):\\n\" + IMPUTE_NAN_WARNING)\n"
     ]
    }
   ],
   "source": [
    "import sys\n",
    "sys.path.append(\"../..\")\n",
    "from evaluation.generated_dataset import GeneratedDataset"
   ]
  },
  {
   "cell_type": "code",
   "execution_count": 3,
   "id": "8771bd8c",
   "metadata": {},
   "outputs": [],
   "source": [
    "from pathlib import Path\n",
    "export_path = Path(\"WyFomer generated datasets\")\n",
    "from monty.json import MontyEncoder\n",
    "encoder = MontyEncoder()\n",
    "def to_json(obj):\n",
    "    if isinstance(obj, str):\n",
    "        return obj\n",
    "    if isinstance(obj, frozenset):\n",
    "        obj = tuple(obj)\n",
    "    return encoder.encode(obj)\n",
    "export_path.mkdir(parents=True, exist_ok=True)"
   ]
  },
  {
   "cell_type": "code",
   "execution_count": 4,
   "id": "b18ce9ed",
   "metadata": {},
   "outputs": [
    {
     "data": {
      "application/vnd.jupyter.widget-view+json": {
       "model_id": "32ae6bfed24f49b4ba46c7f533f6692c",
       "version_major": 2,
       "version_minor": 0
      },
      "text/plain": [
       "  0%|          | 0/2 [00:00<?, ?it/s]"
      ]
     },
     "metadata": {},
     "output_type": "display_data"
    },
    {
     "data": {
      "application/vnd.jupyter.widget-view+json": {
       "model_id": "48e938cb7b004f3fb9ebab4065149913",
       "version_major": 2,
       "version_minor": 0
      },
      "text/plain": [
       "  0%|          | 0/8 [00:00<?, ?it/s]"
      ]
     },
     "metadata": {},
     "output_type": "display_data"
    },
    {
     "name": "stdout",
     "output_type": "stream",
     "text": [
      "Exported WyFomer generated datasets/mp_20/WyckoffTransformer/data.csv.gz\n",
      "Exported WyFomer generated datasets/mp_20/WyckoffTransformer/DiffCSP++10k/data.csv.gz\n",
      "Exported WyFomer generated datasets/mp_20/WyckoffTransformer/DiffCSP++10k/CHGNet_free/DFT/data.csv.gz\n",
      "Exported WyFomer generated datasets/mp_20/WyckoffTransformer/DiffCSP++10k/CHGNet_free/DFT-GGA-relax-1/data.csv.gz\n",
      "Exported WyFomer generated datasets/mp_20/WyckoffTransformer/CrySPR/CHGNet_fix/data.csv.gz\n",
      "Exported WyFomer generated datasets/mp_20/WyckoffTransformer/CrySPR/CHGNet_fix/DFT/data.csv.gz\n",
      "Exported WyFomer generated datasets/mp_20/WyckoffTransformer/DiffCSP++/data.csv.gz\n",
      "Exported WyFomer generated datasets/mp_20/WyckoffTransformer/DiffCSP++/DFT/data.csv.gz\n"
     ]
    },
    {
     "data": {
      "application/vnd.jupyter.widget-view+json": {
       "model_id": "3b29252724f84e78b3b505f47b118907",
       "version_major": 2,
       "version_minor": 0
      },
      "text/plain": [
       "  0%|          | 0/2 [00:00<?, ?it/s]"
      ]
     },
     "metadata": {},
     "output_type": "display_data"
    },
    {
     "name": "stdout",
     "output_type": "stream",
     "text": [
      "Exported WyFomer generated datasets/mpts_52/WyckoffTransformer/data.csv.gz\n",
      "Exported WyFomer generated datasets/mpts_52/WyckoffTransformer/CrySPR/CHGNet_fix/data.csv.gz\n"
     ]
    }
   ],
   "source": [
    "from tqdm.auto import tqdm\n",
    "from scripts.cache_generated_datasets import compute_fields_and_cache\n",
    "for dataset, transformation_tuples in tqdm(export_config.items()):\n",
    "    for these_transformations in tqdm(transformation_tuples):\n",
    "        dataset_path = export_path.joinpath(dataset).joinpath(*these_transformations) / \"data.csv.gz\"\n",
    "        dataset_path.parent.mkdir(parents=True, exist_ok=True)\n",
    "        try:\n",
    "            dataset_processed = GeneratedDataset.from_cache(\n",
    "                transformations=these_transformations,\n",
    "                dataset=dataset)\n",
    "        except FileNotFoundError:\n",
    "            dataset_raw = GeneratedDataset.from_transformations(\n",
    "                transformations=these_transformations,\n",
    "                dataset=dataset)\n",
    "            dataset_processed = compute_fields_and_cache(dataset_raw)\n",
    "        if \"CHGNet\" in these_transformations[-1]:\n",
    "            dataset_processed.data.rename(columns={\n",
    "                \"energy_per_atom\": \"chgnet_energy_per_atom\",\n",
    "                \"corrected_chgnet_ehull\": \"chgnet_e_above_hull_corrected\",\n",
    "            }, inplace=True)\n",
    "        elif \"DFT\" in these_transformations[-1]:\n",
    "            dataset_processed.data.rename(columns={\n",
    "                \"e_above_hull_corrected\": \"dft_e_above_hull_corrected\",\n",
    "                \"e_uncorrected\": \"dft_e_uncorrected\",\n",
    "                \"e_corrected\": \"dft_e_corrected\",\n",
    "            }, inplace=True)\n",
    "        export_filter = dataset_processed.data.filter(\n",
    "            [\"cdvae_crystal\", \"fingerprint\", \"composition\", \"naive_validity\",\n",
    "             \"spacegroup_number\", \"density\"], axis=1)\n",
    "        dataset_processed.data.drop(export_filter, axis=1).map(to_json).to_csv(\n",
    "            dataset_path, index_label=\"material_id\")\n",
    "        print(f\"Exported {dataset_path}\")"
   ]
  }
 ],
 "metadata": {
  "kernelspec": {
   "display_name": "wyckofftransformer-test-RPZEUasj-py3.12",
   "language": "python",
   "name": "python3"
  },
  "language_info": {
   "codemirror_mode": {
    "name": "ipython",
    "version": 3
   },
   "file_extension": ".py",
   "mimetype": "text/x-python",
   "name": "python",
   "nbconvert_exporter": "python",
   "pygments_lexer": "ipython3",
   "version": "3.12.3"
  }
 },
 "nbformat": 4,
 "nbformat_minor": 5
}
