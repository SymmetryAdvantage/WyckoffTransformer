{
 "cells": [
  {
   "cell_type": "code",
   "execution_count": 1,
   "metadata": {},
   "outputs": [],
   "source": [
    "import pickle\n",
    "import gzip\n",
    "import json\n",
    "from itertools import chain\n",
    "from pathlib import Path\n",
    "from pandas import Series"
   ]
  },
  {
   "cell_type": "code",
   "execution_count": 2,
   "metadata": {},
   "outputs": [],
   "source": [
    "with gzip.open(Path(\"cache\", \"mp_20\", \"data.pkl.gz\"), \"rb\") as f:\n",
    "    mp_20 = pickle.load(f)"
   ]
  },
  {
   "cell_type": "code",
   "execution_count": 3,
   "metadata": {},
   "outputs": [],
   "source": [
    "def to_json_naive(row: Series):\n",
    "    sites = []\n",
    "    for element, letter in zip(row[\"elements\"], row[\"wyckoff_letters\"]):\n",
    "        sites.append((element, letter))\n",
    "    # Sort by site, then by element\n",
    "    sites.sort(key=lambda x: (x[1], x[0]))\n",
    "    return {\n",
    "        \"spacegroup_number\": int(row[\"spacegroup_number\"]),\n",
    "        \"wyckoff_sites\": [(str(element), letter) for element, letter in sites],\n",
    "    }"
   ]
  },
  {
   "cell_type": "code",
   "execution_count": 4,
   "metadata": {},
   "outputs": [],
   "source": [
    "def to_json_enumerations(row: Series):\n",
    "    for enumeration in row[\"sites_enumeration_augmented\"]:\n",
    "        sites = []\n",
    "        for element, site_symmetry, enumeration in zip(row[\"elements\"], row[\"site_symmetries\"], enumeration):\n",
    "            sites.append((element, site_symmetry, enumeration))\n",
    "        # Sort by site, then by element\n",
    "        sites.sort(key=lambda x: (x[1], x[2], x[0]))\n",
    "        yield {\n",
    "            \"spacegroup_number\": int(row[\"spacegroup_number\"]),\n",
    "            \"wyckoff_sites\": [(str(element), site_symmetry, enumeration) for element, site_symmetry, enumeration in sites],\n",
    "        }"
   ]
  },
  {
   "cell_type": "code",
   "execution_count": 5,
   "metadata": {},
   "outputs": [
    {
     "name": "stderr",
     "output_type": "stream",
     "text": [
      "/home/kna/.cache/pypoetry/virtualenvs/wyckofftransformer-FeCwefly-py3.12/lib/python3.12/site-packages/pymatgen/core/periodic_table.py:289: UserWarning: No Pauling electronegativity for He. Setting to NaN. This has no physical meaning, and is mainly done to avoid errors caused by the code expecting a float.\n",
      "  warnings.warn(\n"
     ]
    }
   ],
   "source": [
    "naive_dicts = mp_20['train'].apply(to_json_naive, axis=1).to_list() + mp_20['val'].apply(to_json_naive, axis=1).to_list()\n",
    "with gzip.open(Path(\"generated\", \"Dropbox\", \"mp_20\", \"wyckoff_naive.json.gz\"), 'wt') as f:\n",
    "    json.dump(naive_dicts, f)"
   ]
  },
  {
   "cell_type": "code",
   "execution_count": 6,
   "metadata": {},
   "outputs": [],
   "source": [
    "augmented_dicts = list(chain(*(list(to_json_enumerations(row)) for _, row in chain(mp_20['train'].iterrows(), mp_20['val'].iterrows()))))"
   ]
  },
  {
   "cell_type": "code",
   "execution_count": 7,
   "metadata": {},
   "outputs": [],
   "source": [
    "with gzip.open(Path(\"generated\", \"Dropbox\", \"mp_20\", \"wyckoff_augmented.json.gz\"), 'wt') as f:\n",
    "    json.dump(augmented_dicts, f)"
   ]
  }
 ],
 "metadata": {
  "kernelspec": {
   "display_name": "wyckofftransformer-FeCwefly-py3.12",
   "language": "python",
   "name": "python3"
  },
  "language_info": {
   "codemirror_mode": {
    "name": "ipython",
    "version": 3
   },
   "file_extension": ".py",
   "mimetype": "text/x-python",
   "name": "python",
   "nbconvert_exporter": "python",
   "pygments_lexer": "ipython3",
   "version": "3.12.3"
  }
 },
 "nbformat": 4,
 "nbformat_minor": 2
}
