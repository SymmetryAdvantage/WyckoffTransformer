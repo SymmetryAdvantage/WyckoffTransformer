{
 "cells": [
  {
   "cell_type": "code",
   "execution_count": 30,
   "metadata": {},
   "outputs": [],
   "source": [
    "from pathlib import Path\n",
    "import pandas as pd\n",
    "\n",
    "wt_data = pd.read_csv(Path(\"generated\", \"WyckoffTransformer_mp_20_biternary_relaxed.zip\"), index_col=\"folder_ind\")\n",
    "wc_data = pd.read_csv(Path(\"generated\", \"WyCryst_mp_20_biternary.ehull.csv.gz\"), index_col=\"folder_ind\")"
   ]
  },
  {
   "cell_type": "code",
   "execution_count": 31,
   "metadata": {},
   "outputs": [],
   "source": [
    "import gzip\n",
    "import pickle\n",
    "from wyckoff_transformer.evaluation import StatisticalEvaluator\n",
    "with gzip.open(Path(\"cache\", \"mp_20_biternary\", \"data.pkl.gz\"), \"rb\") as f:\n",
    "    datasets_pd = pickle.load(f)\n",
    "evaluator = StatisticalEvaluator(datasets_pd[\"test\"], pd.concat([datasets_pd[\"train\"], datasets_pd[\"val\"]], axis=0))"
   ]
  },
  {
   "cell_type": "code",
   "execution_count": 14,
   "metadata": {},
   "outputs": [],
   "source": [
    "from itertools import repeat\n",
    "from ast import literal_eval\n",
    "GENERATED_PATH = Path(\"generated\")\n",
    "wycryst_genes_raw = pd.read_csv(GENERATED_PATH / \"WyCryst_mp_20_biternary.csv\", index_col=0,\n",
    "                            converters=dict(zip(\n",
    "                                (\"reconstructed_ratio1\", \"reconstructed_wyckoff\", \"str_wyckoff\", \"ter_sys\"),\n",
    "                                repeat(literal_eval, 4)\n",
    "                            )))"
   ]
  },
  {
   "cell_type": "code",
   "execution_count": 83,
   "metadata": {},
   "outputs": [],
   "source": [
    "import json\n",
    "from typing import Dict\n",
    "with gzip.open(GENERATED_PATH / \"WyckoffTransformer_mp_20_biternary.json.gz\", \"rt\") as f:\n",
    "    generated_wyckoff_transformer = pd.read_json(f)\n",
    "def check_novelty_record(record: Dict) -> bool:\n",
    "    return evaluator.generated_to_fingerprint(record) not in evaluator.train_fingerprints\n",
    "generated_wyckoff_transformer[\"is_novel\"] = generated_wyckoff_transformer.apply(check_novelty_record, axis=1)\n"
   ]
  },
  {
   "cell_type": "code",
   "execution_count": 89,
   "metadata": {},
   "outputs": [
    {
     "data": {
      "text/plain": [
       "group                        194\n",
       "sites       [[2d, 2a, 2c], [4f]]\n",
       "species                  [K, Te]\n",
       "numIons                   [6, 4]\n",
       "is_novel                    True\n",
       "Name: 224, dtype: object"
      ]
     },
     "execution_count": 89,
     "metadata": {},
     "output_type": "execute_result"
    }
   ],
   "source": [
    "generated_wyckoff_transformer.loc[224]"
   ]
  },
  {
   "cell_type": "code",
   "execution_count": 92,
   "metadata": {},
   "outputs": [
    {
     "data": {
      "text/html": [
       "<div>\n",
       "<style scoped>\n",
       "    .dataframe tbody tr th:only-of-type {\n",
       "        vertical-align: middle;\n",
       "    }\n",
       "\n",
       "    .dataframe tbody tr th {\n",
       "        vertical-align: top;\n",
       "    }\n",
       "\n",
       "    .dataframe thead th {\n",
       "        text-align: right;\n",
       "    }\n",
       "</style>\n",
       "<table border=\"1\" class=\"dataframe\">\n",
       "  <thead>\n",
       "    <tr style=\"text-align: right;\">\n",
       "      <th></th>\n",
       "      <th>Unnamed: 0</th>\n",
       "      <th>formula</th>\n",
       "      <th>file_dir</th>\n",
       "      <th>error_str</th>\n",
       "      <th>chgnet_ehull</th>\n",
       "      <th>corrected_chgnet_ehull</th>\n",
       "    </tr>\n",
       "    <tr>\n",
       "      <th>folder_ind</th>\n",
       "      <th></th>\n",
       "      <th></th>\n",
       "      <th></th>\n",
       "      <th></th>\n",
       "      <th></th>\n",
       "      <th></th>\n",
       "    </tr>\n",
       "  </thead>\n",
       "  <tbody>\n",
       "    <tr>\n",
       "      <th>224</th>\n",
       "      <td>0</td>\n",
       "      <td>K6 Te4</td>\n",
       "      <td>temp_files/nikita_Tformer_gene2/wyckoff_genes_...</td>\n",
       "      <td>no_error</td>\n",
       "      <td>0.228221</td>\n",
       "      <td>0.228221</td>\n",
       "    </tr>\n",
       "    <tr>\n",
       "      <th>460</th>\n",
       "      <td>1</td>\n",
       "      <td>Fe2 W2</td>\n",
       "      <td>temp_files/nikita_Tformer_gene2/wyckoff_genes_...</td>\n",
       "      <td>no_error</td>\n",
       "      <td>0.240073</td>\n",
       "      <td>0.240073</td>\n",
       "    </tr>\n",
       "    <tr>\n",
       "      <th>546</th>\n",
       "      <td>2</td>\n",
       "      <td>Tb3 Nd3 S6</td>\n",
       "      <td>temp_files/nikita_Tformer_gene2/wyckoff_genes_...</td>\n",
       "      <td>No valid decomposition found for PDEntry : Tb3...</td>\n",
       "      <td>0.000000</td>\n",
       "      <td>-0.003152</td>\n",
       "    </tr>\n",
       "    <tr>\n",
       "      <th>945</th>\n",
       "      <td>3</td>\n",
       "      <td>Sr4 Br8 O32</td>\n",
       "      <td>temp_files/nikita_Tformer_gene2/wyckoff_genes_...</td>\n",
       "      <td>no_error</td>\n",
       "      <td>0.439706</td>\n",
       "      <td>0.439706</td>\n",
       "    </tr>\n",
       "    <tr>\n",
       "      <th>382</th>\n",
       "      <td>4</td>\n",
       "      <td>Ac4 Sn4 Ir8</td>\n",
       "      <td>temp_files/nikita_Tformer_gene2/wyckoff_genes_...</td>\n",
       "      <td>no_error</td>\n",
       "      <td>0.062633</td>\n",
       "      <td>0.062633</td>\n",
       "    </tr>\n",
       "  </tbody>\n",
       "</table>\n",
       "</div>"
      ],
      "text/plain": [
       "            Unnamed: 0      formula  \\\n",
       "folder_ind                            \n",
       "224                  0       K6 Te4   \n",
       "460                  1       Fe2 W2   \n",
       "546                  2   Tb3 Nd3 S6   \n",
       "945                  3  Sr4 Br8 O32   \n",
       "382                  4  Ac4 Sn4 Ir8   \n",
       "\n",
       "                                                     file_dir  \\\n",
       "folder_ind                                                      \n",
       "224         temp_files/nikita_Tformer_gene2/wyckoff_genes_...   \n",
       "460         temp_files/nikita_Tformer_gene2/wyckoff_genes_...   \n",
       "546         temp_files/nikita_Tformer_gene2/wyckoff_genes_...   \n",
       "945         temp_files/nikita_Tformer_gene2/wyckoff_genes_...   \n",
       "382         temp_files/nikita_Tformer_gene2/wyckoff_genes_...   \n",
       "\n",
       "                                                    error_str  chgnet_ehull  \\\n",
       "folder_ind                                                                    \n",
       "224                                                  no_error      0.228221   \n",
       "460                                                  no_error      0.240073   \n",
       "546         No valid decomposition found for PDEntry : Tb3...      0.000000   \n",
       "945                                                  no_error      0.439706   \n",
       "382                                                  no_error      0.062633   \n",
       "\n",
       "            corrected_chgnet_ehull  \n",
       "folder_ind                          \n",
       "224                       0.228221  \n",
       "460                       0.240073  \n",
       "546                      -0.003152  \n",
       "945                       0.439706  \n",
       "382                       0.062633  "
      ]
     },
     "execution_count": 92,
     "metadata": {},
     "output_type": "execute_result"
    }
   ],
   "source": [
    "wt_data.head()"
   ]
  },
  {
   "cell_type": "code",
   "execution_count": 93,
   "metadata": {},
   "outputs": [],
   "source": [
    "wt_data[\"is_novel\"] = generated_wyckoff_transformer[\"is_novel\"]\n",
    "wt_data = wt_data[wt_data[\"is_novel\"]]"
   ]
  },
  {
   "cell_type": "code",
   "execution_count": 64,
   "metadata": {},
   "outputs": [
    {
     "name": "stderr",
     "output_type": "stream",
     "text": [
      "WARNING:root:Reported count 2.000000 does not match sum of site counts 6 for record 19190 element Sm. Elements: dict_keys(['Sm'])\n",
      "WARNING:root:Reported count 21.000000 does not match sum of site counts 3 for record 74830 element Sm. Elements: dict_keys(['Sm', 'Fe'])\n",
      "WARNING:root:Reported count 4.000000 does not match sum of site counts 24 for record 78748 element I. Elements: dict_keys(['I'])\n",
      "WARNING:root:Reported count 9.000000 does not match sum of site counts 6 for record 79397 element Ta. Elements: dict_keys(['Ta', 'Co'])\n",
      "WARNING:root:Reported count 2.000000 does not match sum of site counts 6 for record 80412 element Sm. Elements: dict_keys(['Sm'])\n",
      "WARNING:root:Reported count 3.000000 does not match sum of site counts 9 for record 81403 element Se. Elements: dict_keys(['Zn', 'Se'])\n",
      "WARNING:root:Reported count 21.000000 does not match sum of site counts 6 for record 93641 element Sm. Elements: dict_keys(['Sm', 'Co'])\n",
      "WARNING:root:Reported count 8.000000 does not match sum of site counts 24 for record 99142 element I. Elements: dict_keys(['I'])\n"
     ]
    }
   ],
   "source": [
    "from wyckoff_transformer.evaluation import wycryst_to_pyxtal_dict\n",
    "def check_novelty_wycryst(record):\n",
    "    pyxtal_dict = wycryst_to_pyxtal_dict(record)\n",
    "    if pyxtal_dict is None:\n",
    "        return False\n",
    "    return evaluator.generated_to_fingerprint(pyxtal_dict) not in evaluator.train_fingerprints\n",
    "wycryst_genes_raw['is_novel'] = wycryst_genes_raw.apply(check_novelty_wycryst, axis=1)\n",
    "wycryst_genes_raw.reset_index(inplace=True, drop=True)\n",
    "wc_data[\"is_novel\"] = wycryst_genes_raw[\"is_novel\"]\n",
    "wc_data[\"reconstructed_formula\"] = wycryst_genes_raw[\"reconstructed_formula\"]\n",
    "assert (wc_data[\"reconstructed_formula\"] == wc_data[\"formula\"].map(lambda x: x.replace(\" \", \"\"))).all()\n",
    "wc_data = wc_data.loc[wc_data[\"is_novel\"]]"
   ]
  },
  {
   "cell_type": "code",
   "execution_count": 63,
   "metadata": {},
   "outputs": [
    {
     "data": {
      "image/png": "[encoded data removed]",
      "text/plain": [
       "<Figure size 1200x400 with 1 Axes>"
      ]
     },
     "metadata": {},
     "output_type": "display_data"
    }
   ],
   "source": [
    "import matplotlib.pyplot as plt\n",
    "import numpy as np\n",
    "fig, ax = plt.subplots(figsize=(12, 4))\n",
    "bins=np.linspace(-0.3, 1.8, 35)\n",
    "wt_data.corrected_chgnet_ehull.hist(bins=bins, ax=ax,\n",
    "    label=f\"WyckoffTransformer, stable: {100*(wt_data.corrected_chgnet_ehull < 0.1).sum()/len(wt_data):.0f}%\",\n",
    "    color=\"tab:blue\", density=True, alpha=0.5)\n",
    "wc_data.corrected_chgnet_ehull.hist(bins=bins, ax=ax,\n",
    "    label=f\"WyCryst, stable: {100*(wc_data.corrected_chgnet_ehull < 0.1).sum()/len(wc_data):.0f}%\",\n",
    "    color=\"tab:orange\", alpha=0.5, density=True)\n",
    "ax.set_xlabel(\"$E_\\\\text{hull}$, eV/atom by CHGNet\")\n",
    "ax.set_ylabel(\"Structures count\")\n",
    "ax.axvline(0.1, color=\"red\", label=\"Stability threshold\")\n",
    "ax.set_xlim((-0.3, 1.8))\n",
    "ax.legend();"
   ]
  },
  {
   "cell_type": "code",
   "execution_count": null,
   "metadata": {},
   "outputs": [],
   "source": []
  }
 ],
 "metadata": {
  "kernelspec": {
   "display_name": "wyckofftransformer-FeCwefly-py3.12",
   "language": "python",
   "name": "python3"
  },
  "language_info": {
   "codemirror_mode": {
    "name": "ipython",
    "version": 3
   },
   "file_extension": ".py",
   "mimetype": "text/x-python",
   "name": "python",
   "nbconvert_exporter": "python",
   "pygments_lexer": "ipython3",
   "version": "3.12.3"
  }
 },
 "nbformat": 4,
 "nbformat_minor": 2
}
