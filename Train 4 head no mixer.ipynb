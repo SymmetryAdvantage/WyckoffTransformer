{
 "cells": [
  {
   "cell_type": "code",
   "execution_count": 1,
   "metadata": {
    "execution": {
     "iopub.execute_input": "2024-05-23T19:54:19.954245Z",
     "iopub.status.busy": "2024-05-23T19:54:19.954147Z",
     "iopub.status.idle": "2024-05-23T19:54:19.960388Z",
     "shell.execute_reply": "2024-05-23T19:54:19.959834Z"
    }
   },
   "outputs": [
    {
     "name": "stdout",
     "output_type": "stream",
     "text": [
      "env: WANDB_NOTEBOOK_NAME=Train 4 head no mixer.ipynb\n",
      "env: CUDA_DEVICE_ORDER=PCI_BUS_ID\n",
      "env: CUDA_VISIBLE_DEVICES=1\n",
      "env: PYTORCH_CUDA_ALLOC_CONF=backend:cudaMallocAsync\n"
     ]
    }
   ],
   "source": [
    "%env WANDB_NOTEBOOK_NAME Train 4 head no mixer.ipynb\n",
    "%env CUDA_DEVICE_ORDER PCI_BUS_ID\n",
    "%env CUDA_VISIBLE_DEVICES 1\n",
    "%env PYTORCH_CUDA_ALLOC_CONF backend:cudaMallocAsync"
   ]
  },
  {
   "cell_type": "code",
   "execution_count": 2,
   "metadata": {
    "execution": {
     "iopub.execute_input": "2024-05-23T19:54:19.979085Z",
     "iopub.status.busy": "2024-05-23T19:54:19.978832Z",
     "iopub.status.idle": "2024-05-23T19:54:20.781966Z",
     "shell.execute_reply": "2024-05-23T19:54:20.781192Z"
    }
   },
   "outputs": [],
   "source": [
    "import torch\n",
    "# UserWarning: TensorFloat32 tensor cores for float32 matrix multiplication available but not enabled. Consider setting `torch.set_float32_matmul_precision('high')` for better performance.\n",
    "torch.set_float32_matmul_precision('high')"
   ]
  },
  {
   "cell_type": "code",
   "execution_count": 3,
   "metadata": {
    "execution": {
     "iopub.execute_input": "2024-05-23T19:54:20.784494Z",
     "iopub.status.busy": "2024-05-23T19:54:20.784309Z",
     "iopub.status.idle": "2024-05-23T19:54:24.868964Z",
     "shell.execute_reply": "2024-05-23T19:54:24.867795Z"
    }
   },
   "outputs": [
    {
     "name": "stdout",
     "output_type": "stream",
     "text": [
      "20 7 8 9\n"
     ]
    }
   ],
   "source": [
    "from mp_20_utils import load_all_data\n",
    "device = 'cuda'\n",
    "dataset = 'mp_20_biternary'\n",
    "datasets_pd, torch_datasets, site_to_ids, element_to_ids, spacegroup_to_ids, max_len, max_enumeration, enumeration_stop, enumeration_pad = load_all_data(\n",
    "    dataset=dataset)\n",
    "print(max_len, max_enumeration, enumeration_stop, enumeration_pad)"
   ]
  },
  {
   "cell_type": "code",
   "execution_count": 4,
   "metadata": {
    "execution": {
     "iopub.execute_input": "2024-05-23T19:54:24.871787Z",
     "iopub.status.busy": "2024-05-23T19:54:24.871465Z",
     "iopub.status.idle": "2024-05-23T19:54:25.256822Z",
     "shell.execute_reply": "2024-05-23T19:54:25.256157Z"
    }
   },
   "outputs": [],
   "source": [
    "from cascade_transformer.model import CascadeTransformer\n",
    "from wyckoff_transformer import WyckoffTrainer\n",
    "from tokenization import PAD_TOKEN, MASK_TOKEN\n",
    "n_space_groups = len(spacegroup_to_ids)\n",
    "# Not all 230 space groups are present in the data\n",
    "# Embedding doesn't support uint8. Sad!\n",
    "dtype = torch.int64\n",
    "cascade_order = (\"elements\", \"symmetry_sites\", \"symmetry_sites_enumeration\")\n",
    "# (N_i, d_i, pad_i)\n",
    "assert max_enumeration + 1 == enumeration_stop\n",
    "assert max_enumeration + 2 == enumeration_pad\n",
    "enumeration_mask = max_enumeration + 3\n",
    "assert enumeration_mask < torch.iinfo(dtype).max\n",
    "\n",
    "cascade = (\n",
    "    (len(element_to_ids), 64, torch.tensor(element_to_ids[PAD_TOKEN], dtype=dtype, device=device)),\n",
    "    (len(site_to_ids), 64 - 1, torch.tensor(site_to_ids[PAD_TOKEN], dtype=dtype, device=device)),\n",
    "    (enumeration_mask + 1, None, torch.tensor(enumeration_pad, dtype=dtype, device=device))\n",
    ")\n",
    "model = CascadeTransformer(\n",
    "    n_start=n_space_groups,\n",
    "    cascade=cascade,\n",
    "    n_head=4,\n",
    "    d_hid=256,\n",
    "    n_layers=4,\n",
    "    dropout=0.1,\n",
    "    use_mixer=False).to(device)\n",
    "# Our dynamic discard of predicting PAD calls for frequent recompilation\n",
    "# model = torch.compile(model)"
   ]
  },
  {
   "cell_type": "code",
   "execution_count": 5,
   "metadata": {
    "execution": {
     "iopub.execute_input": "2024-05-23T19:54:25.259661Z",
     "iopub.status.busy": "2024-05-23T19:54:25.259081Z",
     "iopub.status.idle": "2024-05-24T03:30:09.508915Z",
     "shell.execute_reply": "2024-05-24T03:30:09.507947Z"
    }
   },
   "outputs": [
    {
     "name": "stderr",
     "output_type": "stream",
     "text": [
      "\u001b[34m\u001b[1mwandb\u001b[0m: Currently logged in as: \u001b[33mkazeev\u001b[0m. Use \u001b[1m`wandb login --relogin`\u001b[0m to force relogin\n"
     ]
    },
    {
     "name": "stderr",
     "output_type": "stream",
     "text": [
      "\u001b[34m\u001b[1mwandb\u001b[0m: Tracking run with wandb version 0.17.0\n"
     ]
    },
    {
     "name": "stderr",
     "output_type": "stream",
     "text": [
      "\u001b[34m\u001b[1mwandb\u001b[0m: Run data is saved locally in \u001b[35m\u001b[1m/home/kna/WyckoffTransformer/wandb/run-20240524_035426-36veqvg7\u001b[0m\n",
      "\u001b[34m\u001b[1mwandb\u001b[0m: Run \u001b[1m`wandb offline`\u001b[0m to turn off syncing.\n"
     ]
    },
    {
     "name": "stderr",
     "output_type": "stream",
     "text": [
      "\u001b[34m\u001b[1mwandb\u001b[0m: Syncing run \u001b[33mdriven-puddle-235\u001b[0m\n"
     ]
    },
    {
     "name": "stderr",
     "output_type": "stream",
     "text": [
      "\u001b[34m\u001b[1mwandb\u001b[0m: ⭐️ View project at \u001b[34m\u001b[4mhttps://wandb.ai/kazeev/WyckoffTransformer\u001b[0m\n"
     ]
    },
    {
     "name": "stderr",
     "output_type": "stream",
     "text": [
      "\u001b[34m\u001b[1mwandb\u001b[0m: 🚀 View run at \u001b[34m\u001b[4mhttps://wandb.ai/kazeev/WyckoffTransformer/runs/36veqvg7\u001b[0m\n"
     ]
    },
    {
     "name": "stdout",
     "output_type": "stream",
     "text": [
      "Epoch 20 val_loss_epoch 95.19514465332031 saved to checkpoints/2024-05-24_03-54-25/best_model_params.pt\n"
     ]
    },
    {
     "name": "stderr",
     "output_type": "stream",
     "text": [
      "/home/kna/WyckoffTransformer/pytorch/torch/optim/lr_scheduler.py:1300: UserWarning: The epoch parameter in `scheduler.step()` was not necessary and is being deprecated where possible. Please use `scheduler.step()` to step the scheduler. During the deprecation, if epoch is different from None, the closed form is used instead of the new chainable form, where available. Please open an issue if you are unable to replicate your use case: https://github.com/pytorch/pytorch/issues/new/choose.\n",
      "  warnings.warn(EPOCH_DEPRECATION_WARNING, UserWarning)\n"
     ]
    },
    {
     "name": "stdout",
     "output_type": "stream",
     "text": [
      "Epoch 40 val_loss_epoch 73.67475128173828 saved to checkpoints/2024-05-24_03-54-25/best_model_params.pt\n"
     ]
    },
    {
     "name": "stdout",
     "output_type": "stream",
     "text": [
      "Epoch 60 val_loss_epoch 68.48667907714844 saved to checkpoints/2024-05-24_03-54-25/best_model_params.pt\n"
     ]
    },
    {
     "name": "stdout",
     "output_type": "stream",
     "text": [
      "Epoch 100 val_loss_epoch 60.862186431884766 saved to checkpoints/2024-05-24_03-54-25/best_model_params.pt\n"
     ]
    },
    {
     "name": "stdout",
     "output_type": "stream",
     "text": [
      "Epoch 120 val_loss_epoch 44.77233123779297 saved to checkpoints/2024-05-24_03-54-25/best_model_params.pt\n"
     ]
    },
    {
     "name": "stdout",
     "output_type": "stream",
     "text": [
      "Epoch 220 val_loss_epoch 44.64775848388672 saved to checkpoints/2024-05-24_03-54-25/best_model_params.pt\n"
     ]
    },
    {
     "name": "stdout",
     "output_type": "stream",
     "text": [
      "Epoch 800 val_loss_epoch 42.80183410644531 saved to checkpoints/2024-05-24_03-54-25/best_model_params.pt\n"
     ]
    },
    {
     "name": "stdout",
     "output_type": "stream",
     "text": [
      "Epoch 1560 val_loss_epoch 41.403900146484375 saved to checkpoints/2024-05-24_03-54-25/best_model_params.pt\n"
     ]
    },
    {
     "name": "stdout",
     "output_type": "stream",
     "text": [
      "Epoch 1860 val_loss_epoch 41.049346923828125 saved to checkpoints/2024-05-24_03-54-25/best_model_params.pt\n"
     ]
    },
    {
     "name": "stdout",
     "output_type": "stream",
     "text": [
      "Epoch 1920 val_loss_epoch 40.61241149902344 saved to checkpoints/2024-05-24_03-54-25/best_model_params.pt\n"
     ]
    },
    {
     "name": "stdout",
     "output_type": "stream",
     "text": [
      "Epoch 1960 val_loss_epoch 38.451419830322266 saved to checkpoints/2024-05-24_03-54-25/best_model_params.pt\n"
     ]
    },
    {
     "name": "stdout",
     "output_type": "stream",
     "text": [
      "Epoch 2040 val_loss_epoch 38.252166748046875 saved to checkpoints/2024-05-24_03-54-25/best_model_params.pt\n"
     ]
    },
    {
     "name": "stdout",
     "output_type": "stream",
     "text": [
      "Epoch 2080 val_loss_epoch 38.21951675415039 saved to checkpoints/2024-05-24_03-54-25/best_model_params.pt\n"
     ]
    },
    {
     "name": "stdout",
     "output_type": "stream",
     "text": [
      "Epoch 2120 val_loss_epoch 36.474056243896484 saved to checkpoints/2024-05-24_03-54-25/best_model_params.pt\n"
     ]
    },
    {
     "name": "stdout",
     "output_type": "stream",
     "text": [
      "Epoch 2140 val_loss_epoch 36.2980842590332 saved to checkpoints/2024-05-24_03-54-25/best_model_params.pt\n"
     ]
    },
    {
     "name": "stdout",
     "output_type": "stream",
     "text": [
      "Epoch 2740 val_loss_epoch 36.21034240722656 saved to checkpoints/2024-05-24_03-54-25/best_model_params.pt\n"
     ]
    },
    {
     "name": "stdout",
     "output_type": "stream",
     "text": [
      "Epoch 2880 val_loss_epoch 35.94239807128906 saved to checkpoints/2024-05-24_03-54-25/best_model_params.pt\n"
     ]
    },
    {
     "name": "stdout",
     "output_type": "stream",
     "text": [
      "Epoch 3260 val_loss_epoch 35.34108352661133 saved to checkpoints/2024-05-24_03-54-25/best_model_params.pt\n"
     ]
    },
    {
     "name": "stdout",
     "output_type": "stream",
     "text": [
      "Epoch 4280 val_loss_epoch 35.108272552490234 saved to checkpoints/2024-05-24_03-54-25/best_model_params.pt\n"
     ]
    },
    {
     "name": "stdout",
     "output_type": "stream",
     "text": [
      "Epoch 4320 val_loss_epoch 34.682716369628906 saved to checkpoints/2024-05-24_03-54-25/best_model_params.pt\n"
     ]
    },
    {
     "name": "stdout",
     "output_type": "stream",
     "text": [
      "Epoch 4420 val_loss_epoch 34.5009765625 saved to checkpoints/2024-05-24_03-54-25/best_model_params.pt\n"
     ]
    },
    {
     "name": "stdout",
     "output_type": "stream",
     "text": [
      "Epoch 4720 val_loss_epoch 34.40864944458008 saved to checkpoints/2024-05-24_03-54-25/best_model_params.pt\n"
     ]
    },
    {
     "name": "stdout",
     "output_type": "stream",
     "text": [
      "Epoch 4740 val_loss_epoch 34.06719207763672 saved to checkpoints/2024-05-24_03-54-25/best_model_params.pt\n"
     ]
    },
    {
     "name": "stdout",
     "output_type": "stream",
     "text": [
      "Epoch 4920 val_loss_epoch 33.97037124633789 saved to checkpoints/2024-05-24_03-54-25/best_model_params.pt\n"
     ]
    },
    {
     "name": "stdout",
     "output_type": "stream",
     "text": [
      "Epoch 4960 val_loss_epoch 33.30371856689453 saved to checkpoints/2024-05-24_03-54-25/best_model_params.pt\n"
     ]
    },
    {
     "name": "stdout",
     "output_type": "stream",
     "text": [
      "Epoch 5160 val_loss_epoch 33.20244216918945 saved to checkpoints/2024-05-24_03-54-25/best_model_params.pt\n"
     ]
    },
    {
     "name": "stdout",
     "output_type": "stream",
     "text": [
      "Epoch 5180 val_loss_epoch 33.16501235961914 saved to checkpoints/2024-05-24_03-54-25/best_model_params.pt\n"
     ]
    },
    {
     "name": "stdout",
     "output_type": "stream",
     "text": [
      "Epoch 5360 val_loss_epoch 32.50861740112305 saved to checkpoints/2024-05-24_03-54-25/best_model_params.pt\n"
     ]
    },
    {
     "name": "stdout",
     "output_type": "stream",
     "text": [
      "Epoch 5480 val_loss_epoch 32.380043029785156 saved to checkpoints/2024-05-24_03-54-25/best_model_params.pt\n"
     ]
    },
    {
     "name": "stdout",
     "output_type": "stream",
     "text": [
      "Epoch 6200 val_loss_epoch 32.00884246826172 saved to checkpoints/2024-05-24_03-54-25/best_model_params.pt\n"
     ]
    },
    {
     "name": "stdout",
     "output_type": "stream",
     "text": [
      "Epoch 6300 val_loss_epoch 31.98813247680664 saved to checkpoints/2024-05-24_03-54-25/best_model_params.pt\n"
     ]
    },
    {
     "name": "stdout",
     "output_type": "stream",
     "text": [
      "Epoch 6340 val_loss_epoch 31.952714920043945 saved to checkpoints/2024-05-24_03-54-25/best_model_params.pt\n"
     ]
    },
    {
     "name": "stdout",
     "output_type": "stream",
     "text": [
      "Epoch 6400 val_loss_epoch 31.897064208984375 saved to checkpoints/2024-05-24_03-54-25/best_model_params.pt\n"
     ]
    },
    {
     "name": "stdout",
     "output_type": "stream",
     "text": [
      "Epoch 6560 val_loss_epoch 31.76906394958496 saved to checkpoints/2024-05-24_03-54-25/best_model_params.pt\n"
     ]
    },
    {
     "name": "stdout",
     "output_type": "stream",
     "text": [
      "Epoch 6840 val_loss_epoch 31.460487365722656 saved to checkpoints/2024-05-24_03-54-25/best_model_params.pt\n"
     ]
    },
    {
     "name": "stdout",
     "output_type": "stream",
     "text": [
      "Epoch 6920 val_loss_epoch 31.1186580657959 saved to checkpoints/2024-05-24_03-54-25/best_model_params.pt\n"
     ]
    },
    {
     "name": "stdout",
     "output_type": "stream",
     "text": [
      "Epoch 7380 val_loss_epoch 30.764007568359375 saved to checkpoints/2024-05-24_03-54-25/best_model_params.pt\n"
     ]
    },
    {
     "name": "stdout",
     "output_type": "stream",
     "text": [
      "Epoch 7420 val_loss_epoch 30.709442138671875 saved to checkpoints/2024-05-24_03-54-25/best_model_params.pt\n"
     ]
    },
    {
     "name": "stdout",
     "output_type": "stream",
     "text": [
      "Epoch 7580 val_loss_epoch 30.681238174438477 saved to checkpoints/2024-05-24_03-54-25/best_model_params.pt\n"
     ]
    },
    {
     "name": "stdout",
     "output_type": "stream",
     "text": [
      "Epoch 7620 val_loss_epoch 30.387859344482422 saved to checkpoints/2024-05-24_03-54-25/best_model_params.pt\n"
     ]
    },
    {
     "name": "stdout",
     "output_type": "stream",
     "text": [
      "Epoch 7880 val_loss_epoch 30.241104125976562 saved to checkpoints/2024-05-24_03-54-25/best_model_params.pt\n"
     ]
    },
    {
     "name": "stdout",
     "output_type": "stream",
     "text": [
      "Epoch 7900 val_loss_epoch 30.1159610748291 saved to checkpoints/2024-05-24_03-54-25/best_model_params.pt\n"
     ]
    },
    {
     "name": "stdout",
     "output_type": "stream",
     "text": [
      "Epoch 8480 val_loss_epoch 30.018428802490234 saved to checkpoints/2024-05-24_03-54-25/best_model_params.pt\n"
     ]
    },
    {
     "name": "stdout",
     "output_type": "stream",
     "text": [
      "Epoch 8500 val_loss_epoch 29.88019371032715 saved to checkpoints/2024-05-24_03-54-25/best_model_params.pt\n"
     ]
    },
    {
     "name": "stdout",
     "output_type": "stream",
     "text": [
      "Epoch 8960 val_loss_epoch 29.635480880737305 saved to checkpoints/2024-05-24_03-54-25/best_model_params.pt\n"
     ]
    },
    {
     "name": "stdout",
     "output_type": "stream",
     "text": [
      "Epoch 8980 val_loss_epoch 29.606185913085938 saved to checkpoints/2024-05-24_03-54-25/best_model_params.pt\n"
     ]
    },
    {
     "name": "stdout",
     "output_type": "stream",
     "text": [
      "Epoch 9160 val_loss_epoch 29.415386199951172 saved to checkpoints/2024-05-24_03-54-25/best_model_params.pt\n"
     ]
    },
    {
     "name": "stdout",
     "output_type": "stream",
     "text": [
      "Epoch 9340 val_loss_epoch 29.362401962280273 saved to checkpoints/2024-05-24_03-54-25/best_model_params.pt\n"
     ]
    },
    {
     "name": "stdout",
     "output_type": "stream",
     "text": [
      "Epoch 9420 val_loss_epoch 29.336124420166016 saved to checkpoints/2024-05-24_03-54-25/best_model_params.pt\n"
     ]
    },
    {
     "name": "stdout",
     "output_type": "stream",
     "text": [
      "Epoch 9460 val_loss_epoch 29.12364959716797 saved to checkpoints/2024-05-24_03-54-25/best_model_params.pt\n"
     ]
    },
    {
     "name": "stdout",
     "output_type": "stream",
     "text": [
      "Epoch 9580 val_loss_epoch 29.032913208007812 saved to checkpoints/2024-05-24_03-54-25/best_model_params.pt\n"
     ]
    },
    {
     "name": "stdout",
     "output_type": "stream",
     "text": [
      "Epoch 9640 val_loss_epoch 29.031457901000977 saved to checkpoints/2024-05-24_03-54-25/best_model_params.pt\n"
     ]
    },
    {
     "name": "stdout",
     "output_type": "stream",
     "text": [
      "Epoch 9660 val_loss_epoch 28.85006332397461 saved to checkpoints/2024-05-24_03-54-25/best_model_params.pt\n"
     ]
    },
    {
     "name": "stdout",
     "output_type": "stream",
     "text": [
      "Epoch 9800 val_loss_epoch 28.845136642456055 saved to checkpoints/2024-05-24_03-54-25/best_model_params.pt\n"
     ]
    },
    {
     "name": "stdout",
     "output_type": "stream",
     "text": [
      "Epoch 10180 val_loss_epoch 28.827430725097656 saved to checkpoints/2024-05-24_03-54-25/best_model_params.pt\n"
     ]
    },
    {
     "name": "stdout",
     "output_type": "stream",
     "text": [
      "Epoch 10200 val_loss_epoch 28.805097579956055 saved to checkpoints/2024-05-24_03-54-25/best_model_params.pt\n"
     ]
    },
    {
     "name": "stdout",
     "output_type": "stream",
     "text": [
      "Epoch 10340 val_loss_epoch 28.78661346435547 saved to checkpoints/2024-05-24_03-54-25/best_model_params.pt\n"
     ]
    },
    {
     "name": "stdout",
     "output_type": "stream",
     "text": [
      "Epoch 10380 val_loss_epoch 28.751646041870117 saved to checkpoints/2024-05-24_03-54-25/best_model_params.pt\n"
     ]
    },
    {
     "name": "stdout",
     "output_type": "stream",
     "text": [
      "Epoch 10400 val_loss_epoch 28.496877670288086 saved to checkpoints/2024-05-24_03-54-25/best_model_params.pt\n"
     ]
    },
    {
     "name": "stdout",
     "output_type": "stream",
     "text": [
      "Epoch 10420 val_loss_epoch 28.4731502532959 saved to checkpoints/2024-05-24_03-54-25/best_model_params.pt\n"
     ]
    },
    {
     "name": "stdout",
     "output_type": "stream",
     "text": [
      "Epoch 10480 val_loss_epoch 28.34485626220703 saved to checkpoints/2024-05-24_03-54-25/best_model_params.pt\n"
     ]
    },
    {
     "name": "stdout",
     "output_type": "stream",
     "text": [
      "Epoch 10640 val_loss_epoch 28.27030372619629 saved to checkpoints/2024-05-24_03-54-25/best_model_params.pt\n"
     ]
    },
    {
     "name": "stdout",
     "output_type": "stream",
     "text": [
      "Epoch 10680 val_loss_epoch 28.1849308013916 saved to checkpoints/2024-05-24_03-54-25/best_model_params.pt\n"
     ]
    },
    {
     "name": "stdout",
     "output_type": "stream",
     "text": [
      "Epoch 10960 val_loss_epoch 28.181886672973633 saved to checkpoints/2024-05-24_03-54-25/best_model_params.pt\n"
     ]
    },
    {
     "name": "stdout",
     "output_type": "stream",
     "text": [
      "Epoch 11140 val_loss_epoch 28.10944175720215 saved to checkpoints/2024-05-24_03-54-25/best_model_params.pt\n"
     ]
    },
    {
     "name": "stdout",
     "output_type": "stream",
     "text": [
      "Epoch 11220 val_loss_epoch 28.05232810974121 saved to checkpoints/2024-05-24_03-54-25/best_model_params.pt\n"
     ]
    },
    {
     "name": "stdout",
     "output_type": "stream",
     "text": [
      "Epoch 11440 val_loss_epoch 27.92915916442871 saved to checkpoints/2024-05-24_03-54-25/best_model_params.pt\n"
     ]
    },
    {
     "name": "stdout",
     "output_type": "stream",
     "text": [
      "Epoch 11580 val_loss_epoch 27.86458969116211 saved to checkpoints/2024-05-24_03-54-25/best_model_params.pt\n"
     ]
    },
    {
     "name": "stdout",
     "output_type": "stream",
     "text": [
      "Epoch 11820 val_loss_epoch 27.7611141204834 saved to checkpoints/2024-05-24_03-54-25/best_model_params.pt\n"
     ]
    },
    {
     "name": "stdout",
     "output_type": "stream",
     "text": [
      "Epoch 11880 val_loss_epoch 27.748674392700195 saved to checkpoints/2024-05-24_03-54-25/best_model_params.pt\n"
     ]
    },
    {
     "name": "stdout",
     "output_type": "stream",
     "text": [
      "Epoch 11920 val_loss_epoch 27.73767852783203 saved to checkpoints/2024-05-24_03-54-25/best_model_params.pt\n"
     ]
    },
    {
     "name": "stdout",
     "output_type": "stream",
     "text": [
      "Epoch 12180 val_loss_epoch 27.707977294921875 saved to checkpoints/2024-05-24_03-54-25/best_model_params.pt\n"
     ]
    },
    {
     "name": "stdout",
     "output_type": "stream",
     "text": [
      "Epoch 12340 val_loss_epoch 27.661474227905273 saved to checkpoints/2024-05-24_03-54-25/best_model_params.pt\n"
     ]
    },
    {
     "name": "stdout",
     "output_type": "stream",
     "text": [
      "Epoch 12400 val_loss_epoch 27.505786895751953 saved to checkpoints/2024-05-24_03-54-25/best_model_params.pt\n"
     ]
    },
    {
     "name": "stdout",
     "output_type": "stream",
     "text": [
      "Epoch 12440 val_loss_epoch 27.461341857910156 saved to checkpoints/2024-05-24_03-54-25/best_model_params.pt\n"
     ]
    },
    {
     "name": "stdout",
     "output_type": "stream",
     "text": [
      "Epoch 12460 val_loss_epoch 27.305419921875 saved to checkpoints/2024-05-24_03-54-25/best_model_params.pt\n"
     ]
    },
    {
     "name": "stdout",
     "output_type": "stream",
     "text": [
      "Epoch 12920 val_loss_epoch 27.293476104736328 saved to checkpoints/2024-05-24_03-54-25/best_model_params.pt\n"
     ]
    },
    {
     "name": "stdout",
     "output_type": "stream",
     "text": [
      "Epoch 12940 val_loss_epoch 27.279268264770508 saved to checkpoints/2024-05-24_03-54-25/best_model_params.pt\n"
     ]
    },
    {
     "name": "stdout",
     "output_type": "stream",
     "text": [
      "Epoch 13120 val_loss_epoch 27.184368133544922 saved to checkpoints/2024-05-24_03-54-25/best_model_params.pt\n"
     ]
    },
    {
     "name": "stdout",
     "output_type": "stream",
     "text": [
      "Epoch 13580 val_loss_epoch 27.17751693725586 saved to checkpoints/2024-05-24_03-54-25/best_model_params.pt\n"
     ]
    },
    {
     "name": "stdout",
     "output_type": "stream",
     "text": [
      "Epoch 13600 val_loss_epoch 27.146448135375977 saved to checkpoints/2024-05-24_03-54-25/best_model_params.pt\n"
     ]
    },
    {
     "name": "stdout",
     "output_type": "stream",
     "text": [
      "Epoch 13640 val_loss_epoch 27.099864959716797 saved to checkpoints/2024-05-24_03-54-25/best_model_params.pt\n"
     ]
    },
    {
     "name": "stdout",
     "output_type": "stream",
     "text": [
      "Epoch 13660 val_loss_epoch 27.063013076782227 saved to checkpoints/2024-05-24_03-54-25/best_model_params.pt\n"
     ]
    },
    {
     "name": "stdout",
     "output_type": "stream",
     "text": [
      "Epoch 13680 val_loss_epoch 27.018117904663086 saved to checkpoints/2024-05-24_03-54-25/best_model_params.pt\n"
     ]
    },
    {
     "name": "stdout",
     "output_type": "stream",
     "text": [
      "Epoch 13800 val_loss_epoch 26.897119522094727 saved to checkpoints/2024-05-24_03-54-25/best_model_params.pt\n"
     ]
    },
    {
     "name": "stdout",
     "output_type": "stream",
     "text": [
      "Epoch 14020 val_loss_epoch 26.85456657409668 saved to checkpoints/2024-05-24_03-54-25/best_model_params.pt\n"
     ]
    },
    {
     "name": "stdout",
     "output_type": "stream",
     "text": [
      "Epoch 14040 val_loss_epoch 26.792476654052734 saved to checkpoints/2024-05-24_03-54-25/best_model_params.pt\n"
     ]
    },
    {
     "name": "stdout",
     "output_type": "stream",
     "text": [
      "Epoch 14080 val_loss_epoch 26.75242805480957 saved to checkpoints/2024-05-24_03-54-25/best_model_params.pt\n"
     ]
    },
    {
     "name": "stdout",
     "output_type": "stream",
     "text": [
      "Epoch 14240 val_loss_epoch 26.69940185546875 saved to checkpoints/2024-05-24_03-54-25/best_model_params.pt\n"
     ]
    },
    {
     "name": "stdout",
     "output_type": "stream",
     "text": [
      "Epoch 14460 val_loss_epoch 26.696304321289062 saved to checkpoints/2024-05-24_03-54-25/best_model_params.pt\n"
     ]
    },
    {
     "name": "stdout",
     "output_type": "stream",
     "text": [
      "Epoch 14780 val_loss_epoch 26.66539764404297 saved to checkpoints/2024-05-24_03-54-25/best_model_params.pt\n"
     ]
    },
    {
     "name": "stdout",
     "output_type": "stream",
     "text": [
      "Epoch 14800 val_loss_epoch 26.605741500854492 saved to checkpoints/2024-05-24_03-54-25/best_model_params.pt\n"
     ]
    },
    {
     "name": "stdout",
     "output_type": "stream",
     "text": [
      "Epoch 15080 val_loss_epoch 26.549612045288086 saved to checkpoints/2024-05-24_03-54-25/best_model_params.pt\n"
     ]
    },
    {
     "name": "stdout",
     "output_type": "stream",
     "text": [
      "Epoch 15300 val_loss_epoch 26.533004760742188 saved to checkpoints/2024-05-24_03-54-25/best_model_params.pt\n"
     ]
    },
    {
     "name": "stdout",
     "output_type": "stream",
     "text": [
      "Epoch 15400 val_loss_epoch 26.487594604492188 saved to checkpoints/2024-05-24_03-54-25/best_model_params.pt\n"
     ]
    },
    {
     "name": "stdout",
     "output_type": "stream",
     "text": [
      "Epoch 15420 val_loss_epoch 26.471790313720703 saved to checkpoints/2024-05-24_03-54-25/best_model_params.pt\n"
     ]
    },
    {
     "name": "stdout",
     "output_type": "stream",
     "text": [
      "Epoch 15440 val_loss_epoch 26.45941162109375 saved to checkpoints/2024-05-24_03-54-25/best_model_params.pt\n"
     ]
    },
    {
     "name": "stdout",
     "output_type": "stream",
     "text": [
      "Epoch 15460 val_loss_epoch 26.457183837890625 saved to checkpoints/2024-05-24_03-54-25/best_model_params.pt\n"
     ]
    },
    {
     "name": "stdout",
     "output_type": "stream",
     "text": [
      "Epoch 15700 val_loss_epoch 26.419715881347656 saved to checkpoints/2024-05-24_03-54-25/best_model_params.pt\n"
     ]
    },
    {
     "name": "stdout",
     "output_type": "stream",
     "text": [
      "Epoch 15780 val_loss_epoch 26.393857955932617 saved to checkpoints/2024-05-24_03-54-25/best_model_params.pt\n"
     ]
    },
    {
     "name": "stdout",
     "output_type": "stream",
     "text": [
      "Epoch 15940 val_loss_epoch 26.391496658325195 saved to checkpoints/2024-05-24_03-54-25/best_model_params.pt\n"
     ]
    },
    {
     "name": "stdout",
     "output_type": "stream",
     "text": [
      "Epoch 15980 val_loss_epoch 26.37922477722168 saved to checkpoints/2024-05-24_03-54-25/best_model_params.pt\n"
     ]
    },
    {
     "name": "stdout",
     "output_type": "stream",
     "text": [
      "Epoch 16200 val_loss_epoch 26.31509017944336 saved to checkpoints/2024-05-24_03-54-25/best_model_params.pt\n"
     ]
    },
    {
     "name": "stdout",
     "output_type": "stream",
     "text": [
      "Epoch 16220 val_loss_epoch 26.270627975463867 saved to checkpoints/2024-05-24_03-54-25/best_model_params.pt\n"
     ]
    },
    {
     "name": "stdout",
     "output_type": "stream",
     "text": [
      "Epoch 16300 val_loss_epoch 26.248699188232422 saved to checkpoints/2024-05-24_03-54-25/best_model_params.pt\n"
     ]
    },
    {
     "name": "stdout",
     "output_type": "stream",
     "text": [
      "Epoch 16400 val_loss_epoch 26.21573829650879 saved to checkpoints/2024-05-24_03-54-25/best_model_params.pt\n"
     ]
    },
    {
     "name": "stdout",
     "output_type": "stream",
     "text": [
      "Epoch 16440 val_loss_epoch 26.10137176513672 saved to checkpoints/2024-05-24_03-54-25/best_model_params.pt\n"
     ]
    },
    {
     "name": "stdout",
     "output_type": "stream",
     "text": [
      "Epoch 16520 val_loss_epoch 26.08479881286621 saved to checkpoints/2024-05-24_03-54-25/best_model_params.pt\n"
     ]
    },
    {
     "name": "stdout",
     "output_type": "stream",
     "text": [
      "Epoch 16900 val_loss_epoch 26.078325271606445 saved to checkpoints/2024-05-24_03-54-25/best_model_params.pt\n"
     ]
    },
    {
     "name": "stdout",
     "output_type": "stream",
     "text": [
      "Epoch 17240 val_loss_epoch 26.02716827392578 saved to checkpoints/2024-05-24_03-54-25/best_model_params.pt\n"
     ]
    },
    {
     "name": "stdout",
     "output_type": "stream",
     "text": [
      "Epoch 17940 val_loss_epoch 26.00557518005371 saved to checkpoints/2024-05-24_03-54-25/best_model_params.pt\n"
     ]
    },
    {
     "name": "stdout",
     "output_type": "stream",
     "text": [
      "Epoch 17980 val_loss_epoch 25.998476028442383 saved to checkpoints/2024-05-24_03-54-25/best_model_params.pt\n"
     ]
    },
    {
     "name": "stdout",
     "output_type": "stream",
     "text": [
      "Epoch 18000 val_loss_epoch 25.948640823364258 saved to checkpoints/2024-05-24_03-54-25/best_model_params.pt\n"
     ]
    },
    {
     "name": "stdout",
     "output_type": "stream",
     "text": [
      "Epoch 18060 val_loss_epoch 25.9444522857666 saved to checkpoints/2024-05-24_03-54-25/best_model_params.pt\n"
     ]
    },
    {
     "name": "stdout",
     "output_type": "stream",
     "text": [
      "Epoch 18140 val_loss_epoch 25.928281784057617 saved to checkpoints/2024-05-24_03-54-25/best_model_params.pt\n"
     ]
    },
    {
     "name": "stdout",
     "output_type": "stream",
     "text": [
      "Epoch 18580 val_loss_epoch 25.919923782348633 saved to checkpoints/2024-05-24_03-54-25/best_model_params.pt\n"
     ]
    },
    {
     "name": "stdout",
     "output_type": "stream",
     "text": [
      "Epoch 18660 val_loss_epoch 25.86927604675293 saved to checkpoints/2024-05-24_03-54-25/best_model_params.pt\n"
     ]
    },
    {
     "name": "stdout",
     "output_type": "stream",
     "text": [
      "Epoch 18740 val_loss_epoch 25.860519409179688 saved to checkpoints/2024-05-24_03-54-25/best_model_params.pt\n"
     ]
    },
    {
     "name": "stdout",
     "output_type": "stream",
     "text": [
      "Epoch 18780 val_loss_epoch 25.838844299316406 saved to checkpoints/2024-05-24_03-54-25/best_model_params.pt\n"
     ]
    },
    {
     "name": "stdout",
     "output_type": "stream",
     "text": [
      "Epoch 18800 val_loss_epoch 25.834951400756836 saved to checkpoints/2024-05-24_03-54-25/best_model_params.pt\n"
     ]
    },
    {
     "name": "stdout",
     "output_type": "stream",
     "text": [
      "Epoch 19020 val_loss_epoch 25.782207489013672 saved to checkpoints/2024-05-24_03-54-25/best_model_params.pt\n"
     ]
    },
    {
     "name": "stdout",
     "output_type": "stream",
     "text": [
      "Epoch 19100 val_loss_epoch 25.76718521118164 saved to checkpoints/2024-05-24_03-54-25/best_model_params.pt\n"
     ]
    },
    {
     "name": "stdout",
     "output_type": "stream",
     "text": [
      "Epoch 19220 val_loss_epoch 25.748218536376953 saved to checkpoints/2024-05-24_03-54-25/best_model_params.pt\n"
     ]
    },
    {
     "name": "stdout",
     "output_type": "stream",
     "text": [
      "Epoch 19260 val_loss_epoch 25.74582862854004 saved to checkpoints/2024-05-24_03-54-25/best_model_params.pt\n"
     ]
    },
    {
     "name": "stdout",
     "output_type": "stream",
     "text": [
      "Epoch 19340 val_loss_epoch 25.738012313842773 saved to checkpoints/2024-05-24_03-54-25/best_model_params.pt\n"
     ]
    },
    {
     "name": "stdout",
     "output_type": "stream",
     "text": [
      "Epoch 19360 val_loss_epoch 25.691675186157227 saved to checkpoints/2024-05-24_03-54-25/best_model_params.pt\n"
     ]
    },
    {
     "name": "stdout",
     "output_type": "stream",
     "text": [
      "Epoch 19640 val_loss_epoch 25.626068115234375 saved to checkpoints/2024-05-24_03-54-25/best_model_params.pt\n"
     ]
    },
    {
     "name": "stdout",
     "output_type": "stream",
     "text": [
      "Epoch 19820 val_loss_epoch 25.489282608032227 saved to checkpoints/2024-05-24_03-54-25/best_model_params.pt\n"
     ]
    },
    {
     "name": "stdout",
     "output_type": "stream",
     "text": [
      "Epoch 20640 val_loss_epoch 25.451276779174805 saved to checkpoints/2024-05-24_03-54-25/best_model_params.pt\n"
     ]
    },
    {
     "name": "stdout",
     "output_type": "stream",
     "text": [
      "Epoch 21260 val_loss_epoch 25.440031051635742 saved to checkpoints/2024-05-24_03-54-25/best_model_params.pt\n"
     ]
    },
    {
     "name": "stdout",
     "output_type": "stream",
     "text": [
      "Epoch 21280 val_loss_epoch 25.439054489135742 saved to checkpoints/2024-05-24_03-54-25/best_model_params.pt\n"
     ]
    },
    {
     "name": "stdout",
     "output_type": "stream",
     "text": [
      "Epoch 21300 val_loss_epoch 25.43267059326172 saved to checkpoints/2024-05-24_03-54-25/best_model_params.pt\n"
     ]
    },
    {
     "name": "stdout",
     "output_type": "stream",
     "text": [
      "Epoch 22420 val_loss_epoch 25.42522621154785 saved to checkpoints/2024-05-24_03-54-25/best_model_params.pt\n"
     ]
    },
    {
     "name": "stdout",
     "output_type": "stream",
     "text": [
      "Epoch 22600 val_loss_epoch 25.42205047607422 saved to checkpoints/2024-05-24_03-54-25/best_model_params.pt\n"
     ]
    },
    {
     "name": "stdout",
     "output_type": "stream",
     "text": [
      "Epoch 22640 val_loss_epoch 25.41645050048828 saved to checkpoints/2024-05-24_03-54-25/best_model_params.pt\n"
     ]
    },
    {
     "name": "stdout",
     "output_type": "stream",
     "text": [
      "Epoch 22660 val_loss_epoch 25.411439895629883 saved to checkpoints/2024-05-24_03-54-25/best_model_params.pt\n"
     ]
    },
    {
     "name": "stdout",
     "output_type": "stream",
     "text": [
      "Epoch 22780 val_loss_epoch 25.409652709960938 saved to checkpoints/2024-05-24_03-54-25/best_model_params.pt\n"
     ]
    },
    {
     "name": "stdout",
     "output_type": "stream",
     "text": [
      "Epoch 23080 val_loss_epoch 25.405029296875 saved to checkpoints/2024-05-24_03-54-25/best_model_params.pt\n"
     ]
    },
    {
     "name": "stdout",
     "output_type": "stream",
     "text": [
      "Epoch 23100 val_loss_epoch 25.393646240234375 saved to checkpoints/2024-05-24_03-54-25/best_model_params.pt\n"
     ]
    },
    {
     "name": "stdout",
     "output_type": "stream",
     "text": [
      "Epoch 23140 val_loss_epoch 25.387592315673828 saved to checkpoints/2024-05-24_03-54-25/best_model_params.pt\n"
     ]
    },
    {
     "name": "stdout",
     "output_type": "stream",
     "text": [
      "Epoch 23180 val_loss_epoch 25.38319206237793 saved to checkpoints/2024-05-24_03-54-25/best_model_params.pt\n"
     ]
    },
    {
     "name": "stdout",
     "output_type": "stream",
     "text": [
      "Epoch 23240 val_loss_epoch 25.37370491027832 saved to checkpoints/2024-05-24_03-54-25/best_model_params.pt\n"
     ]
    },
    {
     "name": "stdout",
     "output_type": "stream",
     "text": [
      "Epoch 23580 val_loss_epoch 25.36983871459961 saved to checkpoints/2024-05-24_03-54-25/best_model_params.pt\n"
     ]
    },
    {
     "name": "stdout",
     "output_type": "stream",
     "text": [
      "Epoch 23860 val_loss_epoch 25.36766815185547 saved to checkpoints/2024-05-24_03-54-25/best_model_params.pt\n"
     ]
    },
    {
     "name": "stdout",
     "output_type": "stream",
     "text": [
      "Epoch 23940 val_loss_epoch 25.362098693847656 saved to checkpoints/2024-05-24_03-54-25/best_model_params.pt\n"
     ]
    },
    {
     "name": "stdout",
     "output_type": "stream",
     "text": [
      "Epoch 23960 val_loss_epoch 25.361759185791016 saved to checkpoints/2024-05-24_03-54-25/best_model_params.pt\n"
     ]
    },
    {
     "name": "stdout",
     "output_type": "stream",
     "text": [
      "Epoch 24240 val_loss_epoch 25.348169326782227 saved to checkpoints/2024-05-24_03-54-25/best_model_params.pt\n"
     ]
    },
    {
     "name": "stdout",
     "output_type": "stream",
     "text": [
      "Epoch 24260 val_loss_epoch 25.343345642089844 saved to checkpoints/2024-05-24_03-54-25/best_model_params.pt\n"
     ]
    },
    {
     "name": "stdout",
     "output_type": "stream",
     "text": [
      "Epoch 24280 val_loss_epoch 25.336259841918945 saved to checkpoints/2024-05-24_03-54-25/best_model_params.pt\n"
     ]
    },
    {
     "name": "stdout",
     "output_type": "stream",
     "text": [
      "Epoch 24320 val_loss_epoch 25.33188819885254 saved to checkpoints/2024-05-24_03-54-25/best_model_params.pt\n"
     ]
    },
    {
     "name": "stdout",
     "output_type": "stream",
     "text": [
      "Epoch 24360 val_loss_epoch 25.329931259155273 saved to checkpoints/2024-05-24_03-54-25/best_model_params.pt\n"
     ]
    },
    {
     "name": "stdout",
     "output_type": "stream",
     "text": [
      "Epoch 25040 val_loss_epoch 25.327733993530273 saved to checkpoints/2024-05-24_03-54-25/best_model_params.pt\n"
     ]
    },
    {
     "name": "stdout",
     "output_type": "stream",
     "text": [
      "Epoch 25080 val_loss_epoch 25.323801040649414 saved to checkpoints/2024-05-24_03-54-25/best_model_params.pt\n"
     ]
    },
    {
     "name": "stdout",
     "output_type": "stream",
     "text": [
      "Epoch 25100 val_loss_epoch 25.316543579101562 saved to checkpoints/2024-05-24_03-54-25/best_model_params.pt\n"
     ]
    },
    {
     "name": "stdout",
     "output_type": "stream",
     "text": [
      "Epoch 25120 val_loss_epoch 25.3101863861084 saved to checkpoints/2024-05-24_03-54-25/best_model_params.pt\n"
     ]
    },
    {
     "name": "stdout",
     "output_type": "stream",
     "text": [
      "Epoch 25680 val_loss_epoch 25.30597496032715 saved to checkpoints/2024-05-24_03-54-25/best_model_params.pt\n"
     ]
    },
    {
     "name": "stdout",
     "output_type": "stream",
     "text": [
      "Epoch 25740 val_loss_epoch 25.305137634277344 saved to checkpoints/2024-05-24_03-54-25/best_model_params.pt\n"
     ]
    },
    {
     "name": "stdout",
     "output_type": "stream",
     "text": [
      "Epoch 25800 val_loss_epoch 25.30372428894043 saved to checkpoints/2024-05-24_03-54-25/best_model_params.pt\n"
     ]
    },
    {
     "name": "stdout",
     "output_type": "stream",
     "text": [
      "Epoch 25920 val_loss_epoch 25.30267333984375 saved to checkpoints/2024-05-24_03-54-25/best_model_params.pt\n"
     ]
    },
    {
     "name": "stdout",
     "output_type": "stream",
     "text": [
      "Epoch 26060 val_loss_epoch 25.302366256713867 saved to checkpoints/2024-05-24_03-54-25/best_model_params.pt\n"
     ]
    },
    {
     "name": "stdout",
     "output_type": "stream",
     "text": [
      "Epoch 26780 val_loss_epoch 25.30047607421875 saved to checkpoints/2024-05-24_03-54-25/best_model_params.pt\n"
     ]
    },
    {
     "name": "stdout",
     "output_type": "stream",
     "text": [
      "Epoch 26820 val_loss_epoch 25.291297912597656 saved to checkpoints/2024-05-24_03-54-25/best_model_params.pt\n"
     ]
    },
    {
     "name": "stdout",
     "output_type": "stream",
     "text": [
      "Epoch 26920 val_loss_epoch 25.29069709777832 saved to checkpoints/2024-05-24_03-54-25/best_model_params.pt\n"
     ]
    },
    {
     "name": "stdout",
     "output_type": "stream",
     "text": [
      "Epoch 26980 val_loss_epoch 25.289806365966797 saved to checkpoints/2024-05-24_03-54-25/best_model_params.pt\n"
     ]
    },
    {
     "name": "stdout",
     "output_type": "stream",
     "text": [
      "Epoch 27200 val_loss_epoch 25.288612365722656 saved to checkpoints/2024-05-24_03-54-25/best_model_params.pt\n"
     ]
    },
    {
     "name": "stdout",
     "output_type": "stream",
     "text": [
      "Epoch 27220 val_loss_epoch 25.285505294799805 saved to checkpoints/2024-05-24_03-54-25/best_model_params.pt\n"
     ]
    },
    {
     "name": "stdout",
     "output_type": "stream",
     "text": [
      "Epoch 27240 val_loss_epoch 25.281850814819336 saved to checkpoints/2024-05-24_03-54-25/best_model_params.pt\n"
     ]
    },
    {
     "name": "stdout",
     "output_type": "stream",
     "text": [
      "Epoch 27260 val_loss_epoch 25.2784366607666 saved to checkpoints/2024-05-24_03-54-25/best_model_params.pt\n"
     ]
    },
    {
     "name": "stdout",
     "output_type": "stream",
     "text": [
      "Epoch 27300 val_loss_epoch 25.276460647583008 saved to checkpoints/2024-05-24_03-54-25/best_model_params.pt\n"
     ]
    },
    {
     "name": "stdout",
     "output_type": "stream",
     "text": [
      "Epoch 27320 val_loss_epoch 25.275043487548828 saved to checkpoints/2024-05-24_03-54-25/best_model_params.pt\n"
     ]
    },
    {
     "name": "stdout",
     "output_type": "stream",
     "text": [
      "Epoch 27380 val_loss_epoch 25.27460479736328 saved to checkpoints/2024-05-24_03-54-25/best_model_params.pt\n"
     ]
    },
    {
     "name": "stdout",
     "output_type": "stream",
     "text": [
      "Epoch 27480 val_loss_epoch 25.273191452026367 saved to checkpoints/2024-05-24_03-54-25/best_model_params.pt\n"
     ]
    },
    {
     "name": "stdout",
     "output_type": "stream",
     "text": [
      "Epoch 28240 val_loss_epoch 25.270490646362305 saved to checkpoints/2024-05-24_03-54-25/best_model_params.pt\n"
     ]
    },
    {
     "name": "stdout",
     "output_type": "stream",
     "text": [
      "Epoch 28280 val_loss_epoch 25.26970100402832 saved to checkpoints/2024-05-24_03-54-25/best_model_params.pt\n"
     ]
    },
    {
     "name": "stdout",
     "output_type": "stream",
     "text": [
      "Epoch 28300 val_loss_epoch 25.26785659790039 saved to checkpoints/2024-05-24_03-54-25/best_model_params.pt\n"
     ]
    },
    {
     "name": "stdout",
     "output_type": "stream",
     "text": [
      "Epoch 28820 val_loss_epoch 25.266069412231445 saved to checkpoints/2024-05-24_03-54-25/best_model_params.pt\n"
     ]
    },
    {
     "name": "stdout",
     "output_type": "stream",
     "text": [
      "Epoch 29680 val_loss_epoch 25.26603126525879 saved to checkpoints/2024-05-24_03-54-25/best_model_params.pt\n"
     ]
    },
    {
     "name": "stdout",
     "output_type": "stream",
     "text": [
      "Epoch 29760 val_loss_epoch 25.264381408691406 saved to checkpoints/2024-05-24_03-54-25/best_model_params.pt\n"
     ]
    },
    {
     "name": "stdout",
     "output_type": "stream",
     "text": [
      "Epoch 29780 val_loss_epoch 25.26297950744629 saved to checkpoints/2024-05-24_03-54-25/best_model_params.pt\n"
     ]
    },
    {
     "name": "stdout",
     "output_type": "stream",
     "text": [
      "Epoch 29800 val_loss_epoch 25.262495040893555 saved to checkpoints/2024-05-24_03-54-25/best_model_params.pt\n"
     ]
    },
    {
     "name": "stdout",
     "output_type": "stream",
     "text": [
      "Epoch 29820 val_loss_epoch 25.262195587158203 saved to checkpoints/2024-05-24_03-54-25/best_model_params.pt\n"
     ]
    },
    {
     "name": "stdout",
     "output_type": "stream",
     "text": [
      "Epoch 29860 val_loss_epoch 25.261842727661133 saved to checkpoints/2024-05-24_03-54-25/best_model_params.pt\n"
     ]
    },
    {
     "name": "stdout",
     "output_type": "stream",
     "text": [
      "Epoch 29900 val_loss_epoch 25.260595321655273 saved to checkpoints/2024-05-24_03-54-25/best_model_params.pt\n"
     ]
    },
    {
     "name": "stdout",
     "output_type": "stream",
     "text": [
      "Epoch 29920 val_loss_epoch 25.259807586669922 saved to checkpoints/2024-05-24_03-54-25/best_model_params.pt\n"
     ]
    },
    {
     "name": "stdout",
     "output_type": "stream",
     "text": [
      "Epoch 29940 val_loss_epoch 25.25928497314453 saved to checkpoints/2024-05-24_03-54-25/best_model_params.pt\n"
     ]
    },
    {
     "name": "stdout",
     "output_type": "stream",
     "text": [
      "Epoch 29960 val_loss_epoch 25.25809097290039 saved to checkpoints/2024-05-24_03-54-25/best_model_params.pt\n"
     ]
    },
    {
     "name": "stdout",
     "output_type": "stream",
     "text": [
      "Epoch 30060 val_loss_epoch 25.257875442504883 saved to checkpoints/2024-05-24_03-54-25/best_model_params.pt\n"
     ]
    },
    {
     "name": "stdout",
     "output_type": "stream",
     "text": [
      "Epoch 30100 val_loss_epoch 25.257465362548828 saved to checkpoints/2024-05-24_03-54-25/best_model_params.pt\n"
     ]
    },
    {
     "name": "stdout",
     "output_type": "stream",
     "text": [
      "Epoch 30220 val_loss_epoch 25.256383895874023 saved to checkpoints/2024-05-24_03-54-25/best_model_params.pt\n"
     ]
    },
    {
     "name": "stdout",
     "output_type": "stream",
     "text": [
      "Epoch 30400 val_loss_epoch 25.25575065612793 saved to checkpoints/2024-05-24_03-54-25/best_model_params.pt\n"
     ]
    },
    {
     "name": "stdout",
     "output_type": "stream",
     "text": [
      "Epoch 30700 val_loss_epoch 25.255645751953125 saved to checkpoints/2024-05-24_03-54-25/best_model_params.pt\n"
     ]
    },
    {
     "name": "stdout",
     "output_type": "stream",
     "text": [
      "Epoch 30720 val_loss_epoch 25.255355834960938 saved to checkpoints/2024-05-24_03-54-25/best_model_params.pt\n"
     ]
    },
    {
     "name": "stdout",
     "output_type": "stream",
     "text": [
      "Epoch 30740 val_loss_epoch 25.25505828857422 saved to checkpoints/2024-05-24_03-54-25/best_model_params.pt\n"
     ]
    },
    {
     "name": "stdout",
     "output_type": "stream",
     "text": [
      "Epoch 30760 val_loss_epoch 25.254016876220703 saved to checkpoints/2024-05-24_03-54-25/best_model_params.pt\n"
     ]
    },
    {
     "name": "stdout",
     "output_type": "stream",
     "text": [
      "Epoch 31220 val_loss_epoch 25.253704071044922 saved to checkpoints/2024-05-24_03-54-25/best_model_params.pt\n"
     ]
    },
    {
     "name": "stdout",
     "output_type": "stream",
     "text": [
      "Epoch 31260 val_loss_epoch 25.253154754638672 saved to checkpoints/2024-05-24_03-54-25/best_model_params.pt\n"
     ]
    },
    {
     "name": "stdout",
     "output_type": "stream",
     "text": [
      "Epoch 32240 val_loss_epoch 25.252798080444336 saved to checkpoints/2024-05-24_03-54-25/best_model_params.pt\n"
     ]
    },
    {
     "name": "stdout",
     "output_type": "stream",
     "text": [
      "Epoch 32760 val_loss_epoch 25.252716064453125 saved to checkpoints/2024-05-24_03-54-25/best_model_params.pt\n"
     ]
    },
    {
     "name": "stdout",
     "output_type": "stream",
     "text": [
      "Epoch 32780 val_loss_epoch 25.252622604370117 saved to checkpoints/2024-05-24_03-54-25/best_model_params.pt\n"
     ]
    },
    {
     "name": "stdout",
     "output_type": "stream",
     "text": [
      "Epoch 32800 val_loss_epoch 25.252580642700195 saved to checkpoints/2024-05-24_03-54-25/best_model_params.pt\n"
     ]
    },
    {
     "name": "stdout",
     "output_type": "stream",
     "text": [
      "Epoch 32820 val_loss_epoch 25.252531051635742 saved to checkpoints/2024-05-24_03-54-25/best_model_params.pt\n"
     ]
    },
    {
     "name": "stdout",
     "output_type": "stream",
     "text": [
      "Epoch 32840 val_loss_epoch 25.25160026550293 saved to checkpoints/2024-05-24_03-54-25/best_model_params.pt\n"
     ]
    },
    {
     "name": "stdout",
     "output_type": "stream",
     "text": [
      "Epoch 32860 val_loss_epoch 25.25144386291504 saved to checkpoints/2024-05-24_03-54-25/best_model_params.pt\n"
     ]
    },
    {
     "name": "stdout",
     "output_type": "stream",
     "text": [
      "Epoch 33000 val_loss_epoch 25.251375198364258 saved to checkpoints/2024-05-24_03-54-25/best_model_params.pt\n"
     ]
    },
    {
     "name": "stdout",
     "output_type": "stream",
     "text": [
      "Epoch 33220 val_loss_epoch 25.251142501831055 saved to checkpoints/2024-05-24_03-54-25/best_model_params.pt\n"
     ]
    },
    {
     "name": "stdout",
     "output_type": "stream",
     "text": [
      "Epoch 33240 val_loss_epoch 25.250978469848633 saved to checkpoints/2024-05-24_03-54-25/best_model_params.pt\n"
     ]
    },
    {
     "name": "stdout",
     "output_type": "stream",
     "text": [
      "Epoch 33500 val_loss_epoch 25.25090789794922 saved to checkpoints/2024-05-24_03-54-25/best_model_params.pt\n"
     ]
    },
    {
     "name": "stdout",
     "output_type": "stream",
     "text": [
      "Epoch 33520 val_loss_epoch 25.25067901611328 saved to checkpoints/2024-05-24_03-54-25/best_model_params.pt\n"
     ]
    },
    {
     "name": "stdout",
     "output_type": "stream",
     "text": [
      "Epoch 33720 val_loss_epoch 25.25052833557129 saved to checkpoints/2024-05-24_03-54-25/best_model_params.pt\n"
     ]
    },
    {
     "name": "stdout",
     "output_type": "stream",
     "text": [
      "Epoch 33740 val_loss_epoch 25.250396728515625 saved to checkpoints/2024-05-24_03-54-25/best_model_params.pt\n"
     ]
    },
    {
     "name": "stdout",
     "output_type": "stream",
     "text": [
      "Epoch 33760 val_loss_epoch 25.250146865844727 saved to checkpoints/2024-05-24_03-54-25/best_model_params.pt\n"
     ]
    },
    {
     "name": "stdout",
     "output_type": "stream",
     "text": [
      "Epoch 33880 val_loss_epoch 25.250041961669922 saved to checkpoints/2024-05-24_03-54-25/best_model_params.pt\n"
     ]
    },
    {
     "name": "stdout",
     "output_type": "stream",
     "text": [
      "Epoch 34040 val_loss_epoch 25.249942779541016 saved to checkpoints/2024-05-24_03-54-25/best_model_params.pt\n"
     ]
    },
    {
     "name": "stdout",
     "output_type": "stream",
     "text": [
      "Epoch 34100 val_loss_epoch 25.24980354309082 saved to checkpoints/2024-05-24_03-54-25/best_model_params.pt\n"
     ]
    },
    {
     "name": "stderr",
     "output_type": "stream",
     "text": [
      "\u001b[34m\u001b[1mwandb\u001b[0m: - 2.338 MB of 2.338 MB uploaded\r"
     ]
    },
    {
     "name": "stderr",
     "output_type": "stream",
     "text": [
      "\u001b[34m\u001b[1mwandb\u001b[0m: \\ 0.006 MB of 2.797 MB uploaded\r"
     ]
    },
    {
     "name": "stderr",
     "output_type": "stream",
     "text": [
      "\u001b[34m\u001b[1mwandb\u001b[0m: | 1.376 MB of 2.797 MB uploaded\r"
     ]
    },
    {
     "name": "stderr",
     "output_type": "stream",
     "text": [
      "\u001b[34m\u001b[1mwandb\u001b[0m: / 1.376 MB of 2.797 MB uploaded\r"
     ]
    },
    {
     "name": "stderr",
     "output_type": "stream",
     "text": [
      "\u001b[34m\u001b[1mwandb\u001b[0m: - 2.797 MB of 2.797 MB uploaded\r"
     ]
    },
    {
     "name": "stderr",
     "output_type": "stream",
     "text": [
      "\u001b[34m\u001b[1mwandb\u001b[0m:                                                                                \n"
     ]
    },
    {
     "name": "stderr",
     "output_type": "stream",
     "text": [
      "\u001b[34m\u001b[1mwandb\u001b[0m: \n",
      "\u001b[34m\u001b[1mwandb\u001b[0m: Run history:\n",
      "\u001b[34m\u001b[1mwandb\u001b[0m:             epoch ▁▁▁▁▂▂▂▂▂▃▃▃▃▃▃▄▄▄▄▄▅▅▅▅▅▅▆▆▆▆▆▇▇▇▇▇▇███\n",
      "\u001b[34m\u001b[1mwandb\u001b[0m: known_cascade_len ██▁▁█▁▁▁▁█▁▅▅█▁▅▁██▁█▅▁▁█▅▅█▁▁██▅▅▅█▁█▅█\n",
      "\u001b[34m\u001b[1mwandb\u001b[0m:     known_seq_len ▂▇▃▇▆▃▇▇▁▆▅▁▁▇▄▃▆▄▇█▄▂▁█▄▁▇▇▂▇▂▃▇▆▂▄█▂▃▂\n",
      "\u001b[34m\u001b[1mwandb\u001b[0m:                lr █▅▃▂▂▁▁▁▁▁▁▁▁▁▁▁▁▁▁▁▁▁▁▁▁▁▁▁▁▁▁▁▁▁▁▁▁▁▁▁\n",
      "\u001b[34m\u001b[1mwandb\u001b[0m:  train_loss_batch ▃▁▂▁▁▁▁▁█▁▁▄▄▁▁▁▁▁▁▁▁▁█▁▁▄▁▁▂▁▁▁▁▁▂▁▁▁▁▁\n",
      "\u001b[34m\u001b[1mwandb\u001b[0m:  train_loss_epoch ██▄▃▂▂▁▁▁▁▁▁▁▁▁▁▁▁▁▁▁▁▁▁▁▁▁▁▁▁▁▁▁▁▁▁▁▁▁▁\n",
      "\u001b[34m\u001b[1mwandb\u001b[0m:    val_loss_epoch ██▄▃▂▂▁▁▁▁▁▁▁▁▁▁▁▁▁▁▁▁▁▁▁▁▁▁▁▁▁▁▁▁▁▁▁▁▁▁\n",
      "\u001b[34m\u001b[1mwandb\u001b[0m: \n",
      "\u001b[34m\u001b[1mwandb\u001b[0m: Run summary:\n",
      "\u001b[34m\u001b[1mwandb\u001b[0m:             epoch 100000\n",
      "\u001b[34m\u001b[1mwandb\u001b[0m: known_cascade_len 1\n",
      "\u001b[34m\u001b[1mwandb\u001b[0m:     known_seq_len 20\n",
      "\u001b[34m\u001b[1mwandb\u001b[0m:                lr 0.0\n",
      "\u001b[34m\u001b[1mwandb\u001b[0m:  train_loss_batch 5e-05\n",
      "\u001b[34m\u001b[1mwandb\u001b[0m:  train_loss_epoch 25.03289\n",
      "\u001b[34m\u001b[1mwandb\u001b[0m:    val_loss_epoch 25.25149\n",
      "\u001b[34m\u001b[1mwandb\u001b[0m: \n"
     ]
    },
    {
     "name": "stderr",
     "output_type": "stream",
     "text": [
      "\u001b[34m\u001b[1mwandb\u001b[0m: 🚀 View run \u001b[33mdriven-puddle-235\u001b[0m at: \u001b[34m\u001b[4mhttps://wandb.ai/kazeev/WyckoffTransformer/runs/36veqvg7\u001b[0m\n",
      "\u001b[34m\u001b[1mwandb\u001b[0m: ⭐️ View project at: \u001b[34m\u001b[4mhttps://wandb.ai/kazeev/WyckoffTransformer\u001b[0m\n",
      "\u001b[34m\u001b[1mwandb\u001b[0m: Synced 5 W&B file(s), 0 media file(s), 0 artifact file(s) and 1 other file(s)\n"
     ]
    },
    {
     "name": "stderr",
     "output_type": "stream",
     "text": [
      "\u001b[34m\u001b[1mwandb\u001b[0m: Find logs at: \u001b[35m\u001b[1m./wandb/run-20240524_035426-36veqvg7/logs\u001b[0m\n"
     ]
    }
   ],
   "source": [
    "import torch\n",
    "pad_dict = {\n",
    "    \"elements\": element_to_ids[PAD_TOKEN],\n",
    "    \"symmetry_sites\": site_to_ids[PAD_TOKEN],\n",
    "    \"symmetry_sites_enumeration\": enumeration_pad\n",
    "}\n",
    "mask_dict = {\n",
    "    \"elements\": element_to_ids[MASK_TOKEN],\n",
    "    \"symmetry_sites\": site_to_ids[MASK_TOKEN],\n",
    "    \"symmetry_sites_enumeration\": enumeration_mask\n",
    "}\n",
    "trainer = WyckoffTrainer(\n",
    "    model, torch_datasets, pad_dict, mask_dict, cascade_order, \"spacegroup_number\", max_len, device, dtype=dtype)\n",
    "trainer.train(epochs=100000, val_period=20)"
   ]
  }
 ],
 "metadata": {
  "kernelspec": {
   "display_name": "wyckofftransformer-FeCwefly-py3.10",
   "language": "python",
   "name": "python3"
  },
  "language_info": {
   "codemirror_mode": {
    "name": "ipython",
    "version": 3
   },
   "file_extension": ".py",
   "mimetype": "text/x-python",
   "name": "python",
   "nbconvert_exporter": "python",
   "pygments_lexer": "ipython3",
   "version": "3.10.12"
  }
 },
 "nbformat": 4,
 "nbformat_minor": 2
}
