{
 "cells": [
  {
   "cell_type": "code",
   "execution_count": 7,
   "metadata": {},
   "outputs": [],
   "source": [
    "import pandas as pd\n",
    "from pymatgen.io.cif import CifParser\n",
    "from pyxtal import pyxtal"
   ]
  },
  {
   "cell_type": "code",
   "execution_count": 8,
   "metadata": {},
   "outputs": [],
   "source": [
    "data = pd.read_csv(\"pyxtal_failures.csv.gz\", index_col=0)"
   ]
  },
  {
   "cell_type": "code",
   "execution_count": 11,
   "metadata": {},
   "outputs": [
    {
     "name": "stderr",
     "output_type": "stream",
     "text": [
      "/home/kna/.cache/pypoetry/virtualenvs/wyckofftransformer-FeCwefly-py3.12/lib/python3.12/site-packages/pymatgen/io/cif.py:1324: UserWarning: Issues encountered while parsing CIF: 4 fractional coordinates rounded to ideal values to avoid issues with finite precision.\n",
      "  warnings.warn(\"Issues encountered while parsing CIF: \" + \"\\n\".join(self.warnings))\n",
      "/home/kna/.cache/pypoetry/virtualenvs/wyckofftransformer-FeCwefly-py3.12/lib/python3.12/site-packages/pymatgen/io/cif.py:1324: UserWarning: Issues encountered while parsing CIF: 4 fractional coordinates rounded to ideal values to avoid issues with finite precision.\n",
      "  warnings.warn(\"Issues encountered while parsing CIF: \" + \"\\n\".join(self.warnings))\n"
     ]
    },
    {
     "name": "stdout",
     "output_type": "stream",
     "text": [
      "[]\n",
      "Full Formula (Er4 S4 I4)\n",
      "Reduced Formula: ErSI\n",
      "abc   :   5.093981   8.994627   8.994627\n",
      "angles: 119.999998  90.000000  90.000000\n",
      "pbc   :       True       True       True\n",
      "Sites (12)\n",
      "  #  SP      a         b         c\n",
      "---  ----  ---  --------  --------\n",
      "  0  Er    0    0.667651  0.832582\n",
      "  1  Er    0    0.16493   0.332349\n",
      "  2  Er    0    0.167418  0.83507\n",
      "  3  Er    0    0.666667  0.333333\n",
      "  4  S     0    0.99901   0.499635\n",
      "  5  S     0    0.500625  0.00099\n",
      "  6  S     0    0.500365  0.499375\n",
      "  7  S     0    0         0\n",
      "  8  I     0.5  0.839281  0.166216\n",
      "  9  I     0.5  0.326935  0.160719\n",
      " 10  I     0.5  0.833784  0.673065\n",
      " 11  I     0.5  0.333333  0.666667\n",
      "[]\n",
      "Full Formula (Lu4 S4 I4)\n",
      "Reduced Formula: LuSI\n",
      "abc   :   5.064358   8.894308   8.894308\n",
      "angles: 120.000001  90.000000  90.000000\n",
      "pbc   :       True       True       True\n",
      "Sites (12)\n",
      "  #  SP      a         b         c\n",
      "---  ----  ---  --------  --------\n",
      "  0  Lu    0    0.666461  0.833242\n",
      "  1  Lu    0    0.166781  0.333539\n",
      "  2  Lu    0    0.166758  0.833219\n",
      "  3  Lu    0    0.666667  0.333333\n",
      "  4  S     0    0.000107  0.501336\n",
      "  5  S     0    0.50123   0.999893\n",
      "  6  S     0    0.498664  0.49877\n",
      "  7  S     0    0         0\n",
      "  8  I     0.5  0.839344  0.165904\n",
      "  9  I     0.5  0.32656   0.160656\n",
      " 10  I     0.5  0.834096  0.67344\n",
      " 11  I     0.5  0.333333  0.666667\n",
      "[]\n",
      "Full Formula (Cs2)\n",
      "Reduced Formula: Cs\n",
      "abc   :   6.093675   6.188918   6.188918\n",
      "angles:  89.031258  87.244876  87.244876\n",
      "pbc   :       True       True       True\n",
      "Sites (2)\n",
      "  #  SP           a         b         c\n",
      "---  ----  --------  --------  --------\n",
      "  0  Cs    0.243318  0.749089  0.749089\n",
      "  1  Cs    0.756682  0.250911  0.250911\n"
     ]
    }
   ],
   "source": [
    "for cif_string in data.cif:\n",
    "    pymatgen_structure = CifParser.from_str(cif_string).parse_structures(primitive=False)[0]\n",
    "    pyxtal_structure = pyxtal()\n",
    "    pyxtal_structure.from_seed(pymatgen_structure, tol=0.1)\n",
    "    print(pyxtal_structure.atom_sites)\n",
    "    print(pymatgen_structure)"
   ]
  }
 ],
 "metadata": {
  "kernelspec": {
   "display_name": "wyckofftransformer-FeCwefly-py3.12",
   "language": "python",
   "name": "python3"
  },
  "language_info": {
   "codemirror_mode": {
    "name": "ipython",
    "version": 3
   },
   "file_extension": ".py",
   "mimetype": "text/x-python",
   "name": "python",
   "nbconvert_exporter": "python",
   "pygments_lexer": "ipython3",
   "version": "3.12.3"
  }
 },
 "nbformat": 4,
 "nbformat_minor": 2
}
