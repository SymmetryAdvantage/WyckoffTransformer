{
 "cells": [
  {
   "cell_type": "code",
   "execution_count": 2,
   "metadata": {},
   "outputs": [
    {
     "name": "stderr",
     "output_type": "stream",
     "text": [
      "/home/kna/.cache/pypoetry/virtualenvs/wyckofftransformer-FeCwefly-py3.12/lib/python3.12/site-packages/matminer/utils/data.py:326: UserWarning: MagpieData(impute_nan=False):\n",
      "In a future release, impute_nan will be set to True by default.\n",
      "                    This means that features that are missing or are NaNs for elements\n",
      "                    from the data source will be replaced by the average of that value\n",
      "                    over the available elements.\n",
      "                    This avoids NaNs after featurization that are often replaced by\n",
      "                    dataset-dependent averages.\n",
      "  warnings.warn(f\"{self.__class__.__name__}(impute_nan=False):\\n\" + IMPUTE_NAN_WARNING)\n"
     ]
    }
   ],
   "source": [
    "from evaluation.generated_dataset import GeneratedDataset"
   ]
  },
  {
   "cell_type": "code",
   "execution_count": 4,
   "metadata": {},
   "outputs": [
    {
     "name": "stdout",
     "output_type": "stream",
     "text": [
      "   Unnamed: 0      formula                                           file_dir  \\\n",
      "0           0       K6 Te4  temp_files/nikita_Tformer_gene2/wyckoff_genes_...   \n",
      "1           1       Fe2 W2  temp_files/nikita_Tformer_gene2/wyckoff_genes_...   \n",
      "2           2   Tb3 Nd3 S6  temp_files/nikita_Tformer_gene2/wyckoff_genes_...   \n",
      "3           3  Sr4 Br8 O32  temp_files/nikita_Tformer_gene2/wyckoff_genes_...   \n",
      "4           4  Ac4 Sn4 Ir8  temp_files/nikita_Tformer_gene2/wyckoff_genes_...   \n",
      "\n",
      "                                           error_str  folder_ind  \\\n",
      "0                                           no_error         224   \n",
      "1                                           no_error         460   \n",
      "2  No valid decomposition found for PDEntry : Tb3...         546   \n",
      "3                                           no_error         945   \n",
      "4                                           no_error         382   \n",
      "\n",
      "   chgnet_ehull  corrected_chgnet_ehull  \n",
      "0      0.228221                0.228221  \n",
      "1      0.240073                0.240073  \n",
      "2      0.000000               -0.003152  \n",
      "3      0.439706                0.439706  \n",
      "4      0.062633                0.062633  \n"
     ]
    }
   ],
   "source": [
    "ds = GeneratedDataset.from_transformations((\"WyckoffTransformer\",), \"mp_20_biternary\")"
   ]
  },
  {
   "cell_type": "code",
   "execution_count": 6,
   "metadata": {},
   "outputs": [
    {
     "data": {
      "text/plain": [
       "0.18394607911091074"
      ]
     },
     "execution_count": 6,
     "metadata": {},
     "output_type": "execute_result"
    }
   ],
   "source": [
    "ds.data.corrected_chgnet_ehull.mean()"
   ]
  }
 ],
 "metadata": {
  "kernelspec": {
   "display_name": "wyckofftransformer-FeCwefly-py3.12",
   "language": "python",
   "name": "python3"
  },
  "language_info": {
   "codemirror_mode": {
    "name": "ipython",
    "version": 3
   },
   "file_extension": ".py",
   "mimetype": "text/x-python",
   "name": "python",
   "nbconvert_exporter": "python",
   "pygments_lexer": "ipython3",
   "version": "3.12.3"
  }
 },
 "nbformat": 4,
 "nbformat_minor": 2
}
