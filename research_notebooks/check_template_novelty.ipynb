{
 "cells": [
  {
   "cell_type": "code",
   "execution_count": 1,
   "id": "db018955",
   "metadata": {},
   "outputs": [],
   "source": [
    "# Firstly, compute using our pre-defined functions\n",
    "transformations = {\n",
    "    \"WyFormerDffCSP++\": (\"WyckoffTransformer\", \"DiffCSP++\"),\n",
    "    \"SymmCD\": (\"SymmCD\",)\n",
    "}"
   ]
  },
  {
   "cell_type": "code",
   "execution_count": 2,
   "id": "00aba612",
   "metadata": {},
   "outputs": [
    {
     "name": "stderr",
     "output_type": "stream",
     "text": [
      "/home/kna/.cache/pypoetry/virtualenvs/wyckofftransformer-FeCwefly-py3.12/lib/python3.12/site-packages/matminer/utils/data.py:326: UserWarning: MagpieData(impute_nan=False):\n",
      "In a future release, impute_nan will be set to True by default.\n",
      "                    This means that features that are missing or are NaNs for elements\n",
      "                    from the data source will be replaced by the average of that value\n",
      "                    over the available elements.\n",
      "                    This avoids NaNs after featurization that are often replaced by\n",
      "                    dataset-dependent averages.\n",
      "  warnings.warn(f\"{self.__class__.__name__}(impute_nan=False):\\n\" + IMPUTE_NAN_WARNING)\n"
     ]
    }
   ],
   "source": [
    "import sys\n",
    "sys.path.append(\"..\")\n",
    "from evaluation.generated_dataset import GeneratedDataset\n",
    "from evaluation.novelty import record_to_anonymous_fingerprint"
   ]
  },
  {
   "cell_type": "code",
   "execution_count": 3,
   "id": "93f66d94",
   "metadata": {},
   "outputs": [],
   "source": [
    "datasets = {key: GeneratedDataset.from_cache(value) for key, value in transformations.items()}"
   ]
  },
  {
   "cell_type": "code",
   "execution_count": 4,
   "id": "07ea5eb6",
   "metadata": {},
   "outputs": [],
   "source": [
    "train = GeneratedDataset.from_cache((\"split\", \"train\"))\n",
    "val = GeneratedDataset.from_cache((\"split\", \"val\"))"
   ]
  },
  {
   "cell_type": "code",
   "execution_count": 5,
   "id": "01b7e9dd",
   "metadata": {},
   "outputs": [],
   "source": [
    "from collections import Counter\n",
    "def record_to_naive_fingerprint(record):\n",
    "    return (\n",
    "        record[\"spacegroup_number\"],\n",
    "            frozenset(Counter(\n",
    "                map(\n",
    "                    tuple,\n",
    "                    zip(record[\"site_symmetries\"], record[\"sites_enumeration\"])\n",
    "                )\n",
    "            ).items())\n",
    "    )"
   ]
  },
  {
   "cell_type": "markdown",
   "id": "e781b46b",
   "metadata": {},
   "source": [
    "SymmCD paper reports 2794 unique and 1654 novel and 3318 unique in training set.\n",
    "The likely cause is that they don't take into account equivalent positions."
   ]
  },
  {
   "cell_type": "code",
   "execution_count": 6,
   "id": "de0b0e73",
   "metadata": {},
   "outputs": [
    {
     "name": "stdout",
     "output_type": "stream",
     "text": [
      "Fingerprinting function: record_to_naive_fingerprint\n",
      "Unique templates in train: 3291\n",
      "WyFormerDffCSP++\n",
      "Dataset size: 1000\n",
      "Unique templates: 596\n",
      "Novel Unique templates w.r.t. train: 246\n",
      "Novel Unique templates w.r.t. train+val: 234\n",
      "SymmCD\n",
      "Dataset size: 9475\n",
      "Unique templates: 2277\n",
      "Novel Unique templates w.r.t. train: 1035\n",
      "Novel Unique templates w.r.t. train+val: 990\n",
      "Sampling 1000 records from SymmCD dataset\n",
      "Unique templates: 510\n",
      "Novel Unique templates w.r.t. train: 123\n",
      "Novel Unique templates w.r.t. train+val: 116\n",
      "Fingerprinting function: record_to_anonymous_fingerprint\n",
      "Unique templates in train: 2600\n",
      "WyFormerDffCSP++\n",
      "Dataset size: 1000\n",
      "Unique templates: 538\n",
      "Novel Unique templates w.r.t. train: 191\n",
      "Novel Unique templates w.r.t. train+val: 184\n",
      "SymmCD\n",
      "Dataset size: 9475\n",
      "Unique templates: 1870\n",
      "Novel Unique templates w.r.t. train: 750\n",
      "Novel Unique templates w.r.t. train+val: 719\n",
      "Sampling 1000 records from SymmCD dataset\n",
      "Unique templates: 476\n",
      "Novel Unique templates w.r.t. train: 95\n",
      "Novel Unique templates w.r.t. train+val: 90\n"
     ]
    }
   ],
   "source": [
    "for fingerprinting_function in (record_to_naive_fingerprint, record_to_anonymous_fingerprint):\n",
    "    print(f\"Fingerprinting function: {fingerprinting_function.__name__}\")\n",
    "    train_template_set = frozenset(train.data.apply(fingerprinting_function, axis=1))\n",
    "    print(f\"Unique templates in train: {len(train_template_set)}\")\n",
    "    val_template_set = frozenset(val.data.apply(fingerprinting_function, axis=1))\n",
    "    train_val_template_set = train_template_set.union(val_template_set)\n",
    "    sample_size = 1000\n",
    "    def print_template_stats(dataset):\n",
    "        templates = frozenset(dataset.apply(fingerprinting_function, axis=1))\n",
    "        print(f\"Unique templates: {len(templates)}\")\n",
    "        print(f\"Novel Unique templates w.r.t. train: {len(templates - train_template_set)}\")\n",
    "        print(f\"Novel Unique templates w.r.t. train+val: {len(templates - train_val_template_set)}\")\n",
    "\n",
    "    for dataset_name, dataset in datasets.items():\n",
    "        print(dataset_name)\n",
    "        print(f\"Dataset size: {len(dataset.data)}\")\n",
    "        print_template_stats(dataset.data)\n",
    "        if len(dataset.data) > sample_size:\n",
    "            print(f\"Sampling {sample_size} records from {dataset_name} dataset\")\n",
    "            sampled_data = dataset.data.sample(sample_size, random_state=42)\n",
    "            print_template_stats(sampled_data)"
   ]
  }
 ],
 "metadata": {
  "kernelspec": {
   "display_name": "wyckofftransformer-FeCwefly-py3.12",
   "language": "python",
   "name": "python3"
  },
  "language_info": {
   "codemirror_mode": {
    "name": "ipython",
    "version": 3
   },
   "file_extension": ".py",
   "mimetype": "text/x-python",
   "name": "python",
   "nbconvert_exporter": "python",
   "pygments_lexer": "ipython3",
   "version": "3.12.3"
  }
 },
 "nbformat": 4,
 "nbformat_minor": 5
}
