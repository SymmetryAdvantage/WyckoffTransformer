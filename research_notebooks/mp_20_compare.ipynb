{
 "cells": [
  {
   "cell_type": "code",
   "execution_count": 7,
   "id": "ea534b66",
   "metadata": {},
   "outputs": [],
   "source": [
    "import pandas as pd\n",
    "import sys\n",
    "sys.path.append('../')\n",
    "from evaluation.generated_dataset import GeneratedDataset"
   ]
  },
  {
   "cell_type": "code",
   "execution_count": null,
   "id": "e1233a7a",
   "metadata": {},
   "outputs": [],
   "source": [
    "# Sample is due to a bug when generating the dataset\n",
    "mp_20_source_sample = pd.read_pickle('mp_20_test_1k_sample.pkl.gz').sample(1000, random_state=42)"
   ]
  },
  {
   "cell_type": "code",
   "execution_count": 36,
   "id": "7aeec58f",
   "metadata": {},
   "outputs": [],
   "source": [
    "diffcsp_sample = GeneratedDataset.from_cache((\"split\", \"test\", \"1k-sample\", \"DiffCSP++\")).data\n",
    "mp_20_source_sample.index = diffcsp_sample.index"
   ]
  },
  {
   "cell_type": "code",
   "execution_count": 39,
   "id": "2285256b",
   "metadata": {},
   "outputs": [
    {
     "name": "stdout",
     "output_type": "stream",
     "text": [
      "Matching spacegroup numbers: 990 out of 1000\n"
     ]
    }
   ],
   "source": [
    "matching_sg = (diffcsp_sample.spacegroup_number == mp_20_source_sample.spacegroup_number)\n",
    "print(f\"Matching spacegroup numbers: {matching_sg.sum()} out of {len(matching_sg)}\")"
   ]
  },
  {
   "cell_type": "code",
   "execution_count": 40,
   "id": "72bf8b42",
   "metadata": {},
   "outputs": [
    {
     "name": "stdout",
     "output_type": "stream",
     "text": [
      "Matching structures: 770 out of 1000\n"
     ]
    }
   ],
   "source": [
    "from pymatgen.analysis.structure_matcher import StructureMatcher\n",
    "sm = StructureMatcher()\n",
    "structure_matches = pd.Series(\n",
    "    [sm.fit(s1, s2) for s1, s2 in zip(diffcsp_sample.structure, mp_20_source_sample.structure)],\n",
    "    index=diffcsp_sample.index\n",
    ")\n",
    "\n",
    "print(f\"Matching structures: {structure_matches.sum()} out of {len(structure_matches)}\")"
   ]
  }
 ],
 "metadata": {
  "kernelspec": {
   "display_name": "wyckofftransformer-FeCwefly-py3.12",
   "language": "python",
   "name": "python3"
  },
  "language_info": {
   "codemirror_mode": {
    "name": "ipython",
    "version": 3
   },
   "file_extension": ".py",
   "mimetype": "text/x-python",
   "name": "python",
   "nbconvert_exporter": "python",
   "pygments_lexer": "ipython3",
   "version": "3.12.3"
  }
 },
 "nbformat": 4,
 "nbformat_minor": 5
}
