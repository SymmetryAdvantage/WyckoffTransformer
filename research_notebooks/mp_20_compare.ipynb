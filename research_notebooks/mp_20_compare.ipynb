{
 "cells": [
  {
   "cell_type": "code",
   "execution_count": 2,
   "id": "ea534b66",
   "metadata": {},
   "outputs": [],
   "source": [
    "import pandas as pd\n",
    "import sys\n",
    "sys.path.append('../')\n",
    "from evaluation.generated_dataset import GeneratedDataset"
   ]
  },
  {
   "cell_type": "code",
   "execution_count": 3,
   "id": "e1e0a5fc",
   "metadata": {},
   "outputs": [],
   "source": [
    "mp_20_source_sample = GeneratedDataset.from_transformations((\"split\", \"test\", \"1k-sample\"), sort=False).data"
   ]
  },
  {
   "cell_type": "code",
   "execution_count": 4,
   "id": "e1233a7a",
   "metadata": {},
   "outputs": [],
   "source": [
    "diffcsp_sample = GeneratedDataset.from_cache((\"split\", \"test\", \"1k-sample\", \"WyckoffReduction\", \"DiffCSP++\")).data\n",
    "diffcsp_sample.index = mp_20_source_sample.index"
   ]
  },
  {
   "cell_type": "code",
   "execution_count": 5,
   "id": "2285256b",
   "metadata": {},
   "outputs": [
    {
     "name": "stdout",
     "output_type": "stream",
     "text": [
      "Matching spacegroup numbers (DiffCSP++): 989 out of 1000\n"
     ]
    }
   ],
   "source": [
    "matching_sg = (mp_20_source_sample.spacegroup_number == diffcsp_sample.spacegroup_number)\n",
    "print(f\"Matching spacegroup numbers (DiffCSP++): {matching_sg.sum()} out of {len(matching_sg)}\")"
   ]
  },
  {
   "cell_type": "code",
   "execution_count": 6,
   "id": "72bf8b42",
   "metadata": {},
   "outputs": [
    {
     "name": "stdout",
     "output_type": "stream",
     "text": [
      "Matching structures (DiffCSP++): 776 out of 1000\n"
     ]
    }
   ],
   "source": [
    "from pymatgen.analysis.structure_matcher import StructureMatcher\n",
    "sm = StructureMatcher()\n",
    "structure_matches = pd.Series(\n",
    "    [sm.fit(s1, s2) for s1, s2 in zip(diffcsp_sample.structure, mp_20_source_sample.structure)],\n",
    "    index=diffcsp_sample.index\n",
    ")\n",
    "\n",
    "print(f\"Matching structures (DiffCSP++): {structure_matches.sum()} out of {len(structure_matches)}\")"
   ]
  },
  {
   "cell_type": "code",
   "execution_count": null,
   "id": "d261cc21",
   "metadata": {},
   "outputs": [],
   "source": [
    "import json\n",
    "json_sample = diffcsp_sample.loc[~structure_matches].structure.map(lambda s: json.dumps(s.as_dict()))\n",
    "json_sample.name = \"json\"\n",
    "json_sample.to_csv(\"../generated/mp_20/split/test/1k-sample/WyckoffReduction/DiffCSP++/diffcsp_mismatches.csv.gz\",\n",
    "    index_label=\"mp_20_sequence_id\")"
   ]
  },
  {
   "cell_type": "code",
   "execution_count": 8,
   "id": "cf40e85a",
   "metadata": {},
   "outputs": [],
   "source": [
    "cryspr_sample = GeneratedDataset.from_cache((\"split\", \"test\", \"1k-sample\", \"WyckoffReduction\", \"CrySPR\", \"CHGNet_fix\")).data"
   ]
  },
  {
   "cell_type": "code",
   "execution_count": 9,
   "id": "5b1fccc0",
   "metadata": {},
   "outputs": [],
   "source": [
    "mp_20_source_sample = mp_20_source_sample.reset_index(drop=False)\n",
    "mp_20_source_sub_sample = mp_20_source_sample.loc[mp_20_source_sample.index.isin(cryspr_sample.index)]"
   ]
  },
  {
   "cell_type": "code",
   "execution_count": 10,
   "id": "fcc58ba3",
   "metadata": {},
   "outputs": [
    {
     "name": "stdout",
     "output_type": "stream",
     "text": [
      "Matching spacegroup numbers (CrySPR): 773 out of 798\n"
     ]
    }
   ],
   "source": [
    "matching_sg = (mp_20_source_sub_sample.spacegroup_number == cryspr_sample.spacegroup_number)\n",
    "print(f\"Matching spacegroup numbers (CrySPR): {matching_sg.sum()} out of {len(matching_sg)}\")"
   ]
  },
  {
   "cell_type": "code",
   "execution_count": 11,
   "id": "2f1ab875",
   "metadata": {},
   "outputs": [
    {
     "name": "stdout",
     "output_type": "stream",
     "text": [
      "Matching structures (CrySPR): 561 out of 798\n"
     ]
    }
   ],
   "source": [
    "from pymatgen.analysis.structure_matcher import StructureMatcher\n",
    "sm = StructureMatcher()\n",
    "structure_matches = pd.Series(\n",
    "    [sm.fit(s1, s2) for s1, s2 in zip(cryspr_sample.structure, mp_20_source_sub_sample.structure)],\n",
    "    index=cryspr_sample.index\n",
    ")\n",
    "\n",
    "print(f\"Matching structures (CrySPR): {structure_matches.sum()} out of {len(structure_matches)}\")"
   ]
  },
  {
   "cell_type": "code",
   "execution_count": null,
   "id": "22b82d49",
   "metadata": {},
   "outputs": [],
   "source": []
  }
 ],
 "metadata": {
  "kernelspec": {
   "display_name": "wyckofftransformer-5rlqlSXm-py3.11",
   "language": "python",
   "name": "python3"
  },
  "language_info": {
   "codemirror_mode": {
    "name": "ipython",
    "version": 3
   },
   "file_extension": ".py",
   "mimetype": "text/x-python",
   "name": "python",
   "nbconvert_exporter": "python",
   "pygments_lexer": "ipython3",
   "version": "3.11.7"
  }
 },
 "nbformat": 4,
 "nbformat_minor": 5
}
