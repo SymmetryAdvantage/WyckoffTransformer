{
 "cells": [
  {
   "cell_type": "code",
   "execution_count": 1,
   "id": "ea534b66",
   "metadata": {},
   "outputs": [
    {
     "name": "stderr",
     "output_type": "stream",
     "text": [
      "/home/kna/.cache/pypoetry/virtualenvs/wyckofftransformer-FeCwefly-py3.12/lib/python3.12/site-packages/matminer/utils/data.py:326: UserWarning: MagpieData(impute_nan=False):\n",
      "In a future release, impute_nan will be set to True by default.\n",
      "                    This means that features that are missing or are NaNs for elements\n",
      "                    from the data source will be replaced by the average of that value\n",
      "                    over the available elements.\n",
      "                    This avoids NaNs after featurization that are often replaced by\n",
      "                    dataset-dependent averages.\n",
      "  warnings.warn(f\"{self.__class__.__name__}(impute_nan=False):\\n\" + IMPUTE_NAN_WARNING)\n"
     ]
    }
   ],
   "source": [
    "import pandas as pd\n",
    "import sys\n",
    "sys.path.append('../')\n",
    "from evaluation.generated_dataset import GeneratedDataset"
   ]
  },
  {
   "cell_type": "code",
   "execution_count": 2,
   "id": "e1233a7a",
   "metadata": {},
   "outputs": [],
   "source": [
    "mp_20_source_sample = GeneratedDataset.from_transformations((\"split\", \"test\", \"1k-sample\")).data"
   ]
  },
  {
   "cell_type": "code",
   "execution_count": 3,
   "id": "83b65691",
   "metadata": {},
   "outputs": [],
   "source": [
    "# Sample is due to a bug when generating the dataset\n",
    "permuted_sample = mp_20_source_sample.sample(1000, random_state=42).reset_index(drop=True)\n",
    "permuted_to_initial_index = pd.Series(mp_20_source_sample.index, index=permuted_sample.index)\n",
    "diffcsp_sample = GeneratedDataset.from_cache((\"split\", \"test\", \"1k-sample\", \"DiffCSP++\")).data\n",
    "#diffcsp_sample.index = permuted_sample.index.map(permuted_to_initial_index)"
   ]
  },
  {
   "cell_type": "code",
   "execution_count": 4,
   "id": "2285256b",
   "metadata": {},
   "outputs": [
    {
     "name": "stdout",
     "output_type": "stream",
     "text": [
      "Matching spacegroup numbers: 45 out of 1000\n"
     ]
    }
   ],
   "source": [
    "matching_sg = (diffcsp_sample.spacegroup_number == permuted_sample.spacegroup_number)\n",
    "print(f\"Matching spacegroup numbers: {matching_sg.sum()} out of {len(matching_sg)}\")"
   ]
  },
  {
   "cell_type": "code",
   "execution_count": 5,
   "id": "72bf8b42",
   "metadata": {},
   "outputs": [
    {
     "name": "stdout",
     "output_type": "stream",
     "text": [
      "Matching structures: 1 out of 1000\n"
     ]
    }
   ],
   "source": [
    "from pymatgen.analysis.structure_matcher import StructureMatcher\n",
    "sm = StructureMatcher()\n",
    "structure_matches = pd.Series(\n",
    "    [sm.fit(s1, s2) for s1, s2 in zip(diffcsp_sample.structure, mp_20_source_sample.structure)],\n",
    "    index=diffcsp_sample.index\n",
    ")\n",
    "\n",
    "print(f\"Matching structures: {structure_matches.sum()} out of {len(structure_matches)}\")"
   ]
  }
 ],
 "metadata": {
  "kernelspec": {
   "display_name": "wyckofftransformer-FeCwefly-py3.12",
   "language": "python",
   "name": "python3"
  },
  "language_info": {
   "codemirror_mode": {
    "name": "ipython",
    "version": 3
   },
   "file_extension": ".py",
   "mimetype": "text/x-python",
   "name": "python",
   "nbconvert_exporter": "python",
   "pygments_lexer": "ipython3",
   "version": "3.12.3"
  }
 },
 "nbformat": 4,
 "nbformat_minor": 5
}
