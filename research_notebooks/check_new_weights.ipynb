{
 "cells": [
  {
   "cell_type": "code",
   "execution_count": 2,
   "id": "1588213e",
   "metadata": {},
   "outputs": [
    {
     "name": "stderr",
     "output_type": "stream",
     "text": [
      "/home/kna/.cache/pypoetry/virtualenvs/wyckofftransformer-test-RPZEUasj-py3.12/lib/python3.12/site-packages/matminer/utils/data.py:326: UserWarning: MagpieData(impute_nan=False):\n",
      "In a future release, impute_nan will be set to True by default.\n",
      "                    This means that features that are missing or are NaNs for elements\n",
      "                    from the data source will be replaced by the average of that value\n",
      "                    over the available elements.\n",
      "                    This avoids NaNs after featurization that are often replaced by\n",
      "                    dataset-dependent averages.\n",
      "  warnings.warn(f\"{self.__class__.__name__}(impute_nan=False):\\n\" + IMPUTE_NAN_WARNING)\n"
     ]
    }
   ],
   "source": [
    "import sys\n",
    "sys.path.append(\"..\")\n",
    "from evaluation.generated_dataset import GeneratedDataset\n",
    "from evaluation.novelty import NoveltyFilter, filter_by_unique_structure"
   ]
  },
  {
   "cell_type": "code",
   "execution_count": 11,
   "id": "70e76acf",
   "metadata": {},
   "outputs": [],
   "source": [
    "datasets = {\n",
    "    \"old\": GeneratedDataset.from_cache((\"WyckoffTransformer\",)),\n",
    "    \"new\": GeneratedDataset.from_cache((\"WyckoffTransformerNew\",)),\n",
    "}"
   ]
  },
  {
   "cell_type": "code",
   "execution_count": 10,
   "id": "87d01f94",
   "metadata": {},
   "outputs": [],
   "source": [
    "import pandas as pd\n",
    "novelty_reference = pd.concat([\n",
    "    GeneratedDataset.from_cache((\"split\", part)).data for part in ['train', 'val']],\n",
    "    axis=0, verify_integrity=True)"
   ]
  },
  {
   "cell_type": "code",
   "execution_count": 15,
   "id": "f646ca0c",
   "metadata": {},
   "outputs": [
    {
     "name": "stdout",
     "output_type": "stream",
     "text": [
      "Processing dataset: old\n",
      "Unique structures in old dataset: 9887\n",
      "Novel structures in old dataset: 9009\n",
      "Processing dataset: new\n",
      "Unique structures in new dataset: 9911\n",
      "Novel structures in new dataset: 9131\n"
     ]
    }
   ],
   "source": [
    "novelty_filter = NoveltyFilter(novelty_reference)\n",
    "for name, dataset in datasets.items():\n",
    "    print(\"Processing dataset:\", name)\n",
    "    unique_structures = filter_by_unique_structure(dataset.data)\n",
    "    print(f\"Unique structures in {name} dataset: {len(unique_structures)}\")\n",
    "    novel_structures = novelty_filter.get_novel(dataset.data)\n",
    "    print(f\"Novel structures in {name} dataset: {len(novel_structures)}\")"
   ]
  }
 ],
 "metadata": {
  "kernelspec": {
   "display_name": "wyckofftransformer-test-RPZEUasj-py3.12",
   "language": "python",
   "name": "python3"
  },
  "language_info": {
   "codemirror_mode": {
    "name": "ipython",
    "version": 3
   },
   "file_extension": ".py",
   "mimetype": "text/x-python",
   "name": "python",
   "nbconvert_exporter": "python",
   "pygments_lexer": "ipython3",
   "version": "3.12.3"
  }
 },
 "nbformat": 4,
 "nbformat_minor": 5
}
