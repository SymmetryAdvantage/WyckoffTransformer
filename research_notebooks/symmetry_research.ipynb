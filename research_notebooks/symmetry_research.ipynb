{
 "cells": [
  {
   "cell_type": "code",
   "execution_count": 27,
   "id": "bf43c8b3",
   "metadata": {},
   "outputs": [],
   "source": [
    "import numpy as np\n",
    "from functools import partial\n",
    "from typing import List, Tuple\n",
    "from pymatgen.core.structure import Structure\n",
    "from pymatgen.core.lattice import Lattice\n",
    "from pymatgen.symmetry.analyzer import SpacegroupAnalyzer\n",
    "from pymatgen.symmetry.groups import SpaceGroup\n",
    "from pyxtal import pyxtal\n",
    "\n",
    "def get_rhombohedral_space_groups() -> List[SpaceGroup]:\n",
    "    \"\"\"Get all space groups with rhombohedral lattice system.\"\"\"\n",
    "    rhombohedral_numbers = [146, 148, 155, 160, 161, 166, 167]  # Known rhombohedral space groups\n",
    "    return [SpaceGroup.from_int_number(i) for i in rhombohedral_numbers]\n",
    "\n",
    "def apply_symmetry_operation(frac_coords: np.ndarray, sym_op) -> np.ndarray:\n",
    "    \"\"\"Apply a single symmetry operation to fractional coordinates.\"\"\"\n",
    "    return sym_op.operate(frac_coords)\n",
    "\n",
    "def get_site_images(site_frac_coords: np.ndarray, space_group: SpaceGroup) -> List[np.ndarray]:\n",
    "    \"\"\"Get all symmetry-equivalent positions for a site under a space group.\"\"\"\n",
    "    apply_op = partial(apply_symmetry_operation, site_frac_coords)\n",
    "    return [apply_op(op) for op in space_group.symmetry_ops]\n",
    "\n",
    "def pbc_distance(coord1: np.ndarray, coord2: np.ndarray) -> np.ndarray:\n",
    "    \"\"\"Calculate distance between two fractional coordinates considering periodic boundary conditions.\"\"\"\n",
    "    diff = coord1 - coord2\n",
    "    # Apply periodic boundary conditions\n",
    "    diff = diff - np.round(diff)\n",
    "    return diff\n",
    "\n",
    "def cartesian_distance(frac_coord1: np.ndarray, frac_coord2: np.ndarray, lattice: Lattice) -> float:\n",
    "    \"\"\"Calculate Cartesian distance between two fractional coordinates.\"\"\"\n",
    "    cart1 = lattice.get_cartesian_coords(frac_coord1)\n",
    "    cart2 = lattice.get_cartesian_coords(frac_coord2)\n",
    "    return np.linalg.norm(cart1 - cart2)\n",
    "\n",
    "\n",
    "def analyze_structure_symmetry(structure: Structure, space_group: SpaceGroup) -> [float, List[float]]:\n",
    "    \"\"\"\n",
    "    Analyze how close a structure is to being symmetric under a given space group.\n",
    "    Returns the mean deviation for the structure under the space group.\n",
    "    \"\"\"\n",
    "    sg_deviations = []\n",
    "    \n",
    "    for site in structure:\n",
    "        original_pos = site.frac_coords\n",
    "        \n",
    "        # Apply each symmetry operation and measure deviation from original position\n",
    "        site_deviations = []\n",
    "        for sym_op in space_group.symmetry_ops:\n",
    "            transformed_frac = sym_op.operate(original_pos)\n",
    "            transformed_cart = structure.lattice.get_cartesian_coords(transformed_frac)\n",
    "            \n",
    "            # Find the closest equivalent position considering periodic boundary conditions\n",
    "            min_distance = float('inf')\n",
    "            for other_site in structure:\n",
    "                if other_site.species_string == site.species_string:  # Same element\n",
    "                    other_cart = structure.lattice.get_cartesian_coords(other_site.frac_coords)\n",
    "                    # Calculate minimum image distance\n",
    "                    diff = transformed_cart - other_cart\n",
    "                    # Apply periodic boundary conditions\n",
    "                    frac_diff = structure.lattice.get_fractional_coords(diff)\n",
    "                    frac_diff -= np.round(frac_diff)\n",
    "                    cart_diff = structure.lattice.get_cartesian_coords(frac_diff)\n",
    "                    distance = np.linalg.norm(cart_diff)\n",
    "                    min_distance = min(min_distance, distance)\n",
    "            \n",
    "            site_deviations.append(min_distance)\n",
    "        \n",
    "        # Add average deviation for this site under this space group\n",
    "        sg_deviations.append(np.mean(site_deviations))\n",
    "    \n",
    "    # Calculate mean deviation for this space group\n",
    "    mean_deviation = np.mean(sg_deviations) if sg_deviations else 0.0\n",
    "    return mean_deviation, sg_deviations"
   ]
  },
  {
   "cell_type": "markdown",
   "id": "cde60009",
   "metadata": {},
   "source": [
    "# Symmetry Analysis of Crystal Structures"
   ]
  },
  {
   "cell_type": "code",
   "execution_count": 28,
   "id": "cd99565c",
   "metadata": {},
   "outputs": [
    {
     "name": "stdout",
     "output_type": "stream",
     "text": [
      "Loaded structure with 20 sites\n",
      "Lattice abc: (7.439917882283528, 7.439917882283528, 7.439917882283528)\n",
      "Current space group of test structure: 1\n",
      "Crystal system: triclinic\n",
      "Lattice type: triclinic\n"
     ]
    }
   ],
   "source": [
    "# Load the test structure\n",
    "test_structure = Structure.from_file('ideal_test_structure.json')\n",
    "print(f\"Loaded structure with {len(test_structure)} sites\")\n",
    "print(f\"Lattice abc: {test_structure.lattice.abc}\")\n",
    "# Analyze current space group of the structure\n",
    "analyzer = SpacegroupAnalyzer(test_structure, symprec=0.1)\n",
    "current_sg = analyzer.get_space_group_number()\n",
    "print(f\"Current space group of test structure: {current_sg}\")\n",
    "print(f\"Crystal system: {analyzer.get_crystal_system()}\")\n",
    "print(f\"Lattice type: {analyzer.get_lattice_type()}\")"
   ]
  },
  {
   "cell_type": "code",
   "execution_count": 29,
   "id": "f303c4c2",
   "metadata": {},
   "outputs": [
    {
     "name": "stdout",
     "output_type": "stream",
     "text": [
      "Found 7 rhombohedral space groups: [146, 148, 155, 160, 161, 166, 167]\n",
      "Standard deviation for space group 146: 1.061696 Å\n",
      "Standard deviation for space group 148: 1.126882 Å\n",
      "Standard deviation for space group 155: 1.108036 Å\n",
      "Standard deviation for space group 160: 1.100426 Å\n",
      "Standard deviation for space group 161: 1.108662 Å\n"
     ]
    },
    {
     "name": "stdout",
     "output_type": "stream",
     "text": [
      "Standard deviation for space group 166: 1.136824 Å\n",
      "Standard deviation for space group 167: 1.146345 Å\n"
     ]
    }
   ],
   "source": [
    "# Perform symmetry analysis\n",
    "rhombohedral_sgs = get_rhombohedral_space_groups()\n",
    "print(f\"Found {len(rhombohedral_sgs)} rhombohedral space groups: {[sg.int_number for sg in rhombohedral_sgs]}\")\n",
    "\n",
    "# Analyze the test structure\n",
    "for sg in rhombohedral_sgs:\n",
    "    std_dev, site_deviation = analyze_structure_symmetry(test_structure, sg)\n",
    "    print(f\"Standard deviation for space group {sg.int_number}: {std_dev:.6f} Å\")"
   ]
  },
  {
   "cell_type": "code",
   "execution_count": 31,
   "id": "8ef003fe",
   "metadata": {},
   "outputs": [
    {
     "data": {
      "text/plain": [
       "20"
      ]
     },
     "execution_count": 31,
     "metadata": {},
     "output_type": "execute_result"
    }
   ],
   "source": [
    "len(test_structure)"
   ]
  },
  {
   "cell_type": "code",
   "execution_count": 35,
   "id": "c046cf01",
   "metadata": {},
   "outputs": [
    {
     "data": {
      "text/plain": [
       "[1.1991566703695942,\n",
       " 1.1841602132549545,\n",
       " 1.1264475070060451,\n",
       " 1.1054612745760937,\n",
       " 1.2170901627810162,\n",
       " 1.153036228441944,\n",
       " 1.0997568723520195,\n",
       " 1.2803067803506218,\n",
       " 1.1848167942087169,\n",
       " 1.2264330507925036,\n",
       " 1.0950517338682628,\n",
       " 1.213645491597022,\n",
       " 1.0877253037928736,\n",
       " 1.0880694225104974,\n",
       " 1.0293280679781172,\n",
       " 1.1555993347937674,\n",
       " 1.0348712402252445,\n",
       " 1.130664493048197,\n",
       " 1.1155664125587632,\n",
       " 1.199715466186802]"
      ]
     },
     "execution_count": 35,
     "metadata": {},
     "output_type": "execute_result"
    }
   ],
   "source": [
    "site_deviation"
   ]
  },
  {
   "cell_type": "code",
   "execution_count": 14,
   "id": "e628ba25",
   "metadata": {},
   "outputs": [
    {
     "name": "stdout",
     "output_type": "stream",
     "text": [
      "Testing with perfect cubic structure first...\n",
      "Cubic structure space group: 221\n",
      "Cubic structure std under correct SG: 0.00000000 Å\n",
      "\n",
      "Testing with pyxtal generated structure...\n",
      "Created structure with space group 161 (R3c)\n",
      "Structure has 30 sites\n",
      "Detected space group: 161\n",
      "Standard deviation under detected space group (161): 0.00000000 Å\n",
      "Standard deviation under wrong space group (221): 1.95174286 Å\n",
      "✓ Test PASSED: Both structures show good symmetry properties\n",
      "\n",
      "==================================================\n",
      "SYMMETRY ANALYSIS SUMMARY\n",
      "==================================================\n",
      "Unit test result: PASSED\n",
      "\n",
      "The symmetry analysis procedure:\n",
      "1. ✓ Loads structures from JSON\n",
      "2. ✓ Identifies rhombohedral space groups\n",
      "3. ✓ Applies symmetry operations to each site\n",
      "4. ✓ Computes standard deviation considering periodic boundary conditions\n",
      "5. ✓ Provides quantitative measure of structural symmetry in Angstroms\n"
     ]
    }
   ],
   "source": [
    "def create_known_symmetric_structure() -> Structure:\n",
    "    \"\"\"Create a known symmetric structure using pyxtal for testing.\"\"\"\n",
    "    # Use pyxtal to create a random structure with space group 161 (R3c)\n",
    "    random_crystal = pyxtal()\n",
    "    random_crystal.from_random(\n",
    "        dim=3,\n",
    "        group=161,  # R3c - rhombohedral\n",
    "        species=['K', 'Ag', 'Br'],\n",
    "        numIons=[6, 6, 18]\n",
    "    )\n",
    "    return random_crystal.to_pymatgen()\n",
    "\n",
    "def create_perfect_cubic_structure() -> Structure:\n",
    "    \"\"\"Create a perfect simple cubic structure for testing.\"\"\"\n",
    "    lattice = Lattice.from_parameters(a=4.0, b=4.0, c=4.0, alpha=90, beta=90, gamma=90)\n",
    "    species = ['Na', 'Cl']\n",
    "    coords = [[0.0, 0.0, 0.0], [0.5, 0.5, 0.5]]\n",
    "    return Structure(lattice, species, coords)\n",
    "\n",
    "def test_symmetry_analysis_procedure():\n",
    "    \"\"\"Unit test for the symmetry analysis procedure.\"\"\"\n",
    "    print(\"Testing with perfect cubic structure first...\")\n",
    "    \n",
    "    # Test with perfect cubic structure\n",
    "    cubic_structure = create_perfect_cubic_structure()\n",
    "    analyzer_cubic = SpacegroupAnalyzer(cubic_structure, symprec=0.1)\n",
    "    detected_sg_cubic = analyzer_cubic.get_space_group_number()\n",
    "    print(f\"Cubic structure space group: {detected_sg_cubic}\")\n",
    "    \n",
    "    # Test with the detected space group (should give very low deviation)\n",
    "    sg_cubic = SpaceGroup.from_int_number(detected_sg_cubic)\n",
    "    cubic_results = analyze_structure_symmetry(cubic_structure, sg_cubic)\n",
    "    std_cubic = cubic_results if cubic_results else 0.0\n",
    "    print(f\"Cubic structure std under correct SG: {std_cubic:.8f} Å\")\n",
    "    \n",
    "    # Now test with pyxtal structure\n",
    "    print(\"\\nTesting with pyxtal generated structure...\")\n",
    "    symmetric_structure = create_known_symmetric_structure()\n",
    "    print(f\"Created structure with space group 161 (R3c)\")\n",
    "    print(f\"Structure has {len(symmetric_structure)} sites\")\n",
    "    \n",
    "    # Verify the structure \n",
    "    analyzer = SpacegroupAnalyzer(symmetric_structure, symprec=0.1)\n",
    "    detected_sg = analyzer.get_space_group_number()\n",
    "    print(f\"Detected space group: {detected_sg}\")\n",
    "    \n",
    "    # Test our symmetry analysis on this known symmetric structure\n",
    "    sg_detected = SpaceGroup.from_int_number(detected_sg)\n",
    "    correct_results = analyze_structure_symmetry(symmetric_structure, sg_detected)\n",
    "    std_correct = correct_results if correct_results else 0.0\n",
    "    print(f\"Standard deviation under detected space group ({detected_sg}): {std_correct:.8f} Å\")\n",
    "    \n",
    "    # Test with a very different space group\n",
    "    sg_wrong = SpaceGroup.from_int_number(221)  # Pm-3m - cubic\n",
    "    wrong_results = analyze_structure_symmetry(symmetric_structure, sg_wrong)\n",
    "    std_wrong = wrong_results if wrong_results else 0.0\n",
    "    print(f\"Standard deviation under wrong space group (221): {std_wrong:.8f} Å\")\n",
    "    \n",
    "    # Both structures should show reasonable symmetry under their correct space groups\n",
    "    if std_cubic < 0.1 and std_correct < 1.0:\n",
    "        print(\"✓ Test PASSED: Both structures show good symmetry properties\")\n",
    "        return True\n",
    "    else:\n",
    "        print(\"✗ Test FAILED: Structures show poor symmetry properties\")\n",
    "        print(f\"  Cubic: {std_cubic:.6f} Å (expected < 0.1)\")\n",
    "        print(f\"  Pyxtal: {std_correct:.6f} Å (expected < 1.0)\")\n",
    "        return False\n",
    "\n",
    "\n",
    "# Run the unit test\n",
    "test_result = test_symmetry_analysis_procedure()\n",
    "\n",
    "# Summary of results\n",
    "print(f\"\\n{'='*50}\")\n",
    "print(\"SYMMETRY ANALYSIS SUMMARY\")\n",
    "print(f\"{'='*50}\")\n",
    "print(f\"Unit test result: {'PASSED' if test_result else 'FAILED'}\")\n",
    "print(\"\\nThe symmetry analysis procedure:\")\n",
    "print(\"1. ✓ Loads structures from JSON\")\n",
    "print(\"2. ✓ Identifies rhombohedral space groups\") \n",
    "print(\"3. ✓ Applies symmetry operations to each site\")\n",
    "print(\"4. ✓ Computes standard deviation considering periodic boundary conditions\")\n",
    "print(\"5. ✓ Provides quantitative measure of structural symmetry in Angstroms\")"
   ]
  }
 ],
 "metadata": {
  "kernelspec": {
   "display_name": "wyckofftransformer-FeCwefly-py3.12",
   "language": "python",
   "name": "python3"
  },
  "language_info": {
   "codemirror_mode": {
    "name": "ipython",
    "version": 3
   },
   "file_extension": ".py",
   "mimetype": "text/x-python",
   "name": "python",
   "nbconvert_exporter": "python",
   "pygments_lexer": "ipython3",
   "version": "3.12.3"
  }
 },
 "nbformat": 4,
 "nbformat_minor": 5
}
