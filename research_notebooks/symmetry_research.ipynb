{
 "cells": [
  {
   "cell_type": "code",
   "execution_count": 1,
   "id": "bf43c8b3",
   "metadata": {},
   "outputs": [],
   "source": [
    "import numpy as np\n",
    "from functools import partial\n",
    "from typing import List, Tuple\n",
    "from pymatgen.core.structure import Structure\n",
    "from pymatgen.core.lattice import Lattice\n",
    "from pymatgen.symmetry.analyzer import SpacegroupAnalyzer\n",
    "from pymatgen.symmetry.groups import SpaceGroup\n",
    "from pyxtal import pyxtal\n",
    "\n",
    "def get_rhombohedral_space_groups() -> List[SpaceGroup]:\n",
    "    \"\"\"Get all space groups with rhombohedral lattice system.\"\"\"\n",
    "    rhombohedral_numbers = [146, 148, 155, 160, 161, 166, 167]  # Known rhombohedral space groups\n",
    "    return [SpaceGroup.from_int_number(i) for i in rhombohedral_numbers]\n",
    "\n",
    "def apply_symmetry_operation(frac_coords: np.ndarray, sym_op) -> np.ndarray:\n",
    "    \"\"\"Apply a single symmetry operation to fractional coordinates.\"\"\"\n",
    "    return sym_op.operate(frac_coords)\n",
    "\n",
    "def get_site_images(site_frac_coords: np.ndarray, space_group: SpaceGroup) -> List[np.ndarray]:\n",
    "    \"\"\"Get all symmetry-equivalent positions for a site under a space group.\"\"\"\n",
    "    apply_op = partial(apply_symmetry_operation, site_frac_coords)\n",
    "    return [apply_op(op) for op in space_group.symmetry_ops]\n",
    "\n",
    "def pbc_distance(coord1: np.ndarray, coord2: np.ndarray) -> np.ndarray:\n",
    "    \"\"\"Calculate distance between two fractional coordinates considering periodic boundary conditions.\"\"\"\n",
    "    diff = coord1 - coord2\n",
    "    # Apply periodic boundary conditions\n",
    "    diff = diff - np.round(diff)\n",
    "    return diff\n",
    "\n",
    "def cartesian_distance(frac_coord1: np.ndarray, frac_coord2: np.ndarray, lattice: Lattice) -> float:\n",
    "    \"\"\"Calculate Cartesian distance between two fractional coordinates.\"\"\"\n",
    "    cart1 = lattice.get_cartesian_coords(frac_coord1)\n",
    "    cart2 = lattice.get_cartesian_coords(frac_coord2)\n",
    "    return np.linalg.norm(cart1 - cart2)\n",
    "\n",
    "\n",
    "def analyze_structure_symmetry(structure: Structure, space_group: SpaceGroup) -> [float, List[float]]:\n",
    "    \"\"\"\n",
    "    Analyze how close a structure is to being symmetric under a given space group.\n",
    "    Returns the mean deviation for the structure under the space group.\n",
    "    \"\"\"\n",
    "    sg_deviations = []\n",
    "    \n",
    "    for site in structure:\n",
    "        original_pos = site.frac_coords\n",
    "        \n",
    "        # Apply each symmetry operation and measure deviation from original position\n",
    "        site_deviations = []\n",
    "        for sym_op in space_group.symmetry_ops:\n",
    "            transformed_frac = sym_op.operate(original_pos)\n",
    "            transformed_cart = structure.lattice.get_cartesian_coords(transformed_frac)\n",
    "            \n",
    "            # Find the closest equivalent position considering periodic boundary conditions\n",
    "            min_distance = float('inf')\n",
    "            for other_site in structure:\n",
    "                if other_site.species_string == site.species_string:  # Same element\n",
    "                    other_cart = structure.lattice.get_cartesian_coords(other_site.frac_coords)\n",
    "                    # Calculate minimum image distance\n",
    "                    diff = transformed_cart - other_cart\n",
    "                    # Apply periodic boundary conditions\n",
    "                    frac_diff = structure.lattice.get_fractional_coords(diff)\n",
    "                    frac_diff -= np.round(frac_diff)\n",
    "                    cart_diff = structure.lattice.get_cartesian_coords(frac_diff)\n",
    "                    distance = np.linalg.norm(cart_diff)\n",
    "                    min_distance = min(min_distance, distance)\n",
    "            \n",
    "            site_deviations.append(min_distance)\n",
    "        \n",
    "        # Add average deviation for this site under this space group\n",
    "        sg_deviations.append(np.mean(site_deviations))\n",
    "    \n",
    "    # Calculate mean deviation for this space group\n",
    "    mean_deviation = np.mean(sg_deviations) if sg_deviations else 0.0\n",
    "    return mean_deviation, sg_deviations"
   ]
  },
  {
   "cell_type": "markdown",
   "id": "cde60009",
   "metadata": {},
   "source": [
    "# Symmetry Analysis of Crystal Structures"
   ]
  },
  {
   "cell_type": "code",
   "execution_count": 2,
   "id": "cd99565c",
   "metadata": {},
   "outputs": [
    {
     "name": "stdout",
     "output_type": "stream",
     "text": [
      "Loaded structure with 20 sites\n",
      "Lattice abc: (7.439917882283528, 7.439917882283528, 7.439917882283528)\n",
      "Current space group of test structure: 1\n",
      "Crystal system: triclinic\n",
      "Lattice type: triclinic\n"
     ]
    }
   ],
   "source": [
    "# Load the test structure\n",
    "test_structure = Structure.from_file('ideal_test_structure.json')\n",
    "print(f\"Loaded structure with {len(test_structure)} sites\")\n",
    "print(f\"Lattice abc: {test_structure.lattice.abc}\")\n",
    "# Analyze current space group of the structure\n",
    "analyzer = SpacegroupAnalyzer(test_structure, symprec=0.1)\n",
    "current_sg = analyzer.get_space_group_number()\n",
    "print(f\"Current space group of test structure: {current_sg}\")\n",
    "print(f\"Crystal system: {analyzer.get_crystal_system()}\")\n",
    "print(f\"Lattice type: {analyzer.get_lattice_type()}\")"
   ]
  },
  {
   "cell_type": "code",
   "execution_count": 3,
   "id": "f303c4c2",
   "metadata": {},
   "outputs": [
    {
     "name": "stdout",
     "output_type": "stream",
     "text": [
      "Found 7 rhombohedral space groups: [146, 148, 155, 160, 161, 166, 167]\n",
      "Standard deviation for space group 146: 1.061696 Å\n",
      "Standard deviation for space group 148: 1.126882 Å\n",
      "Standard deviation for space group 155: 1.108036 Å\n",
      "Standard deviation for space group 160: 1.100426 Å\n",
      "Standard deviation for space group 161: 1.108662 Å\n",
      "Standard deviation for space group 166: 1.136824 Å\n",
      "Standard deviation for space group 167: 1.146345 Å\n"
     ]
    }
   ],
   "source": [
    "# Perform symmetry analysis\n",
    "rhombohedral_sgs = get_rhombohedral_space_groups()\n",
    "print(f\"Found {len(rhombohedral_sgs)} rhombohedral space groups: {[sg.int_number for sg in rhombohedral_sgs]}\")\n",
    "\n",
    "# Analyze the test structure\n",
    "for sg in rhombohedral_sgs:\n",
    "    std_dev, site_deviation = analyze_structure_symmetry(test_structure, sg)\n",
    "    print(f\"Standard deviation for space group {sg.int_number}: {std_dev:.6f} Å\")"
   ]
  },
  {
   "cell_type": "code",
   "execution_count": 4,
   "id": "8ef003fe",
   "metadata": {},
   "outputs": [
    {
     "data": {
      "text/plain": [
       "(1.1463451260346529,\n",
       " [1.1991566703695942,\n",
       "  1.1841602132549545,\n",
       "  1.1264475070060451,\n",
       "  1.1054612745760937,\n",
       "  1.2170901627810162,\n",
       "  1.153036228441944,\n",
       "  1.0997568723520195,\n",
       "  1.2803067803506218,\n",
       "  1.1848167942087169,\n",
       "  1.2264330507925036,\n",
       "  1.0950517338682628,\n",
       "  1.213645491597022,\n",
       "  1.0877253037928736,\n",
       "  1.0880694225104974,\n",
       "  1.0293280679781172,\n",
       "  1.1555993347937674,\n",
       "  1.0348712402252445,\n",
       "  1.130664493048197,\n",
       "  1.1155664125587632,\n",
       "  1.199715466186802])"
      ]
     },
     "execution_count": 4,
     "metadata": {},
     "output_type": "execute_result"
    }
   ],
   "source": [
    "analyze_structure_symmetry(test_structure, SpaceGroup.from_int_number(167))"
   ]
  },
  {
   "cell_type": "code",
   "execution_count": 13,
   "id": "01ac82d1",
   "metadata": {},
   "outputs": [
    {
     "data": {
      "text/plain": [
       "------Crystal from Random------\n",
       "Dimension: 3\n",
       "Group: I4/mcm (140)\n",
       "  2.5314,   2.5314,  17.4328,  90.0000,  90.0000,  90.0000, tetragonal\n",
       "Wyckoff sites:\n",
       "\t H @ [ 0.0000  0.5000  0.7612], WP [8g] Site [2.mm]\n",
       "\t H @ [ 0.0000  0.0000  0.2500], WP [4a] Site [422]\n",
       "\t H @ [ 0.0000  0.5000  0.0000], WP [4d] Site [m.mm]"
      ]
     },
     "execution_count": 13,
     "metadata": {},
     "output_type": "execute_result"
    }
   ],
   "source": [
    "s = pyxtal()\n",
    "s.from_random(dim=3, group=140, species=[\"H\"], numIons=[16])"
   ]
  },
  {
   "cell_type": "code",
   "execution_count": 23,
   "id": "5f5bc26a",
   "metadata": {},
   "outputs": [
    {
     "name": "stdout",
     "output_type": "stream",
     "text": [
      "New cubic structure created.\n",
      "Lattice abc: (7.439917882283528, 7.439917882283528, 7.439917882283528)\n",
      "Lattice angles: (90.0, 90.0, 90.0)\n"
     ]
    }
   ],
   "source": [
    "# Calculate the average lattice parameter from the original structure\n",
    "avg_lattice_param = np.mean(test_structure.lattice.abc)\n",
    "\n",
    "# Create a new cubic lattice\n",
    "cubic_lattice = Lattice.cubic(avg_lattice_param)\n",
    "\n",
    "# Create a new structure with the cubic lattice but the same fractional coordinates\n",
    "cubic_test_structure = Structure(cubic_lattice, test_structure.species, test_structure.frac_coords)\n",
    "\n",
    "# Print information about the new structure to verify\n",
    "print(\"New cubic structure created.\")\n",
    "print(f\"Lattice abc: {cubic_test_structure.lattice.abc}\")\n",
    "print(f\"Lattice angles: {cubic_test_structure.lattice.angles}\")"
   ]
  },
  {
   "cell_type": "code",
   "execution_count": 33,
   "id": "988f4fb8",
   "metadata": {},
   "outputs": [
    {
     "data": {
      "text/plain": [
       "Structure Summary\n",
       "Lattice\n",
       "    abc : 7.439917882283528 7.439917882283528 7.439917882283528\n",
       " angles : 90.0 90.0 90.0\n",
       " volume : 411.8171476168189\n",
       "      A : 7.439917882283528 0.0 0.0\n",
       "      B : 0.0 7.439917882283528 0.0\n",
       "      C : 0.0 0.0 7.439917882283528\n",
       "    pbc : True True True\n",
       "PeriodicSite: H (5.992, 6.018, 3.53) [0.8054, 0.8089, 0.4745]\n",
       "PeriodicSite: H (0.8188, 4.571, 3.539) [0.1101, 0.6144, 0.4757]\n",
       "PeriodicSite: H (4.142, 4.149, 7.255) [0.5567, 0.5577, 0.9751]\n",
       "PeriodicSite: H (2.275, 0.4453, 5.389) [0.3058, 0.05986, 0.7243]\n",
       "PeriodicSite: H (5.988, 4.564, 5.763) [0.8049, 0.6134, 0.7746]\n",
       "PeriodicSite: H (5.968, 2.288, 1.182) [0.8022, 0.3075, 0.1588]\n",
       "PeriodicSite: H (2.303, 4.141, 1.672) [0.3096, 0.5566, 0.2247]\n",
       "PeriodicSite: H (2.288, 2.302, 3.533) [0.3075, 0.3094, 0.4748]\n",
       "PeriodicSite: H (3.755, 2.292, 1.209) [0.5046, 0.3081, 0.1625]\n",
       "PeriodicSite: H (5.989, 2.302, 3.525) [0.805, 0.3094, 0.4738]\n",
       "PeriodicSite: H (0.8051, 2.299, 5.76) [0.1082, 0.3091, 0.7741]\n",
       "PeriodicSite: H (4.142, 6.019, 5.39) [0.5567, 0.809, 0.7245]\n",
       "PeriodicSite: H (0.4242, 4.153, 7.261) [0.05701, 0.5583, 0.976]\n",
       "PeriodicSite: H (3.751, 0.06178, 3.529) [0.5042, 0.008303, 0.4743]\n",
       "PeriodicSite: H (0.417, 0.4257, 3.53) [0.05605, 0.05722, 0.4744]\n",
       "PeriodicSite: H (5.964, 2.289, 6.604) [0.8016, 0.3077, 0.8877]\n",
       "PeriodicSite: H (0.4186, 0.437, 7.247) [0.05626, 0.05873, 0.974]\n",
       "PeriodicSite: H (5.973, 0.05542, 1.234) [0.8028, 0.007449, 0.1658]\n",
       "PeriodicSite: H (0.4173, 6.012, 1.667) [0.05609, 0.8081, 0.2241]\n",
       "PeriodicSite: H (2.29, 6.013, 7.259) [0.3079, 0.8083, 0.9756]"
      ]
     },
     "execution_count": 33,
     "metadata": {},
     "output_type": "execute_result"
    }
   ],
   "source": [
    "cubic_test_structure"
   ]
  },
  {
   "cell_type": "code",
   "execution_count": 34,
   "id": "66c4d278",
   "metadata": {},
   "outputs": [
    {
     "data": {
      "text/plain": [
       "1"
      ]
     },
     "execution_count": 34,
     "metadata": {},
     "output_type": "execute_result"
    }
   ],
   "source": [
    "a = SpacegroupAnalyzer(cubic_test_structure)\n",
    "a.get_space_group_number()"
   ]
  },
  {
   "cell_type": "code",
   "execution_count": 29,
   "id": "b7c05538",
   "metadata": {},
   "outputs": [
    {
     "data": {
      "text/plain": [
       "Structure Summary\n",
       "Lattice\n",
       "    abc : 7.439917882283528 7.439917882283528 7.439917882283528\n",
       " angles : 90.0 90.0 90.0\n",
       " volume : 411.8171476168189\n",
       "      A : 7.439917882283528 0.0 0.0\n",
       "      B : 0.0 7.439917882283528 0.0\n",
       "      C : 0.0 0.0 7.439917882283528\n",
       "    pbc : True True True\n",
       "PeriodicSite: H (5.992, 6.018, 3.53) [0.8054, 0.8089, 0.4745]\n",
       "PeriodicSite: H (0.8188, 4.571, 3.539) [0.1101, 0.6144, 0.4757]\n",
       "PeriodicSite: H (4.142, 4.149, 7.255) [0.5567, 0.5577, 0.9751]\n",
       "PeriodicSite: H (2.275, 0.4453, 5.389) [0.3058, 0.05986, 0.7243]\n",
       "PeriodicSite: H (5.988, 4.564, 5.763) [0.8049, 0.6134, 0.7746]\n",
       "PeriodicSite: H (5.968, 2.288, 1.182) [0.8022, 0.3075, 0.1588]\n",
       "PeriodicSite: H (2.303, 4.141, 1.672) [0.3096, 0.5566, 0.2247]\n",
       "PeriodicSite: H (2.288, 2.302, 3.533) [0.3075, 0.3094, 0.4748]\n",
       "PeriodicSite: H (3.755, 2.292, 1.209) [0.5046, 0.3081, 0.1625]\n",
       "PeriodicSite: H (5.989, 2.302, 3.525) [0.805, 0.3094, 0.4738]\n",
       "PeriodicSite: H (0.8051, 2.299, 5.76) [0.1082, 0.3091, 0.7741]\n",
       "PeriodicSite: H (4.142, 6.019, 5.39) [0.5567, 0.809, 0.7245]\n",
       "PeriodicSite: H (0.4242, 4.153, 7.261) [0.05701, 0.5583, 0.976]\n",
       "PeriodicSite: H (3.751, 0.06178, 3.529) [0.5042, 0.008303, 0.4743]\n",
       "PeriodicSite: H (0.417, 0.4257, 3.53) [0.05605, 0.05722, 0.4744]\n",
       "PeriodicSite: H (5.964, 2.289, 6.604) [0.8016, 0.3077, 0.8877]\n",
       "PeriodicSite: H (0.4186, 0.437, 7.247) [0.05626, 0.05873, 0.974]\n",
       "PeriodicSite: H (5.973, 0.05542, 1.234) [0.8028, 0.007449, 0.1658]\n",
       "PeriodicSite: H (0.4173, 6.012, 1.667) [0.05609, 0.8081, 0.2241]\n",
       "PeriodicSite: H (2.29, 6.013, 7.259) [0.3079, 0.8083, 0.9756]"
      ]
     },
     "execution_count": 29,
     "metadata": {},
     "output_type": "execute_result"
    }
   ],
   "source": [
    "cubic_test_structure"
   ]
  },
  {
   "cell_type": "code",
   "execution_count": 32,
   "id": "b25258d8",
   "metadata": {},
   "outputs": [
    {
     "data": {
      "text/plain": [
       "Structure Summary\n",
       "Lattice\n",
       "    abc : 7.439917882283528 7.439917882283528 7.439917882283528\n",
       " angles : 90.0 90.0 90.0\n",
       " volume : 411.8171476168189\n",
       "      A : 7.439917882283528 0.0 0.0\n",
       "      B : -4.555635810228839e-16 -7.439917882283528 0.0\n",
       "      C : -4.555635810228839e-16 -4.555635810228839e-16 -7.439917882283528\n",
       "    pbc : True True True\n",
       "PeriodicSite: H (5.992, -1.421, -3.91) [0.8054, 0.1911, 0.5255]\n",
       "PeriodicSite: H (0.8188, -2.868, -3.901) [0.1101, 0.3856, 0.5243]\n",
       "PeriodicSite: H (4.142, -3.291, -0.1851) [0.5567, 0.4423, 0.02488]\n",
       "PeriodicSite: H (2.275, -6.995, -2.051) [0.3058, 0.9401, 0.2757]\n",
       "PeriodicSite: H (5.988, -2.876, -1.677) [0.8049, 0.3866, 0.2254]\n",
       "PeriodicSite: H (5.968, -5.152, -6.258) [0.8022, 0.6925, 0.8412]\n",
       "PeriodicSite: H (2.303, -3.299, -5.768) [0.3096, 0.4434, 0.7753]\n",
       "PeriodicSite: H (2.288, -5.138, -3.907) [0.3075, 0.6906, 0.5252]\n",
       "PeriodicSite: H (3.755, -5.148, -6.231) [0.5046, 0.6919, 0.8375]\n",
       "PeriodicSite: H (5.989, -5.138, -3.915) [0.805, 0.6906, 0.5262]\n",
       "PeriodicSite: H (0.8051, -5.141, -1.68) [0.1082, 0.6909, 0.2259]\n",
       "PeriodicSite: H (4.142, -1.421, -2.05) [0.5567, 0.191, 0.2755]\n",
       "PeriodicSite: H (0.4242, -3.287, -0.1788) [0.05701, 0.4417, 0.02404]\n",
       "PeriodicSite: H (3.751, -7.378, -3.911) [0.5042, 0.9917, 0.5257]\n",
       "PeriodicSite: H (0.417, -7.014, -3.91) [0.05605, 0.9428, 0.5256]\n",
       "PeriodicSite: H (5.964, -5.151, -0.8356) [0.8016, 0.6923, 0.1123]\n",
       "PeriodicSite: H (0.4186, -7.003, -0.1931) [0.05626, 0.9413, 0.02596]\n",
       "PeriodicSite: H (5.973, -7.385, -6.206) [0.8028, 0.9926, 0.8342]\n",
       "PeriodicSite: H (0.4173, -1.427, -5.773) [0.05609, 0.1919, 0.7759]\n",
       "PeriodicSite: H (2.29, -1.427, -0.1813) [0.3079, 0.1917, 0.02436]"
      ]
     },
     "execution_count": 32,
     "metadata": {},
     "output_type": "execute_result"
    }
   ],
   "source": [
    "a.get_primitive_standard_structure()"
   ]
  },
  {
   "cell_type": "code",
   "execution_count": 21,
   "id": "c046cf01",
   "metadata": {},
   "outputs": [
    {
     "data": {
      "text/plain": [
       "'triclinic'"
      ]
     },
     "execution_count": 21,
     "metadata": {},
     "output_type": "execute_result"
    }
   ],
   "source": [
    "analyzer = SpacegroupAnalyzer(test_structure)\n",
    "analyzer.get_lattice_type()"
   ]
  },
  {
   "cell_type": "code",
   "execution_count": 18,
   "id": "a9fce4eb",
   "metadata": {},
   "outputs": [
    {
     "data": {
      "text/plain": [
       "\n",
       "------Crystal from Seed------\n",
       "Dimension: 3\n",
       "Composition: H20\n",
       "Group: P 1 (1)\n",
       "  7.4399,   7.4399,   7.4399, 109.4685, 109.4685, 109.4685, triclinic\n",
       "Wyckoff sites:\n",
       "\t H @ [ 0.8054  0.8089  0.4745], WP [1a] Site [1]\n",
       "\t H @ [ 0.1101  0.6144  0.4757], WP [1a] Site [1]\n",
       "\t H @ [ 0.5567  0.5577  0.9751], WP [1a] Site [1]\n",
       "\t H @ [ 0.3058  0.0599  0.7243], WP [1a] Site [1]\n",
       "\t H @ [ 0.8049  0.6134  0.7746], WP [1a] Site [1]\n",
       "\t H @ [ 0.8022  0.3075  0.1588], WP [1a] Site [1]\n",
       "\t H @ [ 0.3096  0.5566  0.2247], WP [1a] Site [1]\n",
       "\t H @ [ 0.3075  0.3094  0.4748], WP [1a] Site [1]\n",
       "\t H @ [ 0.5046  0.3081  0.1625], WP [1a] Site [1]\n",
       "\t H @ [ 0.8050  0.3094  0.4738], WP [1a] Site [1]\n",
       "\t H @ [ 0.1082  0.3091  0.7741], WP [1a] Site [1]\n",
       "\t H @ [ 0.5567  0.8090  0.7245], WP [1a] Site [1]\n",
       "\t H @ [ 0.0570  0.5583  0.9760], WP [1a] Site [1]\n",
       "\t H @ [ 0.5042  0.0083  0.4743], WP [1a] Site [1]\n",
       "\t H @ [ 0.0561  0.0572  0.4744], WP [1a] Site [1]\n",
       "\t H @ [ 0.8016  0.3077  0.8877], WP [1a] Site [1]\n",
       "\t H @ [ 0.0563  0.0587  0.9740], WP [1a] Site [1]\n",
       "\t H @ [ 0.8028  0.0074  0.1658], WP [1a] Site [1]\n",
       "\t H @ [ 0.0561  0.8081  0.2241], WP [1a] Site [1]\n",
       "\t H @ [ 0.3079  0.8083  0.9756], WP [1a] Site [1]"
      ]
     },
     "execution_count": 18,
     "metadata": {},
     "output_type": "execute_result"
    }
   ],
   "source": [
    "t = pyxtal()\n",
    "t.from_seed(test_structure.to_primitive())\n",
    "t"
   ]
  },
  {
   "cell_type": "code",
   "execution_count": 17,
   "id": "0e2e056d",
   "metadata": {},
   "outputs": [
    {
     "data": {
      "text/plain": [
       "Structure Summary\n",
       "Lattice\n",
       "    abc : 7.439917882283528 7.439917882283529 7.439917882283528\n",
       " angles : 109.46848805745445 109.46848805745445 109.46848805745446\n",
       " volume : 317.049056914382\n",
       "      A : 7.439917882283528 0.0 0.0\n",
       "      B : -2.479638089529604 7.014540116078616 0.0\n",
       "      C : -2.4796380895296024 -3.5065604318874786 6.075179583979169\n",
       "    pbc : True True True\n",
       "PeriodicSite: H (2.81, 4.011, 2.883) [0.8054, 0.8089, 0.4745]\n",
       "PeriodicSite: H (-1.884, 2.642, 2.89) [0.1101, 0.6144, 0.4757]\n",
       "PeriodicSite: H (0.3413, 0.4924, 5.924) [0.5567, 0.5577, 0.9751]\n",
       "PeriodicSite: H (0.3304, -2.12, 4.401) [0.3058, 0.05986, 0.7243]\n",
       "PeriodicSite: H (2.546, 1.587, 4.706) [0.8049, 0.6134, 0.7746]\n",
       "PeriodicSite: H (4.812, 1.6, 0.965) [0.8022, 0.3075, 0.1588]\n",
       "PeriodicSite: H (0.3657, 3.116, 1.365) [0.3096, 0.5566, 0.2247]\n",
       "PeriodicSite: H (0.3434, 0.5053, 2.885) [0.3075, 0.3094, 0.4748]\n",
       "PeriodicSite: H (2.588, 1.591, 0.9872) [0.5046, 0.3081, 0.1625]\n",
       "PeriodicSite: H (4.047, 0.5088, 2.878) [0.805, 0.3094, 0.4738]\n",
       "PeriodicSite: H (-1.881, -0.5467, 4.703) [0.1082, 0.3091, 0.7741]\n",
       "PeriodicSite: H (0.3395, 3.134, 4.401) [0.5567, 0.809, 0.7245]\n",
       "PeriodicSite: H (-3.38, 0.4936, 5.929) [0.05701, 0.5583, 0.976]\n",
       "PeriodicSite: H (2.554, -1.605, 2.881) [0.5042, 0.008303, 0.4743]\n",
       "PeriodicSite: H (-0.9012, -1.262, 2.882) [0.05605, 0.05722, 0.4744]\n",
       "PeriodicSite: H (3.0, -0.9544, 5.393) [0.8016, 0.3077, 0.8877]\n",
       "PeriodicSite: H (-2.142, -3.004, 5.917) [0.05626, 0.05873, 0.974]\n",
       "PeriodicSite: H (5.543, -0.5292, 1.007) [0.8028, 0.007449, 0.1658]\n",
       "PeriodicSite: H (-2.142, 4.883, 1.362) [0.05609, 0.8081, 0.2241]\n",
       "PeriodicSite: H (-2.133, 2.248, 5.927) [0.3079, 0.8083, 0.9756]"
      ]
     },
     "execution_count": 17,
     "metadata": {},
     "output_type": "execute_result"
    }
   ],
   "source": [
    "test_structure.to_primitive()"
   ]
  },
  {
   "cell_type": "code",
   "execution_count": 14,
   "id": "e628ba25",
   "metadata": {},
   "outputs": [
    {
     "name": "stdout",
     "output_type": "stream",
     "text": [
      "Testing with perfect cubic structure first...\n",
      "Cubic structure space group: 221\n",
      "Cubic structure std under correct SG: 0.00000000 Å\n",
      "\n",
      "Testing with pyxtal generated structure...\n",
      "Created structure with space group 161 (R3c)\n",
      "Structure has 30 sites\n",
      "Detected space group: 161\n",
      "Standard deviation under detected space group (161): 0.00000000 Å\n",
      "Standard deviation under wrong space group (221): 1.95174286 Å\n",
      "✓ Test PASSED: Both structures show good symmetry properties\n",
      "\n",
      "==================================================\n",
      "SYMMETRY ANALYSIS SUMMARY\n",
      "==================================================\n",
      "Unit test result: PASSED\n",
      "\n",
      "The symmetry analysis procedure:\n",
      "1. ✓ Loads structures from JSON\n",
      "2. ✓ Identifies rhombohedral space groups\n",
      "3. ✓ Applies symmetry operations to each site\n",
      "4. ✓ Computes standard deviation considering periodic boundary conditions\n",
      "5. ✓ Provides quantitative measure of structural symmetry in Angstroms\n"
     ]
    }
   ],
   "source": [
    "def create_known_symmetric_structure() -> Structure:\n",
    "    \"\"\"Create a known symmetric structure using pyxtal for testing.\"\"\"\n",
    "    # Use pyxtal to create a random structure with space group 161 (R3c)\n",
    "    random_crystal = pyxtal()\n",
    "    random_crystal.from_random(\n",
    "        dim=3,\n",
    "        group=161,  # R3c - rhombohedral\n",
    "        species=['K', 'Ag', 'Br'],\n",
    "        numIons=[6, 6, 18]\n",
    "    )\n",
    "    return random_crystal.to_pymatgen()\n",
    "\n",
    "def create_perfect_cubic_structure() -> Structure:\n",
    "    \"\"\"Create a perfect simple cubic structure for testing.\"\"\"\n",
    "    lattice = Lattice.from_parameters(a=4.0, b=4.0, c=4.0, alpha=90, beta=90, gamma=90)\n",
    "    species = ['Na', 'Cl']\n",
    "    coords = [[0.0, 0.0, 0.0], [0.5, 0.5, 0.5]]\n",
    "    return Structure(lattice, species, coords)\n",
    "\n",
    "def test_symmetry_analysis_procedure():\n",
    "    \"\"\"Unit test for the symmetry analysis procedure.\"\"\"\n",
    "    print(\"Testing with perfect cubic structure first...\")\n",
    "    \n",
    "    # Test with perfect cubic structure\n",
    "    cubic_structure = create_perfect_cubic_structure()\n",
    "    analyzer_cubic = SpacegroupAnalyzer(cubic_structure, symprec=0.1)\n",
    "    detected_sg_cubic = analyzer_cubic.get_space_group_number()\n",
    "    print(f\"Cubic structure space group: {detected_sg_cubic}\")\n",
    "    \n",
    "    # Test with the detected space group (should give very low deviation)\n",
    "    sg_cubic = SpaceGroup.from_int_number(detected_sg_cubic)\n",
    "    cubic_results = analyze_structure_symmetry(cubic_structure, sg_cubic)\n",
    "    std_cubic = cubic_results if cubic_results else 0.0\n",
    "    print(f\"Cubic structure std under correct SG: {std_cubic:.8f} Å\")\n",
    "    \n",
    "    # Now test with pyxtal structure\n",
    "    print(\"\\nTesting with pyxtal generated structure...\")\n",
    "    symmetric_structure = create_known_symmetric_structure()\n",
    "    print(f\"Created structure with space group 161 (R3c)\")\n",
    "    print(f\"Structure has {len(symmetric_structure)} sites\")\n",
    "    \n",
    "    # Verify the structure \n",
    "    analyzer = SpacegroupAnalyzer(symmetric_structure, symprec=0.1)\n",
    "    detected_sg = analyzer.get_space_group_number()\n",
    "    print(f\"Detected space group: {detected_sg}\")\n",
    "    \n",
    "    # Test our symmetry analysis on this known symmetric structure\n",
    "    sg_detected = SpaceGroup.from_int_number(detected_sg)\n",
    "    correct_results = analyze_structure_symmetry(symmetric_structure, sg_detected)\n",
    "    std_correct = correct_results if correct_results else 0.0\n",
    "    print(f\"Standard deviation under detected space group ({detected_sg}): {std_correct:.8f} Å\")\n",
    "    \n",
    "    # Test with a very different space group\n",
    "    sg_wrong = SpaceGroup.from_int_number(221)  # Pm-3m - cubic\n",
    "    wrong_results = analyze_structure_symmetry(symmetric_structure, sg_wrong)\n",
    "    std_wrong = wrong_results if wrong_results else 0.0\n",
    "    print(f\"Standard deviation under wrong space group (221): {std_wrong:.8f} Å\")\n",
    "    \n",
    "    # Both structures should show reasonable symmetry under their correct space groups\n",
    "    if std_cubic < 0.1 and std_correct < 1.0:\n",
    "        print(\"✓ Test PASSED: Both structures show good symmetry properties\")\n",
    "        return True\n",
    "    else:\n",
    "        print(\"✗ Test FAILED: Structures show poor symmetry properties\")\n",
    "        print(f\"  Cubic: {std_cubic:.6f} Å (expected < 0.1)\")\n",
    "        print(f\"  Pyxtal: {std_correct:.6f} Å (expected < 1.0)\")\n",
    "        return False\n",
    "\n",
    "\n",
    "# Run the unit test\n",
    "test_result = test_symmetry_analysis_procedure()\n",
    "\n",
    "# Summary of results\n",
    "print(f\"\\n{'='*50}\")\n",
    "print(\"SYMMETRY ANALYSIS SUMMARY\")\n",
    "print(f\"{'='*50}\")\n",
    "print(f\"Unit test result: {'PASSED' if test_result else 'FAILED'}\")\n",
    "print(\"\\nThe symmetry analysis procedure:\")\n",
    "print(\"1. ✓ Loads structures from JSON\")\n",
    "print(\"2. ✓ Identifies rhombohedral space groups\") \n",
    "print(\"3. ✓ Applies symmetry operations to each site\")\n",
    "print(\"4. ✓ Computes standard deviation considering periodic boundary conditions\")\n",
    "print(\"5. ✓ Provides quantitative measure of structural symmetry in Angstroms\")"
   ]
  }
 ],
 "metadata": {
  "kernelspec": {
   "display_name": "wyckofftransformer-FeCwefly-py3.12",
   "language": "python",
   "name": "python3"
  },
  "language_info": {
   "codemirror_mode": {
    "name": "ipython",
    "version": 3
   },
   "file_extension": ".py",
   "mimetype": "text/x-python",
   "name": "python",
   "nbconvert_exporter": "python",
   "pygments_lexer": "ipython3",
   "version": "3.12.3"
  }
 },
 "nbformat": 4,
 "nbformat_minor": 5
}
