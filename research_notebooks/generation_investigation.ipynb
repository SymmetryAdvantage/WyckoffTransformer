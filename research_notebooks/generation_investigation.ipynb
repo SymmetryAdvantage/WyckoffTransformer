{
 "cells": [
  {
   "cell_type": "code",
   "execution_count": 1,
   "metadata": {},
   "outputs": [],
   "source": [
    "import wandb\n",
    "from omegaconf import OmegaConf\n",
    "import sys\n",
    "sys.path.append(\"..\")\n",
    "from wyckoff_transformer.trainer import WyckoffTrainer"
   ]
  },
  {
   "cell_type": "code",
   "execution_count": 2,
   "metadata": {},
   "outputs": [],
   "source": [
    "\n",
    "wandb_run_id = \"ttu2nj9e\"\n",
    "wandb_run = wandb.Api().run(f\"WyckoffTransformer/{wandb_run_id}\")\n",
    "config = OmegaConf.create(dict(wandb_run.config))\n",
    "trainer = WyckoffTrainer.from_config(config, device=\"cpu\")"
   ]
  },
  {
   "cell_type": "code",
   "execution_count": 9,
   "metadata": {},
   "outputs": [],
   "source": [
    "from pathlib import Path\n",
    "import pickle\n",
    "import gzip\n",
    "with gzip.open(Path(\"..\", \"runs\", wandb_run_id, \"tokenizers.pkl.gz\"), \"rb\") as f:\n",
    "    saved_tokenizers = pickle.load(f)\n",
    "with gzip.open(Path(\"..\", \"runs\", wandb_run_id, \"token_engineers.pkl.gz\"), \"rb\") as f:\n",
    "    saved_engineers = pickle.load(f)"
   ]
  },
  {
   "cell_type": "code",
   "execution_count": 10,
   "metadata": {},
   "outputs": [
    {
     "name": "stdout",
     "output_type": "stream",
     "text": [
      "multiplicity\n"
     ]
    }
   ],
   "source": [
    "for key, trainer_tokenizer in trainer.tokenisers.items():\n",
    "    saved_tokenizer = saved_tokenizers[key]\n",
    "    if trainer_tokenizer != saved_tokenizer:\n",
    "        print(key)"
   ]
  },
  {
   "cell_type": "code",
   "execution_count": 16,
   "metadata": {},
   "outputs": [
    {
     "data": {
      "text/plain": [
       "True"
      ]
     },
     "execution_count": 16,
     "metadata": {},
     "output_type": "execute_result"
    }
   ],
   "source": [
    "(saved_engineers['multiplicity'].db == trainer.token_engineers['multiplicity'].db).all()"
   ]
  },
  {
   "cell_type": "code",
   "execution_count": 20,
   "metadata": {},
   "outputs": [
    {
     "data": {
      "text/plain": [
       "177"
      ]
     },
     "execution_count": 20,
     "metadata": {},
     "output_type": "execute_result"
    }
   ],
   "source": [
    "saved_engineers['multiplicity'].db.index.get_level_values(0).nunique()"
   ]
  },
  {
   "cell_type": "code",
   "execution_count": 8,
   "metadata": {},
   "outputs": [
    {
     "data": {
      "text/plain": [
       "0"
      ]
     },
     "execution_count": 8,
     "metadata": {},
     "output_type": "execute_result"
    }
   ],
   "source": [
    "trainer_tokenizer.pad_token"
   ]
  },
  {
   "cell_type": "code",
   "execution_count": null,
   "metadata": {},
   "outputs": [
    {
     "data": {
      "text/plain": [
       "{'-1': 0,\n",
       " '-3.': 1,\n",
       " '-3..': 2,\n",
       " '-3m': 3,\n",
       " '-3m.': 4,\n",
       " '-3m2/m': 5,\n",
       " '-4..': 6,\n",
       " '-42.m': 7,\n",
       " '-42m': 8,\n",
       " '-43m': 9,\n",
       " '-4m.2': 10,\n",
       " '-4m2': 11,\n",
       " '-6..': 12,\n",
       " '-62m2': 13,\n",
       " '-6m2m': 14,\n",
       " '.-3.': 15,\n",
       " '.-3m': 16,\n",
       " '..2': 17,\n",
       " '..2/m': 18,\n",
       " '..m': 19,\n",
       " '.2': 20,\n",
       " '.2.': 21,\n",
       " '.2/m': 22,\n",
       " '.2/m.': 23,\n",
       " '.3.': 24,\n",
       " '.32': 25,\n",
       " '.3m': 26,\n",
       " '.m': 27,\n",
       " '.m.': 28,\n",
       " '1': 29,\n",
       " '2': 30,\n",
       " '2..': 31,\n",
       " '2.22': 32,\n",
       " '2.mm': 33,\n",
       " '2/m': 34,\n",
       " '2/m..': 35,\n",
       " '2/mm.': 36,\n",
       " '22.': 37,\n",
       " '222': 38,\n",
       " '222.': 39,\n",
       " '23.': 40,\n",
       " '2m.': 41,\n",
       " '2mm': 42,\n",
       " '2mm.': 43,\n",
       " '3.': 44,\n",
       " '3..': 45,\n",
       " '32': 46,\n",
       " '32.': 47,\n",
       " '322': 48,\n",
       " '3m': 49,\n",
       " '3m.': 50,\n",
       " '3mm': 51,\n",
       " '4..': 52,\n",
       " '4/m..': 53,\n",
       " '4/mm.m': 54,\n",
       " '4/mmm': 55,\n",
       " '422': 56,\n",
       " '4m.m': 57,\n",
       " '4mm': 58,\n",
       " '6/mm2/m': 59,\n",
       " '6mm': 60,\n",
       " 'm': 61,\n",
       " 'm-3.': 62,\n",
       " 'm-3m': 63,\n",
       " 'm..': 64,\n",
       " 'm.2m': 65,\n",
       " 'm.m2': 66,\n",
       " 'm.mm': 67,\n",
       " 'm2m': 68,\n",
       " 'm2m.': 69,\n",
       " 'mm2': 70,\n",
       " 'mm2.': 71,\n",
       " 'mm2..': 72,\n",
       " 'mmm': 73,\n",
       " 'mmm.': 74,\n",
       " 'mmm..': 75,\n",
       " 'MASK': 76,\n",
       " 'STOP': 77,\n",
       " 'PAD': 78}"
      ]
     },
     "execution_count": 6,
     "metadata": {},
     "output_type": "execute_result"
    }
   ],
   "source": []
  }
 ],
 "metadata": {
  "kernelspec": {
   "display_name": "wyckofftransformer-FeCwefly-py3.12",
   "language": "python",
   "name": "python3"
  },
  "language_info": {
   "codemirror_mode": {
    "name": "ipython",
    "version": 3
   },
   "file_extension": ".py",
   "mimetype": "text/x-python",
   "name": "python",
   "nbconvert_exporter": "python",
   "pygments_lexer": "ipython3",
   "version": "3.12.3"
  }
 },
 "nbformat": 4,
 "nbformat_minor": 2
}
