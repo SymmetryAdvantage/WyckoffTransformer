{
 "cells": [
  {
   "cell_type": "code",
   "execution_count": 1,
   "id": "638144d5",
   "metadata": {},
   "outputs": [
    {
     "data": {
      "application/vnd.jupyter.widget-view+json": {
       "model_id": "c3be841d124f49088e7b19d0da97154e",
       "version_major": 2,
       "version_minor": 0
      },
      "text/plain": [
       "0it [00:00, ?it/s]"
      ]
     },
     "metadata": {},
     "output_type": "display_data"
    }
   ],
   "source": [
    "from typing import Iterable\n",
    "from collections import defaultdict\n",
    "import pandas as pd\n",
    "from pymatgen.core import Structure\n",
    "from functools import partial\n",
    "from tqdm.auto import tqdm\n",
    "from pymatgen.analysis.structure_matcher import StructureMatcher\n",
    "tqdm().pandas()\n",
    "data = pd.read_csv('../generated/mp_20/WyckoffTransformer/DiffCSP++10k/CHGNet_free/DFT/WyFormer-1-MP GGA static.csv.gz',\n",
    "                   index_col=\"material_id\", converters={\"structure\": partial(Structure.from_str, fmt=\"json\")})"
   ]
  },
  {
   "cell_type": "code",
   "execution_count": 2,
   "id": "c8325897",
   "metadata": {},
   "outputs": [
    {
     "data": {
      "text/html": [
       "<div>\n",
       "<style scoped>\n",
       "    .dataframe tbody tr th:only-of-type {\n",
       "        vertical-align: middle;\n",
       "    }\n",
       "\n",
       "    .dataframe tbody tr th {\n",
       "        vertical-align: top;\n",
       "    }\n",
       "\n",
       "    .dataframe thead th {\n",
       "        text-align: right;\n",
       "    }\n",
       "</style>\n",
       "<table border=\"1\" class=\"dataframe\">\n",
       "  <thead>\n",
       "    <tr style=\"text-align: right;\">\n",
       "      <th></th>\n",
       "      <th>e_above_hull_corrected</th>\n",
       "      <th>e_uncorrected</th>\n",
       "      <th>e_corrected</th>\n",
       "      <th>structure</th>\n",
       "      <th>entry</th>\n",
       "    </tr>\n",
       "    <tr>\n",
       "      <th>material_id</th>\n",
       "      <th></th>\n",
       "      <th></th>\n",
       "      <th></th>\n",
       "      <th></th>\n",
       "      <th></th>\n",
       "    </tr>\n",
       "  </thead>\n",
       "  <tbody>\n",
       "    <tr>\n",
       "      <th>69</th>\n",
       "      <td>0.285988</td>\n",
       "      <td>-34.561289</td>\n",
       "      <td>-34.561289</td>\n",
       "      <td>[[3.42928824 3.42928833 3.42928825] Tb, [5.361...</td>\n",
       "      <td>{\"@module\": \"pymatgen.entries.computed_entries...</td>\n",
       "    </tr>\n",
       "    <tr>\n",
       "      <th>67</th>\n",
       "      <td>0.458247</td>\n",
       "      <td>-9.982895</td>\n",
       "      <td>-11.584896</td>\n",
       "      <td>[[4.05009323e+00 1.04009090e-06 1.07315501e+00...</td>\n",
       "      <td>{\"@module\": \"pymatgen.entries.computed_entries...</td>\n",
       "    </tr>\n",
       "    <tr>\n",
       "      <th>59</th>\n",
       "      <td>-0.033989</td>\n",
       "      <td>-52.869647</td>\n",
       "      <td>-52.869647</td>\n",
       "      <td>[[0. 0. 0.] Tb, [-5.03120460e-09  3.61987122e+...</td>\n",
       "      <td>{\"@module\": \"pymatgen.entries.computed_entries...</td>\n",
       "    </tr>\n",
       "    <tr>\n",
       "      <th>75</th>\n",
       "      <td>0.380581</td>\n",
       "      <td>-26.114099</td>\n",
       "      <td>-25.830099</td>\n",
       "      <td>[[3.1503182  3.15031867 3.15031783] Mg, [4.753...</td>\n",
       "      <td>{\"@module\": \"pymatgen.entries.computed_entries...</td>\n",
       "    </tr>\n",
       "    <tr>\n",
       "      <th>23</th>\n",
       "      <td>0.400290</td>\n",
       "      <td>-55.886481</td>\n",
       "      <td>-58.378481</td>\n",
       "      <td>[[3.01833352 3.85863256 2.82988216] B, [0.3353...</td>\n",
       "      <td>{\"@module\": \"pymatgen.entries.computed_entries...</td>\n",
       "    </tr>\n",
       "  </tbody>\n",
       "</table>\n",
       "</div>"
      ],
      "text/plain": [
       "             e_above_hull_corrected  e_uncorrected  e_corrected  \\\n",
       "material_id                                                       \n",
       "69                         0.285988     -34.561289   -34.561289   \n",
       "67                         0.458247      -9.982895   -11.584896   \n",
       "59                        -0.033989     -52.869647   -52.869647   \n",
       "75                         0.380581     -26.114099   -25.830099   \n",
       "23                         0.400290     -55.886481   -58.378481   \n",
       "\n",
       "                                                     structure  \\\n",
       "material_id                                                      \n",
       "69           [[3.42928824 3.42928833 3.42928825] Tb, [5.361...   \n",
       "67           [[4.05009323e+00 1.04009090e-06 1.07315501e+00...   \n",
       "59           [[0. 0. 0.] Tb, [-5.03120460e-09  3.61987122e+...   \n",
       "75           [[3.1503182  3.15031867 3.15031783] Mg, [4.753...   \n",
       "23           [[3.01833352 3.85863256 2.82988216] B, [0.3353...   \n",
       "\n",
       "                                                         entry  \n",
       "material_id                                                     \n",
       "69           {\"@module\": \"pymatgen.entries.computed_entries...  \n",
       "67           {\"@module\": \"pymatgen.entries.computed_entries...  \n",
       "59           {\"@module\": \"pymatgen.entries.computed_entries...  \n",
       "75           {\"@module\": \"pymatgen.entries.computed_entries...  \n",
       "23           {\"@module\": \"pymatgen.entries.computed_entries...  "
      ]
     },
     "execution_count": 2,
     "metadata": {},
     "output_type": "execute_result"
    }
   ],
   "source": [
    "data.head()"
   ]
  },
  {
   "cell_type": "code",
   "execution_count": 3,
   "id": "8d0c04a5",
   "metadata": {},
   "outputs": [],
   "source": [
    "def filter_by_unique_structure_chem_sys_index(\n",
    "    data: pd.DataFrame,\n",
    "    attempt_supercell: bool = False,\n",
    "    symmetric: bool = False) -> pd.DataFrame:\n",
    "\n",
    "    present = defaultdict(list)\n",
    "    unique_indices = []\n",
    "    for index, structure in data.structure.items():\n",
    "        # Strutures consisiting of different sets of elements\n",
    "        # can't match in any way\n",
    "        chem_system = frozenset(structure.composition)\n",
    "        if chem_system not in present:\n",
    "            unique_indices.append(index)\n",
    "        else:\n",
    "            for present_structure in present[chem_system]:\n",
    "                if StructureMatcher(attempt_supercell=attempt_supercell).fit(\n",
    "                    structure, present_structure, symmetric=symmetric):\n",
    "                    break\n",
    "            else:\n",
    "                unique_indices.append(index)\n",
    "        present[chem_system].append(structure)\n",
    "    return data.loc[unique_indices]"
   ]
  },
  {
   "cell_type": "code",
   "execution_count": 4,
   "id": "fbd7d070",
   "metadata": {},
   "outputs": [],
   "source": [
    "unique = filter_by_unique_structure_chem_sys_index(data)"
   ]
  },
  {
   "cell_type": "code",
   "execution_count": 5,
   "id": "00f3df99",
   "metadata": {},
   "outputs": [
    {
     "data": {
      "text/plain": [
       "0.9880494648238595"
      ]
     },
     "execution_count": 5,
     "metadata": {},
     "output_type": "execute_result"
    }
   ],
   "source": [
    "len(unique) / len(data)"
   ]
  },
  {
   "cell_type": "code",
   "execution_count": 6,
   "id": "aefa16f3",
   "metadata": {},
   "outputs": [
    {
     "name": "stderr",
     "output_type": "stream",
     "text": [
      "/home/kna/.cache/pypoetry/virtualenvs/wyckofftransformer-test-RPZEUasj-py3.12/lib/python3.12/site-packages/pymatgen/io/cif.py:1324: UserWarning: Issues encountered while parsing CIF: 4 fractional coordinates rounded to ideal values to avoid issues with finite precision.\n",
      "  warnings.warn(\"Issues encountered while parsing CIF: \" + \"\\n\".join(self.warnings))\n",
      "/home/kna/.cache/pypoetry/virtualenvs/wyckofftransformer-test-RPZEUasj-py3.12/lib/python3.12/site-packages/pymatgen/io/cif.py:1324: UserWarning: Issues encountered while parsing CIF: 12 fractional coordinates rounded to ideal values to avoid issues with finite precision.\n",
      "  warnings.warn(\"Issues encountered while parsing CIF: \" + \"\\n\".join(self.warnings))\n",
      "/home/kna/.cache/pypoetry/virtualenvs/wyckofftransformer-test-RPZEUasj-py3.12/lib/python3.12/site-packages/pymatgen/io/cif.py:1324: UserWarning: Issues encountered while parsing CIF: 8 fractional coordinates rounded to ideal values to avoid issues with finite precision.\n",
      "  warnings.warn(\"Issues encountered while parsing CIF: \" + \"\\n\".join(self.warnings))\n",
      "/home/kna/.cache/pypoetry/virtualenvs/wyckofftransformer-test-RPZEUasj-py3.12/lib/python3.12/site-packages/pymatgen/io/cif.py:1324: UserWarning: Issues encountered while parsing CIF: 6 fractional coordinates rounded to ideal values to avoid issues with finite precision.\n",
      "  warnings.warn(\"Issues encountered while parsing CIF: \" + \"\\n\".join(self.warnings))\n",
      "/home/kna/.cache/pypoetry/virtualenvs/wyckofftransformer-test-RPZEUasj-py3.12/lib/python3.12/site-packages/pymatgen/io/cif.py:1324: UserWarning: Issues encountered while parsing CIF: 16 fractional coordinates rounded to ideal values to avoid issues with finite precision.\n",
      "  warnings.warn(\"Issues encountered while parsing CIF: \" + \"\\n\".join(self.warnings))\n",
      "/home/kna/.cache/pypoetry/virtualenvs/wyckofftransformer-test-RPZEUasj-py3.12/lib/python3.12/site-packages/pymatgen/io/cif.py:1324: UserWarning: Issues encountered while parsing CIF: 2 fractional coordinates rounded to ideal values to avoid issues with finite precision.\n",
      "  warnings.warn(\"Issues encountered while parsing CIF: \" + \"\\n\".join(self.warnings))\n",
      "/home/kna/.cache/pypoetry/virtualenvs/wyckofftransformer-test-RPZEUasj-py3.12/lib/python3.12/site-packages/pymatgen/io/cif.py:1324: UserWarning: Issues encountered while parsing CIF: 10 fractional coordinates rounded to ideal values to avoid issues with finite precision.\n",
      "  warnings.warn(\"Issues encountered while parsing CIF: \" + \"\\n\".join(self.warnings))\n",
      "/home/kna/.cache/pypoetry/virtualenvs/wyckofftransformer-test-RPZEUasj-py3.12/lib/python3.12/site-packages/pymatgen/io/cif.py:1324: UserWarning: Issues encountered while parsing CIF: 24 fractional coordinates rounded to ideal values to avoid issues with finite precision.\n",
      "  warnings.warn(\"Issues encountered while parsing CIF: \" + \"\\n\".join(self.warnings))\n",
      "/home/kna/.cache/pypoetry/virtualenvs/wyckofftransformer-test-RPZEUasj-py3.12/lib/python3.12/site-packages/pymatgen/io/cif.py:1324: UserWarning: Issues encountered while parsing CIF: 20 fractional coordinates rounded to ideal values to avoid issues with finite precision.\n",
      "  warnings.warn(\"Issues encountered while parsing CIF: \" + \"\\n\".join(self.warnings))\n",
      "/home/kna/.cache/pypoetry/virtualenvs/wyckofftransformer-test-RPZEUasj-py3.12/lib/python3.12/site-packages/pymatgen/io/cif.py:1324: UserWarning: Issues encountered while parsing CIF: 1 fractional coordinates rounded to ideal values to avoid issues with finite precision.\n",
      "  warnings.warn(\"Issues encountered while parsing CIF: \" + \"\\n\".join(self.warnings))\n",
      "/home/kna/.cache/pypoetry/virtualenvs/wyckofftransformer-test-RPZEUasj-py3.12/lib/python3.12/site-packages/pymatgen/io/cif.py:1324: UserWarning: Issues encountered while parsing CIF: 7 fractional coordinates rounded to ideal values to avoid issues with finite precision.\n",
      "  warnings.warn(\"Issues encountered while parsing CIF: \" + \"\\n\".join(self.warnings))\n",
      "/home/kna/.cache/pypoetry/virtualenvs/wyckofftransformer-test-RPZEUasj-py3.12/lib/python3.12/site-packages/pymatgen/io/cif.py:1324: UserWarning: Issues encountered while parsing CIF: 5 fractional coordinates rounded to ideal values to avoid issues with finite precision.\n",
      "  warnings.warn(\"Issues encountered while parsing CIF: \" + \"\\n\".join(self.warnings))\n",
      "/home/kna/.cache/pypoetry/virtualenvs/wyckofftransformer-test-RPZEUasj-py3.12/lib/python3.12/site-packages/pymatgen/io/cif.py:1324: UserWarning: Issues encountered while parsing CIF: 3 fractional coordinates rounded to ideal values to avoid issues with finite precision.\n",
      "  warnings.warn(\"Issues encountered while parsing CIF: \" + \"\\n\".join(self.warnings))\n",
      "/home/kna/.cache/pypoetry/virtualenvs/wyckofftransformer-test-RPZEUasj-py3.12/lib/python3.12/site-packages/pymatgen/io/cif.py:1324: UserWarning: Issues encountered while parsing CIF: 30 fractional coordinates rounded to ideal values to avoid issues with finite precision.\n",
      "  warnings.warn(\"Issues encountered while parsing CIF: \" + \"\\n\".join(self.warnings))\n",
      "/home/kna/.cache/pypoetry/virtualenvs/wyckofftransformer-test-RPZEUasj-py3.12/lib/python3.12/site-packages/pymatgen/io/cif.py:1324: UserWarning: Issues encountered while parsing CIF: 18 fractional coordinates rounded to ideal values to avoid issues with finite precision.\n",
      "  warnings.warn(\"Issues encountered while parsing CIF: \" + \"\\n\".join(self.warnings))\n",
      "/home/kna/.cache/pypoetry/virtualenvs/wyckofftransformer-test-RPZEUasj-py3.12/lib/python3.12/site-packages/pymatgen/io/cif.py:1324: UserWarning: Issues encountered while parsing CIF: 17 fractional coordinates rounded to ideal values to avoid issues with finite precision.\n",
      "  warnings.warn(\"Issues encountered while parsing CIF: \" + \"\\n\".join(self.warnings))\n",
      "/home/kna/.cache/pypoetry/virtualenvs/wyckofftransformer-test-RPZEUasj-py3.12/lib/python3.12/site-packages/pymatgen/io/cif.py:1324: UserWarning: Issues encountered while parsing CIF: 28 fractional coordinates rounded to ideal values to avoid issues with finite precision.\n",
      "  warnings.warn(\"Issues encountered while parsing CIF: \" + \"\\n\".join(self.warnings))\n",
      "/home/kna/.cache/pypoetry/virtualenvs/wyckofftransformer-test-RPZEUasj-py3.12/lib/python3.12/site-packages/pymatgen/io/cif.py:1324: UserWarning: Issues encountered while parsing CIF: 14 fractional coordinates rounded to ideal values to avoid issues with finite precision.\n",
      "  warnings.warn(\"Issues encountered while parsing CIF: \" + \"\\n\".join(self.warnings))\n",
      "/home/kna/.cache/pypoetry/virtualenvs/wyckofftransformer-test-RPZEUasj-py3.12/lib/python3.12/site-packages/pymatgen/io/cif.py:1324: UserWarning: Issues encountered while parsing CIF: 32 fractional coordinates rounded to ideal values to avoid issues with finite precision.\n",
      "  warnings.warn(\"Issues encountered while parsing CIF: \" + \"\\n\".join(self.warnings))\n",
      "/home/kna/.cache/pypoetry/virtualenvs/wyckofftransformer-test-RPZEUasj-py3.12/lib/python3.12/site-packages/pymatgen/io/cif.py:1324: UserWarning: Issues encountered while parsing CIF: 40 fractional coordinates rounded to ideal values to avoid issues with finite precision.\n",
      "  warnings.warn(\"Issues encountered while parsing CIF: \" + \"\\n\".join(self.warnings))\n",
      "/home/kna/.cache/pypoetry/virtualenvs/wyckofftransformer-test-RPZEUasj-py3.12/lib/python3.12/site-packages/pymatgen/io/cif.py:1324: UserWarning: Issues encountered while parsing CIF: 26 fractional coordinates rounded to ideal values to avoid issues with finite precision.\n",
      "  warnings.warn(\"Issues encountered while parsing CIF: \" + \"\\n\".join(self.warnings))\n",
      "/home/kna/.cache/pypoetry/virtualenvs/wyckofftransformer-test-RPZEUasj-py3.12/lib/python3.12/site-packages/pymatgen/io/cif.py:1324: UserWarning: Issues encountered while parsing CIF: 11 fractional coordinates rounded to ideal values to avoid issues with finite precision.\n",
      "  warnings.warn(\"Issues encountered while parsing CIF: \" + \"\\n\".join(self.warnings))\n",
      "/home/kna/.cache/pypoetry/virtualenvs/wyckofftransformer-test-RPZEUasj-py3.12/lib/python3.12/site-packages/pymatgen/core/periodic_table.py:289: UserWarning: No Pauling electronegativity for He. Setting to NaN. This has no physical meaning, and is mainly done to avoid errors caused by the code expecting a float.\n",
      "  warnings.warn(\n",
      "/home/kna/.cache/pypoetry/virtualenvs/wyckofftransformer-test-RPZEUasj-py3.12/lib/python3.12/site-packages/pymatgen/io/cif.py:1324: UserWarning: Issues encountered while parsing CIF: 9 fractional coordinates rounded to ideal values to avoid issues with finite precision.\n",
      "  warnings.warn(\"Issues encountered while parsing CIF: \" + \"\\n\".join(self.warnings))\n"
     ]
    }
   ],
   "source": [
    "mp_20_train = pd.read_csv('../cdvae/data/mp_20/train.csv', index_col=0)\n",
    "mp_20_train[\"structure\"] = mp_20_train.cif.apply(Structure.from_str, fmt=\"cif\")"
   ]
  },
  {
   "cell_type": "code",
   "execution_count": 7,
   "id": "fe1cbaa0",
   "metadata": {},
   "outputs": [],
   "source": [
    "class NoveltyFilter:\n",
    "    def __init__(self,\n",
    "        reference_structures: Iterable[Structure],\n",
    "        attempt_supercell: bool = False,\n",
    "        symmetric: bool = False):\n",
    "\n",
    "        self.attempt_supercell = attempt_supercell\n",
    "        self.symmetric = symmetric\n",
    "        self.reference = defaultdict(list)\n",
    "        for structure in reference_structures:\n",
    "            chem_system = frozenset(structure.composition)\n",
    "            self.reference[chem_system].append(structure)\n",
    "    \n",
    "    def __call__(self, structure: Structure) -> bool:\n",
    "        \"\"\"\n",
    "        Returns True if the structure is novel, i.e. not matching any of the reference structures\n",
    "        \"\"\"\n",
    "        chem_system = frozenset(structure.composition)\n",
    "        if chem_system not in self.reference:\n",
    "            return True\n",
    "        for reference_structure in self.reference[chem_system]:\n",
    "            if StructureMatcher(attempt_supercell=self.attempt_supercell).fit(\n",
    "                structure, reference_structure, symmetric=self.symmetric):                \n",
    "                return False\n",
    "        return True"
   ]
  },
  {
   "cell_type": "code",
   "execution_count": 8,
   "id": "fd9376d9",
   "metadata": {},
   "outputs": [],
   "source": [
    "novelty_filter = NoveltyFilter(reference_structures=mp_20_train.structure, attempt_supercell=False, symmetric=False)"
   ]
  },
  {
   "cell_type": "code",
   "execution_count": 9,
   "id": "14a45a0b",
   "metadata": {},
   "outputs": [],
   "source": [
    "novel  = data[data.structure.apply(novelty_filter)]"
   ]
  },
  {
   "cell_type": "code",
   "execution_count": 10,
   "id": "af65977e",
   "metadata": {},
   "outputs": [
    {
     "data": {
      "text/plain": [
       "0.9178011015275902"
      ]
     },
     "execution_count": 10,
     "metadata": {},
     "output_type": "execute_result"
    }
   ],
   "source": [
    "len(novel) / len(data)"
   ]
  },
  {
   "cell_type": "code",
   "execution_count": 11,
   "id": "1baf3e58",
   "metadata": {},
   "outputs": [
    {
     "data": {
      "text/plain": [
       "0.9114621219993765"
      ]
     },
     "execution_count": 11,
     "metadata": {},
     "output_type": "execute_result"
    }
   ],
   "source": [
    "novel_unique = filter_by_unique_structure_chem_sys_index(novel)\n",
    "len(novel_unique) / len(data)"
   ]
  },
  {
   "cell_type": "code",
   "execution_count": 12,
   "id": "1df9adbb",
   "metadata": {},
   "outputs": [],
   "source": [
    "def is_sun(record: pd.Series) -> bool:\n",
    "    return (record.e_above_hull_corrected < 0) and \\\n",
    "        (len(set(record.structure.composition)) >= 2)"
   ]
  },
  {
   "cell_type": "code",
   "execution_count": 13,
   "id": "ebba2452",
   "metadata": {},
   "outputs": [
    {
     "name": "stdout",
     "output_type": "stream",
     "text": [
      "0.039280889535487896\n",
      "0.0378\n"
     ]
    }
   ],
   "source": [
    "sun = novel_unique[novel_unique.apply(is_sun, axis=1)]\n",
    "print(len(sun) / len(data))\n",
    "print(len(sun) / 10000)"
   ]
  }
 ],
 "metadata": {
  "kernelspec": {
   "display_name": "wyckofftransformer-test-RPZEUasj-py3.12",
   "language": "python",
   "name": "python3"
  },
  "language_info": {
   "codemirror_mode": {
    "name": "ipython",
    "version": 3
   },
   "file_extension": ".py",
   "mimetype": "text/x-python",
   "name": "python",
   "nbconvert_exporter": "python",
   "pygments_lexer": "ipython3",
   "version": "3.12.3"
  }
 },
 "nbformat": 4,
 "nbformat_minor": 5
}
