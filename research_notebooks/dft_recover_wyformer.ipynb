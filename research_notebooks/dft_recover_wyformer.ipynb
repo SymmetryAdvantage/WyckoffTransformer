{
 "cells": [
  {
   "cell_type": "code",
   "execution_count": 11,
   "id": "3764861b",
   "metadata": {},
   "outputs": [],
   "source": [
    "import pandas as pd\n",
    "wyckoffs = pd.read_json(\"../generated/WyckoffTransformer_mp_20.json.gz\")"
   ]
  },
  {
   "cell_type": "code",
   "execution_count": 12,
   "id": "e80b8e83",
   "metadata": {},
   "outputs": [
    {
     "data": {
      "text/plain": [
       "10000"
      ]
     },
     "execution_count": 12,
     "metadata": {},
     "output_type": "execute_result"
    }
   ],
   "source": [
    "len(wyckoffs)"
   ]
  },
  {
   "cell_type": "code",
   "execution_count": 13,
   "id": "99e2a116",
   "metadata": {},
   "outputs": [
    {
     "data": {
      "text/plain": [
       "9999"
      ]
     },
     "execution_count": 13,
     "metadata": {},
     "output_type": "execute_result"
    }
   ],
   "source": [
    "import gzip\n",
    "import json\n",
    "with gzip.open(\"../generated/WyckoffTransformer_mp_20.diffcsp-pp-10k.json.gz\", \"rt\") as f:\n",
    "    diffcsp = json.load(f)\n",
    "len(diffcsp)"
   ]
  },
  {
   "cell_type": "code",
   "execution_count": 19,
   "id": "b8fdb615",
   "metadata": {},
   "outputs": [
    {
     "data": {
      "text/plain": [
       "{'@module': 'pymatgen.core.structure',\n",
       " '@class': 'Structure',\n",
       " 'charge': 0,\n",
       " 'lattice': {'matrix': [[5.617759704589844, 0.0, 0.0],\n",
       "   [0.0, 9.843255996704102, 0.0],\n",
       "   [0.0, 0.0, 9.197141647338867]],\n",
       "  'pbc': [True, True, True],\n",
       "  'a': 5.617759704589844,\n",
       "  'b': 9.843255996704102,\n",
       "  'c': 9.197141647338867,\n",
       "  'alpha': 90.0,\n",
       "  'beta': 90.0,\n",
       "  'gamma': 90.0,\n",
       "  'volume': 508.574773021109},\n",
       " 'properties': {},\n",
       " 'sites': [{'species': [{'element': 'In', 'occu': 1}],\n",
       "   'abc': [0.0, 0.15556585788726807, 0.5],\n",
       "   'properties': {},\n",
       "   'label': 'In',\n",
       "   'xyz': [0.0, 1.5312745635312695, 4.598570823669434]},\n",
       "  {'species': [{'element': 'In', 'occu': 1}],\n",
       "   'abc': [0.0, 0.8444341421127319, 0.5],\n",
       "   'properties': {},\n",
       "   'label': 'In',\n",
       "   'xyz': [0.0, 8.311981433172832, 4.598570823669434]},\n",
       "  {'species': [{'element': 'In', 'occu': 1}],\n",
       "   'abc': [0.5, 0.6555658578872681, 0.0],\n",
       "   'properties': {},\n",
       "   'label': 'In',\n",
       "   'xyz': [2.808879852294922, 6.45290256188332, 0.0]},\n",
       "  {'species': [{'element': 'In', 'occu': 1}],\n",
       "   'abc': [0.5, 0.34443414211273193, 0.0],\n",
       "   'properties': {},\n",
       "   'label': 'In',\n",
       "   'xyz': [2.808879852294922, 3.3903534348207813, 0.0]},\n",
       "  {'species': [{'element': 'In', 'occu': 1}],\n",
       "   'abc': [0.5, 0.0, 0.6665039658546448],\n",
       "   'properties': {},\n",
       "   'label': 'In',\n",
       "   'xyz': [2.808879852294922, 0.0, 6.129931382478276]},\n",
       "  {'species': [{'element': 'In', 'occu': 1}],\n",
       "   'abc': [0.5, 0.0, 0.3334960341453552],\n",
       "   'properties': {},\n",
       "   'label': 'In',\n",
       "   'xyz': [2.808879852294922, 0.0, 3.0672102648605915]},\n",
       "  {'species': [{'element': 'In', 'occu': 1}],\n",
       "   'abc': [0.0, 0.5, 0.16650390625],\n",
       "   'properties': {},\n",
       "   'label': 'In',\n",
       "   'xyz': [0.0, 4.921627998352051, 1.5313600106164813]},\n",
       "  {'species': [{'element': 'In', 'occu': 1}],\n",
       "   'abc': [0.0, 0.5, 0.8334960341453552],\n",
       "   'properties': {},\n",
       "   'label': 'In',\n",
       "   'xyz': [0.0, 4.921627998352051, 7.665781088530025]},\n",
       "  {'species': [{'element': 'In', 'occu': 1}],\n",
       "   'abc': [0.0, 0.17217327654361725, 0.0],\n",
       "   'properties': {},\n",
       "   'label': 'In',\n",
       "   'xyz': [0.0, 1.694745636810154, 0.0]},\n",
       "  {'species': [{'element': 'In', 'occu': 1}],\n",
       "   'abc': [0.0, 0.827826738357544, 0.0],\n",
       "   'properties': {},\n",
       "   'label': 'In',\n",
       "   'xyz': [0.0, 8.148510506569892, 0.0]},\n",
       "  {'species': [{'element': 'In', 'occu': 1}],\n",
       "   'abc': [0.5, 0.672173261642456, 0.5],\n",
       "   'properties': {},\n",
       "   'label': 'In',\n",
       "   'xyz': [2.808879852294922, 6.616373488486261, 4.598570823669434]},\n",
       "  {'species': [{'element': 'In', 'occu': 1}],\n",
       "   'abc': [0.5, 0.32782673835754395, 0.5],\n",
       "   'properties': {},\n",
       "   'label': 'In',\n",
       "   'xyz': [2.808879852294922, 3.226882508217841, 4.598570823669434]},\n",
       "  {'species': [{'element': 'Cu', 'occu': 1}],\n",
       "   'abc': [0.0, 0.0, 0.7643352746963501],\n",
       "   'properties': {},\n",
       "   'label': 'Cu',\n",
       "   'xyz': [0.0, 0.0, 7.029699787439995]},\n",
       "  {'species': [{'element': 'Cu', 'occu': 1}],\n",
       "   'abc': [0.0, 0.0, 0.2356647253036499],\n",
       "   'properties': {},\n",
       "   'label': 'Cu',\n",
       "   'xyz': [0.0, 0.0, 2.1674418598988723]},\n",
       "  {'species': [{'element': 'Cu', 'occu': 1}],\n",
       "   'abc': [0.5, 0.5, 0.2643352746963501],\n",
       "   'properties': {},\n",
       "   'label': 'Cu',\n",
       "   'xyz': [2.808879852294922, 4.921627998352051, 2.4311289637705613]},\n",
       "  {'species': [{'element': 'Cu', 'occu': 1}],\n",
       "   'abc': [0.5, 0.5, 0.7356647253036499],\n",
       "   'properties': {},\n",
       "   'label': 'Cu',\n",
       "   'xyz': [2.808879852294922, 4.921627998352051, 6.766012683568306]},\n",
       "  {'species': [{'element': 'Cu', 'occu': 1}],\n",
       "   'abc': [0.25, 0.25, 0.25],\n",
       "   'properties': {},\n",
       "   'label': 'Cu',\n",
       "   'xyz': [1.404439926147461, 2.4608139991760254, 2.299285411834717]},\n",
       "  {'species': [{'element': 'Cu', 'occu': 1}],\n",
       "   'abc': [0.75, 0.75, 0.25],\n",
       "   'properties': {},\n",
       "   'label': 'Cu',\n",
       "   'xyz': [4.213319778442383, 7.382441997528076, 2.299285411834717]},\n",
       "  {'species': [{'element': 'Cu', 'occu': 1}],\n",
       "   'abc': [0.75, 0.25, 0.75],\n",
       "   'properties': {},\n",
       "   'label': 'Cu',\n",
       "   'xyz': [4.213319778442383, 2.4608139991760254, 6.89785623550415]},\n",
       "  {'species': [{'element': 'Cu', 'occu': 1}],\n",
       "   'abc': [0.25, 0.75, 0.75],\n",
       "   'properties': {},\n",
       "   'label': 'Cu',\n",
       "   'xyz': [1.404439926147461, 7.382441997528076, 6.89785623550415]},\n",
       "  {'species': [{'element': 'Cu', 'occu': 1}],\n",
       "   'abc': [0.75, 0.75, 0.75],\n",
       "   'properties': {},\n",
       "   'label': 'Cu',\n",
       "   'xyz': [4.213319778442383, 7.382441997528076, 6.89785623550415]},\n",
       "  {'species': [{'element': 'Cu', 'occu': 1}],\n",
       "   'abc': [0.25, 0.25, 0.75],\n",
       "   'properties': {},\n",
       "   'label': 'Cu',\n",
       "   'xyz': [1.404439926147461, 2.4608139991760254, 6.89785623550415]},\n",
       "  {'species': [{'element': 'Cu', 'occu': 1}],\n",
       "   'abc': [0.25, 0.75, 0.25],\n",
       "   'properties': {},\n",
       "   'label': 'Cu',\n",
       "   'xyz': [1.404439926147461, 7.382441997528076, 2.299285411834717]},\n",
       "  {'species': [{'element': 'Cu', 'occu': 1}],\n",
       "   'abc': [0.75, 0.25, 0.25],\n",
       "   'properties': {},\n",
       "   'label': 'Cu',\n",
       "   'xyz': [4.213319778442383, 2.4608139991760254, 2.299285411834717]},\n",
       "  {'species': [{'element': 'Dy', 'occu': 1}],\n",
       "   'abc': [0.0, 0.5, 0.5],\n",
       "   'properties': {},\n",
       "   'label': 'Dy',\n",
       "   'xyz': [0.0, 4.921627998352051, 4.598570823669434]},\n",
       "  {'species': [{'element': 'Dy', 'occu': 1}],\n",
       "   'abc': [0.5, 0.0, 0.0],\n",
       "   'properties': {},\n",
       "   'label': 'Dy',\n",
       "   'xyz': [2.808879852294922, 0.0, 0.0]}]}"
      ]
     },
     "execution_count": 19,
     "metadata": {},
     "output_type": "execute_result"
    }
   ],
   "source": [
    "diffcsp[0]"
   ]
  },
  {
   "cell_type": "code",
   "execution_count": 7,
   "id": "0adff990",
   "metadata": {},
   "outputs": [],
   "source": [
    "dft = pd.read_csv(\"../generated/WyFormer-DiffCSP++-10k.csv.gz\", index_col=\"material_id\")"
   ]
  },
  {
   "cell_type": "code",
   "execution_count": 8,
   "id": "2b7e5dc4",
   "metadata": {},
   "outputs": [
    {
     "data": {
      "text/plain": [
       "9969"
      ]
     },
     "execution_count": 8,
     "metadata": {},
     "output_type": "execute_result"
    }
   ],
   "source": [
    "len(dft)"
   ]
  },
  {
   "cell_type": "code",
   "execution_count": 9,
   "id": "ad888c3d",
   "metadata": {},
   "outputs": [],
   "source": [
    "missing = set(range(len(dft))) - set(dft.index)"
   ]
  },
  {
   "cell_type": "code",
   "execution_count": 10,
   "id": "9fc4f012",
   "metadata": {},
   "outputs": [
    {
     "data": {
      "text/plain": [
       "{716,\n",
       " 799,\n",
       " 2549,\n",
       " 2677,\n",
       " 2710,\n",
       " 3614,\n",
       " 3853,\n",
       " 4314,\n",
       " 4455,\n",
       " 5320,\n",
       " 5540,\n",
       " 5599,\n",
       " 5636,\n",
       " 6285,\n",
       " 6526,\n",
       " 9644,\n",
       " 9652,\n",
       " 9661,\n",
       " 9683,\n",
       " 9708,\n",
       " 9754,\n",
       " 9777,\n",
       " 9778,\n",
       " 9811,\n",
       " 9852,\n",
       " 9876,\n",
       " 9928,\n",
       " 9968}"
      ]
     },
     "execution_count": 10,
     "metadata": {},
     "output_type": "execute_result"
    }
   ],
   "source": [
    "missing"
   ]
  },
  {
   "cell_type": "code",
   "execution_count": 44,
   "id": "b31768ba",
   "metadata": {},
   "outputs": [],
   "source": [
    "missing_pd = pd.Series(data=diffcsp).loc[list(missing)]\n",
    "missing_pd.name = \"json\""
   ]
  },
  {
   "cell_type": "code",
   "execution_count": 45,
   "id": "73e605f6",
   "metadata": {},
   "outputs": [],
   "source": [
    "missing_pd.map(json.dumps).to_csv(\n",
    "    \"dft_pass_1_missing.csv.gz\", index=True, index_label=\"material_id\", header=True)"
   ]
  }
 ],
 "metadata": {
  "kernelspec": {
   "display_name": "wyckofftransformer-FeCwefly-py3.12",
   "language": "python",
   "name": "python3"
  },
  "language_info": {
   "codemirror_mode": {
    "name": "ipython",
    "version": 3
   },
   "file_extension": ".py",
   "mimetype": "text/x-python",
   "name": "python",
   "nbconvert_exporter": "python",
   "pygments_lexer": "ipython3",
   "version": "3.12.3"
  }
 },
 "nbformat": 4,
 "nbformat_minor": 5
}
