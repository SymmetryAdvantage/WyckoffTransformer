{
 "cells": [
  {
   "cell_type": "code",
   "execution_count": 1,
   "metadata": {},
   "outputs": [],
   "source": [
    "mp_20_datasets = {\n",
    "    \"WyFormer\": (\"WyckoffTransformer\", \"CrySPR\", \"CHGNet_fix_release\"),\n",
    "    \"WyForDiffCSP++\": (\"WyckoffTransformer\", \"DiffCSP++\", \"CHGNet_fix\"),\n",
    "    \"DiffCSP\": (\"DiffCSP\", \"CHGNet_fix\")\n",
    "}\n",
    "mp_20_biternary_datasets = {\n",
    "    \"WyFormer\": (\"WyckoffTransformer\",),\n",
    "    \"WyFormer+\": (\"WyckoffTransformer\", \"CrySPR\", \"CHGNet_fix\"),\n",
    "    \"WyCryst\": ('WyCryst', 'CHGNet_fix')\n",
    "}"
   ]
  },
  {
   "cell_type": "code",
   "execution_count": 2,
   "metadata": {},
   "outputs": [
    {
     "name": "stderr",
     "output_type": "stream",
     "text": [
      "/home/kna/.cache/pypoetry/virtualenvs/wyckofftransformer-FeCwefly-py3.12/lib/python3.12/site-packages/matminer/utils/data.py:326: UserWarning: MagpieData(impute_nan=False):\n",
      "In a future release, impute_nan will be set to True by default.\n",
      "                    This means that features that are missing or are NaNs for elements\n",
      "                    from the data source will be replaced by the average of that value\n",
      "                    over the available elements.\n",
      "                    This avoids NaNs after featurization that are often replaced by\n",
      "                    dataset-dependent averages.\n",
      "  warnings.warn(f\"{self.__class__.__name__}(impute_nan=False):\\n\" + IMPUTE_NAN_WARNING)\n"
     ]
    }
   ],
   "source": [
    "from evaluation.generated_dataset import GeneratedDataset, load_all_from_config\n",
    "mp_20_data = load_all_from_config(\n",
    "    datasets=list(mp_20_datasets.values()) + \\\n",
    "        [(\"split\", \"train\"), (\"split\", \"val\"), (\"split\", \"test\"), (\"WyckoffTransformer\", \"CrySPR\", \"CHGNet_fix\")],\n",
    "    dataset_name=\"mp_20\")"
   ]
  },
  {
   "cell_type": "code",
   "execution_count": 3,
   "metadata": {},
   "outputs": [],
   "source": [
    "mp_20_biternary_data = load_all_from_config(\n",
    "    datasets=list(mp_20_biternary_datasets.values()) + \\\n",
    "        [(\"split\", \"train\"), (\"split\", \"val\"), (\"split\", \"test\")],\n",
    "    dataset_name=\"mp_20_biternary\")"
   ]
  },
  {
   "cell_type": "code",
   "execution_count": 4,
   "metadata": {},
   "outputs": [],
   "source": [
    "import pandas as pd\n",
    "from tqdm.auto import tqdm\n",
    "from evaluation.novelty import NoveltyFilter, filter_by_unique_structure\n",
    "\n",
    "novelty_reference = pd.concat([\n",
    "    mp_20_data[('split', 'train')].data,\n",
    "    mp_20_data[('split', 'val')].data], axis=0, verify_integrity=True)\n",
    "novelty_filter = NoveltyFilter(novelty_reference)"
   ]
  },
  {
   "cell_type": "code",
   "execution_count": 5,
   "metadata": {},
   "outputs": [
    {
     "data": {
      "text/plain": [
       "0.018129560026531065"
      ]
     },
     "execution_count": 5,
     "metadata": {},
     "output_type": "execute_result"
    }
   ],
   "source": [
    "(mp_20_data[('split', 'test')].data.group == 1).mean()"
   ]
  },
  {
   "cell_type": "code",
   "execution_count": 6,
   "metadata": {},
   "outputs": [
    {
     "data": {
      "text/plain": [
       "0.011098623208766508"
      ]
     },
     "execution_count": 6,
     "metadata": {},
     "output_type": "execute_result"
    }
   ],
   "source": [
    "(mp_20_biternary_data[('split', 'test')].data.group == 1).mean()"
   ]
  },
  {
   "cell_type": "code",
   "execution_count": 7,
   "metadata": {},
   "outputs": [],
   "source": [
    "from evaluation.statistical_evaluator import StatisticalEvaluator"
   ]
  },
  {
   "cell_type": "code",
   "execution_count": 8,
   "metadata": {},
   "outputs": [
    {
     "data": {
      "application/vnd.jupyter.widget-view+json": {
       "model_id": "31590a9390bd405691bb36928ee5e3bc",
       "version_major": 2,
       "version_minor": 0
      },
      "text/plain": [
       "  0%|          | 0/3 [00:00<?, ?it/s]"
      ]
     },
     "metadata": {},
     "output_type": "display_data"
    },
    {
     "name": "stdout",
     "output_type": "stream",
     "text": [
      "Unique: 1000 / 1000 = 1.0\n",
      "Unique: 1000 / 1000 = 1.0\n",
      "Unique: 996 / 1000 = 0.996\n"
     ]
    },
    {
     "data": {
      "text/html": [
       "<div>\n",
       "<style scoped>\n",
       "    .dataframe tbody tr th:only-of-type {\n",
       "        vertical-align: middle;\n",
       "    }\n",
       "\n",
       "    .dataframe tbody tr th {\n",
       "        vertical-align: top;\n",
       "    }\n",
       "\n",
       "    .dataframe thead th {\n",
       "        text-align: right;\n",
       "    }\n",
       "</style>\n",
       "<table border=\"1\" class=\"dataframe\">\n",
       "  <thead>\n",
       "    <tr style=\"text-align: right;\">\n",
       "      <th></th>\n",
       "      <th>Novelty (%)</th>\n",
       "      <th>Charge neutrality (%)</th>\n",
       "      <th>Num sites KS</th>\n",
       "      <th>Num elements KS</th>\n",
       "      <th>DoF KS</th>\n",
       "      <th>P1 (%)</th>\n",
       "      <th>SG chi2</th>\n",
       "      <th>Elements chi2</th>\n",
       "      <th>S.U.N. (%)</th>\n",
       "    </tr>\n",
       "    <tr>\n",
       "      <th>Method</th>\n",
       "      <th></th>\n",
       "      <th></th>\n",
       "      <th></th>\n",
       "      <th></th>\n",
       "      <th></th>\n",
       "      <th></th>\n",
       "      <th></th>\n",
       "      <th></th>\n",
       "      <th></th>\n",
       "    </tr>\n",
       "  </thead>\n",
       "  <tbody>\n",
       "    <tr>\n",
       "      <th>WyFormer</th>\n",
       "      <td>90.0</td>\n",
       "      <td>80.444444</td>\n",
       "      <td>0.057557</td>\n",
       "      <td>0.054826</td>\n",
       "      <td>0.066433</td>\n",
       "      <td>3.333333</td>\n",
       "      <td>0.221954</td>\n",
       "      <td>0.039941</td>\n",
       "      <td>39.239239</td>\n",
       "    </tr>\n",
       "    <tr>\n",
       "      <th>WyForDiffCSP++</th>\n",
       "      <td>89.5</td>\n",
       "      <td>80.335196</td>\n",
       "      <td>0.04644</td>\n",
       "      <td>0.055162</td>\n",
       "      <td>0.040195</td>\n",
       "      <td>1.452514</td>\n",
       "      <td>0.211374</td>\n",
       "      <td>0.039068</td>\n",
       "      <td>36.7</td>\n",
       "    </tr>\n",
       "    <tr>\n",
       "      <th>DiffCSP</th>\n",
       "      <td>90.060241</td>\n",
       "      <td>80.936455</td>\n",
       "      <td>0.415229</td>\n",
       "      <td>0.163834</td>\n",
       "      <td>0.406518</td>\n",
       "      <td>36.566332</td>\n",
       "      <td>7.947035</td>\n",
       "      <td>0.099073</td>\n",
       "      <td>57.4</td>\n",
       "    </tr>\n",
       "  </tbody>\n",
       "</table>\n",
       "</div>"
      ],
      "text/plain": [
       "               Novelty (%) Charge neutrality (%) Num sites KS Num elements KS  \\\n",
       "Method                                                                          \n",
       "WyFormer              90.0             80.444444     0.057557        0.054826   \n",
       "WyForDiffCSP++        89.5             80.335196      0.04644        0.055162   \n",
       "DiffCSP          90.060241             80.936455     0.415229        0.163834   \n",
       "\n",
       "                  DoF KS     P1 (%)   SG chi2 Elements chi2 S.U.N. (%)  \n",
       "Method                                                                  \n",
       "WyFormer        0.066433   3.333333  0.221954      0.039941  39.239239  \n",
       "WyForDiffCSP++  0.040195   1.452514  0.211374      0.039068       36.7  \n",
       "DiffCSP         0.406518  36.566332  7.947035      0.099073       57.4  "
      ]
     },
     "execution_count": 8,
     "metadata": {},
     "output_type": "execute_result"
    }
   ],
   "source": [
    "evaluator = StatisticalEvaluator(mp_20_data[('split', 'test')].data)\n",
    "table = pd.DataFrame(\n",
    "    index=mp_20_datasets.keys(), columns=[\n",
    "        \"Novelty (%)\", \"Charge neutrality (%)\",\n",
    "        \"Num sites KS\", \"Num elements KS\",\n",
    "        \"DoF KS\", \"P1 (%)\", \"SG chi2\", \"Elements chi2\",\n",
    "        \"S.U.N. (%)\"])\n",
    "table.index.name = \"Method\"\n",
    "E_hull_threshold = 0.08\n",
    "element_counts = {}\n",
    "novel_ehull = {}\n",
    "for name, transformations in tqdm(mp_20_datasets.items()):\n",
    "    dataset = mp_20_data[transformations]\n",
    "    unique = filter_by_unique_structure(dataset.data)\n",
    "    print(f\"Unique: {len(unique)} / {len(dataset.data)} = {len(unique) / len(dataset.data)}\")\n",
    "    novel = novelty_filter.get_novel(unique)\n",
    "    table.loc[name, \"Novelty (%)\"] = 100 * len(novel) / len(unique)\n",
    "    table.loc[name, \"Charge neutrality (%)\"] = 100 * novel.smact_validity.mean()\n",
    "    table.loc[name, \"Num sites KS\"] = evaluator.get_num_sites_ks(novel).statistic\n",
    "    table.loc[name, \"Num elements KS\"] = evaluator.get_num_elements_ks(novel).statistic\n",
    "    table.loc[name, \"DoF KS\"] = evaluator.get_dof_ks(novel).statistic\n",
    "    table.loc[name, \"P1 (%)\"] = 100 * (novel.group == 1).mean()\n",
    "    table.loc[name, \"SG chi2\"] = evaluator.get_sg_chi2(novel)\n",
    "    table.loc[name, \"Elements chi2\"], element_counts[name] = \\\n",
    "        evaluator.get_elements_chi2(novel, return_counts=True)\n",
    "    is_sun = (novel.corrected_chgnet_ehull <= E_hull_threshold)\n",
    "    has_ehull = dataset.data.corrected_chgnet_ehull.notna().sum()\n",
    "    table.loc[name, \"S.U.N. (%)\"] = 100 * is_sun.sum() / has_ehull\n",
    "    novel_ehull[name] = novel.corrected_chgnet_ehull\n",
    "table"
   ]
  },
  {
   "cell_type": "code",
   "execution_count": 9,
   "metadata": {},
   "outputs": [
    {
     "data": {
      "image/png": "[encoded data removed]",
      "text/plain": [
       "<Figure size 640x480 with 1 Axes>"
      ]
     },
     "metadata": {},
     "output_type": "display_data"
    }
   ],
   "source": [
    "import numpy as np\n",
    "import matplotlib.pyplot as plt\n",
    "fig, ax = plt.subplots()\n",
    "bins = np.arange(-0.5, 3, 0.05)\n",
    "for name, ehull in novel_ehull.items():\n",
    "    ax.hist(ehull, label=f\"{name}, {100*(ehull < E_hull_threshold).mean():.0f} %\",\n",
    "    alpha=0.5, bins=bins, density=True)\n",
    "ax.set_xlim(-0.3, 1.7)\n",
    "ax.axvline(E_hull_threshold, color=\"red\", label=\"Stability threshold\")\n",
    "ax.set_xlabel(\"Corrected CHGNet $E_\\\\text{hull}$ (eV/atom)\")\n",
    "ax.set_ylabel(\"Density\")\n",
    "ax.legend()\n",
    "ax.grid()\n",
    "ax.set_title(\"Stability of novel structures\")\n",
    "fig.tight_layout()\n",
    "fig.savefig(\"plots/AI4AM_NeurIPS_2024/DiffCSP_vs_WyckoffTransformer_stability.pdf\")"
   ]
  },
  {
   "cell_type": "code",
   "execution_count": 10,
   "metadata": {},
   "outputs": [],
   "source": [
    "from evaluation.cdvae_metrics import timed_smact_validity_from_record"
   ]
  },
  {
   "cell_type": "code",
   "execution_count": 11,
   "metadata": {},
   "outputs": [
    {
     "data": {
      "application/vnd.jupyter.widget-view+json": {
       "model_id": "9df9ef32bb5e4df4ab748218af654f63",
       "version_major": 2,
       "version_minor": 0
      },
      "text/plain": [
       "  0%|          | 0/3 [00:00<?, ?it/s]"
      ]
     },
     "metadata": {},
     "output_type": "display_data"
    },
    {
     "name": "stdout",
     "output_type": "stream",
     "text": [
      "Unique: 9822 / 10000 = 0.9822\n",
      "Unique: 999 / 999 = 1.0\n",
      "Unique: 994 / 994 = 1.0\n"
     ]
    },
    {
     "data": {
      "text/html": [
       "<div>\n",
       "<style scoped>\n",
       "    .dataframe tbody tr th:only-of-type {\n",
       "        vertical-align: middle;\n",
       "    }\n",
       "\n",
       "    .dataframe tbody tr th {\n",
       "        vertical-align: top;\n",
       "    }\n",
       "\n",
       "    .dataframe thead th {\n",
       "        text-align: right;\n",
       "    }\n",
       "</style>\n",
       "<table border=\"1\" class=\"dataframe\">\n",
       "  <thead>\n",
       "    <tr style=\"text-align: right;\">\n",
       "      <th></th>\n",
       "      <th>Novelty (%)</th>\n",
       "      <th>Charge neutrality (%)</th>\n",
       "      <th>Num sites KS</th>\n",
       "      <th>Num elements KS</th>\n",
       "      <th>DoF KS</th>\n",
       "      <th>P1 (%)</th>\n",
       "      <th>SG chi2</th>\n",
       "      <th>Elements chi2</th>\n",
       "      <th>S.U.N. (%)</th>\n",
       "    </tr>\n",
       "    <tr>\n",
       "      <th>Method</th>\n",
       "      <th></th>\n",
       "      <th></th>\n",
       "      <th></th>\n",
       "      <th></th>\n",
       "      <th></th>\n",
       "      <th></th>\n",
       "      <th></th>\n",
       "      <th></th>\n",
       "      <th></th>\n",
       "    </tr>\n",
       "  </thead>\n",
       "  <tbody>\n",
       "    <tr>\n",
       "      <th>WyFormer</th>\n",
       "      <td>89.3708</td>\n",
       "      <td>79.254956</td>\n",
       "      <td>0.052273</td>\n",
       "      <td>0.029278</td>\n",
       "      <td>0.055735</td>\n",
       "      <td>1.116427</td>\n",
       "      <td>0.063005</td>\n",
       "      <td>0.018683</td>\n",
       "      <td>38.738739</td>\n",
       "    </tr>\n",
       "    <tr>\n",
       "      <th>WyFormer+</th>\n",
       "      <td>91.091091</td>\n",
       "      <td>77.252747</td>\n",
       "      <td>0.0514</td>\n",
       "      <td>0.057391</td>\n",
       "      <td>0.047035</td>\n",
       "      <td>1.428571</td>\n",
       "      <td>0.223784</td>\n",
       "      <td>0.047218</td>\n",
       "      <td>38.438438</td>\n",
       "    </tr>\n",
       "    <tr>\n",
       "      <th>WyCryst</th>\n",
       "      <td>52.615694</td>\n",
       "      <td>75.525813</td>\n",
       "      <td>0.2873</td>\n",
       "      <td>0.002406</td>\n",
       "      <td>0.282513</td>\n",
       "      <td>4.780115</td>\n",
       "      <td>0.824438</td>\n",
       "      <td>0.13974</td>\n",
       "      <td>36.720322</td>\n",
       "    </tr>\n",
       "  </tbody>\n",
       "</table>\n",
       "</div>"
      ],
      "text/plain": [
       "          Novelty (%) Charge neutrality (%) Num sites KS Num elements KS  \\\n",
       "Method                                                                     \n",
       "WyFormer      89.3708             79.254956     0.052273        0.029278   \n",
       "WyFormer+   91.091091             77.252747       0.0514        0.057391   \n",
       "WyCryst     52.615694             75.525813       0.2873        0.002406   \n",
       "\n",
       "             DoF KS    P1 (%)   SG chi2 Elements chi2 S.U.N. (%)  \n",
       "Method                                                            \n",
       "WyFormer   0.055735  1.116427  0.063005      0.018683  38.738739  \n",
       "WyFormer+  0.047035  1.428571  0.223784      0.047218  38.438438  \n",
       "WyCryst    0.282513  4.780115  0.824438       0.13974  36.720322  "
      ]
     },
     "execution_count": 11,
     "metadata": {},
     "output_type": "execute_result"
    }
   ],
   "source": [
    "evaluator = StatisticalEvaluator(mp_20_biternary_data[('split', 'test')].data)\n",
    "table = pd.DataFrame(\n",
    "    index=mp_20_biternary_datasets.keys(), columns=[\n",
    "        \"Novelty (%)\", \"Charge neutrality (%)\",\n",
    "        \"Num sites KS\", \"Num elements KS\",\n",
    "        \"DoF KS\", \"P1 (%)\", \"SG chi2\", \"Elements chi2\",\n",
    "        \"S.U.N. (%)\"])\n",
    "table.index.name = \"Method\"\n",
    "E_hull_threshold = 0.08\n",
    "novel_ehull = {}\n",
    "for name, transformations in tqdm(mp_20_biternary_datasets.items()):\n",
    "    dataset = mp_20_biternary_data[transformations]\n",
    "    unique = filter_by_unique_structure(dataset.data)\n",
    "    print(f\"Unique: {len(unique)} / {len(dataset.data)} = {len(unique) / len(dataset.data)}\")\n",
    "    novel = novelty_filter.get_novel(unique)\n",
    "    table.loc[name, \"Novelty (%)\"] = 100 * len(novel) / len(unique)\n",
    "    if \"smact_validity\" in novel.columns:\n",
    "        table.loc[name, \"Charge neutrality (%)\"] = 100 * novel.smact_validity.mean()\n",
    "    else:\n",
    "        table.loc[name, \"Charge neutrality (%)\"] = 100 * novel.apply(\n",
    "            timed_smact_validity_from_record, axis=1).mean()\n",
    "    table.loc[name, \"Num sites KS\"] = evaluator.get_num_sites_ks(novel).statistic\n",
    "    table.loc[name, \"Num elements KS\"] = evaluator.get_num_elements_ks(novel).statistic\n",
    "    table.loc[name, \"DoF KS\"] = evaluator.get_dof_ks(novel).statistic\n",
    "    table.loc[name, \"P1 (%)\"] = 100 * (novel.group == 1).mean()\n",
    "    table.loc[name, \"SG chi2\"] = evaluator.get_sg_chi2(novel)\n",
    "    table.loc[name, \"Elements chi2\"] = evaluator.get_elements_chi2(novel)\n",
    "    is_sun = (novel.corrected_chgnet_ehull <= E_hull_threshold)\n",
    "    has_ehull = dataset.data.corrected_chgnet_ehull.notna().sum()\n",
    "    table.loc[name, \"S.U.N. (%)\"] = 100 * is_sun.sum() / has_ehull\n",
    "    novel_ehull[name] = novel.corrected_chgnet_ehull.dropna()\n",
    "table"
   ]
  },
  {
   "cell_type": "code",
   "execution_count": 12,
   "metadata": {},
   "outputs": [
    {
     "data": {
      "image/png": "[encoded data removed]",
      "text/plain": [
       "<Figure size 640x480 with 1 Axes>"
      ]
     },
     "metadata": {},
     "output_type": "display_data"
    }
   ],
   "source": [
    "import numpy as np\n",
    "fig, ax = plt.subplots()\n",
    "bins = np.arange(-0.5, 3, 0.05)\n",
    "for name, ehull in novel_ehull.items():\n",
    "    ax.hist(ehull, label=f\"{name}, {100*(ehull < E_hull_threshold).mean():.0f} %\",\n",
    "    alpha=0.5, bins=bins, density=True)\n",
    "ax.set_xlim(-0.3, 1.7)\n",
    "ax.axvline(E_hull_threshold, color=\"red\", label=\"Stability threshold\")\n",
    "ax.set_xlabel(\"Corrected CHGNet $E_\\\\text{hull}$ (eV/atom)\")\n",
    "ax.set_ylabel(\"Density\")\n",
    "ax.legend()\n",
    "ax.grid()\n",
    "ax.set_title(\"Stability of novel structures\")\n",
    "fig.tight_layout()\n",
    "fig.savefig(\"plots/AI4AM_NeurIPS_2024/WyCryst_vs_WyckoffTransformer_stability.pdf\")"
   ]
  }
 ],
 "metadata": {
  "kernelspec": {
   "display_name": "wyckofftransformer-FeCwefly-py3.12",
   "language": "python",
   "name": "python3"
  },
  "language_info": {
   "codemirror_mode": {
    "name": "ipython",
    "version": 3
   },
   "file_extension": ".py",
   "mimetype": "text/x-python",
   "name": "python",
   "nbconvert_exporter": "python",
   "pygments_lexer": "ipython3",
   "version": "3.12.3"
  }
 },
 "nbformat": 4,
 "nbformat_minor": 2
}
