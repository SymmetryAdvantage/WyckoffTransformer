{
 "cells": [
  {
   "cell_type": "code",
   "execution_count": 3,
   "metadata": {},
   "outputs": [
    {
     "name": "stderr",
     "output_type": "stream",
     "text": [
      "/home/kna/.cache/pypoetry/virtualenvs/wyckofftransformer-FeCwefly-py3.12/lib/python3.12/site-packages/matminer/utils/data.py:326: UserWarning: MagpieData(impute_nan=False):\n",
      "In a future release, impute_nan will be set to True by default.\n",
      "                    This means that features that are missing or are NaNs for elements\n",
      "                    from the data source will be replaced by the average of that value\n",
      "                    over the available elements.\n",
      "                    This avoids NaNs after featurization that are often replaced by\n",
      "                    dataset-dependent averages.\n",
      "  warnings.warn(f\"{self.__class__.__name__}(impute_nan=False):\\n\" + IMPUTE_NAN_WARNING)\n"
     ]
    }
   ],
   "source": [
    "import pandas as pd\n",
    "from tqdm.notebook import tqdm\n",
    "import sys\n",
    "sys.path.append('..')\n",
    "from evaluation.generated_dataset import GeneratedDataset, load_all_from_config\n",
    "from evaluation.novelty import NoveltyFilter, filter_by_unique_structure"
   ]
  },
  {
   "cell_type": "code",
   "execution_count": 1,
   "metadata": {},
   "outputs": [],
   "source": [
    "dft_datasets = {\n",
    "    \"WyFormerDirect\": (\"WyckoffTransformer\", \"DFT\"),\n",
    "    \"WyFormerCrySPR\": (\"WyckoffTransformer\", \"CrySPR\", \"CHGNet_fix\", \"DFT\"),\n",
    "    \"WyFormerDiffCSP++\": (\"WyckoffTransformer\", \"DiffCSP++\", \"DFT\"),\n",
    "    \"DiffCSP\": (\"DiffCSP\", \"DFT\"),\n",
    "    \"DiffCSP++\": (\"DiffCSP++\", \"DFT\")\n",
    "}\n",
    "\n",
    "source_datasets = {name: t[:-1] for name, t in dft_datasets.items()}"
   ]
  },
  {
   "cell_type": "code",
   "execution_count": 4,
   "metadata": {},
   "outputs": [],
   "source": [
    "all_datasets = load_all_from_config(\n",
    "    datasets=list(dft_datasets.values()) + list(source_datasets.values()) + \\\n",
    "        [(\"split\", \"train\"), (\"split\", \"val\"), (\"split\", \"test\")],\n",
    "    dataset_name=\"mp_20\")"
   ]
  },
  {
   "cell_type": "code",
   "execution_count": 8,
   "metadata": {},
   "outputs": [],
   "source": [
    "from typing import Tuple\n",
    "def is_sg_preserved(relaxed_sg, transformations: Tuple[str]) -> pd.Series:\n",
    "    source_sg = all_datasets[(transformations[0],)].data.spacegroup_number\n",
    "    return relaxed_sg == source_sg.reindex_like(relaxed_sg)\n",
    "\n",
    "def is_wyckoff_preserved(transformations: Tuple[str]) -> pd.Series:\n",
    "    dft_fingerprint = all_datasets[transformations].data.fingerprint\n",
    "    initial_fingerprint = all_datasets[(transformations[0],)].data.fingerprint\n",
    "    return dft_fingerprint == initial_fingerprint.reindex_like(dft_fingerprint)"
   ]
  },
  {
   "cell_type": "code",
   "execution_count": 12,
   "metadata": {},
   "outputs": [
    {
     "data": {
      "text/plain": [
       "80"
      ]
     },
     "execution_count": 12,
     "metadata": {},
     "output_type": "execute_result"
    }
   ],
   "source": [
    "is_wyckoff_preserved((\"WyckoffTransformer\", \"CrySPR\", \"CHGNet_fix\", \"DFT\")).sum()"
   ]
  },
  {
   "cell_type": "code",
   "execution_count": 17,
   "metadata": {},
   "outputs": [],
   "source": [
    "transformations = (\"WyckoffTransformer\", \"DiffCSP++\", \"DFT\")\n",
    "preserved = is_wyckoff_preserved(transformations)"
   ]
  },
  {
   "cell_type": "code",
   "execution_count": 21,
   "metadata": {},
   "outputs": [],
   "source": [
    "stable = all_datasets[transformations].data.corrected_e_hull <= 0.08"
   ]
  },
  {
   "cell_type": "code",
   "execution_count": 24,
   "metadata": {},
   "outputs": [
    {
     "data": {
      "text/plain": [
       "(14, 63)"
      ]
     },
     "execution_count": 24,
     "metadata": {},
     "output_type": "execute_result"
    }
   ],
   "source": [
    "preserved[stable].sum(), preserved[~stable].sum()"
   ]
  },
  {
   "cell_type": "code",
   "execution_count": 25,
   "metadata": {},
   "outputs": [],
   "source": [
    "transformations_naive = (\"WyckoffTransformer\", \"DFT\")"
   ]
  },
  {
   "cell_type": "code",
   "execution_count": 34,
   "metadata": {},
   "outputs": [
    {
     "data": {
      "text/plain": [
       "true_index\n",
       "2       True\n",
       "3      False\n",
       "4       True\n",
       "5       True\n",
       "6       True\n",
       "       ...  \n",
       "113     True\n",
       "114     True\n",
       "115     True\n",
       "116     True\n",
       "117     True\n",
       "Name: fingerprint, Length: 88, dtype: bool"
      ]
     },
     "execution_count": 34,
     "metadata": {},
     "output_type": "execute_result"
    }
   ],
   "source": [
    "fingerprint_naive = all_datasets[transformations_naive].data.fingerprint\n",
    "fingerprint_transformed = all_datasets[transformations].data.fingerprint\n",
    "\n",
    "# Reindex the fingerprints to align the indices\n",
    "common_index = fingerprint_naive.index.intersection(fingerprint_transformed.index)\n",
    "aligned_fingerprint_naive = fingerprint_naive.reindex(common_index)\n",
    "aligned_fingerprint_transformed = fingerprint_transformed.reindex(common_index)\n",
    "\n",
    "# Compare the fingerprints\n",
    "comparison = aligned_fingerprint_naive == aligned_fingerprint_transformed\n",
    "comparison"
   ]
  },
  {
   "cell_type": "code",
   "execution_count": 35,
   "metadata": {},
   "outputs": [
    {
     "data": {
      "text/plain": [
       "77"
      ]
     },
     "execution_count": 35,
     "metadata": {},
     "output_type": "execute_result"
    }
   ],
   "source": [
    "comparison.sum()"
   ]
  }
 ],
 "metadata": {
  "kernelspec": {
   "display_name": "wyckofftransformer-FeCwefly-py3.12",
   "language": "python",
   "name": "python3"
  },
  "language_info": {
   "codemirror_mode": {
    "name": "ipython",
    "version": 3
   },
   "file_extension": ".py",
   "mimetype": "text/x-python",
   "name": "python",
   "nbconvert_exporter": "python",
   "pygments_lexer": "ipython3",
   "version": "3.12.3"
  }
 },
 "nbformat": 4,
 "nbformat_minor": 2
}
