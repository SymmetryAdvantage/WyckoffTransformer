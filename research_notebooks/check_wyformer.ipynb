{
 "cells": [
  {
   "cell_type": "code",
   "execution_count": 1,
   "id": "655b4492",
   "metadata": {},
   "outputs": [],
   "source": [
    "import pandas as pd"
   ]
  },
  {
   "cell_type": "code",
   "execution_count": 11,
   "id": "76b42357",
   "metadata": {},
   "outputs": [],
   "source": [
    "dft = pd.read_csv(\"../generated/WyFormer-GGA-relax-1.csv.gz\", index_col=\"material_id\")"
   ]
  },
  {
   "cell_type": "code",
   "execution_count": 52,
   "id": "c78a414b",
   "metadata": {},
   "outputs": [],
   "source": [
    "chgnet = pd.read_csv(\"../generated/CIF-FMT-10000_original-wyformer-mp20.csv\", index_col=0)"
   ]
  },
  {
   "cell_type": "code",
   "execution_count": 54,
   "id": "bc93dc79",
   "metadata": {},
   "outputs": [],
   "source": [
    "import gzip\n",
    "import json\n",
    "with gzip.open(\"../generated/WyckoffTransformer_mp_20.diffcsp-pp-10k.json.gz\", \"rt\") as f:\n",
    "    diffcsp = json.load(f)"
   ]
  },
  {
   "cell_type": "code",
   "execution_count": 59,
   "id": "528420f9",
   "metadata": {},
   "outputs": [
    {
     "data": {
      "text/plain": [
       "Structure Summary\n",
       "Lattice\n",
       "    abc : 5.617759704589844 9.843255996704102 9.197141647338867\n",
       " angles : 90.0 90.0 90.0\n",
       " volume : 508.574773021109\n",
       "      A : 5.617759704589844 0.0 0.0\n",
       "      B : 0.0 9.843255996704102 0.0\n",
       "      C : 0.0 0.0 9.197141647338867\n",
       "    pbc : True True True\n",
       "PeriodicSite: In (0.0, 1.531, 4.599) [0.0, 0.1556, 0.5]\n",
       "PeriodicSite: In (0.0, 8.312, 4.599) [0.0, 0.8444, 0.5]\n",
       "PeriodicSite: In (2.809, 6.453, 0.0) [0.5, 0.6556, 0.0]\n",
       "PeriodicSite: In (2.809, 3.39, 0.0) [0.5, 0.3444, 0.0]\n",
       "PeriodicSite: In (2.809, 0.0, 6.13) [0.5, 0.0, 0.6665]\n",
       "PeriodicSite: In (2.809, 0.0, 3.067) [0.5, 0.0, 0.3335]\n",
       "PeriodicSite: In (0.0, 4.922, 1.531) [0.0, 0.5, 0.1665]\n",
       "PeriodicSite: In (0.0, 4.922, 7.666) [0.0, 0.5, 0.8335]\n",
       "PeriodicSite: In (0.0, 1.695, 0.0) [0.0, 0.1722, 0.0]\n",
       "PeriodicSite: In (0.0, 8.149, 0.0) [0.0, 0.8278, 0.0]\n",
       "PeriodicSite: In (2.809, 6.616, 4.599) [0.5, 0.6722, 0.5]\n",
       "PeriodicSite: In (2.809, 3.227, 4.599) [0.5, 0.3278, 0.5]\n",
       "PeriodicSite: Cu (0.0, 0.0, 7.03) [0.0, 0.0, 0.7643]\n",
       "PeriodicSite: Cu (0.0, 0.0, 2.167) [0.0, 0.0, 0.2357]\n",
       "PeriodicSite: Cu (2.809, 4.922, 2.431) [0.5, 0.5, 0.2643]\n",
       "PeriodicSite: Cu (2.809, 4.922, 6.766) [0.5, 0.5, 0.7357]\n",
       "PeriodicSite: Cu (1.404, 2.461, 2.299) [0.25, 0.25, 0.25]\n",
       "PeriodicSite: Cu (4.213, 7.382, 2.299) [0.75, 0.75, 0.25]\n",
       "PeriodicSite: Cu (4.213, 2.461, 6.898) [0.75, 0.25, 0.75]\n",
       "PeriodicSite: Cu (1.404, 7.382, 6.898) [0.25, 0.75, 0.75]\n",
       "PeriodicSite: Cu (4.213, 7.382, 6.898) [0.75, 0.75, 0.75]\n",
       "PeriodicSite: Cu (1.404, 2.461, 6.898) [0.25, 0.25, 0.75]\n",
       "PeriodicSite: Cu (1.404, 7.382, 2.299) [0.25, 0.75, 0.25]\n",
       "PeriodicSite: Cu (4.213, 2.461, 2.299) [0.75, 0.25, 0.25]\n",
       "PeriodicSite: Dy (0.0, 4.922, 4.599) [0.0, 0.5, 0.5]\n",
       "PeriodicSite: Dy (2.809, 0.0, 0.0) [0.5, 0.0, 0.0]"
      ]
     },
     "execution_count": 59,
     "metadata": {},
     "output_type": "execute_result"
    }
   ],
   "source": [
    "Structure.from_dict(diffcsp[0])"
   ]
  },
  {
   "cell_type": "code",
   "execution_count": 67,
   "id": "375aa56b",
   "metadata": {},
   "outputs": [
    {
     "data": {
      "text/plain": [
       "Structure Summary\n",
       "Lattice\n",
       "    abc : 3.78446573 5.86577209 10.38201006\n",
       " angles : 90.00000146 89.99999555 90.00000008\n",
       " volume : 230.46830460567284\n",
       "      A : 3.7844657299999884 0.0 2.93928674645027e-07\n",
       "      B : -8.190152394334944e-09 5.865772089999998 -1.4947047128003072e-07\n",
       "      C : 0.0 0.0 10.38201006\n",
       "    pbc : True True True\n",
       "PeriodicSite: Pr0 (Pr) (2.838, 0.537, 6.574) [0.75, 0.09155, 0.6332]\n",
       "PeriodicSite: Pr1 (Pr) (0.9461, 2.396, 1.383) [0.25, 0.4084, 0.1332]\n",
       "PeriodicSite: Pr2 (Pr) (0.9461, 5.329, 3.808) [0.25, 0.9084, 0.3668]\n",
       "PeriodicSite: Pr3 (Pr) (2.838, 3.47, 8.999) [0.75, 0.5916, 0.8668]\n",
       "PeriodicSite: Re4 (Re) (2.838, 2.516, 4.014) [0.75, 0.429, 0.3866]\n",
       "PeriodicSite: Re5 (Re) (0.9461, 0.4167, 9.205) [0.25, 0.07103, 0.8866]\n",
       "PeriodicSite: Re6 (Re) (0.9461, 3.35, 6.368) [0.25, 0.571, 0.6134]\n",
       "PeriodicSite: Re7 (Re) (2.838, 5.449, 1.177) [0.75, 0.929, 0.1134]\n",
       "PeriodicSite: C8 (C) (2.838, 0.957, 9.926) [0.75, 0.1632, 0.9561]\n",
       "PeriodicSite: C9 (C) (0.9461, 1.976, 4.735) [0.25, 0.3368, 0.4561]\n",
       "PeriodicSite: C10 (C) (0.9461, 4.909, 0.4558) [0.25, 0.8368, 0.0439]\n",
       "PeriodicSite: C11 (C) (2.838, 3.89, 5.647) [0.75, 0.6632, 0.5439]\n",
       "PeriodicSite: C12 (C) (2.838, 0.9379, 2.602) [0.75, 0.1599, 0.2507]\n",
       "PeriodicSite: C13 (C) (0.9461, 1.995, 7.793) [0.25, 0.3401, 0.7507]\n",
       "PeriodicSite: C14 (C) (0.9461, 4.928, 7.78) [0.25, 0.8401, 0.7493]\n",
       "PeriodicSite: C15 (C) (2.838, 3.871, 2.589) [0.75, 0.6599, 0.2493]"
      ]
     },
     "execution_count": 67,
     "metadata": {},
     "output_type": "execute_result"
    }
   ],
   "source": [
    "Structure.from_str(chgnet.cif.iloc[0], fmt=\"cif\")"
   ]
  },
  {
   "cell_type": "code",
   "execution_count": 10,
   "id": "0856360f",
   "metadata": {},
   "outputs": [
    {
     "data": {
      "text/plain": [
       "10170"
      ]
     },
     "execution_count": 10,
     "metadata": {},
     "output_type": "execute_result"
    }
   ],
   "source": [
    "len(data)"
   ]
  },
  {
   "cell_type": "code",
   "execution_count": 3,
   "id": "366724da",
   "metadata": {},
   "outputs": [
    {
     "data": {
      "text/plain": [
       "Index([8814, 3017, 5866,  269,  580, 7477, 3910, 4009, 4095, 1824,\n",
       "       ...\n",
       "       8756, 4268, 6227, 6312, 5204, 5021, 2534, 1218, 5540, 3099],\n",
       "      dtype='int64', name='material_id', length=184)"
      ]
     },
     "execution_count": 3,
     "metadata": {},
     "output_type": "execute_result"
    }
   ],
   "source": [
    "data.index[data.index.duplicated()].unique()"
   ]
  },
  {
   "cell_type": "code",
   "execution_count": 4,
   "id": "e76c65fa",
   "metadata": {},
   "outputs": [
    {
     "data": {
      "text/html": [
       "<div>\n",
       "<style scoped>\n",
       "    .dataframe tbody tr th:only-of-type {\n",
       "        vertical-align: middle;\n",
       "    }\n",
       "\n",
       "    .dataframe tbody tr th {\n",
       "        vertical-align: top;\n",
       "    }\n",
       "\n",
       "    .dataframe thead th {\n",
       "        text-align: right;\n",
       "    }\n",
       "</style>\n",
       "<table border=\"1\" class=\"dataframe\">\n",
       "  <thead>\n",
       "    <tr style=\"text-align: right;\">\n",
       "      <th></th>\n",
       "      <th>e_above_hull_corrected</th>\n",
       "      <th>e_uncorrected</th>\n",
       "      <th>e_corrected</th>\n",
       "      <th>structure</th>\n",
       "      <th>entry</th>\n",
       "    </tr>\n",
       "    <tr>\n",
       "      <th>material_id</th>\n",
       "      <th></th>\n",
       "      <th></th>\n",
       "      <th></th>\n",
       "      <th></th>\n",
       "      <th></th>\n",
       "    </tr>\n",
       "  </thead>\n",
       "  <tbody>\n",
       "    <tr>\n",
       "      <th>69</th>\n",
       "      <td>0.285860</td>\n",
       "      <td>-34.562311</td>\n",
       "      <td>-34.562311</td>\n",
       "      <td>{'@module': 'pymatgen.core.structure', '@class...</td>\n",
       "      <td>{\"@module\": \"pymatgen.entries.computed_entries...</td>\n",
       "    </tr>\n",
       "    <tr>\n",
       "      <th>59</th>\n",
       "      <td>-0.042955</td>\n",
       "      <td>-53.013100</td>\n",
       "      <td>-53.013100</td>\n",
       "      <td>{'@module': 'pymatgen.core.structure', '@class...</td>\n",
       "      <td>{\"@module\": \"pymatgen.entries.computed_entries...</td>\n",
       "    </tr>\n",
       "    <tr>\n",
       "      <th>67</th>\n",
       "      <td>0.459220</td>\n",
       "      <td>-9.979003</td>\n",
       "      <td>-11.581003</td>\n",
       "      <td>{'@module': 'pymatgen.core.structure', '@class...</td>\n",
       "      <td>{\"@module\": \"pymatgen.entries.computed_entries...</td>\n",
       "    </tr>\n",
       "    <tr>\n",
       "      <th>57</th>\n",
       "      <td>0.545351</td>\n",
       "      <td>-22.177115</td>\n",
       "      <td>-22.538115</td>\n",
       "      <td>{'@module': 'pymatgen.core.structure', '@class...</td>\n",
       "      <td>{\"@module\": \"pymatgen.entries.computed_entries...</td>\n",
       "    </tr>\n",
       "    <tr>\n",
       "      <th>80</th>\n",
       "      <td>0.293868</td>\n",
       "      <td>-22.776415</td>\n",
       "      <td>-24.837415</td>\n",
       "      <td>{'@module': 'pymatgen.core.structure', '@class...</td>\n",
       "      <td>{\"@module\": \"pymatgen.entries.computed_entries...</td>\n",
       "    </tr>\n",
       "    <tr>\n",
       "      <th>...</th>\n",
       "      <td>...</td>\n",
       "      <td>...</td>\n",
       "      <td>...</td>\n",
       "      <td>...</td>\n",
       "      <td>...</td>\n",
       "    </tr>\n",
       "    <tr>\n",
       "      <th>2516</th>\n",
       "      <td>0.251296</td>\n",
       "      <td>-181.158413</td>\n",
       "      <td>-197.232413</td>\n",
       "      <td>{'@module': 'pymatgen.core.structure', '@class...</td>\n",
       "      <td>{\"@module\": \"pymatgen.entries.computed_entries...</td>\n",
       "    </tr>\n",
       "    <tr>\n",
       "      <th>6282</th>\n",
       "      <td>0.138505</td>\n",
       "      <td>-126.856253</td>\n",
       "      <td>-134.408253</td>\n",
       "      <td>{'@module': 'pymatgen.core.structure', '@class...</td>\n",
       "      <td>{\"@module\": \"pymatgen.entries.computed_entries...</td>\n",
       "    </tr>\n",
       "    <tr>\n",
       "      <th>4455</th>\n",
       "      <td>1.710665</td>\n",
       "      <td>-178.774198</td>\n",
       "      <td>-178.774198</td>\n",
       "      <td>{'@module': 'pymatgen.core.structure', '@class...</td>\n",
       "      <td>{\"@module\": \"pymatgen.entries.computed_entries...</td>\n",
       "    </tr>\n",
       "    <tr>\n",
       "      <th>7920</th>\n",
       "      <td>0.580486</td>\n",
       "      <td>-346.705524</td>\n",
       "      <td>-346.705524</td>\n",
       "      <td>{'@module': 'pymatgen.core.structure', '@class...</td>\n",
       "      <td>{\"@module\": \"pymatgen.entries.computed_entries...</td>\n",
       "    </tr>\n",
       "    <tr>\n",
       "      <th>8683</th>\n",
       "      <td>0.112430</td>\n",
       "      <td>-285.178244</td>\n",
       "      <td>-297.922244</td>\n",
       "      <td>{'@module': 'pymatgen.core.structure', '@class...</td>\n",
       "      <td>{\"@module\": \"pymatgen.entries.computed_entries...</td>\n",
       "    </tr>\n",
       "  </tbody>\n",
       "</table>\n",
       "<p>9986 rows × 5 columns</p>\n",
       "</div>"
      ],
      "text/plain": [
       "             e_above_hull_corrected  e_uncorrected  e_corrected  \\\n",
       "material_id                                                       \n",
       "69                         0.285860     -34.562311   -34.562311   \n",
       "59                        -0.042955     -53.013100   -53.013100   \n",
       "67                         0.459220      -9.979003   -11.581003   \n",
       "57                         0.545351     -22.177115   -22.538115   \n",
       "80                         0.293868     -22.776415   -24.837415   \n",
       "...                             ...            ...          ...   \n",
       "2516                       0.251296    -181.158413  -197.232413   \n",
       "6282                       0.138505    -126.856253  -134.408253   \n",
       "4455                       1.710665    -178.774198  -178.774198   \n",
       "7920                       0.580486    -346.705524  -346.705524   \n",
       "8683                       0.112430    -285.178244  -297.922244   \n",
       "\n",
       "                                                     structure  \\\n",
       "material_id                                                      \n",
       "69           {'@module': 'pymatgen.core.structure', '@class...   \n",
       "59           {'@module': 'pymatgen.core.structure', '@class...   \n",
       "67           {'@module': 'pymatgen.core.structure', '@class...   \n",
       "57           {'@module': 'pymatgen.core.structure', '@class...   \n",
       "80           {'@module': 'pymatgen.core.structure', '@class...   \n",
       "...                                                        ...   \n",
       "2516         {'@module': 'pymatgen.core.structure', '@class...   \n",
       "6282         {'@module': 'pymatgen.core.structure', '@class...   \n",
       "4455         {'@module': 'pymatgen.core.structure', '@class...   \n",
       "7920         {'@module': 'pymatgen.core.structure', '@class...   \n",
       "8683         {'@module': 'pymatgen.core.structure', '@class...   \n",
       "\n",
       "                                                         entry  \n",
       "material_id                                                     \n",
       "69           {\"@module\": \"pymatgen.entries.computed_entries...  \n",
       "59           {\"@module\": \"pymatgen.entries.computed_entries...  \n",
       "67           {\"@module\": \"pymatgen.entries.computed_entries...  \n",
       "57           {\"@module\": \"pymatgen.entries.computed_entries...  \n",
       "80           {\"@module\": \"pymatgen.entries.computed_entries...  \n",
       "...                                                        ...  \n",
       "2516         {\"@module\": \"pymatgen.entries.computed_entries...  \n",
       "6282         {\"@module\": \"pymatgen.entries.computed_entries...  \n",
       "4455         {\"@module\": \"pymatgen.entries.computed_entries...  \n",
       "7920         {\"@module\": \"pymatgen.entries.computed_entries...  \n",
       "8683         {\"@module\": \"pymatgen.entries.computed_entries...  \n",
       "\n",
       "[9986 rows x 5 columns]"
      ]
     },
     "execution_count": 4,
     "metadata": {},
     "output_type": "execute_result"
    }
   ],
   "source": [
    "data[~data.index.duplicated(keep=\"first\")]"
   ]
  },
  {
   "cell_type": "code",
   "execution_count": 5,
   "id": "9c398f51",
   "metadata": {},
   "outputs": [],
   "source": [
    "from pymatgen.core import Structure\n",
    "from ast import literal_eval"
   ]
  },
  {
   "cell_type": "code",
   "execution_count": 6,
   "id": "870b6fa9",
   "metadata": {},
   "outputs": [],
   "source": [
    "s1 = Structure.from_dict(literal_eval(data.loc[8814].structure.iloc[1]))"
   ]
  },
  {
   "cell_type": "code",
   "execution_count": 7,
   "id": "2c5330e4",
   "metadata": {},
   "outputs": [],
   "source": [
    "s0 = Structure.from_dict(literal_eval(data.loc[8814].structure.iloc[0]))"
   ]
  },
  {
   "cell_type": "code",
   "execution_count": 8,
   "id": "914eb4d4",
   "metadata": {},
   "outputs": [
    {
     "data": {
      "text/plain": [
       "Structure Summary\n",
       "Lattice\n",
       "    abc : 7.244912643372571 7.244912663345124 7.244912683317677\n",
       " angles : 90.00000000999083 89.99999995004576 89.99999994005489\n",
       " volume : 380.27647838119367\n",
       "      A : 7.244912643372571 -3.4722e-12 6.3194858e-09\n",
       "      B : 7.5833846e-09 7.244912663345124 -1.263896e-09\n",
       "      C : -2.8935e-12 5.787e-13 7.244912683317677\n",
       "    pbc : True True True\n",
       "PeriodicSite: Gd (3.622, 3.622, 3.622) [0.5, 0.5, 0.5]\n",
       "PeriodicSite: Gd (3.622, -1.736e-12, 7.561e-08) [0.5, 0.0, 1e-08]\n",
       "PeriodicSite: Gd (3.792e-09, 3.622, 7.182e-08) [0.0, 0.5, 1e-08]\n",
       "PeriodicSite: Gd (-1.447e-12, 2.894e-13, 3.622) [-0.0, -0.0, 0.5]\n",
       "PeriodicSite: Tm (-2.894e-20, 5.787e-21, 7.245e-08) [0.0, -0.0, 1e-08]\n",
       "PeriodicSite: Tm (3.79e-09, 3.622, 3.622) [0.0, 0.5, 0.5]\n",
       "PeriodicSite: Tm (3.622, -1.447e-12, 3.622) [0.5, 0.0, 0.5]\n",
       "PeriodicSite: Tm (3.622, 3.622, 7.498e-08) [0.5, 0.5, 1e-08]\n",
       "PeriodicSite: Ag (1.811, 1.811, 1.811) [0.25, 0.25, 0.25]\n",
       "PeriodicSite: Ag (1.811, 1.811, 5.434) [0.25, 0.25, 0.75]\n",
       "PeriodicSite: Ag (1.811, 5.434, 5.434) [0.25, 0.75, 0.75]\n",
       "PeriodicSite: Ag (1.811, 5.434, 1.811) [0.25, 0.75, 0.25]\n",
       "PeriodicSite: Ag (5.434, 1.811, 5.434) [0.75, 0.25, 0.75]\n",
       "PeriodicSite: Ag (5.434, 1.811, 1.811) [0.75, 0.25, 0.25]\n",
       "PeriodicSite: Ag (5.434, 5.434, 1.811) [0.75, 0.75, 0.25]\n",
       "PeriodicSite: Ag (5.434, 5.434, 5.434) [0.75, 0.75, 0.75]"
      ]
     },
     "execution_count": 8,
     "metadata": {},
     "output_type": "execute_result"
    }
   ],
   "source": [
    "s0"
   ]
  },
  {
   "cell_type": "code",
   "execution_count": 9,
   "id": "53d153c0",
   "metadata": {},
   "outputs": [
    {
     "data": {
      "text/plain": [
       "Structure Summary\n",
       "Lattice\n",
       "    abc : 3.0608681541727796 3.0608681541727796 5.5185097884359875\n",
       " angles : 90.0 90.0 120.00000091974793\n",
       " volume : 44.77562851189498\n",
       "      A : 2.9565715946227025 -0.7922109965780889 -0.0\n",
       "      B : -0.7922109965780889 2.9565715946227025 0.0\n",
       "      C : 0.0 -0.0 5.5185097884359875\n",
       "    pbc : True True True\n",
       "PeriodicSite: Mg (0.0, 0.0, 0.0) [0.0, 0.0, -0.0]\n",
       "PeriodicSite: Zr (1.707, 0.4574, 2.759) [0.6667, 0.3333, 0.5]"
      ]
     },
     "execution_count": 9,
     "metadata": {},
     "output_type": "execute_result"
    }
   ],
   "source": [
    "s1"
   ]
  }
 ],
 "metadata": {
  "kernelspec": {
   "display_name": "wyckofftransformer-FeCwefly-py3.12",
   "language": "python",
   "name": "python3"
  },
  "language_info": {
   "codemirror_mode": {
    "name": "ipython",
    "version": 3
   },
   "file_extension": ".py",
   "mimetype": "text/x-python",
   "name": "python",
   "nbconvert_exporter": "python",
   "pygments_lexer": "ipython3",
   "version": "3.12.3"
  }
 },
 "nbformat": 4,
 "nbformat_minor": 5
}
