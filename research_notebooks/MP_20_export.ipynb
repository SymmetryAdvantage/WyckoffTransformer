{
 "cells": [
  {
   "cell_type": "code",
   "execution_count": 1,
   "id": "b67e7c24",
   "metadata": {},
   "outputs": [
    {
     "name": "stderr",
     "output_type": "stream",
     "text": [
      "/home/kna/.cache/pypoetry/virtualenvs/wyckofftransformer-FeCwefly-py3.12/lib/python3.12/site-packages/matminer/utils/data.py:326: UserWarning: MagpieData(impute_nan=False):\n",
      "In a future release, impute_nan will be set to True by default.\n",
      "                    This means that features that are missing or are NaNs for elements\n",
      "                    from the data source will be replaced by the average of that value\n",
      "                    over the available elements.\n",
      "                    This avoids NaNs after featurization that are often replaced by\n",
      "                    dataset-dependent averages.\n",
      "  warnings.warn(f\"{self.__class__.__name__}(impute_nan=False):\\n\" + IMPUTE_NAN_WARNING)\n"
     ]
    }
   ],
   "source": [
    "import sys\n",
    "sys.path.append(\"..\")\n",
    "from evaluation.generated_dataset import GeneratedDataset"
   ]
  },
  {
   "cell_type": "code",
   "execution_count": 2,
   "id": "fe3ebf54",
   "metadata": {},
   "outputs": [],
   "source": [
    "mp_20_test = GeneratedDataset.from_cache((\"split\", \"test\"), dataset=\"mp_20\")"
   ]
  },
  {
   "cell_type": "code",
   "execution_count": 3,
   "id": "3d7b19d9",
   "metadata": {},
   "outputs": [],
   "source": [
    "from pathlib import Path\n",
    "sample = mp_20_test.data.sample(1000, random_state=42)\n",
    "save_path = Path(\"..\", \"generated\", \"mp_20\", \"split\", \"test\", \"1k-sample\")\n",
    "sample.to_pickle(save_path / \"mp_20_test_1k_sample.pkl.gz\", compression=\"gzip\")\n",
    "sample.loc[:, [\"group\", \"species\", \"numIons\", \"sites\"]].to_json(\n",
    "    save_path / \"WyckoffReduction\" / \"mp_20_test_1k_sample.json.gz\", orient=\"records\")"
   ]
  }
 ],
 "metadata": {
  "kernelspec": {
   "display_name": "wyckofftransformer-FeCwefly-py3.12",
   "language": "python",
   "name": "python3"
  },
  "language_info": {
   "codemirror_mode": {
    "name": "ipython",
    "version": 3
   },
   "file_extension": ".py",
   "mimetype": "text/x-python",
   "name": "python",
   "nbconvert_exporter": "python",
   "pygments_lexer": "ipython3",
   "version": "3.12.3"
  }
 },
 "nbformat": 4,
 "nbformat_minor": 5
}
