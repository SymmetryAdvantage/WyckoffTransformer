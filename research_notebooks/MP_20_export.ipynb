{
 "cells": [
  {
   "cell_type": "code",
   "execution_count": 1,
   "id": "b67e7c24",
   "metadata": {},
   "outputs": [
    {
     "name": "stderr",
     "output_type": "stream",
     "text": [
      "/home/kna/.cache/pypoetry/virtualenvs/wyckofftransformer-FeCwefly-py3.12/lib/python3.12/site-packages/matminer/utils/data.py:326: UserWarning: MagpieData(impute_nan=False):\n",
      "In a future release, impute_nan will be set to True by default.\n",
      "                    This means that features that are missing or are NaNs for elements\n",
      "                    from the data source will be replaced by the average of that value\n",
      "                    over the available elements.\n",
      "                    This avoids NaNs after featurization that are often replaced by\n",
      "                    dataset-dependent averages.\n",
      "  warnings.warn(f\"{self.__class__.__name__}(impute_nan=False):\\n\" + IMPUTE_NAN_WARNING)\n"
     ]
    }
   ],
   "source": [
    "import sys\n",
    "sys.path.append(\"..\")\n",
    "from evaluation.generated_dataset import GeneratedDataset"
   ]
  },
  {
   "cell_type": "code",
   "execution_count": 2,
   "id": "fe3ebf54",
   "metadata": {},
   "outputs": [],
   "source": [
    "mp_20_test = GeneratedDataset.from_cache((\"split\", \"test\"))"
   ]
  },
  {
   "cell_type": "code",
   "execution_count": 12,
   "id": "3d7b19d9",
   "metadata": {},
   "outputs": [],
   "source": [
    "sample = mp_20_test.data.sample(1000, random_state=42)\n",
    "sample.to_pickle(\"mp_20_test_1k_sample.pkl.gz\", compression=\"gzip\")\n",
    "sample.loc[:, [\"group\", \"species\", \"numIons\", \"sites\"]].sample(1000, random_state=42).to_json(\n",
    "    \"mp_20_test_1k_sample.json.gz\", orient=\"records\")"
   ]
  }
 ],
 "metadata": {
  "kernelspec": {
   "display_name": "wyckofftransformer-FeCwefly-py3.12",
   "language": "python",
   "name": "python3"
  },
  "language_info": {
   "codemirror_mode": {
    "name": "ipython",
    "version": 3
   },
   "file_extension": ".py",
   "mimetype": "text/x-python",
   "name": "python",
   "nbconvert_exporter": "python",
   "pygments_lexer": "ipython3",
   "version": "3.12.3"
  }
 },
 "nbformat": 4,
 "nbformat_minor": 5
}
