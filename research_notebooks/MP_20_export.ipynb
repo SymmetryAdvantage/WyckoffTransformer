{
 "cells": [
  {
   "cell_type": "code",
   "execution_count": 3,
   "id": "b67e7c24",
   "metadata": {},
   "outputs": [],
   "source": [
    "import sys\n",
    "sys.path.append(\"..\")\n",
    "from evaluation.generated_dataset import GeneratedDataset"
   ]
  },
  {
   "cell_type": "code",
   "execution_count": 4,
   "id": "fe3ebf54",
   "metadata": {},
   "outputs": [],
   "source": [
    "mp_20_test = GeneratedDataset.from_cache((\"split\", \"test\"), dataset=\"mp_20\")"
   ]
  },
  {
   "cell_type": "code",
   "execution_count": 5,
   "id": "3d7b19d9",
   "metadata": {},
   "outputs": [],
   "source": [
    "from pathlib import Path\n",
    "sample = mp_20_test.data.sample(1000, random_state=42)\n",
    "save_path = Path(\"..\", \"generated\", \"mp_20\", \"split\", \"test\", \"1k-sample\")\n",
    "sample.to_pickle(save_path / \"mp_20_test_1k_sample.pkl.gz\", compression=\"gzip\")\n",
    "sample.loc[:, [\"group\", \"species\", \"numIons\", \"sites\"]].to_json(save_path / \"mp_20_test_1k_sample.json.gz\", orient=\"records\")"
   ]
  }
 ],
 "metadata": {
  "kernelspec": {
   "display_name": "wyckofftransformer-FeCwefly-py3.12",
   "language": "python",
   "name": "python3"
  },
  "language_info": {
   "codemirror_mode": {
    "name": "ipython",
    "version": 3
   },
   "file_extension": ".py",
   "mimetype": "text/x-python",
   "name": "python",
   "nbconvert_exporter": "python",
   "pygments_lexer": "ipython3",
   "version": "3.12.3"
  }
 },
 "nbformat": 4,
 "nbformat_minor": 5
}
