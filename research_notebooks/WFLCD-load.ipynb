{
 "cells": [
  {
   "cell_type": "code",
   "execution_count": 2,
   "metadata": {},
   "outputs": [],
   "source": [
    "import pandas as pd"
   ]
  },
  {
   "cell_type": "code",
   "execution_count": 3,
   "metadata": {},
   "outputs": [],
   "source": [
    "data = pd.read_csv(\"../generated/Dropbox/mp_20/WyckoffTransformer-letters/DiffCSP++/CHGNet_fix/WTFL-DCPP_mp_20_id_formula_energy_cif_eform_ehull_refs_mp2023_by_chgnet_fix_symmetry.csv\",\n",
    "                   index_col=\"id\")"
   ]
  },
  {
   "cell_type": "code",
   "execution_count": 33,
   "metadata": {},
   "outputs": [
    {
     "data": {
      "text/html": [
       "<div>\n",
       "<style scoped>\n",
       "    .dataframe tbody tr th:only-of-type {\n",
       "        vertical-align: middle;\n",
       "    }\n",
       "\n",
       "    .dataframe tbody tr th {\n",
       "        vertical-align: top;\n",
       "    }\n",
       "\n",
       "    .dataframe thead th {\n",
       "        text-align: right;\n",
       "    }\n",
       "</style>\n",
       "<table border=\"1\" class=\"dataframe\">\n",
       "  <thead>\n",
       "    <tr style=\"text-align: right;\">\n",
       "      <th></th>\n",
       "      <th>cif_generated</th>\n",
       "      <th>full_formula</th>\n",
       "      <th>total_energy</th>\n",
       "      <th>energy_per_atom</th>\n",
       "      <th>cif</th>\n",
       "      <th>ef_refs_to_conventional_no-relax</th>\n",
       "      <th>ehull_refs_to_conventional_no-relax</th>\n",
       "      <th>ef_refs_to_conventional_vc-relax</th>\n",
       "      <th>ehull_refs_to_conventional_vc-relax</th>\n",
       "    </tr>\n",
       "    <tr>\n",
       "      <th>id</th>\n",
       "      <th></th>\n",
       "      <th></th>\n",
       "      <th></th>\n",
       "      <th></th>\n",
       "      <th></th>\n",
       "      <th></th>\n",
       "      <th></th>\n",
       "      <th></th>\n",
       "      <th></th>\n",
       "    </tr>\n",
       "  </thead>\n",
       "  <tbody>\n",
       "    <tr>\n",
       "      <th>32</th>\n",
       "      <td># generated using pymatgen\\ndata_Ti2Nb3Zn(BO4)...</td>\n",
       "      <td>NaN</td>\n",
       "      <td>NaN</td>\n",
       "      <td>NaN</td>\n",
       "      <td>NaN</td>\n",
       "      <td>NaN</td>\n",
       "      <td>NaN</td>\n",
       "      <td>NaN</td>\n",
       "      <td>NaN</td>\n",
       "    </tr>\n",
       "    <tr>\n",
       "      <th>462</th>\n",
       "      <td># generated using pymatgen\\ndata_RbAl2OF4\\n_sy...</td>\n",
       "      <td>NaN</td>\n",
       "      <td>NaN</td>\n",
       "      <td>NaN</td>\n",
       "      <td>NaN</td>\n",
       "      <td>NaN</td>\n",
       "      <td>NaN</td>\n",
       "      <td>NaN</td>\n",
       "      <td>NaN</td>\n",
       "    </tr>\n",
       "  </tbody>\n",
       "</table>\n",
       "</div>"
      ],
      "text/plain": [
       "                                         cif_generated full_formula  \\\n",
       "id                                                                    \n",
       "32   # generated using pymatgen\\ndata_Ti2Nb3Zn(BO4)...          NaN   \n",
       "462  # generated using pymatgen\\ndata_RbAl2OF4\\n_sy...          NaN   \n",
       "\n",
       "     total_energy  energy_per_atom  cif  ef_refs_to_conventional_no-relax  \\\n",
       "id                                                                          \n",
       "32            NaN              NaN  NaN                               NaN   \n",
       "462           NaN              NaN  NaN                               NaN   \n",
       "\n",
       "     ehull_refs_to_conventional_no-relax  ef_refs_to_conventional_vc-relax  \\\n",
       "id                                                                           \n",
       "32                                   NaN                               NaN   \n",
       "462                                  NaN                               NaN   \n",
       "\n",
       "     ehull_refs_to_conventional_vc-relax  \n",
       "id                                        \n",
       "32                                   NaN  \n",
       "462                                  NaN  "
      ]
     },
     "execution_count": 33,
     "metadata": {},
     "output_type": "execute_result"
    }
   ],
   "source": [
    "from operator import methodcaller\n",
    "from functools import partial\n",
    "data.loc[data.loc[:, \"cif\"].map(lambda x: isinstance(x, float))]\n",
    "#data.cif.map(methodcaller(\"removeprefix\", r\"data_image0\\n\"))"
   ]
  },
  {
   "cell_type": "code",
   "execution_count": 34,
   "metadata": {},
   "outputs": [
    {
     "data": {
      "text/plain": [
       "array([<class 'str'>], dtype=object)"
      ]
     },
     "execution_count": 34,
     "metadata": {},
     "output_type": "execute_result"
    }
   ],
   "source": [
    "data.dropna().cif.map(type).unique()"
   ]
  },
  {
   "cell_type": "code",
   "execution_count": 29,
   "metadata": {},
   "outputs": [
    {
     "data": {
      "text/plain": [
       "<function isinstance(obj, class_or_tuple, /)>"
      ]
     },
     "execution_count": 29,
     "metadata": {},
     "output_type": "execute_result"
    }
   ],
   "source": [
    "isinstance"
   ]
  },
  {
   "cell_type": "code",
   "execution_count": 24,
   "metadata": {},
   "outputs": [
    {
     "data": {
      "text/plain": [
       "array([<class 'str'>, <class 'float'>], dtype=object)"
      ]
     },
     "execution_count": 24,
     "metadata": {},
     "output_type": "execute_result"
    }
   ],
   "source": [
    "s.map(type).unique()"
   ]
  },
  {
   "cell_type": "code",
   "execution_count": 16,
   "metadata": {},
   "outputs": [
    {
     "data": {
      "text/plain": [
       "Index(['cif_generated', 'full_formula', 'total_energy', 'energy_per_atom',\n",
       "       'cif', 'ef_refs_to_conventional_no-relax',\n",
       "       'ehull_refs_to_conventional_no-relax',\n",
       "       'ef_refs_to_conventional_vc-relax',\n",
       "       'ehull_refs_to_conventional_vc-relax'],\n",
       "      dtype='object')"
      ]
     },
     "execution_count": 16,
     "metadata": {},
     "output_type": "execute_result"
    }
   ],
   "source": [
    "data.columns"
   ]
  }
 ],
 "metadata": {
  "kernelspec": {
   "display_name": "wyckofftransformer-FeCwefly-py3.12",
   "language": "python",
   "name": "python3"
  },
  "language_info": {
   "codemirror_mode": {
    "name": "ipython",
    "version": 3
   },
   "file_extension": ".py",
   "mimetype": "text/x-python",
   "name": "python",
   "nbconvert_exporter": "python",
   "pygments_lexer": "ipython3",
   "version": "3.12.3"
  }
 },
 "nbformat": 4,
 "nbformat_minor": 2
}
