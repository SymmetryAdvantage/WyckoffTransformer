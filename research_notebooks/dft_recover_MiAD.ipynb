{
 "cells": [
  {
   "cell_type": "code",
   "execution_count": 2,
   "id": "3764861b",
   "metadata": {},
   "outputs": [],
   "source": [
    "import pandas as pd\n",
    "miad = pd.read_csv('../generated/CIF-FMT-10000_miad-s333-no-prerelax-mp20.csv', index_col=0)"
   ]
  },
  {
   "cell_type": "code",
   "execution_count": 17,
   "id": "264edd4c",
   "metadata": {},
   "outputs": [],
   "source": [
    "miad_chgnet = pd.read_csv('../generated/CIF-FMT-10000_miad-s333-mp20.csv', index_col=0)"
   ]
  },
  {
   "cell_type": "code",
   "execution_count": 19,
   "id": "ca38d413",
   "metadata": {},
   "outputs": [
    {
     "data": {
      "text/plain": [
       "cif    # generated using pymatgen\\ndata_SmCu5\\n_symme...\n",
       "Name: 0, dtype: object"
      ]
     },
     "execution_count": 19,
     "metadata": {},
     "output_type": "execute_result"
    }
   ],
   "source": [
    "miad_chgnet.loc[0]"
   ]
  },
  {
   "cell_type": "code",
   "execution_count": 20,
   "id": "53e347bf",
   "metadata": {},
   "outputs": [
    {
     "data": {
      "text/plain": [
       "cif    # generated using pymatgen\\ndata_VCo14Pd\\n_sym...\n",
       "Name: 0, dtype: object"
      ]
     },
     "execution_count": 20,
     "metadata": {},
     "output_type": "execute_result"
    }
   ],
   "source": [
    "miad.loc[0]"
   ]
  },
  {
   "cell_type": "code",
   "execution_count": 2,
   "id": "0adff990",
   "metadata": {},
   "outputs": [],
   "source": [
    "dft = pd.read_csv(\"/home/kna/NSCC-VASP-computer/MiAD-1.csv.gz\", index_col=\"material_id\")"
   ]
  },
  {
   "cell_type": "code",
   "execution_count": 9,
   "id": "e02924e0",
   "metadata": {},
   "outputs": [],
   "source": [
    "from pymatgen.core import Structure\n",
    "from ast import literal_eval"
   ]
  },
  {
   "cell_type": "code",
   "execution_count": 16,
   "id": "f28d47e5",
   "metadata": {},
   "outputs": [
    {
     "data": {
      "text/plain": [
       "Structure Summary\n",
       "Lattice\n",
       "    abc : 5.634750370000001 5.63798237 5.65817022\n",
       " angles : 89.87909699 89.97939301000001 90.01685333\n",
       " volume : 179.7518583387835\n",
       "      A : 5.634750005557904 0.0 0.0020265932850645645\n",
       "      B : -0.0016626694776307618 5.637969572557529 0.011897011242074514\n",
       "      C : 0.0 0.0 5.65817022\n",
       "    pbc : True True True\n",
       "PeriodicSite: V6 (V) (0.05066, 3.813, 0.9844) [0.00919, 0.6764, 0.1725]\n",
       "PeriodicSite: Co1 (Co) (4.224, 5.304, 5.178) [0.7499, 0.9407, 0.9128]\n",
       "PeriodicSite: Co2 (Co) (1.471, 5.281, 2.363) [0.2614, 0.9368, 0.4155]\n",
       "PeriodicSite: Co3 (Co) (2.859, 3.932, 3.752) [0.5075, 0.6974, 0.6616]\n",
       "PeriodicSite: Co4 (Co) (0.07958, 3.864, 3.766) [0.01433, 0.6854, 0.6642]\n",
       "PeriodicSite: Co5 (Co) (2.877, 3.894, 0.9641) [0.5107, 0.6907, 0.1688]\n",
       "PeriodicSite: Co7 (Co) (0.05509, 1.056, 3.83) [0.009832, 0.1872, 0.6765]\n",
       "PeriodicSite: Co8 (Co) (0.0587, 1.049, 0.9127) [0.01047, 0.1861, 0.1609]\n",
       "PeriodicSite: Co9 (Co) (2.879, 1.058, 0.9171) [0.511, 0.1877, 0.1615]\n",
       "PeriodicSite: Co10 (Co) (1.454, 5.28, 5.177) [0.2583, 0.9365, 0.9129]\n",
       "PeriodicSite: Co11 (Co) (1.462, 2.423, 5.232) [0.2597, 0.4298, 0.9237]\n",
       "PeriodicSite: Co12 (Co) (4.25, 2.465, 5.199) [0.7544, 0.4372, 0.9176]\n",
       "PeriodicSite: Co13 (Co) (4.24, 5.247, 2.356) [0.7527, 0.9306, 0.4141]\n",
       "PeriodicSite: Co14 (Co) (4.277, 2.428, 2.437) [0.7592, 0.4306, 0.4296]\n",
       "PeriodicSite: Co15 (Co) (1.449, 2.441, 2.41) [0.2573, 0.433, 0.425]\n",
       "PeriodicSite: Pd0 (Pd) (2.864, 1.037, 3.83) [0.5084, 0.184, 0.6762]"
      ]
     },
     "execution_count": 16,
     "metadata": {},
     "output_type": "execute_result"
    }
   ],
   "source": [
    "Structure.from_str(miad.cif.at[0], fmt=\"cif\")"
   ]
  },
  {
   "cell_type": "code",
   "execution_count": 12,
   "id": "48c14c55",
   "metadata": {},
   "outputs": [
    {
     "data": {
      "text/plain": [
       "Structure Summary\n",
       "Lattice\n",
       "    abc : 4.117937874842747 5.100524400704426 5.105372641653561\n",
       " angles : 119.93117192525739 89.97287020698961 89.96400859513561\n",
       " volume : 92.92941947703403\n",
       "      A : 4.117937276363708 -0.0004084230857029 0.0021822440801796\n",
       "      B : 0.0049910584132846 4.420241351872183 -2.5449539568951605\n",
       "      C : -0.0002881060996253 1.525101806e-07 5.105372633524365\n",
       "    pbc : True True True\n",
       "PeriodicSite: Sm (1.425, 0.3958, 2.461) [0.346, 0.08957, 0.5265]\n",
       "PeriodicSite: Cu (3.5, 2.593, -1.381) [0.8491, 0.5868, 0.02161]\n",
       "PeriodicSite: Cu (1.441, 3.341, 2.473) [0.349, 0.756, 0.8611]\n",
       "PeriodicSite: Cu (3.489, 2.619, 1.181) [0.8466, 0.5925, 0.5262]\n",
       "PeriodicSite: Cu (1.44, 1.869, -0.09678) [0.3492, 0.4228, 0.1916]\n",
       "PeriodicSite: Cu (3.496, 0.3927, -0.09328) [0.849, 0.08891, 0.02569]"
      ]
     },
     "execution_count": 12,
     "metadata": {},
     "output_type": "execute_result"
    }
   ],
   "source": [
    "Structure.from_dict(literal_eval(dft.structure.loc[0]))"
   ]
  },
  {
   "cell_type": "code",
   "execution_count": 8,
   "id": "ad888c3d",
   "metadata": {},
   "outputs": [],
   "source": [
    "missing = miad[~miad.index.isin(dft.index)]"
   ]
  },
  {
   "cell_type": "code",
   "execution_count": 11,
   "id": "73e605f6",
   "metadata": {},
   "outputs": [],
   "source": [
    "missing.to_csv(\"miad_pass_1_missing.csv.gz\", index=True, index_label=\"material_id\", header=True)"
   ]
  }
 ],
 "metadata": {
  "kernelspec": {
   "display_name": "wyckofftransformer-FeCwefly-py3.12",
   "language": "python",
   "name": "python3"
  },
  "language_info": {
   "codemirror_mode": {
    "name": "ipython",
    "version": 3
   },
   "file_extension": ".py",
   "mimetype": "text/x-python",
   "name": "python",
   "nbconvert_exporter": "python",
   "pygments_lexer": "ipython3",
   "version": "3.12.3"
  }
 },
 "nbformat": 4,
 "nbformat_minor": 5
}
