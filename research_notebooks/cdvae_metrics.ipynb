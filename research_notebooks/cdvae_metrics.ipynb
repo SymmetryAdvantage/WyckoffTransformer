{
 "cells": [
  {
   "cell_type": "code",
   "execution_count": 1,
   "metadata": {},
   "outputs": [
    {
     "name": "stderr",
     "output_type": "stream",
     "text": [
      "/home/kna/.cache/pypoetry/virtualenvs/wyckofftransformer-FeCwefly-py3.12/lib/python3.12/site-packages/matminer/utils/data.py:326: UserWarning: MagpieData(impute_nan=False):\n",
      "In a future release, impute_nan will be set to True by default.\n",
      "                    This means that features that are missing or are NaNs for elements\n",
      "                    from the data source will be replaced by the average of that value\n",
      "                    over the available elements.\n",
      "                    This avoids NaNs after featurization that are often replaced by\n",
      "                    dataset-dependent averages.\n",
      "  warnings.warn(f\"{self.__class__.__name__}(impute_nan=False):\\n\" + IMPUTE_NAN_WARNING)\n"
     ]
    }
   ],
   "source": [
    "from typing import Tuple\n",
    "import pandas as pd\n",
    "from tqdm.notebook import tqdm\n",
    "import sys\n",
    "sys.path.append('..')\n",
    "from evaluation.generated_dataset import GeneratedDataset, load_all_from_config\n",
    "from evaluation.novelty import NoveltyFilter, filter_by_unique_structure\n",
    "from evaluation.statistical_evaluator import StatisticalEvaluator"
   ]
  },
  {
   "cell_type": "code",
   "execution_count": 2,
   "metadata": {},
   "outputs": [],
   "source": [
    "dataset_names = (\"mp_20\", \"perov_5\", \"carbon_24\")"
   ]
  },
  {
   "cell_type": "code",
   "execution_count": 3,
   "metadata": {},
   "outputs": [],
   "source": [
    "config_names = {\n",
    "    #\"WyFormer_CrySPR\": (\"WyckoffTransformer\", \"CrySPR\", \"CHGNet_fix\"),\n",
    "    #\"WyForDiffCSP++\": (\"WyckoffTransformer\", \"DiffCSP++\"),\n",
    "    \"MiAD\": (\"MiAD\",),\n",
    "    \"DiffCSP\": (\"DiffCSP\",)\n",
    "}"
   ]
  },
  {
   "cell_type": "code",
   "execution_count": 4,
   "metadata": {},
   "outputs": [],
   "source": [
    "all_datasets = {}\n",
    "for dataset_name in dataset_names:\n",
    "    all_datasets[dataset_name] = load_all_from_config(\n",
    "        datasets=list(config_names.values()) + \\\n",
    "            [(\"split\", \"train\"), (\"split\", \"val\"), (\"split\", \"test\")],\n",
    "        dataset_name=dataset_name)"
   ]
  },
  {
   "cell_type": "code",
   "execution_count": null,
   "metadata": {},
   "outputs": [
    {
     "name": "stdout",
     "output_type": "stream",
     "text": [
      "Processing dataset: mp_20\n"
     ]
    },
    {
     "data": {
      "application/vnd.jupyter.widget-view+json": {
       "model_id": "a8286559757f4061834c8d82dbaf3fce",
       "version_major": 2,
       "version_minor": 0
      },
      "text/plain": [
       "  0%|          | 0/2 [00:00<?, ?it/s]"
      ]
     },
     "metadata": {},
     "output_type": "display_data"
    },
    {
     "name": "stderr",
     "output_type": "stream",
     "text": [
      "Ignoring 2 generated samples without composition fingerprints.\n",
      "Ignoring 2 generated samples without composition fingerprints.\n"
     ]
    },
    {
     "name": "stdout",
     "output_type": "stream",
     "text": [
      "Processing dataset: perov_5\n"
     ]
    },
    {
     "data": {
      "application/vnd.jupyter.widget-view+json": {
       "model_id": "f90bfdfd6bdb4c6b83a53aaab954f984",
       "version_major": 2,
       "version_minor": 0
      },
      "text/plain": [
       "  0%|          | 0/2 [00:00<?, ?it/s]"
      ]
     },
     "metadata": {},
     "output_type": "display_data"
    },
    {
     "name": "stderr",
     "output_type": "stream",
     "text": [
      "Ignoring 4 generated samples without composition fingerprints.\n",
      "Ignoring 1 generated samples without composition fingerprints.\n",
      "Ignoring 4 generated samples without composition fingerprints.\n",
      "Ignoring 8 generated samples without composition fingerprints.\n",
      "Ignoring 8 generated samples without composition fingerprints.\n"
     ]
    },
    {
     "name": "stdout",
     "output_type": "stream",
     "text": [
      "Processing dataset: carbon_24\n"
     ]
    },
    {
     "data": {
      "application/vnd.jupyter.widget-view+json": {
       "model_id": "1508754350bd4ca5acc25c8e06973db0",
       "version_major": 2,
       "version_minor": 0
      },
      "text/plain": [
       "  0%|          | 0/2 [00:00<?, ?it/s]"
      ]
     },
     "metadata": {},
     "output_type": "display_data"
    }
   ],
   "source": [
    "from collections import defaultdict\n",
    "import warnings\n",
    "warnings.filterwarnings(\"ignore\", category=UserWarning, module=\"pymatgen.core.composition\",\n",
    "                        message=r\"No Pauling electronegativity for.*\")\n",
    "cdvae_datasets = {\"mp_20\": \"mp20\", \"perov_5\": \"perovskite\", \"carbon_24\": \"carbon\"}\n",
    "results = defaultdict(lambda: defaultdict(dict))\n",
    "\n",
    "for dataset_name, these_dataset in all_datasets.items():\n",
    "    print(f\"Processing dataset: {dataset_name}\")\n",
    "    novelty_reference = these_dataset[('split', 'train')].data\n",
    "    novelty_filter = NoveltyFilter(novelty_reference, reference_index_type=\"reduced_composition\")\n",
    "    test_evaluator = StatisticalEvaluator(these_dataset[('split', 'test')].data, cdvae_eval_model_name=cdvae_datasets[dataset_name])\n",
    "    for name, transformations in tqdm(config_names.items()):\n",
    "        dataset = these_dataset[transformations]\n",
    "        results[dataset_name][\"no_filter\"][name] = \\\n",
    "            test_evaluator.compute_cdvae_metrics(dataset.data, novelty_filter=None, sample_size_for_precision=500)\n",
    "        if dataset_name == \"carbon_24\":\n",
    "            # It's super slow, as we have to compare each structure with all others\n",
    "            continue\n",
    "        results[dataset_name][\"only_novel\"][name] = \\\n",
    "            test_evaluator.compute_cdvae_metrics(\n",
    "                dataset.data, novelty_filter=novelty_filter, sample_size_for_precision=500, compute_novelty=True)"
   ]
  },
  {
   "cell_type": "code",
   "execution_count": 6,
   "metadata": {},
   "outputs": [
    {
     "name": "stdout",
     "output_type": "stream",
     "text": [
      "Results for mp_20:\n",
      "  no_filter:\n"
     ]
    },
    {
     "data": {
      "text/html": [
       "<div>\n",
       "<style scoped>\n",
       "    .dataframe tbody tr th:only-of-type {\n",
       "        vertical-align: middle;\n",
       "    }\n",
       "\n",
       "    .dataframe tbody tr th {\n",
       "        vertical-align: top;\n",
       "    }\n",
       "\n",
       "    .dataframe thead th {\n",
       "        text-align: right;\n",
       "    }\n",
       "</style>\n",
       "<table border=\"1\" class=\"dataframe\">\n",
       "  <thead>\n",
       "    <tr style=\"text-align: right;\">\n",
       "      <th></th>\n",
       "      <th>Model</th>\n",
       "      <th>Compositional</th>\n",
       "      <th>Structural</th>\n",
       "      <th>Recall</th>\n",
       "      <th>Precision</th>\n",
       "      <th>EMD_rho</th>\n",
       "      <th>EMD_E</th>\n",
       "      <th>EMD_Elements</th>\n",
       "    </tr>\n",
       "  </thead>\n",
       "  <tbody>\n",
       "    <tr>\n",
       "      <th>0</th>\n",
       "      <td>MiAD</td>\n",
       "      <td>84.863946</td>\n",
       "      <td>99.2497</td>\n",
       "      <td>99.859916</td>\n",
       "      <td>91.664824</td>\n",
       "      <td>0.326899</td>\n",
       "      <td>0.041995</td>\n",
       "      <td>0.019799</td>\n",
       "    </tr>\n",
       "    <tr>\n",
       "      <th>1</th>\n",
       "      <td>DiffCSP</td>\n",
       "      <td>83.220000</td>\n",
       "      <td>100.0000</td>\n",
       "      <td>99.760000</td>\n",
       "      <td>93.743091</td>\n",
       "      <td>0.351324</td>\n",
       "      <td>0.094645</td>\n",
       "      <td>0.346054</td>\n",
       "    </tr>\n",
       "  </tbody>\n",
       "</table>\n",
       "</div>"
      ],
      "text/plain": [
       "     Model  Compositional  Structural     Recall  Precision   EMD_rho  \\\n",
       "0     MiAD      84.863946     99.2497  99.859916  91.664824  0.326899   \n",
       "1  DiffCSP      83.220000    100.0000  99.760000  93.743091  0.351324   \n",
       "\n",
       "      EMD_E  EMD_Elements  \n",
       "0  0.041995      0.019799  \n",
       "1  0.094645      0.346054  "
      ]
     },
     "metadata": {},
     "output_type": "display_data"
    },
    {
     "name": "stdout",
     "output_type": "stream",
     "text": [
      "  only_novel:\n"
     ]
    },
    {
     "data": {
      "text/html": [
       "<div>\n",
       "<style scoped>\n",
       "    .dataframe tbody tr th:only-of-type {\n",
       "        vertical-align: middle;\n",
       "    }\n",
       "\n",
       "    .dataframe tbody tr th {\n",
       "        vertical-align: top;\n",
       "    }\n",
       "\n",
       "    .dataframe thead th {\n",
       "        text-align: right;\n",
       "    }\n",
       "</style>\n",
       "<table border=\"1\" class=\"dataframe\">\n",
       "  <thead>\n",
       "    <tr style=\"text-align: right;\">\n",
       "      <th></th>\n",
       "      <th>Model</th>\n",
       "      <th>Compositional</th>\n",
       "      <th>Structural</th>\n",
       "      <th>Recall</th>\n",
       "      <th>Precision</th>\n",
       "      <th>EMD_rho</th>\n",
       "      <th>EMD_E</th>\n",
       "      <th>EMD_Elements</th>\n",
       "    </tr>\n",
       "  </thead>\n",
       "  <tbody>\n",
       "    <tr>\n",
       "      <th>0</th>\n",
       "      <td>MiAD</td>\n",
       "      <td>81.756570</td>\n",
       "      <td>98.962656</td>\n",
       "      <td>99.820144</td>\n",
       "      <td>91.664824</td>\n",
       "      <td>0.324488</td>\n",
       "      <td>0.082290</td>\n",
       "      <td>0.021135</td>\n",
       "    </tr>\n",
       "    <tr>\n",
       "      <th>1</th>\n",
       "      <td>DiffCSP</td>\n",
       "      <td>82.136932</td>\n",
       "      <td>100.000000</td>\n",
       "      <td>99.734543</td>\n",
       "      <td>92.582357</td>\n",
       "      <td>0.433102</td>\n",
       "      <td>0.077322</td>\n",
       "      <td>0.382080</td>\n",
       "    </tr>\n",
       "  </tbody>\n",
       "</table>\n",
       "</div>"
      ],
      "text/plain": [
       "     Model  Compositional  Structural     Recall  Precision   EMD_rho  \\\n",
       "0     MiAD      81.756570   98.962656  99.820144  91.664824  0.324488   \n",
       "1  DiffCSP      82.136932  100.000000  99.734543  92.582357  0.433102   \n",
       "\n",
       "      EMD_E  EMD_Elements  \n",
       "0  0.082290      0.021135  \n",
       "1  0.077322      0.382080  "
      ]
     },
     "metadata": {},
     "output_type": "display_data"
    },
    {
     "name": "stdout",
     "output_type": "stream",
     "text": [
      "Results for perov_5:\n",
      "  no_filter:\n"
     ]
    },
    {
     "data": {
      "text/html": [
       "<div>\n",
       "<style scoped>\n",
       "    .dataframe tbody tr th:only-of-type {\n",
       "        vertical-align: middle;\n",
       "    }\n",
       "\n",
       "    .dataframe tbody tr th {\n",
       "        vertical-align: top;\n",
       "    }\n",
       "\n",
       "    .dataframe thead th {\n",
       "        text-align: right;\n",
       "    }\n",
       "</style>\n",
       "<table border=\"1\" class=\"dataframe\">\n",
       "  <thead>\n",
       "    <tr style=\"text-align: right;\">\n",
       "      <th></th>\n",
       "      <th>Model</th>\n",
       "      <th>Compositional</th>\n",
       "      <th>Structural</th>\n",
       "      <th>Recall</th>\n",
       "      <th>Precision</th>\n",
       "      <th>EMD_rho</th>\n",
       "      <th>EMD_E</th>\n",
       "      <th>EMD_Elements</th>\n",
       "    </tr>\n",
       "  </thead>\n",
       "  <tbody>\n",
       "    <tr>\n",
       "      <th>0</th>\n",
       "      <td>MiAD</td>\n",
       "      <td>98.309562</td>\n",
       "      <td>94.823032</td>\n",
       "      <td>92.913802</td>\n",
       "      <td>73.606341</td>\n",
       "      <td>0.104099</td>\n",
       "      <td>NaN</td>\n",
       "      <td>0.073767</td>\n",
       "    </tr>\n",
       "    <tr>\n",
       "      <th>1</th>\n",
       "      <td>DiffCSP</td>\n",
       "      <td>98.750000</td>\n",
       "      <td>99.990000</td>\n",
       "      <td>98.248599</td>\n",
       "      <td>70.937913</td>\n",
       "      <td>0.077988</td>\n",
       "      <td>NaN</td>\n",
       "      <td>0.035128</td>\n",
       "    </tr>\n",
       "  </tbody>\n",
       "</table>\n",
       "</div>"
      ],
      "text/plain": [
       "     Model  Compositional  Structural     Recall  Precision   EMD_rho  EMD_E  \\\n",
       "0     MiAD      98.309562   94.823032  92.913802  73.606341  0.104099    NaN   \n",
       "1  DiffCSP      98.750000   99.990000  98.248599  70.937913  0.077988    NaN   \n",
       "\n",
       "   EMD_Elements  \n",
       "0      0.073767  \n",
       "1      0.035128  "
      ]
     },
     "metadata": {},
     "output_type": "display_data"
    },
    {
     "name": "stdout",
     "output_type": "stream",
     "text": [
      "  only_novel:\n"
     ]
    },
    {
     "data": {
      "text/html": [
       "<div>\n",
       "<style scoped>\n",
       "    .dataframe tbody tr th:only-of-type {\n",
       "        vertical-align: middle;\n",
       "    }\n",
       "\n",
       "    .dataframe tbody tr th {\n",
       "        vertical-align: top;\n",
       "    }\n",
       "\n",
       "    .dataframe thead th {\n",
       "        text-align: right;\n",
       "    }\n",
       "</style>\n",
       "<table border=\"1\" class=\"dataframe\">\n",
       "  <thead>\n",
       "    <tr style=\"text-align: right;\">\n",
       "      <th></th>\n",
       "      <th>Model</th>\n",
       "      <th>Compositional</th>\n",
       "      <th>Structural</th>\n",
       "      <th>Recall</th>\n",
       "      <th>Precision</th>\n",
       "      <th>EMD_rho</th>\n",
       "      <th>EMD_E</th>\n",
       "      <th>EMD_Elements</th>\n",
       "    </tr>\n",
       "  </thead>\n",
       "  <tbody>\n",
       "    <tr>\n",
       "      <th>0</th>\n",
       "      <td>MiAD</td>\n",
       "      <td>98.147221</td>\n",
       "      <td>90.185278</td>\n",
       "      <td>88.258906</td>\n",
       "      <td>75.138705</td>\n",
       "      <td>0.098551</td>\n",
       "      <td>NaN</td>\n",
       "      <td>0.084060</td>\n",
       "    </tr>\n",
       "    <tr>\n",
       "      <th>1</th>\n",
       "      <td>DiffCSP</td>\n",
       "      <td>98.721921</td>\n",
       "      <td>99.980635</td>\n",
       "      <td>98.312645</td>\n",
       "      <td>72.892999</td>\n",
       "      <td>0.053555</td>\n",
       "      <td>NaN</td>\n",
       "      <td>0.059145</td>\n",
       "    </tr>\n",
       "  </tbody>\n",
       "</table>\n",
       "</div>"
      ],
      "text/plain": [
       "     Model  Compositional  Structural     Recall  Precision   EMD_rho  EMD_E  \\\n",
       "0     MiAD      98.147221   90.185278  88.258906  75.138705  0.098551    NaN   \n",
       "1  DiffCSP      98.721921   99.980635  98.312645  72.892999  0.053555    NaN   \n",
       "\n",
       "   EMD_Elements  \n",
       "0      0.084060  \n",
       "1      0.059145  "
      ]
     },
     "metadata": {},
     "output_type": "display_data"
    },
    {
     "name": "stdout",
     "output_type": "stream",
     "text": [
      "Results for carbon_24:\n",
      "  no_filter:\n"
     ]
    },
    {
     "data": {
      "text/html": [
       "<div>\n",
       "<style scoped>\n",
       "    .dataframe tbody tr th:only-of-type {\n",
       "        vertical-align: middle;\n",
       "    }\n",
       "\n",
       "    .dataframe tbody tr th {\n",
       "        vertical-align: top;\n",
       "    }\n",
       "\n",
       "    .dataframe thead th {\n",
       "        text-align: right;\n",
       "    }\n",
       "</style>\n",
       "<table border=\"1\" class=\"dataframe\">\n",
       "  <thead>\n",
       "    <tr style=\"text-align: right;\">\n",
       "      <th></th>\n",
       "      <th>Model</th>\n",
       "      <th>Compositional</th>\n",
       "      <th>Structural</th>\n",
       "      <th>Recall</th>\n",
       "      <th>Precision</th>\n",
       "      <th>EMD_rho</th>\n",
       "      <th>EMD_E</th>\n",
       "      <th>EMD_Elements</th>\n",
       "    </tr>\n",
       "  </thead>\n",
       "  <tbody>\n",
       "    <tr>\n",
       "      <th>0</th>\n",
       "      <td>MiAD</td>\n",
       "      <td>100.0</td>\n",
       "      <td>99.852217</td>\n",
       "      <td>99.458128</td>\n",
       "      <td>98.916256</td>\n",
       "      <td>0.060508</td>\n",
       "      <td>0.034357</td>\n",
       "      <td>0.0</td>\n",
       "    </tr>\n",
       "    <tr>\n",
       "      <th>1</th>\n",
       "      <td>DiffCSP</td>\n",
       "      <td>100.0</td>\n",
       "      <td>100.000000</td>\n",
       "      <td>98.410000</td>\n",
       "      <td>99.507389</td>\n",
       "      <td>0.076489</td>\n",
       "      <td>0.044992</td>\n",
       "      <td>0.0</td>\n",
       "    </tr>\n",
       "  </tbody>\n",
       "</table>\n",
       "</div>"
      ],
      "text/plain": [
       "     Model  Compositional  Structural     Recall  Precision   EMD_rho  \\\n",
       "0     MiAD          100.0   99.852217  99.458128  98.916256  0.060508   \n",
       "1  DiffCSP          100.0  100.000000  98.410000  99.507389  0.076489   \n",
       "\n",
       "      EMD_E  EMD_Elements  \n",
       "0  0.034357           0.0  \n",
       "1  0.044992           0.0  "
      ]
     },
     "metadata": {},
     "output_type": "display_data"
    }
   ],
   "source": [
    "for dataset_name, dataset_results in results.items():\n",
    "    print(f\"Results for {dataset_name}:\")\n",
    "    for filer_name, metrics in dataset_results.items():\n",
    "        print(f\"  {filer_name}:\")    \n",
    "        dataset_results_df = pd.DataFrame(metrics).T\n",
    "        dataset_results_df.index.name = \"Model\"\n",
    "        dataset_results_df.reset_index(inplace=True)\n",
    "        display(dataset_results_df)"
   ]
  },
  {
   "cell_type": "code",
   "execution_count": 7,
   "metadata": {},
   "outputs": [
    {
     "ename": "KeyError",
     "evalue": "('split', 'train')",
     "output_type": "error",
     "traceback": [
      "\u001b[31m---------------------------------------------------------------------------\u001b[39m",
      "\u001b[31mKeyError\u001b[39m                                  Traceback (most recent call last)",
      "\u001b[36mCell\u001b[39m\u001b[36m \u001b[39m\u001b[32mIn[7]\u001b[39m\u001b[32m, line 3\u001b[39m\n\u001b[32m      1\u001b[39m \u001b[38;5;28;01mimport\u001b[39;00m\u001b[38;5;250m \u001b[39m\u001b[34;01mmatplotlib\u001b[39;00m\u001b[34;01m.\u001b[39;00m\u001b[34;01mpyplot\u001b[39;00m\u001b[38;5;250m \u001b[39m\u001b[38;5;28;01mas\u001b[39;00m\u001b[38;5;250m \u001b[39m\u001b[34;01mplt\u001b[39;00m\n\u001b[32m      2\u001b[39m carbon_24 = pd.concat([\n\u001b[32m----> \u001b[39m\u001b[32m3\u001b[39m     \u001b[43mall_datasets\u001b[49m\u001b[43m[\u001b[49m\u001b[43m(\u001b[49m\u001b[33;43m'\u001b[39;49m\u001b[33;43msplit\u001b[39;49m\u001b[33;43m'\u001b[39;49m\u001b[43m,\u001b[49m\u001b[43m \u001b[49m\u001b[33;43m'\u001b[39;49m\u001b[33;43mtrain\u001b[39;49m\u001b[33;43m'\u001b[39;49m\u001b[43m)\u001b[49m\u001b[43m]\u001b[49m.data,\n\u001b[32m      4\u001b[39m     all_datasets[(\u001b[33m'\u001b[39m\u001b[33msplit\u001b[39m\u001b[33m'\u001b[39m, \u001b[33m'\u001b[39m\u001b[33mval\u001b[39m\u001b[33m'\u001b[39m)].data,\n\u001b[32m      5\u001b[39m     all_datasets[(\u001b[33m'\u001b[39m\u001b[33msplit\u001b[39m\u001b[33m'\u001b[39m, \u001b[33m'\u001b[39m\u001b[33mtest\u001b[39m\u001b[33m'\u001b[39m)].data], axis=\u001b[32m0\u001b[39m, verify_integrity=\u001b[38;5;28;01mTrue\u001b[39;00m)\n\u001b[32m      6\u001b[39m fig, ax = plt.subplots()\n\u001b[32m      7\u001b[39m all_datasets[(\u001b[33m'\u001b[39m\u001b[33mWyckoffTransformer\u001b[39m\u001b[33m'\u001b[39m, \u001b[33m'\u001b[39m\u001b[33mCrySPR\u001b[39m\u001b[33m'\u001b[39m, \u001b[33m'\u001b[39m\u001b[33mCHGNet_fix\u001b[39m\u001b[33m'\u001b[39m)].data.density.hist(\n\u001b[32m      8\u001b[39m     ax=ax, bins=\u001b[32m100\u001b[39m, alpha=\u001b[32m0.5\u001b[39m, label=\u001b[33m\"\u001b[39m\u001b[33mWyFormer\u001b[39m\u001b[33m\"\u001b[39m, density=\u001b[38;5;28;01mTrue\u001b[39;00m)\n",
      "\u001b[31mKeyError\u001b[39m: ('split', 'train')"
     ]
    }
   ],
   "source": [
    "import matplotlib.pyplot as plt\n",
    "carbon_24 = pd.concat([\n",
    "    all_datasets[('split', 'train')].data,\n",
    "    all_datasets[('split', 'val')].data,\n",
    "    all_datasets[('split', 'test')].data], axis=0, verify_integrity=True)\n",
    "fig, ax = plt.subplots()\n",
    "all_datasets[('WyckoffTransformer', 'CrySPR', 'CHGNet_fix')].data.density.hist(\n",
    "    ax=ax, bins=100, alpha=0.5, label=\"WyFormer\", density=True)\n",
    "carbon_24.density.hist(ax=ax, bins=100, alpha=0.5, label=\"Data\", density=True)\n",
    "ax.set_xlabel(\"Density\")\n",
    "ax.set_ylabel(\"Histogram Density\")\n",
    "ax.legend();"
   ]
  }
 ],
 "metadata": {
  "kernelspec": {
   "display_name": "wyckofftransformer-FeCwefly-py3.12",
   "language": "python",
   "name": "python3"
  },
  "language_info": {
   "codemirror_mode": {
    "name": "ipython",
    "version": 3
   },
   "file_extension": ".py",
   "mimetype": "text/x-python",
   "name": "python",
   "nbconvert_exporter": "python",
   "pygments_lexer": "ipython3",
   "version": "3.12.3"
  }
 },
 "nbformat": 4,
 "nbformat_minor": 2
}
