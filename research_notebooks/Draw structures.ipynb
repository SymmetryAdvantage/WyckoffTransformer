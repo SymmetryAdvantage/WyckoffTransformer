{
 "cells": [
  {
   "cell_type": "code",
   "execution_count": 1,
   "id": "8dc71780",
   "metadata": {},
   "outputs": [
    {
     "name": "stderr",
     "output_type": "stream",
     "text": [
      "/home/kna/.cache/pypoetry/virtualenvs/wyckofftransformer-FeCwefly-py3.12/lib/python3.12/site-packages/matminer/utils/data.py:326: UserWarning: MagpieData(impute_nan=False):\n",
      "In a future release, impute_nan will be set to True by default.\n",
      "                    This means that features that are missing or are NaNs for elements\n",
      "                    from the data source will be replaced by the average of that value\n",
      "                    over the available elements.\n",
      "                    This avoids NaNs after featurization that are often replaced by\n",
      "                    dataset-dependent averages.\n",
      "  warnings.warn(f\"{self.__class__.__name__}(impute_nan=False):\\n\" + IMPUTE_NAN_WARNING)\n"
     ]
    }
   ],
   "source": [
    "import sys\n",
    "sys.path.append(\"..\")\n",
    "from evaluation.generated_dataset import GeneratedDataset"
   ]
  },
  {
   "cell_type": "code",
   "execution_count": 2,
   "id": "11039b63",
   "metadata": {},
   "outputs": [],
   "source": [
    "diffcsp = GeneratedDataset.from_cache((\"DiffCSP\",))"
   ]
  },
  {
   "cell_type": "code",
   "execution_count": 12,
   "id": "86965b31",
   "metadata": {},
   "outputs": [],
   "source": [
    "asymmetric = diffcsp.data[diffcsp.data.group == 1]"
   ]
  },
  {
   "cell_type": "code",
   "execution_count": 23,
   "id": "6b8d41da",
   "metadata": {},
   "outputs": [
    {
     "name": "stderr",
     "output_type": "stream",
     "text": [
      "spglib: ssm_get_exact_positions failed.\n",
      "spglib: get_bravais_exact_positions_and_lattice failed.\n"
     ]
    }
   ],
   "source": [
    "from pymatgen.core import Structure, DummySpecies\n",
    "from pymatgen.symmetry.analyzer import SpacegroupAnalyzer\n",
    "import pandas as pd\n",
    "\n",
    "dummy_structures = [Structure(s.lattice, [DummySpecies()] * len(s), s.frac_coords) for s in asymmetric.structure]\n",
    "\n",
    "space_groups = [SpacegroupAnalyzer(s, symprec=0.1).get_space_group_number() for s in dummy_structures]\n",
    "\n",
    "new_dataset = pd.DataFrame({\n",
    "    \"structure\": dummy_structures,\n",
    "    \"space_group\": space_groups,\n",
    "})\n"
   ]
  },
  {
   "cell_type": "code",
   "execution_count": 24,
   "id": "521672d0",
   "metadata": {},
   "outputs": [
    {
     "data": {
      "image/png": "[encoded data removed]",
      "text/plain": [
       "<Figure size 640x480 with 1 Axes>"
      ]
     },
     "metadata": {},
     "output_type": "display_data"
    }
   ],
   "source": [
    "new_dataset.space_group.hist();"
   ]
  }
 ],
 "metadata": {
  "kernelspec": {
   "display_name": "wyckofftransformer-FeCwefly-py3.12",
   "language": "python",
   "name": "python3"
  },
  "language_info": {
   "codemirror_mode": {
    "name": "ipython",
    "version": 3
   },
   "file_extension": ".py",
   "mimetype": "text/x-python",
   "name": "python",
   "nbconvert_exporter": "python",
   "pygments_lexer": "ipython3",
   "version": "3.12.3"
  }
 },
 "nbformat": 4,
 "nbformat_minor": 5
}
