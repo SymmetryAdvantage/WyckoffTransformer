{
 "cells": [
  {
   "cell_type": "code",
   "execution_count": 2,
   "metadata": {},
   "outputs": [],
   "source": [
    "from pymatgen.io.cif import CifParser"
   ]
  },
  {
   "cell_type": "code",
   "execution_count": 7,
   "metadata": {},
   "outputs": [],
   "source": [
    "# Read CaTiO3 structure from cif file\n",
    "structures = CifParser(\"CaTiO3_uuid.cif\").parse_structures()"
   ]
  },
  {
   "cell_type": "code",
   "execution_count": 4,
   "metadata": {},
   "outputs": [
    {
     "data": {
      "text/plain": [
       "10000"
      ]
     },
     "execution_count": 4,
     "metadata": {},
     "output_type": "execute_result"
    }
   ],
   "source": [
    "len(structures)"
   ]
  },
  {
   "cell_type": "code",
   "execution_count": 5,
   "metadata": {},
   "outputs": [
    {
     "data": {
      "text/plain": [
       "Structure Summary\n",
       "Lattice\n",
       "    abc : 5.4118815399999995 5.54065588 7.67957356\n",
       " angles : 89.95097281 90.0263813 89.95845763000001\n",
       " volume : 230.27471049398963\n",
       "      A : 5.411880966325694 0.0 -0.00249184960288038\n",
       "      B : 0.004019441888149125 5.540652393627585 0.0047410604709899155\n",
       "      C : 0.0 0.0 7.67957356\n",
       "    pbc : True True True\n",
       "PeriodicSite: Ca0 (Ca) (3.637, 4.675, 2.493) [0.6715, 0.8438, 0.3244]\n",
       "PeriodicSite: Ca1 (Ca) (3.545, 4.188, 6.331) [0.6544, 0.7558, 0.8241]\n",
       "PeriodicSite: Ca2 (Ca) (0.9319, 1.42, 6.333) [0.172, 0.2562, 0.8245]\n",
       "PeriodicSite: Ca3 (Ca) (0.833, 1.904, 2.49) [0.1537, 0.3436, 0.3241]\n",
       "PeriodicSite: Ti4 (Ti) (3.593, 1.66, 4.408) [0.6637, 0.2996, 0.574]\n",
       "PeriodicSite: Ti5 (Ti) (3.592, 1.658, 0.5658) [0.6635, 0.2993, 0.0737]\n",
       "PeriodicSite: Ti6 (Ti) (0.8867, 4.43, 0.5666) [0.1632, 0.7996, 0.07334]\n",
       "PeriodicSite: Ti7 (Ti) (0.8891, 4.429, 4.409) [0.1637, 0.7994, 0.5737]\n",
       "PeriodicSite: O8 (O) (0.4587, 4.54, 6.331) [0.08416, 0.8193, 0.824]\n",
       "PeriodicSite: O9 (O) (2.008, 2.825, 4.725) [0.3707, 0.5099, 0.615]\n",
       "PeriodicSite: O10 (O) (5.163, 0.5045, 4.091) [0.954, 0.09106, 0.5329]\n",
       "PeriodicSite: O11 (O) (2.452, 0.05054, 4.716) [0.4531, 0.009121, 0.6143]\n",
       "PeriodicSite: O12 (O) (3.163, 1.553, 2.487) [0.5843, 0.2803, 0.3239]\n",
       "PeriodicSite: O13 (O) (1.297, 4.322, 2.491) [0.239, 0.78, 0.324]\n",
       "PeriodicSite: O14 (O) (2.015, 2.823, 0.256) [0.372, 0.5096, 0.03314]\n",
       "PeriodicSite: O15 (O) (2.457, 0.05061, 0.2537) [0.4539, 0.009134, 0.03318]\n",
       "PeriodicSite: O16 (O) (5.162, 0.509, 0.8842) [0.9537, 0.09187, 0.1154]\n",
       "PeriodicSite: O17 (O) (4.719, 3.275, 4.094) [0.8716, 0.5911, 0.5331]\n",
       "PeriodicSite: O18 (O) (4.715, 3.272, 0.8867) [0.8708, 0.5905, 0.1154]\n",
       "PeriodicSite: O19 (O) (4.005, 1.765, 6.328) [0.7398, 0.3186, 0.824]"
      ]
     },
     "execution_count": 5,
     "metadata": {},
     "output_type": "execute_result"
    }
   ],
   "source": [
    "structures[133]"
   ]
  }
 ],
 "metadata": {
  "kernelspec": {
   "display_name": "wyckofftransformer-FeCwefly-py3.10",
   "language": "python",
   "name": "python3"
  },
  "language_info": {
   "codemirror_mode": {
    "name": "ipython",
    "version": 3
   },
   "file_extension": ".py",
   "mimetype": "text/x-python",
   "name": "python",
   "nbconvert_exporter": "python",
   "pygments_lexer": "ipython3",
   "version": "3.10.12"
  }
 },
 "nbformat": 4,
 "nbformat_minor": 2
}
