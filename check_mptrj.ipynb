{
 "cells": [
  {
   "cell_type": "code",
   "execution_count": 2,
   "metadata": {},
   "outputs": [],
   "source": [
    "from wyckoff_transformer.tokenization import load_tensors_and_tokenisers\n",
    "tensors, tokenisers, token_engineers = load_tensors_and_tokenisers(\n",
    "    \"matbench_discovery_mp_trj_full\", \"sg_multiplicity_energy\")"
   ]
  },
  {
   "cell_type": "code",
   "execution_count": 40,
   "metadata": {},
   "outputs": [],
   "source": [
    "import gzip\n",
    "import pickle\n",
    "with gzip.open(\"cache/matbench_discovery_mp_trj_full/data.pkl.gz\", \"rb\") as f:\n",
    "    dataset_pd = pickle.load(f)"
   ]
  },
  {
   "cell_type": "code",
   "execution_count": 41,
   "metadata": {},
   "outputs": [],
   "source": [
    "dataset_pd = dataset"
   ]
  },
  {
   "cell_type": "code",
   "execution_count": 17,
   "metadata": {},
   "outputs": [
    {
     "name": "stdout",
     "output_type": "stream",
     "text": [
      "site_symmetries torch.Size([1422355, 198])\n",
      "tensor(0, dtype=torch.int32) tensor(82, dtype=torch.int32)\n",
      "elements torch.Size([1422355, 198])\n",
      "tensor(0, dtype=torch.int32) tensor(91, dtype=torch.int32)\n",
      "sites_enumeration torch.Size([1422355, 198])\n",
      "tensor(0, dtype=torch.int32) tensor(10, dtype=torch.int32)\n",
      "multiplicity torch.Size([1422355, 198])\n",
      "tensor(0, dtype=torch.int32) tensor(192, dtype=torch.int32)\n",
      "spacegroup_number torch.Size([1422355, 112])\n",
      "tensor(0, dtype=torch.int32) tensor(1, dtype=torch.int32)\n",
      "formation_energy_per_atom torch.Size([1422355])\n",
      "tensor(-7.0851) tensor(7.5123)\n",
      "pure_sequence_length torch.Size([1422355])\n",
      "tensor(0, dtype=torch.int32) tensor(198, dtype=torch.int32)\n",
      "site_symmetries torch.Size([256963, 198])\n",
      "tensor(0, dtype=torch.int32) tensor(82, dtype=torch.int32)\n",
      "elements torch.Size([256963, 198])\n",
      "tensor(0, dtype=torch.int32) tensor(91, dtype=torch.int32)\n",
      "sites_enumeration torch.Size([256963, 198])\n",
      "tensor(0, dtype=torch.int32) tensor(10, dtype=torch.int32)\n",
      "multiplicity torch.Size([256963, 198])\n",
      "tensor(0, dtype=torch.int32) tensor(48, dtype=torch.int32)\n",
      "spacegroup_number torch.Size([256963, 112])\n",
      "tensor(0, dtype=torch.int32) tensor(1, dtype=torch.int32)\n",
      "formation_energy_per_atom torch.Size([256963])\n",
      "tensor(-4.5598) tensor(4.7384)\n",
      "pure_sequence_length torch.Size([256963])\n",
      "tensor(1, dtype=torch.int32) tensor(90, dtype=torch.int32)\n",
      "site_symmetries torch.Size([158040, 198])\n",
      "tensor(0, dtype=torch.int32) tensor(82, dtype=torch.int32)\n",
      "elements torch.Size([158040, 198])\n",
      "tensor(0, dtype=torch.int32) tensor(91, dtype=torch.int32)\n",
      "sites_enumeration torch.Size([158040, 198])\n",
      "tensor(0, dtype=torch.int32) tensor(10, dtype=torch.int32)\n",
      "multiplicity torch.Size([158040, 198])\n",
      "tensor(0, dtype=torch.int32) tensor(192, dtype=torch.int32)\n",
      "spacegroup_number torch.Size([158040, 112])\n",
      "tensor(0, dtype=torch.int32) tensor(1, dtype=torch.int32)\n",
      "formation_energy_per_atom torch.Size([158040])\n",
      "tensor(-4.4988) tensor(8.9847)\n",
      "pure_sequence_length torch.Size([158040])\n",
      "tensor(1, dtype=torch.int32) tensor(198, dtype=torch.int32)\n"
     ]
    }
   ],
   "source": [
    "import torch\n",
    "for dataset_name, dataset in tensors.items():\n",
    "    for name, data in dataset.items():\n",
    "        if isinstance(data, torch.Tensor):\n",
    "            print(name, data.shape)\n",
    "            nan_count = data.isnan().sum().item()\n",
    "            if nan_count > 0:\n",
    "                raise ValueError(f\"Found {nan_count} NaNs in {dataset_name}/{name}\")\n",
    "            print(data.min(), data.max())"
   ]
  },
  {
   "cell_type": "code",
   "execution_count": 18,
   "metadata": {},
   "outputs": [],
   "source": [
    "import matplotlib.pyplot as plt"
   ]
  },
  {
   "cell_type": "code",
   "execution_count": 30,
   "metadata": {},
   "outputs": [],
   "source": [
    "empty = (tensors['train']['pure_sequence_length'] == 0).nonzero(as_tuple=True)[0]"
   ]
  },
  {
   "cell_type": "code",
   "execution_count": 47,
   "metadata": {},
   "outputs": [],
   "source": [
    "empty\n",
    "import pandas as pd"
   ]
  },
  {
   "cell_type": "code",
   "execution_count": 48,
   "metadata": {},
   "outputs": [],
   "source": [
    "mptrj_orig = pd.read_csv(\"data/matbench_discovery_mp_trj_full/train.csv.gz\", index_col=0)"
   ]
  },
  {
   "cell_type": "code",
   "execution_count": 98,
   "metadata": {},
   "outputs": [],
   "source": [
    "mptrj_orig.iloc[empty].cif.to_csv(\"pyxtal_failures.csv.gz\")"
   ]
  },
  {
   "cell_type": "code",
   "execution_count": 57,
   "metadata": {},
   "outputs": [],
   "source": [
    "from data import read_cif"
   ]
  },
  {
   "cell_type": "code",
   "execution_count": 59,
   "metadata": {},
   "outputs": [
    {
     "data": {
      "text/plain": [
       "Structure Summary\n",
       "Lattice\n",
       "    abc : 5.09398096 8.99462678 8.99462678\n",
       " angles : 119.99999847 90.0 90.0\n",
       " volume : 356.90633029091344\n",
       "      A : 5.09398096 0.0 3.1191637387907807e-16\n",
       "      B : -4.769739295756444e-16 7.7895754091340015 -4.49731318199078\n",
       "      C : 0.0 0.0 8.99462678\n",
       "    pbc : True True True\n",
       "PeriodicSite: Er0 (Er) (-3.185e-16, 5.201, 4.486) [0.0, 0.6677, 0.8326]\n",
       "PeriodicSite: Er1 (Er) (-7.867e-17, 1.285, 2.248) [0.0, 0.1649, 0.3323]\n",
       "PeriodicSite: Er2 (Er) (-7.985e-17, 1.304, 6.758) [0.0, 0.1674, 0.8351]\n",
       "PeriodicSite: Er3 (Er) (-3.18e-16, 5.193, 1.387e-07) [0.0, 0.6667, 0.3333]\n",
       "PeriodicSite: S4 (S) (-4.765e-16, 7.782, 0.001166) [0.0, 0.999, 0.4996]\n",
       "PeriodicSite: S5 (S) (-2.388e-16, 3.9, -2.243) [0.0, 0.5006, 0.00099]\n",
       "PeriodicSite: S6 (S) (-2.387e-16, 3.898, 2.241) [0.0, 0.5004, 0.4994]\n",
       "PeriodicSite: S7 (S) (0.0, 0.0, 0.0) [0.0, 0.0, 0.0]\n",
       "PeriodicSite: I8 (I) (2.547, 6.538, -2.279) [0.5, 0.8393, 0.1662]\n",
       "PeriodicSite: I9 (I) (2.547, 2.547, -0.02472) [0.5, 0.3269, 0.1607]\n",
       "PeriodicSite: I10 (I) (2.547, 6.495, 2.304) [0.5, 0.8338, 0.6731]\n",
       "PeriodicSite: I11 (I) (2.547, 2.597, 4.497) [0.5, 0.3333, 0.6667]"
      ]
     },
     "execution_count": 59,
     "metadata": {},
     "output_type": "execute_result"
    }
   ],
   "source": [
    "read_cif(example.cif)"
   ]
  },
  {
   "cell_type": "code",
   "execution_count": 91,
   "metadata": {},
   "outputs": [],
   "source": [
    "import pyxtal\n",
    "structure = read_cif(example.cif)"
   ]
  },
  {
   "cell_type": "code",
   "execution_count": 94,
   "metadata": {},
   "outputs": [],
   "source": [
    "px = pyxtal.pyxtal()\n",
    "px.from_seed(structure, tol=0.1)"
   ]
  },
  {
   "cell_type": "code",
   "execution_count": 95,
   "metadata": {},
   "outputs": [
    {
     "data": {
      "text/plain": [
       "[]"
      ]
     },
     "execution_count": 95,
     "metadata": {},
     "output_type": "execute_result"
    }
   ],
   "source": [
    "px.atom_sites"
   ]
  },
  {
   "cell_type": "code",
   "execution_count": 82,
   "metadata": {},
   "outputs": [
    {
     "data": {
      "text/plain": [
       "187"
      ]
     },
     "execution_count": 82,
     "metadata": {},
     "output_type": "execute_result"
    }
   ],
   "source": [
    "\n",
    "px.group.number"
   ]
  },
  {
   "cell_type": "code",
   "execution_count": null,
   "metadata": {},
   "outputs": [],
   "source": []
  },
  {
   "cell_type": "code",
   "execution_count": 45,
   "metadata": {},
   "outputs": [
    {
     "data": {
      "text/plain": [
       "site_symmetries                      []\n",
       "elements                             []\n",
       "multiplicity                         []\n",
       "wyckoff_letters                      []\n",
       "sites_enumeration                    []\n",
       "dof                                  []\n",
       "spacegroup_number                   187\n",
       "sites_enumeration_augmented        (())\n",
       "composition                          {}\n",
       "formation_energy_per_atom     -1.729765\n",
       "Name: 849670, dtype: object"
      ]
     },
     "execution_count": 45,
     "metadata": {},
     "output_type": "execute_result"
    }
   ],
   "source": [
    "dataset_pd['train'].iloc[214421]"
   ]
  },
  {
   "cell_type": "code",
   "execution_count": 29,
   "metadata": {},
   "outputs": [
    {
     "data": {
      "text/plain": [
       "tensor([-1.7298, -1.6748,  0.0405])"
      ]
     },
     "execution_count": 29,
     "metadata": {},
     "output_type": "execute_result"
    }
   ],
   "source": [
    "tensors['train']['formation_energy_per_atom'][empty] "
   ]
  },
  {
   "cell_type": "markdown",
   "metadata": {},
   "source": [
    "tensors['train'][]"
   ]
  },
  {
   "cell_type": "code",
   "execution_count": 26,
   "metadata": {},
   "outputs": [
    {
     "data": {
      "text/plain": [
       "tensor(198, dtype=torch.int32)"
      ]
     },
     "execution_count": 26,
     "metadata": {},
     "output_type": "execute_result"
    }
   ],
   "source": [
    "tensors['train']['pure_sequence_length'].max()"
   ]
  },
  {
   "cell_type": "code",
   "execution_count": 21,
   "metadata": {},
   "outputs": [
    {
     "data": {
      "image/png": "[encoded data removed]",
      "text/plain": [
       "<Figure size 640x480 with 1 Axes>"
      ]
     },
     "metadata": {},
     "output_type": "display_data"
    }
   ],
   "source": [
    "fig, ax = plt.subplots()\n",
    "ax.hist(tensors['train']['formation_energy_per_atom'].numpy(), bins=100, density=True, alpha=0.5, label='train')\n",
    "ax.hist(tensors['val']['formation_energy_per_atom'].numpy(), bins=100, density=True, alpha=0.5, label='val')\n",
    "ax.hist(tensors['test']['formation_energy_per_atom'].numpy(), bins=100, density=True, alpha=0.5, label='test')\n",
    "ax.legend();"
   ]
  },
  {
   "cell_type": "code",
   "execution_count": null,
   "metadata": {},
   "outputs": [],
   "source": []
  }
 ],
 "metadata": {
  "kernelspec": {
   "display_name": "wyckofftransformer-FeCwefly-py3.12",
   "language": "python",
   "name": "python3"
  },
  "language_info": {
   "codemirror_mode": {
    "name": "ipython",
    "version": 3
   },
   "file_extension": ".py",
   "mimetype": "text/x-python",
   "name": "python",
   "nbconvert_exporter": "python",
   "pygments_lexer": "ipython3",
   "version": "3.12.3"
  }
 },
 "nbformat": 4,
 "nbformat_minor": 2
}
