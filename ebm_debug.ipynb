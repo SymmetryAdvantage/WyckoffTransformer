{
 "cells": [
  {
   "cell_type": "code",
   "execution_count": 1,
   "metadata": {},
   "outputs": [],
   "source": [
    "import gzip\n",
    "import pickle\n",
    "from pathlib import Path\n",
    "cache_path = Path(\"cache\", \"matbench_discovery_mp_2022_tol_0.01\")\n",
    "with gzip.open(cache_path / 'data.pkl.gz', \"rb\") as f:\n",
    "    datasets_pd = pickle.load(f)"
   ]
  },
  {
   "cell_type": "code",
   "execution_count": 2,
   "metadata": {},
   "outputs": [],
   "source": [
    "test = datasets_pd[\"test\"]"
   ]
  },
  {
   "cell_type": "code",
   "execution_count": 3,
   "metadata": {},
   "outputs": [],
   "source": [
    "bad_indices = test.loc[test.site_symmetries.isna()].index"
   ]
  },
  {
   "cell_type": "code",
   "execution_count": 4,
   "metadata": {},
   "outputs": [],
   "source": [
    "import pandas as pd\n",
    "original_data = pd.read_csv(\"data/matbench_discovery_mp_2022_tol_0.01/test.csv.gz\", index_col=\"material_id\")"
   ]
  },
  {
   "cell_type": "code",
   "execution_count": 5,
   "metadata": {},
   "outputs": [
    {
     "data": {
      "text/html": [
       "<div>\n",
       "<style scoped>\n",
       "    .dataframe tbody tr th:only-of-type {\n",
       "        vertical-align: middle;\n",
       "    }\n",
       "\n",
       "    .dataframe tbody tr th {\n",
       "        vertical-align: top;\n",
       "    }\n",
       "\n",
       "    .dataframe thead th {\n",
       "        text-align: right;\n",
       "    }\n",
       "</style>\n",
       "<table border=\"1\" class=\"dataframe\">\n",
       "  <thead>\n",
       "    <tr style=\"text-align: right;\">\n",
       "      <th></th>\n",
       "      <th>cif</th>\n",
       "      <th>band_gap</th>\n",
       "      <th>formation_energy_per_atom</th>\n",
       "    </tr>\n",
       "    <tr>\n",
       "      <th>material_id</th>\n",
       "      <th></th>\n",
       "      <th></th>\n",
       "      <th></th>\n",
       "    </tr>\n",
       "  </thead>\n",
       "  <tbody>\n",
       "    <tr>\n",
       "      <th>wbm-1-29949</th>\n",
       "      <td>data_image0\\n_chemical_formula_structural     ...</td>\n",
       "      <td>0.0</td>\n",
       "      <td>-0.029642</td>\n",
       "    </tr>\n",
       "  </tbody>\n",
       "</table>\n",
       "</div>"
      ],
      "text/plain": [
       "                                                           cif  band_gap  \\\n",
       "material_id                                                                \n",
       "wbm-1-29949  data_image0\\n_chemical_formula_structural     ...       0.0   \n",
       "\n",
       "             formation_energy_per_atom  \n",
       "material_id                             \n",
       "wbm-1-29949                  -0.029642  "
      ]
     },
     "execution_count": 5,
     "metadata": {},
     "output_type": "execute_result"
    }
   ],
   "source": [
    "original_data.loc[bad_indices]"
   ]
  },
  {
   "cell_type": "code",
   "execution_count": 6,
   "metadata": {},
   "outputs": [],
   "source": [
    "from data import read_cif\n",
    "structure = read_cif(original_data.loc[bad_indices].iloc[0].cif)"
   ]
  },
  {
   "cell_type": "code",
   "execution_count": 8,
   "metadata": {},
   "outputs": [
    {
     "data": {
      "text/plain": [
       "Structure Summary\n",
       "Lattice\n",
       "    abc : 5.3732804 5.500801959257415 9.915670743901693\n",
       " angles : 82.38197283755025 74.25068951000489 60.76394844550584\n",
       " volume : 246.14570747109389\n",
       "      A : 5.17155940975753 0.0 1.458463413450095\n",
       "      B : 2.5857797048787647 4.800081940000001 0.7292317067250483\n",
       "      C : 0.0 0.0 9.915670743901693\n",
       "    pbc : True True True\n",
       "PeriodicSite: Mn1 (Mn) (3.227, 3.601, 0.9375) [0.2488, 0.7503, 0.002781]\n",
       "PeriodicSite: Mn2 (Mn) (4.531, 3.601, 6.208) [0.5009, 0.7503, 0.4972]\n",
       "PeriodicSite: Mn3 (Mn) (4.531, 1.199, 11.17) [0.7512, 0.2497, 0.9972]\n",
       "PeriodicSite: Mn4 (Mn) (3.227, 1.199, 5.895) [0.4991, 0.2497, 0.5028]\n",
       "PeriodicSite: Sn1 (Sn) (3.879, 2.007, 8.531) [0.5409, 0.4182, 0.75]\n",
       "PeriodicSite: Sn2 (Sn) (1.293, 0.3937, 7.801) [0.209, 0.08201, 0.75]\n",
       "PeriodicSite: Sn3 (Sn) (3.879, 2.793, 3.573) [0.4591, 0.5818, 0.25]\n",
       "PeriodicSite: Sn4 (Sn) (6.464, 4.406, 4.302) [0.791, 0.918, 0.25]\n",
       "PeriodicSite: Sb1 (Sb) (6.054, 3.597, 10.72) [0.7959, 0.7494, 0.9092]\n",
       "PeriodicSite: Sb2 (Sb) (6.875, 3.597, 7.798) [0.9547, 0.7494, 0.5908]\n",
       "PeriodicSite: Sb3 (Sb) (1.703, 1.203, 1.381) [0.2041, 0.2506, 0.09085]\n",
       "PeriodicSite: Sb4 (Sb) (0.8823, 1.203, 4.306) [0.04532, 0.2506, 0.4092]"
      ]
     },
     "execution_count": 8,
     "metadata": {},
     "output_type": "execute_result"
    }
   ],
   "source": [
    "import pyxtal\n",
    "structure"
   ]
  },
  {
   "cell_type": "code",
   "execution_count": 10,
   "metadata": {},
   "outputs": [],
   "source": [
    "pyxtal.pyxtal().from_seed(structure, tol=0.08)"
   ]
  },
  {
   "cell_type": "code",
   "execution_count": null,
   "metadata": {},
   "outputs": [],
   "source": []
  }
 ],
 "metadata": {
  "kernelspec": {
   "display_name": "wyckofftransformer-FeCwefly-py3.12",
   "language": "python",
   "name": "python3"
  },
  "language_info": {
   "codemirror_mode": {
    "name": "ipython",
    "version": 3
   },
   "file_extension": ".py",
   "mimetype": "text/x-python",
   "name": "python",
   "nbconvert_exporter": "python",
   "pygments_lexer": "ipython3",
   "version": "3.12.3"
  }
 },
 "nbformat": 4,
 "nbformat_minor": 2
}
