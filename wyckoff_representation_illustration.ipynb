{
 "cells": [
  {
   "cell_type": "code",
   "execution_count": 5,
   "metadata": {},
   "outputs": [],
   "source": [
    "from pymatgen.io.cif import CifParser\n",
    "parser = CifParser(\"Nd(Al2Cu)4.cif\")\n",
    "structure = parser.parse_structures(primitive=True)[0]"
   ]
  },
  {
   "cell_type": "code",
   "execution_count": 8,
   "metadata": {},
   "outputs": [
    {
     "data": {
      "text/plain": [
       "Structure Summary\n",
       "Lattice\n",
       "    abc : 5.12437374 6.710608990134635 6.7106089901346335\n",
       " angles : 81.66189253476212 67.68606654430747 67.68606654430747\n",
       " volume : 197.4959341823176\n",
       "      A : -0.0 -0.0 5.12437374\n",
       "      B : -4.391986590861085 4.387593265 2.5478917059205743\n",
       "      C : -4.391986590861084 -4.387593265 2.547891705920574\n",
       "    pbc : True True True\n",
       "PeriodicSite: Al2 (Al) (-4.392, -2.447, 5.11) [0.5, 0.2212, 0.7788]\n",
       "PeriodicSite: Al3 (Al) (-1.944, -5.554e-16, 2.554) [0.2783, 0.2213, 0.2213]\n",
       "PeriodicSite: Al4 (Al) (-4.392, -1.322, 2.548) [1.538e-17, 0.3493, 0.6507]\n",
       "PeriodicSite: Al5 (Al) (-3.068, -2.686e-16, 5.117) [0.6511, 0.3493, 0.3493]\n",
       "PeriodicSite: Al6 (Al) (-5.716, -1.329e-15, 5.104) [0.3489, 0.6507, 0.6507]\n",
       "PeriodicSite: Al7 (Al) (-4.392, 1.322, 2.548) [2.865e-17, 0.6507, 0.3493]\n",
       "PeriodicSite: Al8 (Al) (-4.392, 2.447, 5.11) [0.5, 0.7788, 0.2212]\n",
       "PeriodicSite: Al9 (Al) (-6.84, 1.113e-16, 7.666) [0.7217, 0.7787, 0.7787]\n",
       "PeriodicSite: Cu18 (Cu) (-6.588, 2.194, 6.384) [0.5, 1.0, 0.5]\n",
       "PeriodicSite: Cu19 (Cu) (-6.588, 2.194, 8.946) [1.0, 1.0, 0.5]\n",
       "PeriodicSite: Cu20 (Cu) (-6.588, -2.194, 6.384) [0.5, 0.5, 1.0]\n",
       "PeriodicSite: Cu21 (Cu) (-6.588, -2.194, 3.822) [6.725e-18, 0.5, 1.0]\n",
       "PeriodicSite: Nd0 (Nd) (0.0, 0.0, 0.0) [0.0, 0.0, 0.0]"
      ]
     },
     "execution_count": 8,
     "metadata": {},
     "output_type": "execute_result"
    }
   ],
   "source": [
    "structure"
   ]
  }
 ],
 "metadata": {
  "kernelspec": {
   "display_name": "wyckofftransformer-FeCwefly-py3.12",
   "language": "python",
   "name": "python3"
  },
  "language_info": {
   "codemirror_mode": {
    "name": "ipython",
    "version": 3
   },
   "file_extension": ".py",
   "mimetype": "text/x-python",
   "name": "python",
   "nbconvert_exporter": "python",
   "pygments_lexer": "ipython3",
   "version": "3.12.6"
  }
 },
 "nbformat": 4,
 "nbformat_minor": 2
}
