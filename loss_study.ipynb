{
 "cells": [
  {
   "cell_type": "code",
   "execution_count": 1,
   "metadata": {},
   "outputs": [
    {
     "name": "stdout",
     "output_type": "stream",
     "text": [
      "Excluded 58 underrepresented start tokens.\n"
     ]
    }
   ],
   "source": [
    "from pathlib import Path\n",
    "from omegaconf import OmegaConf\n",
    "import numpy as np\n",
    "import torch\n",
    "import matplotlib.pyplot as plt\n",
    "import wandb\n",
    "\n",
    "from wyckoff_transformer.tokenization import load_tensors_and_tokenisers\n",
    "from wyckoff_transformer.generator import WyckoffGenerator\n",
    "from cascade_transformer.model import CascadeTransformer\n",
    "from cascade_transformer.dataset import AugmentedCascadeDataset, TargetClass, batched_bincount\n",
    "\n",
    "device = torch.device(\"cpu\")\n",
    "run_id = \"nonoy0rk\"\n",
    "wandb_run = wandb.Api().run(f\"WyckoffTransformer/{run_id}\")\n",
    "config = OmegaConf.create(dict(wandb_run.config))\n",
    "\n",
    "# The start tokens will be sampled from the train+validation datasets,\n",
    "# to preserve the sanctity of the test dataset and ex nihilo generation.\n",
    "tensors, tokenisers = load_tensors_and_tokenisers(config.dataset, config.tokeniser.name)    \n",
    "generation_size = 15000 #len(next(iter(tensors[\"test\"].values())))*2\n",
    "del tensors[\"test\"]\n",
    "\n",
    "max_start = len(tokenisers[config.model.start_token])\n",
    "start_counts = torch.bincount(tensors[\"train\"][config.model.start_token], minlength=max_start) + \\\n",
    "                torch.bincount(tensors[\"val\"][config.model.start_token], minlength=max_start)\n",
    "underrepresented = start_counts < 10\n",
    "start_counts[underrepresented] = 0\n",
    "print(f\"Excluded {underrepresented.sum()} underrepresented start tokens.\")\n",
    "start_distribution = torch.distributions.Categorical(probs=start_counts.float())\n",
    "\n",
    "model = CascadeTransformer.from_config_and_tokenisers(config, tokenisers, device)\n",
    "model.load_state_dict(torch.load(Path(\"runs\", run_id, \"best_model_params.pt\"), map_location=device))\n",
    "# We need to grab any tensor from the train dataset\n",
    "max_sequence_len = tensors[\"train\"][config.model.cascade_order[0]].size(1)\n",
    "\n",
    "masks_dict = {field: tokenisers[field].mask_token for field in config.model.cascade_order}\n",
    "pad_dict = {field: tokenisers[field].pad_token for field in config.model.cascade_order}\n",
    "stops_dict = {field: tokenisers[field].stop_token for field in config.model.cascade_order}\n",
    "num_classes_dict = {field: len(tokenisers[field]) for field in config.model.cascade_order}\n",
    "\n",
    "generator = WyckoffGenerator(model, config.model.cascade_order, masks_dict, max_sequence_len)\n",
    "\n",
    "validation_dataset = AugmentedCascadeDataset(\n",
    "    data=tensors[\"val\"],\n",
    "    cascade_order=config.model.cascade_order,\n",
    "    masks=masks_dict,\n",
    "    pads=pad_dict,\n",
    "    stops=stops_dict,\n",
    "    num_classes=num_classes_dict,\n",
    "    start_field=config.model.start_token,\n",
    "    augmented_field=config.tokeniser.augmented_token_fields[0],\n",
    "    dtype=torch.long,\n",
    "    device=device)"
   ]
  },
  {
   "cell_type": "code",
   "execution_count": 36,
   "metadata": {},
   "outputs": [
    {
     "name": "stdout",
     "output_type": "stream",
     "text": [
      "At max element count: 861\n",
      "tensor(0.)\n"
     ]
    },
    {
     "data": {
      "image/png": "[encoded data removed]",
      "text/plain": [
       "<Figure size 1000x1000 with 1 Axes>"
      ]
     },
     "metadata": {},
     "output_type": "display_data"
    }
   ],
   "source": [
    "known_seq_len = 6\n",
    "known_cascade_len = 0\n",
    "with torch.no_grad():\n",
    "    start_tokens, masked_data, target = validation_dataset.get_masked_multiclass_cascade_data(\n",
    "                            known_seq_len, known_cascade_len,\n",
    "                            target_type=TargetClass.NextToken, multiclass_target=True)\n",
    "    logits = model(start_tokens, masked_data, None, known_cascade_len)\n",
    "    loss_fn = torch.nn.CrossEntropyLoss(reduction=\"none\")\n",
    "    loss = loss_fn(logits, target)\n",
    "    element_present = batched_bincount(masked_data[0], dim=1, max_value=num_classes_dict[\"elements\"], dtype=torch.bool)\n",
    "    element_counts = element_present.sum(dim=1)\n",
    "    # at max element count\n",
    "    # ternary + MASK\n",
    "    at_max_element_count = element_counts == 4\n",
    "    print(f\"At max element count: {at_max_element_count.sum()}\")\n",
    "    fixed_logits = logits.clone()\n",
    "\n",
    "    element_present |= ~at_max_element_count[:, None]\n",
    "    element_present[:, tokenisers[\"elements\"].stop_token] = True\n",
    "    print(target[~element_present].max())\n",
    "    fixed_logits[~element_present] -= 10\n",
    "    fixed_loss = loss_fn(fixed_logits, target)\n",
    "    fig, ax = plt.subplots(1, 1, figsize=(10, 10))\n",
    "    bins = np.linspace(0, 10, 100)\n",
    "    ax.hist(loss.cpu().numpy(), bins=bins, alpha=0.5, label=f\"Loss, {loss.mean().item():.3f}\")\n",
    "    ax.hist(fixed_loss.cpu().numpy(), bins=bins, alpha=0.5, label=f\"Fixed loss, {fixed_loss.mean().item():.3f}\")\n",
    "    ax.legend()"
   ]
  },
  {
   "cell_type": "code",
   "execution_count": 34,
   "metadata": {},
   "outputs": [
    {
     "data": {
      "text/plain": [
       "tensor(0.)"
      ]
     },
     "execution_count": 34,
     "metadata": {},
     "output_type": "execute_result"
    }
   ],
   "source": [
    "target[~element_present].max()"
   ]
  },
  {
   "cell_type": "code",
   "execution_count": 33,
   "metadata": {},
   "outputs": [
    {
     "data": {
      "text/plain": [
       "tensor([ -4.0312, -11.0994,   2.2523,   1.0409,   2.0111,   1.5558,   2.5604,\n",
       "         -1.2986,  -3.0392,  -4.8223,   3.8653,   7.2354,   4.3229,   1.7210,\n",
       "          1.6754,  -4.0792,  -3.1583,  -1.2237,   2.0977,   7.1409,   2.4962,\n",
       "          4.7637,   3.5087,   4.8242,   3.1974,   3.7222,   3.8034,   3.3081,\n",
       "          3.3005,   2.8811,   0.1302,   1.3950,  -1.5820, -10.5776,  -4.3399,\n",
       "         -3.6200,   0.3189,   6.8556,   3.5680,   3.1446,   1.6643,   3.3728,\n",
       "          3.5670,   1.3421,   1.5107,   1.0620,   4.1449,   3.6082,   3.3962,\n",
       "          0.2069,  -2.6082,  -9.6097,  -3.7071,  -1.2910,  -1.8372,   3.0089,\n",
       "         -0.6446,  -2.1979,  -6.5931,  -0.9168,  -4.4278,  -0.6325,   0.7893,\n",
       "         -0.9153,  -1.5817,  -2.6979,  -3.3178,  -0.7592,  -4.0201,   2.6068,\n",
       "          0.8521,   1.5527,   0.0640,   3.6470,   5.2114,   5.8163,   2.3340,\n",
       "         -3.3345,  -0.3458,   2.8163,   3.0696,  -7.8520,   1.1709,  -5.1957,\n",
       "          1.8759,  -3.4391,  -4.3078, -12.1324,   3.0765, -12.1435])"
      ]
     },
     "execution_count": 33,
     "metadata": {},
     "output_type": "execute_result"
    }
   ],
   "source": [
    "logits[643]"
   ]
  },
  {
   "cell_type": "code",
   "execution_count": 28,
   "metadata": {},
   "outputs": [
    {
     "data": {
      "text/plain": [
       "tensor([0., 0., 0., 0., 0., 0., 0., 0., 0., 0., 0., 0., 0., 0., 0., 0., 0., 0.,\n",
       "        0., 0., 0., 0., 0., 0., 0., 0., 0., 0., 0., 0., 0., 0., 0., 0., 0., 0.,\n",
       "        0., 1., 0., 0., 0., 0., 0., 0., 0., 0., 0., 0., 0., 0., 0., 0., 0., 0.,\n",
       "        0., 0., 0., 0., 0., 0., 0., 0., 0., 0., 0., 0., 0., 0., 0., 0., 0., 0.,\n",
       "        0., 0., 0., 0., 0., 0., 0., 0., 0., 0., 0., 0., 0., 0., 0., 0., 0., 0.])"
      ]
     },
     "execution_count": 28,
     "metadata": {},
     "output_type": "execute_result"
    }
   ],
   "source": [
    "target[643]"
   ]
  },
  {
   "cell_type": "code",
   "execution_count": 29,
   "metadata": {},
   "outputs": [
    {
     "data": {
      "text/plain": [
       "tensor(True)"
      ]
     },
     "execution_count": 29,
     "metadata": {},
     "output_type": "execute_result"
    }
   ],
   "source": [
    "at_max_element_count[643]"
   ]
  },
  {
   "cell_type": "code",
   "execution_count": 30,
   "metadata": {},
   "outputs": [
    {
     "data": {
      "text/plain": [
       "tensor([True, True, True, True, True, True, True, True, True, True, True, True,\n",
       "        True, True, True, True, True, True, True, True, True, True, True, True,\n",
       "        True, True, True, True, True, True, True, True, True, True, True, True,\n",
       "        True, True, True, True, True, True, True, True, True, True, True, True,\n",
       "        True, True, True, True, True, True, True, True, True, True, True, True,\n",
       "        True, True, True, True, True, True, True, True, True, True, True, True,\n",
       "        True, True, True, True, True, True, True, True, True, True, True, True,\n",
       "        True, True, True, True, True, True])"
      ]
     },
     "execution_count": 30,
     "metadata": {},
     "output_type": "execute_result"
    }
   ],
   "source": [
    "element_present[643]"
   ]
  }
 ],
 "metadata": {
  "kernelspec": {
   "display_name": "wyckofftransformer-FeCwefly-py3.10",
   "language": "python",
   "name": "python3"
  },
  "language_info": {
   "codemirror_mode": {
    "name": "ipython",
    "version": 3
   },
   "file_extension": ".py",
   "mimetype": "text/x-python",
   "name": "python",
   "nbconvert_exporter": "python",
   "pygments_lexer": "ipython3",
   "version": "3.10.12"
  }
 },
 "nbformat": 4,
 "nbformat_minor": 2
}
