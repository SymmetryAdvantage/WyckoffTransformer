{
 "cells": [
  {
   "cell_type": "code",
   "execution_count": 19,
   "metadata": {},
   "outputs": [],
   "source": [
    "import pandas as pd\n",
    "MP_20_train = pd.read_csv(\"cdvae/data/mp_20/train.csv\", index_col=0)"
   ]
  },
  {
   "cell_type": "code",
   "execution_count": 20,
   "metadata": {},
   "outputs": [],
   "source": [
    "from pymatgen.io.cif import CifParser\n",
    "from pymatgen.symmetry.analyzer import SpacegroupAnalyzer"
   ]
  },
  {
   "cell_type": "code",
   "execution_count": 21,
   "metadata": {},
   "outputs": [],
   "source": [
    "structure = CifParser.from_str(MP_20_train.iloc[1].cif).get_structures()[0]"
   ]
  },
  {
   "cell_type": "code",
   "execution_count": 22,
   "metadata": {},
   "outputs": [
    {
     "data": {
      "text/plain": [
       "material_id                                                          mp-974729\n",
       "formation_energy_per_atom                                            -0.314759\n",
       "band_gap                                                                   0.0\n",
       "pretty_formula                                                      Nd(Al2Cu)4\n",
       "e_above_hull                                                               0.0\n",
       "elements                                                    ['Al', 'Cu', 'Nd']\n",
       "cif                          # generated using pymatgen\\ndata_Nd(Al2Cu)4\\n_...\n",
       "spacegroup.number                                                          139\n",
       "Name: 19480, dtype: object"
      ]
     },
     "execution_count": 22,
     "metadata": {},
     "output_type": "execute_result"
    }
   ],
   "source": [
    "MP_20_train.iloc[1]"
   ]
  },
  {
   "cell_type": "code",
   "execution_count": 23,
   "metadata": {},
   "outputs": [
    {
     "data": {
      "text/plain": [
       "13"
      ]
     },
     "execution_count": 23,
     "metadata": {},
     "output_type": "execute_result"
    }
   ],
   "source": [
    "len(structure)"
   ]
  },
  {
   "cell_type": "code",
   "execution_count": 24,
   "metadata": {},
   "outputs": [],
   "source": [
    "analyzer = SpacegroupAnalyzer(structure)"
   ]
  },
  {
   "cell_type": "code",
   "execution_count": 35,
   "metadata": {},
   "outputs": [],
   "source": [
    "sym_structure = analyzer.get_symmetrized_structure()"
   ]
  },
  {
   "cell_type": "code",
   "execution_count": 36,
   "metadata": {},
   "outputs": [
    {
     "data": {
      "text/plain": [
       "SymmetrizedStructure\n",
       "Full Formula (Nd1 Al8 Cu4)\n",
       "Reduced Formula: Nd(Al2Cu)4\n",
       "Spacegroup: I4/mmm (139)\n",
       "abc   :   5.199118   6.809864   6.809864\n",
       "angles:  81.620960  67.558845  67.558845\n",
       "Sites (13)\n",
       "  #  SP           a         b         c  Wyckoff\n",
       "---  ----  --------  --------  --------  ---------\n",
       "  0  Nd    0         0         0         1a\n",
       "  1  Al    0.721222  0.778778  0.778778  4j\n",
       "  2  Al    0.34894   0.65106   0.65106   4i\n",
       "  3  Cu    0.5       0.5       0         4f"
      ]
     },
     "execution_count": 36,
     "metadata": {},
     "output_type": "execute_result"
    }
   ],
   "source": [
    "sym_structure"
   ]
  },
  {
   "cell_type": "code",
   "execution_count": 26,
   "metadata": {},
   "outputs": [
    {
     "data": {
      "text/plain": [
       "4"
      ]
     },
     "execution_count": 26,
     "metadata": {},
     "output_type": "execute_result"
    }
   ],
   "source": [
    "len(sym_structure.equivalent_sites)"
   ]
  },
  {
   "cell_type": "code",
   "execution_count": 27,
   "metadata": {},
   "outputs": [
    {
     "data": {
      "text/plain": [
       "dict_keys(['number', 'hall_number', 'international', 'hall', 'choice', 'transformation_matrix', 'origin_shift', 'rotations', 'translations', 'wyckoffs', 'site_symmetry_symbols', 'crystallographic_orbits', 'equivalent_atoms', 'primitive_lattice', 'mapping_to_primitive', 'std_lattice', 'std_types', 'std_positions', 'std_rotation_matrix', 'std_mapping_to_primitive', 'pointgroup'])"
      ]
     },
     "execution_count": 27,
     "metadata": {},
     "output_type": "execute_result"
    }
   ],
   "source": [
    "analyzer.get_symmetry_dataset().keys()"
   ]
  },
  {
   "cell_type": "code",
   "execution_count": 28,
   "metadata": {},
   "outputs": [
    {
     "data": {
      "text/plain": [
       "array([0, 1, 1, 3, 3, 3, 3, 1, 1, 9, 9, 9, 9], dtype=int32)"
      ]
     },
     "execution_count": 28,
     "metadata": {},
     "output_type": "execute_result"
    }
   ],
   "source": [
    "analyzer.get_symmetry_dataset()['crystallographic_orbits']"
   ]
  },
  {
   "cell_type": "code",
   "execution_count": 29,
   "metadata": {},
   "outputs": [
    {
     "data": {
      "text/plain": [
       "['4/mmm',\n",
       " 'm2m.',\n",
       " 'm2m.',\n",
       " 'm2m.',\n",
       " 'm2m.',\n",
       " 'm2m.',\n",
       " 'm2m.',\n",
       " 'm2m.',\n",
       " 'm2m.',\n",
       " '..2/m',\n",
       " '..2/m',\n",
       " '..2/m',\n",
       " '..2/m']"
      ]
     },
     "execution_count": 29,
     "metadata": {},
     "output_type": "execute_result"
    }
   ],
   "source": [
    "analyzer.get_symmetry_dataset()['site_symmetry_symbols']"
   ]
  },
  {
   "cell_type": "code",
   "execution_count": 30,
   "metadata": {},
   "outputs": [
    {
     "data": {
      "text/plain": [
       "['a', 'j', 'j', 'i', 'i', 'i', 'i', 'j', 'j', 'f', 'f', 'f', 'f']"
      ]
     },
     "execution_count": 30,
     "metadata": {},
     "output_type": "execute_result"
    }
   ],
   "source": [
    "analyzer.get_symmetry_dataset()['wyckoffs']"
   ]
  },
  {
   "cell_type": "code",
   "execution_count": null,
   "metadata": {},
   "outputs": [],
   "source": []
  },
  {
   "cell_type": "code",
   "execution_count": 31,
   "metadata": {},
   "outputs": [],
   "source": [
    "sites = dict(((sym_structure.wyckoff_symbols[i], sym_structure.equivalent_sites[i][0].frac_coords) for i in range(len(sym_structure.equivalent_sites))))"
   ]
  },
  {
   "cell_type": "code",
   "execution_count": 32,
   "metadata": {},
   "outputs": [
    {
     "data": {
      "text/plain": [
       "{'1a': array([0., 0., 0.]),\n",
       " '4j': array([0.721222, 0.778778, 0.778778]),\n",
       " '4i': array([0.34894, 0.65106, 0.65106]),\n",
       " '4f': array([0.5, 0.5, 0. ])}"
      ]
     },
     "execution_count": 32,
     "metadata": {},
     "output_type": "execute_result"
    }
   ],
   "source": [
    "sites"
   ]
  },
  {
   "cell_type": "code",
   "execution_count": 33,
   "metadata": {},
   "outputs": [
    {
     "data": {
      "text/plain": [
       "13"
      ]
     },
     "execution_count": 33,
     "metadata": {},
     "output_type": "execute_result"
    }
   ],
   "source": [
    "len(sym_structure)"
   ]
  },
  {
   "cell_type": "code",
   "execution_count": 34,
   "metadata": {},
   "outputs": [
    {
     "data": {
      "text/plain": [
       "[[PeriodicSite: Nd (0.0, 0.0, 0.0) [0.0, 0.0, 0.0]],\n",
       " [PeriodicSite: Al (7.817, 6.734, 1.554) [0.7212, 0.7788, 0.7788],\n",
       "  PeriodicSite: Al (6.483, 3.238, -0.6977) [0.5, 0.2212, 0.7788],\n",
       "  PeriodicSite: Al (2.347, 2.245, 0.2946) [0.2788, 0.2212, 0.2212],\n",
       "  PeriodicSite: Al (3.682, 5.741, 2.546) [0.5, 0.7788, 0.2212]],\n",
       " [PeriodicSite: Al (6.1, 4.489, 1.803) [0.3489, 0.6511, 0.6511],\n",
       "  PeriodicSite: Al (4.984, 1.567, 1.038) [5.794e-17, 0.3489, 0.6511],\n",
       "  PeriodicSite: Al (3.467, 2.923, 2.795) [4.52e-17, 0.6511, 0.3489],\n",
       "  PeriodicSite: Al (4.065, 4.489, 0.04528) [0.6511, 0.3489, 0.3489]],\n",
       " [PeriodicSite: Cu (1.714, 4.489, 1.42) [0.5, 0.5, 0.0],\n",
       "  PeriodicSite: Cu (7.594, 2.245, 1.42) [5.551e-17, 0.5, 1.0],\n",
       "  PeriodicSite: Cu (5.082, 4.489, 4.329) [1.452e-17, 1.0, 0.5],\n",
       "  PeriodicSite: Cu (5.939, 6.734, 3.337) [0.5, 1.0, 0.5]]]"
      ]
     },
     "execution_count": 34,
     "metadata": {},
     "output_type": "execute_result"
    }
   ],
   "source": [
    "sym_structure.equivalent_sites"
   ]
  },
  {
   "cell_type": "code",
   "execution_count": 37,
   "metadata": {},
   "outputs": [],
   "source": [
    "from pyxtal import pyxtal"
   ]
  },
  {
   "cell_type": "code",
   "execution_count": 39,
   "metadata": {},
   "outputs": [
    {
     "ename": "Comp_CompatibilityError",
     "evalue": "Compoisition [1 8 4] not compatible with symmetry 139",
     "output_type": "error",
     "traceback": [
      "\u001b[0;31m---------------------------------------------------------------------------\u001b[0m",
      "\u001b[0;31mComp_CompatibilityError\u001b[0m                   Traceback (most recent call last)",
      "\u001b[1;32m/home/kna/WyckoffTransformer/Playground.ipynb Cell 20\u001b[0m line \u001b[0;36m3\n\u001b[1;32m      <a href='vscode-notebook-cell:/home/kna/WyckoffTransformer/Playground.ipynb#X24sZmlsZQ%3D%3D?line=0'>1</a>\u001b[0m my_crystal \u001b[39m=\u001b[39m pyxtal()\n\u001b[1;32m      <a href='vscode-notebook-cell:/home/kna/WyckoffTransformer/Playground.ipynb#X24sZmlsZQ%3D%3D?line=1'>2</a>\u001b[0m \u001b[39m#my_crystal.from_random(dim=3, group=\"I4/mmm\", species=['Nd', 'Al', 'Cu'], numIons=[2, 16, 8])\u001b[39;00m\n\u001b[0;32m----> <a href='vscode-notebook-cell:/home/kna/WyckoffTransformer/Playground.ipynb#X24sZmlsZQ%3D%3D?line=2'>3</a>\u001b[0m my_crystal\u001b[39m.\u001b[39;49mfrom_random(dim\u001b[39m=\u001b[39;49m\u001b[39m3\u001b[39;49m, group\u001b[39m=\u001b[39;49m\u001b[39m\"\u001b[39;49m\u001b[39mI4/mmm\u001b[39;49m\u001b[39m\"\u001b[39;49m, species\u001b[39m=\u001b[39;49m[\u001b[39m'\u001b[39;49m\u001b[39mNd\u001b[39;49m\u001b[39m'\u001b[39;49m, \u001b[39m'\u001b[39;49m\u001b[39mAl\u001b[39;49m\u001b[39m'\u001b[39;49m, \u001b[39m'\u001b[39;49m\u001b[39mCu\u001b[39;49m\u001b[39m'\u001b[39;49m], numIons\u001b[39m=\u001b[39;49m[\u001b[39m1\u001b[39;49m, \u001b[39m8\u001b[39;49m, \u001b[39m4\u001b[39;49m])\n",
      "File \u001b[0;32m~/.cache/pypoetry/virtualenvs/wyckofftransformer-FeCwefly-py3.11/lib/python3.11/site-packages/pyxtal/__init__.py:311\u001b[0m, in \u001b[0;36mpyxtal.from_random\u001b[0;34m(self, dim, group, species, numIons, factor, thickness, area, lattice, sites, conventional, t_factor, max_count, torsions, force_pass, block, num_block, seed, tm, use_hall)\u001b[0m\n\u001b[1;32m    293\u001b[0m     struc \u001b[39m=\u001b[39m block_crystal(dim,\n\u001b[1;32m    294\u001b[0m                           group,\n\u001b[1;32m    295\u001b[0m                           species,\n\u001b[0;32m   (...)\u001b[0m\n\u001b[1;32m    308\u001b[0m                           use_hall \u001b[39m=\u001b[39m use_hall,\n\u001b[1;32m    309\u001b[0m                           )\n\u001b[1;32m    310\u001b[0m \u001b[39melse\u001b[39;00m:\n\u001b[0;32m--> 311\u001b[0m     struc \u001b[39m=\u001b[39m random_crystal(dim,\n\u001b[1;32m    312\u001b[0m                            group,\n\u001b[1;32m    313\u001b[0m                            species,\n\u001b[1;32m    314\u001b[0m                            numIons,\n\u001b[1;32m    315\u001b[0m                            factor,\n\u001b[1;32m    316\u001b[0m                            thickness,\n\u001b[1;32m    317\u001b[0m                            area,\n\u001b[1;32m    318\u001b[0m                            lattice,\n\u001b[1;32m    319\u001b[0m                            sites,\n\u001b[1;32m    320\u001b[0m                            conventional,\n\u001b[1;32m    321\u001b[0m                            tm,\n\u001b[1;32m    322\u001b[0m                            use_hall \u001b[39m=\u001b[39;49m use_hall,\n\u001b[1;32m    323\u001b[0m                            )\n\u001b[1;32m    324\u001b[0m \u001b[39mif\u001b[39;00m force_pass:\n\u001b[1;32m    325\u001b[0m     quit \u001b[39m=\u001b[39m \u001b[39mTrue\u001b[39;00m\n",
      "File \u001b[0;32m~/.cache/pypoetry/virtualenvs/wyckofftransformer-FeCwefly-py3.11/lib/python3.11/site-packages/pyxtal/crystal.py:110\u001b[0m, in \u001b[0;36mrandom_crystal.__init__\u001b[0;34m(self, dim, group, species, numIons, factor, thickness, area, lattice, sites, conventional, tm, use_hall)\u001b[0m\n\u001b[1;32m    108\u001b[0m     msg \u001b[39m+\u001b[39m\u001b[39m=\u001b[39m \u001b[39m\"\u001b[39m\u001b[39m not compatible with symmetry \u001b[39m\u001b[39m\"\u001b[39m\n\u001b[1;32m    109\u001b[0m     msg \u001b[39m+\u001b[39m\u001b[39m=\u001b[39m \u001b[39mstr\u001b[39m(\u001b[39mself\u001b[39m\u001b[39m.\u001b[39mgroup\u001b[39m.\u001b[39mnumber)\n\u001b[0;32m--> 110\u001b[0m     \u001b[39mraise\u001b[39;00m Comp_CompatibilityError(msg)\n\u001b[1;32m    111\u001b[0m \u001b[39melse\u001b[39;00m:\n\u001b[1;32m    112\u001b[0m     \u001b[39m#self.set_volume()\u001b[39;00m\n\u001b[1;32m    113\u001b[0m     \u001b[39m#self.set_lattice(self.lattice0)\u001b[39;00m\n\u001b[1;32m    114\u001b[0m     \u001b[39mself\u001b[39m\u001b[39m.\u001b[39mset_elemental_volumes()\n",
      "\u001b[0;31mComp_CompatibilityError\u001b[0m: Compoisition [1 8 4] not compatible with symmetry 139"
     ]
    }
   ],
   "source": [
    "my_crystal = pyxtal()\n",
    "#my_crystal.from_random(dim=3, group=\"I4/mmm\", species=['Nd', 'Al', 'Cu'], numIons=[2, 16, 8])\n",
    "my_crystal.from_random(dim=3, group=\"I4/mmm\", species=['Nd', 'Al', 'Cu'], numIons=[1, 8, 4])"
   ]
  },
  {
   "cell_type": "code",
   "execution_count": 100,
   "metadata": {},
   "outputs": [],
   "source": [
    "my_crystal_pymatgen = my_crystal.to_pymatgen()"
   ]
  },
  {
   "cell_type": "code",
   "execution_count": 102,
   "metadata": {},
   "outputs": [],
   "source": [
    "analyzer = SpacegroupAnalyzer(my_crystal_pymatgen)"
   ]
  },
  {
   "cell_type": "code",
   "execution_count": 104,
   "metadata": {},
   "outputs": [
    {
     "data": {
      "text/plain": [
       "SymmetrizedStructure\n",
       "Full Formula (Nd2 Al16 Cu8)\n",
       "Reduced Formula: Nd(Al2Cu)4\n",
       "Spacegroup: I4/mmm (139)\n",
       "abc   :   6.471440   6.471440  11.870218\n",
       "angles:  90.000000  90.000000  90.000000\n",
       "Sites (26)\n",
       "  #  SP           a         b          c  Wyckoff\n",
       "---  ----  --------  --------  ---------  ---------\n",
       "  0  Al    0         0.5       -0         4c\n",
       "  1  Al    0         0          0.149988  4e\n",
       "  2  Al    0.25      0.25       0.25      8f\n",
       "  3  Cu    0.668589  0.668589  -0         8h\n",
       "  4  Nd    0         0          0         2a"
      ]
     },
     "execution_count": 104,
     "metadata": {},
     "output_type": "execute_result"
    }
   ],
   "source": [
    "analyzer.get_symmetrized_structure()"
   ]
  },
  {
   "cell_type": "code",
   "execution_count": 106,
   "metadata": {},
   "outputs": [
    {
     "data": {
      "text/plain": [
       "13"
      ]
     },
     "execution_count": 106,
     "metadata": {},
     "output_type": "execute_result"
    }
   ],
   "source": [
    "len(analyzer.get_primitive_standard_structure())"
   ]
  },
  {
   "cell_type": "code",
   "execution_count": 95,
   "metadata": {},
   "outputs": [
    {
     "ename": "UnboundLocalError",
     "evalue": "cannot access local variable 'mse' where it is not associated with a value",
     "output_type": "error",
     "traceback": [
      "\u001b[0;31m---------------------------------------------------------------------------\u001b[0m",
      "\u001b[0;31mUnboundLocalError\u001b[0m                         Traceback (most recent call last)",
      "\u001b[1;32m/home/kna/WyckoffTransformer/Playground.ipynb Cell 19\u001b[0m line \u001b[0;36m7\n\u001b[1;32m      <a href='vscode-notebook-cell:/home/kna/WyckoffTransformer/Playground.ipynb#X32sZmlsZQ%3D%3D?line=0'>1</a>\u001b[0m sites \u001b[39m=\u001b[39m [\n\u001b[1;32m      <a href='vscode-notebook-cell:/home/kna/WyckoffTransformer/Playground.ipynb#X32sZmlsZQ%3D%3D?line=1'>2</a>\u001b[0m         {\u001b[39m'\u001b[39m\u001b[39m1a\u001b[39m\u001b[39m'\u001b[39m: [\u001b[39m0.\u001b[39m, \u001b[39m0.\u001b[39m, \u001b[39m0.\u001b[39m]},\n\u001b[1;32m      <a href='vscode-notebook-cell:/home/kna/WyckoffTransformer/Playground.ipynb#X32sZmlsZQ%3D%3D?line=2'>3</a>\u001b[0m         {\u001b[39m'\u001b[39m\u001b[39m4j\u001b[39m\u001b[39m'\u001b[39m: [\u001b[39m0.721222\u001b[39m, \u001b[39m0.778778\u001b[39m, \u001b[39m0.778778\u001b[39m],\n\u001b[1;32m      <a href='vscode-notebook-cell:/home/kna/WyckoffTransformer/Playground.ipynb#X32sZmlsZQ%3D%3D?line=3'>4</a>\u001b[0m         \u001b[39m'\u001b[39m\u001b[39m4i\u001b[39m\u001b[39m'\u001b[39m: [\u001b[39m0.34894\u001b[39m, \u001b[39m0.65106\u001b[39m, \u001b[39m0.65106\u001b[39m]},\n\u001b[1;32m      <a href='vscode-notebook-cell:/home/kna/WyckoffTransformer/Playground.ipynb#X32sZmlsZQ%3D%3D?line=4'>5</a>\u001b[0m         {\u001b[39m'\u001b[39m\u001b[39m4f\u001b[39m\u001b[39m'\u001b[39m: [\u001b[39m0.5\u001b[39m, \u001b[39m0.5\u001b[39m, \u001b[39m0.\u001b[39m ]}\n\u001b[1;32m      <a href='vscode-notebook-cell:/home/kna/WyckoffTransformer/Playground.ipynb#X32sZmlsZQ%3D%3D?line=5'>6</a>\u001b[0m ]\n\u001b[0;32m----> <a href='vscode-notebook-cell:/home/kna/WyckoffTransformer/Playground.ipynb#X32sZmlsZQ%3D%3D?line=6'>7</a>\u001b[0m my_crystal\u001b[39m.\u001b[39;49mfrom_random(dim\u001b[39m=\u001b[39;49m\u001b[39m3\u001b[39;49m, group\u001b[39m=\u001b[39;49m\u001b[39m\"\u001b[39;49m\u001b[39mI4/mmm\u001b[39;49m\u001b[39m\"\u001b[39;49m, species\u001b[39m=\u001b[39;49m[\u001b[39m'\u001b[39;49m\u001b[39mNd\u001b[39;49m\u001b[39m'\u001b[39;49m, \u001b[39m'\u001b[39;49m\u001b[39mAl\u001b[39;49m\u001b[39m'\u001b[39;49m, \u001b[39m'\u001b[39;49m\u001b[39mCu\u001b[39;49m\u001b[39m'\u001b[39;49m], numIons\u001b[39m=\u001b[39;49m[\u001b[39m2\u001b[39;49m, \u001b[39m16\u001b[39;49m, \u001b[39m8\u001b[39;49m], sites\u001b[39m=\u001b[39;49msites)\n",
      "File \u001b[0;32m~/.cache/pypoetry/virtualenvs/wyckofftransformer-FeCwefly-py3.11/lib/python3.11/site-packages/pyxtal/__init__.py:311\u001b[0m, in \u001b[0;36mpyxtal.from_random\u001b[0;34m(self, dim, group, species, numIons, factor, thickness, area, lattice, sites, conventional, t_factor, max_count, torsions, force_pass, block, num_block, seed, tm, use_hall)\u001b[0m\n\u001b[1;32m    293\u001b[0m     struc \u001b[39m=\u001b[39m block_crystal(dim,\n\u001b[1;32m    294\u001b[0m                           group,\n\u001b[1;32m    295\u001b[0m                           species,\n\u001b[0;32m   (...)\u001b[0m\n\u001b[1;32m    308\u001b[0m                           use_hall \u001b[39m=\u001b[39m use_hall,\n\u001b[1;32m    309\u001b[0m                           )\n\u001b[1;32m    310\u001b[0m \u001b[39melse\u001b[39;00m:\n\u001b[0;32m--> 311\u001b[0m     struc \u001b[39m=\u001b[39m random_crystal(dim,\n\u001b[1;32m    312\u001b[0m                            group,\n\u001b[1;32m    313\u001b[0m                            species,\n\u001b[1;32m    314\u001b[0m                            numIons,\n\u001b[1;32m    315\u001b[0m                            factor,\n\u001b[1;32m    316\u001b[0m                            thickness,\n\u001b[1;32m    317\u001b[0m                            area,\n\u001b[1;32m    318\u001b[0m                            lattice,\n\u001b[1;32m    319\u001b[0m                            sites,\n\u001b[1;32m    320\u001b[0m                            conventional,\n\u001b[1;32m    321\u001b[0m                            tm,\n\u001b[1;32m    322\u001b[0m                            use_hall \u001b[39m=\u001b[39;49m use_hall,\n\u001b[1;32m    323\u001b[0m                            )\n\u001b[1;32m    324\u001b[0m \u001b[39mif\u001b[39;00m force_pass:\n\u001b[1;32m    325\u001b[0m     quit \u001b[39m=\u001b[39m \u001b[39mTrue\u001b[39;00m\n",
      "File \u001b[0;32m~/.cache/pypoetry/virtualenvs/wyckofftransformer-FeCwefly-py3.11/lib/python3.11/site-packages/pyxtal/crystal.py:101\u001b[0m, in \u001b[0;36mrandom_crystal.__init__\u001b[0;34m(self, dim, group, species, numIons, factor, thickness, area, lattice, sites, conventional, tm, use_hall)\u001b[0m\n\u001b[1;32m     99\u001b[0m     \u001b[39mself\u001b[39m\u001b[39m.\u001b[39mtol_matrix \u001b[39m=\u001b[39m Tol_matrix(prototype\u001b[39m=\u001b[39mtm)\n\u001b[1;32m    100\u001b[0m \u001b[39m# Wyckoff sites\u001b[39;00m\n\u001b[0;32m--> 101\u001b[0m \u001b[39mself\u001b[39;49m\u001b[39m.\u001b[39;49mset_sites(sites)\n\u001b[1;32m    103\u001b[0m \u001b[39m# Lattice and coordinates\u001b[39;00m\n\u001b[1;32m    104\u001b[0m compat, \u001b[39mself\u001b[39m\u001b[39m.\u001b[39mdegrees \u001b[39m=\u001b[39m \u001b[39mself\u001b[39m\u001b[39m.\u001b[39mgroup\u001b[39m.\u001b[39mcheck_compatible(\u001b[39mself\u001b[39m\u001b[39m.\u001b[39mnumIons)\n",
      "File \u001b[0;32m~/.cache/pypoetry/virtualenvs/wyckofftransformer-FeCwefly-py3.11/lib/python3.11/site-packages/pyxtal/crystal.py:146\u001b[0m, in \u001b[0;36mrandom_crystal.set_sites\u001b[0;34m(self, sites)\u001b[0m\n\u001b[1;32m    144\u001b[0m \u001b[39mif\u001b[39;00m sites \u001b[39mis\u001b[39;00m \u001b[39mnot\u001b[39;00m \u001b[39mNone\u001b[39;00m \u001b[39mand\u001b[39;00m sites[i] \u001b[39mis\u001b[39;00m \u001b[39mnot\u001b[39;00m \u001b[39mNone\u001b[39;00m \u001b[39mand\u001b[39;00m \u001b[39mlen\u001b[39m(sites[i])\u001b[39m>\u001b[39m\u001b[39m0\u001b[39m:\n\u001b[1;32m    145\u001b[0m     \u001b[39mself\u001b[39m\u001b[39m.\u001b[39msites[specie] \u001b[39m=\u001b[39m []\n\u001b[0;32m--> 146\u001b[0m     \u001b[39mself\u001b[39;49m\u001b[39m.\u001b[39;49m_check_consistency(sites[i], \u001b[39mself\u001b[39;49m\u001b[39m.\u001b[39;49mnumIons[i])\n\u001b[1;32m    148\u001b[0m     \u001b[39mif\u001b[39;00m \u001b[39mtype\u001b[39m(sites[i]) \u001b[39mis\u001b[39;00m \u001b[39mdict\u001b[39m:\n\u001b[1;32m    149\u001b[0m         \u001b[39mfor\u001b[39;00m item \u001b[39min\u001b[39;00m sites[i]\u001b[39m.\u001b[39mitems():\n\u001b[1;32m    150\u001b[0m             \u001b[39m# keep the record of wp index\u001b[39;00m\n",
      "File \u001b[0;32m~/.cache/pypoetry/virtualenvs/wyckofftransformer-FeCwefly-py3.11/lib/python3.11/site-packages/pyxtal/crystal.py:427\u001b[0m, in \u001b[0;36mrandom_crystal._check_consistency\u001b[0;34m(self, site, numIon)\u001b[0m\n\u001b[1;32m    425\u001b[0m         msg \u001b[39m+\u001b[39m\u001b[39m=\u001b[39m \u001b[39m\"\u001b[39m\u001b[39m\\n\u001b[39;00m\u001b[39mfrom Wyckoff list: \u001b[39m\u001b[39m{:d}\u001b[39;00m\u001b[39m\"\u001b[39m\u001b[39m.\u001b[39mformat(num)\n\u001b[1;32m    426\u001b[0m         msg \u001b[39m+\u001b[39m\u001b[39m=\u001b[39m \u001b[39m\"\u001b[39m\u001b[39m\\n\u001b[39;00m\u001b[39mThe number is incompatible with composition: \u001b[39m\u001b[39m\"\u001b[39m\n\u001b[0;32m--> 427\u001b[0m         mse \u001b[39m+\u001b[39m\u001b[39m=\u001b[39m \u001b[39mstr\u001b[39m(site)\n\u001b[1;32m    428\u001b[0m     \u001b[39mraise\u001b[39;00m \u001b[39mValueError\u001b[39;00m(msg)\n\u001b[1;32m    429\u001b[0m \u001b[39melse\u001b[39;00m:\n",
      "\u001b[0;31mUnboundLocalError\u001b[0m: cannot access local variable 'mse' where it is not associated with a value"
     ]
    }
   ],
   "source": [
    "sites = [\n",
    "        {'1a': [0., 0., 0.]},\n",
    "        {'4j': [0.721222, 0.778778, 0.778778],\n",
    "        '4i': [0.34894, 0.65106, 0.65106]},\n",
    "        {'4f': [0.5, 0.5, 0. ]}\n",
    "]\n",
    "my_crystal.from_random(dim=3, group=\"I4/mmm\", species=['Nd', 'Al', 'Cu'], numIons=[2, 16, 8], sites=sites)"
   ]
  },
  {
   "cell_type": "code",
   "execution_count": 54,
   "metadata": {},
   "outputs": [
    {
     "data": {
      "text/plain": [
       "\n",
       "------Crystal from random------\n",
       "Dimension: 3\n",
       "Composition: Nd16\n",
       "Group: I 4/m m m (139)\n",
       " 11.6538,  11.6538,   4.5821,  90.0000,  90.0000,  90.0000, tetragonal\n",
       "Wyckoff sites:\n",
       "\tNd @ [ 0.0000  0.5000  0.0000], WP [4c] Site [2/m2/m2/m.]\n",
       "\tNd @ [ 0.0000  0.0000  0.7288], WP [4e] Site [4mm]\n",
       "\tNd @ [ 0.1832  0.1832  0.0000], WP [8h] Site [m.m2]"
      ]
     },
     "execution_count": 54,
     "metadata": {},
     "output_type": "execute_result"
    }
   ],
   "source": [
    "my_crystal"
   ]
  },
  {
   "cell_type": "code",
   "execution_count": 55,
   "metadata": {},
   "outputs": [
    {
     "data": {
      "text/plain": [
       "<Popen: returncode: None args: ['/home/kna/.cache/pypoetry/virtualenvs/wycko...>"
      ]
     },
     "execution_count": 55,
     "metadata": {},
     "output_type": "execute_result"
    }
   ],
   "source": [
    "# convert to pymatgen structure and visualize\n",
    "ase_crystal = my_crystal.to_ase()\n",
    "from ase.visualize import view\n",
    "view(ase_crystal)"
   ]
  },
  {
   "cell_type": "code",
   "execution_count": 90,
   "metadata": {},
   "outputs": [
    {
     "ename": "AttributeError",
     "evalue": "type object 'pyxtal' has no attribute '__version__'",
     "output_type": "error",
     "traceback": [
      "\u001b[0;31m---------------------------------------------------------------------------\u001b[0m",
      "\u001b[0;31mAttributeError\u001b[0m                            Traceback (most recent call last)",
      "\u001b[1;32m/home/kna/WyckoffTransformer/Playground.ipynb Cell 21\u001b[0m line \u001b[0;36m1\n\u001b[0;32m----> <a href='vscode-notebook-cell:/home/kna/WyckoffTransformer/Playground.ipynb#X20sZmlsZQ%3D%3D?line=0'>1</a>\u001b[0m pyxtal\u001b[39m.\u001b[39;49m__version__\n",
      "\u001b[0;31mAttributeError\u001b[0m: type object 'pyxtal' has no attribute '__version__'"
     ]
    }
   ],
   "source": [
    "pyxtal.__version__"
   ]
  },
  {
   "cell_type": "code",
   "execution_count": null,
   "metadata": {},
   "outputs": [],
   "source": []
  }
 ],
 "metadata": {
  "kernelspec": {
   "display_name": "wyckofftransformer-FeCwefly-py3.11",
   "language": "python",
   "name": "python3"
  },
  "language_info": {
   "codemirror_mode": {
    "name": "ipython",
    "version": 3
   },
   "file_extension": ".py",
   "mimetype": "text/x-python",
   "name": "python",
   "nbconvert_exporter": "python",
   "pygments_lexer": "ipython3",
   "version": "3.11.6"
  }
 },
 "nbformat": 4,
 "nbformat_minor": 2
}
