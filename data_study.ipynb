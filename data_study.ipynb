{
 "cells": [
  {
   "cell_type": "code",
   "execution_count": 1,
   "metadata": {},
   "outputs": [],
   "source": [
    "import gzip\n",
    "import pickle\n",
    "from wyckoff_transformer.evaluation import smac_validity_from_counter, smact_validity_from_record"
   ]
  },
  {
   "cell_type": "code",
   "execution_count": 44,
   "metadata": {},
   "outputs": [],
   "source": [
    "dataset = \"mp_20\"\n",
    "with gzip.open(f\"cache/{dataset}/data.pkl.gz\") as f:\n",
    "    data = pickle.load(f)"
   ]
  },
  {
   "cell_type": "code",
   "execution_count": 45,
   "metadata": {},
   "outputs": [
    {
     "data": {
      "text/plain": [
       "0.43399911556603776"
      ]
     },
     "execution_count": 45,
     "metadata": {},
     "output_type": "execute_result"
    }
   ],
   "source": [
    "data['train'].composition.map(smac_validity_from_counter).mean()"
   ]
  },
  {
   "cell_type": "code",
   "execution_count": 46,
   "metadata": {},
   "outputs": [
    {
     "data": {
      "text/plain": [
       "0.35112028301886794"
      ]
     },
     "execution_count": 46,
     "metadata": {},
     "output_type": "execute_result"
    }
   ],
   "source": [
    "data['train'].composition.map(double_composition).map(smac_validity_from_counter).mean()"
   ]
  },
  {
   "cell_type": "code",
   "execution_count": 62,
   "metadata": {},
   "outputs": [
    {
     "data": {
      "text/plain": [
       "site_symmetries                      [m, m, m, m, m, m, m, m, m, m, m, m]\n",
       "elements                       [Na, Na, Na, Mn, Co, Ni, O, O, O, O, O, O]\n",
       "multiplicity                         [2, 2, 2, 2, 2, 2, 2, 2, 2, 2, 2, 2]\n",
       "wyckoff_letters                      [a, a, a, a, a, a, a, a, a, a, a, a]\n",
       "sites_enumeration                    [0, 0, 0, 0, 0, 0, 0, 0, 0, 0, 0, 0]\n",
       "dof                                  [2, 2, 2, 2, 2, 2, 2, 2, 2, 2, 2, 2]\n",
       "spacegroup_number                                                       8\n",
       "sites_enumeration_augmented        [[0, 0, 0, 0, 0, 0, 0, 0, 0, 0, 0, 0]]\n",
       "composition                           {Na: 6, Mn: 2, Co: 2, Ni: 2, O: 12}\n",
       "Name: 37228, dtype: object"
      ]
     },
     "execution_count": 62,
     "metadata": {},
     "output_type": "execute_result"
    }
   ],
   "source": [
    "data['train'].iloc[0]"
   ]
  },
  {
   "cell_type": "code",
   "execution_count": 65,
   "metadata": {},
   "outputs": [
    {
     "data": {
      "text/plain": [
       "{Element Na: 3, Element Mn: 1, Element Co: 1, Element Ni: 1, Element O: 6}"
      ]
     },
     "execution_count": 65,
     "metadata": {},
     "output_type": "execute_result"
    }
   ],
   "source": [
    "gcd_composition(data['train'].iloc[0].composition)"
   ]
  },
  {
   "cell_type": "code",
   "execution_count": 47,
   "metadata": {},
   "outputs": [
    {
     "data": {
      "text/plain": [
       "False"
      ]
     },
     "execution_count": 47,
     "metadata": {},
     "output_type": "execute_result"
    }
   ],
   "source": [
    "# multiply composition by 2\n",
    "def double_composition(composition):\n",
    "    return {key: value * 2 for key, value in composition.items()}\n",
    "smac_validity_from_counter({key: value * 2 for key, value in data['train'].composition.iloc[0].items()})"
   ]
  },
  {
   "cell_type": "code",
   "execution_count": 48,
   "metadata": {},
   "outputs": [],
   "source": [
    "from math import gcd"
   ]
  },
  {
   "cell_type": "code",
   "execution_count": 49,
   "metadata": {},
   "outputs": [],
   "source": [
    "def gcd_composition(composition):\n",
    "    this_gcd = gcd(*composition.values())\n",
    "    return {key: value // this_gcd for key, value in composition.items()}"
   ]
  },
  {
   "cell_type": "code",
   "execution_count": 50,
   "metadata": {},
   "outputs": [
    {
     "data": {
      "text/plain": [
       "0.9052181603773585"
      ]
     },
     "execution_count": 50,
     "metadata": {},
     "output_type": "execute_result"
    }
   ],
   "source": [
    "data['train'].composition.map(gcd_composition).map(smac_validity_from_counter).mean()"
   ]
  },
  {
   "cell_type": "code",
   "execution_count": 51,
   "metadata": {},
   "outputs": [
    {
     "data": {
      "text/plain": [
       "0.4359938094185275"
      ]
     },
     "execution_count": 51,
     "metadata": {},
     "output_type": "execute_result"
    }
   ],
   "source": [
    "data['test'].composition.map(smac_validity_from_counter).mean()"
   ]
  },
  {
   "cell_type": "code",
   "execution_count": 52,
   "metadata": {},
   "outputs": [
    {
     "data": {
      "text/plain": [
       "0.43671935448214877"
      ]
     },
     "execution_count": 52,
     "metadata": {},
     "output_type": "execute_result"
    }
   ],
   "source": [
    "data['val'].composition.map(smac_validity_from_counter).mean()"
   ]
  },
  {
   "cell_type": "code",
   "execution_count": 53,
   "metadata": {},
   "outputs": [],
   "source": [
    "from wyckoff_transformer.tokenization import load_tensors_and_tokenisers, tensor_to_pyxtal, pyxtal_cascade_order, get_letter_from_ss_enum_idx, get_wp_index"
   ]
  },
  {
   "cell_type": "code",
   "execution_count": 54,
   "metadata": {},
   "outputs": [],
   "source": [
    "tensors, tokenisers, engineers = load_tensors_and_tokenisers(\"mp_20_biternary\", \"mp_20_CSP\")"
   ]
  },
  {
   "cell_type": "code",
   "execution_count": 55,
   "metadata": {},
   "outputs": [],
   "source": [
    "import torch"
   ]
  },
  {
   "cell_type": "code",
   "execution_count": 56,
   "metadata": {},
   "outputs": [],
   "source": [
    "letter_from_ss_enum_idx = get_letter_from_ss_enum_idx(tokenisers['sites_enumeration'])"
   ]
  },
  {
   "cell_type": "code",
   "execution_count": 57,
   "metadata": {},
   "outputs": [],
   "source": [
    "generated_tensors = torch.stack([tensors[\"train\"][field] for field in pyxtal_cascade_order], dim=2)"
   ]
  },
  {
   "cell_type": "code",
   "execution_count": 58,
   "metadata": {},
   "outputs": [],
   "source": [
    "wp_index = get_wp_index()"
   ]
  },
  {
   "cell_type": "code",
   "execution_count": 59,
   "metadata": {},
   "outputs": [],
   "source": [
    "generated_wp = [tensor_to_pyxtal(\n",
    "    x, y, tokenisers,\n",
    "    pyxtal_cascade_order,\n",
    "    letter_from_ss_enum_idx,\n",
    "    wp_index) for x, y in zip(\n",
    "    tensors[\"train\"][\"spacegroup_number\"],\n",
    "    generated_tensors)]"
   ]
  },
  {
   "cell_type": "code",
   "execution_count": 60,
   "metadata": {},
   "outputs": [
    {
     "data": {
      "text/plain": [
       "21317"
      ]
     },
     "execution_count": 60,
     "metadata": {},
     "output_type": "execute_result"
    }
   ],
   "source": [
    "len(generated_wp)"
   ]
  },
  {
   "cell_type": "code",
   "execution_count": 14,
   "metadata": {},
   "outputs": [
    {
     "data": {
      "text/plain": [
       "21317"
      ]
     },
     "execution_count": 14,
     "metadata": {},
     "output_type": "execute_result"
    }
   ],
   "source": [
    "len(list(filter(lambda x: x is not None, generated_wp)))"
   ]
  },
  {
   "cell_type": "code",
   "execution_count": 15,
   "metadata": {},
   "outputs": [
    {
     "data": {
      "text/plain": [
       "torch.Size([21317, 21, 3])"
      ]
     },
     "execution_count": 15,
     "metadata": {},
     "output_type": "execute_result"
    }
   ],
   "source": [
    "generated_tensors.shape"
   ]
  },
  {
   "cell_type": "code",
   "execution_count": 16,
   "metadata": {},
   "outputs": [],
   "source": [
    "r = sum(map(smact_validity_from_record, generated_wp))"
   ]
  },
  {
   "cell_type": "code",
   "execution_count": 17,
   "metadata": {},
   "outputs": [
    {
     "data": {
      "text/plain": [
       "0.4897499648168129"
      ]
     },
     "execution_count": 17,
     "metadata": {},
     "output_type": "execute_result"
    }
   ],
   "source": [
    "r/len(generated_wp)"
   ]
  },
  {
   "cell_type": "code",
   "execution_count": 18,
   "metadata": {},
   "outputs": [
    {
     "data": {
      "text/plain": [
       "{'group': 139,\n",
       " 'sites': [['2a'], ['8j', '8i'], ['8f']],\n",
       " 'species': ['Nd', 'Al', 'Cu'],\n",
       " 'numIons': [2, 16, 8]}"
      ]
     },
     "execution_count": 18,
     "metadata": {},
     "output_type": "execute_result"
    }
   ],
   "source": [
    "generated_wp[0]"
   ]
  },
  {
   "cell_type": "code",
   "execution_count": 19,
   "metadata": {},
   "outputs": [],
   "source": [
    "from collections import Counter"
   ]
  },
  {
   "cell_type": "code",
   "execution_count": 20,
   "metadata": {},
   "outputs": [
    {
     "data": {
      "text/plain": [
       "Counter({Element Al: 16, Element Cu: 8, Element Nd: 2})"
      ]
     },
     "execution_count": 20,
     "metadata": {},
     "output_type": "execute_result"
    }
   ],
   "source": [
    "c = Counter()\n",
    "for e, m in zip(data['train'].iloc[0].elements, data['train'].iloc[0].multiplicity):\n",
    "    c[e] += m\n",
    "c"
   ]
  },
  {
   "cell_type": "code",
   "execution_count": 21,
   "metadata": {},
   "outputs": [
    {
     "data": {
      "text/plain": [
       "Counter({(Element Al, 8): 2, (Element Nd, 2): 1, (Element Cu, 8): 1})"
      ]
     },
     "execution_count": 21,
     "metadata": {},
     "output_type": "execute_result"
    }
   ],
   "source": [
    "Counter(zip(data['train'].iloc[0].elements, data['train'].iloc[0].multiplicity))"
   ]
  },
  {
   "cell_type": "code",
   "execution_count": 22,
   "metadata": {},
   "outputs": [
    {
     "data": {
      "text/plain": [
       "Counter({Element Al: 16, Element Cu: 8, Element Nd: 2})"
      ]
     },
     "execution_count": 22,
     "metadata": {},
     "output_type": "execute_result"
    }
   ],
   "source": [
    "c"
   ]
  },
  {
   "cell_type": "code",
   "execution_count": 23,
   "metadata": {},
   "outputs": [
    {
     "data": {
      "text/plain": [
       "site_symmetries                  [4/mmm, m2m., m2m., ..2/m]\n",
       "elements                                   [Nd, Al, Al, Cu]\n",
       "multiplicity                                   [2, 8, 8, 8]\n",
       "wyckoff_letters                                [a, j, i, f]\n",
       "sites_enumeration                              [0, 1, 0, 0]\n",
       "dof                                            [0, 1, 1, 0]\n",
       "spacegroup_number                                       139\n",
       "sites_enumeration_augmented    [[1, 0, 1, 0], [0, 1, 0, 0]]\n",
       "composition                          {Nd: 2, Al: 16, Cu: 8}\n",
       "Name: 19480, dtype: object"
      ]
     },
     "execution_count": 23,
     "metadata": {},
     "output_type": "execute_result"
    }
   ],
   "source": [
    "data['train'].iloc[0]"
   ]
  }
 ],
 "metadata": {
  "kernelspec": {
   "display_name": "wyckofftransformer-psWxdoGj-py3.10",
   "language": "python",
   "name": "python3"
  },
  "language_info": {
   "codemirror_mode": {
    "name": "ipython",
    "version": 3
   },
   "file_extension": ".py",
   "mimetype": "text/x-python",
   "name": "python",
   "nbconvert_exporter": "python",
   "pygments_lexer": "ipython3",
   "version": "3.10.12"
  }
 },
 "nbformat": 4,
 "nbformat_minor": 2
}
