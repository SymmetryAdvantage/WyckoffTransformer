{
 "cells": [
  {
   "cell_type": "code",
   "execution_count": 1,
   "metadata": {},
   "outputs": [],
   "source": [
    "import pickle\n",
    "with open(\"cache/mp_20/generated/DiffCSP++/two_step_CHGNet.pkl\", \"rb\") as f:\n",
    "    data = pickle.load(f)"
   ]
  },
  {
   "cell_type": "code",
   "execution_count": 2,
   "metadata": {},
   "outputs": [
    {
     "name": "stdout",
     "output_type": "stream",
     "text": [
      "Suppressed CIF rounding warnings.\n"
     ]
    },
    {
     "name": "stderr",
     "output_type": "stream",
     "text": [
      "/home/kna/.cache/pypoetry/virtualenvs/wyckofftransformer-FeCwefly-py3.12/lib64/python3.12/site-packages/pymatgen/core/periodic_table.py:289: UserWarning: No Pauling electronegativity for Ar. Setting to NaN. This has no physical meaning, and is mainly done to avoid errors caused by the code expecting a float.\n",
      "  warnings.warn(\n",
      "/home/kna/.cache/pypoetry/virtualenvs/wyckofftransformer-FeCwefly-py3.12/lib64/python3.12/site-packages/pymatgen/core/periodic_table.py:289: UserWarning: No Pauling electronegativity for He. Setting to NaN. This has no physical meaning, and is mainly done to avoid errors caused by the code expecting a float.\n",
      "  warnings.warn(\n"
     ]
    }
   ],
   "source": [
    "from evaluation.generated_dataset import GeneratedDataset, StructureStorage, WyckoffStorage\n",
    "mp_20_test = GeneratedDataset()\n",
    "mp_20_test.load_structures(\"cdvae/data/mp_20/test.csv\", storage_type=StructureStorage.CDVAE_csv_cif)\n",
    "mp_20_test.load_wyckoffs(\"cache/mp_20/data.pkl.gz\", storage_type=WyckoffStorage.WTCache, cache_key=\"test\")"
   ]
  },
  {
   "cell_type": "code",
   "execution_count": 3,
   "metadata": {},
   "outputs": [
    {
     "data": {
      "text/html": [
       "<div>\n",
       "<style scoped>\n",
       "    .dataframe tbody tr th:only-of-type {\n",
       "        vertical-align: middle;\n",
       "    }\n",
       "\n",
       "    .dataframe tbody tr th {\n",
       "        vertical-align: top;\n",
       "    }\n",
       "\n",
       "    .dataframe thead th {\n",
       "        text-align: right;\n",
       "    }\n",
       "</style>\n",
       "<table border=\"1\" class=\"dataframe\">\n",
       "  <thead>\n",
       "    <tr style=\"text-align: right;\">\n",
       "      <th></th>\n",
       "      <th>material_id</th>\n",
       "      <th>formation_energy_per_atom</th>\n",
       "      <th>band_gap</th>\n",
       "      <th>pretty_formula</th>\n",
       "      <th>e_above_hull</th>\n",
       "      <th>elements</th>\n",
       "      <th>spacegroup.number</th>\n",
       "      <th>structure</th>\n",
       "      <th>site_symmetries</th>\n",
       "      <th>multiplicity</th>\n",
       "      <th>wyckoff_letters</th>\n",
       "      <th>sites_enumeration</th>\n",
       "      <th>dof</th>\n",
       "      <th>spacegroup_number</th>\n",
       "      <th>sites_enumeration_augmented</th>\n",
       "      <th>composition</th>\n",
       "    </tr>\n",
       "  </thead>\n",
       "  <tbody>\n",
       "    <tr>\n",
       "      <th>0</th>\n",
       "      <td>mp-1002107</td>\n",
       "      <td>-0.737439</td>\n",
       "      <td>0.0000</td>\n",
       "      <td>LaRh</td>\n",
       "      <td>0.0</td>\n",
       "      <td>[La, Rh]</td>\n",
       "      <td>63</td>\n",
       "      <td>[[4.51001111 0.52085874 3.2051745 ] La, [-3.19...</td>\n",
       "      <td>[m2m, m2m]</td>\n",
       "      <td>[4, 4]</td>\n",
       "      <td>[c, c]</td>\n",
       "      <td>[0, 0]</td>\n",
       "      <td>[1, 1]</td>\n",
       "      <td>63</td>\n",
       "      <td>[[0, 0], [0, 0]]</td>\n",
       "      <td>{La: 4, Rh: 4}</td>\n",
       "    </tr>\n",
       "    <tr>\n",
       "      <th>4</th>\n",
       "      <td>mp-10366</td>\n",
       "      <td>-0.441130</td>\n",
       "      <td>0.0000</td>\n",
       "      <td>Nb2Co3Si</td>\n",
       "      <td>0.0</td>\n",
       "      <td>[Nb, Co, Si]</td>\n",
       "      <td>194</td>\n",
       "      <td>[[2.43402085 1.40528259 7.09807012] Nb, [5.999...</td>\n",
       "      <td>[3m., m2., -32/m.]</td>\n",
       "      <td>[4, 6, 2]</td>\n",
       "      <td>[f, h, a]</td>\n",
       "      <td>[1, 0, 0]</td>\n",
       "      <td>[1, 1, 0]</td>\n",
       "      <td>194</td>\n",
       "      <td>[[1, 0, 0], [1, 0, 0]]</td>\n",
       "      <td>{Nb: 4, Co: 6, Si: 2}</td>\n",
       "    </tr>\n",
       "    <tr>\n",
       "      <th>13</th>\n",
       "      <td>mp-1104449</td>\n",
       "      <td>-1.182229</td>\n",
       "      <td>0.0000</td>\n",
       "      <td>Pr(Mo3S4)2</td>\n",
       "      <td>0.0</td>\n",
       "      <td>[Pr, Mo, S, S]</td>\n",
       "      <td>148</td>\n",
       "      <td>[[0. 0. 0.] Pr, [5.14593462 3.80865196 3.04083...</td>\n",
       "      <td>[-3., 1, 3., 1]</td>\n",
       "      <td>[3, 18, 6, 18]</td>\n",
       "      <td>[a, f, c, f]</td>\n",
       "      <td>[0, 0, 0, 0]</td>\n",
       "      <td>[0, 3, 1, 3]</td>\n",
       "      <td>148</td>\n",
       "      <td>[[0, 0, 0, 0], [1, 0, 0, 0]]</td>\n",
       "      <td>{Pr: 3, Mo: 18, S: 24}</td>\n",
       "    </tr>\n",
       "    <tr>\n",
       "      <th>17</th>\n",
       "      <td>mp-1111916</td>\n",
       "      <td>-3.313850</td>\n",
       "      <td>0.0000</td>\n",
       "      <td>K2NaTiF6</td>\n",
       "      <td>0.0</td>\n",
       "      <td>[K, Na, Ti, F]</td>\n",
       "      <td>225</td>\n",
       "      <td>[[1.73736837 1.22850495 3.00921029] K, [5.2121...</td>\n",
       "      <td>[-43m, m-3m, m-3m, 4m.m]</td>\n",
       "      <td>[8, 4, 4, 24]</td>\n",
       "      <td>[c, b, a, e]</td>\n",
       "      <td>[0, 1, 0, 0]</td>\n",
       "      <td>[0, 0, 0, 1]</td>\n",
       "      <td>225</td>\n",
       "      <td>[[0, 1, 0, 0], [0, 0, 1, 0]]</td>\n",
       "      <td>{K: 8, Na: 4, Ti: 4, F: 24}</td>\n",
       "    </tr>\n",
       "    <tr>\n",
       "      <th>22</th>\n",
       "      <td>mp-1205629</td>\n",
       "      <td>-2.901698</td>\n",
       "      <td>4.0291</td>\n",
       "      <td>Cs3FeF6</td>\n",
       "      <td>0.0</td>\n",
       "      <td>[Cs, Cs, Fe, F]</td>\n",
       "      <td>225</td>\n",
       "      <td>[[1.9615077 1.3869954 3.397431 ] Cs, [ 5.88452...</td>\n",
       "      <td>[-43m, m-3m, m-3m, 4m.m]</td>\n",
       "      <td>[8, 4, 4, 24]</td>\n",
       "      <td>[c, b, a, e]</td>\n",
       "      <td>[0, 1, 0, 0]</td>\n",
       "      <td>[0, 0, 0, 1]</td>\n",
       "      <td>225</td>\n",
       "      <td>[[0, 1, 0, 0], [0, 0, 1, 0]]</td>\n",
       "      <td>{Cs: 12, Fe: 4, F: 24}</td>\n",
       "    </tr>\n",
       "  </tbody>\n",
       "</table>\n",
       "</div>"
      ],
      "text/plain": [
       "   material_id  formation_energy_per_atom  band_gap pretty_formula  \\\n",
       "0   mp-1002107                  -0.737439    0.0000           LaRh   \n",
       "4     mp-10366                  -0.441130    0.0000       Nb2Co3Si   \n",
       "13  mp-1104449                  -1.182229    0.0000     Pr(Mo3S4)2   \n",
       "17  mp-1111916                  -3.313850    0.0000       K2NaTiF6   \n",
       "22  mp-1205629                  -2.901698    4.0291        Cs3FeF6   \n",
       "\n",
       "    e_above_hull         elements  spacegroup.number  \\\n",
       "0            0.0         [La, Rh]                 63   \n",
       "4            0.0     [Nb, Co, Si]                194   \n",
       "13           0.0   [Pr, Mo, S, S]                148   \n",
       "17           0.0   [K, Na, Ti, F]                225   \n",
       "22           0.0  [Cs, Cs, Fe, F]                225   \n",
       "\n",
       "                                            structure  \\\n",
       "0   [[4.51001111 0.52085874 3.2051745 ] La, [-3.19...   \n",
       "4   [[2.43402085 1.40528259 7.09807012] Nb, [5.999...   \n",
       "13  [[0. 0. 0.] Pr, [5.14593462 3.80865196 3.04083...   \n",
       "17  [[1.73736837 1.22850495 3.00921029] K, [5.2121...   \n",
       "22  [[1.9615077 1.3869954 3.397431 ] Cs, [ 5.88452...   \n",
       "\n",
       "             site_symmetries    multiplicity wyckoff_letters  \\\n",
       "0                 [m2m, m2m]          [4, 4]          [c, c]   \n",
       "4         [3m., m2., -32/m.]       [4, 6, 2]       [f, h, a]   \n",
       "13           [-3., 1, 3., 1]  [3, 18, 6, 18]    [a, f, c, f]   \n",
       "17  [-43m, m-3m, m-3m, 4m.m]   [8, 4, 4, 24]    [c, b, a, e]   \n",
       "22  [-43m, m-3m, m-3m, 4m.m]   [8, 4, 4, 24]    [c, b, a, e]   \n",
       "\n",
       "   sites_enumeration           dof  spacegroup_number  \\\n",
       "0             [0, 0]        [1, 1]                 63   \n",
       "4          [1, 0, 0]     [1, 1, 0]                194   \n",
       "13      [0, 0, 0, 0]  [0, 3, 1, 3]                148   \n",
       "17      [0, 1, 0, 0]  [0, 0, 0, 1]                225   \n",
       "22      [0, 1, 0, 0]  [0, 0, 0, 1]                225   \n",
       "\n",
       "     sites_enumeration_augmented                  composition  \n",
       "0               [[0, 0], [0, 0]]               {La: 4, Rh: 4}  \n",
       "4         [[1, 0, 0], [1, 0, 0]]        {Nb: 4, Co: 6, Si: 2}  \n",
       "13  [[0, 0, 0, 0], [1, 0, 0, 0]]       {Pr: 3, Mo: 18, S: 24}  \n",
       "17  [[0, 1, 0, 0], [0, 0, 1, 0]]  {K: 8, Na: 4, Ti: 4, F: 24}  \n",
       "22  [[0, 1, 0, 0], [0, 0, 1, 0]]       {Cs: 12, Fe: 4, F: 24}  "
      ]
     },
     "execution_count": 3,
     "metadata": {},
     "output_type": "execute_result"
    }
   ],
   "source": [
    "mp_20_test.data.head()"
   ]
  },
  {
   "cell_type": "code",
   "execution_count": 4,
   "metadata": {},
   "outputs": [
    {
     "data": {
      "text/plain": [
       "Structure Summary\n",
       "Lattice\n",
       "    abc : 5.99689801 5.99689801 4.273566\n",
       " angles : 90.0 90.0 141.38912965\n",
       " volume : 95.90642867853295\n",
       "      A : 5.99689801 0.0 3.672040976379816e-16\n",
       "      B : -4.685988661300352 3.74223142102496 3.672040976379816e-16\n",
       "      C : 0.0 0.0 4.273566\n",
       "    pbc : True True True\n",
       "PeriodicSite: La0 (La) (4.51, 0.5209, 3.205) [0.8608, 0.1392, 0.75]\n",
       "PeriodicSite: La1 (La) (-3.199, 3.221, 1.068) [0.1392, 0.8608, 0.25]\n",
       "PeriodicSite: Rh2 (Rh) (1.598, 1.541, 3.205) [0.5882, 0.4118, 0.75]\n",
       "PeriodicSite: Rh3 (Rh) (-0.2869, 2.201, 1.068) [0.4118, 0.5882, 0.25]"
      ]
     },
     "execution_count": 4,
     "metadata": {},
     "output_type": "execute_result"
    }
   ],
   "source": [
    "mp_20_test.data.structure.iloc[0]"
   ]
  },
  {
   "cell_type": "code",
   "execution_count": 5,
   "metadata": {},
   "outputs": [],
   "source": [
    "from evaluation.cdvae.refined_metrics import Crystal"
   ]
  },
  {
   "cell_type": "code",
   "execution_count": 6,
   "metadata": {},
   "outputs": [
    {
     "name": "stderr",
     "output_type": "stream",
     "text": [
      "/home/kna/.cache/pypoetry/virtualenvs/wyckofftransformer-FeCwefly-py3.12/lib64/python3.12/site-packages/pymatgen/analysis/local_env.py:4158: UserWarning: No oxidation states specified on sites! For better results, set the site oxidation states in the structure.\n",
      "  warnings.warn(\n",
      "/home/kna/.cache/pypoetry/virtualenvs/wyckofftransformer-FeCwefly-py3.12/lib64/python3.12/site-packages/pymatgen/analysis/local_env.py:3951: UserWarning: CrystalNN: cannot locate an appropriate radius, covalent or atomic radii will be used, this can lead to non-optimal results.\n",
      "  warnings.warn(\n"
     ]
    },
    {
     "data": {
      "text/plain": [
       "<evaluation.cdvae.refined_metrics.Crystal at 0x7f9ec5d50740>"
      ]
     },
     "execution_count": 6,
     "metadata": {},
     "output_type": "execute_result"
    }
   ],
   "source": [
    "s = mp_20_test.data.structure.iloc[0]\n",
    "Crystal.from_pymatgen(s)"
   ]
  },
  {
   "cell_type": "code",
   "execution_count": 7,
   "metadata": {},
   "outputs": [
    {
     "name": "stderr",
     "output_type": "stream",
     "text": [
      "/home/kna/.cache/pypoetry/virtualenvs/wyckofftransformer-FeCwefly-py3.12/lib64/python3.12/site-packages/pymatgen/analysis/local_env.py:4158: UserWarning: No oxidation states specified on sites! For better results, set the site oxidation states in the structure.\n",
      "  warnings.warn(\n",
      "/home/kna/.cache/pypoetry/virtualenvs/wyckofftransformer-FeCwefly-py3.12/lib64/python3.12/site-packages/pymatgen/analysis/local_env.py:3951: UserWarning: CrystalNN: cannot locate an appropriate radius, covalent or atomic radii will be used, this can lead to non-optimal results.\n",
      "  warnings.warn(\n"
     ]
    }
   ],
   "source": [
    "mp_20_test.compute_cdvae_crystals(n_jobs=4)"
   ]
  },
  {
   "cell_type": "code",
   "execution_count": 7,
   "metadata": {},
   "outputs": [
    {
     "data": {
      "text/plain": [
       "[Element La, Element La, Element Rh, Element Rh]"
      ]
     },
     "execution_count": 7,
     "metadata": {},
     "output_type": "execute_result"
    }
   ],
   "source": [
    "s.species"
   ]
  },
  {
   "cell_type": "code",
   "execution_count": 8,
   "metadata": {},
   "outputs": [
    {
     "data": {
      "text/plain": [
       "Composition('La2 Rh2')"
      ]
     },
     "execution_count": 8,
     "metadata": {},
     "output_type": "execute_result"
    }
   ],
   "source": [
    "s.composition"
   ]
  },
  {
   "cell_type": "code",
   "execution_count": 9,
   "metadata": {},
   "outputs": [],
   "source": [
    "e=s.species[0]"
   ]
  },
  {
   "cell_type": "code",
   "execution_count": 10,
   "metadata": {},
   "outputs": [
    {
     "data": {
      "text/plain": [
       "57"
      ]
     },
     "execution_count": 10,
     "metadata": {},
     "output_type": "execute_result"
    }
   ],
   "source": [
    "e.number"
   ]
  },
  {
   "cell_type": "code",
   "execution_count": 11,
   "metadata": {},
   "outputs": [
    {
     "data": {
      "text/plain": [
       "pymatgen.core.structure.Structure"
      ]
     },
     "execution_count": 11,
     "metadata": {},
     "output_type": "execute_result"
    }
   ],
   "source": [
    "type(s)"
   ]
  },
  {
   "cell_type": "markdown",
   "metadata": {},
   "source": []
  },
  {
   "cell_type": "code",
   "execution_count": 12,
   "metadata": {},
   "outputs": [
    {
     "ename": "NameError",
     "evalue": "name 'timed_smact_validity_from_record' is not defined",
     "output_type": "error",
     "traceback": [
      "\u001b[0;31m---------------------------------------------------------------------------\u001b[0m",
      "\u001b[0;31mNameError\u001b[0m                                 Traceback (most recent call last)",
      "Cell \u001b[0;32mIn[12], line 1\u001b[0m\n\u001b[0;32m----> 1\u001b[0m data\u001b[38;5;241m.\u001b[39mapply(\u001b[43mtimed_smact_validity_from_record\u001b[49m, axis\u001b[38;5;241m=\u001b[39m\u001b[38;5;241m1\u001b[39m)\u001b[38;5;241m.\u001b[39mmean()\n",
      "\u001b[0;31mNameError\u001b[0m: name 'timed_smact_validity_from_record' is not defined"
     ]
    }
   ],
   "source": [
    "data.apply(timed_smact_validity_from_record, axis=1).mean()"
   ]
  },
  {
   "cell_type": "code",
   "execution_count": 4,
   "metadata": {},
   "outputs": [
    {
     "data": {
      "text/plain": [
       "1.0"
      ]
     },
     "execution_count": 4,
     "metadata": {},
     "output_type": "execute_result"
    }
   ],
   "source": [
    "data.structure.apply(structure_validity).mean()"
   ]
  },
  {
   "cell_type": "code",
   "execution_count": null,
   "metadata": {},
   "outputs": [],
   "source": [
    "compute_cov"
   ]
  }
 ],
 "metadata": {
  "kernelspec": {
   "display_name": "wyckofftransformer-FeCwefly-py3.12",
   "language": "python",
   "name": "python3"
  },
  "language_info": {
   "codemirror_mode": {
    "name": "ipython",
    "version": 3
   },
   "file_extension": ".py",
   "mimetype": "text/x-python",
   "name": "python",
   "nbconvert_exporter": "python",
   "pygments_lexer": "ipython3",
   "version": "3.12.6"
  }
 },
 "nbformat": 4,
 "nbformat_minor": 2
}
