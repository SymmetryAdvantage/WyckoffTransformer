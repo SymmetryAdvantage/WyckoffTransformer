{
 "cells": [
  {
   "cell_type": "code",
   "execution_count": 1,
   "metadata": {},
   "outputs": [],
   "source": [
    "from mp_20_utils import load_all_data\n",
    "datasets_pd, tensors, site_to_ids, element_to_ids, spacegroup_to_ids, max_len = load_all_data()"
   ]
  },
  {
   "cell_type": "code",
   "execution_count": 2,
   "metadata": {},
   "outputs": [],
   "source": [
    "from pyxtal import pyxtal"
   ]
  },
  {
   "cell_type": "code",
   "execution_count": 3,
   "metadata": {},
   "outputs": [],
   "source": [
    "example_pymatgen = datasets_pd['train'].iloc[0].structure"
   ]
  },
  {
   "cell_type": "code",
   "execution_count": 4,
   "metadata": {},
   "outputs": [],
   "source": [
    "pyxtal_struc = pyxtal()\n",
    "pyxtal_struc.from_seed(example_pymatgen)"
   ]
  },
  {
   "cell_type": "code",
   "execution_count": 5,
   "metadata": {},
   "outputs": [],
   "source": [
    "w = pyxtal_struc.atom_sites[0].wp"
   ]
  },
  {
   "cell_type": "code",
   "execution_count": 6,
   "metadata": {},
   "outputs": [],
   "source": [
    "w.get_site_symmetry()\n"
   ]
  },
  {
   "cell_type": "code",
   "execution_count": 7,
   "metadata": {},
   "outputs": [
    {
     "name": "stdout",
     "output_type": "stream",
     "text": [
      "['P', 'P1', 'PBC', '__class__', '__delattr__', '__dict__', '__dir__', '__doc__', '__eq__', '__format__', '__ge__', '__getattribute__', '__getitem__', '__gt__', '__hash__', '__init__', '__init_subclass__', '__iter__', '__le__', '__len__', '__lt__', '__module__', '__ne__', '__new__', '__reduce__', '__reduce_ex__', '__repr__', '__setattr__', '__sizeof__', '__str__', '__subclasshook__', '__weakref__', 'apply_ops', 'are_equivalent_pts', 'copy', 'dim', 'distance_check', 'equivalent_set', 'euclidean', 'from_dict', 'from_group_and_index', 'from_group_and_letter', 'from_index_quick', 'from_symops', 'from_symops_wo_group', 'gen_pos', 'get_all_positions', 'get_dof', 'get_euclidean_generator', 'get_euclidean_symmetries', 'get_free_xyzs', 'get_frozen_axis', 'get_hm_number', 'get_hm_symbol', 'get_label', 'get_ops_from_transformation', 'get_position_from_free_xyzs', 'get_site_symm_wo_translation', 'get_site_symmetry', 'hall_number', 'has_equivalent_ops', 'index', 'is_pure_translation', 'is_standard_setting', 'letter', 'load_dict', 'merge', 'multiplicity', 'number', 'ops', 'print_ops', 'process_ops', 'project', 'save_dict', 'search_all_generators', 'search_generator', 'search_generator_dist', 'set_euclidean', 'set_generators', 'set_ops', 'short_distances', 'site_symm', 'swap_axis', 'symbol', 'symmetry', 'transform_from_matrices', 'transform_from_matrix', 'update', 'update_hall', 'update_index']\n"
     ]
    }
   ],
   "source": [
    "print(dir(w))"
   ]
  },
  {
   "cell_type": "code",
   "execution_count": 8,
   "metadata": {},
   "outputs": [
    {
     "data": {
      "text/plain": [
       "'.m.'"
      ]
     },
     "execution_count": 8,
     "metadata": {},
     "output_type": "execute_result"
    }
   ],
   "source": [
    "w.get_site_symmetry(); w.site_symm"
   ]
  },
  {
   "cell_type": "code",
   "execution_count": 9,
   "metadata": {},
   "outputs": [
    {
     "data": {
      "text/plain": [
       "0.93"
      ]
     },
     "execution_count": 9,
     "metadata": {},
     "output_type": "execute_result"
    }
   ],
   "source": [
    "from pymatgen.core import Element\n",
    "\n",
    "Element(pyxtal_struc.atom_sites[0].specie).X"
   ]
  },
  {
   "cell_type": "code",
   "execution_count": 10,
   "metadata": {},
   "outputs": [],
   "source": [
    "from data import structure_to_sites"
   ]
  },
  {
   "cell_type": "code",
   "execution_count": 11,
   "metadata": {},
   "outputs": [
    {
     "data": {
      "text/plain": [
       "{'symmetry_sites': ['.m.',\n",
       "  '.m.',\n",
       "  '.m.',\n",
       "  '.m.',\n",
       "  '.m.',\n",
       "  '.m.',\n",
       "  '.m.',\n",
       "  '.m.',\n",
       "  '.m.',\n",
       "  '.m.',\n",
       "  '.m.',\n",
       "  '.m.'],\n",
       " 'symmetry_elements': [Element Na,\n",
       "  Element Na,\n",
       "  Element Na,\n",
       "  Element Mn,\n",
       "  Element Co,\n",
       "  Element Ni,\n",
       "  Element O,\n",
       "  Element O,\n",
       "  Element O,\n",
       "  Element O,\n",
       "  Element O,\n",
       "  Element O],\n",
       " 'spacegroup_number': 8}"
      ]
     },
     "execution_count": 11,
     "metadata": {},
     "output_type": "execute_result"
    }
   ],
   "source": [
    "structure_to_sites(example_pymatgen)"
   ]
  },
  {
   "cell_type": "code",
   "execution_count": 12,
   "metadata": {},
   "outputs": [
    {
     "data": {
      "text/plain": [
       "148"
      ]
     },
     "execution_count": 12,
     "metadata": {},
     "output_type": "execute_result"
    }
   ],
   "source": [
    "(datasets_pd['train']['spacegroup.number'] != datasets_pd['train']['spacegroup_number']).sum()"
   ]
  },
  {
   "cell_type": "code",
   "execution_count": 13,
   "metadata": {},
   "outputs": [
    {
     "data": {
      "text/html": [
       "<div>\n",
       "<style scoped>\n",
       "    .dataframe tbody tr th:only-of-type {\n",
       "        vertical-align: middle;\n",
       "    }\n",
       "\n",
       "    .dataframe tbody tr th {\n",
       "        vertical-align: top;\n",
       "    }\n",
       "\n",
       "    .dataframe thead th {\n",
       "        text-align: right;\n",
       "    }\n",
       "</style>\n",
       "<table border=\"1\" class=\"dataframe\">\n",
       "  <thead>\n",
       "    <tr style=\"text-align: right;\">\n",
       "      <th></th>\n",
       "      <th>material_id</th>\n",
       "      <th>formation_energy_per_atom</th>\n",
       "      <th>band_gap</th>\n",
       "      <th>pretty_formula</th>\n",
       "      <th>e_above_hull</th>\n",
       "      <th>elements</th>\n",
       "      <th>spacegroup.number</th>\n",
       "      <th>structure</th>\n",
       "      <th>symmetry_sites</th>\n",
       "      <th>symmetry_elements</th>\n",
       "      <th>spacegroup_number</th>\n",
       "      <th>symmetry_sites_padded</th>\n",
       "      <th>symmetry_elements_padded</th>\n",
       "      <th>padding_mask</th>\n",
       "    </tr>\n",
       "  </thead>\n",
       "  <tbody>\n",
       "    <tr>\n",
       "      <th>10094</th>\n",
       "      <td>mp-1179515</td>\n",
       "      <td>-0.470876</td>\n",
       "      <td>0.0000</td>\n",
       "      <td>Sc3RuC4</td>\n",
       "      <td>0.000000</td>\n",
       "      <td>['C', 'Ru', 'Sc']</td>\n",
       "      <td>12</td>\n",
       "      <td>[[ 0.49677851  3.33493191 -1.66580943] C, [ 0....</td>\n",
       "      <td>[2/m2/m2/m, mm2, 2/m2/m2/m, m..]</td>\n",
       "      <td>[Sc, Sc, Ru, C]</td>\n",
       "      <td>71</td>\n",
       "      <td>[2/m2/m2/m, mm2, 2/m2/m2/m, m.., STOP, PAD, PA...</td>\n",
       "      <td>[Sc, Sc, Ru, C, STOP, X0+, X0+, X0+, X0+, X0+,...</td>\n",
       "      <td>[False, False, False, False, False, True, True...</td>\n",
       "    </tr>\n",
       "    <tr>\n",
       "      <th>41953</th>\n",
       "      <td>mp-774146</td>\n",
       "      <td>-1.538815</td>\n",
       "      <td>0.9203</td>\n",
       "      <td>W(BrO)2</td>\n",
       "      <td>0.062601</td>\n",
       "      <td>['W', 'Br', 'O']</td>\n",
       "      <td>26</td>\n",
       "      <td>[[ 1.92587158e-17 -3.14518697e-01 -2.49358811e...</td>\n",
       "      <td>[mm2, m.., mm2, mm2]</td>\n",
       "      <td>[W, Br, O, O]</td>\n",
       "      <td>25</td>\n",
       "      <td>[mm2, m.., mm2, mm2, STOP, PAD, PAD, PAD, PAD,...</td>\n",
       "      <td>[W, Br, O, O, STOP, X0+, X0+, X0+, X0+, X0+, X...</td>\n",
       "      <td>[False, False, False, False, False, True, True...</td>\n",
       "    </tr>\n",
       "    <tr>\n",
       "      <th>20891</th>\n",
       "      <td>mp-570880</td>\n",
       "      <td>-1.004563</td>\n",
       "      <td>0.0000</td>\n",
       "      <td>RuCl3</td>\n",
       "      <td>0.000566</td>\n",
       "      <td>['Cl', 'Ru']</td>\n",
       "      <td>59</td>\n",
       "      <td>[[-2.83777950e+00 -6.33886114e+00  9.01327408e...</td>\n",
       "      <td>[-3 2/m ., m m2 .]</td>\n",
       "      <td>[Ru, Cl]</td>\n",
       "      <td>193</td>\n",
       "      <td>[-3 2/m ., m m2 ., STOP, PAD, PAD, PAD, PAD, P...</td>\n",
       "      <td>[Ru, Cl, STOP, X0+, X0+, X0+, X0+, X0+, X0+, X...</td>\n",
       "      <td>[False, False, False, True, True, True, True, ...</td>\n",
       "    </tr>\n",
       "    <tr>\n",
       "      <th>9551</th>\n",
       "      <td>mp-1102079</td>\n",
       "      <td>-1.688459</td>\n",
       "      <td>0.0403</td>\n",
       "      <td>TmAsS</td>\n",
       "      <td>0.000000</td>\n",
       "      <td>['As', 'S', 'Tm']</td>\n",
       "      <td>62</td>\n",
       "      <td>[[2.84238375 0.95022025 0.02400048] As, [0.947...</td>\n",
       "      <td>[4 m mm, -4 mm 22, 4 m mm]</td>\n",
       "      <td>[Tm, As, S]</td>\n",
       "      <td>129</td>\n",
       "      <td>[4 m mm, -4 mm 22, 4 m mm, STOP, PAD, PAD, PAD...</td>\n",
       "      <td>[Tm, As, S, STOP, X0+, X0+, X0+, X0+, X0+, X0+...</td>\n",
       "      <td>[False, False, False, False, True, True, True,...</td>\n",
       "    </tr>\n",
       "    <tr>\n",
       "      <th>23286</th>\n",
       "      <td>mp-1280748</td>\n",
       "      <td>-2.446236</td>\n",
       "      <td>1.6712</td>\n",
       "      <td>Y(FeO2)2</td>\n",
       "      <td>0.004921</td>\n",
       "      <td>['Fe', 'O', 'Y']</td>\n",
       "      <td>12</td>\n",
       "      <td>[[ 5.26278434 -5.44438755  2.94943405] Fe, [ 1...</td>\n",
       "      <td>[-3 2/m ., 3 m ., 3 m ., 3 m .]</td>\n",
       "      <td>[Y, Fe, O, O]</td>\n",
       "      <td>166</td>\n",
       "      <td>[-3 2/m ., 3 m ., 3 m ., 3 m ., STOP, PAD, PAD...</td>\n",
       "      <td>[Y, Fe, O, O, STOP, X0+, X0+, X0+, X0+, X0+, X...</td>\n",
       "      <td>[False, False, False, False, False, True, True...</td>\n",
       "    </tr>\n",
       "    <tr>\n",
       "      <th>...</th>\n",
       "      <td>...</td>\n",
       "      <td>...</td>\n",
       "      <td>...</td>\n",
       "      <td>...</td>\n",
       "      <td>...</td>\n",
       "      <td>...</td>\n",
       "      <td>...</td>\n",
       "      <td>...</td>\n",
       "      <td>...</td>\n",
       "      <td>...</td>\n",
       "      <td>...</td>\n",
       "      <td>...</td>\n",
       "      <td>...</td>\n",
       "      <td>...</td>\n",
       "    </tr>\n",
       "    <tr>\n",
       "      <th>39290</th>\n",
       "      <td>mp-1299257</td>\n",
       "      <td>-2.251736</td>\n",
       "      <td>0.0000</td>\n",
       "      <td>LiV3O4</td>\n",
       "      <td>0.051216</td>\n",
       "      <td>['Li', 'O', 'V']</td>\n",
       "      <td>71</td>\n",
       "      <td>[[ 3.5158001   2.50548937 -3.09125008] Li, [2....</td>\n",
       "      <td>[2/m2/m2/m, 2/m2/m2/m, ..2/m, 2mm, m2m]</td>\n",
       "      <td>[Li, V, V, O, O]</td>\n",
       "      <td>65</td>\n",
       "      <td>[2/m2/m2/m, 2/m2/m2/m, ..2/m, 2mm, m2m, STOP, ...</td>\n",
       "      <td>[Li, V, V, O, O, STOP, X0+, X0+, X0+, X0+, X0+...</td>\n",
       "      <td>[False, False, False, False, False, False, Tru...</td>\n",
       "    </tr>\n",
       "    <tr>\n",
       "      <th>41325</th>\n",
       "      <td>mp-21131</td>\n",
       "      <td>-0.504891</td>\n",
       "      <td>0.0000</td>\n",
       "      <td>CaMnSb2</td>\n",
       "      <td>0.058939</td>\n",
       "      <td>['Ca', 'Mn', 'Sb']</td>\n",
       "      <td>62</td>\n",
       "      <td>[[1.09422875 3.28742925 2.53081983] Ca, [3.282...</td>\n",
       "      <td>[4 m mm, -4 mm 22, -4 mm 22, 4 m mm]</td>\n",
       "      <td>[Ca, Mn, Sb, Sb]</td>\n",
       "      <td>129</td>\n",
       "      <td>[4 m mm, -4 mm 22, -4 mm 22, 4 m mm, STOP, PAD...</td>\n",
       "      <td>[Ca, Mn, Sb, Sb, STOP, X0+, X0+, X0+, X0+, X0+...</td>\n",
       "      <td>[False, False, False, False, False, True, True...</td>\n",
       "    </tr>\n",
       "    <tr>\n",
       "      <th>38776</th>\n",
       "      <td>mp-1282494</td>\n",
       "      <td>-2.533485</td>\n",
       "      <td>1.3443</td>\n",
       "      <td>SrCrO2</td>\n",
       "      <td>0.048639</td>\n",
       "      <td>['Cr', 'O', 'Sr']</td>\n",
       "      <td>65</td>\n",
       "      <td>[[ 0.31243582  3.22425174 -2.46211833] Cr, [2....</td>\n",
       "      <td>[4/m 2/m 2/m2/m, 4/m 2/m 2/m, 2/m 2/m2/m .]</td>\n",
       "      <td>[Sr, Cr, O]</td>\n",
       "      <td>123</td>\n",
       "      <td>[4/m 2/m 2/m2/m, 4/m 2/m 2/m, 2/m 2/m2/m ., ST...</td>\n",
       "      <td>[Sr, Cr, O, STOP, X0+, X0+, X0+, X0+, X0+, X0+...</td>\n",
       "      <td>[False, False, False, False, True, True, True,...</td>\n",
       "    </tr>\n",
       "    <tr>\n",
       "      <th>31089</th>\n",
       "      <td>mp-1176438</td>\n",
       "      <td>-2.744348</td>\n",
       "      <td>0.3206</td>\n",
       "      <td>MnF3</td>\n",
       "      <td>0.022258</td>\n",
       "      <td>['F', 'Mn']</td>\n",
       "      <td>11</td>\n",
       "      <td>[[ 1.95064950e+00 -2.63181438e-16  5.41886508e...</td>\n",
       "      <td>[4/m . ., 4/m . ., 4/m . ., 4/m . ., m . .]</td>\n",
       "      <td>[Mn, Mn, F, F, F]</td>\n",
       "      <td>83</td>\n",
       "      <td>[4/m . ., 4/m . ., 4/m . ., 4/m . ., m . ., ST...</td>\n",
       "      <td>[Mn, Mn, F, F, F, STOP, X0+, X0+, X0+, X0+, X0...</td>\n",
       "      <td>[False, False, False, False, False, False, Tru...</td>\n",
       "    </tr>\n",
       "    <tr>\n",
       "      <th>26119</th>\n",
       "      <td>mp-1189241</td>\n",
       "      <td>-0.756019</td>\n",
       "      <td>0.0000</td>\n",
       "      <td>GdAs2Au</td>\n",
       "      <td>0.010305</td>\n",
       "      <td>['As', 'Au', 'Gd']</td>\n",
       "      <td>64</td>\n",
       "      <td>[[-1.01899694  3.03490852 -3.17157209] As, [-3...</td>\n",
       "      <td>[4 m mm, 4 m mm, -4 mm 22, -4 mm 22]</td>\n",
       "      <td>[Gd, As, As, Au]</td>\n",
       "      <td>129</td>\n",
       "      <td>[4 m mm, 4 m mm, -4 mm 22, -4 mm 22, STOP, PAD...</td>\n",
       "      <td>[Gd, As, As, Au, STOP, X0+, X0+, X0+, X0+, X0+...</td>\n",
       "      <td>[False, False, False, False, False, True, True...</td>\n",
       "    </tr>\n",
       "  </tbody>\n",
       "</table>\n",
       "<p>148 rows × 14 columns</p>\n",
       "</div>"
      ],
      "text/plain": [
       "      material_id  formation_energy_per_atom  band_gap pretty_formula  \\\n",
       "10094  mp-1179515                  -0.470876    0.0000        Sc3RuC4   \n",
       "41953   mp-774146                  -1.538815    0.9203        W(BrO)2   \n",
       "20891   mp-570880                  -1.004563    0.0000          RuCl3   \n",
       "9551   mp-1102079                  -1.688459    0.0403          TmAsS   \n",
       "23286  mp-1280748                  -2.446236    1.6712       Y(FeO2)2   \n",
       "...           ...                        ...       ...            ...   \n",
       "39290  mp-1299257                  -2.251736    0.0000         LiV3O4   \n",
       "41325    mp-21131                  -0.504891    0.0000        CaMnSb2   \n",
       "38776  mp-1282494                  -2.533485    1.3443         SrCrO2   \n",
       "31089  mp-1176438                  -2.744348    0.3206           MnF3   \n",
       "26119  mp-1189241                  -0.756019    0.0000        GdAs2Au   \n",
       "\n",
       "       e_above_hull            elements  spacegroup.number  \\\n",
       "10094      0.000000   ['C', 'Ru', 'Sc']                 12   \n",
       "41953      0.062601    ['W', 'Br', 'O']                 26   \n",
       "20891      0.000566        ['Cl', 'Ru']                 59   \n",
       "9551       0.000000   ['As', 'S', 'Tm']                 62   \n",
       "23286      0.004921    ['Fe', 'O', 'Y']                 12   \n",
       "...             ...                 ...                ...   \n",
       "39290      0.051216    ['Li', 'O', 'V']                 71   \n",
       "41325      0.058939  ['Ca', 'Mn', 'Sb']                 62   \n",
       "38776      0.048639   ['Cr', 'O', 'Sr']                 65   \n",
       "31089      0.022258         ['F', 'Mn']                 11   \n",
       "26119      0.010305  ['As', 'Au', 'Gd']                 64   \n",
       "\n",
       "                                               structure  \\\n",
       "10094  [[ 0.49677851  3.33493191 -1.66580943] C, [ 0....   \n",
       "41953  [[ 1.92587158e-17 -3.14518697e-01 -2.49358811e...   \n",
       "20891  [[-2.83777950e+00 -6.33886114e+00  9.01327408e...   \n",
       "9551   [[2.84238375 0.95022025 0.02400048] As, [0.947...   \n",
       "23286  [[ 5.26278434 -5.44438755  2.94943405] Fe, [ 1...   \n",
       "...                                                  ...   \n",
       "39290  [[ 3.5158001   2.50548937 -3.09125008] Li, [2....   \n",
       "41325  [[1.09422875 3.28742925 2.53081983] Ca, [3.282...   \n",
       "38776  [[ 0.31243582  3.22425174 -2.46211833] Cr, [2....   \n",
       "31089  [[ 1.95064950e+00 -2.63181438e-16  5.41886508e...   \n",
       "26119  [[-1.01899694  3.03490852 -3.17157209] As, [-3...   \n",
       "\n",
       "                                    symmetry_sites  symmetry_elements  \\\n",
       "10094             [2/m2/m2/m, mm2, 2/m2/m2/m, m..]    [Sc, Sc, Ru, C]   \n",
       "41953                         [mm2, m.., mm2, mm2]      [W, Br, O, O]   \n",
       "20891                           [-3 2/m ., m m2 .]           [Ru, Cl]   \n",
       "9551                    [4 m mm, -4 mm 22, 4 m mm]        [Tm, As, S]   \n",
       "23286              [-3 2/m ., 3 m ., 3 m ., 3 m .]      [Y, Fe, O, O]   \n",
       "...                                            ...                ...   \n",
       "39290      [2/m2/m2/m, 2/m2/m2/m, ..2/m, 2mm, m2m]   [Li, V, V, O, O]   \n",
       "41325         [4 m mm, -4 mm 22, -4 mm 22, 4 m mm]   [Ca, Mn, Sb, Sb]   \n",
       "38776  [4/m 2/m 2/m2/m, 4/m 2/m 2/m, 2/m 2/m2/m .]        [Sr, Cr, O]   \n",
       "31089  [4/m . ., 4/m . ., 4/m . ., 4/m . ., m . .]  [Mn, Mn, F, F, F]   \n",
       "26119         [4 m mm, 4 m mm, -4 mm 22, -4 mm 22]   [Gd, As, As, Au]   \n",
       "\n",
       "       spacegroup_number                              symmetry_sites_padded  \\\n",
       "10094                 71  [2/m2/m2/m, mm2, 2/m2/m2/m, m.., STOP, PAD, PA...   \n",
       "41953                 25  [mm2, m.., mm2, mm2, STOP, PAD, PAD, PAD, PAD,...   \n",
       "20891                193  [-3 2/m ., m m2 ., STOP, PAD, PAD, PAD, PAD, P...   \n",
       "9551                 129  [4 m mm, -4 mm 22, 4 m mm, STOP, PAD, PAD, PAD...   \n",
       "23286                166  [-3 2/m ., 3 m ., 3 m ., 3 m ., STOP, PAD, PAD...   \n",
       "...                  ...                                                ...   \n",
       "39290                 65  [2/m2/m2/m, 2/m2/m2/m, ..2/m, 2mm, m2m, STOP, ...   \n",
       "41325                129  [4 m mm, -4 mm 22, -4 mm 22, 4 m mm, STOP, PAD...   \n",
       "38776                123  [4/m 2/m 2/m2/m, 4/m 2/m 2/m, 2/m 2/m2/m ., ST...   \n",
       "31089                 83  [4/m . ., 4/m . ., 4/m . ., 4/m . ., m . ., ST...   \n",
       "26119                129  [4 m mm, 4 m mm, -4 mm 22, -4 mm 22, STOP, PAD...   \n",
       "\n",
       "                                symmetry_elements_padded  \\\n",
       "10094  [Sc, Sc, Ru, C, STOP, X0+, X0+, X0+, X0+, X0+,...   \n",
       "41953  [W, Br, O, O, STOP, X0+, X0+, X0+, X0+, X0+, X...   \n",
       "20891  [Ru, Cl, STOP, X0+, X0+, X0+, X0+, X0+, X0+, X...   \n",
       "9551   [Tm, As, S, STOP, X0+, X0+, X0+, X0+, X0+, X0+...   \n",
       "23286  [Y, Fe, O, O, STOP, X0+, X0+, X0+, X0+, X0+, X...   \n",
       "...                                                  ...   \n",
       "39290  [Li, V, V, O, O, STOP, X0+, X0+, X0+, X0+, X0+...   \n",
       "41325  [Ca, Mn, Sb, Sb, STOP, X0+, X0+, X0+, X0+, X0+...   \n",
       "38776  [Sr, Cr, O, STOP, X0+, X0+, X0+, X0+, X0+, X0+...   \n",
       "31089  [Mn, Mn, F, F, F, STOP, X0+, X0+, X0+, X0+, X0...   \n",
       "26119  [Gd, As, As, Au, STOP, X0+, X0+, X0+, X0+, X0+...   \n",
       "\n",
       "                                            padding_mask  \n",
       "10094  [False, False, False, False, False, True, True...  \n",
       "41953  [False, False, False, False, False, True, True...  \n",
       "20891  [False, False, False, True, True, True, True, ...  \n",
       "9551   [False, False, False, False, True, True, True,...  \n",
       "23286  [False, False, False, False, False, True, True...  \n",
       "...                                                  ...  \n",
       "39290  [False, False, False, False, False, False, Tru...  \n",
       "41325  [False, False, False, False, False, True, True...  \n",
       "38776  [False, False, False, False, True, True, True,...  \n",
       "31089  [False, False, False, False, False, False, Tru...  \n",
       "26119  [False, False, False, False, False, True, True...  \n",
       "\n",
       "[148 rows x 14 columns]"
      ]
     },
     "execution_count": 13,
     "metadata": {},
     "output_type": "execute_result"
    }
   ],
   "source": [
    "datasets_pd['train'][(datasets_pd['train']['spacegroup.number'] != datasets_pd['train']['spacegroup_number'])]"
   ]
  },
  {
   "cell_type": "code",
   "execution_count": 14,
   "metadata": {},
   "outputs": [
    {
     "data": {
      "text/plain": [
       "'2a'"
      ]
     },
     "execution_count": 14,
     "metadata": {},
     "output_type": "execute_result"
    }
   ],
   "source": [
    "w.get_label()"
   ]
  },
  {
   "cell_type": "code",
   "execution_count": 15,
   "metadata": {},
   "outputs": [
    {
     "name": "stdout",
     "output_type": "stream",
     "text": [
      "x, 0, z\n",
      "x+1/2, 1/2, z\n"
     ]
    }
   ],
   "source": [
    "w.print_ops()"
   ]
  },
  {
   "cell_type": "code",
   "execution_count": 16,
   "metadata": {},
   "outputs": [
    {
     "data": {
      "text/plain": [
       "[SymmOp(affine_matrix=array([[1., 0., 0., 0.],\n",
       "        [0., 0., 0., 0.],\n",
       "        [0., 0., 1., 0.],\n",
       "        [0., 0., 0., 1.]])),\n",
       " SymmOp(affine_matrix=array([[1. , 0. , 0. , 0.5],\n",
       "        [0. , 0. , 0. , 0.5],\n",
       "        [0. , 0. , 1. , 0. ],\n",
       "        [0. , 0. , 0. , 1. ]]))]"
      ]
     },
     "execution_count": 16,
     "metadata": {},
     "output_type": "execute_result"
    }
   ],
   "source": [
    "w.ops"
   ]
  },
  {
   "cell_type": "code",
   "execution_count": 17,
   "metadata": {},
   "outputs": [
    {
     "data": {
      "text/plain": [
       "'.m.'"
      ]
     },
     "execution_count": 17,
     "metadata": {},
     "output_type": "execute_result"
    }
   ],
   "source": [
    "w.site_symm"
   ]
  },
  {
   "cell_type": "code",
   "execution_count": 18,
   "metadata": {},
   "outputs": [
    {
     "data": {
      "text/plain": [
       "[Na @ [ 0.3335  0.0000  0.9982], WP [2a] Site [.m.],\n",
       " Na @ [ 0.9999  0.0000  0.0003], WP [2a] Site [.m.],\n",
       " Na @ [ 0.6680  0.0000  0.0043], WP [2a] Site [.m.],\n",
       " Mn @ [ 0.5002  0.0000  0.4993], WP [2a] Site [.m.],\n",
       " Co @ [ 0.8263  0.0000  0.5065], WP [2a] Site [.m.],\n",
       " Ni @ [ 0.1670  0.0000  0.4942], WP [2a] Site [.m.],\n",
       "  O @ [ 0.9277  0.0000  0.3099], WP [2a] Site [.m.],\n",
       "  O @ [ 0.5813  0.0000  0.3017], WP [2a] Site [.m.],\n",
       "  O @ [ 0.2588  0.0000  0.2892], WP [2a] Site [.m.],\n",
       "  O @ [ 0.0708  0.0000  0.6945], WP [2a] Site [.m.],\n",
       "  O @ [ 0.7512  0.0000  0.7086], WP [2a] Site [.m.],\n",
       "  O @ [ 0.4154  0.0000  0.6933], WP [2a] Site [.m.]]"
      ]
     },
     "execution_count": 18,
     "metadata": {},
     "output_type": "execute_result"
    }
   ],
   "source": [
    "# Print the site symmetry of the first site\n",
    "pyxtal_struc.atom_sites"
   ]
  },
  {
   "cell_type": "code",
   "execution_count": 19,
   "metadata": {},
   "outputs": [
    {
     "data": {
      "text/plain": [
       "\n",
       "------Crystal from Seed------\n",
       "Dimension: 3\n",
       "Composition: Na6Mn2Co2Ni2O12\n",
       "Group: C 1 m 1 (8)\n",
       " 15.6650,   3.0293,   5.6371,  90.0000, 107.8466,  90.0000, monoclinic\n",
       "Wyckoff sites:\n",
       "\tNa @ [ 0.3335  0.0000  0.9982], WP [2a] Site [.m.]\n",
       "\tNa @ [ 0.9999  0.0000  0.0003], WP [2a] Site [.m.]\n",
       "\tNa @ [ 0.6680  0.0000  0.0043], WP [2a] Site [.m.]\n",
       "\tMn @ [ 0.5002  0.0000  0.4993], WP [2a] Site [.m.]\n",
       "\tCo @ [ 0.8263  0.0000  0.5065], WP [2a] Site [.m.]\n",
       "\tNi @ [ 0.1670  0.0000  0.4942], WP [2a] Site [.m.]\n",
       "\t O @ [ 0.9277  0.0000  0.3099], WP [2a] Site [.m.]\n",
       "\t O @ [ 0.5813  0.0000  0.3017], WP [2a] Site [.m.]\n",
       "\t O @ [ 0.2588  0.0000  0.2892], WP [2a] Site [.m.]\n",
       "\t O @ [ 0.0708  0.0000  0.6945], WP [2a] Site [.m.]\n",
       "\t O @ [ 0.7512  0.0000  0.7086], WP [2a] Site [.m.]\n",
       "\t O @ [ 0.4154  0.0000  0.6933], WP [2a] Site [.m.]"
      ]
     },
     "execution_count": 19,
     "metadata": {},
     "output_type": "execute_result"
    }
   ],
   "source": [
    "pyxtal_struc"
   ]
  },
  {
   "cell_type": "code",
   "execution_count": 20,
   "metadata": {},
   "outputs": [
    {
     "data": {
      "text/plain": [
       "array([ 0,  1,  2,  3,  4,  5,  6,  7,  8,  9, 10, 11], dtype=int32)"
      ]
     },
     "execution_count": 20,
     "metadata": {},
     "output_type": "execute_result"
    }
   ],
   "source": [
    "from pymatgen.symmetry.analyzer import SpacegroupAnalyzer\n",
    "SpacegroupAnalyzer(example_pymatgen).get_symmetry_dataset()['crystallographic_orbits']"
   ]
  },
  {
   "cell_type": "code",
   "execution_count": 21,
   "metadata": {},
   "outputs": [
    {
     "data": {
      "text/plain": [
       "12"
      ]
     },
     "execution_count": 21,
     "metadata": {},
     "output_type": "execute_result"
    }
   ],
   "source": [
    "len(example_pymatgen)"
   ]
  },
  {
   "cell_type": "code",
   "execution_count": 22,
   "metadata": {},
   "outputs": [
    {
     "data": {
      "text/plain": [
       "12"
      ]
     },
     "execution_count": 22,
     "metadata": {},
     "output_type": "execute_result"
    }
   ],
   "source": [
    "len(pyxtal_struc.atom_sites)"
   ]
  },
  {
   "cell_type": "code",
   "execution_count": null,
   "metadata": {},
   "outputs": [],
   "source": []
  },
  {
   "cell_type": "code",
   "execution_count": null,
   "metadata": {},
   "outputs": [],
   "source": []
  },
  {
   "cell_type": "code",
   "execution_count": null,
   "metadata": {},
   "outputs": [],
   "source": []
  },
  {
   "cell_type": "code",
   "execution_count": null,
   "metadata": {},
   "outputs": [],
   "source": []
  },
  {
   "cell_type": "code",
   "execution_count": null,
   "metadata": {},
   "outputs": [],
   "source": []
  }
 ],
 "metadata": {
  "kernelspec": {
   "display_name": "wyckofftransformer-FeCwefly-py3.10",
   "language": "python",
   "name": "python3"
  },
  "language_info": {
   "codemirror_mode": {
    "name": "ipython",
    "version": 3
   },
   "file_extension": ".py",
   "mimetype": "text/x-python",
   "name": "python",
   "nbconvert_exporter": "python",
   "pygments_lexer": "ipython3",
   "version": "3.10.12"
  }
 },
 "nbformat": 4,
 "nbformat_minor": 2
}
