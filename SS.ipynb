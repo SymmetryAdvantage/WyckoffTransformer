{
 "cells": [
  {
   "cell_type": "code",
   "execution_count": 6,
   "metadata": {},
   "outputs": [],
   "source": [
    "from mp_20_utils import load_all_data\n",
    "datasets_pd, tensors, site_to_ids, element_to_ids, spacegroup_to_ids, max_len = load_all_data()"
   ]
  },
  {
   "cell_type": "code",
   "execution_count": 14,
   "metadata": {},
   "outputs": [],
   "source": [
    "from pyxtal import pyxtal"
   ]
  },
  {
   "cell_type": "code",
   "execution_count": 10,
   "metadata": {},
   "outputs": [],
   "source": [
    "example_pymatgen = datasets_pd['train'].iloc[0].structure"
   ]
  },
  {
   "cell_type": "code",
   "execution_count": 54,
   "metadata": {},
   "outputs": [],
   "source": [
    "pyxtal_struc = pyxtal()\n",
    "pyxtal_struc.from_seed(example_pymatgen)"
   ]
  },
  {
   "cell_type": "code",
   "execution_count": 74,
   "metadata": {},
   "outputs": [],
   "source": [
    "w = pyxtal_struc.atom_sites[0].wp"
   ]
  },
  {
   "cell_type": "code",
   "execution_count": 79,
   "metadata": {},
   "outputs": [
    {
     "name": "stdout",
     "output_type": "stream",
     "text": [
      "['P', 'P1', 'PBC', '__class__', '__delattr__', '__dict__', '__dir__', '__doc__', '__eq__', '__format__', '__ge__', '__getattribute__', '__getitem__', '__gt__', '__hash__', '__init__', '__init_subclass__', '__iter__', '__le__', '__len__', '__lt__', '__module__', '__ne__', '__new__', '__reduce__', '__reduce_ex__', '__repr__', '__setattr__', '__sizeof__', '__str__', '__subclasshook__', '__weakref__', 'apply_ops', 'are_equivalent_pts', 'copy', 'dim', 'distance_check', 'equivalent_set', 'euclidean', 'from_dict', 'from_group_and_index', 'from_group_and_letter', 'from_index_quick', 'from_symops', 'from_symops_wo_group', 'gen_pos', 'get_all_positions', 'get_dof', 'get_euclidean_generator', 'get_euclidean_symmetries', 'get_free_xyzs', 'get_frozen_axis', 'get_hm_number', 'get_hm_symbol', 'get_label', 'get_ops_from_transformation', 'get_position_from_free_xyzs', 'get_site_symm_wo_translation', 'get_site_symmetry', 'hall_number', 'has_equivalent_ops', 'index', 'is_pure_translation', 'is_standard_setting', 'letter', 'load_dict', 'merge', 'multiplicity', 'number', 'ops', 'print_ops', 'process_ops', 'project', 'save_dict', 'search_all_generators', 'search_generator', 'search_generator_dist', 'set_euclidean', 'set_generators', 'set_ops', 'short_distances', 'site_symm', 'string', 'swap_axis', 'symbol', 'symmetry', 'transform_from_matrices', 'transform_from_matrix', 'update', 'update_hall', 'update_index']\n"
     ]
    }
   ],
   "source": [
    "print(dir(w))"
   ]
  },
  {
   "cell_type": "code",
   "execution_count": 97,
   "metadata": {},
   "outputs": [
    {
     "data": {
      "text/plain": [
       "2"
      ]
     },
     "execution_count": 97,
     "metadata": {},
     "output_type": "execute_result"
    }
   ],
   "source": [
    "w.multiplicity"
   ]
  },
  {
   "cell_type": "code",
   "execution_count": 101,
   "metadata": {},
   "outputs": [
    {
     "data": {
      "text/plain": [
       "'2a'"
      ]
     },
     "execution_count": 101,
     "metadata": {},
     "output_type": "execute_result"
    }
   ],
   "source": [
    "w.get_label()"
   ]
  },
  {
   "cell_type": "code",
   "execution_count": 103,
   "metadata": {},
   "outputs": [
    {
     "name": "stdout",
     "output_type": "stream",
     "text": [
      "x, 0, z\n",
      "x+1/2, 1/2, z\n"
     ]
    }
   ],
   "source": [
    "w.print_ops()"
   ]
  },
  {
   "cell_type": "code",
   "execution_count": 106,
   "metadata": {},
   "outputs": [
    {
     "data": {
      "text/plain": [
       "[SymmOp(affine_matrix=array([[1., 0., 0., 0.],\n",
       "        [0., 0., 0., 0.],\n",
       "        [0., 0., 1., 0.],\n",
       "        [0., 0., 0., 1.]])),\n",
       " SymmOp(affine_matrix=array([[1. , 0. , 0. , 0.5],\n",
       "        [0. , 0. , 0. , 0.5],\n",
       "        [0. , 0. , 1. , 0. ],\n",
       "        [0. , 0. , 0. , 1. ]]))]"
      ]
     },
     "execution_count": 106,
     "metadata": {},
     "output_type": "execute_result"
    }
   ],
   "source": [
    "w.ops"
   ]
  },
  {
   "cell_type": "code",
   "execution_count": 107,
   "metadata": {},
   "outputs": [
    {
     "data": {
      "text/plain": [
       "'.m.'"
      ]
     },
     "execution_count": 107,
     "metadata": {},
     "output_type": "execute_result"
    }
   ],
   "source": [
    "w.site_symm"
   ]
  },
  {
   "cell_type": "code",
   "execution_count": 110,
   "metadata": {},
   "outputs": [
    {
     "data": {
      "text/plain": [
       "[Na @ [ 0.6665  0.0000  0.0018], WP [2a] Site [.m.],\n",
       " Na @ [ 0.0001  0.0000  0.9997], WP [2a] Site [.m.],\n",
       " Na @ [ 0.3320  0.0000  0.9957], WP [2a] Site [.m.],\n",
       " Mn @ [ 0.4998  0.0000  0.5007], WP [2a] Site [.m.],\n",
       " Co @ [ 0.1737  0.0000  0.4935], WP [2a] Site [.m.],\n",
       " Ni @ [ 0.8330  0.0000  0.5058], WP [2a] Site [.m.],\n",
       "  O @ [ 0.0723  0.0000  0.6901], WP [2a] Site [.m.],\n",
       "  O @ [ 0.4187  0.0000  0.6983], WP [2a] Site [.m.],\n",
       "  O @ [ 0.7412  0.0000  0.7108], WP [2a] Site [.m.],\n",
       "  O @ [ 0.9292  0.0000  0.3055], WP [2a] Site [.m.],\n",
       "  O @ [ 0.2488  0.0000  0.2914], WP [2a] Site [.m.],\n",
       "  O @ [ 0.5846  0.0000  0.3067], WP [2a] Site [.m.]]"
      ]
     },
     "execution_count": 110,
     "metadata": {},
     "output_type": "execute_result"
    }
   ],
   "source": [
    "# Print the site symmetry of the first site\n",
    "pyxtal_struc.atom_sites"
   ]
  },
  {
   "cell_type": "code",
   "execution_count": 111,
   "metadata": {},
   "outputs": [
    {
     "data": {
      "text/plain": [
       "\n",
       "------Crystal from Seed------\n",
       "Dimension: 3\n",
       "Composition: Na6Mn2Co2Ni2O12\n",
       "Group: C 1 m 1 (8)\n",
       " 15.6650,   3.0293,   5.6371,  90.0000, 107.8466,  90.0000, monoclinic\n",
       "Wyckoff sites:\n",
       "\tNa @ [ 0.6665  0.0000  0.0018], WP [2a] Site [.m.]\n",
       "\tNa @ [ 0.0001  0.0000  0.9997], WP [2a] Site [.m.]\n",
       "\tNa @ [ 0.3320  0.0000  0.9957], WP [2a] Site [.m.]\n",
       "\tMn @ [ 0.4998  0.0000  0.5007], WP [2a] Site [.m.]\n",
       "\tCo @ [ 0.1737  0.0000  0.4935], WP [2a] Site [.m.]\n",
       "\tNi @ [ 0.8330  0.0000  0.5058], WP [2a] Site [.m.]\n",
       "\t O @ [ 0.0723  0.0000  0.6901], WP [2a] Site [.m.]\n",
       "\t O @ [ 0.4187  0.0000  0.6983], WP [2a] Site [.m.]\n",
       "\t O @ [ 0.7412  0.0000  0.7108], WP [2a] Site [.m.]\n",
       "\t O @ [ 0.9292  0.0000  0.3055], WP [2a] Site [.m.]\n",
       "\t O @ [ 0.2488  0.0000  0.2914], WP [2a] Site [.m.]\n",
       "\t O @ [ 0.5846  0.0000  0.3067], WP [2a] Site [.m.]"
      ]
     },
     "execution_count": 111,
     "metadata": {},
     "output_type": "execute_result"
    }
   ],
   "source": [
    "pyxtal_struc"
   ]
  },
  {
   "cell_type": "code",
   "execution_count": 113,
   "metadata": {},
   "outputs": [
    {
     "data": {
      "text/plain": [
       "array([ 0,  1,  2,  0,  1,  2,  6,  6,  8,  8, 10, 10, 12, 13, 14, 15, 16,\n",
       "       17, 12, 13, 14, 15, 16, 17], dtype=int32)"
      ]
     },
     "execution_count": 113,
     "metadata": {},
     "output_type": "execute_result"
    }
   ],
   "source": [
    "from pymatgen.symmetry.analyzer import SpacegroupAnalyzer\n",
    "SpacegroupAnalyzer(example_pymatgen).get_symmetry_dataset()['crystallographic_orbits']"
   ]
  },
  {
   "cell_type": "code",
   "execution_count": 118,
   "metadata": {},
   "outputs": [
    {
     "data": {
      "text/plain": [
       "24"
      ]
     },
     "execution_count": 118,
     "metadata": {},
     "output_type": "execute_result"
    }
   ],
   "source": [
    "len(example_pymatgen)"
   ]
  },
  {
   "cell_type": "code",
   "execution_count": 120,
   "metadata": {},
   "outputs": [
    {
     "data": {
      "text/plain": [
       "12"
      ]
     },
     "execution_count": 120,
     "metadata": {},
     "output_type": "execute_result"
    }
   ],
   "source": [
    "len(pyxtal_struc.atom_sites)"
   ]
  }
 ],
 "metadata": {
  "kernelspec": {
   "display_name": "wyckofftransformer-FeCwefly-py3.10",
   "language": "python",
   "name": "python3"
  },
  "language_info": {
   "codemirror_mode": {
    "name": "ipython",
    "version": 3
   },
   "file_extension": ".py",
   "mimetype": "text/x-python",
   "name": "python",
   "nbconvert_exporter": "python",
   "pygments_lexer": "ipython3",
   "version": "3.10.12"
  }
 },
 "nbformat": 4,
 "nbformat_minor": 2
}
