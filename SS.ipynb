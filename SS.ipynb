{
 "cells": [
  {
   "cell_type": "code",
   "execution_count": 1,
   "metadata": {},
   "outputs": [],
   "source": [
    "from mp_20_utils import load_all_data\n",
    "datasets_pd, tensors, site_to_ids, element_to_ids, spacegroup_to_ids, max_len = load_all_data(allow_retokenize=True)"
   ]
  },
  {
   "cell_type": "code",
   "execution_count": 2,
   "metadata": {},
   "outputs": [],
   "source": [
    "from pyxtal import pyxtal"
   ]
  },
  {
   "cell_type": "code",
   "execution_count": 14,
   "metadata": {},
   "outputs": [],
   "source": [
    "example_pymatgen = datasets_pd['train'].iloc[1].structure"
   ]
  },
  {
   "cell_type": "code",
   "execution_count": 15,
   "metadata": {},
   "outputs": [
    {
     "data": {
      "text/plain": [
       "material_id                                                          mp-974729\n",
       "formation_energy_per_atom                                            -0.314759\n",
       "band_gap                                                                   0.0\n",
       "pretty_formula                                                      Nd(Al2Cu)4\n",
       "e_above_hull                                                               0.0\n",
       "elements                                                    ['Al', 'Cu', 'Nd']\n",
       "spacegroup.number                                                          139\n",
       "structure                    [[0. 0. 0.] Nd, [7.81740995 6.73412703 1.55353...\n",
       "symmetry_sites                          [4/m 2/m 2/m, m m2 ., m m2 ., . . 2/m]\n",
       "symmetry_elements                                             [Nd, Al, Al, Cu]\n",
       "spacegroup_number                                                          139\n",
       "lattice_volume                                                      205.971042\n",
       "symmetry_sites_padded        [4/m 2/m 2/m, m m2 ., m m2 ., . . 2/m, STOP, P...\n",
       "symmetry_elements_padded     [Nd, Al, Al, Cu, STOP, X0+, X0+, X0+, X0+, X0+...\n",
       "padding_mask                 [False, False, False, False, False, True, True...\n",
       "Name: 19480, dtype: object"
      ]
     },
     "execution_count": 15,
     "metadata": {},
     "output_type": "execute_result"
    }
   ],
   "source": [
    "datasets_pd['train'].iloc[1]"
   ]
  },
  {
   "cell_type": "code",
   "execution_count": 16,
   "metadata": {},
   "outputs": [],
   "source": [
    "pyxtal_struc = pyxtal()\n",
    "pyxtal_struc.from_seed(example_pymatgen)"
   ]
  },
  {
   "cell_type": "code",
   "execution_count": 17,
   "metadata": {},
   "outputs": [
    {
     "data": {
      "text/plain": [
       "\n",
       "------Crystal from Seed------\n",
       "Dimension: 3\n",
       "Composition: Nd2Al16Cu8\n",
       "Group: I 4/m m m (139)\n",
       "  8.9013,   8.9013,   5.1991,  90.0000,  90.0000,  90.0000, tetragonal\n",
       "Wyckoff sites:\n",
       "\tNd @ [ 0.0000  0.0000  0.0000], WP [2a] Site [4/m2/m2/m]\n",
       "\tAl @ [ 0.2788  0.5000  0.0000], WP [8j] Site [mm2.]\n",
       "\tAl @ [ 0.6511  0.0000  0.0000], WP [8i] Site [mm2.]\n",
       "\tCu @ [ 0.2500  0.2500  0.2500], WP [8f] Site [..2/m]"
      ]
     },
     "execution_count": 17,
     "metadata": {},
     "output_type": "execute_result"
    }
   ],
   "source": [
    "pyxtal_struc"
   ]
  },
  {
   "cell_type": "code",
   "execution_count": 5,
   "metadata": {},
   "outputs": [],
   "source": [
    "w = pyxtal_struc.atom_sites[0].wp"
   ]
  },
  {
   "cell_type": "code",
   "execution_count": 6,
   "metadata": {},
   "outputs": [],
   "source": [
    "w.get_site_symmetry()\n"
   ]
  },
  {
   "cell_type": "code",
   "execution_count": 7,
   "metadata": {},
   "outputs": [
    {
     "name": "stdout",
     "output_type": "stream",
     "text": [
      "['P', 'P1', 'PBC', '__class__', '__delattr__', '__dict__', '__dir__', '__doc__', '__eq__', '__format__', '__ge__', '__getattribute__', '__getitem__', '__gt__', '__hash__', '__init__', '__init_subclass__', '__iter__', '__le__', '__len__', '__lt__', '__module__', '__ne__', '__new__', '__reduce__', '__reduce_ex__', '__repr__', '__setattr__', '__sizeof__', '__str__', '__subclasshook__', '__weakref__', 'apply_ops', 'are_equivalent_pts', 'copy', 'dim', 'distance_check', 'equivalent_set', 'euclidean', 'from_dict', 'from_group_and_index', 'from_group_and_letter', 'from_index_quick', 'from_symops', 'from_symops_wo_group', 'gen_pos', 'get_all_positions', 'get_dof', 'get_euclidean_generator', 'get_euclidean_symmetries', 'get_free_xyzs', 'get_frozen_axis', 'get_hm_number', 'get_hm_symbol', 'get_label', 'get_ops_from_transformation', 'get_position_from_free_xyzs', 'get_site_symm_wo_translation', 'get_site_symmetry', 'hall_number', 'has_equivalent_ops', 'index', 'is_pure_translation', 'is_standard_setting', 'letter', 'load_dict', 'merge', 'multiplicity', 'number', 'ops', 'print_ops', 'process_ops', 'project', 'save_dict', 'search_all_generators', 'search_generator', 'search_generator_dist', 'set_euclidean', 'set_generators', 'set_ops', 'short_distances', 'site_symm', 'swap_axis', 'symbol', 'symmetry', 'transform_from_matrices', 'transform_from_matrix', 'update', 'update_hall', 'update_index']\n"
     ]
    }
   ],
   "source": [
    "print(dir(w))"
   ]
  },
  {
   "cell_type": "code",
   "execution_count": 8,
   "metadata": {},
   "outputs": [
    {
     "data": {
      "text/plain": [
       "'.m.'"
      ]
     },
     "execution_count": 8,
     "metadata": {},
     "output_type": "execute_result"
    }
   ],
   "source": [
    "w.get_site_symmetry(); w.site_symm"
   ]
  },
  {
   "cell_type": "code",
   "execution_count": 9,
   "metadata": {},
   "outputs": [
    {
     "data": {
      "text/plain": [
       "0.93"
      ]
     },
     "execution_count": 9,
     "metadata": {},
     "output_type": "execute_result"
    }
   ],
   "source": [
    "from pymatgen.core import Element\n",
    "\n",
    "Element(pyxtal_struc.atom_sites[0].specie).X"
   ]
  },
  {
   "cell_type": "code",
   "execution_count": 10,
   "metadata": {},
   "outputs": [],
   "source": [
    "from data import structure_to_sites"
   ]
  },
  {
   "cell_type": "code",
   "execution_count": 11,
   "metadata": {},
   "outputs": [
    {
     "data": {
      "text/plain": [
       "{'symmetry_sites': ['.m.',\n",
       "  '.m.',\n",
       "  '.m.',\n",
       "  '.m.',\n",
       "  '.m.',\n",
       "  '.m.',\n",
       "  '.m.',\n",
       "  '.m.',\n",
       "  '.m.',\n",
       "  '.m.',\n",
       "  '.m.',\n",
       "  '.m.'],\n",
       " 'symmetry_elements': [Element Na,\n",
       "  Element Na,\n",
       "  Element Na,\n",
       "  Element Mn,\n",
       "  Element Co,\n",
       "  Element Ni,\n",
       "  Element O,\n",
       "  Element O,\n",
       "  Element O,\n",
       "  Element O,\n",
       "  Element O,\n",
       "  Element O],\n",
       " 'spacegroup_number': 8}"
      ]
     },
     "execution_count": 11,
     "metadata": {},
     "output_type": "execute_result"
    }
   ],
   "source": [
    "structure_to_sites(example_pymatgen)"
   ]
  },
  {
   "cell_type": "code",
   "execution_count": 12,
   "metadata": {},
   "outputs": [
    {
     "data": {
      "text/plain": [
       "148"
      ]
     },
     "execution_count": 12,
     "metadata": {},
     "output_type": "execute_result"
    }
   ],
   "source": [
    "(datasets_pd['train']['spacegroup.number'] != datasets_pd['train']['spacegroup_number']).sum()"
   ]
  },
  {
   "cell_type": "code",
   "execution_count": 24,
   "metadata": {},
   "outputs": [
    {
     "data": {
      "text/html": [
       "<div>\n",
       "<style scoped>\n",
       "    .dataframe tbody tr th:only-of-type {\n",
       "        vertical-align: middle;\n",
       "    }\n",
       "\n",
       "    .dataframe tbody tr th {\n",
       "        vertical-align: top;\n",
       "    }\n",
       "\n",
       "    .dataframe thead th {\n",
       "        text-align: right;\n",
       "    }\n",
       "</style>\n",
       "<table border=\"1\" class=\"dataframe\">\n",
       "  <thead>\n",
       "    <tr style=\"text-align: right;\">\n",
       "      <th></th>\n",
       "      <th>material_id</th>\n",
       "      <th>formation_energy_per_atom</th>\n",
       "      <th>band_gap</th>\n",
       "      <th>pretty_formula</th>\n",
       "      <th>e_above_hull</th>\n",
       "      <th>elements</th>\n",
       "      <th>spacegroup.number</th>\n",
       "      <th>structure</th>\n",
       "      <th>symmetry_sites</th>\n",
       "      <th>symmetry_elements</th>\n",
       "      <th>spacegroup_number</th>\n",
       "      <th>symmetry_sites_padded</th>\n",
       "      <th>symmetry_elements_padded</th>\n",
       "      <th>padding_mask</th>\n",
       "    </tr>\n",
       "  </thead>\n",
       "  <tbody>\n",
       "    <tr>\n",
       "      <th>37228</th>\n",
       "      <td>mp-1221227</td>\n",
       "      <td>-1.637460</td>\n",
       "      <td>0.2133</td>\n",
       "      <td>Na3MnCoNiO6</td>\n",
       "      <td>0.043001</td>\n",
       "      <td>['Co', 'Mn', 'Na', 'Ni', 'O']</td>\n",
       "      <td>8</td>\n",
       "      <td>[[-2.13163694 -1.97863317 -0.78933557] Na, [-1...</td>\n",
       "      <td>[.m., .m., .m., .m., .m., .m., .m., .m., .m., ...</td>\n",
       "      <td>[Na, Na, Na, Mn, Co, Ni, O, O, O, O, O, O]</td>\n",
       "      <td>8</td>\n",
       "      <td>[.m., .m., .m., .m., .m., .m., .m., .m., .m., ...</td>\n",
       "      <td>[Na, Na, Na, Mn, Co, Ni, O, O, O, O, O, O, STO...</td>\n",
       "      <td>[False, False, False, False, False, False, Fal...</td>\n",
       "    </tr>\n",
       "    <tr>\n",
       "      <th>19480</th>\n",
       "      <td>mp-974729</td>\n",
       "      <td>-0.314759</td>\n",
       "      <td>0.0000</td>\n",
       "      <td>Nd(Al2Cu)4</td>\n",
       "      <td>0.000000</td>\n",
       "      <td>['Al', 'Cu', 'Nd']</td>\n",
       "      <td>139</td>\n",
       "      <td>[[0. 0. 0.] Nd, [7.81740995 6.73412703 1.55353...</td>\n",
       "      <td>[4/m 2/m 2/m, m m2 ., m m2 ., . . 2/m]</td>\n",
       "      <td>[Nd, Al, Al, Cu]</td>\n",
       "      <td>139</td>\n",
       "      <td>[4/m 2/m 2/m, m m2 ., m m2 ., . . 2/m, STOP, P...</td>\n",
       "      <td>[Nd, Al, Al, Cu, STOP, X0+, X0+, X0+, X0+, X0+...</td>\n",
       "      <td>[False, False, False, False, False, True, True...</td>\n",
       "    </tr>\n",
       "    <tr>\n",
       "      <th>29624</th>\n",
       "      <td>mp-1185360</td>\n",
       "      <td>-0.193761</td>\n",
       "      <td>0.0000</td>\n",
       "      <td>LiMnIr2</td>\n",
       "      <td>0.018075</td>\n",
       "      <td>['Ir', 'Li', 'Mn']</td>\n",
       "      <td>225</td>\n",
       "      <td>[[2.22044605e-16 5.10035615e+00 4.44089210e-16...</td>\n",
       "      <td>[4/m -3-3 2/m2/m, 4/m -3 2/m, -4 33 mm]</td>\n",
       "      <td>[Li, Mn, Ir]</td>\n",
       "      <td>225</td>\n",
       "      <td>[4/m -3-3 2/m2/m, 4/m -3 2/m, -4 33 mm, STOP, ...</td>\n",
       "      <td>[Li, Mn, Ir, STOP, X0+, X0+, X0+, X0+, X0+, X0...</td>\n",
       "      <td>[False, False, False, False, True, True, True,...</td>\n",
       "    </tr>\n",
       "    <tr>\n",
       "      <th>38633</th>\n",
       "      <td>mp-1188861</td>\n",
       "      <td>-0.584694</td>\n",
       "      <td>3.8556</td>\n",
       "      <td>LiCSN</td>\n",
       "      <td>0.048847</td>\n",
       "      <td>['C', 'Li', 'N', 'S']</td>\n",
       "      <td>62</td>\n",
       "      <td>[[ 0.96469575  2.34470985 11.12401327] Li, [0....</td>\n",
       "      <td>[.m., .m., .m., .m.]</td>\n",
       "      <td>[Li, C, S, N]</td>\n",
       "      <td>62</td>\n",
       "      <td>[.m., .m., .m., .m., STOP, PAD, PAD, PAD, PAD,...</td>\n",
       "      <td>[Li, C, S, N, STOP, X0+, X0+, X0+, X0+, X0+, X...</td>\n",
       "      <td>[False, False, False, False, False, True, True...</td>\n",
       "    </tr>\n",
       "    <tr>\n",
       "      <th>10889</th>\n",
       "      <td>mp-677272</td>\n",
       "      <td>-2.474759</td>\n",
       "      <td>0.4707</td>\n",
       "      <td>La2EuS4</td>\n",
       "      <td>0.000000</td>\n",
       "      <td>['Eu', 'La', 'S']</td>\n",
       "      <td>122</td>\n",
       "      <td>[[ 0.03187948 -4.65810216 -3.8370089 ] La, [ 2...</td>\n",
       "      <td>[. 2 ., -4 . ., 1]</td>\n",
       "      <td>[La, Eu, S]</td>\n",
       "      <td>122</td>\n",
       "      <td>[. 2 ., -4 . ., 1, STOP, PAD, PAD, PAD, PAD, P...</td>\n",
       "      <td>[La, Eu, S, STOP, X0+, X0+, X0+, X0+, X0+, X0+...</td>\n",
       "      <td>[False, False, False, False, True, True, True,...</td>\n",
       "    </tr>\n",
       "  </tbody>\n",
       "</table>\n",
       "</div>"
      ],
      "text/plain": [
       "      material_id  formation_energy_per_atom  band_gap pretty_formula  \\\n",
       "37228  mp-1221227                  -1.637460    0.2133    Na3MnCoNiO6   \n",
       "19480   mp-974729                  -0.314759    0.0000     Nd(Al2Cu)4   \n",
       "29624  mp-1185360                  -0.193761    0.0000        LiMnIr2   \n",
       "38633  mp-1188861                  -0.584694    3.8556          LiCSN   \n",
       "10889   mp-677272                  -2.474759    0.4707        La2EuS4   \n",
       "\n",
       "       e_above_hull                       elements  spacegroup.number  \\\n",
       "37228      0.043001  ['Co', 'Mn', 'Na', 'Ni', 'O']                  8   \n",
       "19480      0.000000             ['Al', 'Cu', 'Nd']                139   \n",
       "29624      0.018075             ['Ir', 'Li', 'Mn']                225   \n",
       "38633      0.048847          ['C', 'Li', 'N', 'S']                 62   \n",
       "10889      0.000000              ['Eu', 'La', 'S']                122   \n",
       "\n",
       "                                               structure  \\\n",
       "37228  [[-2.13163694 -1.97863317 -0.78933557] Na, [-1...   \n",
       "19480  [[0. 0. 0.] Nd, [7.81740995 6.73412703 1.55353...   \n",
       "29624  [[2.22044605e-16 5.10035615e+00 4.44089210e-16...   \n",
       "38633  [[ 0.96469575  2.34470985 11.12401327] Li, [0....   \n",
       "10889  [[ 0.03187948 -4.65810216 -3.8370089 ] La, [ 2...   \n",
       "\n",
       "                                          symmetry_sites  \\\n",
       "37228  [.m., .m., .m., .m., .m., .m., .m., .m., .m., ...   \n",
       "19480             [4/m 2/m 2/m, m m2 ., m m2 ., . . 2/m]   \n",
       "29624            [4/m -3-3 2/m2/m, 4/m -3 2/m, -4 33 mm]   \n",
       "38633                               [.m., .m., .m., .m.]   \n",
       "10889                                 [. 2 ., -4 . ., 1]   \n",
       "\n",
       "                                symmetry_elements  spacegroup_number  \\\n",
       "37228  [Na, Na, Na, Mn, Co, Ni, O, O, O, O, O, O]                  8   \n",
       "19480                            [Nd, Al, Al, Cu]                139   \n",
       "29624                                [Li, Mn, Ir]                225   \n",
       "38633                               [Li, C, S, N]                 62   \n",
       "10889                                 [La, Eu, S]                122   \n",
       "\n",
       "                                   symmetry_sites_padded  \\\n",
       "37228  [.m., .m., .m., .m., .m., .m., .m., .m., .m., ...   \n",
       "19480  [4/m 2/m 2/m, m m2 ., m m2 ., . . 2/m, STOP, P...   \n",
       "29624  [4/m -3-3 2/m2/m, 4/m -3 2/m, -4 33 mm, STOP, ...   \n",
       "38633  [.m., .m., .m., .m., STOP, PAD, PAD, PAD, PAD,...   \n",
       "10889  [. 2 ., -4 . ., 1, STOP, PAD, PAD, PAD, PAD, P...   \n",
       "\n",
       "                                symmetry_elements_padded  \\\n",
       "37228  [Na, Na, Na, Mn, Co, Ni, O, O, O, O, O, O, STO...   \n",
       "19480  [Nd, Al, Al, Cu, STOP, X0+, X0+, X0+, X0+, X0+...   \n",
       "29624  [Li, Mn, Ir, STOP, X0+, X0+, X0+, X0+, X0+, X0...   \n",
       "38633  [Li, C, S, N, STOP, X0+, X0+, X0+, X0+, X0+, X...   \n",
       "10889  [La, Eu, S, STOP, X0+, X0+, X0+, X0+, X0+, X0+...   \n",
       "\n",
       "                                            padding_mask  \n",
       "37228  [False, False, False, False, False, False, Fal...  \n",
       "19480  [False, False, False, False, False, True, True...  \n",
       "29624  [False, False, False, False, True, True, True,...  \n",
       "38633  [False, False, False, False, False, True, True...  \n",
       "10889  [False, False, False, False, True, True, True,...  "
      ]
     },
     "execution_count": 24,
     "metadata": {},
     "output_type": "execute_result"
    }
   ],
   "source": [
    "datasets_pd['train'].head()"
   ]
  },
  {
   "cell_type": "code",
   "execution_count": 23,
   "metadata": {},
   "outputs": [
    {
     "ename": "KeyError",
     "evalue": "'spacegroup.number.MP'",
     "output_type": "error",
     "traceback": [
      "\u001b[0;31m---------------------------------------------------------------------------\u001b[0m",
      "\u001b[0;31mKeyError\u001b[0m                                  Traceback (most recent call last)",
      "File \u001b[0;32m~/.cache/pypoetry/virtualenvs/wyckofftransformer-FeCwefly-py3.10/lib/python3.10/site-packages/pandas/core/indexes/base.py:3805\u001b[0m, in \u001b[0;36mIndex.get_loc\u001b[0;34m(self, key)\u001b[0m\n\u001b[1;32m   3804\u001b[0m \u001b[38;5;28;01mtry\u001b[39;00m:\n\u001b[0;32m-> 3805\u001b[0m     \u001b[38;5;28;01mreturn\u001b[39;00m \u001b[38;5;28;43mself\u001b[39;49m\u001b[38;5;241;43m.\u001b[39;49m\u001b[43m_engine\u001b[49m\u001b[38;5;241;43m.\u001b[39;49m\u001b[43mget_loc\u001b[49m\u001b[43m(\u001b[49m\u001b[43mcasted_key\u001b[49m\u001b[43m)\u001b[49m\n\u001b[1;32m   3806\u001b[0m \u001b[38;5;28;01mexcept\u001b[39;00m \u001b[38;5;167;01mKeyError\u001b[39;00m \u001b[38;5;28;01mas\u001b[39;00m err:\n",
      "File \u001b[0;32mindex.pyx:167\u001b[0m, in \u001b[0;36mpandas._libs.index.IndexEngine.get_loc\u001b[0;34m()\u001b[0m\n",
      "File \u001b[0;32mindex.pyx:196\u001b[0m, in \u001b[0;36mpandas._libs.index.IndexEngine.get_loc\u001b[0;34m()\u001b[0m\n",
      "File \u001b[0;32mpandas/_libs/hashtable_class_helper.pxi:7081\u001b[0m, in \u001b[0;36mpandas._libs.hashtable.PyObjectHashTable.get_item\u001b[0;34m()\u001b[0m\n",
      "File \u001b[0;32mpandas/_libs/hashtable_class_helper.pxi:7089\u001b[0m, in \u001b[0;36mpandas._libs.hashtable.PyObjectHashTable.get_item\u001b[0;34m()\u001b[0m\n",
      "\u001b[0;31mKeyError\u001b[0m: 'spacegroup.number.MP'",
      "\nThe above exception was the direct cause of the following exception:\n",
      "\u001b[0;31mKeyError\u001b[0m                                  Traceback (most recent call last)",
      "Cell \u001b[0;32mIn[23], line 1\u001b[0m\n\u001b[0;32m----> 1\u001b[0m datasets_pd[\u001b[38;5;124m'\u001b[39m\u001b[38;5;124mtrain\u001b[39m\u001b[38;5;124m'\u001b[39m][(\u001b[43mdatasets_pd\u001b[49m\u001b[43m[\u001b[49m\u001b[38;5;124;43m'\u001b[39;49m\u001b[38;5;124;43mtrain\u001b[39;49m\u001b[38;5;124;43m'\u001b[39;49m\u001b[43m]\u001b[49m\u001b[43m[\u001b[49m\u001b[38;5;124;43m'\u001b[39;49m\u001b[38;5;124;43mspacegroup.number.MP\u001b[39;49m\u001b[38;5;124;43m'\u001b[39;49m\u001b[43m]\u001b[49m \u001b[38;5;241m!=\u001b[39m datasets_pd[\u001b[38;5;124m'\u001b[39m\u001b[38;5;124mtrain\u001b[39m\u001b[38;5;124m'\u001b[39m][\u001b[38;5;124m'\u001b[39m\u001b[38;5;124mspacegroup_number\u001b[39m\u001b[38;5;124m'\u001b[39m])]\n",
      "File \u001b[0;32m~/.cache/pypoetry/virtualenvs/wyckofftransformer-FeCwefly-py3.10/lib/python3.10/site-packages/pandas/core/frame.py:4090\u001b[0m, in \u001b[0;36mDataFrame.__getitem__\u001b[0;34m(self, key)\u001b[0m\n\u001b[1;32m   4088\u001b[0m \u001b[38;5;28;01mif\u001b[39;00m \u001b[38;5;28mself\u001b[39m\u001b[38;5;241m.\u001b[39mcolumns\u001b[38;5;241m.\u001b[39mnlevels \u001b[38;5;241m>\u001b[39m \u001b[38;5;241m1\u001b[39m:\n\u001b[1;32m   4089\u001b[0m     \u001b[38;5;28;01mreturn\u001b[39;00m \u001b[38;5;28mself\u001b[39m\u001b[38;5;241m.\u001b[39m_getitem_multilevel(key)\n\u001b[0;32m-> 4090\u001b[0m indexer \u001b[38;5;241m=\u001b[39m \u001b[38;5;28;43mself\u001b[39;49m\u001b[38;5;241;43m.\u001b[39;49m\u001b[43mcolumns\u001b[49m\u001b[38;5;241;43m.\u001b[39;49m\u001b[43mget_loc\u001b[49m\u001b[43m(\u001b[49m\u001b[43mkey\u001b[49m\u001b[43m)\u001b[49m\n\u001b[1;32m   4091\u001b[0m \u001b[38;5;28;01mif\u001b[39;00m is_integer(indexer):\n\u001b[1;32m   4092\u001b[0m     indexer \u001b[38;5;241m=\u001b[39m [indexer]\n",
      "File \u001b[0;32m~/.cache/pypoetry/virtualenvs/wyckofftransformer-FeCwefly-py3.10/lib/python3.10/site-packages/pandas/core/indexes/base.py:3812\u001b[0m, in \u001b[0;36mIndex.get_loc\u001b[0;34m(self, key)\u001b[0m\n\u001b[1;32m   3807\u001b[0m     \u001b[38;5;28;01mif\u001b[39;00m \u001b[38;5;28misinstance\u001b[39m(casted_key, \u001b[38;5;28mslice\u001b[39m) \u001b[38;5;129;01mor\u001b[39;00m (\n\u001b[1;32m   3808\u001b[0m         \u001b[38;5;28misinstance\u001b[39m(casted_key, abc\u001b[38;5;241m.\u001b[39mIterable)\n\u001b[1;32m   3809\u001b[0m         \u001b[38;5;129;01mand\u001b[39;00m \u001b[38;5;28many\u001b[39m(\u001b[38;5;28misinstance\u001b[39m(x, \u001b[38;5;28mslice\u001b[39m) \u001b[38;5;28;01mfor\u001b[39;00m x \u001b[38;5;129;01min\u001b[39;00m casted_key)\n\u001b[1;32m   3810\u001b[0m     ):\n\u001b[1;32m   3811\u001b[0m         \u001b[38;5;28;01mraise\u001b[39;00m InvalidIndexError(key)\n\u001b[0;32m-> 3812\u001b[0m     \u001b[38;5;28;01mraise\u001b[39;00m \u001b[38;5;167;01mKeyError\u001b[39;00m(key) \u001b[38;5;28;01mfrom\u001b[39;00m \u001b[38;5;21;01merr\u001b[39;00m\n\u001b[1;32m   3813\u001b[0m \u001b[38;5;28;01mexcept\u001b[39;00m \u001b[38;5;167;01mTypeError\u001b[39;00m:\n\u001b[1;32m   3814\u001b[0m     \u001b[38;5;66;03m# If we have a listlike key, _check_indexing_error will raise\u001b[39;00m\n\u001b[1;32m   3815\u001b[0m     \u001b[38;5;66;03m#  InvalidIndexError. Otherwise we fall through and re-raise\u001b[39;00m\n\u001b[1;32m   3816\u001b[0m     \u001b[38;5;66;03m#  the TypeError.\u001b[39;00m\n\u001b[1;32m   3817\u001b[0m     \u001b[38;5;28mself\u001b[39m\u001b[38;5;241m.\u001b[39m_check_indexing_error(key)\n",
      "\u001b[0;31mKeyError\u001b[0m: 'spacegroup.number.MP'"
     ]
    }
   ],
   "source": [
    "datasets_pd['train'][(datasets_pd['train']['spacegroup.number.MP'] != datasets_pd['train']['spacegroup_number'])]"
   ]
  },
  {
   "cell_type": "code",
   "execution_count": 14,
   "metadata": {},
   "outputs": [
    {
     "data": {
      "text/plain": [
       "'2a'"
      ]
     },
     "execution_count": 14,
     "metadata": {},
     "output_type": "execute_result"
    }
   ],
   "source": [
    "w.get_label()"
   ]
  },
  {
   "cell_type": "code",
   "execution_count": 15,
   "metadata": {},
   "outputs": [
    {
     "name": "stdout",
     "output_type": "stream",
     "text": [
      "x, 0, z\n",
      "x+1/2, 1/2, z\n"
     ]
    }
   ],
   "source": [
    "w.print_ops()"
   ]
  },
  {
   "cell_type": "code",
   "execution_count": 16,
   "metadata": {},
   "outputs": [
    {
     "data": {
      "text/plain": [
       "[SymmOp(affine_matrix=array([[1., 0., 0., 0.],\n",
       "        [0., 0., 0., 0.],\n",
       "        [0., 0., 1., 0.],\n",
       "        [0., 0., 0., 1.]])),\n",
       " SymmOp(affine_matrix=array([[1. , 0. , 0. , 0.5],\n",
       "        [0. , 0. , 0. , 0.5],\n",
       "        [0. , 0. , 1. , 0. ],\n",
       "        [0. , 0. , 0. , 1. ]]))]"
      ]
     },
     "execution_count": 16,
     "metadata": {},
     "output_type": "execute_result"
    }
   ],
   "source": [
    "w.ops"
   ]
  },
  {
   "cell_type": "code",
   "execution_count": 17,
   "metadata": {},
   "outputs": [
    {
     "data": {
      "text/plain": [
       "'.m.'"
      ]
     },
     "execution_count": 17,
     "metadata": {},
     "output_type": "execute_result"
    }
   ],
   "source": [
    "w.site_symm"
   ]
  },
  {
   "cell_type": "code",
   "execution_count": 18,
   "metadata": {},
   "outputs": [
    {
     "data": {
      "text/plain": [
       "[Na @ [ 0.3335  0.0000  0.9982], WP [2a] Site [.m.],\n",
       " Na @ [ 0.9999  0.0000  0.0003], WP [2a] Site [.m.],\n",
       " Na @ [ 0.6680  0.0000  0.0043], WP [2a] Site [.m.],\n",
       " Mn @ [ 0.5002  0.0000  0.4993], WP [2a] Site [.m.],\n",
       " Co @ [ 0.8263  0.0000  0.5065], WP [2a] Site [.m.],\n",
       " Ni @ [ 0.1670  0.0000  0.4942], WP [2a] Site [.m.],\n",
       "  O @ [ 0.9277  0.0000  0.3099], WP [2a] Site [.m.],\n",
       "  O @ [ 0.5813  0.0000  0.3017], WP [2a] Site [.m.],\n",
       "  O @ [ 0.2588  0.0000  0.2892], WP [2a] Site [.m.],\n",
       "  O @ [ 0.0708  0.0000  0.6945], WP [2a] Site [.m.],\n",
       "  O @ [ 0.7512  0.0000  0.7086], WP [2a] Site [.m.],\n",
       "  O @ [ 0.4154  0.0000  0.6933], WP [2a] Site [.m.]]"
      ]
     },
     "execution_count": 18,
     "metadata": {},
     "output_type": "execute_result"
    }
   ],
   "source": [
    "# Print the site symmetry of the first site\n",
    "pyxtal_struc.atom_sites"
   ]
  },
  {
   "cell_type": "code",
   "execution_count": 19,
   "metadata": {},
   "outputs": [
    {
     "data": {
      "text/plain": [
       "\n",
       "------Crystal from Seed------\n",
       "Dimension: 3\n",
       "Composition: Na6Mn2Co2Ni2O12\n",
       "Group: C 1 m 1 (8)\n",
       " 15.6650,   3.0293,   5.6371,  90.0000, 107.8466,  90.0000, monoclinic\n",
       "Wyckoff sites:\n",
       "\tNa @ [ 0.3335  0.0000  0.9982], WP [2a] Site [.m.]\n",
       "\tNa @ [ 0.9999  0.0000  0.0003], WP [2a] Site [.m.]\n",
       "\tNa @ [ 0.6680  0.0000  0.0043], WP [2a] Site [.m.]\n",
       "\tMn @ [ 0.5002  0.0000  0.4993], WP [2a] Site [.m.]\n",
       "\tCo @ [ 0.8263  0.0000  0.5065], WP [2a] Site [.m.]\n",
       "\tNi @ [ 0.1670  0.0000  0.4942], WP [2a] Site [.m.]\n",
       "\t O @ [ 0.9277  0.0000  0.3099], WP [2a] Site [.m.]\n",
       "\t O @ [ 0.5813  0.0000  0.3017], WP [2a] Site [.m.]\n",
       "\t O @ [ 0.2588  0.0000  0.2892], WP [2a] Site [.m.]\n",
       "\t O @ [ 0.0708  0.0000  0.6945], WP [2a] Site [.m.]\n",
       "\t O @ [ 0.7512  0.0000  0.7086], WP [2a] Site [.m.]\n",
       "\t O @ [ 0.4154  0.0000  0.6933], WP [2a] Site [.m.]"
      ]
     },
     "execution_count": 19,
     "metadata": {},
     "output_type": "execute_result"
    }
   ],
   "source": [
    "pyxtal_struc"
   ]
  },
  {
   "cell_type": "code",
   "execution_count": 20,
   "metadata": {},
   "outputs": [
    {
     "data": {
      "text/plain": [
       "array([ 0,  1,  2,  3,  4,  5,  6,  7,  8,  9, 10, 11], dtype=int32)"
      ]
     },
     "execution_count": 20,
     "metadata": {},
     "output_type": "execute_result"
    }
   ],
   "source": [
    "from pymatgen.symmetry.analyzer import SpacegroupAnalyzer\n",
    "SpacegroupAnalyzer(example_pymatgen).get_symmetry_dataset()['crystallographic_orbits']"
   ]
  },
  {
   "cell_type": "code",
   "execution_count": 21,
   "metadata": {},
   "outputs": [
    {
     "data": {
      "text/plain": [
       "12"
      ]
     },
     "execution_count": 21,
     "metadata": {},
     "output_type": "execute_result"
    }
   ],
   "source": [
    "len(example_pymatgen)"
   ]
  },
  {
   "cell_type": "code",
   "execution_count": 22,
   "metadata": {},
   "outputs": [
    {
     "data": {
      "text/plain": [
       "12"
      ]
     },
     "execution_count": 22,
     "metadata": {},
     "output_type": "execute_result"
    }
   ],
   "source": [
    "len(pyxtal_struc.atom_sites)"
   ]
  }
 ],
 "metadata": {
  "kernelspec": {
   "display_name": "wyckofftransformer-FeCwefly-py3.10",
   "language": "python",
   "name": "python3"
  },
  "language_info": {
   "codemirror_mode": {
    "name": "ipython",
    "version": 3
   },
   "file_extension": ".py",
   "mimetype": "text/x-python",
   "name": "python",
   "nbconvert_exporter": "python",
   "pygments_lexer": "ipython3",
   "version": "3.10.12"
  }
 },
 "nbformat": 4,
 "nbformat_minor": 2
}
