{
 "cells": [
  {
   "cell_type": "code",
   "execution_count": 3,
   "id": "638144d5",
   "metadata": {},
   "outputs": [],
   "source": [
    "from ast import literal_eval\n",
    "from collections import defaultdict\n",
    "import pandas as pd\n",
    "from pymatgen.core import Structure\n",
    "from pymatgen.analysis.structure_matcher import StructureMatcher\n",
    "data = pd.read_csv('../generated/WyFormer-DiffCSP++-10k.csv.gz', index_col=\"material_id\",\n",
    "                   converters={\"structure\": lambda s: Structure.from_dict(literal_eval(s))})"
   ]
  },
  {
   "cell_type": "code",
   "execution_count": 7,
   "id": "8d0c04a5",
   "metadata": {},
   "outputs": [],
   "source": [
    "def filter_by_unique_structure_chem_sys_index(data: pd.DataFrame) -> pd.DataFrame:\n",
    "    present = defaultdict(list)\n",
    "    unique_indices = []\n",
    "    for index, structure in data.structure.items():\n",
    "        # Strutures consisiting of different sets of elements\n",
    "        # can't match in any way\n",
    "        chem_system = frozenset(structure.composition)\n",
    "        if chem_system not in present:\n",
    "            unique_indices.append(index)\n",
    "        else:\n",
    "            for present_structure in present[chem_system]:\n",
    "                if StructureMatcher(attempt_supercell=True).fit(structure, present_structure, symmetric=True):\n",
    "                    break\n",
    "            else:\n",
    "                unique_indices.append(index)\n",
    "        present[chem_system].append(structure)\n",
    "    return data.loc[unique_indices]"
   ]
  },
  {
   "cell_type": "code",
   "execution_count": 8,
   "id": "fbd7d070",
   "metadata": {},
   "outputs": [],
   "source": [
    "unique = filter_by_unique_structure_chem_sys_index(data)"
   ]
  },
  {
   "cell_type": "code",
   "execution_count": 9,
   "id": "00f3df99",
   "metadata": {},
   "outputs": [
    {
     "data": {
      "text/plain": [
       "0.9874259586407566"
      ]
     },
     "execution_count": 9,
     "metadata": {},
     "output_type": "execute_result"
    }
   ],
   "source": [
    "len(unique) / len(data)"
   ]
  }
 ],
 "metadata": {
  "kernelspec": {
   "display_name": "wyckofftransformer-FeCwefly-py3.12",
   "language": "python",
   "name": "python3"
  },
  "language_info": {
   "codemirror_mode": {
    "name": "ipython",
    "version": 3
   },
   "file_extension": ".py",
   "mimetype": "text/x-python",
   "name": "python",
   "nbconvert_exporter": "python",
   "pygments_lexer": "ipython3",
   "version": "3.12.3"
  }
 },
 "nbformat": 4,
 "nbformat_minor": 5
}
