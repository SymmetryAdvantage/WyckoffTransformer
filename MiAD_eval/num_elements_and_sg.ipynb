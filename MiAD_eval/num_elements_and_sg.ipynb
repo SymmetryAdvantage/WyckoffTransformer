{
 "cells": [
  {
   "cell_type": "code",
   "execution_count": 1,
   "id": "1b6f95b1",
   "metadata": {},
   "outputs": [
    {
     "name": "stderr",
     "output_type": "stream",
     "text": [
      "/home/kna/.cache/pypoetry/virtualenvs/wyckofftransformer-FeCwefly-py3.12/lib/python3.12/site-packages/matminer/utils/data.py:326: UserWarning: MagpieData(impute_nan=False):\n",
      "In a future release, impute_nan will be set to True by default.\n",
      "                    This means that features that are missing or are NaNs for elements\n",
      "                    from the data source will be replaced by the average of that value\n",
      "                    over the available elements.\n",
      "                    This avoids NaNs after featurization that are often replaced by\n",
      "                    dataset-dependent averages.\n",
      "  warnings.warn(f\"{self.__class__.__name__}(impute_nan=False):\\n\" + IMPUTE_NAN_WARNING)\n"
     ]
    }
   ],
   "source": [
    "import sys\n",
    "import pandas as pd\n",
    "from tqdm.auto import tqdm\n",
    "sys.path.append(\"..\")\n",
    "from evaluation.generated_dataset import load_all_from_config\n",
    "from evaluation.statistical_evaluator import StatisticalEvaluator"
   ]
  },
  {
   "cell_type": "code",
   "execution_count": 2,
   "id": "2f0a6503",
   "metadata": {},
   "outputs": [],
   "source": [
    "datasets = {\n",
    "    \"WyFormer\": (\"WyckoffTransformer\", \"DiffCSP++\"),\n",
    "    \"FlowMM\": (\"FlowMM\",),\n",
    "    \"MiAD\": (\"MiAD\", \"CHGNet_free\"),\n",
    "    \"DiffCSP++\": (\"DiffCSP++\",),\n",
    "    \"DiffCSP\": (\"DiffCSP\",),\n",
    "    \"SymmCD\": (\"SymmCD\",),\n",
    "}"
   ]
  },
  {
   "cell_type": "code",
   "execution_count": 3,
   "id": "ab52f803",
   "metadata": {},
   "outputs": [],
   "source": [
    "all_datasets = load_all_from_config(\n",
    "    datasets=list(datasets.values()) + \\\n",
    "        [(\"split\", \"train\"), (\"split\", \"val\"), (\"split\", \"test\")],\n",
    "    dataset_name=\"mp_20\")"
   ]
  },
  {
   "cell_type": "code",
   "execution_count": 4,
   "id": "4fb14cd3",
   "metadata": {},
   "outputs": [],
   "source": [
    "test_evaluator = StatisticalEvaluator(all_datasets[('split', 'test')].data)"
   ]
  },
  {
   "cell_type": "code",
   "execution_count": 5,
   "id": "6e37fd2f",
   "metadata": {},
   "outputs": [
    {
     "data": {
      "application/vnd.jupyter.widget-view+json": {
       "model_id": "e66e533d0e224e1688c5eae7c2b4edc2",
       "version_major": 2,
       "version_minor": 0
      },
      "text/plain": [
       "  0%|          | 0/6 [00:00<?, ?it/s]"
      ]
     },
     "metadata": {},
     "output_type": "display_data"
    }
   ],
   "source": [
    "table = pd.DataFrame(\n",
    "    index=datasets.keys(), columns=[\n",
    "        \"P1 (%)\",\n",
    "        \"Space Group chi^2\",\n",
    "        \"N atoms EMD\"])\n",
    "for name, transformations in tqdm(datasets.items()):\n",
    "    dataset = all_datasets[transformations].data\n",
    "    table.loc[name, \"P1 (%)\"] = 100 * (dataset.group == 1).mean()\n",
    "    table.loc[name, r\"Space Group chi^2\"] = test_evaluator.get_sg_chi2(dataset)\n",
    "    table.loc[name, \"N atoms EMD\"] = test_evaluator.get_num_atoms_emd(dataset)"
   ]
  },
  {
   "cell_type": "code",
   "execution_count": 6,
   "id": "42054b8c",
   "metadata": {},
   "outputs": [
    {
     "data": {
      "text/html": [
       "<div>\n",
       "<style scoped>\n",
       "    .dataframe tbody tr th:only-of-type {\n",
       "        vertical-align: middle;\n",
       "    }\n",
       "\n",
       "    .dataframe tbody tr th {\n",
       "        vertical-align: top;\n",
       "    }\n",
       "\n",
       "    .dataframe thead th {\n",
       "        text-align: right;\n",
       "    }\n",
       "</style>\n",
       "<table border=\"1\" class=\"dataframe\">\n",
       "  <thead>\n",
       "    <tr style=\"text-align: right;\">\n",
       "      <th></th>\n",
       "      <th>P1 (%)</th>\n",
       "      <th>Space Group chi^2</th>\n",
       "      <th>N atoms EMD</th>\n",
       "    </tr>\n",
       "  </thead>\n",
       "  <tbody>\n",
       "    <tr>\n",
       "      <th>WyFormer</th>\n",
       "      <td>1.4</td>\n",
       "      <td>0.163555</td>\n",
       "      <td>13.934188</td>\n",
       "    </tr>\n",
       "    <tr>\n",
       "      <th>FlowMM</th>\n",
       "      <td>38.09762</td>\n",
       "      <td>11.132666</td>\n",
       "      <td>8.599533</td>\n",
       "    </tr>\n",
       "    <tr>\n",
       "      <th>MiAD</th>\n",
       "      <td>17.386955</td>\n",
       "      <td>3.368287</td>\n",
       "      <td>11.970726</td>\n",
       "    </tr>\n",
       "    <tr>\n",
       "      <th>DiffCSP++</th>\n",
       "      <td>1.64</td>\n",
       "      <td>0.041517</td>\n",
       "      <td>14.175788</td>\n",
       "    </tr>\n",
       "    <tr>\n",
       "      <th>DiffCSP</th>\n",
       "      <td>28.35</td>\n",
       "      <td>5.463993</td>\n",
       "      <td>10.132488</td>\n",
       "    </tr>\n",
       "    <tr>\n",
       "      <th>SymmCD</th>\n",
       "      <td>1.973615</td>\n",
       "      <td>0.046386</td>\n",
       "      <td>13.490067</td>\n",
       "    </tr>\n",
       "  </tbody>\n",
       "</table>\n",
       "</div>"
      ],
      "text/plain": [
       "              P1 (%) Space Group chi^2 N atoms EMD\n",
       "WyFormer         1.4          0.163555   13.934188\n",
       "FlowMM      38.09762         11.132666    8.599533\n",
       "MiAD       17.386955          3.368287   11.970726\n",
       "DiffCSP++       1.64          0.041517   14.175788\n",
       "DiffCSP        28.35          5.463993   10.132488\n",
       "SymmCD      1.973615          0.046386   13.490067"
      ]
     },
     "execution_count": 6,
     "metadata": {},
     "output_type": "execute_result"
    }
   ],
   "source": [
    "table"
   ]
  }
 ],
 "metadata": {
  "kernelspec": {
   "display_name": "wyckofftransformer-FeCwefly-py3.12",
   "language": "python",
   "name": "python3"
  },
  "language_info": {
   "codemirror_mode": {
    "name": "ipython",
    "version": 3
   },
   "file_extension": ".py",
   "mimetype": "text/x-python",
   "name": "python",
   "nbconvert_exporter": "python",
   "pygments_lexer": "ipython3",
   "version": "3.12.3"
  }
 },
 "nbformat": 4,
 "nbformat_minor": 5
}
