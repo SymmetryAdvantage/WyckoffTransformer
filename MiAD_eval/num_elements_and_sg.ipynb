{
 "cells": [
  {
   "cell_type": "code",
   "execution_count": 1,
   "id": "1b6f95b1",
   "metadata": {},
   "outputs": [
    {
     "name": "stderr",
     "output_type": "stream",
     "text": [
      "/home/kna/.cache/pypoetry/virtualenvs/wyckofftransformer-FeCwefly-py3.12/lib/python3.12/site-packages/matminer/utils/data.py:326: UserWarning: MagpieData(impute_nan=False):\n",
      "In a future release, impute_nan will be set to True by default.\n",
      "                    This means that features that are missing or are NaNs for elements\n",
      "                    from the data source will be replaced by the average of that value\n",
      "                    over the available elements.\n",
      "                    This avoids NaNs after featurization that are often replaced by\n",
      "                    dataset-dependent averages.\n",
      "  warnings.warn(f\"{self.__class__.__name__}(impute_nan=False):\\n\" + IMPUTE_NAN_WARNING)\n"
     ]
    }
   ],
   "source": [
    "import sys\n",
    "from pathlib import Path\n",
    "import pandas as pd\n",
    "from tqdm.auto import tqdm\n",
    "sys.path.append(\"..\")\n",
    "from evaluation.generated_dataset import load_all_from_config\n",
    "from evaluation.statistical_evaluator import StatisticalEvaluator\n",
    "from evaluation.novelty import NoveltyFilter"
   ]
  },
  {
   "cell_type": "code",
   "execution_count": 2,
   "id": "2f0a6503",
   "metadata": {},
   "outputs": [],
   "source": [
    "datasets = {\n",
    "    \"WyFormer\": (\"WyckoffTransformer\", \"DiffCSP++10k\"),\n",
    "    \"FlowMM\": (\"FlowMM\",),\n",
    "    \"MiAD\": (\"MiAD\", \"CHGNet_free\"),\n",
    "    \"DiffCSP++\": (\"DiffCSP++\",),\n",
    "    \"DiffCSP\": (\"DiffCSP\",),\n",
    "    \"SymmCD\": (\"SymmCD\",),\n",
    "    \"MP-20-train\": (\"split\", \"train\"),\n",
    "    \"MP-20-test\": (\"split\", \"test\"),\n",
    "    \"MP-20-val\": (\"split\", \"val\")\n",
    "}"
   ]
  },
  {
   "cell_type": "code",
   "execution_count": 3,
   "id": "ab52f803",
   "metadata": {},
   "outputs": [],
   "source": [
    "all_datasets = load_all_from_config(datasets=datasets.values(), dataset_name=\"mp_20\")"
   ]
  },
  {
   "cell_type": "code",
   "execution_count": 4,
   "id": "4fb14cd3",
   "metadata": {},
   "outputs": [],
   "source": [
    "test_evaluator = StatisticalEvaluator(all_datasets[('split', 'test')].data)"
   ]
  },
  {
   "cell_type": "code",
   "execution_count": 5,
   "id": "6e37fd2f",
   "metadata": {},
   "outputs": [
    {
     "data": {
      "application/vnd.jupyter.widget-view+json": {
       "model_id": "0ab418f58d14434cb81bccf6b8eeac3d",
       "version_major": 2,
       "version_minor": 0
      },
      "text/plain": [
       "  0%|          | 0/9 [00:00<?, ?it/s]"
      ]
     },
     "metadata": {},
     "output_type": "display_data"
    }
   ],
   "source": [
    "table = pd.DataFrame(\n",
    "    index=datasets.keys(), columns=[\n",
    "        \"P1 (%)\",\n",
    "        \"Space Group chi^2\",\n",
    "        \"N atoms EMD\"])\n",
    "for name, transformations in tqdm(datasets.items()):\n",
    "    dataset = all_datasets[transformations].data\n",
    "    table.loc[name, \"P1 (%)\"] = 100 * (dataset.group == 1).mean()\n",
    "    table.loc[name, r\"Space Group chi^2\"] = test_evaluator.get_sg_chi2(dataset)\n",
    "    table.loc[name, \"N atoms EMD\"] = test_evaluator.get_num_atoms_emd(dataset)"
   ]
  },
  {
   "cell_type": "code",
   "execution_count": 6,
   "id": "42054b8c",
   "metadata": {},
   "outputs": [
    {
     "data": {
      "text/html": [
       "<div>\n",
       "<style scoped>\n",
       "    .dataframe tbody tr th:only-of-type {\n",
       "        vertical-align: middle;\n",
       "    }\n",
       "\n",
       "    .dataframe tbody tr th {\n",
       "        vertical-align: top;\n",
       "    }\n",
       "\n",
       "    .dataframe thead th {\n",
       "        text-align: right;\n",
       "    }\n",
       "</style>\n",
       "<table border=\"1\" class=\"dataframe\">\n",
       "  <thead>\n",
       "    <tr style=\"text-align: right;\">\n",
       "      <th></th>\n",
       "      <th>P1 (%)</th>\n",
       "      <th>Space Group chi^2</th>\n",
       "      <th>N atoms EMD</th>\n",
       "    </tr>\n",
       "  </thead>\n",
       "  <tbody>\n",
       "    <tr>\n",
       "      <th>WyFormer</th>\n",
       "      <td>1.880188</td>\n",
       "      <td>0.038074</td>\n",
       "      <td>8.821859</td>\n",
       "    </tr>\n",
       "    <tr>\n",
       "      <th>FlowMM</th>\n",
       "      <td>38.09762</td>\n",
       "      <td>11.132666</td>\n",
       "      <td>0.111229</td>\n",
       "    </tr>\n",
       "    <tr>\n",
       "      <th>MiAD</th>\n",
       "      <td>17.386955</td>\n",
       "      <td>3.368287</td>\n",
       "      <td>1.461373</td>\n",
       "    </tr>\n",
       "    <tr>\n",
       "      <th>DiffCSP++</th>\n",
       "      <td>1.64</td>\n",
       "      <td>0.041517</td>\n",
       "      <td>8.644447</td>\n",
       "    </tr>\n",
       "    <tr>\n",
       "      <th>DiffCSP</th>\n",
       "      <td>28.35</td>\n",
       "      <td>5.463993</td>\n",
       "      <td>0.136238</td>\n",
       "    </tr>\n",
       "    <tr>\n",
       "      <th>SymmCD</th>\n",
       "      <td>1.973615</td>\n",
       "      <td>0.046386</td>\n",
       "      <td>7.897631</td>\n",
       "    </tr>\n",
       "    <tr>\n",
       "      <th>MP-20-train</th>\n",
       "      <td>1.732017</td>\n",
       "      <td>0.025769</td>\n",
       "      <td>0.125059</td>\n",
       "    </tr>\n",
       "    <tr>\n",
       "      <th>MP-20-test</th>\n",
       "      <td>1.812956</td>\n",
       "      <td>0.0</td>\n",
       "      <td>0.0</td>\n",
       "    </tr>\n",
       "    <tr>\n",
       "      <th>MP-20-val</th>\n",
       "      <td>1.624848</td>\n",
       "      <td>0.03528</td>\n",
       "      <td>0.076691</td>\n",
       "    </tr>\n",
       "  </tbody>\n",
       "</table>\n",
       "</div>"
      ],
      "text/plain": [
       "                P1 (%) Space Group chi^2 N atoms EMD\n",
       "WyFormer      1.880188          0.038074    8.821859\n",
       "FlowMM        38.09762         11.132666    0.111229\n",
       "MiAD         17.386955          3.368287    1.461373\n",
       "DiffCSP++         1.64          0.041517    8.644447\n",
       "DiffCSP          28.35          5.463993    0.136238\n",
       "SymmCD        1.973615          0.046386    7.897631\n",
       "MP-20-train   1.732017          0.025769    0.125059\n",
       "MP-20-test    1.812956               0.0         0.0\n",
       "MP-20-val     1.624848           0.03528    0.076691"
      ]
     },
     "execution_count": 6,
     "metadata": {},
     "output_type": "execute_result"
    }
   ],
   "source": [
    "table"
   ]
  },
  {
   "cell_type": "code",
   "execution_count": 7,
   "id": "5a7908a0",
   "metadata": {},
   "outputs": [],
   "source": [
    "novelty_reference = pd.concat([\n",
    "    all_datasets[('split', 'train')].data,\n",
    "    all_datasets[('split', 'val')].data], axis=0, verify_integrity=True)\n",
    "novelty_filter = NoveltyFilter(novelty_reference)"
   ]
  },
  {
   "cell_type": "code",
   "execution_count": 8,
   "id": "6b5ddca7",
   "metadata": {},
   "outputs": [
    {
     "data": {
      "application/vnd.jupyter.widget-view+json": {
       "model_id": "fbfc61b451bc4fd2bedb015a5a7ebc36",
       "version_major": 2,
       "version_minor": 0
      },
      "text/plain": [
       "  0%|          | 0/9 [00:00<?, ?it/s]"
      ]
     },
     "metadata": {},
     "output_type": "display_data"
    }
   ],
   "source": [
    "table = pd.DataFrame(\n",
    "    index=datasets.keys(), columns=[\n",
    "        \"P1 (%)\",\n",
    "        \"Space Group chi^2\",\n",
    "        \"N atoms EMD\"])\n",
    "for name, transformations in tqdm(datasets.items()):\n",
    "    dataset = all_datasets[transformations].data\n",
    "    dataset[\"is_novel\"] = dataset.apply(novelty_filter.is_novel, axis=1)\n",
    "    dataset[\"n_atoms\"] = dataset.structure.map(len)\n",
    "    novel = dataset[dataset[\"is_novel\"]]\n",
    "    table.loc[name, \"P1 (%)\"] = 100 * (novel.group == 1).mean()\n",
    "    table.loc[name, r\"Space Group chi^2\"] = test_evaluator.get_sg_chi2(novel)\n",
    "    if len(novel) > 0:\n",
    "        table.loc[name, \"N atoms EMD\"] = test_evaluator.get_num_atoms_emd(novel)\n",
    "    dataset.drop(columns=\"cdvae_crystal\").to_pickle(Path(\"data_export\", name + \".pkl.gz\"))"
   ]
  },
  {
   "cell_type": "code",
   "execution_count": 9,
   "id": "7a3774f4",
   "metadata": {},
   "outputs": [
    {
     "data": {
      "text/html": [
       "<div>\n",
       "<style scoped>\n",
       "    .dataframe tbody tr th:only-of-type {\n",
       "        vertical-align: middle;\n",
       "    }\n",
       "\n",
       "    .dataframe tbody tr th {\n",
       "        vertical-align: top;\n",
       "    }\n",
       "\n",
       "    .dataframe thead th {\n",
       "        text-align: right;\n",
       "    }\n",
       "</style>\n",
       "<table border=\"1\" class=\"dataframe\">\n",
       "  <thead>\n",
       "    <tr style=\"text-align: right;\">\n",
       "      <th></th>\n",
       "      <th>P1 (%)</th>\n",
       "      <th>Space Group chi^2</th>\n",
       "      <th>N atoms EMD</th>\n",
       "    </tr>\n",
       "  </thead>\n",
       "  <tbody>\n",
       "    <tr>\n",
       "      <th>WyFormer</th>\n",
       "      <td>2.04994</td>\n",
       "      <td>0.058459</td>\n",
       "      <td>8.845024</td>\n",
       "    </tr>\n",
       "    <tr>\n",
       "      <th>FlowMM</th>\n",
       "      <td>40.690097</td>\n",
       "      <td>12.781056</td>\n",
       "      <td>0.492154</td>\n",
       "    </tr>\n",
       "    <tr>\n",
       "      <th>MiAD</th>\n",
       "      <td>20.139697</td>\n",
       "      <td>4.568208</td>\n",
       "      <td>1.675489</td>\n",
       "    </tr>\n",
       "    <tr>\n",
       "      <th>DiffCSP++</th>\n",
       "      <td>1.843732</td>\n",
       "      <td>0.067514</td>\n",
       "      <td>8.67499</td>\n",
       "    </tr>\n",
       "    <tr>\n",
       "      <th>DiffCSP</th>\n",
       "      <td>31.566641</td>\n",
       "      <td>6.843615</td>\n",
       "      <td>0.63917</td>\n",
       "    </tr>\n",
       "    <tr>\n",
       "      <th>SymmCD</th>\n",
       "      <td>2.177203</td>\n",
       "      <td>0.070302</td>\n",
       "      <td>7.698487</td>\n",
       "    </tr>\n",
       "    <tr>\n",
       "      <th>MP-20-train</th>\n",
       "      <td>NaN</td>\n",
       "      <td>NaN</td>\n",
       "      <td>NaN</td>\n",
       "    </tr>\n",
       "    <tr>\n",
       "      <th>MP-20-test</th>\n",
       "      <td>1.802699</td>\n",
       "      <td>0.00001</td>\n",
       "      <td>0.002511</td>\n",
       "    </tr>\n",
       "    <tr>\n",
       "      <th>MP-20-val</th>\n",
       "      <td>NaN</td>\n",
       "      <td>NaN</td>\n",
       "      <td>NaN</td>\n",
       "    </tr>\n",
       "  </tbody>\n",
       "</table>\n",
       "</div>"
      ],
      "text/plain": [
       "                P1 (%) Space Group chi^2 N atoms EMD\n",
       "WyFormer       2.04994          0.058459    8.845024\n",
       "FlowMM       40.690097         12.781056    0.492154\n",
       "MiAD         20.139697          4.568208    1.675489\n",
       "DiffCSP++     1.843732          0.067514     8.67499\n",
       "DiffCSP      31.566641          6.843615     0.63917\n",
       "SymmCD        2.177203          0.070302    7.698487\n",
       "MP-20-train        NaN               NaN         NaN\n",
       "MP-20-test    1.802699           0.00001    0.002511\n",
       "MP-20-val          NaN               NaN         NaN"
      ]
     },
     "execution_count": 9,
     "metadata": {},
     "output_type": "execute_result"
    }
   ],
   "source": [
    "table"
   ]
  }
 ],
 "metadata": {
  "kernelspec": {
   "display_name": "wyckofftransformer-FeCwefly-py3.12",
   "language": "python",
   "name": "python3"
  },
  "language_info": {
   "codemirror_mode": {
    "name": "ipython",
    "version": 3
   },
   "file_extension": ".py",
   "mimetype": "text/x-python",
   "name": "python",
   "nbconvert_exporter": "python",
   "pygments_lexer": "ipython3",
   "version": "3.12.3"
  }
 },
 "nbformat": 4,
 "nbformat_minor": 5
}
