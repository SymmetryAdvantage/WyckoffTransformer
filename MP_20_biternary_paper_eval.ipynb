{
 "cells": [
  {
   "cell_type": "code",
   "execution_count": 1,
   "metadata": {},
   "outputs": [],
   "source": [
    "from typing import Tuple\n",
    "import pandas as pd\n",
    "from tqdm.notebook import tqdm\n",
    "from evaluation.generated_dataset import GeneratedDataset, load_all_from_config\n",
    "from evaluation.novelty import NoveltyFilter, filter_by_unique_structure"
   ]
  },
  {
   "cell_type": "code",
   "execution_count": 2,
   "metadata": {},
   "outputs": [],
   "source": [
    "datasets = {\n",
    "    \"WyckoffTransformer\": (\"WyckoffTransformer\", ),\n",
    "    \"WyCryst\": (\"WyCryst\", ),\n",
    "    \"WyCryst-chgnet\": (\"WyCryst\", \"CHGNet_fix\")\n",
    "    #\"train\": (\"split\", \"train\"),\n",
    "    #\"val\": (\"split\", \"val\"),\n",
    "    #\"test\": (\"split\", \"test\"),\n",
    "}"
   ]
  },
  {
   "cell_type": "code",
   "execution_count": 3,
   "metadata": {},
   "outputs": [],
   "source": [
    "all_datasets = load_all_from_config(\n",
    "    datasets=list(datasets.values()) + [(\"split\", \"train\"), (\"split\", \"val\"), (\"split\", \"test\")],\n",
    "    dataset_name=\"mp_20_biternary\")"
   ]
  },
  {
   "cell_type": "code",
   "execution_count": 4,
   "metadata": {},
   "outputs": [],
   "source": [
    "novelty_reference = pd.concat([\n",
    "    all_datasets[('split', 'train')].data,\n",
    "    all_datasets[('split', 'val')].data], axis=0, verify_integrity=True)\n",
    "novelty_filter = NoveltyFilter(novelty_reference)"
   ]
  },
  {
   "cell_type": "code",
   "execution_count": 5,
   "metadata": {},
   "outputs": [],
   "source": [
    "import evaluation.statistical_evaluator\n",
    "#import importlib\n",
    "#importlib.reload(evaluation.statistical_evaluator)\n",
    "test_unique = filter_by_unique_structure(all_datasets[('split', 'test')].data)\n",
    "test_novel = novelty_filter.get_novel(test_unique)\n",
    "test_evaluator = evaluation.statistical_evaluator.StatisticalEvaluator(test_novel)"
   ]
  },
  {
   "cell_type": "code",
   "execution_count": 6,
   "metadata": {},
   "outputs": [],
   "source": [
    "def is_sg_preserved(relaxed_sg, transformations: Tuple[str]) -> pd.Series:\n",
    "    source_sg = all_datasets[(transformations[0],)].data.spacegroup_number\n",
    "    return relaxed_sg == source_sg.reindex_like(relaxed_sg)"
   ]
  },
  {
   "cell_type": "code",
   "execution_count": 7,
   "metadata": {},
   "outputs": [
    {
     "name": "stdout",
     "output_type": "stream",
     "text": [
      "0.010822206605762474\n"
     ]
    },
    {
     "data": {
      "text/plain": [
       "0.8909065354884048"
      ]
     },
     "execution_count": 7,
     "metadata": {},
     "output_type": "execute_result"
    }
   ],
   "source": [
    "mp_20_biternary = pd.concat([\n",
    "    all_datasets[('split', 'train')].data,\n",
    "    all_datasets[('split', 'test')].data,\n",
    "    all_datasets[('split', 'val')].data], axis=0, verify_integrity=True)\n",
    "print((mp_20_biternary.spacegroup_number == 1).mean())\n",
    "mp_20_biternary.smact_validity.mean()"
   ]
  },
  {
   "cell_type": "code",
   "execution_count": 8,
   "metadata": {},
   "outputs": [],
   "source": [
    "mp_20_test = GeneratedDataset.from_cache(('split', 'test'), \"mp_20\")\n",
    "mp_20_test_unique = filter_by_unique_structure(mp_20_test.data)\n",
    "mp_20_test_novel = novelty_filter.get_novel(mp_20_test_unique)\n",
    "mp_20_test_evaluator = evaluation.statistical_evaluator.StatisticalEvaluator(mp_20_test_novel)"
   ]
  },
  {
   "cell_type": "code",
   "execution_count": 9,
   "metadata": {},
   "outputs": [],
   "source": [
    "# It almost doesn't affect WyCryst, but allows to put everything in one table\n",
    "test_evaluator = mp_20_test_evaluator"
   ]
  },
  {
   "cell_type": "code",
   "execution_count": 19,
   "metadata": {},
   "outputs": [
    {
     "ename": "AttributeError",
     "evalue": "'DataFrame' object has no attribute 'test_dataset'",
     "output_type": "error",
     "traceback": [
      "\u001b[0;31m---------------------------------------------------------------------------\u001b[0m",
      "\u001b[0;31mAttributeError\u001b[0m                            Traceback (most recent call last)",
      "\u001b[0;32m/tmp/ipykernel_3346809/436803261.py\u001b[0m in \u001b[0;36m?\u001b[0;34m()\u001b[0m\n\u001b[1;32m      3\u001b[0m \u001b[0mimportlib\u001b[0m\u001b[0;34m.\u001b[0m\u001b[0mreload\u001b[0m\u001b[0;34m(\u001b[0m\u001b[0mevaluation\u001b[0m\u001b[0;34m.\u001b[0m\u001b[0mnovelty\u001b[0m\u001b[0;34m)\u001b[0m\u001b[0;34m\u001b[0m\u001b[0;34m\u001b[0m\u001b[0m\n\u001b[1;32m      4\u001b[0m mp_20_train_val = pd.concat([\n\u001b[1;32m      5\u001b[0m     \u001b[0mGeneratedDataset\u001b[0m\u001b[0;34m.\u001b[0m\u001b[0mfrom_cache\u001b[0m\u001b[0;34m(\u001b[0m\u001b[0;34m(\u001b[0m\u001b[0;34m'split'\u001b[0m\u001b[0;34m,\u001b[0m \u001b[0;34m'train'\u001b[0m\u001b[0;34m)\u001b[0m\u001b[0;34m,\u001b[0m \u001b[0;34m\"mp_20\"\u001b[0m\u001b[0;34m)\u001b[0m\u001b[0;34m.\u001b[0m\u001b[0mdata\u001b[0m\u001b[0;34m,\u001b[0m\u001b[0;34m\u001b[0m\u001b[0;34m\u001b[0m\u001b[0m\n\u001b[1;32m      6\u001b[0m     GeneratedDataset.from_cache(('split', 'val'), \"mp_20\").data], axis=0, verify_integrity=True)\n\u001b[0;32m----> 7\u001b[0;31m train_w_template_set = frozenset(mp_20_train_val.test_dataset.apply(\n\u001b[0m\u001b[1;32m      8\u001b[0m     evaluation.novelty.record_to_anonymous_fingerprint, axis=1))\n",
      "\u001b[0;32m~/.cache/pypoetry/virtualenvs/wyckofftransformer-FeCwefly-py3.10/lib/python3.10/site-packages/pandas/core/generic.py\u001b[0m in \u001b[0;36m?\u001b[0;34m(self, name)\u001b[0m\n\u001b[1;32m   6295\u001b[0m             \u001b[0;32mand\u001b[0m \u001b[0mname\u001b[0m \u001b[0;32mnot\u001b[0m \u001b[0;32min\u001b[0m \u001b[0mself\u001b[0m\u001b[0;34m.\u001b[0m\u001b[0m_accessors\u001b[0m\u001b[0;34m\u001b[0m\u001b[0;34m\u001b[0m\u001b[0m\n\u001b[1;32m   6296\u001b[0m             \u001b[0;32mand\u001b[0m \u001b[0mself\u001b[0m\u001b[0;34m.\u001b[0m\u001b[0m_info_axis\u001b[0m\u001b[0;34m.\u001b[0m\u001b[0m_can_hold_identifiers_and_holds_name\u001b[0m\u001b[0;34m(\u001b[0m\u001b[0mname\u001b[0m\u001b[0;34m)\u001b[0m\u001b[0;34m\u001b[0m\u001b[0;34m\u001b[0m\u001b[0m\n\u001b[1;32m   6297\u001b[0m         ):\n\u001b[1;32m   6298\u001b[0m             \u001b[0;32mreturn\u001b[0m \u001b[0mself\u001b[0m\u001b[0;34m[\u001b[0m\u001b[0mname\u001b[0m\u001b[0;34m]\u001b[0m\u001b[0;34m\u001b[0m\u001b[0;34m\u001b[0m\u001b[0m\n\u001b[0;32m-> 6299\u001b[0;31m         \u001b[0;32mreturn\u001b[0m \u001b[0mobject\u001b[0m\u001b[0;34m.\u001b[0m\u001b[0m__getattribute__\u001b[0m\u001b[0;34m(\u001b[0m\u001b[0mself\u001b[0m\u001b[0;34m,\u001b[0m \u001b[0mname\u001b[0m\u001b[0;34m)\u001b[0m\u001b[0;34m\u001b[0m\u001b[0;34m\u001b[0m\u001b[0m\n\u001b[0m",
      "\u001b[0;31mAttributeError\u001b[0m: 'DataFrame' object has no attribute 'test_dataset'"
     ]
    }
   ],
   "source": [
    "import evaluation.novelty\n",
    "import importlib\n",
    "importlib.reload(evaluation.novelty)\n",
    "mp_20_train_val = pd.concat([\n",
    "    GeneratedDataset.from_cache(('split', 'train'), \"mp_20\").data,\n",
    "    GeneratedDataset.from_cache(('split', 'val'), \"mp_20\").data], axis=0, verify_integrity=True)"
   ]
  },
  {
   "cell_type": "code",
   "execution_count": 20,
   "metadata": {},
   "outputs": [],
   "source": [
    "train_w_template_set = frozenset(mp_20_train_val.apply(\n",
    "    evaluation.novelty.record_to_anonymous_fingerprint, axis=1))"
   ]
  },
  {
   "cell_type": "code",
   "execution_count": 21,
   "metadata": {},
   "outputs": [
    {
     "data": {
      "application/vnd.jupyter.widget-view+json": {
       "model_id": "767a02c096804c0a943985f782a35ffc",
       "version_major": 2,
       "version_minor": 0
      },
      "text/plain": [
       "  0%|          | 0/3 [00:00<?, ?it/s]"
      ]
     },
     "metadata": {},
     "output_type": "display_data"
    }
   ],
   "source": [
    "table = pd.DataFrame(\n",
    "    index=datasets.keys(), columns=[\n",
    "        \"Novelty (%)\", \"Structural\", \"Compositional\", \n",
    "        \"Recall\", \"Precision\",\n",
    "        r\"$\\rho$\", \"$E$\", \"# Elements\",\n",
    "        \"S.U.N. (%)\",\n",
    "        \"Novel Template (%)\", \"P1 (%)\",\n",
    "        \"Space Group\", \"S.S.U.N. (%)\"])\n",
    "table.index.name = \"Method\"\n",
    "E_hull_threshold = 0.08\n",
    "unique_sample_size = 992\n",
    "for name, transformations in tqdm(datasets.items()):\n",
    "    dataset = all_datasets[transformations]\n",
    "    unique = filter_by_unique_structure(dataset.data)\n",
    "    print(len(unique), len(dataset.data), len(unique) / len(dataset.data))\n",
    "    novel_template = ~unique.apply(evaluation.novelty.record_to_anonymous_fingerprint, axis=1).isin(train_w_template_set)\n",
    "    table.loc[name, \"Novel Template (%)\"] = 100 * novel_template.mean()\n",
    "    if transformations in ((\"split\", \"train\"), (\"split\", \"val\")):\n",
    "        novel = unique\n",
    "    else:\n",
    "        novel = novelty_filter.get_novel(unique)\n",
    "    table.loc[name, \"Novelty (%)\"] = 100 * len(novel) / len(unique)\n",
    "    if \"structural_validity\" in novel.columns:\n",
    "        table.loc[name, \"Structural\"] = 100 * novel.structural_validity.mean()\n",
    "        table.loc[name, \"Compositional\"] = 100 * novel.smact_validity.mean()\n",
    "    if \"cdvae_crystal\" in novel.columns:\n",
    "        cov_metrics = test_evaluator.get_coverage(novel.cdvae_crystal)    \n",
    "        table.loc[name, \"Recall\"] = 100 * cov_metrics[\"cov_recall\"]\n",
    "        table.loc[name, \"Precision\"] = 100 * cov_metrics[\"cov_precision\"]\n",
    "        novel = novel[novel.structural_validity]\n",
    "        table.loc[name, r\"$\\rho$\"] = test_evaluator.get_density_emd(novel)\n",
    "        table.loc[name, \"$E$\"] = test_evaluator.get_cdvae_e_emd(novel)\n",
    "        table.loc[name, \"# Elements\"] = test_evaluator.get_num_elements_emd(novel)\n",
    "    table.loc[name, \"P1 (%)\"] = 100 * (novel.group == 1).mean()\n",
    "    # table.loc[name, \"# DoF\"] = test_evaluator.get_dof_emd(novel)\n",
    "    table.loc[name, \"Space Group\"] = test_evaluator.get_sg_chi2(novel)\n",
    "    #try:\n",
    "    #    table.loc[name, \"SG preserved (%)\"] = 100 * is_sg_preserved(novel.spacegroup_number, transformations).mean()\n",
    "    #except KeyError:\n",
    "    #    pass\n",
    "    #table.loc[name, \"Elements\"] = test_evaluator.get_elements_chi2(novel)\n",
    "    if \"corrected_chgnet_ehull\" in novel.columns:\n",
    "        # S.U.N. is measured with respect to the initial structures\n",
    "        has_ehull = dataset.data.corrected_chgnet_ehull.notna().sum()\n",
    "        is_sun = (novel.corrected_chgnet_ehull <= E_hull_threshold)\n",
    "        table.loc[name, \"S.U.N. (%)\"] = 100 * is_sun.sum() / has_ehull.sum()\n",
    "        table.loc[name, \"S.S.U.N. (%)\"] = 100 * (is_sun & (novel.group != 1)).sum() / has_ehull.sum()"
   ]
  },
  {
   "cell_type": "code",
   "execution_count": 22,
   "metadata": {},
   "outputs": [],
   "source": [
    "table.to_csv(\"tables/mp_20_biternary_paper_summary_table.csv\")\n",
    "table.to_pickle(\"tables/mp_20_biternary_paper_summary_table.pkl\")"
   ]
  },
  {
   "cell_type": "code",
   "execution_count": 23,
   "metadata": {},
   "outputs": [],
   "source": [
    "max_subset=[\"Novelty (%)\", \"Structural\", \"Compositional\", \"Recall\", \"Precision\", \"S.S.U.N. (%)\", \"S.U.N. (%)\", \"Novel Template (%)\"]\n",
    "# -1 to exclude the MP-20 training set\n",
    "def highlight_max_value(s):\n",
    "    if s.name not in max_subset:\n",
    "        return ['' for _ in s]\n",
    "    is_max = s == s.max()\n",
    "    #is_max.iloc[-1] = False\n",
    "    return ['font-weight: bold' if v else '' for v in is_max]\n",
    "\n",
    "min_subset=[r\"$\\rho$\", \"$E$\", \"# Elements\", \"# DoF\", \"Space Group\", \"Elements\", \"P1 (%)\"]\n",
    "def highlight_min_value(s):\n",
    "    if s.name not in min_subset:\n",
    "        return ['' for _ in s]\n",
    "    is_min = s == s.min()\n",
    "    #is_min.iloc[-1] = False\n",
    "    return ['font-weight: bold' if v else '' for v in is_min]"
   ]
  },
  {
   "cell_type": "code",
   "execution_count": 25,
   "metadata": {},
   "outputs": [
    {
     "data": {
      "text/html": [
       "<style type=\"text/css\">\n",
       "</style>\n",
       "<table id=\"T_0bec5\">\n",
       "  <thead>\n",
       "    <tr>\n",
       "      <th class=\"blank level0\" >&nbsp;</th>\n",
       "      <th id=\"T_0bec5_level0_col0\" class=\"col_heading level0 col0\" >Novelty (%)</th>\n",
       "      <th id=\"T_0bec5_level0_col1\" class=\"col_heading level0 col1\" >Structural</th>\n",
       "      <th id=\"T_0bec5_level0_col2\" class=\"col_heading level0 col2\" >Compositional</th>\n",
       "      <th id=\"T_0bec5_level0_col3\" class=\"col_heading level0 col3\" >Recall</th>\n",
       "      <th id=\"T_0bec5_level0_col4\" class=\"col_heading level0 col4\" >Precision</th>\n",
       "      <th id=\"T_0bec5_level0_col5\" class=\"col_heading level0 col5\" >$\\rho$</th>\n",
       "      <th id=\"T_0bec5_level0_col6\" class=\"col_heading level0 col6\" >$E$</th>\n",
       "      <th id=\"T_0bec5_level0_col7\" class=\"col_heading level0 col7\" ># Elements</th>\n",
       "      <th id=\"T_0bec5_level0_col8\" class=\"col_heading level0 col8\" >S.U.N. (%)</th>\n",
       "      <th id=\"T_0bec5_level0_col9\" class=\"col_heading level0 col9\" >Novel Template (%)</th>\n",
       "      <th id=\"T_0bec5_level0_col10\" class=\"col_heading level0 col10\" >P1 (%)</th>\n",
       "      <th id=\"T_0bec5_level0_col11\" class=\"col_heading level0 col11\" >Space Group</th>\n",
       "      <th id=\"T_0bec5_level0_col12\" class=\"col_heading level0 col12\" >S.S.U.N. (%)</th>\n",
       "    </tr>\n",
       "    <tr>\n",
       "      <th class=\"index_name level0\" >Method</th>\n",
       "      <th class=\"blank col0\" >&nbsp;</th>\n",
       "      <th class=\"blank col1\" >&nbsp;</th>\n",
       "      <th class=\"blank col2\" >&nbsp;</th>\n",
       "      <th class=\"blank col3\" >&nbsp;</th>\n",
       "      <th class=\"blank col4\" >&nbsp;</th>\n",
       "      <th class=\"blank col5\" >&nbsp;</th>\n",
       "      <th class=\"blank col6\" >&nbsp;</th>\n",
       "      <th class=\"blank col7\" >&nbsp;</th>\n",
       "      <th class=\"blank col8\" >&nbsp;</th>\n",
       "      <th class=\"blank col9\" >&nbsp;</th>\n",
       "      <th class=\"blank col10\" >&nbsp;</th>\n",
       "      <th class=\"blank col11\" >&nbsp;</th>\n",
       "      <th class=\"blank col12\" >&nbsp;</th>\n",
       "    </tr>\n",
       "  </thead>\n",
       "  <tbody>\n",
       "    <tr>\n",
       "      <th id=\"T_0bec5_level0_row0\" class=\"row_heading level0 row0\" >WyckoffTransformer</th>\n",
       "      <td id=\"T_0bec5_row0_col0\" class=\"data row0 col0\" >89.37</td>\n",
       "      <td id=\"T_0bec5_row0_col1\" class=\"data row0 col1\" >nan</td>\n",
       "      <td id=\"T_0bec5_row0_col2\" class=\"data row0 col2\" >nan</td>\n",
       "      <td id=\"T_0bec5_row0_col3\" class=\"data row0 col3\" >nan</td>\n",
       "      <td id=\"T_0bec5_row0_col4\" class=\"data row0 col4\" >nan</td>\n",
       "      <td id=\"T_0bec5_row0_col5\" class=\"data row0 col5\" >nan</td>\n",
       "      <td id=\"T_0bec5_row0_col6\" class=\"data row0 col6\" >nan</td>\n",
       "      <td id=\"T_0bec5_row0_col7\" class=\"data row0 col7\" >nan</td>\n",
       "      <td id=\"T_0bec5_row0_col8\" class=\"data row0 col8\" >63.2</td>\n",
       "      <td id=\"T_0bec5_row0_col9\" class=\"data row0 col9\" >22.85</td>\n",
       "      <td id=\"T_0bec5_row0_col10\" class=\"data row0 col10\" >1.12</td>\n",
       "      <td id=\"T_0bec5_row0_col11\" class=\"data row0 col11\" >0.079</td>\n",
       "      <td id=\"T_0bec5_row0_col12\" class=\"data row0 col12\" >62.4</td>\n",
       "    </tr>\n",
       "    <tr>\n",
       "      <th id=\"T_0bec5_level0_row1\" class=\"row_heading level0 row1\" >WyCryst</th>\n",
       "      <td id=\"T_0bec5_row1_col0\" class=\"data row1 col0\" >61.71</td>\n",
       "      <td id=\"T_0bec5_row1_col1\" class=\"data row1 col1\" >nan</td>\n",
       "      <td id=\"T_0bec5_row1_col2\" class=\"data row1 col2\" >nan</td>\n",
       "      <td id=\"T_0bec5_row1_col3\" class=\"data row1 col3\" >nan</td>\n",
       "      <td id=\"T_0bec5_row1_col4\" class=\"data row1 col4\" >nan</td>\n",
       "      <td id=\"T_0bec5_row1_col5\" class=\"data row1 col5\" >nan</td>\n",
       "      <td id=\"T_0bec5_row1_col6\" class=\"data row1 col6\" >nan</td>\n",
       "      <td id=\"T_0bec5_row1_col7\" class=\"data row1 col7\" >nan</td>\n",
       "      <td id=\"T_0bec5_row1_col8\" class=\"data row1 col8\" >29.5</td>\n",
       "      <td id=\"T_0bec5_row1_col9\" class=\"data row1 col9\" >30.38</td>\n",
       "      <td id=\"T_0bec5_row1_col10\" class=\"data row1 col10\" >4.46</td>\n",
       "      <td id=\"T_0bec5_row1_col11\" class=\"data row1 col11\" >0.489</td>\n",
       "      <td id=\"T_0bec5_row1_col12\" class=\"data row1 col12\" >27.6</td>\n",
       "    </tr>\n",
       "    <tr>\n",
       "      <th id=\"T_0bec5_level0_row2\" class=\"row_heading level0 row2\" >WyCryst-chgnet</th>\n",
       "      <td id=\"T_0bec5_row2_col0\" class=\"data row2 col0\" >52.62</td>\n",
       "      <td id=\"T_0bec5_row2_col1\" class=\"data row2 col1\" >99.81</td>\n",
       "      <td id=\"T_0bec5_row2_col2\" class=\"data row2 col2\" >75.53</td>\n",
       "      <td id=\"T_0bec5_row2_col3\" class=\"data row2 col3\" >98.85</td>\n",
       "      <td id=\"T_0bec5_row2_col4\" class=\"data row2 col4\" >87.10</td>\n",
       "      <td id=\"T_0bec5_row2_col5\" class=\"data row2 col5\" >0.96</td>\n",
       "      <td id=\"T_0bec5_row2_col6\" class=\"data row2 col6\" >0.113</td>\n",
       "      <td id=\"T_0bec5_row2_col7\" class=\"data row2 col7\" >0.286</td>\n",
       "      <td id=\"T_0bec5_row2_col8\" class=\"data row2 col8\" >36.6</td>\n",
       "      <td id=\"T_0bec5_row2_col9\" class=\"data row2 col9\" >17.20</td>\n",
       "      <td id=\"T_0bec5_row2_col10\" class=\"data row2 col10\" >4.79</td>\n",
       "      <td id=\"T_0bec5_row2_col11\" class=\"data row2 col11\" >0.710</td>\n",
       "      <td id=\"T_0bec5_row2_col12\" class=\"data row2 col12\" >35.2</td>\n",
       "    </tr>\n",
       "  </tbody>\n",
       "</table>\n"
      ],
      "text/plain": [
       "<pandas.io.formats.style.Styler at 0x7f749df22740>"
      ]
     },
     "execution_count": 25,
     "metadata": {},
     "output_type": "execute_result"
    }
   ],
   "source": [
    "def prettify(table):\n",
    "    return table.style.format({\n",
    "    \"Novelty (%)\": \"{:.2f}\",\n",
    "    \"Structural\": \"{:.2f}\",\n",
    "    \"Compositional\": \"{:.2f}\",\n",
    "    \"Recall\": \"{:.2f}\",\n",
    "    \"Precision\": \"{:.2f}\",\n",
    "    r\"$\\rho$\": \"{:.2f}\",\n",
    "    \"$E$\": \"{:.3f}\",\n",
    "    \"# Elements\": \"{:.3f}\",\n",
    "    \"# DoF\": \"{:.3f}\",\n",
    "    \"Space Group\": \"{:.3f}\",\n",
    "    \"Elements\": \"{:.3f}\",\n",
    "    \"Novel Template (%)\": \"{:.2f}\",\n",
    "    \"P1 (%)\": \"{:.2f}\",\n",
    "    \"S.U.N. (%)\": \"{:.1f}\",\n",
    "    \"S.S.U.N. (%)\": \"{:.1f}\",\n",
    "})#.apply(highlight_max_value).apply(highlight_min_value)\n",
    "prettify(table)"
   ]
  },
  {
   "cell_type": "code",
   "execution_count": 18,
   "metadata": {},
   "outputs": [],
   "source": [
    "prettify(table.iloc[:, :9]).to_latex(\"tables/mp_20_biternary_summary_similarity_raw.tex\", siunitx=True, convert_css=True)\n",
    "prettify(table.iloc[:, 9:]).to_latex(\"tables/mp_20_biternary_summary_symmetry_raw.tex\", siunitx=True, convert_css=True)"
   ]
  }
 ],
 "metadata": {
  "kernelspec": {
   "display_name": "wyckofftransformer-FeCwefly-py3.10",
   "language": "python",
   "name": "python3"
  },
  "language_info": {
   "codemirror_mode": {
    "name": "ipython",
    "version": 3
   },
   "file_extension": ".py",
   "mimetype": "text/x-python",
   "name": "python",
   "nbconvert_exporter": "python",
   "pygments_lexer": "ipython3",
   "version": "3.10.12"
  }
 },
 "nbformat": 4,
 "nbformat_minor": 2
}
