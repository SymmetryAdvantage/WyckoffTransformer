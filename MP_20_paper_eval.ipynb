{
 "cells": [
  {
   "cell_type": "code",
   "execution_count": 1,
   "metadata": {},
   "outputs": [],
   "source": [
    "import pandas as pd\n",
    "from evaluation.generated_dataset import GeneratedDataset, load_all_from_config\n",
    "from evaluation.novelty import NoveltyFilter, filter_by_unique_structure"
   ]
  },
  {
   "cell_type": "code",
   "execution_count": 2,
   "metadata": {},
   "outputs": [],
   "source": [
    "all_datasets = load_all_from_config()"
   ]
  },
  {
   "cell_type": "code",
   "execution_count": 3,
   "metadata": {},
   "outputs": [],
   "source": [
    "novelty_reference = pd.concat([\n",
    "    all_datasets[('split', 'train')].data,\n",
    "    all_datasets[('split', 'val')].data], axis=0, verify_integrity=True)\n",
    "novelty_filter = NoveltyFilter(novelty_reference)"
   ]
  },
  {
   "cell_type": "code",
   "execution_count": 4,
   "metadata": {},
   "outputs": [
    {
     "ename": "NameError",
     "evalue": "name 'filter_by_unique' is not defined",
     "output_type": "error",
     "traceback": [
      "\u001b[0;31m---------------------------------------------------------------------------\u001b[0m",
      "\u001b[0;31mNameError\u001b[0m                                 Traceback (most recent call last)",
      "Cell \u001b[0;32mIn[4], line 4\u001b[0m\n\u001b[1;32m      1\u001b[0m \u001b[38;5;28;01mimport\u001b[39;00m \u001b[38;5;21;01mevaluation\u001b[39;00m\u001b[38;5;21;01m.\u001b[39;00m\u001b[38;5;21;01mstatistical_evaluator\u001b[39;00m\n\u001b[1;32m      2\u001b[0m \u001b[38;5;66;03m#import importlib\u001b[39;00m\n\u001b[1;32m      3\u001b[0m \u001b[38;5;66;03m#importlib.reload(evaluation.statistical_evaluator)\u001b[39;00m\n\u001b[0;32m----> 4\u001b[0m test_unique \u001b[38;5;241m=\u001b[39m \u001b[43mfilter_by_unique\u001b[49m(all_datasets[(\u001b[38;5;124m'\u001b[39m\u001b[38;5;124msplit\u001b[39m\u001b[38;5;124m'\u001b[39m, \u001b[38;5;124m'\u001b[39m\u001b[38;5;124mtest\u001b[39m\u001b[38;5;124m'\u001b[39m)]\u001b[38;5;241m.\u001b[39mdata)\n\u001b[1;32m      5\u001b[0m test_novel \u001b[38;5;241m=\u001b[39m novelty_filter\u001b[38;5;241m.\u001b[39mget_novel(test_unique)\n\u001b[1;32m      6\u001b[0m test_evaluator \u001b[38;5;241m=\u001b[39m evaluation\u001b[38;5;241m.\u001b[39mstatistical_evaluator\u001b[38;5;241m.\u001b[39mStatisticalEvaluator(test_novel)\n",
      "\u001b[0;31mNameError\u001b[0m: name 'filter_by_unique' is not defined"
     ]
    }
   ],
   "source": [
    "import evaluation.statistical_evaluator\n",
    "#import importlib\n",
    "#importlib.reload(evaluation.statistical_evaluator)\n",
    "test_unique = filter_by_unique_structure(all_datasets[('split', 'test')].data)\n",
    "test_novel = novelty_filter.get_novel(test_unique)\n",
    "test_evaluator = evaluation.statistical_evaluator.StatisticalEvaluator(test_novel)"
   ]
  },
  {
   "cell_type": "code",
   "execution_count": null,
   "metadata": {},
   "outputs": [],
   "source": []
  }
 ],
 "metadata": {
  "kernelspec": {
   "display_name": "wyckofftransformer-FeCwefly-py3.10",
   "language": "python",
   "name": "python3"
  },
  "language_info": {
   "codemirror_mode": {
    "name": "ipython",
    "version": 3
   },
   "file_extension": ".py",
   "mimetype": "text/x-python",
   "name": "python",
   "nbconvert_exporter": "python",
   "pygments_lexer": "ipython3",
   "version": "3.10.12"
  }
 },
 "nbformat": 4,
 "nbformat_minor": 2
}
