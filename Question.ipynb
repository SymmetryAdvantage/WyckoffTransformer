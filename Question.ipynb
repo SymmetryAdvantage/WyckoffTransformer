{
 "cells": [
  {
   "cell_type": "code",
   "execution_count": 20,
   "metadata": {},
   "outputs": [],
   "source": [
    "import pandas as pd\n",
    "data = pd.read_csv(\"cdvae/data/mp_20/train.csv\", index_col=\"material_id\")\n",
    "example = data.loc[\"mp-10225\"]"
   ]
  },
  {
   "cell_type": "code",
   "execution_count": 21,
   "metadata": {},
   "outputs": [],
   "source": [
    "from pymatgen.io.cif import CifParser\n",
    "structure = CifParser.from_str(example.cif).get_structures()[0]"
   ]
  },
  {
   "cell_type": "code",
   "execution_count": 22,
   "metadata": {},
   "outputs": [
    {
     "data": {
      "text/plain": [
       "Structure Summary\n",
       "Lattice\n",
       "    abc : 3.5716201619130863 3.5716201619130863 6.97969342\n",
       " angles : 75.17556991944059 75.17556991944059 59.99999698509774\n",
       " volume : 73.6656853419818\n",
       "      A : 1.6054381930987505 3.0567888530132663 -0.9138274986110453\n",
       "      B : 3.4527365789712863 -0.0 -0.9138274986110453\n",
       "      C : -0.0 -0.0 -6.97969342\n",
       "    pbc : True True True\n",
       "PeriodicSite: Na0 (Na) (0.8407, 0.5081, -3.803) [0.1662, 0.1662, 0.5014]\n",
       "PeriodicSite: V1 (V) (5.047, 3.05, -1.871) [0.9978, 0.9978, 0.006729]\n",
       "PeriodicSite: S2 (S) (3.023, 1.827, -2.536) [0.5977, 0.5977, 0.2068]\n",
       "PeriodicSite: S3 (S) (2.015, 1.218, -6.347) [0.3983, 0.3983, 0.8051]"
      ]
     },
     "execution_count": 22,
     "metadata": {},
     "output_type": "execute_result"
    }
   ],
   "source": [
    "structure"
   ]
  },
  {
   "cell_type": "code",
   "execution_count": 24,
   "metadata": {},
   "outputs": [
    {
     "data": {
      "text/plain": [
       "SymmetrizedStructure\n",
       "Full Formula (Na1 V1 S2)\n",
       "Reduced Formula: NaVS2\n",
       "Spacegroup: R3m (160)\n",
       "abc   :   3.571620   3.571620   6.979693\n",
       "angles:  75.175570  75.175570  59.999997\n",
       "Sites (4)\n",
       "  #  SP           a         b         c  Wyckoff\n",
       "---  ----  --------  --------  --------  ---------\n",
       "  0  Na    0.166212  0.166212  0.501364  1a\n",
       "  1  V     0.997757  0.997757  0.006729  1a\n",
       "  2  S     0.597725  0.597725  0.206825  1a\n",
       "  3  S     0.398306  0.398306  0.805082  1a"
      ]
     },
     "execution_count": 24,
     "metadata": {},
     "output_type": "execute_result"
    }
   ],
   "source": [
    "from pymatgen.symmetry.analyzer import SpacegroupAnalyzer\n",
    "SpacegroupAnalyzer(structure).get_symmetrized_structure()"
   ]
  },
  {
   "cell_type": "code",
   "execution_count": 25,
   "metadata": {},
   "outputs": [
    {
     "data": {
      "text/plain": [
       "-- Spacegroup --# 160 (R3m)--\n",
       "18c\tsite symm: 1\n",
       "9b\tsite symm: . . m\n",
       "3a\tsite symm: 3 m ."
      ]
     },
     "execution_count": 25,
     "metadata": {},
     "output_type": "execute_result"
    }
   ],
   "source": [
    "from pyxtal.symmetry import Group\n",
    "Group(160)"
   ]
  }
 ],
 "metadata": {
  "kernelspec": {
   "display_name": "wyckofftransformer-FeCwefly-py3.10",
   "language": "python",
   "name": "python3"
  },
  "language_info": {
   "codemirror_mode": {
    "name": "ipython",
    "version": 3
   },
   "file_extension": ".py",
   "mimetype": "text/x-python",
   "name": "python",
   "nbconvert_exporter": "python",
   "pygments_lexer": "ipython3",
   "version": "3.10.12"
  }
 },
 "nbformat": 4,
 "nbformat_minor": 2
}
