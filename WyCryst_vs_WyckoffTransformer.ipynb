{
 "cells": [
  {
   "cell_type": "code",
   "execution_count": 1,
   "metadata": {},
   "outputs": [],
   "source": [
    "from itertools import repeat\n",
    "from ast import literal_eval\n",
    "from pathlib import Path\n",
    "import logging\n",
    "import json\n",
    "import gzip\n",
    "import pandas as pd"
   ]
  },
  {
   "cell_type": "code",
   "execution_count": 2,
   "metadata": {},
   "outputs": [],
   "source": [
    "logger = logging.getLogger(__name__)"
   ]
  },
  {
   "cell_type": "code",
   "execution_count": 3,
   "metadata": {},
   "outputs": [],
   "source": [
    "wycryst_data_raw = pd.read_csv(Path(\"generated\", \"WyCryst_mp_20_biternary.csv\"), index_col=0,\n",
    "                            converters=dict(zip(\n",
    "                                (\"reconstructed_ratio1\", \"reconstructed_wyckoff\", \"str_wyckoff\", \"ter_sys\"),\n",
    "                                repeat(literal_eval, 4)\n",
    "                            )))"
   ]
  },
  {
   "cell_type": "code",
   "execution_count": 4,
   "metadata": {},
   "outputs": [
    {
     "data": {
      "text/html": [
       "<div>\n",
       "<style scoped>\n",
       "    .dataframe tbody tr th:only-of-type {\n",
       "        vertical-align: middle;\n",
       "    }\n",
       "\n",
       "    .dataframe tbody tr th {\n",
       "        vertical-align: top;\n",
       "    }\n",
       "\n",
       "    .dataframe thead th {\n",
       "        text-align: right;\n",
       "    }\n",
       "</style>\n",
       "<table border=\"1\" class=\"dataframe\">\n",
       "  <thead>\n",
       "    <tr style=\"text-align: right;\">\n",
       "      <th></th>\n",
       "      <th>n_element</th>\n",
       "      <th>reconstructed_formula</th>\n",
       "      <th>reconstructed_ratio</th>\n",
       "      <th>reconstructed_ratio1</th>\n",
       "      <th>reconstructed_wyckoff</th>\n",
       "      <th>reconstructed_sg</th>\n",
       "      <th>predicted_property</th>\n",
       "      <th>reconstructed_DoF</th>\n",
       "      <th>str_wyckoff</th>\n",
       "      <th>ter_sys</th>\n",
       "      <th>n_sites</th>\n",
       "      <th>oxid_test</th>\n",
       "    </tr>\n",
       "  </thead>\n",
       "  <tbody>\n",
       "    <tr>\n",
       "      <th>0</th>\n",
       "      <td>3</td>\n",
       "      <td>Nd2Al16Cu8</td>\n",
       "      <td>2168</td>\n",
       "      <td>[2.0, 16.0, 8.0]</td>\n",
       "      <td>{'Nd': ['2a'], 'Al': ['8i', '8j'], 'Cu': ['8f']}</td>\n",
       "      <td>139</td>\n",
       "      <td>NaN</td>\n",
       "      <td>2.0</td>\n",
       "      <td>{'Nd': ['2a'], 'Al': ['8i', '8j'], 'Cu': ['8f']}</td>\n",
       "      <td>[Nd, Al, Cu]</td>\n",
       "      <td>26.0</td>\n",
       "      <td>NaN</td>\n",
       "    </tr>\n",
       "    <tr>\n",
       "      <th>1</th>\n",
       "      <td>3</td>\n",
       "      <td>Li4Mn4Ir8</td>\n",
       "      <td>448</td>\n",
       "      <td>[4.0, 4.0, 8.0]</td>\n",
       "      <td>{'Li': ['4b'], 'Mn': ['4a'], 'Ir': ['8c']}</td>\n",
       "      <td>225</td>\n",
       "      <td>NaN</td>\n",
       "      <td>0.0</td>\n",
       "      <td>{'Li': ['4b'], 'Mn': ['4a'], 'Ir': ['8c']}</td>\n",
       "      <td>[Li, Mn, Ir]</td>\n",
       "      <td>16.0</td>\n",
       "      <td>False</td>\n",
       "    </tr>\n",
       "    <tr>\n",
       "      <th>4</th>\n",
       "      <td>3</td>\n",
       "      <td>Na8Bi8O12</td>\n",
       "      <td>8812</td>\n",
       "      <td>[8.0, 8.0, 12.0]</td>\n",
       "      <td>{'Na': ['2a', '2d', '4h'], 'Bi': ['4g', '4i'],...</td>\n",
       "      <td>12</td>\n",
       "      <td>NaN</td>\n",
       "      <td>9.0</td>\n",
       "      <td>{'Na': ['2a', '2d', '4h'], 'Bi': ['4g', '4i'],...</td>\n",
       "      <td>[Na, Bi, O]</td>\n",
       "      <td>28.0</td>\n",
       "      <td>NaN</td>\n",
       "    </tr>\n",
       "    <tr>\n",
       "      <th>5</th>\n",
       "      <td>3</td>\n",
       "      <td>In4Bi4S6</td>\n",
       "      <td>446</td>\n",
       "      <td>[4.0, 4.0, 6.0]</td>\n",
       "      <td>{'In': ['2a', '2e'], 'Bi': ['2e', '2e'], 'S': ...</td>\n",
       "      <td>11</td>\n",
       "      <td>NaN</td>\n",
       "      <td>12.0</td>\n",
       "      <td>{'In': ['2a', '2e'], 'Bi': ['2e', '2e'], 'S': ...</td>\n",
       "      <td>[In, Bi, S]</td>\n",
       "      <td>14.0</td>\n",
       "      <td>True</td>\n",
       "    </tr>\n",
       "    <tr>\n",
       "      <th>7</th>\n",
       "      <td>2</td>\n",
       "      <td>Ti4Cu16</td>\n",
       "      <td>416</td>\n",
       "      <td>[4.0, 16.0]</td>\n",
       "      <td>{'Ti': ['4c'], 'Cu': ['4c', '4c', '4c', '4c']}</td>\n",
       "      <td>62</td>\n",
       "      <td>NaN</td>\n",
       "      <td>10.0</td>\n",
       "      <td>{'Ti': ['4c'], 'Cu': ['4c', '4c', '4c', '4c']}</td>\n",
       "      <td>[Ti, Cu]</td>\n",
       "      <td>20.0</td>\n",
       "      <td>False</td>\n",
       "    </tr>\n",
       "  </tbody>\n",
       "</table>\n",
       "</div>"
      ],
      "text/plain": [
       "   n_element reconstructed_formula  reconstructed_ratio reconstructed_ratio1  \\\n",
       "0          3            Nd2Al16Cu8                 2168     [2.0, 16.0, 8.0]   \n",
       "1          3             Li4Mn4Ir8                  448      [4.0, 4.0, 8.0]   \n",
       "4          3             Na8Bi8O12                 8812     [8.0, 8.0, 12.0]   \n",
       "5          3              In4Bi4S6                  446      [4.0, 4.0, 6.0]   \n",
       "7          2               Ti4Cu16                  416          [4.0, 16.0]   \n",
       "\n",
       "                               reconstructed_wyckoff  reconstructed_sg  \\\n",
       "0   {'Nd': ['2a'], 'Al': ['8i', '8j'], 'Cu': ['8f']}               139   \n",
       "1         {'Li': ['4b'], 'Mn': ['4a'], 'Ir': ['8c']}               225   \n",
       "4  {'Na': ['2a', '2d', '4h'], 'Bi': ['4g', '4i'],...                12   \n",
       "5  {'In': ['2a', '2e'], 'Bi': ['2e', '2e'], 'S': ...                11   \n",
       "7     {'Ti': ['4c'], 'Cu': ['4c', '4c', '4c', '4c']}                62   \n",
       "\n",
       "   predicted_property  reconstructed_DoF  \\\n",
       "0                 NaN                2.0   \n",
       "1                 NaN                0.0   \n",
       "4                 NaN                9.0   \n",
       "5                 NaN               12.0   \n",
       "7                 NaN               10.0   \n",
       "\n",
       "                                         str_wyckoff       ter_sys  n_sites  \\\n",
       "0   {'Nd': ['2a'], 'Al': ['8i', '8j'], 'Cu': ['8f']}  [Nd, Al, Cu]     26.0   \n",
       "1         {'Li': ['4b'], 'Mn': ['4a'], 'Ir': ['8c']}  [Li, Mn, Ir]     16.0   \n",
       "4  {'Na': ['2a', '2d', '4h'], 'Bi': ['4g', '4i'],...   [Na, Bi, O]     28.0   \n",
       "5  {'In': ['2a', '2e'], 'Bi': ['2e', '2e'], 'S': ...   [In, Bi, S]     14.0   \n",
       "7     {'Ti': ['4c'], 'Cu': ['4c', '4c', '4c', '4c']}      [Ti, Cu]     20.0   \n",
       "\n",
       "  oxid_test  \n",
       "0       NaN  \n",
       "1     False  \n",
       "4       NaN  \n",
       "5      True  \n",
       "7     False  "
      ]
     },
     "execution_count": 4,
     "metadata": {},
     "output_type": "execute_result"
    }
   ],
   "source": [
    "wycryst_data_raw.head()"
   ]
  },
  {
   "cell_type": "code",
   "execution_count": 5,
   "metadata": {},
   "outputs": [],
   "source": [
    "def wycryst_to_pyxtal_dict(record):\n",
    "    species = []\n",
    "    all_sites = []\n",
    "    numIons = []\n",
    "    for reported_count, (element, sites) in zip(record[\"reconstructed_ratio1\"], record[\"reconstructed_wyckoff\"].items()):\n",
    "        counted_ions = 0\n",
    "        this_sites = []\n",
    "        for site in sites:\n",
    "            this_sites.append(site)\n",
    "            counted_ions += int(site[:-1])\n",
    "        if counted_ions != reported_count:\n",
    "            logging.warning(f\"Reported count {reported_count} does not match sum of site counts {counted_ions} for\"\n",
    "                f\" record {record.name} element {element}. Elements: {record[\"reconstructed_wyckoff\"].keys()}\")\n",
    "            return None\n",
    "        species.append(element)\n",
    "        all_sites.append(this_sites)\n",
    "        numIons.append(counted_ions)\n",
    "    return {\n",
    "        \"species\": species,\n",
    "        \"sites\": all_sites,\n",
    "        \"numIons\": numIons,\n",
    "        \"group\": record.reconstructed_sg\n",
    "    }"
   ]
  },
  {
   "cell_type": "code",
   "execution_count": 6,
   "metadata": {},
   "outputs": [
    {
     "name": "stderr",
     "output_type": "stream",
     "text": [
      "WARNING:root:Reported count 2.0 does not match sum of site counts 6 for record 26799 element Sm. Elements: dict_keys(['Sm'])\n",
      "WARNING:root:Reported count 21.0 does not match sum of site counts 3 for record 104326 element Sm. Elements: dict_keys(['Sm', 'Fe'])\n",
      "WARNING:root:Reported count 4.0 does not match sum of site counts 24 for record 109828 element I. Elements: dict_keys(['I'])\n",
      "WARNING:root:Reported count 9.0 does not match sum of site counts 6 for record 110735 element Ta. Elements: dict_keys(['Ta', 'Co'])\n",
      "WARNING:root:Reported count 2.0 does not match sum of site counts 6 for record 112170 element Sm. Elements: dict_keys(['Sm'])\n",
      "WARNING:root:Reported count 3.0 does not match sum of site counts 9 for record 113562 element Se. Elements: dict_keys(['Zn', 'Se'])\n",
      "WARNING:root:Reported count 21.0 does not match sum of site counts 6 for record 130567 element Sm. Elements: dict_keys(['Sm', 'Co'])\n",
      "WARNING:root:Reported count 8.0 does not match sum of site counts 24 for record 138285 element I. Elements: dict_keys(['I'])\n"
     ]
    }
   ],
   "source": [
    "generated_wycryst = wycryst_data_raw.apply(wycryst_to_pyxtal_dict, axis=1).dropna().tolist()"
   ]
  },
  {
   "cell_type": "code",
   "execution_count": 7,
   "metadata": {},
   "outputs": [],
   "source": [
    "with gzip.open(Path(\"generated\", \"AI4AM_mp_20_biternary.json.gz\"), \"rt\") as f:\n",
    "    generated_wyckoff_transformer = json.load(f)"
   ]
  },
  {
   "cell_type": "code",
   "execution_count": 8,
   "metadata": {},
   "outputs": [
    {
     "name": "stdout",
     "output_type": "stream",
     "text": [
      "Test novelty:  0.9598201742062377\n",
      "WyCryst novelty:  0.29177947812438687\n",
      "WyckoffTransformer novelty:  0.8648\n"
     ]
    }
   ],
   "source": [
    "import pickle\n",
    "from wyckoff_transformer.evaluation import timed_smact_validity_from_record, StatisticalEvaluator\n",
    "with gzip.open(Path(\"cache\", \"mp_20_biternary\", \"data.pkl.gz\"), \"rb\") as f:\n",
    "    datasets_pd = pickle.load(f)\n",
    "evaluator = StatisticalEvaluator(datasets_pd[\"test\"], pd.concat([datasets_pd[\"train\"], datasets_pd[\"val\"]], axis=0))\n",
    "print(\"Test novelty: \",evaluator.get_test_novelty())\n",
    "print(\"WyCryst novelty: \", evaluator.count_novel(generated_wycryst))\n",
    "print(\"WyckoffTransformer novelty: \", evaluator.count_novel(generated_wyckoff_transformer))\n",
    "novel_wycryst = evaluator.get_novel(generated_wycryst)\n",
    "novel_wyckoff_transformer = evaluator.get_novel(generated_wyckoff_transformer)"
   ]
  },
  {
   "cell_type": "code",
   "execution_count": 9,
   "metadata": {},
   "outputs": [],
   "source": [
    "novel_evaluator = StatisticalEvaluator(evaluator.get_novel_dataframe(datasets_pd[\"test\"]),\n",
    "                                       pd.concat([datasets_pd[\"train\"], datasets_pd[\"val\"]], axis=0))"
   ]
  },
  {
   "cell_type": "code",
   "execution_count": 15,
   "metadata": {},
   "outputs": [
    {
     "name": "stdout",
     "output_type": "stream",
     "text": [
      "WyCryst\n",
      "Num sites KS:  KstestResult(statistic=0.03975535196011648, pvalue=1.4236638119437514e-09, statistic_location=4, statistic_sign=1)\n",
      "Num elements KS : KstestResult(statistic=0.03838199508352241, pvalue=5.947351369026711e-09, statistic_location=2, statistic_sign=-1)\n"
     ]
    },
    {
     "name": "stderr",
     "output_type": "stream",
     "text": [
      "WARNING:wyckoff_transformer.evaluation:Generated dataset has extra space groups compared to test\n"
     ]
    },
    {
     "name": "stdout",
     "output_type": "stream",
     "text": [
      "DoF KS:  KstestResult(statistic=0.04117394256950424, pvalue=3.0839361418463316e-10, statistic_location=7, statistic_sign=1)\n",
      "SG chi2: statiscic=703.5853771023179, pvalue=1.6072519094623623e-73\n",
      "WyckoffTransformer\n",
      "Num sites KS:  KstestResult(statistic=0.02380339983141332, pvalue=0.017604870205337915, statistic_location=4, statistic_sign=1)\n",
      "Num elements KS : KstestResult(statistic=0.0257, pvalue=0.008049610835145911, statistic_location=3, statistic_sign=1)\n",
      "DoF KS:  KstestResult(statistic=0.0188548468670975, pvalue=0.10231187840614872, statistic_location=2, statistic_sign=1)\n",
      "SG chi2: statiscic=152.11975499959556, pvalue=0.3691994206142184\n",
      "WyCryst Novel\n",
      "Num sites KS:  KstestResult(statistic=0.2796992422819146, pvalue=0.0, statistic_location=3, statistic_sign=1)\n",
      "Num elements KS : KstestResult(statistic=0.004451737339108447, pvalue=0.9998335648003727, statistic_location=2, statistic_sign=1)\n",
      "DoF KS:  KstestResult(statistic=0.20917388936306303, pvalue=6.022183272547049e-221, statistic_location=2, statistic_sign=1)\n",
      "SG chi2: statiscic=2030.4292390338676, pvalue=0.0\n",
      "WyckoffTransformer Novel\n"
     ]
    },
    {
     "name": "stderr",
     "output_type": "stream",
     "text": [
      "WARNING:wyckoff_transformer.evaluation:Generated dataset has extra space groups compared to test\n"
     ]
    },
    {
     "name": "stdout",
     "output_type": "stream",
     "text": [
      "Num sites KS:  KstestResult(statistic=0.039500254595520624, pvalue=9.854143711269751e-06, statistic_location=4, statistic_sign=1)\n",
      "Num elements KS : KstestResult(statistic=0.02971785383903793, pvalue=0.0019699337641728505, statistic_location=3, statistic_sign=1)\n",
      "DoF KS:  KstestResult(statistic=0.042402857967930065, pvalue=1.5342722610037222e-06, statistic_location=2, statistic_sign=1)\n",
      "SG chi2: statiscic=215.41483375782673, pvalue=0.00020286983495509275\n"
     ]
    }
   ],
   "source": [
    "datasets = {\n",
    "    \"WyCryst\": (generated_wycryst, evaluator),\n",
    "    \"WyckoffTransformer\": (generated_wyckoff_transformer, evaluator),\n",
    "    \"WyCryst Novel\": (novel_wycryst, novel_evaluator),\n",
    "    \"WyckoffTransformer Novel\": (novel_wyckoff_transformer, novel_evaluator)}\n",
    "for name, (dataset, this_evaluator) in datasets.items():\n",
    "    print(name)\n",
    "    print(\"Num sites KS: \", this_evaluator.get_num_sites_ks(dataset))\n",
    "    print(\"Num elements KS :\", this_evaluator.get_num_elements_ks(dataset))\n",
    "    print(\"DoF KS: \", this_evaluator.get_dof_ks(dataset))\n",
    "    sg_chi2 = this_evaluator.get_sg_chi2(dataset, sample_size=\"test\")\n",
    "    print(f\"SG chi2: statistic={sg_chi2.statistic}, pvalue={sg_chi2.pvalue}\")"
   ]
  },
  {
   "cell_type": "code",
   "execution_count": 11,
   "metadata": {},
   "outputs": [],
   "source": [
    "train_sg = set(datasets_pd[\"train\"].spacegroup_number)\n",
    "train_sg.update(datasets_pd[\"val\"].spacegroup_number)\n",
    "test_sg = frozenset(datasets_pd[\"test\"].spacegroup_number)"
   ]
  },
  {
   "cell_type": "code",
   "execution_count": 12,
   "metadata": {},
   "outputs": [
    {
     "data": {
      "text/plain": [
       "(169, 148, 145)"
      ]
     },
     "execution_count": 12,
     "metadata": {},
     "output_type": "execute_result"
    }
   ],
   "source": [
    "len(train_sg), len(test_sg), len(train_sg & test_sg)"
   ]
  }
 ],
 "metadata": {
  "kernelspec": {
   "display_name": "wyckofftransformer-FeCwefly-py3.12",
   "language": "python",
   "name": "python3"
  },
  "language_info": {
   "codemirror_mode": {
    "name": "ipython",
    "version": 3
   },
   "file_extension": ".py",
   "mimetype": "text/x-python",
   "name": "python",
   "nbconvert_exporter": "python",
   "pygments_lexer": "ipython3",
   "version": "3.12.3"
  }
 },
 "nbformat": 4,
 "nbformat_minor": 2
}
