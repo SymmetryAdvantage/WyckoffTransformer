{
 "cells": [
  {
   "cell_type": "code",
   "execution_count": 1,
   "metadata": {},
   "outputs": [],
   "source": [
    "from itertools import repeat\n",
    "from ast import literal_eval\n",
    "from pathlib import Path\n",
    "import json\n",
    "import pandas as pd"
   ]
  },
  {
   "cell_type": "code",
   "execution_count": 2,
   "metadata": {},
   "outputs": [],
   "source": [
    "import gzip\n",
    "import pickle\n",
    "from wyckoff_transformer.evaluation import StatisticalEvaluator\n",
    "with gzip.open(Path(\"cache\", \"mp_20_biternary\", \"data.pkl.gz\"), \"rb\") as f:\n",
    "    datasets_pd = pickle.load(f)\n",
    "evaluator = StatisticalEvaluator(datasets_pd[\"test\"], pd.concat([datasets_pd[\"train\"], datasets_pd[\"val\"]], axis=0))"
   ]
  },
  {
   "cell_type": "code",
   "execution_count": 3,
   "metadata": {},
   "outputs": [],
   "source": [
    "GENERATED_PATH = Path(\"generated\")\n",
    "wycryst_data_raw = pd.read_csv(GENERATED_PATH / \"WyCryst_mp_20_biternary.csv\", index_col=0,\n",
    "                            converters=dict(zip(\n",
    "                                (\"reconstructed_ratio1\", \"reconstructed_wyckoff\", \"str_wyckoff\", \"ter_sys\"),\n",
    "                                repeat(literal_eval, 4)\n",
    "                            )))"
   ]
  },
  {
   "cell_type": "code",
   "execution_count": 4,
   "metadata": {},
   "outputs": [
    {
     "name": "stderr",
     "output_type": "stream",
     "text": [
      "WARNING:root:Reported count 2.000000 does not match sum of site counts 6 for record 26799 element Sm. Elements: dict_keys(['Sm'])\n",
      "WARNING:root:Reported count 21.000000 does not match sum of site counts 3 for record 104326 element Sm. Elements: dict_keys(['Sm', 'Fe'])\n",
      "WARNING:root:Reported count 4.000000 does not match sum of site counts 24 for record 109828 element I. Elements: dict_keys(['I'])\n",
      "WARNING:root:Reported count 9.000000 does not match sum of site counts 6 for record 110735 element Ta. Elements: dict_keys(['Ta', 'Co'])\n",
      "WARNING:root:Reported count 2.000000 does not match sum of site counts 6 for record 112170 element Sm. Elements: dict_keys(['Sm'])\n",
      "WARNING:root:Reported count 3.000000 does not match sum of site counts 9 for record 113562 element Se. Elements: dict_keys(['Zn', 'Se'])\n",
      "WARNING:root:Reported count 21.000000 does not match sum of site counts 6 for record 130567 element Sm. Elements: dict_keys(['Sm', 'Co'])\n",
      "WARNING:root:Reported count 8.000000 does not match sum of site counts 24 for record 138285 element I. Elements: dict_keys(['I'])\n"
     ]
    }
   ],
   "source": [
    "from wyckoff_transformer.evaluation import wycryst_to_pyxtal_dict\n",
    "\n",
    "def check_novelty_wycryst(record):\n",
    "    pyxtal_dict = wycryst_to_pyxtal_dict(record)\n",
    "    if pyxtal_dict is None:\n",
    "        return False\n",
    "    return evaluator.generated_to_fingerprint(pyxtal_dict) not in evaluator.train_fingerprints\n",
    "novel_wycryst_pd = wycryst_data_raw[wycryst_data_raw.apply(check_novelty_wycryst, axis=1)]\n",
    "novel_wycryst_pd.to_csv(GENERATED_PATH / \"WyCryst_novel_mp_20_biternary.csv.gz\")"
   ]
  },
  {
   "cell_type": "code",
   "execution_count": 5,
   "metadata": {},
   "outputs": [
    {
     "name": "stderr",
     "output_type": "stream",
     "text": [
      "WARNING:root:Reported count 2.000000 does not match sum of site counts 6 for record 26799 element Sm. Elements: dict_keys(['Sm'])\n",
      "WARNING:root:Reported count 21.000000 does not match sum of site counts 3 for record 104326 element Sm. Elements: dict_keys(['Sm', 'Fe'])\n",
      "WARNING:root:Reported count 4.000000 does not match sum of site counts 24 for record 109828 element I. Elements: dict_keys(['I'])\n",
      "WARNING:root:Reported count 9.000000 does not match sum of site counts 6 for record 110735 element Ta. Elements: dict_keys(['Ta', 'Co'])\n",
      "WARNING:root:Reported count 2.000000 does not match sum of site counts 6 for record 112170 element Sm. Elements: dict_keys(['Sm'])\n",
      "WARNING:root:Reported count 3.000000 does not match sum of site counts 9 for record 113562 element Se. Elements: dict_keys(['Zn', 'Se'])\n",
      "WARNING:root:Reported count 21.000000 does not match sum of site counts 6 for record 130567 element Sm. Elements: dict_keys(['Sm', 'Co'])\n",
      "WARNING:root:Reported count 8.000000 does not match sum of site counts 24 for record 138285 element I. Elements: dict_keys(['I'])\n"
     ]
    }
   ],
   "source": [
    "generated_wycryst = wycryst_data_raw.apply(wycryst_to_pyxtal_dict, axis=1).dropna()"
   ]
  },
  {
   "cell_type": "code",
   "execution_count": 6,
   "metadata": {},
   "outputs": [],
   "source": [
    "with gzip.open(GENERATED_PATH / \"AI4AM_mp_20_biternary.json.gz\", \"rt\") as f:\n",
    "    generated_wyckoff_transformer = json.load(f)"
   ]
  },
  {
   "cell_type": "code",
   "execution_count": 7,
   "metadata": {},
   "outputs": [
    {
     "name": "stdout",
     "output_type": "stream",
     "text": [
      "Test novelty:  0.9598201742062377\n",
      "WyCryst novelty:  0.29177947812438687\n",
      "WyckoffTransformer novelty:  0.8648\n"
     ]
    }
   ],
   "source": [
    "import pickle\n",
    "from wyckoff_transformer.evaluation import (\n",
    "    timed_smact_validity_from_record, StatisticalEvaluator,\n",
    "    smac_validity_from_counter, generated_to_fingerprint)\n",
    "\n",
    "print(\"Test novelty: \",evaluator.get_test_novelty())\n",
    "print(\"WyCryst novelty: \", evaluator.count_novel(generated_wycryst))\n",
    "print(\"WyckoffTransformer novelty: \", evaluator.count_novel(generated_wyckoff_transformer))\n",
    "novel_wycryst = evaluator.get_novel(generated_wycryst)\n",
    "novel_wyckoff_transformer = evaluator.get_novel(generated_wyckoff_transformer)\n",
    "with gzip.open(GENERATED_PATH / \"AI4AM_novel_mp_20_biternary.json.gz\", \"wt\") as f:\n",
    "    json.dump(novel_wyckoff_transformer, f)"
   ]
  },
  {
   "cell_type": "code",
   "execution_count": 8,
   "metadata": {},
   "outputs": [],
   "source": [
    "novel_evaluator = StatisticalEvaluator(evaluator.get_novel_dataframe(datasets_pd[\"test\"]),\n",
    "                                       pd.concat([datasets_pd[\"train\"], datasets_pd[\"val\"]], axis=0))"
   ]
  },
  {
   "cell_type": "code",
   "execution_count": 9,
   "metadata": {},
   "outputs": [
    {
     "name": "stdout",
     "output_type": "stream",
     "text": [
      "Test SMAC-T:  0.8981455465018263\n",
      "WyCryst\n",
      "SMAC-T validity:  0.8373454973513832\n",
      "Num sites KS:  KstestResult(statistic=0.03975535196011648, pvalue=1.4236638119437514e-09, statistic_location=4, statistic_sign=1)\n",
      "Num elements KS : KstestResult(statistic=0.03838199508352241, pvalue=5.947351369026711e-09, statistic_location=2, statistic_sign=-1)\n",
      "DoF KS:  KstestResult(statistic=0.04117394256950424, pvalue=3.0839361418463316e-10, statistic_location=7, statistic_sign=1)\n",
      "SG chi2: statistic=703.5853771023179, pvalue=1.6072519094623623e-73\n",
      "WyckoffTransformer\n"
     ]
    },
    {
     "name": "stderr",
     "output_type": "stream",
     "text": [
      "WARNING:wyckoff_transformer.evaluation:Generated dataset has extra space groups compared to test\n"
     ]
    },
    {
     "name": "stdout",
     "output_type": "stream",
     "text": [
      "SMAC-T validity:  0.8063\n",
      "Num sites KS:  KstestResult(statistic=0.02380339983141332, pvalue=0.017604870205337915, statistic_location=4, statistic_sign=1)\n",
      "Num elements KS : KstestResult(statistic=0.0257, pvalue=0.008049610835145911, statistic_location=3, statistic_sign=1)\n",
      "DoF KS:  KstestResult(statistic=0.0188548468670975, pvalue=0.10231187840614872, statistic_location=2, statistic_sign=1)\n",
      "SG chi2: statistic=152.11975499959556, pvalue=0.3691994206142184\n",
      "WyCryst Novel\n",
      "SMAC-T validity:  0.7335597095212479\n",
      "Num sites KS:  KstestResult(statistic=0.2796992422819146, pvalue=0.0, statistic_location=3, statistic_sign=1)\n",
      "Num elements KS : KstestResult(statistic=0.004451737339108447, pvalue=0.9998335648003727, statistic_location=2, statistic_sign=1)\n",
      "DoF KS:  KstestResult(statistic=0.20917388936306303, pvalue=6.022183272547049e-221, statistic_location=2, statistic_sign=1)\n",
      "SG chi2: statistic=2030.4292390338676, pvalue=0.0\n",
      "WyckoffTransformer Novel\n"
     ]
    },
    {
     "name": "stderr",
     "output_type": "stream",
     "text": [
      "WARNING:wyckoff_transformer.evaluation:Generated dataset has extra space groups compared to test\n"
     ]
    },
    {
     "name": "stdout",
     "output_type": "stream",
     "text": [
      "SMAC-T validity:  0.7972941720629048\n",
      "Num sites KS:  KstestResult(statistic=0.039500254595520624, pvalue=9.854143711269751e-06, statistic_location=4, statistic_sign=1)\n",
      "Num elements KS : KstestResult(statistic=0.02971785383903793, pvalue=0.0019699337641728505, statistic_location=3, statistic_sign=1)\n",
      "DoF KS:  KstestResult(statistic=0.042402857967930065, pvalue=1.5342722610037222e-06, statistic_location=2, statistic_sign=1)\n",
      "SG chi2: statistic=215.41483375782673, pvalue=0.00020286983495509275\n"
     ]
    }
   ],
   "source": [
    "smact_validity_test = sum(map(smac_validity_from_counter, datasets_pd[\"test\"][\"composition\"]))/len(datasets_pd[\"test\"])\n",
    "print(\"Test SMAC-T: \", smact_validity_test)\n",
    "\n",
    "datasets = {\n",
    "    \"WyCryst\": (generated_wycryst, evaluator),\n",
    "    \"WyckoffTransformer\": (generated_wyckoff_transformer, evaluator),\n",
    "    \"WyCryst Novel\": (novel_wycryst, novel_evaluator),\n",
    "    \"WyckoffTransformer Novel\": (novel_wyckoff_transformer, novel_evaluator)}\n",
    "for name, (dataset, this_evaluator) in datasets.items():\n",
    "    print(name)\n",
    "    smact_validity = sum(map(timed_smact_validity_from_record, dataset))/len(dataset)\n",
    "    print(\"SMAC-T validity: \", smact_validity)\n",
    "    print(\"Num sites KS: \", this_evaluator.get_num_sites_ks(dataset))\n",
    "    print(\"Num elements KS :\", this_evaluator.get_num_elements_ks(dataset))\n",
    "    print(\"DoF KS: \", this_evaluator.get_dof_ks(dataset))\n",
    "    sg_chi2 = this_evaluator.get_sg_chi2(dataset, sample_size=\"test\")\n",
    "    print(f\"SG chi2: statistic={sg_chi2.statistic}, pvalue={sg_chi2.pvalue}\")"
   ]
  },
  {
   "cell_type": "code",
   "execution_count": 10,
   "metadata": {},
   "outputs": [],
   "source": [
    "train_sg = set(datasets_pd[\"train\"].spacegroup_number)\n",
    "train_sg.update(datasets_pd[\"val\"].spacegroup_number)\n",
    "test_sg = frozenset(datasets_pd[\"test\"].spacegroup_number)"
   ]
  },
  {
   "cell_type": "code",
   "execution_count": 11,
   "metadata": {},
   "outputs": [
    {
     "data": {
      "text/plain": [
       "(169, 148, 145)"
      ]
     },
     "execution_count": 11,
     "metadata": {},
     "output_type": "execute_result"
    }
   ],
   "source": [
    "len(train_sg), len(test_sg), len(train_sg & test_sg)"
   ]
  }
 ],
 "metadata": {
  "kernelspec": {
   "display_name": "wyckofftransformer-FeCwefly-py3.12",
   "language": "python",
   "name": "python3"
  },
  "language_info": {
   "codemirror_mode": {
    "name": "ipython",
    "version": 3
   },
   "file_extension": ".py",
   "mimetype": "text/x-python",
   "name": "python",
   "nbconvert_exporter": "python",
   "pygments_lexer": "ipython3",
   "version": "3.12.3"
  }
 },
 "nbformat": 4,
 "nbformat_minor": 2
}
