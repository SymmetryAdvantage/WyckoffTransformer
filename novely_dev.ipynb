{
 "cells": [
  {
   "cell_type": "code",
   "execution_count": 1,
   "metadata": {},
   "outputs": [],
   "source": [
    "from evaluation.generated_dataset import load_WyCryst_csv, GeneratedDataset"
   ]
  },
  {
   "cell_type": "code",
   "execution_count": 2,
   "metadata": {},
   "outputs": [
    {
     "name": "stderr",
     "output_type": "stream",
     "text": [
      "WARNING:root:Reported count 2.000000 does not match sum of site counts 6 for record 26799 element Sm. Elements: dict_keys(['Sm'])\n",
      "WARNING:root:Reported count 21.000000 does not match sum of site counts 3 for record 104326 element Sm. Elements: dict_keys(['Sm', 'Fe'])\n",
      "WARNING:root:Reported count 4.000000 does not match sum of site counts 24 for record 109828 element I. Elements: dict_keys(['I'])\n",
      "WARNING:root:Reported count 9.000000 does not match sum of site counts 6 for record 110735 element Ta. Elements: dict_keys(['Ta', 'Co'])\n",
      "WARNING:root:Reported count 2.000000 does not match sum of site counts 6 for record 112170 element Sm. Elements: dict_keys(['Sm'])\n",
      "WARNING:root:Reported count 3.000000 does not match sum of site counts 9 for record 113562 element Se. Elements: dict_keys(['Zn', 'Se'])\n",
      "WARNING:root:Reported count 21.000000 does not match sum of site counts 6 for record 130567 element Sm. Elements: dict_keys(['Sm', 'Co'])\n",
      "WARNING:root:Reported count 8.000000 does not match sum of site counts 24 for record 138285 element I. Elements: dict_keys(['I'])\n"
     ]
    }
   ],
   "source": [
    "wtt=GeneratedDataset.from_transformations((\"WyCryst\",), dataset=\"mp_20_biternary\")"
   ]
  },
  {
   "cell_type": "code",
   "execution_count": 3,
   "metadata": {},
   "outputs": [
    {
     "data": {
      "text/html": [
       "<div>\n",
       "<style scoped>\n",
       "    .dataframe tbody tr th:only-of-type {\n",
       "        vertical-align: middle;\n",
       "    }\n",
       "\n",
       "    .dataframe tbody tr th {\n",
       "        vertical-align: top;\n",
       "    }\n",
       "\n",
       "    .dataframe thead th {\n",
       "        text-align: right;\n",
       "    }\n",
       "</style>\n",
       "<table border=\"1\" class=\"dataframe\">\n",
       "  <thead>\n",
       "    <tr style=\"text-align: right;\">\n",
       "      <th></th>\n",
       "      <th>species</th>\n",
       "      <th>sites</th>\n",
       "      <th>numIons</th>\n",
       "      <th>group</th>\n",
       "      <th>site_symmetries</th>\n",
       "      <th>elements</th>\n",
       "      <th>multiplicity</th>\n",
       "      <th>wyckoff_letters</th>\n",
       "      <th>sites_enumeration</th>\n",
       "      <th>spacegroup_number</th>\n",
       "      <th>sites_enumeration_augmented</th>\n",
       "      <th>corrected_chgnet_ehull</th>\n",
       "    </tr>\n",
       "  </thead>\n",
       "  <tbody>\n",
       "    <tr>\n",
       "      <th>0</th>\n",
       "      <td>[Nd, Al, Cu]</td>\n",
       "      <td>[[2a], [8i, 8j], [8f]]</td>\n",
       "      <td>[2, 16, 8]</td>\n",
       "      <td>139</td>\n",
       "      <td>[4/mmm, m2m., m2m., ..2/m]</td>\n",
       "      <td>[Nd, Al, Al, Cu]</td>\n",
       "      <td>[2, 8, 8, 8]</td>\n",
       "      <td>[a, i, j, f]</td>\n",
       "      <td>[0, 0, 1, 0]</td>\n",
       "      <td>139</td>\n",
       "      <td>((1, 1, 0, 0), (0, 0, 1, 0))</td>\n",
       "      <td>-0.003829</td>\n",
       "    </tr>\n",
       "    <tr>\n",
       "      <th>1</th>\n",
       "      <td>[Li, Mn, Ir]</td>\n",
       "      <td>[[4b], [4a], [8c]]</td>\n",
       "      <td>[4, 4, 8]</td>\n",
       "      <td>225</td>\n",
       "      <td>[m-3m, m-3m, -43m]</td>\n",
       "      <td>[Li, Mn, Ir]</td>\n",
       "      <td>[4, 4, 8]</td>\n",
       "      <td>[b, a, c]</td>\n",
       "      <td>[1, 0, 0]</td>\n",
       "      <td>225</td>\n",
       "      <td>((1, 0, 0), (0, 1, 0))</td>\n",
       "      <td>-0.000484</td>\n",
       "    </tr>\n",
       "    <tr>\n",
       "      <th>4</th>\n",
       "      <td>[Na, Bi, O]</td>\n",
       "      <td>[[2a, 2d, 4h], [4g, 4i], [4i, 8j]]</td>\n",
       "      <td>[8, 8, 12]</td>\n",
       "      <td>12</td>\n",
       "      <td>[2/m, 2/m, 2, 2, m, m, 1]</td>\n",
       "      <td>[Na, Na, Na, Bi, Bi, O, O]</td>\n",
       "      <td>[2, 2, 4, 4, 4, 4, 8]</td>\n",
       "      <td>[a, d, h, g, i, i, j]</td>\n",
       "      <td>[0, 3, 1, 0, 0, 0, 0]</td>\n",
       "      <td>12</td>\n",
       "      <td>((0, 3, 1, 0, 0, 0, 0), (3, 0, 0, 1, 0, 0, 0),...</td>\n",
       "      <td>0.032536</td>\n",
       "    </tr>\n",
       "    <tr>\n",
       "      <th>5</th>\n",
       "      <td>[In, Bi, S]</td>\n",
       "      <td>[[2a, 2e], [2e, 2e], [2e, 2e, 2e]]</td>\n",
       "      <td>[4, 4, 6]</td>\n",
       "      <td>11</td>\n",
       "      <td>[-1, m, m, m, m, m, m]</td>\n",
       "      <td>[In, In, Bi, Bi, S, S, S]</td>\n",
       "      <td>[2, 2, 2, 2, 2, 2, 2]</td>\n",
       "      <td>[a, e, e, e, e, e, e]</td>\n",
       "      <td>[0, 0, 0, 0, 0, 0, 0]</td>\n",
       "      <td>11</td>\n",
       "      <td>((3, 0, 0, 0, 0, 0, 0), (0, 0, 0, 0, 0, 0, 0),...</td>\n",
       "      <td>-0.003587</td>\n",
       "    </tr>\n",
       "    <tr>\n",
       "      <th>7</th>\n",
       "      <td>[Ti, Cu]</td>\n",
       "      <td>[[4c], [4c, 4c, 4c, 4c]]</td>\n",
       "      <td>[4, 16]</td>\n",
       "      <td>62</td>\n",
       "      <td>[.m., .m., .m., .m., .m.]</td>\n",
       "      <td>[Ti, Cu, Cu, Cu, Cu]</td>\n",
       "      <td>[4, 4, 4, 4, 4]</td>\n",
       "      <td>[c, c, c, c, c]</td>\n",
       "      <td>[0, 0, 0, 0, 0]</td>\n",
       "      <td>62</td>\n",
       "      <td>((0, 0, 0, 0, 0))</td>\n",
       "      <td>-0.011174</td>\n",
       "    </tr>\n",
       "  </tbody>\n",
       "</table>\n",
       "</div>"
      ],
      "text/plain": [
       "        species                               sites     numIons  group  \\\n",
       "0  [Nd, Al, Cu]              [[2a], [8i, 8j], [8f]]  [2, 16, 8]    139   \n",
       "1  [Li, Mn, Ir]                  [[4b], [4a], [8c]]   [4, 4, 8]    225   \n",
       "4   [Na, Bi, O]  [[2a, 2d, 4h], [4g, 4i], [4i, 8j]]  [8, 8, 12]     12   \n",
       "5   [In, Bi, S]  [[2a, 2e], [2e, 2e], [2e, 2e, 2e]]   [4, 4, 6]     11   \n",
       "7      [Ti, Cu]            [[4c], [4c, 4c, 4c, 4c]]     [4, 16]     62   \n",
       "\n",
       "              site_symmetries                    elements  \\\n",
       "0  [4/mmm, m2m., m2m., ..2/m]            [Nd, Al, Al, Cu]   \n",
       "1          [m-3m, m-3m, -43m]                [Li, Mn, Ir]   \n",
       "4   [2/m, 2/m, 2, 2, m, m, 1]  [Na, Na, Na, Bi, Bi, O, O]   \n",
       "5      [-1, m, m, m, m, m, m]   [In, In, Bi, Bi, S, S, S]   \n",
       "7   [.m., .m., .m., .m., .m.]        [Ti, Cu, Cu, Cu, Cu]   \n",
       "\n",
       "            multiplicity        wyckoff_letters      sites_enumeration  \\\n",
       "0           [2, 8, 8, 8]           [a, i, j, f]           [0, 0, 1, 0]   \n",
       "1              [4, 4, 8]              [b, a, c]              [1, 0, 0]   \n",
       "4  [2, 2, 4, 4, 4, 4, 8]  [a, d, h, g, i, i, j]  [0, 3, 1, 0, 0, 0, 0]   \n",
       "5  [2, 2, 2, 2, 2, 2, 2]  [a, e, e, e, e, e, e]  [0, 0, 0, 0, 0, 0, 0]   \n",
       "7        [4, 4, 4, 4, 4]        [c, c, c, c, c]        [0, 0, 0, 0, 0]   \n",
       "\n",
       "   spacegroup_number                        sites_enumeration_augmented  \\\n",
       "0                139                       ((1, 1, 0, 0), (0, 0, 1, 0))   \n",
       "1                225                             ((1, 0, 0), (0, 1, 0))   \n",
       "4                 12  ((0, 3, 1, 0, 0, 0, 0), (3, 0, 0, 1, 0, 0, 0),...   \n",
       "5                 11  ((3, 0, 0, 0, 0, 0, 0), (0, 0, 0, 0, 0, 0, 0),...   \n",
       "7                 62                                  ((0, 0, 0, 0, 0))   \n",
       "\n",
       "   corrected_chgnet_ehull  \n",
       "0               -0.003829  \n",
       "1               -0.000484  \n",
       "4                0.032536  \n",
       "5               -0.003587  \n",
       "7               -0.011174  "
      ]
     },
     "execution_count": 3,
     "metadata": {},
     "output_type": "execute_result"
    }
   ],
   "source": [
    "wtt.data.head()"
   ]
  },
  {
   "cell_type": "code",
   "execution_count": 2,
   "metadata": {},
   "outputs": [],
   "source": [
    "crystalformer_raw = GeneratedDataset()\n",
    "crystalformer_raw.load_structures(\"generated/CrystalFormer_mp_20.csv.gz\", StructureStorage.CrystalFormer)"
   ]
  },
  {
   "cell_type": "code",
   "execution_count": 3,
   "metadata": {},
   "outputs": [],
   "source": [
    "crystalformer_raw.compute_wyckoffs(n_jobs=20)"
   ]
  },
  {
   "cell_type": "code",
   "execution_count": 4,
   "metadata": {},
   "outputs": [],
   "source": [
    "crystalformer_raw.convert_wyckoffs_to_pyxtal()\n"
   ]
  },
  {
   "cell_type": "code",
   "execution_count": 5,
   "metadata": {},
   "outputs": [
    {
     "name": "stderr",
     "output_type": "stream",
     "text": [
      "/home/kna/.cache/pypoetry/virtualenvs/wyckofftransformer-FeCwefly-py3.10/lib/python3.10/site-packages/pymatgen/analysis/local_env.py:4158: UserWarning: No oxidation states specified on sites! For better results, set the site oxidation states in the structure.\n",
      "  warnings.warn(\n",
      "/home/kna/.cache/pypoetry/virtualenvs/wyckofftransformer-FeCwefly-py3.10/lib/python3.10/site-packages/pymatgen/analysis/local_env.py:4158: UserWarning: No oxidation states specified on sites! For better results, set the site oxidation states in the structure.\n",
      "  warnings.warn(\n",
      "/home/kna/.cache/pypoetry/virtualenvs/wyckofftransformer-FeCwefly-py3.10/lib/python3.10/site-packages/pymatgen/analysis/local_env.py:4158: UserWarning: No oxidation states specified on sites! For better results, set the site oxidation states in the structure.\n",
      "  warnings.warn(\n",
      "/home/kna/.cache/pypoetry/virtualenvs/wyckofftransformer-FeCwefly-py3.10/lib/python3.10/site-packages/pymatgen/analysis/local_env.py:3951: UserWarning: CrystalNN: cannot locate an appropriate radius, covalent or atomic radii will be used, this can lead to non-optimal results.\n",
      "  warnings.warn(\n",
      "/home/kna/.cache/pypoetry/virtualenvs/wyckofftransformer-FeCwefly-py3.10/lib/python3.10/site-packages/pymatgen/analysis/local_env.py:3951: UserWarning: CrystalNN: cannot locate an appropriate radius, covalent or atomic radii will be used, this can lead to non-optimal results.\n",
      "  warnings.warn(\n",
      "/home/kna/.cache/pypoetry/virtualenvs/wyckofftransformer-FeCwefly-py3.10/lib/python3.10/site-packages/pymatgen/analysis/local_env.py:3951: UserWarning: CrystalNN: cannot locate an appropriate radius, covalent or atomic radii will be used, this can lead to non-optimal results.\n",
      "  warnings.warn(\n",
      "/home/kna/.cache/pypoetry/virtualenvs/wyckofftransformer-FeCwefly-py3.10/lib/python3.10/site-packages/pymatgen/analysis/local_env.py:3951: UserWarning: CrystalNN: cannot locate an appropriate radius, covalent or atomic radii will be used, this can lead to non-optimal results.\n",
      "  warnings.warn(\n",
      "/home/kna/.cache/pypoetry/virtualenvs/wyckofftransformer-FeCwefly-py3.10/lib/python3.10/site-packages/pymatgen/analysis/local_env.py:4158: UserWarning: No oxidation states specified on sites! For better results, set the site oxidation states in the structure.\n",
      "  warnings.warn(\n",
      "/home/kna/.cache/pypoetry/virtualenvs/wyckofftransformer-FeCwefly-py3.10/lib/python3.10/site-packages/pymatgen/analysis/local_env.py:4158: UserWarning: No oxidation states specified on sites! For better results, set the site oxidation states in the structure.\n",
      "  warnings.warn(\n",
      "/home/kna/.cache/pypoetry/virtualenvs/wyckofftransformer-FeCwefly-py3.10/lib/python3.10/site-packages/pymatgen/analysis/local_env.py:3951: UserWarning: CrystalNN: cannot locate an appropriate radius, covalent or atomic radii will be used, this can lead to non-optimal results.\n",
      "  warnings.warn(\n",
      "/home/kna/.cache/pypoetry/virtualenvs/wyckofftransformer-FeCwefly-py3.10/lib/python3.10/site-packages/pymatgen/analysis/local_env.py:4158: UserWarning: No oxidation states specified on sites! For better results, set the site oxidation states in the structure.\n",
      "  warnings.warn(\n",
      "/home/kna/.cache/pypoetry/virtualenvs/wyckofftransformer-FeCwefly-py3.10/lib/python3.10/site-packages/pymatgen/analysis/local_env.py:4158: UserWarning: No oxidation states specified on sites! For better results, set the site oxidation states in the structure.\n",
      "  warnings.warn(\n",
      "/home/kna/.cache/pypoetry/virtualenvs/wyckofftransformer-FeCwefly-py3.10/lib/python3.10/site-packages/pymatgen/analysis/local_env.py:4158: UserWarning: No oxidation states specified on sites! For better results, set the site oxidation states in the structure.\n",
      "  warnings.warn(\n",
      "/home/kna/.cache/pypoetry/virtualenvs/wyckofftransformer-FeCwefly-py3.10/lib/python3.10/site-packages/pymatgen/analysis/local_env.py:3951: UserWarning: CrystalNN: cannot locate an appropriate radius, covalent or atomic radii will be used, this can lead to non-optimal results.\n",
      "  warnings.warn(\n",
      "/home/kna/.cache/pypoetry/virtualenvs/wyckofftransformer-FeCwefly-py3.10/lib/python3.10/site-packages/pymatgen/analysis/local_env.py:3951: UserWarning: CrystalNN: cannot locate an appropriate radius, covalent or atomic radii will be used, this can lead to non-optimal results.\n",
      "  warnings.warn(\n",
      "/home/kna/.cache/pypoetry/virtualenvs/wyckofftransformer-FeCwefly-py3.10/lib/python3.10/site-packages/pymatgen/analysis/local_env.py:4158: UserWarning: No oxidation states specified on sites! For better results, set the site oxidation states in the structure.\n",
      "  warnings.warn(\n",
      "/home/kna/.cache/pypoetry/virtualenvs/wyckofftransformer-FeCwefly-py3.10/lib/python3.10/site-packages/pymatgen/analysis/local_env.py:3951: UserWarning: CrystalNN: cannot locate an appropriate radius, covalent or atomic radii will be used, this can lead to non-optimal results.\n",
      "  warnings.warn(\n",
      "/home/kna/.cache/pypoetry/virtualenvs/wyckofftransformer-FeCwefly-py3.10/lib/python3.10/site-packages/pymatgen/analysis/local_env.py:4158: UserWarning: No oxidation states specified on sites! For better results, set the site oxidation states in the structure.\n",
      "  warnings.warn(\n",
      "/home/kna/.cache/pypoetry/virtualenvs/wyckofftransformer-FeCwefly-py3.10/lib/python3.10/site-packages/pymatgen/analysis/local_env.py:3951: UserWarning: CrystalNN: cannot locate an appropriate radius, covalent or atomic radii will be used, this can lead to non-optimal results.\n",
      "  warnings.warn(\n",
      "/home/kna/.cache/pypoetry/virtualenvs/wyckofftransformer-FeCwefly-py3.10/lib/python3.10/site-packages/pymatgen/analysis/local_env.py:4158: UserWarning: No oxidation states specified on sites! For better results, set the site oxidation states in the structure.\n",
      "  warnings.warn(\n",
      "/home/kna/.cache/pypoetry/virtualenvs/wyckofftransformer-FeCwefly-py3.10/lib/python3.10/site-packages/pymatgen/analysis/local_env.py:3951: UserWarning: CrystalNN: cannot locate an appropriate radius, covalent or atomic radii will be used, this can lead to non-optimal results.\n",
      "  warnings.warn(\n",
      "/home/kna/.cache/pypoetry/virtualenvs/wyckofftransformer-FeCwefly-py3.10/lib/python3.10/site-packages/pymatgen/analysis/local_env.py:3951: UserWarning: CrystalNN: cannot locate an appropriate radius, covalent or atomic radii will be used, this can lead to non-optimal results.\n",
      "  warnings.warn(\n",
      "/home/kna/.cache/pypoetry/virtualenvs/wyckofftransformer-FeCwefly-py3.10/lib/python3.10/site-packages/pymatgen/analysis/local_env.py:4158: UserWarning: No oxidation states specified on sites! For better results, set the site oxidation states in the structure.\n",
      "  warnings.warn(\n",
      "/home/kna/.cache/pypoetry/virtualenvs/wyckofftransformer-FeCwefly-py3.10/lib/python3.10/site-packages/pymatgen/analysis/local_env.py:4158: UserWarning: No oxidation states specified on sites! For better results, set the site oxidation states in the structure.\n",
      "  warnings.warn(\n",
      "/home/kna/.cache/pypoetry/virtualenvs/wyckofftransformer-FeCwefly-py3.10/lib/python3.10/site-packages/pymatgen/analysis/local_env.py:3951: UserWarning: CrystalNN: cannot locate an appropriate radius, covalent or atomic radii will be used, this can lead to non-optimal results.\n",
      "  warnings.warn(\n",
      "/home/kna/.cache/pypoetry/virtualenvs/wyckofftransformer-FeCwefly-py3.10/lib/python3.10/site-packages/pymatgen/analysis/local_env.py:3951: UserWarning: CrystalNN: cannot locate an appropriate radius, covalent or atomic radii will be used, this can lead to non-optimal results.\n",
      "  warnings.warn(\n",
      "/home/kna/.cache/pypoetry/virtualenvs/wyckofftransformer-FeCwefly-py3.10/lib/python3.10/site-packages/pymatgen/analysis/local_env.py:4158: UserWarning: No oxidation states specified on sites! For better results, set the site oxidation states in the structure.\n",
      "  warnings.warn(\n",
      "/home/kna/.cache/pypoetry/virtualenvs/wyckofftransformer-FeCwefly-py3.10/lib/python3.10/site-packages/pymatgen/analysis/local_env.py:3951: UserWarning: CrystalNN: cannot locate an appropriate radius, covalent or atomic radii will be used, this can lead to non-optimal results.\n",
      "  warnings.warn(\n",
      "/home/kna/.cache/pypoetry/virtualenvs/wyckofftransformer-FeCwefly-py3.10/lib/python3.10/site-packages/pymatgen/analysis/local_env.py:4158: UserWarning: No oxidation states specified on sites! For better results, set the site oxidation states in the structure.\n",
      "  warnings.warn(\n",
      "/home/kna/.cache/pypoetry/virtualenvs/wyckofftransformer-FeCwefly-py3.10/lib/python3.10/site-packages/pymatgen/analysis/local_env.py:4158: UserWarning: No oxidation states specified on sites! For better results, set the site oxidation states in the structure.\n",
      "  warnings.warn(\n",
      "/home/kna/.cache/pypoetry/virtualenvs/wyckofftransformer-FeCwefly-py3.10/lib/python3.10/site-packages/pymatgen/analysis/local_env.py:4158: UserWarning: No oxidation states specified on sites! For better results, set the site oxidation states in the structure.\n",
      "  warnings.warn(\n",
      "/home/kna/.cache/pypoetry/virtualenvs/wyckofftransformer-FeCwefly-py3.10/lib/python3.10/site-packages/pymatgen/analysis/local_env.py:3951: UserWarning: CrystalNN: cannot locate an appropriate radius, covalent or atomic radii will be used, this can lead to non-optimal results.\n",
      "  warnings.warn(\n",
      "/home/kna/.cache/pypoetry/virtualenvs/wyckofftransformer-FeCwefly-py3.10/lib/python3.10/site-packages/pymatgen/analysis/local_env.py:4158: UserWarning: No oxidation states specified on sites! For better results, set the site oxidation states in the structure.\n",
      "  warnings.warn(\n",
      "/home/kna/.cache/pypoetry/virtualenvs/wyckofftransformer-FeCwefly-py3.10/lib/python3.10/site-packages/pymatgen/analysis/local_env.py:3951: UserWarning: CrystalNN: cannot locate an appropriate radius, covalent or atomic radii will be used, this can lead to non-optimal results.\n",
      "  warnings.warn(\n",
      "/home/kna/.cache/pypoetry/virtualenvs/wyckofftransformer-FeCwefly-py3.10/lib/python3.10/site-packages/pymatgen/analysis/local_env.py:3951: UserWarning: CrystalNN: cannot locate an appropriate radius, covalent or atomic radii will be used, this can lead to non-optimal results.\n",
      "  warnings.warn(\n",
      "/home/kna/.cache/pypoetry/virtualenvs/wyckofftransformer-FeCwefly-py3.10/lib/python3.10/site-packages/pymatgen/analysis/local_env.py:3951: UserWarning: CrystalNN: cannot locate an appropriate radius, covalent or atomic radii will be used, this can lead to non-optimal results.\n",
      "  warnings.warn(\n",
      "/home/kna/.cache/pypoetry/virtualenvs/wyckofftransformer-FeCwefly-py3.10/lib/python3.10/site-packages/pymatgen/analysis/local_env.py:4158: UserWarning: No oxidation states specified on sites! For better results, set the site oxidation states in the structure.\n",
      "  warnings.warn(\n",
      "/home/kna/.cache/pypoetry/virtualenvs/wyckofftransformer-FeCwefly-py3.10/lib/python3.10/site-packages/pymatgen/analysis/local_env.py:3951: UserWarning: CrystalNN: cannot locate an appropriate radius, covalent or atomic radii will be used, this can lead to non-optimal results.\n",
      "  warnings.warn(\n",
      "/home/kna/.cache/pypoetry/virtualenvs/wyckofftransformer-FeCwefly-py3.10/lib/python3.10/site-packages/pymatgen/analysis/local_env.py:4158: UserWarning: No oxidation states specified on sites! For better results, set the site oxidation states in the structure.\n",
      "  warnings.warn(\n",
      "/home/kna/.cache/pypoetry/virtualenvs/wyckofftransformer-FeCwefly-py3.10/lib/python3.10/site-packages/pymatgen/analysis/local_env.py:3951: UserWarning: CrystalNN: cannot locate an appropriate radius, covalent or atomic radii will be used, this can lead to non-optimal results.\n",
      "  warnings.warn(\n",
      "/home/kna/.cache/pypoetry/virtualenvs/wyckofftransformer-FeCwefly-py3.10/lib/python3.10/site-packages/pymatgen/analysis/local_env.py:4158: UserWarning: No oxidation states specified on sites! For better results, set the site oxidation states in the structure.\n",
      "  warnings.warn(\n",
      "/home/kna/.cache/pypoetry/virtualenvs/wyckofftransformer-FeCwefly-py3.10/lib/python3.10/site-packages/pymatgen/analysis/local_env.py:3951: UserWarning: CrystalNN: cannot locate an appropriate radius, covalent or atomic radii will be used, this can lead to non-optimal results.\n",
      "  warnings.warn(\n",
      "/home/kna/.cache/pypoetry/virtualenvs/wyckofftransformer-FeCwefly-py3.10/lib/python3.10/site-packages/pymatgen/analysis/local_env.py:4158: UserWarning: No oxidation states specified on sites! For better results, set the site oxidation states in the structure.\n",
      "  warnings.warn(\n",
      "/home/kna/.cache/pypoetry/virtualenvs/wyckofftransformer-FeCwefly-py3.10/lib/python3.10/site-packages/pymatgen/analysis/local_env.py:3951: UserWarning: CrystalNN: cannot locate an appropriate radius, covalent or atomic radii will be used, this can lead to non-optimal results.\n",
      "  warnings.warn(\n",
      "/home/kna/.cache/pypoetry/virtualenvs/wyckofftransformer-FeCwefly-py3.10/lib/python3.10/site-packages/pymatgen/analysis/local_env.py:4158: UserWarning: No oxidation states specified on sites! For better results, set the site oxidation states in the structure.\n",
      "  warnings.warn(\n",
      "/home/kna/.cache/pypoetry/virtualenvs/wyckofftransformer-FeCwefly-py3.10/lib/python3.10/site-packages/pymatgen/analysis/local_env.py:3951: UserWarning: CrystalNN: cannot locate an appropriate radius, covalent or atomic radii will be used, this can lead to non-optimal results.\n",
      "  warnings.warn(\n",
      "/home/kna/.cache/pypoetry/virtualenvs/wyckofftransformer-FeCwefly-py3.10/lib/python3.10/site-packages/pymatgen/analysis/local_env.py:4158: UserWarning: No oxidation states specified on sites! For better results, set the site oxidation states in the structure.\n",
      "  warnings.warn(\n",
      "/home/kna/.cache/pypoetry/virtualenvs/wyckofftransformer-FeCwefly-py3.10/lib/python3.10/site-packages/pymatgen/analysis/local_env.py:3951: UserWarning: CrystalNN: cannot locate an appropriate radius, covalent or atomic radii will be used, this can lead to non-optimal results.\n",
      "  warnings.warn(\n"
     ]
    }
   ],
   "source": [
    "crystalformer_raw.compute_cdvae_crystals(n_jobs=20)"
   ]
  },
  {
   "cell_type": "code",
   "execution_count": 6,
   "metadata": {},
   "outputs": [
    {
     "data": {
      "text/plain": [
       "structure                      [[5.03535423 5.03535423 5.03535423] Cu, [5.035...\n",
       "site_symmetries                                      [-43m, -43m, .3m, .3m, .3m]\n",
       "elements                                                     [Cu, Cu, S, Se, Cr]\n",
       "multiplicity                                                  [4, 4, 16, 16, 16]\n",
       "wyckoff_letters                                                  [b, c, e, e, e]\n",
       "sites_enumeration                                                [1, 2, 0, 0, 0]\n",
       "dof                                                              [0, 0, 1, 1, 1]\n",
       "spacegroup_number                                                            216\n",
       "sites_enumeration_augmented    ((2, 0, 0, 0, 0), (1, 3, 0, 0, 0), (0, 3, 0, 0...\n",
       "composition                                       {Cu: 8, S: 16, Se: 16, Cr: 16}\n",
       "group                                                                        216\n",
       "sites                                            [[4b, 4c], [16e], [16e], [16e]]\n",
       "species                                                          [Cu, S, Se, Cr]\n",
       "numIons                                                          [8, 16, 16, 16]\n",
       "cdvae_crystal                  <evaluation.cdvae_metrics.Crystal object at 0x...\n",
       "Name: 0, dtype: object"
      ]
     },
     "execution_count": 6,
     "metadata": {},
     "output_type": "execute_result"
    }
   ],
   "source": [
    "crystalformer_raw.data.iloc[0]"
   ]
  },
  {
   "cell_type": "code",
   "execution_count": 7,
   "metadata": {},
   "outputs": [],
   "source": [
    "from typing import Dict\n",
    "from pandas import Series\n",
    "def record_to_augmented_fingerprint(row: Dict|Series) -> tuple:\n",
    "    \"\"\"\n",
    "    Computes a fingerprint includeing possible Wyckoff position enumeration.\n",
    "    Args:\n",
    "        row contains the Wyckoff information:\n",
    "        - spacegroup_number\n",
    "        - elements\n",
    "        - site_symmetries\n",
    "        - sites_enumeration_augmented\n",
    "    Returns:\n",
    "        A tuple of the spacegroup number and a frozenset of tuples of the elements,\n",
    "        site symmetries and the Wyckoff position enumeration.\n",
    "    \"\"\"\n",
    "    spacegroup_number = row[\"spacegroup_number\"]\n",
    "    transposed_augmentations = zip(*row[\"sites_enumeration_augmented\"])\n",
    "    return (\n",
    "        row[\"spacegroup_number\"],\n",
    "        frozenset(\n",
    "            map(\n",
    "                tuple,\n",
    "                zip(row[\"elements\"], row[\"site_symmetries\"], *transposed_augmentations)\n",
    "            )\n",
    "        )\n",
    "    )"
   ]
  },
  {
   "cell_type": "code",
   "execution_count": 18,
   "metadata": {},
   "outputs": [],
   "source": [
    "mp_20_test_fingerprints = mp_20_test.data.apply(record_to_augmented_fingerprint, axis=1)\n",
    "crystalformer_raw_fingerprints = crystalformer_raw.data.apply(record_to_augmented_fingerprint, axis=1)"
   ]
  },
  {
   "cell_type": "code",
   "execution_count": 20,
   "metadata": {},
   "outputs": [
    {
     "data": {
      "text/plain": [
       "0.8841476895865575"
      ]
     },
     "execution_count": 20,
     "metadata": {},
     "output_type": "execute_result"
    }
   ],
   "source": [
    "len(frozenset(mp_20_test_fingerprints))/len(mp_20_test_fingerprints)"
   ]
  },
  {
   "cell_type": "code",
   "execution_count": 13,
   "metadata": {},
   "outputs": [
    {
     "data": {
      "text/plain": [
       "999"
      ]
     },
     "execution_count": 13,
     "metadata": {},
     "output_type": "execute_result"
    }
   ],
   "source": [
    "len(crystalformer_raw_fingerprints)"
   ]
  },
  {
   "cell_type": "code",
   "execution_count": 24,
   "metadata": {},
   "outputs": [
    {
     "data": {
      "text/plain": [
       "0.9579055441478439"
      ]
     },
     "execution_count": 24,
     "metadata": {},
     "output_type": "execute_result"
    }
   ],
   "source": [
    "len(frozenset(crystalformer_raw_fingerprints) - frozenset(mp_20_test_fingerprints))/len(frozenset(crystalformer_raw_fingerprints))"
   ]
  }
 ],
 "metadata": {
  "kernelspec": {
   "display_name": "wyckofftransformer-FeCwefly-py3.10",
   "language": "python",
   "name": "python3"
  },
  "language_info": {
   "codemirror_mode": {
    "name": "ipython",
    "version": 3
   },
   "file_extension": ".py",
   "mimetype": "text/x-python",
   "name": "python",
   "nbconvert_exporter": "python",
   "pygments_lexer": "ipython3",
   "version": "3.10.12"
  }
 },
 "nbformat": 4,
 "nbformat_minor": 2
}
