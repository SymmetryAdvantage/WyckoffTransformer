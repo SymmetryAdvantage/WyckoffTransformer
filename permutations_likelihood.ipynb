{
 "cells": [
  {
   "cell_type": "code",
   "execution_count": 1,
   "metadata": {},
   "outputs": [],
   "source": [
    "from wyckoff_transformer.generator import WyckoffGenerator"
   ]
  },
  {
   "cell_type": "code",
   "execution_count": 2,
   "metadata": {},
   "outputs": [
    {
     "name": "stderr",
     "output_type": "stream",
     "text": [
      "/home/kna/WyckoffTransformer/wyckoff_transformer/generator.py:67: FutureWarning: You are using `torch.load` with `weights_only=False` (the current default value), which uses the default pickle module implicitly. It is possible to construct malicious pickle data which will execute arbitrary code during unpickling (See https://github.com/pytorch/pytorch/blob/main/SECURITY.md#untrusted-models for more details). In a future release, the default value for `weights_only` will be flipped to `True`. This limits the functions that could be executed during unpickling. Arbitrary objects will no longer be allowed to be loaded via this mode unless they are explicitly allowlisted by the user via `torch.serialization.add_safe_globals`. We recommend you start setting `weights_only=True` for any use case where you don't have full control of the loaded file. Please open an issue on GitHub for any issues related to this experimental feature.\n",
      "  model.load_state_dict(torch.load(Path(\"runs\", wandb_run_id, \"best_model_params.pt\"), map_location=device))\n"
     ]
    }
   ],
   "source": [
    "import torch\n",
    "device = torch.device(\"cuda:1\")\n",
    "generator, wandb_run, tensors, tokenisers, engineers = WyckoffGenerator.from_wandb_run(\"yj1cme83\", device=device)"
   ]
  },
  {
   "cell_type": "code",
   "execution_count": 3,
   "metadata": {},
   "outputs": [],
   "source": [
    "from cascade_transformer.dataset import AugmentedCascadeDataset, jagged_batch_randperm\n",
    "from omegaconf import OmegaConf\n",
    "config = OmegaConf.create(dict(wandb_run.config))\n",
    "masks_dict = {field: tokenisers[field].mask_token for field in config.model.cascade.order}\n",
    "pad_dict = {field: tokenisers[field].pad_token for field in config.model.cascade.order}\n",
    "stops_dict = {field: tokenisers[field].stop_token for field in config.model.cascade.order}\n",
    "num_classes_dict = {field: len(tokenisers[field]) for field in config.model.cascade.order}\n",
    "test_dataset = AugmentedCascadeDataset(\n",
    "            data=tensors[\"test\"],\n",
    "            cascade_order=config.model.cascade.order,\n",
    "            masks=masks_dict,\n",
    "            pads=pad_dict,\n",
    "            stops=stops_dict,\n",
    "            num_classes=num_classes_dict,\n",
    "            start_field=config.model.start_token,\n",
    "            augmented_field=config.tokeniser.augmented_token_fields[0],\n",
    "            dtype=torch.long,\n",
    "            start_dtype=torch.float,\n",
    "            device=device)\n",
    "train_dataset = AugmentedCascadeDataset(\n",
    "            data=tensors[\"train\"],\n",
    "            cascade_order=config.model.cascade.order,\n",
    "            masks=masks_dict,\n",
    "            pads=pad_dict,\n",
    "            stops=stops_dict,\n",
    "            num_classes=num_classes_dict,\n",
    "            start_field=config.model.start_token,\n",
    "            augmented_field=config.tokeniser.augmented_token_fields[0],\n",
    "            dtype=torch.long,\n",
    "            start_dtype=torch.float,\n",
    "            device=device)"
   ]
  },
  {
   "cell_type": "code",
   "execution_count": 4,
   "metadata": {},
   "outputs": [],
   "source": [
    "def generate_dataset(temperature):\n",
    "    generated_tensors = generator.generate_tensors(test_dataset.start_tokens, temperature=temperature)\n",
    "    generated_data = dict(zip(config.model.cascade.order, generated_tensors))\n",
    "    generated_data[config.model.start_token] = test_dataset.start_tokens\n",
    "    return AugmentedCascadeDataset(\n",
    "                data=generated_data,\n",
    "                cascade_order=config.model.cascade.order,\n",
    "                masks=masks_dict,\n",
    "                pads=pad_dict,\n",
    "                stops=stops_dict,\n",
    "                num_classes=num_classes_dict,\n",
    "                start_field=config.model.start_token,\n",
    "                augmented_field=None,\n",
    "                dtype=torch.long,\n",
    "                start_dtype=torch.float,\n",
    "                device=device)"
   ]
  },
  {
   "cell_type": "code",
   "execution_count": 17,
   "metadata": {},
   "outputs": [],
   "source": [
    "generated_dataset = generate_dataset(1)\n",
    "generated_dataset_low_temp = generate_dataset(1e-2)\n",
    "generated_dataset_high_temp = generate_dataset(1e3)"
   ]
  },
  {
   "cell_type": "code",
   "execution_count": 19,
   "metadata": {},
   "outputs": [],
   "source": [
    "gen_ll_refernece = generator.compute_likelihoods(generated_dataset, 1, 1)\n",
    "gen_high_temp_ll_refernece = generator.compute_likelihoods(generated_dataset_high_temp, 1, 1)\n",
    "gen_low_temp_ll_refernece = generator.compute_likelihoods(generated_dataset_low_temp, 1, 1)"
   ]
  },
  {
   "cell_type": "code",
   "execution_count": 50,
   "metadata": {},
   "outputs": [
    {
     "data": {
      "text/plain": [
       "(tensor(-373.5919, device='cuda:1'), tensor(498.7293, device='cuda:1'))"
      ]
     },
     "execution_count": 50,
     "metadata": {},
     "output_type": "execute_result"
    }
   ],
   "source": [
    "gen_high_temp_ll_refernece.mean(), gen_high_temp_ll_refernece.std()"
   ]
  },
  {
   "cell_type": "code",
   "execution_count": 20,
   "metadata": {},
   "outputs": [],
   "source": [
    "gen_ll = generator.compute_likelihoods(generated_dataset, 20, 1)\n",
    "gen_high_temp_ll = generator.compute_likelihoods(generated_dataset_high_temp, 20, 1)\n",
    "gen_low_temp_ll = generator.compute_likelihoods(generated_dataset_low_temp, 20, 1)"
   ]
  },
  {
   "cell_type": "code",
   "execution_count": 28,
   "metadata": {},
   "outputs": [],
   "source": [
    "test_log_likelihoods = generator.compute_likelihoods(test_dataset, 10, 10)\n",
    "train_log_likelihoods = generator.compute_likelihoods(train_dataset, 10, 10)"
   ]
  },
  {
   "cell_type": "code",
   "execution_count": 51,
   "metadata": {},
   "outputs": [],
   "source": [
    "test_ll_reference = generator.compute_likelihoods(test_dataset, 1, 1)\n",
    "train_ll_reference = generator.compute_likelihoods(train_dataset, 1, 1)"
   ]
  },
  {
   "cell_type": "code",
   "execution_count": 64,
   "metadata": {},
   "outputs": [
    {
     "data": {
      "text/plain": [
       "tensor(16.8490, device='cuda:1')"
      ]
     },
     "execution_count": 64,
     "metadata": {},
     "output_type": "execute_result"
    }
   ],
   "source": [
    "gen_high_temp_ll.std(dim=0).mean()"
   ]
  },
  {
   "cell_type": "code",
   "execution_count": 66,
   "metadata": {},
   "outputs": [
    {
     "data": {
      "text/plain": [
       "tensor(5.4300, device='cuda:1')"
      ]
     },
     "execution_count": 66,
     "metadata": {},
     "output_type": "execute_result"
    }
   ],
   "source": [
    "test_log_likelihoods.std(dim=0).mean()"
   ]
  },
  {
   "cell_type": "code",
   "execution_count": 68,
   "metadata": {},
   "outputs": [
    {
     "data": {
      "text/plain": [
       "tensor(5.4915, device='cuda:1')"
      ]
     },
     "execution_count": 68,
     "metadata": {},
     "output_type": "execute_result"
    }
   ],
   "source": [
    "train_log_likelihoods.std(dim=0).mean()"
   ]
  },
  {
   "cell_type": "code",
   "execution_count": 70,
   "metadata": {},
   "outputs": [
    {
     "data": {
      "text/plain": [
       "tensor(1.4632, device='cuda:1')"
      ]
     },
     "execution_count": 70,
     "metadata": {},
     "output_type": "execute_result"
    }
   ],
   "source": [
    "gen_ll.std(dim=0).mean()"
   ]
  },
  {
   "cell_type": "code",
   "execution_count": 71,
   "metadata": {},
   "outputs": [
    {
     "data": {
      "text/plain": [
       "tensor(1.4721, device='cuda:1')"
      ]
     },
     "execution_count": 71,
     "metadata": {},
     "output_type": "execute_result"
    }
   ],
   "source": [
    "gen_low_temp_ll.std(dim=0).mean()"
   ]
  },
  {
   "cell_type": "code",
   "execution_count": 56,
   "metadata": {},
   "outputs": [
    {
     "name": "stdout",
     "output_type": "stream",
     "text": [
      "tensor(-92.9558, device='cuda:1') tensor(49.2856, device='cuda:1')\n"
     ]
    }
   ],
   "source": [
    "print(test_ll_reference.mean(), test_ll_reference.std())"
   ]
  },
  {
   "cell_type": "code",
   "execution_count": 58,
   "metadata": {},
   "outputs": [
    {
     "name": "stdout",
     "output_type": "stream",
     "text": [
      "tensor(-16.9766, device='cuda:1') tensor(6.1717, device='cuda:1')\n"
     ]
    }
   ],
   "source": [
    "print(gen_ll_refernece.mean(), gen_ll_refernece.std())"
   ]
  },
  {
   "cell_type": "code",
   "execution_count": 59,
   "metadata": {},
   "outputs": [
    {
     "name": "stdout",
     "output_type": "stream",
     "text": [
      "tensor(-12.9437, device='cuda:1') tensor(6.8981, device='cuda:1')\n"
     ]
    }
   ],
   "source": [
    "print(gen_low_temp_ll_refernece.mean(), gen_low_temp_ll_refernece.std())"
   ]
  },
  {
   "cell_type": "code",
   "execution_count": 21,
   "metadata": {},
   "outputs": [
    {
     "name": "stdout",
     "output_type": "stream",
     "text": [
      "tensor(498.3307, device='cuda:1') tensor(-374.0859, device='cuda:1')\n"
     ]
    }
   ],
   "source": [
    "print(gen_high_temp_ll.mean(dim=(0,1)).std(), gen_high_temp_ll.mean(dim=(0,1)).mean())"
   ]
  },
  {
   "cell_type": "code",
   "execution_count": 60,
   "metadata": {},
   "outputs": [
    {
     "name": "stdout",
     "output_type": "stream",
     "text": [
      "tensor(8.0912, device='cuda:1') tensor(-18.9776, device='cuda:1')\n"
     ]
    }
   ],
   "source": [
    "print(gen_ll.mean(dim=(0,1)).std(), gen_ll.mean(dim=(0,1)).mean())"
   ]
  },
  {
   "cell_type": "code",
   "execution_count": 61,
   "metadata": {},
   "outputs": [
    {
     "data": {
      "text/plain": [
       "tensor(1.4632, device='cuda:1')"
      ]
     },
     "execution_count": 61,
     "metadata": {},
     "output_type": "execute_result"
    }
   ],
   "source": [
    "gen_ll.std(dim=(0,1)).mean()"
   ]
  },
  {
   "cell_type": "code",
   "execution_count": 25,
   "metadata": {},
   "outputs": [
    {
     "name": "stdout",
     "output_type": "stream",
     "text": [
      "tensor(11.6185, device='cuda:1') tensor(-15.9777, device='cuda:1')\n"
     ]
    }
   ],
   "source": [
    "print(gen_low_temp_ll.mean(dim=(0,1)).std(), gen_low_temp_ll.mean(dim=(0,1)).mean())"
   ]
  },
  {
   "cell_type": "code",
   "execution_count": 27,
   "metadata": {},
   "outputs": [
    {
     "name": "stdout",
     "output_type": "stream",
     "text": [
      "tensor(49.4428, device='cuda:1') tensor(-94.3287, device='cuda:1')\n"
     ]
    }
   ],
   "source": [
    "print(test_log_likelihoods.mean(dim=(0,1)).std(), test_log_likelihoods.mean(dim=(0,1)).mean())"
   ]
  },
  {
   "cell_type": "code",
   "execution_count": 30,
   "metadata": {},
   "outputs": [
    {
     "name": "stdout",
     "output_type": "stream",
     "text": [
      "tensor(48.1460, device='cuda:1') tensor(-93.9761, device='cuda:1')\n"
     ]
    }
   ],
   "source": [
    "print(train_log_likelihoods.mean(dim=(0,1)).std(), train_log_likelihoods.mean(dim=(0,1)).mean())"
   ]
  },
  {
   "cell_type": "code",
   "execution_count": 35,
   "metadata": {},
   "outputs": [
    {
     "name": "stdout",
     "output_type": "stream",
     "text": [
      "tensor(1.4632, device='cuda:1')\n"
     ]
    }
   ],
   "source": [
    "print(gen_ll.std(dim=0).mean())"
   ]
  },
  {
   "cell_type": "code",
   "execution_count": 42,
   "metadata": {},
   "outputs": [
    {
     "name": "stdout",
     "output_type": "stream",
     "text": [
      "tensor(5.4300, device='cuda:1')\n"
     ]
    }
   ],
   "source": [
    "print(test_log_likelihoods.std(dim=0).mean())"
   ]
  },
  {
   "cell_type": "code",
   "execution_count": 43,
   "metadata": {},
   "outputs": [
    {
     "name": "stdout",
     "output_type": "stream",
     "text": [
      "tensor(3.2127, device='cuda:1')\n"
     ]
    }
   ],
   "source": [
    "print(test_log_likelihoods.std(dim=1).mean())"
   ]
  },
  {
   "cell_type": "code",
   "execution_count": 41,
   "metadata": {},
   "outputs": [
    {
     "data": {
      "text/plain": [
       "tensor(2.0010, device='cuda:1')"
      ]
     },
     "execution_count": 41,
     "metadata": {},
     "output_type": "execute_result"
    }
   ],
   "source": [
    "(gen_ll_refernece - gen_ll.mean(dim=(0,1), keepdim=True)).mean()"
   ]
  },
  {
   "cell_type": "code",
   "execution_count": 31,
   "metadata": {},
   "outputs": [
    {
     "data": {
      "image/png": "[encoded data removed]",
      "text/plain": [
       "<Figure size 640x480 with 1 Axes>"
      ]
     },
     "metadata": {},
     "output_type": "display_data"
    }
   ],
   "source": [
    "import matplotlib.pyplot as plt\n",
    "std_per_len = []\n",
    "std_permutation = test_log_likelihoods.std(dim=0).mean(dim=0)\n",
    "for i in range(1, test_dataset.pure_sequences_lengths.max() + 1):\n",
    "    std_per_len.append(std_permutation[test_dataset.pure_sequences_lengths == i].mean().item())\n",
    "fig, ax = plt.subplots()\n",
    "ax.scatter(range(1, test_dataset.pure_sequences_lengths.max() + 1), std_per_len)\n",
    "ax.set_xlabel(\"Pure sequence length\")\n",
    "ax.set_ylabel(\"Mean std of log likelihoods for different permutations\")\n",
    "ax.set_xticks(range(1, test_dataset.pure_sequences_lengths.max() + 1))\n",
    "ax.set_title(\"Test set\")\n",
    "ax.grid();"
   ]
  },
  {
   "cell_type": "code",
   "execution_count": 32,
   "metadata": {},
   "outputs": [
    {
     "data": {
      "image/png": "[encoded data removed]",
      "text/plain": [
       "<Figure size 640x480 with 1 Axes>"
      ]
     },
     "metadata": {},
     "output_type": "display_data"
    }
   ],
   "source": [
    "import matplotlib.pyplot as plt\n",
    "std_per_len = []\n",
    "std_permutation = gen_ll.std(dim=0).mean(dim=0)\n",
    "for i in range(1, generated_dataset.pure_sequences_lengths.max() + 1):\n",
    "    std_per_len.append(std_permutation[generated_dataset.pure_sequences_lengths == i].mean().item())\n",
    "fig, ax = plt.subplots()\n",
    "ax.scatter(range(1, generated_dataset.pure_sequences_lengths.max() + 1), std_per_len)\n",
    "ax.set_xlabel(\"Pure sequence length\")\n",
    "ax.set_ylabel(\"Mean std of log likelihoods for different permutations\")\n",
    "ax.set_xticks(range(1, generated_dataset.pure_sequences_lengths.max() + 1))\n",
    "ax.set_title(\"Generated set\")\n",
    "ax.grid();"
   ]
  }
 ],
 "metadata": {
  "kernelspec": {
   "display_name": "wyckofftransformer-FeCwefly-py3.12",
   "language": "python",
   "name": "python3"
  },
  "language_info": {
   "codemirror_mode": {
    "name": "ipython",
    "version": 3
   },
   "file_extension": ".py",
   "mimetype": "text/x-python",
   "name": "python",
   "nbconvert_exporter": "python",
   "pygments_lexer": "ipython3",
   "version": "3.12.3"
  }
 },
 "nbformat": 4,
 "nbformat_minor": 2
}
