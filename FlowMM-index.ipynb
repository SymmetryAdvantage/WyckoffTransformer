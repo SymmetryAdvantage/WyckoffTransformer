{
 "cells": [
  {
   "cell_type": "code",
   "execution_count": 1,
   "metadata": {},
   "outputs": [],
   "source": [
    "from evaluation.generated_dataset import GeneratedDataset\n",
    "from pymatgen.core import Element, DummySpecies\n",
    "from pathlib import Path\n",
    "import monty.json\n",
    "import pandas as pd"
   ]
  },
  {
   "cell_type": "code",
   "execution_count": 2,
   "metadata": {},
   "outputs": [],
   "source": [
    "a = GeneratedDataset.from_transformations((\"FlowMM\", ))"
   ]
  },
  {
   "cell_type": "code",
   "execution_count": 3,
   "metadata": {},
   "outputs": [
    {
     "name": "stdout",
     "output_type": "stream",
     "text": [
      "   Unnamed: 0       formula error_str  str_ind  chgnet_ehull  \\\n",
      "0           0     Cs3 N4 O9  no_error        0      0.408366   \n",
      "1           1       Sr3 Lu1  no_error        1      0.204333   \n",
      "2           2   Li2 Ti4 Co2  no_error        2      0.104723   \n",
      "3           3     U2 B6 Ru4  no_error        3      0.063527   \n",
      "4           4  Ce10 Th5 Ni5  no_error        4      0.086723   \n",
      "\n",
      "   corrected_chgnet_ehull  \n",
      "0                0.408366  \n",
      "1                0.204333  \n",
      "2                0.104723  \n",
      "3                0.063527  \n",
      "4                0.086723  \n",
      "      Unnamed: 0       formula error_str  str_ind  chgnet_ehull  \\\n",
      "9026           0     Cs3 N4 O9  no_error        0      0.408366   \n",
      "32             1       Sr3 Lu1  no_error        1      0.204333   \n",
      "376            2   Li2 Ti4 Co2  no_error        2      0.104723   \n",
      "2683           3     U2 B6 Ru4  no_error        3      0.063527   \n",
      "1794           4  Ce10 Th5 Ni5  no_error        4      0.086723   \n",
      "\n",
      "      corrected_chgnet_ehull  \n",
      "9026                0.408366  \n",
      "32                  0.204333  \n",
      "376                 0.104723  \n",
      "2683                0.063527  \n",
      "1794                0.086723  \n"
     ]
    },
    {
     "ename": "ValueError",
     "evalue": "Formula mismatch between Ba2 Ag2 Sn2 S8 and Ba2 Pb3 O7 In1",
     "output_type": "error",
     "traceback": [
      "\u001b[0;31m---------------------------------------------------------------------------\u001b[0m",
      "\u001b[0;31mValueError\u001b[0m                                Traceback (most recent call last)",
      "Cell \u001b[0;32mIn[3], line 1\u001b[0m\n\u001b[0;32m----> 1\u001b[0m \u001b[43ma\u001b[49m\u001b[38;5;241;43m.\u001b[39;49m\u001b[43mload_corrected_chgnet_ehull\u001b[49m\u001b[43m(\u001b[49m\u001b[38;5;124;43m\"\u001b[39;49m\u001b[38;5;124;43mgenerated/flowmm_mp20_all_result.csv\u001b[39;49m\u001b[38;5;124;43m\"\u001b[39;49m\u001b[43m,\u001b[49m\u001b[43m \u001b[49m\u001b[43mindex_json\u001b[49m\u001b[38;5;241;43m=\u001b[39;49m\u001b[38;5;124;43m\"\u001b[39;49m\u001b[38;5;124;43mgenerated/flowmm_index.json\u001b[39;49m\u001b[38;5;124;43m\"\u001b[39;49m\u001b[43m)\u001b[49m\n",
      "File \u001b[0;32m~/WyckoffTransformer/evaluation/generated_dataset.py:342\u001b[0m, in \u001b[0;36mGeneratedDataset.load_corrected_chgnet_ehull\u001b[0;34m(self, path, index_json)\u001b[0m\n\u001b[1;32m    340\u001b[0m             \u001b[38;5;28;01mcontinue\u001b[39;00m\n\u001b[1;32m    341\u001b[0m         \u001b[38;5;28;01mif\u001b[39;00m Composition(e_hull_formula)\u001b[38;5;241m.\u001b[39mreduced_composition \u001b[38;5;241m!=\u001b[39m structure\u001b[38;5;241m.\u001b[39mcomposition\u001b[38;5;241m.\u001b[39mreduced_composition:\n\u001b[0;32m--> 342\u001b[0m            \u001b[38;5;28;01mraise\u001b[39;00m \u001b[38;5;167;01mValueError\u001b[39;00m(\u001b[38;5;124mf\u001b[39m\u001b[38;5;124m\"\u001b[39m\u001b[38;5;124mFormula mismatch between \u001b[39m\u001b[38;5;132;01m{\u001b[39;00me_hull_formula\u001b[38;5;132;01m}\u001b[39;00m\u001b[38;5;124m and \u001b[39m\u001b[38;5;132;01m{\u001b[39;00mstructure\u001b[38;5;241m.\u001b[39mcomposition\u001b[38;5;132;01m}\u001b[39;00m\u001b[38;5;124m\"\u001b[39m)\n\u001b[1;32m    343\u001b[0m \u001b[38;5;28mself\u001b[39m\u001b[38;5;241m.\u001b[39mdata[\u001b[38;5;124m\"\u001b[39m\u001b[38;5;124mcorrected_chgnet_ehull\u001b[39m\u001b[38;5;124m\"\u001b[39m] \u001b[38;5;241m=\u001b[39m e_hull_data[\u001b[38;5;124m\"\u001b[39m\u001b[38;5;124mcorrected_chgnet_ehull\u001b[39m\u001b[38;5;124m\"\u001b[39m]\n",
      "\u001b[0;31mValueError\u001b[0m: Formula mismatch between Ba2 Ag2 Sn2 S8 and Ba2 Pb3 O7 In1"
     ]
    }
   ],
   "source": [
    "a.load_corrected_chgnet_ehull(\"generated/flowmm_mp20_all_result.csv\", index_json=\"generated/flowmm_index.json\")"
   ]
  },
  {
   "cell_type": "code",
   "execution_count": null,
   "metadata": {},
   "outputs": [],
   "source": []
  },
  {
   "cell_type": "code",
   "execution_count": 4,
   "metadata": {},
   "outputs": [
    {
     "ename": "TypeError",
     "evalue": "'GeneratedDataset' object is not subscriptable",
     "output_type": "error",
     "traceback": [
      "\u001b[0;31m---------------------------------------------------------------------------\u001b[0m",
      "\u001b[0;31mTypeError\u001b[0m                                 Traceback (most recent call last)",
      "Cell \u001b[0;32mIn[4], line 1\u001b[0m\n\u001b[0;32m----> 1\u001b[0m \u001b[43ma\u001b[49m\u001b[43m[\u001b[49m\u001b[38;5;241;43m0\u001b[39;49m\u001b[43m]\u001b[49m\n",
      "\u001b[0;31mTypeError\u001b[0m: 'GeneratedDataset' object is not subscriptable"
     ]
    }
   ],
   "source": [
    "a[0]"
   ]
  },
  {
   "cell_type": "code",
   "execution_count": 2,
   "metadata": {},
   "outputs": [],
   "source": [
    "flowmm = GeneratedDataset.from_transformations((\"FlowMM\",))"
   ]
  },
  {
   "cell_type": "code",
   "execution_count": 3,
   "metadata": {},
   "outputs": [
    {
     "ename": "ValueError",
     "evalue": "Formula mismatch between Cs3 N4 O9 and Nb8 B12",
     "output_type": "error",
     "traceback": [
      "\u001b[0;31m---------------------------------------------------------------------------\u001b[0m",
      "\u001b[0;31mValueError\u001b[0m                                Traceback (most recent call last)",
      "Cell \u001b[0;32mIn[3], line 1\u001b[0m\n\u001b[0;32m----> 1\u001b[0m \u001b[43mflowmm\u001b[49m\u001b[38;5;241;43m.\u001b[39;49m\u001b[43mload_corrected_chgnet_ehull\u001b[49m\u001b[43m(\u001b[49m\u001b[38;5;124;43m\"\u001b[39;49m\u001b[38;5;124;43mgenerated/flowmm_mp20_all_result.csv\u001b[39;49m\u001b[38;5;124;43m\"\u001b[39;49m\u001b[43m,\u001b[49m\u001b[43m \u001b[49m\u001b[43mElement\u001b[49m\u001b[43m(\u001b[49m\u001b[38;5;124;43m\"\u001b[39;49m\u001b[38;5;124;43mPo\u001b[39;49m\u001b[38;5;124;43m\"\u001b[39;49m\u001b[43m)\u001b[49m\u001b[43m)\u001b[49m\n",
      "File \u001b[0;32m~/WyckoffTransformer/evaluation/generated_dataset.py:342\u001b[0m, in \u001b[0;36mGeneratedDataset.load_corrected_chgnet_ehull\u001b[0;34m(self, path, reindex_failed_elemnt)\u001b[0m\n\u001b[1;32m    340\u001b[0m             \u001b[38;5;28;01mcontinue\u001b[39;00m\n\u001b[1;32m    341\u001b[0m         \u001b[38;5;28;01mif\u001b[39;00m Composition(e_hull_formula)\u001b[38;5;241m.\u001b[39mreduced_composition \u001b[38;5;241m!=\u001b[39m structure\u001b[38;5;241m.\u001b[39mcomposition\u001b[38;5;241m.\u001b[39mreduced_composition:\n\u001b[0;32m--> 342\u001b[0m             \u001b[38;5;28;01mraise\u001b[39;00m \u001b[38;5;167;01mValueError\u001b[39;00m(\u001b[38;5;124mf\u001b[39m\u001b[38;5;124m\"\u001b[39m\u001b[38;5;124mFormula mismatch between \u001b[39m\u001b[38;5;132;01m{\u001b[39;00me_hull_formula\u001b[38;5;132;01m}\u001b[39;00m\u001b[38;5;124m and \u001b[39m\u001b[38;5;132;01m{\u001b[39;00mstructure\u001b[38;5;241m.\u001b[39mcomposition\u001b[38;5;132;01m}\u001b[39;00m\u001b[38;5;124m\"\u001b[39m)\n\u001b[1;32m    343\u001b[0m \u001b[38;5;28mself\u001b[39m\u001b[38;5;241m.\u001b[39mdata[\u001b[38;5;124m\"\u001b[39m\u001b[38;5;124mcorrected_chgnet_ehull\u001b[39m\u001b[38;5;124m\"\u001b[39m] \u001b[38;5;241m=\u001b[39m e_hull_data[\u001b[38;5;124m\"\u001b[39m\u001b[38;5;124mcorrected_chgnet_ehull\u001b[39m\u001b[38;5;124m\"\u001b[39m]\n",
      "\u001b[0;31mValueError\u001b[0m: Formula mismatch between Cs3 N4 O9 and Nb8 B12"
     ]
    }
   ],
   "source": [
    "flowmm.load_corrected_chgnet_ehull(\"generated/flowmm_mp20_all_result.csv\", Element(\"Po\"))"
   ]
  },
  {
   "cell_type": "code",
   "execution_count": null,
   "metadata": {},
   "outputs": [],
   "source": []
  }
 ],
 "metadata": {
  "kernelspec": {
   "display_name": "wyckofftransformer-FeCwefly-py3.10",
   "language": "python",
   "name": "python3"
  },
  "language_info": {
   "codemirror_mode": {
    "name": "ipython",
    "version": 3
   },
   "file_extension": ".py",
   "mimetype": "text/x-python",
   "name": "python",
   "nbconvert_exporter": "python",
   "pygments_lexer": "ipython3",
   "version": "3.10.12"
  }
 },
 "nbformat": 4,
 "nbformat_minor": 2
}
