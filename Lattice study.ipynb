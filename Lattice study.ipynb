{
 "cells": [
  {
   "cell_type": "code",
   "execution_count": 3,
   "metadata": {},
   "outputs": [],
   "source": [
    "from mp_20_utils import load_all_data\n",
    "from tokenization import MASK_SITE\n",
    "import torch\n",
    "device = 'cpu'\n",
    "datasets_pd, torch_datasets, site_to_ids, element_to_ids, spacegroup_to_ids, max_len = load_all_data(\n",
    "    device=device, allow_retokenize=False)"
   ]
  },
  {
   "cell_type": "code",
   "execution_count": 4,
   "metadata": {},
   "outputs": [],
   "source": [
    "import numpy as np\n",
    "for dataset in datasets_pd.values():\n",
    "    lattices = map(lambda s: s.get_primitive_structure().lattice, dataset['structure'])\n",
    "    dataset['lattice'] = list(lattices)\n",
    "    dataset['volume'] = [l.volume for l in dataset['lattice']]\n",
    "    dataset['abc'] = [np.array(l.abc) for l in dataset['lattice']]\n",
    "    dataset['angles'] = [np.array(l.angles) for l in dataset['lattice']]"
   ]
  },
  {
   "cell_type": "code",
   "execution_count": 5,
   "metadata": {},
   "outputs": [
    {
     "name": "stdout",
     "output_type": "stream",
     "text": [
      "[3.029284   5.63711369 7.97762755]\n",
      "[5.199118  6.8098636 6.8098636]\n",
      "[4.16442336 4.16442336 4.16442336]\n",
      "[ 3.858783  5.345396 12.343091]\n",
      "[7.58418904 7.58418904 7.58418904]\n",
      "[4.299534   8.15825496 8.15825496]\n",
      "[3.403761  8.418362  8.4183617]\n",
      "[5.9525281  5.98276482 5.98276482]\n",
      "[3.935757   6.67033    9.94385815]\n",
      "[4.004424   4.89161618 4.89161618]\n",
      "[6.39789338 7.75471327 7.83032765]\n",
      "[ 4.336205  4.498197 13.031643]\n",
      "[ 4.51431     4.51430988 10.284149  ]\n",
      "[3.15302   3.1530205 5.124253 ]\n",
      "[8.51144998 8.51144998 8.51144998]\n",
      "[4.251552  4.251552  5.8284391]\n",
      "[4.48471    4.48471018 7.381589  ]\n",
      "[5.47517047 5.47517047 6.97041317]\n",
      "[4.57798608 4.57798608 4.57798608]\n",
      "[5.397527 5.397527 7.454301]\n",
      "[3.270839   5.741837   6.47423013]\n",
      "[4.15647407 4.15647407 4.15647407]\n",
      "[3.25967    5.178714   8.45343521]\n",
      "[4.772748   5.649399   5.65908464]\n",
      "[4.753226   4.75322646 5.641794  ]\n",
      "[4.334384   7.223096   7.22309545]\n",
      "[6.60952649 6.60952649 6.60952649]\n",
      "[5.60984294 5.77462    8.07235025]\n",
      "[6.35920798 6.35920798 6.94430231]\n",
      "[4.63105444 4.63105444 4.63105444]\n",
      "[3.707968   3.70796845 7.134668  ]\n",
      "[4.178368   5.26181399 5.692796  ]\n",
      "[4.823234 4.823234 4.823234]\n",
      "[5.41506899 5.41506899 5.41506899]\n",
      "[ 6.38677945  6.38677945 11.0935525 ]\n",
      "[4.00528   4.0052798 5.015049 ]\n",
      "[5.789851   6.73770184 9.990775  ]\n",
      "[6.271326 6.271326 6.271326]\n",
      "[6.4606084 6.4606084 6.4606084]\n",
      "[5.38355382 5.38355382 6.24692584]\n",
      "[4.51476932 4.51476932 4.51476932]\n",
      "[4.252748   5.94455    7.27816205]\n",
      "[6.05399511 6.05399511 6.25969646]\n",
      "[4.406904   4.40690416 5.104419  ]\n",
      "[4.441736   4.44173668 7.152151  ]\n",
      "[5.58466    5.60317003 5.58466   ]\n",
      "[5.172578   7.37699687 7.37699687]\n",
      "[4.8964088  4.8964088  8.36100225]\n",
      "[4.100264 4.100264 5.751647]\n",
      "[5.21823    5.28666072 8.77785032]\n",
      "[8.143584   8.143585   9.98925294]\n",
      "[4.11289649 4.11289649 4.11289649]\n",
      "[6.45091    6.45091005 7.715533  ]\n",
      "[ 4.2632204   4.2632204  11.01558957]\n",
      "[5.19232247 6.68997542 6.69275904]\n",
      "[3.724608   5.581744   5.58174305]\n",
      "[5.07527745 5.11510827 7.84447704]\n",
      "[ 3.88886     3.88886    12.02598015]\n",
      "[5.225158   5.225158   9.30479919]\n",
      "[4.280068   8.562773   8.63809166]\n",
      "[2.82419    2.82418889 4.964323  ]\n",
      "[5.94233009 5.94233009 7.3139611 ]\n",
      "[3.701194   3.701194   7.44395854]\n",
      "[4.259036   4.259036   8.75117031]\n",
      "[5.047708   6.3148     6.31479981]\n",
      "[5.216429   5.36350923 7.38235   ]\n",
      "[5.89899614 5.90493751 5.91297756]\n",
      "[4.162574   4.16257415 8.917933  ]\n",
      "[5.058794   5.058794   8.93944748]\n",
      "[7.430384  7.453258  7.4532582]\n",
      "[ 4.215716    4.21571587 17.581739  ]\n",
      "[3.989546 6.591333 7.450976]\n",
      "[4.164073 7.434116 7.434116]\n",
      "[7.56327777 7.56327777 7.56327777]\n",
      "[4.671304 4.671303 9.217036]\n",
      "[ 3.500328    3.50032716 39.608307  ]\n",
      "[5.207895  5.207895  5.2078954]\n",
      "[3.379596   5.63204082 7.38705737]\n",
      "[7.19238095 7.19238095 7.19849725]\n",
      "[3.5880974 3.5880974 3.5880974]\n",
      "[7.40594495 7.40594495 7.6686547 ]\n",
      "[4.071315 5.760787 5.760787]\n",
      "[5.10556614 5.13788782 6.89040502]\n",
      "[4.401073 7.164911 7.840532]\n",
      "[7.67891856 7.67891856 7.67891856]\n",
      "[7.72061593 7.72061593 8.51669282]\n",
      "[5.57031831 5.57031831 5.57031855]\n",
      "[4.68145  6.615754 8.392284]\n",
      "[6.06885567 6.06885567 6.06885567]\n",
      "[4.17196536 4.17196536 4.17196536]\n",
      "[5.726337   6.12361663 8.32249363]\n",
      "[5.843758   7.92801408 9.22616408]\n",
      "[5.25244    5.2595746  5.26166726]\n",
      "[4.266817   6.66958168 8.26601211]\n",
      "[5.95704653 5.95704653 5.95704653]\n",
      "[3.439352   5.9142762  6.64981489]\n",
      "[5.81929913 5.81929913 8.44257099]\n",
      "[5.552666   7.18001881 7.18001881]\n",
      "[5.09813948 5.09813948 5.09813948]\n",
      "[5.43207915 5.43207915 5.43207915]\n",
      "[ 2.7225482   2.7225482  11.15878124]\n",
      "[4.04734487 4.04734487 4.04734487]\n",
      "[ 4.274356   4.2743561 15.513971 ]\n",
      "[4.04785    4.97751731 4.97751731]\n",
      "[ 8.203525 11.765809 11.765809]\n",
      "[ 6.653566    6.65356498 15.231708  ]\n",
      "[6.824264   6.868738   9.13689991]\n",
      "[5.92263809 6.84307872 6.84307872]\n",
      "[4.156648   7.132962   7.19942288]\n",
      "[3.346759 3.941289 9.631431]\n",
      "[3.67159854 6.13774538 6.13774538]\n",
      "[5.76887    5.97263305 8.23964   ]\n",
      "[5.18723583 5.18723583 5.18723583]\n",
      "[3.86462    3.86462    7.33830389]\n",
      "[4.649406 7.482785 8.128865]\n",
      "[4.951896   6.48248296 6.48248296]\n",
      "[4.052729 4.052729 7.561782]\n",
      "[5.4743151  6.88161282 6.88169865]\n",
      "[5.570488 5.570488 9.816977]\n",
      "[4.995808   6.89135022 7.433929  ]\n",
      "[ 7.38234     7.73977    11.00401233]\n",
      "[3.57162016 3.57162016 6.97969342]\n",
      "[5.746663   5.748481   5.74974968]\n",
      "[5.66066    6.70213201 6.70213151]\n",
      "[4.157109   4.238976   4.23897608]\n",
      "[5.596736   5.74008525 5.596736  ]\n"
     ]
    },
    {
     "ename": "AssertionError",
     "evalue": "",
     "output_type": "error",
     "traceback": [
      "\u001b[0;31m---------------------------------------------------------------------------\u001b[0m",
      "\u001b[0;31mAssertionError\u001b[0m                            Traceback (most recent call last)",
      "Cell \u001b[0;32mIn[5], line 7\u001b[0m\n\u001b[1;32m      5\u001b[0m \u001b[38;5;28;01mfor\u001b[39;00m row \u001b[38;5;129;01min\u001b[39;00m abc:\n\u001b[1;32m      6\u001b[0m     \u001b[38;5;28mprint\u001b[39m(row)\n\u001b[0;32m----> 7\u001b[0m     \u001b[38;5;28;01massert\u001b[39;00m np\u001b[38;5;241m.\u001b[39mall(row[:\u001b[38;5;241m-\u001b[39m\u001b[38;5;241m1\u001b[39m] \u001b[38;5;241m<\u001b[39m\u001b[38;5;241m=\u001b[39m row[\u001b[38;5;241m1\u001b[39m:] \u001b[38;5;241m+\u001b[39m tol)\n",
      "\u001b[0;31mAssertionError\u001b[0m: "
     ]
    }
   ],
   "source": [
    "# Is abc sorted?\n",
    "tol = 1e-1\n",
    "for dataset in datasets_pd.values():\n",
    "    abc = dataset['abc']\n",
    "    for row in abc:\n",
    "        print(row)\n",
    "        assert np.all(row[:-1] <= row[1:] + tol)"
   ]
  },
  {
   "cell_type": "code",
   "execution_count": null,
   "metadata": {},
   "outputs": [],
   "source": [
    "l = datasets_pd['train'].lattice.iloc[0]"
   ]
  },
  {
   "cell_type": "code",
   "execution_count": null,
   "metadata": {},
   "outputs": [],
   "source": [
    "from pyxtal import pyxtal"
   ]
  },
  {
   "cell_type": "code",
   "execution_count": 7,
   "metadata": {},
   "outputs": [],
   "source": [
    "pyxtal_structure = pyxtal()\n",
    "pyxtal_structure.from_seed(datasets_pd['train'].structure.iloc[0])"
   ]
  },
  {
   "cell_type": "code",
   "execution_count": 10,
   "metadata": {},
   "outputs": [],
   "source": [
    "l = pyxtal_structure.lattice"
   ]
  },
  {
   "cell_type": "code",
   "execution_count": 12,
   "metadata": {},
   "outputs": [
    {
     "data": {
      "text/plain": [
       "254.63066551847865"
      ]
     },
     "execution_count": 12,
     "metadata": {},
     "output_type": "execute_result"
    }
   ],
   "source": [
    "l.volume"
   ]
  },
  {
   "cell_type": "code",
   "execution_count": 15,
   "metadata": {},
   "outputs": [
    {
     "data": {
      "text/plain": [
       "array([[ 1.49112455e+01,  1.25317586e-15, -4.80087095e+00],\n",
       "       [ 0.00000000e+00,  3.02928400e+00,  1.85490148e-16],\n",
       "       [ 0.00000000e+00,  0.00000000e+00,  5.63711369e+00]])"
      ]
     },
     "execution_count": 15,
     "metadata": {},
     "output_type": "execute_result"
    }
   ],
   "source": [
    "l.matrix"
   ]
  },
  {
   "cell_type": "code",
   "execution_count": 17,
   "metadata": {},
   "outputs": [
    {
     "data": {
      "text/plain": [
       "'monoclinic'"
      ]
     },
     "execution_count": 17,
     "metadata": {},
     "output_type": "execute_result"
    }
   ],
   "source": [
    "l.ltype"
   ]
  },
  {
   "cell_type": "code",
   "execution_count": 11,
   "metadata": {},
   "outputs": [],
   "source": [
    "(data_element, target_element), (data_site, target_site) = get_batches(\n",
    "    ds['symmetry_elements'],\n",
    "    ds['symmetry_elements'],\n",
    "    3,\n",
    "    torch.tensor(site_to_ids[MASK_SITE]).to(device)\n",
    ")"
   ]
  },
  {
   "cell_type": "code",
   "execution_count": 18,
   "metadata": {},
   "outputs": [
    {
     "data": {
      "text/plain": [
       "torch.Size([27136, 3])"
      ]
     },
     "execution_count": 18,
     "metadata": {},
     "output_type": "execute_result"
    }
   ],
   "source": [
    "data_element['species'].shape"
   ]
  },
  {
   "cell_type": "code",
   "execution_count": 20,
   "metadata": {},
   "outputs": [
    {
     "data": {
      "text/plain": [
       "torch.Size([27136])"
      ]
     },
     "execution_count": 20,
     "metadata": {},
     "output_type": "execute_result"
    }
   ],
   "source": [
    "target_element.shape"
   ]
  },
  {
   "cell_type": "code",
   "execution_count": 18,
   "metadata": {},
   "outputs": [],
   "source": [
    "a=[1,2,3]"
   ]
  },
  {
   "cell_type": "code",
   "execution_count": 19,
   "metadata": {},
   "outputs": [
    {
     "data": {
      "text/plain": [
       "[1, 2]"
      ]
     },
     "execution_count": 19,
     "metadata": {},
     "output_type": "execute_result"
    }
   ],
   "source": [
    "a[:-1]"
   ]
  },
  {
   "cell_type": "code",
   "execution_count": 24,
   "metadata": {},
   "outputs": [
    {
     "data": {
      "text/plain": [
       "torch.Size([27136])"
      ]
     },
     "execution_count": 24,
     "metadata": {},
     "output_type": "execute_result"
    }
   ],
   "source": [
    "target_site.shape"
   ]
  }
 ],
 "metadata": {
  "kernelspec": {
   "display_name": "wyckofftransformer-FeCwefly-py3.10",
   "language": "python",
   "name": "python3"
  },
  "language_info": {
   "codemirror_mode": {
    "name": "ipython",
    "version": 3
   },
   "file_extension": ".py",
   "mimetype": "text/x-python",
   "name": "python",
   "nbconvert_exporter": "python",
   "pygments_lexer": "ipython3",
   "version": "3.10.12"
  }
 },
 "nbformat": 4,
 "nbformat_minor": 2
}
