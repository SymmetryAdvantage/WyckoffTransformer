{
 "cells": [
  {
   "cell_type": "code",
   "execution_count": 2,
   "metadata": {},
   "outputs": [],
   "source": [
    "import json\n",
    "import pandas as pd\n",
    "\n",
    "\n",
    "with open('40344463.json', 'r') as f:\n",
    "    data = json.load(f)\n",
    "\n",
    "df = pd.read_csv('44225498.csv')"
   ]
  },
  {
   "cell_type": "code",
   "execution_count": 3,
   "metadata": {},
   "outputs": [
    {
     "data": {
      "text/plain": [
       "(256963, 18)"
      ]
     },
     "execution_count": 3,
     "metadata": {},
     "output_type": "execute_result"
    }
   ],
   "source": [
    "df.shape"
   ]
  },
  {
   "cell_type": "code",
   "execution_count": 35,
   "metadata": {},
   "outputs": [],
   "source": [
    "idxs = [17 + i * 20 for i in range(10000)]\n",
    "idx2id = {idx: data['material_id'][str(idx)] for idx in idxs}"
   ]
  },
  {
   "cell_type": "code",
   "execution_count": 40,
   "metadata": {},
   "outputs": [
    {
     "name": "stderr",
     "output_type": "stream",
     "text": [
      "100%|██████████| 10000/10000 [00:00<00:00, 657249.59it/s]\n",
      "  0%|          | 17/10000 [00:00<02:02, 81.40it/s]"
     ]
    },
    {
     "name": "stderr",
     "output_type": "stream",
     "text": [
      "100%|██████████| 10000/10000 [02:14<00:00, 74.41it/s]\n",
      "100%|██████████| 10000/10000 [02:17<00:00, 72.58it/s]\n"
     ]
    }
   ],
   "source": [
    "from tqdm import tqdm\n",
    "\n",
    "structs = {idx2id[idx]: data['computed_structure_entry'][str(idx)] for idx in tqdm(idxs)}\n",
    "energy = {idx2id[idx]: df[df['material_id'] == idx2id[idx]]['e_form_per_atom_wbm'].item() for idx in tqdm(idxs)}\n",
    "band_gap = {idx2id[idx]: df[df['material_id'] == idx2id[idx]]['bandgap_pbe'].item() for idx in tqdm(idxs)}"
   ]
  },
  {
   "cell_type": "code",
   "execution_count": 53,
   "metadata": {},
   "outputs": [],
   "source": [
    "from pymatgen.io.cif import CifWriter\n",
    "from pymatgen.core import Structure"
   ]
  },
  {
   "cell_type": "code",
   "execution_count": 55,
   "metadata": {},
   "outputs": [],
   "source": [
    "res = {\n",
    "    'cif': [str(CifWriter(Structure.from_dict(structs[idx2id[idx]]['structure']))) for idx in idxs],\n",
    "    'formation_energy_per_atom': [energy[idx2id[idx]] for idx in idxs],\n",
    "    'band_gap': [band_gap[idx2id[idx]] for idx in idxs]\n",
    "}"
   ]
  },
  {
   "cell_type": "code",
   "execution_count": 56,
   "metadata": {},
   "outputs": [
    {
     "data": {
      "text/html": [
       "<div>\n",
       "<style scoped>\n",
       "    .dataframe tbody tr th:only-of-type {\n",
       "        vertical-align: middle;\n",
       "    }\n",
       "\n",
       "    .dataframe tbody tr th {\n",
       "        vertical-align: top;\n",
       "    }\n",
       "\n",
       "    .dataframe thead th {\n",
       "        text-align: right;\n",
       "    }\n",
       "</style>\n",
       "<table border=\"1\" class=\"dataframe\">\n",
       "  <thead>\n",
       "    <tr style=\"text-align: right;\">\n",
       "      <th></th>\n",
       "      <th>cif</th>\n",
       "      <th>formation_energy_per_atom</th>\n",
       "      <th>band_gap</th>\n",
       "    </tr>\n",
       "  </thead>\n",
       "  <tbody>\n",
       "    <tr>\n",
       "      <th>0</th>\n",
       "      <td># generated using pymatgen\\ndata_CeAg2Hg\\n_sym...</td>\n",
       "      <td>-0.162</td>\n",
       "      <td>0.0</td>\n",
       "    </tr>\n",
       "    <tr>\n",
       "      <th>1</th>\n",
       "      <td># generated using pymatgen\\ndata_InAg2\\n_symme...</td>\n",
       "      <td>-0.019</td>\n",
       "      <td>0.0</td>\n",
       "    </tr>\n",
       "    <tr>\n",
       "      <th>2</th>\n",
       "      <td># generated using pymatgen\\ndata_SmAg2\\n_symme...</td>\n",
       "      <td>-0.289</td>\n",
       "      <td>0.0</td>\n",
       "    </tr>\n",
       "    <tr>\n",
       "      <th>3</th>\n",
       "      <td># generated using pymatgen\\ndata_TaAg2\\n_symme...</td>\n",
       "      <td>0.281</td>\n",
       "      <td>0.0</td>\n",
       "    </tr>\n",
       "    <tr>\n",
       "      <th>4</th>\n",
       "      <td># generated using pymatgen\\ndata_Ag3Bi\\n_symme...</td>\n",
       "      <td>0.045</td>\n",
       "      <td>0.0</td>\n",
       "    </tr>\n",
       "  </tbody>\n",
       "</table>\n",
       "</div>"
      ],
      "text/plain": [
       "                                                 cif  \\\n",
       "0  # generated using pymatgen\\ndata_CeAg2Hg\\n_sym...   \n",
       "1  # generated using pymatgen\\ndata_InAg2\\n_symme...   \n",
       "2  # generated using pymatgen\\ndata_SmAg2\\n_symme...   \n",
       "3  # generated using pymatgen\\ndata_TaAg2\\n_symme...   \n",
       "4  # generated using pymatgen\\ndata_Ag3Bi\\n_symme...   \n",
       "\n",
       "   formation_energy_per_atom  band_gap  \n",
       "0                     -0.162       0.0  \n",
       "1                     -0.019       0.0  \n",
       "2                     -0.289       0.0  \n",
       "3                      0.281       0.0  \n",
       "4                      0.045       0.0  "
      ]
     },
     "execution_count": 56,
     "metadata": {},
     "output_type": "execute_result"
    }
   ],
   "source": [
    "df1 = pd.DataFrame.from_dict(res)\n",
    "df1.head()"
   ]
  },
  {
   "cell_type": "code",
   "execution_count": 58,
   "metadata": {},
   "outputs": [],
   "source": [
    "df1.to_csv('cdvae/data/wbm/val.csv')"
   ]
  },
  {
   "cell_type": "code",
   "execution_count": 54,
   "metadata": {},
   "outputs": [
    {
     "data": {
      "text/plain": [
       "Structure Summary\n",
       "Lattice\n",
       "    abc : 5.042454641193554 5.0467201298189375 5.046718080465081\n",
       " angles : 89.9454568850903 120.03116902810977 120.03404979130008\n",
       " volume : 90.7660892380307\n",
       "      A : 5.04245252 -0.0027327 -0.00373154\n",
       "      B : -2.52358747 4.37045566 0.00277019\n",
       "      C : -2.52347539 -1.45416931 4.12150785\n",
       "    pbc : True True True\n",
       "PeriodicSite: Ag (-2.524, 1.458, 2.063) [8.43e-06, 0.4999, 0.5001]\n",
       "PeriodicSite: Ag (2.519, -1.456, 4.117) [1.0, 7.334e-05, 0.9999]\n",
       "PeriodicSite: Hg (-0.002334, 2.913, 1.031) [0.5, 0.75, 0.25]\n",
       "PeriodicSite: Ce (-0.002278, 0.0006201, 3.09) [0.5, 0.25, 0.75]"
      ]
     },
     "execution_count": 54,
     "metadata": {},
     "output_type": "execute_result"
    }
   ],
   "source": []
  },
  {
   "cell_type": "code",
   "execution_count": 16,
   "metadata": {},
   "outputs": [
    {
     "data": {
      "text/plain": [
       "(256963, 18)"
      ]
     },
     "execution_count": 16,
     "metadata": {},
     "output_type": "execute_result"
    }
   ],
   "source": []
  },
  {
   "cell_type": "code",
   "execution_count": 33,
   "metadata": {},
   "outputs": [
    {
     "data": {
      "text/plain": [
       "-0.178"
      ]
     },
     "execution_count": 33,
     "metadata": {},
     "output_type": "execute_result"
    }
   ],
   "source": []
  },
  {
   "cell_type": "code",
   "execution_count": null,
   "metadata": {},
   "outputs": [],
   "source": []
  },
  {
   "cell_type": "code",
   "execution_count": null,
   "metadata": {},
   "outputs": [],
   "source": []
  },
  {
   "cell_type": "code",
   "execution_count": null,
   "metadata": {},
   "outputs": [],
   "source": []
  },
  {
   "cell_type": "code",
   "execution_count": null,
   "metadata": {},
   "outputs": [],
   "source": []
  },
  {
   "cell_type": "code",
   "execution_count": null,
   "metadata": {},
   "outputs": [],
   "source": []
  },
  {
   "cell_type": "code",
   "execution_count": null,
   "metadata": {},
   "outputs": [],
   "source": []
  },
  {
   "cell_type": "code",
   "execution_count": null,
   "metadata": {},
   "outputs": [],
   "source": []
  },
  {
   "cell_type": "code",
   "execution_count": null,
   "metadata": {},
   "outputs": [],
   "source": []
  }
 ],
 "metadata": {
  "kernelspec": {
   "display_name": "wyckofftransformer-M7c5dv_y-py3.10",
   "language": "python",
   "name": "python3"
  },
  "language_info": {
   "codemirror_mode": {
    "name": "ipython",
    "version": 3
   },
   "file_extension": ".py",
   "mimetype": "text/x-python",
   "name": "python",
   "nbconvert_exporter": "python",
   "pygments_lexer": "ipython3",
   "version": "3.10.14"
  }
 },
 "nbformat": 4,
 "nbformat_minor": 2
}
