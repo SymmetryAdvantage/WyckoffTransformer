{
 "cells": [
  {
   "cell_type": "code",
   "execution_count": 1,
   "metadata": {},
   "outputs": [],
   "source": [
    "import pandas as pd\n",
    "import pickle\n",
    "from pymatgen.core import Element\n",
    "import gzip"
   ]
  },
  {
   "cell_type": "code",
   "execution_count": 2,
   "metadata": {},
   "outputs": [],
   "source": [
    "with gzip.open(\"cache/mp_20/data.pkl.gz\", \"rb\") as f:\n",
    "    data = pickle.load(f)"
   ]
  },
  {
   "cell_type": "code",
   "execution_count": 3,
   "metadata": {},
   "outputs": [],
   "source": [
    "import json\n",
    "with gzip.open(\"generated/AI4AM_mp_20.json.gz\") as f:\n",
    "    generated = json.load(f)"
   ]
  },
  {
   "cell_type": "code",
   "execution_count": 4,
   "metadata": {},
   "outputs": [],
   "source": [
    "with open(\"cache/wychoffs_enumerated_by_ss.pkl.gz\", \"rb\") as f:\n",
    "    wychoffs_index = pickle.load(f)[2]"
   ]
  },
  {
   "cell_type": "code",
   "execution_count": 5,
   "metadata": {},
   "outputs": [],
   "source": [
    "def generated_to_fingerprint(wy_dict):\n",
    "    elements = []\n",
    "    site_symmetries = []\n",
    "    for specie, sites in zip(wy_dict[\"species\"], wy_dict[\"sites\"]):\n",
    "        element = Element(specie)\n",
    "        for site in sites:\n",
    "            elements.append(element)\n",
    "            site_symmetries.append(wychoffs_index[wy_dict[\"group\"]][site[-1:]])\n",
    "    return (\n",
    "        wy_dict[\"group\"],\n",
    "        frozenset(map(tuple, zip(elements, site_symmetries))),\n",
    "    )"
   ]
  },
  {
   "cell_type": "code",
   "execution_count": 6,
   "metadata": {},
   "outputs": [],
   "source": [
    "generated_fp = list(map(generated_to_fingerprint, generated))"
   ]
  },
  {
   "cell_type": "code",
   "execution_count": 7,
   "metadata": {},
   "outputs": [
    {
     "data": {
      "text/plain": [
       "(71,\n",
       " frozenset({(Element Dy, 'mmm'),\n",
       "            (Element In, 'm2m'),\n",
       "            (Element In, 'mm2'),\n",
       "            (Element Cu, '-1'),\n",
       "            (Element Cu, 'mm2')}))"
      ]
     },
     "execution_count": 7,
     "metadata": {},
     "output_type": "execute_result"
    }
   ],
   "source": [
    "generated_fp[0]"
   ]
  },
  {
   "cell_type": "code",
   "execution_count": 8,
   "metadata": {},
   "outputs": [],
   "source": [
    "def to_fingerprint(row, include_enum=False):\n",
    "    if include_enum:\n",
    "        return (\n",
    "            row[\"spacegroup_number\"],\n",
    "            frozenset(map(tuple, zip(row[\"elements\"], row[\"site_symmetries\"]))),\n",
    "            frozenset(map(tuple, row[\"sites_enumeration_augmented\"]))\n",
    "            )\n",
    "    return (\n",
    "        row[\"spacegroup_number\"],\n",
    "        frozenset(map(tuple, zip(row[\"elements\"], row[\"site_symmetries\"]))))"
   ]
  },
  {
   "cell_type": "code",
   "execution_count": 9,
   "metadata": {},
   "outputs": [],
   "source": [
    "combined_train = pd.concat([data[\"train\"], data[\"val\"]], axis=0)"
   ]
  },
  {
   "cell_type": "code",
   "execution_count": 17,
   "metadata": {},
   "outputs": [],
   "source": [
    "train_val_fp = frozenset(combined_train.apply(to_fingerprint, axis=1))\n",
    "test_fp = data['test'].apply(to_fingerprint, axis=1)"
   ]
  },
  {
   "cell_type": "code",
   "execution_count": 18,
   "metadata": {},
   "outputs": [
    {
     "data": {
      "text/plain": [
       "0.9451691355295158"
      ]
     },
     "execution_count": 18,
     "metadata": {},
     "output_type": "execute_result"
    }
   ],
   "source": [
    "test_fp.map(lambda x: x in train_val_fp).value_counts()[False] / len(test_fp)"
   ]
  },
  {
   "cell_type": "code",
   "execution_count": 256,
   "metadata": {},
   "outputs": [
    {
     "data": {
      "text/plain": [
       "0.8676763210258678"
      ]
     },
     "execution_count": 256,
     "metadata": {},
     "output_type": "execute_result"
    }
   ],
   "source": [
    "sum((fp not in train_val_fp for fp in generated_fp[:len(test_fp)])) / len(test_fp)"
   ]
  },
  {
   "cell_type": "code",
   "execution_count": 264,
   "metadata": {},
   "outputs": [
    {
     "data": {
      "text/plain": [
       "0.9834180853415875"
      ]
     },
     "execution_count": 264,
     "metadata": {},
     "output_type": "execute_result"
    }
   ],
   "source": [
    "len(frozenset(test_fp.tolist()))/len(test_fp)"
   ]
  },
  {
   "cell_type": "code",
   "execution_count": 263,
   "metadata": {},
   "outputs": [
    {
     "data": {
      "text/plain": [
       "0.9771169577713906"
      ]
     },
     "execution_count": 263,
     "metadata": {},
     "output_type": "execute_result"
    }
   ],
   "source": [
    "len(frozenset(generated_fp[:len(test_fp)]))/len(test_fp)"
   ]
  }
 ],
 "metadata": {
  "kernelspec": {
   "display_name": "wyckofftransformer-FeCwefly-py3.12",
   "language": "python",
   "name": "python3"
  },
  "language_info": {
   "codemirror_mode": {
    "name": "ipython",
    "version": 3
   },
   "file_extension": ".py",
   "mimetype": "text/x-python",
   "name": "python",
   "nbconvert_exporter": "python",
   "pygments_lexer": "ipython3",
   "version": "3.12.6"
  }
 },
 "nbformat": 4,
 "nbformat_minor": 2
}
