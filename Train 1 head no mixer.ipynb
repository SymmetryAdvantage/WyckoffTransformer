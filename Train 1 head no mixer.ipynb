{
 "cells": [
  {
   "cell_type": "code",
   "execution_count": 1,
   "metadata": {
    "execution": {
     "iopub.execute_input": "2024-05-23T10:32:13.648609Z",
     "iopub.status.busy": "2024-05-23T10:32:13.648478Z",
     "iopub.status.idle": "2024-05-23T10:32:13.654708Z",
     "shell.execute_reply": "2024-05-23T10:32:13.654232Z"
    }
   },
   "outputs": [
    {
     "name": "stdout",
     "output_type": "stream",
     "text": [
      "env: WANDB_NOTEBOOK_NAME=Train.ipynb\n",
      "env: CUDA_DEVICE_ORDER=PCI_BUS_ID\n",
      "env: CUDA_VISIBLE_DEVICES=1\n",
      "env: PYTORCH_CUDA_ALLOC_CONF=backend:cudaMallocAsync\n"
     ]
    }
   ],
   "source": [
    "%env WANDB_NOTEBOOK_NAME Train.ipynb\n",
    "%env CUDA_DEVICE_ORDER PCI_BUS_ID\n",
    "%env CUDA_VISIBLE_DEVICES 1\n",
    "%env PYTORCH_CUDA_ALLOC_CONF backend:cudaMallocAsync"
   ]
  },
  {
   "cell_type": "code",
   "execution_count": 2,
   "metadata": {},
   "outputs": [],
   "source": [
    "import torch\n",
    "# UserWarning: TensorFloat32 tensor cores for float32 matrix multiplication available but not enabled. Consider setting `torch.set_float32_matmul_precision('high')` for better performance.\n",
    "torch.set_float32_matmul_precision('high')"
   ]
  },
  {
   "cell_type": "code",
   "execution_count": 3,
   "metadata": {
    "execution": {
     "iopub.execute_input": "2024-05-23T10:32:13.673181Z",
     "iopub.status.busy": "2024-05-23T10:32:13.672935Z",
     "iopub.status.idle": "2024-05-23T10:32:26.516198Z",
     "shell.execute_reply": "2024-05-23T10:32:26.515029Z"
    }
   },
   "outputs": [
    {
     "name": "stdout",
     "output_type": "stream",
     "text": [
      "20 7 8 9\n"
     ]
    }
   ],
   "source": [
    "from mp_20_utils import load_all_data\n",
    "device = 'cuda'\n",
    "dataset = 'mp_20_biternary'\n",
    "datasets_pd, torch_datasets, site_to_ids, element_to_ids, spacegroup_to_ids, max_len, max_enumeration, enumeration_stop, enumeration_pad = load_all_data(\n",
    "    dataset=dataset)\n",
    "print(max_len, max_enumeration, enumeration_stop, enumeration_pad)"
   ]
  },
  {
   "cell_type": "code",
   "execution_count": 4,
   "metadata": {
    "execution": {
     "iopub.execute_input": "2024-05-23T10:32:26.596526Z",
     "iopub.status.busy": "2024-05-23T10:32:26.596355Z",
     "iopub.status.idle": "2024-05-23T10:32:26.871115Z",
     "shell.execute_reply": "2024-05-23T10:32:26.870558Z"
    }
   },
   "outputs": [],
   "source": [
    "from cascade_transformer.model import CascadeTransformer\n",
    "from wyckoff_transformer import WyckoffTrainer\n",
    "from tokenization import PAD_TOKEN, MASK_TOKEN\n",
    "n_space_groups = len(spacegroup_to_ids)\n",
    "# Not all 230 space groups are present in the data\n",
    "# Embedding doesn't support uint8. Sad!\n",
    "dtype = torch.int64\n",
    "cascade_order = (\"elements\", \"symmetry_sites\", \"symmetry_sites_enumeration\")\n",
    "# (N_i, d_i, pad_i)\n",
    "assert max_enumeration + 1 == enumeration_stop\n",
    "assert max_enumeration + 2 == enumeration_pad\n",
    "enumeration_mask = max_enumeration + 3\n",
    "assert enumeration_mask < torch.iinfo(dtype).max\n",
    "\n",
    "cascade = (\n",
    "    (len(element_to_ids), 64, torch.tensor(element_to_ids[PAD_TOKEN], dtype=dtype, device=device)),\n",
    "    (len(site_to_ids), 64 - 1, torch.tensor(site_to_ids[PAD_TOKEN], dtype=dtype, device=device)),\n",
    "    (enumeration_mask + 1, None, torch.tensor(enumeration_pad, dtype=dtype, device=device))\n",
    ")\n",
    "model = CascadeTransformer(\n",
    "    n_start=n_space_groups,\n",
    "    cascade=cascade,\n",
    "    n_head=4,\n",
    "    d_hid=256,\n",
    "    n_layers=4,\n",
    "    dropout=0.1,\n",
    "    use_mixer=False).to(device)\n",
    "# Our dynamic discard of predicting PAD calls for frequent recompilation\n",
    "# model = torch.compile(model)"
   ]
  },
  {
   "cell_type": "code",
   "execution_count": 5,
   "metadata": {
    "execution": {
     "iopub.execute_input": "2024-05-23T10:32:26.873525Z",
     "iopub.status.busy": "2024-05-23T10:32:26.873396Z",
     "iopub.status.idle": "2024-05-23T11:43:47.860074Z",
     "shell.execute_reply": "2024-05-23T11:43:47.858662Z"
    }
   },
   "outputs": [
    {
     "name": "stderr",
     "output_type": "stream",
     "text": [
      "\u001b[34m\u001b[1mwandb\u001b[0m: Currently logged in as: \u001b[33mkazeev\u001b[0m. Use \u001b[1m`wandb login --relogin`\u001b[0m to force relogin\n"
     ]
    },
    {
     "data": {
      "text/html": [
       "Tracking run with wandb version 0.17.0"
      ],
      "text/plain": [
       "<IPython.core.display.HTML object>"
      ]
     },
     "metadata": {},
     "output_type": "display_data"
    },
    {
     "data": {
      "text/html": [
       "Run data is saved locally in <code>/home/kna/WyckoffTransformer/wandb/run-20240524_021521-sjefockd</code>"
      ],
      "text/plain": [
       "<IPython.core.display.HTML object>"
      ]
     },
     "metadata": {},
     "output_type": "display_data"
    },
    {
     "data": {
      "text/html": [
       "Syncing run <strong><a href='https://wandb.ai/kazeev/WyckoffTransformer/runs/sjefockd' target=\"_blank\">desert-shadow-225</a></strong> to <a href='https://wandb.ai/kazeev/WyckoffTransformer' target=\"_blank\">Weights & Biases</a> (<a href='https://wandb.me/run' target=\"_blank\">docs</a>)<br/>"
      ],
      "text/plain": [
       "<IPython.core.display.HTML object>"
      ]
     },
     "metadata": {},
     "output_type": "display_data"
    },
    {
     "data": {
      "text/html": [
       " View project at <a href='https://wandb.ai/kazeev/WyckoffTransformer' target=\"_blank\">https://wandb.ai/kazeev/WyckoffTransformer</a>"
      ],
      "text/plain": [
       "<IPython.core.display.HTML object>"
      ]
     },
     "metadata": {},
     "output_type": "display_data"
    },
    {
     "data": {
      "text/html": [
       " View run at <a href='https://wandb.ai/kazeev/WyckoffTransformer/runs/sjefockd' target=\"_blank\">https://wandb.ai/kazeev/WyckoffTransformer/runs/sjefockd</a>"
      ],
      "text/plain": [
       "<IPython.core.display.HTML object>"
      ]
     },
     "metadata": {},
     "output_type": "display_data"
    },
    {
     "name": "stdout",
     "output_type": "stream",
     "text": [
      "Epoch 20 val_loss_epoch 60.91375732421875 saved to checkpoints/2024-05-24_02-15-20/best_model_params.pt\n",
      "Epoch 80 val_loss_epoch 54.52363586425781 saved to checkpoints/2024-05-24_02-15-20/best_model_params.pt\n",
      "Epoch 100 val_loss_epoch 49.394317626953125 saved to checkpoints/2024-05-24_02-15-20/best_model_params.pt\n",
      "Epoch 180 val_loss_epoch 45.230690002441406 saved to checkpoints/2024-05-24_02-15-20/best_model_params.pt\n",
      "Epoch 340 val_loss_epoch 45.10228729248047 saved to checkpoints/2024-05-24_02-15-20/best_model_params.pt\n",
      "Epoch 540 val_loss_epoch 41.19249725341797 saved to checkpoints/2024-05-24_02-15-20/best_model_params.pt\n",
      "Epoch 800 val_loss_epoch 37.84288787841797 saved to checkpoints/2024-05-24_02-15-20/best_model_params.pt\n",
      "Epoch 920 val_loss_epoch 37.20121383666992 saved to checkpoints/2024-05-24_02-15-20/best_model_params.pt\n",
      "Epoch 940 val_loss_epoch 36.55559539794922 saved to checkpoints/2024-05-24_02-15-20/best_model_params.pt\n",
      "Epoch 1180 val_loss_epoch 36.377437591552734 saved to checkpoints/2024-05-24_02-15-20/best_model_params.pt\n",
      "Epoch 1340 val_loss_epoch 35.94099807739258 saved to checkpoints/2024-05-24_02-15-20/best_model_params.pt\n"
     ]
    }
   ],
   "source": [
    "import torch\n",
    "pad_dict = {\n",
    "    \"elements\": element_to_ids[PAD_TOKEN],\n",
    "    \"symmetry_sites\": site_to_ids[PAD_TOKEN],\n",
    "    \"symmetry_sites_enumeration\": enumeration_pad\n",
    "}\n",
    "mask_dict = {\n",
    "    \"elements\": element_to_ids[MASK_TOKEN],\n",
    "    \"symmetry_sites\": site_to_ids[MASK_TOKEN],\n",
    "    \"symmetry_sites_enumeration\": enumeration_mask\n",
    "}\n",
    "trainer = WyckoffTrainer(\n",
    "    model, torch_datasets, pad_dict, mask_dict, cascade_order, \"spacegroup_number\", max_len, device, dtype=dtype)\n",
    "trainer.train(epochs=10000, val_period=20)"
   ]
  }
 ],
 "metadata": {
  "kernelspec": {
   "display_name": "wyckofftransformer-FeCwefly-py3.10",
   "language": "python",
   "name": "python3"
  },
  "language_info": {
   "codemirror_mode": {
    "name": "ipython",
    "version": 3
   },
   "file_extension": ".py",
   "mimetype": "text/x-python",
   "name": "python",
   "nbconvert_exporter": "python",
   "pygments_lexer": "ipython3",
   "version": "3.10.12"
  }
 },
 "nbformat": 4,
 "nbformat_minor": 2
}
