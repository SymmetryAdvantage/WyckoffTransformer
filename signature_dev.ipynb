{
 "cells": [
  {
   "cell_type": "code",
   "execution_count": 102,
   "metadata": {},
   "outputs": [
    {
     "name": "stdout",
     "output_type": "stream",
     "text": [
      "Convolved Values for Each Batch:\n",
      "Shape of Convolved Values: (7, 5)\n"
     ]
    }
   ],
   "source": [
    "import numpy as np\n",
    "from scipy.special import sph_harm\n",
    "\n",
    "def convolve_vectors_with_spherical_harmonics(vectors_batch, degree):\n",
    "    \"\"\"\n",
    "    Convolves a batch of 3D vectors with spherical harmonics without explicit loops.\n",
    "    \n",
    "    Parameters:\n",
    "    vectors_batch : ndarray\n",
    "        A 3D array of shape (num_batches, num_objects, 3) representing the vectors.\n",
    "    degree : int\n",
    "        The degree of the spherical harmonics.\n",
    "    order : int\n",
    "        The order of the spherical harmonics.\n",
    "    \n",
    "    Returns:\n",
    "    ndarray\n",
    "        A 1D array of shape (num_batches,) with the convolved values for each batch.\n",
    "    \"\"\"\n",
    "    # Normalize the vectors\n",
    "    norms = np.linalg.norm(vectors_batch, axis=2, keepdims=True)\n",
    "    x, y = vectors_batch[..., 0], vectors_batch[..., 1]\n",
    "    phi = np.arctan2(y, x)\n",
    "    # Avoid division by zero\n",
    "    nonzero_norms = norms.copy()\n",
    "    nonzero_norms[nonzero_norms == 0] = 1\n",
    "    z = vectors_batch[..., 2] / nonzero_norms.squeeze(2)\n",
    "    theta = np.arccos(z)\n",
    "\n",
    "    # Compute spherical harmonics for all vectors\n",
    "    res = np.array([sph_harm(order, degree, phi, theta) for order in range(degree+1)])\n",
    "    res *= np.expand_dims(norms.squeeze(2), 0)\n",
    "    return res.mean(axis=2)\n",
    "\n",
    "# Example usage\n",
    "vectors_batch = np.array([\n",
    "    [[1, 1, 1], [0, 1, 0], [1, 0, 0], [2,3,1]],  # Batch 1 with 3 vectors\n",
    "    [[0, 0, 0], [-1, -1, 0], [1, -1, 1], [3,2,4]],\n",
    "    [[0,0,0]]*4,\n",
    "    [[0,0,1]]*4,\n",
    "    [[0,1,1]]*4,\n",
    "])\n",
    "\n",
    "degree = 6\n",
    "vb0 = np.zeros((1,1,3))\n",
    "#convolved_result = convolve_vectors_with_spherical_harmonics(vb0, degree)\n",
    "convolved_result = convolve_vectors_with_spherical_harmonics(vectors_batch, degree)\n",
    "print(\"Convolved Values for Each Batch:\")\n",
    "print(\"Shape of Convolved Values:\", convolved_result.shape)"
   ]
  },
  {
   "cell_type": "code",
   "execution_count": 67,
   "metadata": {},
   "outputs": [
    {
     "data": {
      "text/plain": [
       "[0, 0, 0, 0, 0, 0, 0, 0, 0, 0, 0, 0]"
      ]
     },
     "execution_count": 67,
     "metadata": {},
     "output_type": "execute_result"
    }
   ],
   "source": [
    "[0,0,0]*4"
   ]
  },
  {
   "cell_type": "code",
   "execution_count": null,
   "metadata": {},
   "outputs": [
    {
     "data": {
      "text/plain": [
       "array([ 9.44801736e-01+0.00000000e+00j, -3.73558496e-01-7.57240559e-02j,\n",
       "        6.61106995e-02+2.79511554e-02j, -7.07039236e-03-4.83711566e-03j,\n",
       "        4.98800098e-04+5.13583814e-04j, -2.33380602e-05-3.63468753e-05j])"
      ]
     },
     "execution_count": 29,
     "metadata": {},
     "output_type": "execute_result"
    }
   ],
   "source": [
    "sph_harm(np.arange(6), 7, 0.2, 0.1)"
   ]
  },
  {
   "cell_type": "code",
   "execution_count": null,
   "metadata": {},
   "outputs": [],
   "source": [
    "sph_"
   ]
  }
 ],
 "metadata": {
  "kernelspec": {
   "display_name": "wyckofftransformer-FeCwefly-py3.12",
   "language": "python",
   "name": "python3"
  },
  "language_info": {
   "codemirror_mode": {
    "name": "ipython",
    "version": 3
   },
   "file_extension": ".py",
   "mimetype": "text/x-python",
   "name": "python",
   "nbconvert_exporter": "python",
   "pygments_lexer": "ipython3",
   "version": "3.12.3"
  }
 },
 "nbformat": 4,
 "nbformat_minor": 2
}
