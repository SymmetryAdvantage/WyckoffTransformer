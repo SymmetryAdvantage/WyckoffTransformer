{
 "cells": [
  {
   "cell_type": "code",
   "execution_count": 1,
   "metadata": {
    "execution": {
     "iopub.execute_input": "2024-05-23T19:54:21.946904Z",
     "iopub.status.busy": "2024-05-23T19:54:21.946759Z",
     "iopub.status.idle": "2024-05-23T19:54:21.955326Z",
     "shell.execute_reply": "2024-05-23T19:54:21.954765Z"
    }
   },
   "outputs": [
    {
     "name": "stdout",
     "output_type": "stream",
     "text": [
      "env: WANDB_NOTEBOOK_NAME=Train 1 head mixer.ipynb\n",
      "env: CUDA_DEVICE_ORDER=PCI_BUS_ID\n",
      "env: CUDA_VISIBLE_DEVICES=0\n",
      "env: PYTORCH_CUDA_ALLOC_CONF=backend:cudaMallocAsync\n"
     ]
    }
   ],
   "source": [
    "%env WANDB_NOTEBOOK_NAME Train 1 head mixer.ipynb\n",
    "%env CUDA_DEVICE_ORDER PCI_BUS_ID\n",
    "%env CUDA_VISIBLE_DEVICES 0\n",
    "%env PYTORCH_CUDA_ALLOC_CONF backend:cudaMallocAsync"
   ]
  },
  {
   "cell_type": "code",
   "execution_count": 2,
   "metadata": {
    "execution": {
     "iopub.execute_input": "2024-05-23T19:54:21.974801Z",
     "iopub.status.busy": "2024-05-23T19:54:21.974140Z",
     "iopub.status.idle": "2024-05-23T19:54:22.861821Z",
     "shell.execute_reply": "2024-05-23T19:54:22.861249Z"
    }
   },
   "outputs": [],
   "source": [
    "import torch\n",
    "# UserWarning: TensorFloat32 tensor cores for float32 matrix multiplication available but not enabled. Consider setting `torch.set_float32_matmul_precision('high')` for better performance.\n",
    "torch.set_float32_matmul_precision('high')"
   ]
  },
  {
   "cell_type": "code",
   "execution_count": 3,
   "metadata": {
    "execution": {
     "iopub.execute_input": "2024-05-23T19:54:22.864257Z",
     "iopub.status.busy": "2024-05-23T19:54:22.864078Z",
     "iopub.status.idle": "2024-05-23T19:54:26.775014Z",
     "shell.execute_reply": "2024-05-23T19:54:26.774304Z"
    }
   },
   "outputs": [
    {
     "name": "stdout",
     "output_type": "stream",
     "text": [
      "20 7 8 9\n"
     ]
    }
   ],
   "source": [
    "from mp_20_utils import load_all_data\n",
    "device = 'cuda'\n",
    "dataset = 'mp_20_biternary'\n",
    "datasets_pd, torch_datasets, site_to_ids, element_to_ids, spacegroup_to_ids, max_len, max_enumeration, enumeration_stop, enumeration_pad = load_all_data(\n",
    "    dataset=dataset)\n",
    "print(max_len, max_enumeration, enumeration_stop, enumeration_pad)"
   ]
  },
  {
   "cell_type": "code",
   "execution_count": 4,
   "metadata": {
    "execution": {
     "iopub.execute_input": "2024-05-23T19:54:26.777645Z",
     "iopub.status.busy": "2024-05-23T19:54:26.777390Z",
     "iopub.status.idle": "2024-05-23T19:54:27.185473Z",
     "shell.execute_reply": "2024-05-23T19:54:27.184885Z"
    }
   },
   "outputs": [],
   "source": [
    "from cascade_transformer.model import CascadeTransformer\n",
    "from wyckoff_transformer import WyckoffTrainer\n",
    "from tokenization import PAD_TOKEN, MASK_TOKEN\n",
    "n_space_groups = len(spacegroup_to_ids)\n",
    "# Not all 230 space groups are present in the data\n",
    "# Embedding doesn't support uint8. Sad!\n",
    "dtype = torch.int64\n",
    "cascade_order = (\"elements\", \"symmetry_sites\", \"symmetry_sites_enumeration\")\n",
    "# (N_i, d_i, pad_i)\n",
    "assert max_enumeration + 1 == enumeration_stop\n",
    "assert max_enumeration + 2 == enumeration_pad\n",
    "enumeration_mask = max_enumeration + 3\n",
    "assert enumeration_mask < torch.iinfo(dtype).max\n",
    "\n",
    "cascade = (\n",
    "    (len(element_to_ids), 64, torch.tensor(element_to_ids[PAD_TOKEN], dtype=dtype, device=device)),\n",
    "    (len(site_to_ids), 64 - 1, torch.tensor(site_to_ids[PAD_TOKEN], dtype=dtype, device=device)),\n",
    "    (enumeration_mask + 1, None, torch.tensor(enumeration_pad, dtype=dtype, device=device))\n",
    ")\n",
    "model = CascadeTransformer(\n",
    "    n_start=n_space_groups,\n",
    "    cascade=cascade,\n",
    "    n_head=1,\n",
    "    d_hid=256,\n",
    "    n_layers=4,\n",
    "    dropout=0.1,\n",
    "    use_mixer=True).to(device)\n",
    "# Our dynamic discard of predicting PAD calls for frequent recompilation\n",
    "# model = torch.compile(model)"
   ]
  },
  {
   "cell_type": "code",
   "execution_count": 5,
   "metadata": {
    "execution": {
     "iopub.execute_input": "2024-05-23T19:54:27.188338Z",
     "iopub.status.busy": "2024-05-23T19:54:27.188061Z",
     "iopub.status.idle": "2024-05-24T03:20:33.995426Z",
     "shell.execute_reply": "2024-05-24T03:20:33.994659Z"
    }
   },
   "outputs": [
    {
     "name": "stderr",
     "output_type": "stream",
     "text": [
      "\u001b[34m\u001b[1mwandb\u001b[0m: Currently logged in as: \u001b[33mkazeev\u001b[0m. Use \u001b[1m`wandb login --relogin`\u001b[0m to force relogin\n"
     ]
    },
    {
     "name": "stderr",
     "output_type": "stream",
     "text": [
      "\u001b[34m\u001b[1mwandb\u001b[0m: Tracking run with wandb version 0.17.0\n"
     ]
    },
    {
     "name": "stderr",
     "output_type": "stream",
     "text": [
      "\u001b[34m\u001b[1mwandb\u001b[0m: Run data is saved locally in \u001b[35m\u001b[1m/home/kna/WyckoffTransformer/wandb/run-20240524_035428-1zfmt5l0\u001b[0m\n",
      "\u001b[34m\u001b[1mwandb\u001b[0m: Run \u001b[1m`wandb offline`\u001b[0m to turn off syncing.\n"
     ]
    },
    {
     "name": "stderr",
     "output_type": "stream",
     "text": [
      "\u001b[34m\u001b[1mwandb\u001b[0m: Syncing run \u001b[33mcerulean-cloud-236\u001b[0m\n"
     ]
    },
    {
     "name": "stderr",
     "output_type": "stream",
     "text": [
      "\u001b[34m\u001b[1mwandb\u001b[0m: ⭐️ View project at \u001b[34m\u001b[4mhttps://wandb.ai/kazeev/WyckoffTransformer\u001b[0m\n"
     ]
    },
    {
     "name": "stderr",
     "output_type": "stream",
     "text": [
      "\u001b[34m\u001b[1mwandb\u001b[0m: 🚀 View run at \u001b[34m\u001b[4mhttps://wandb.ai/kazeev/WyckoffTransformer/runs/1zfmt5l0\u001b[0m\n"
     ]
    },
    {
     "name": "stdout",
     "output_type": "stream",
     "text": [
      "Epoch 20 val_loss_epoch 65.21173095703125 saved to checkpoints/2024-05-24_03-54-27/best_model_params.pt\n"
     ]
    },
    {
     "name": "stderr",
     "output_type": "stream",
     "text": [
      "/home/kna/WyckoffTransformer/pytorch/torch/optim/lr_scheduler.py:1300: UserWarning: The epoch parameter in `scheduler.step()` was not necessary and is being deprecated where possible. Please use `scheduler.step()` to step the scheduler. During the deprecation, if epoch is different from None, the closed form is used instead of the new chainable form, where available. Please open an issue if you are unable to replicate your use case: https://github.com/pytorch/pytorch/issues/new/choose.\n",
      "  warnings.warn(EPOCH_DEPRECATION_WARNING, UserWarning)\n"
     ]
    },
    {
     "name": "stdout",
     "output_type": "stream",
     "text": [
      "Epoch 80 val_loss_epoch 47.50375747680664 saved to checkpoints/2024-05-24_03-54-27/best_model_params.pt\n"
     ]
    },
    {
     "name": "stdout",
     "output_type": "stream",
     "text": [
      "Epoch 260 val_loss_epoch 47.16340637207031 saved to checkpoints/2024-05-24_03-54-27/best_model_params.pt\n"
     ]
    },
    {
     "name": "stdout",
     "output_type": "stream",
     "text": [
      "Epoch 280 val_loss_epoch 46.97126770019531 saved to checkpoints/2024-05-24_03-54-27/best_model_params.pt\n"
     ]
    },
    {
     "name": "stdout",
     "output_type": "stream",
     "text": [
      "Epoch 520 val_loss_epoch 45.287052154541016 saved to checkpoints/2024-05-24_03-54-27/best_model_params.pt\n"
     ]
    },
    {
     "name": "stdout",
     "output_type": "stream",
     "text": [
      "Epoch 1060 val_loss_epoch 44.85023880004883 saved to checkpoints/2024-05-24_03-54-27/best_model_params.pt\n"
     ]
    },
    {
     "name": "stdout",
     "output_type": "stream",
     "text": [
      "Epoch 5140 val_loss_epoch 44.68111801147461 saved to checkpoints/2024-05-24_03-54-27/best_model_params.pt\n"
     ]
    },
    {
     "name": "stdout",
     "output_type": "stream",
     "text": [
      "Epoch 5180 val_loss_epoch 44.5605354309082 saved to checkpoints/2024-05-24_03-54-27/best_model_params.pt\n"
     ]
    },
    {
     "name": "stdout",
     "output_type": "stream",
     "text": [
      "Epoch 5200 val_loss_epoch 43.56058883666992 saved to checkpoints/2024-05-24_03-54-27/best_model_params.pt\n"
     ]
    },
    {
     "name": "stdout",
     "output_type": "stream",
     "text": [
      "Epoch 5220 val_loss_epoch 42.27693557739258 saved to checkpoints/2024-05-24_03-54-27/best_model_params.pt\n"
     ]
    },
    {
     "name": "stdout",
     "output_type": "stream",
     "text": [
      "Epoch 5240 val_loss_epoch 40.51707077026367 saved to checkpoints/2024-05-24_03-54-27/best_model_params.pt\n"
     ]
    },
    {
     "name": "stdout",
     "output_type": "stream",
     "text": [
      "Epoch 5300 val_loss_epoch 38.57988739013672 saved to checkpoints/2024-05-24_03-54-27/best_model_params.pt\n"
     ]
    },
    {
     "name": "stdout",
     "output_type": "stream",
     "text": [
      "Epoch 5340 val_loss_epoch 38.14773941040039 saved to checkpoints/2024-05-24_03-54-27/best_model_params.pt\n"
     ]
    },
    {
     "name": "stdout",
     "output_type": "stream",
     "text": [
      "Epoch 5400 val_loss_epoch 38.070472717285156 saved to checkpoints/2024-05-24_03-54-27/best_model_params.pt\n"
     ]
    },
    {
     "name": "stdout",
     "output_type": "stream",
     "text": [
      "Epoch 5440 val_loss_epoch 37.98252868652344 saved to checkpoints/2024-05-24_03-54-27/best_model_params.pt\n"
     ]
    },
    {
     "name": "stdout",
     "output_type": "stream",
     "text": [
      "Epoch 5520 val_loss_epoch 37.462528228759766 saved to checkpoints/2024-05-24_03-54-27/best_model_params.pt\n"
     ]
    },
    {
     "name": "stdout",
     "output_type": "stream",
     "text": [
      "Epoch 5700 val_loss_epoch 37.31352996826172 saved to checkpoints/2024-05-24_03-54-27/best_model_params.pt\n"
     ]
    },
    {
     "name": "stdout",
     "output_type": "stream",
     "text": [
      "Epoch 5740 val_loss_epoch 36.91271209716797 saved to checkpoints/2024-05-24_03-54-27/best_model_params.pt\n"
     ]
    },
    {
     "name": "stdout",
     "output_type": "stream",
     "text": [
      "Epoch 5760 val_loss_epoch 36.891563415527344 saved to checkpoints/2024-05-24_03-54-27/best_model_params.pt\n"
     ]
    },
    {
     "name": "stdout",
     "output_type": "stream",
     "text": [
      "Epoch 5780 val_loss_epoch 35.82467269897461 saved to checkpoints/2024-05-24_03-54-27/best_model_params.pt\n"
     ]
    },
    {
     "name": "stdout",
     "output_type": "stream",
     "text": [
      "Epoch 6040 val_loss_epoch 35.054100036621094 saved to checkpoints/2024-05-24_03-54-27/best_model_params.pt\n"
     ]
    },
    {
     "name": "stdout",
     "output_type": "stream",
     "text": [
      "Epoch 6060 val_loss_epoch 34.83802795410156 saved to checkpoints/2024-05-24_03-54-27/best_model_params.pt\n"
     ]
    },
    {
     "name": "stdout",
     "output_type": "stream",
     "text": [
      "Epoch 6100 val_loss_epoch 34.82129669189453 saved to checkpoints/2024-05-24_03-54-27/best_model_params.pt\n"
     ]
    },
    {
     "name": "stdout",
     "output_type": "stream",
     "text": [
      "Epoch 6280 val_loss_epoch 34.4703483581543 saved to checkpoints/2024-05-24_03-54-27/best_model_params.pt\n"
     ]
    },
    {
     "name": "stdout",
     "output_type": "stream",
     "text": [
      "Epoch 6660 val_loss_epoch 34.187068939208984 saved to checkpoints/2024-05-24_03-54-27/best_model_params.pt\n"
     ]
    },
    {
     "name": "stdout",
     "output_type": "stream",
     "text": [
      "Epoch 6880 val_loss_epoch 33.86022186279297 saved to checkpoints/2024-05-24_03-54-27/best_model_params.pt\n"
     ]
    },
    {
     "name": "stdout",
     "output_type": "stream",
     "text": [
      "Epoch 6940 val_loss_epoch 33.685813903808594 saved to checkpoints/2024-05-24_03-54-27/best_model_params.pt\n"
     ]
    },
    {
     "name": "stdout",
     "output_type": "stream",
     "text": [
      "Epoch 6960 val_loss_epoch 33.58719253540039 saved to checkpoints/2024-05-24_03-54-27/best_model_params.pt\n"
     ]
    },
    {
     "name": "stdout",
     "output_type": "stream",
     "text": [
      "Epoch 7120 val_loss_epoch 33.5357666015625 saved to checkpoints/2024-05-24_03-54-27/best_model_params.pt\n"
     ]
    },
    {
     "name": "stdout",
     "output_type": "stream",
     "text": [
      "Epoch 7240 val_loss_epoch 33.2509765625 saved to checkpoints/2024-05-24_03-54-27/best_model_params.pt\n"
     ]
    },
    {
     "name": "stdout",
     "output_type": "stream",
     "text": [
      "Epoch 7260 val_loss_epoch 32.7047119140625 saved to checkpoints/2024-05-24_03-54-27/best_model_params.pt\n"
     ]
    },
    {
     "name": "stdout",
     "output_type": "stream",
     "text": [
      "Epoch 7420 val_loss_epoch 32.580841064453125 saved to checkpoints/2024-05-24_03-54-27/best_model_params.pt\n"
     ]
    },
    {
     "name": "stdout",
     "output_type": "stream",
     "text": [
      "Epoch 7620 val_loss_epoch 32.47636413574219 saved to checkpoints/2024-05-24_03-54-27/best_model_params.pt\n"
     ]
    },
    {
     "name": "stdout",
     "output_type": "stream",
     "text": [
      "Epoch 7660 val_loss_epoch 32.017818450927734 saved to checkpoints/2024-05-24_03-54-27/best_model_params.pt\n"
     ]
    },
    {
     "name": "stdout",
     "output_type": "stream",
     "text": [
      "Epoch 7720 val_loss_epoch 31.509220123291016 saved to checkpoints/2024-05-24_03-54-27/best_model_params.pt\n"
     ]
    },
    {
     "name": "stdout",
     "output_type": "stream",
     "text": [
      "Epoch 7860 val_loss_epoch 31.11724281311035 saved to checkpoints/2024-05-24_03-54-27/best_model_params.pt\n"
     ]
    },
    {
     "name": "stdout",
     "output_type": "stream",
     "text": [
      "Epoch 7900 val_loss_epoch 30.77610206604004 saved to checkpoints/2024-05-24_03-54-27/best_model_params.pt\n"
     ]
    },
    {
     "name": "stdout",
     "output_type": "stream",
     "text": [
      "Epoch 8020 val_loss_epoch 30.474632263183594 saved to checkpoints/2024-05-24_03-54-27/best_model_params.pt\n"
     ]
    },
    {
     "name": "stdout",
     "output_type": "stream",
     "text": [
      "Epoch 8260 val_loss_epoch 30.177013397216797 saved to checkpoints/2024-05-24_03-54-27/best_model_params.pt\n"
     ]
    },
    {
     "name": "stdout",
     "output_type": "stream",
     "text": [
      "Epoch 8280 val_loss_epoch 30.158597946166992 saved to checkpoints/2024-05-24_03-54-27/best_model_params.pt\n"
     ]
    },
    {
     "name": "stdout",
     "output_type": "stream",
     "text": [
      "Epoch 8320 val_loss_epoch 30.122648239135742 saved to checkpoints/2024-05-24_03-54-27/best_model_params.pt\n"
     ]
    },
    {
     "name": "stdout",
     "output_type": "stream",
     "text": [
      "Epoch 8360 val_loss_epoch 29.81741714477539 saved to checkpoints/2024-05-24_03-54-27/best_model_params.pt\n"
     ]
    },
    {
     "name": "stdout",
     "output_type": "stream",
     "text": [
      "Epoch 8380 val_loss_epoch 29.421897888183594 saved to checkpoints/2024-05-24_03-54-27/best_model_params.pt\n"
     ]
    },
    {
     "name": "stdout",
     "output_type": "stream",
     "text": [
      "Epoch 8440 val_loss_epoch 29.212787628173828 saved to checkpoints/2024-05-24_03-54-27/best_model_params.pt\n"
     ]
    },
    {
     "name": "stdout",
     "output_type": "stream",
     "text": [
      "Epoch 8480 val_loss_epoch 29.019495010375977 saved to checkpoints/2024-05-24_03-54-27/best_model_params.pt\n"
     ]
    },
    {
     "name": "stdout",
     "output_type": "stream",
     "text": [
      "Epoch 8600 val_loss_epoch 28.75309944152832 saved to checkpoints/2024-05-24_03-54-27/best_model_params.pt\n"
     ]
    },
    {
     "name": "stdout",
     "output_type": "stream",
     "text": [
      "Epoch 8700 val_loss_epoch 28.578521728515625 saved to checkpoints/2024-05-24_03-54-27/best_model_params.pt\n"
     ]
    },
    {
     "name": "stdout",
     "output_type": "stream",
     "text": [
      "Epoch 8840 val_loss_epoch 28.24932861328125 saved to checkpoints/2024-05-24_03-54-27/best_model_params.pt\n"
     ]
    },
    {
     "name": "stdout",
     "output_type": "stream",
     "text": [
      "Epoch 8900 val_loss_epoch 28.0109806060791 saved to checkpoints/2024-05-24_03-54-27/best_model_params.pt\n"
     ]
    },
    {
     "name": "stdout",
     "output_type": "stream",
     "text": [
      "Epoch 9000 val_loss_epoch 28.00119972229004 saved to checkpoints/2024-05-24_03-54-27/best_model_params.pt\n"
     ]
    },
    {
     "name": "stdout",
     "output_type": "stream",
     "text": [
      "Epoch 9040 val_loss_epoch 27.65106201171875 saved to checkpoints/2024-05-24_03-54-27/best_model_params.pt\n"
     ]
    },
    {
     "name": "stdout",
     "output_type": "stream",
     "text": [
      "Epoch 9060 val_loss_epoch 27.569454193115234 saved to checkpoints/2024-05-24_03-54-27/best_model_params.pt\n"
     ]
    },
    {
     "name": "stdout",
     "output_type": "stream",
     "text": [
      "Epoch 9080 val_loss_epoch 27.430471420288086 saved to checkpoints/2024-05-24_03-54-27/best_model_params.pt\n"
     ]
    },
    {
     "name": "stdout",
     "output_type": "stream",
     "text": [
      "Epoch 9140 val_loss_epoch 27.408872604370117 saved to checkpoints/2024-05-24_03-54-27/best_model_params.pt\n"
     ]
    },
    {
     "name": "stdout",
     "output_type": "stream",
     "text": [
      "Epoch 9180 val_loss_epoch 27.352367401123047 saved to checkpoints/2024-05-24_03-54-27/best_model_params.pt\n"
     ]
    },
    {
     "name": "stdout",
     "output_type": "stream",
     "text": [
      "Epoch 9200 val_loss_epoch 27.1890926361084 saved to checkpoints/2024-05-24_03-54-27/best_model_params.pt\n"
     ]
    },
    {
     "name": "stdout",
     "output_type": "stream",
     "text": [
      "Epoch 9400 val_loss_epoch 27.00722885131836 saved to checkpoints/2024-05-24_03-54-27/best_model_params.pt\n"
     ]
    },
    {
     "name": "stdout",
     "output_type": "stream",
     "text": [
      "Epoch 9420 val_loss_epoch 26.82712745666504 saved to checkpoints/2024-05-24_03-54-27/best_model_params.pt\n"
     ]
    },
    {
     "name": "stdout",
     "output_type": "stream",
     "text": [
      "Epoch 9500 val_loss_epoch 26.722639083862305 saved to checkpoints/2024-05-24_03-54-27/best_model_params.pt\n"
     ]
    },
    {
     "name": "stdout",
     "output_type": "stream",
     "text": [
      "Epoch 9560 val_loss_epoch 26.62797737121582 saved to checkpoints/2024-05-24_03-54-27/best_model_params.pt\n"
     ]
    },
    {
     "name": "stdout",
     "output_type": "stream",
     "text": [
      "Epoch 9580 val_loss_epoch 26.155357360839844 saved to checkpoints/2024-05-24_03-54-27/best_model_params.pt\n"
     ]
    },
    {
     "name": "stdout",
     "output_type": "stream",
     "text": [
      "Epoch 9640 val_loss_epoch 25.981977462768555 saved to checkpoints/2024-05-24_03-54-27/best_model_params.pt\n"
     ]
    },
    {
     "name": "stdout",
     "output_type": "stream",
     "text": [
      "Epoch 9660 val_loss_epoch 25.945680618286133 saved to checkpoints/2024-05-24_03-54-27/best_model_params.pt\n"
     ]
    },
    {
     "name": "stdout",
     "output_type": "stream",
     "text": [
      "Epoch 9700 val_loss_epoch 25.797788619995117 saved to checkpoints/2024-05-24_03-54-27/best_model_params.pt\n"
     ]
    },
    {
     "name": "stdout",
     "output_type": "stream",
     "text": [
      "Epoch 9800 val_loss_epoch 25.754972457885742 saved to checkpoints/2024-05-24_03-54-27/best_model_params.pt\n"
     ]
    },
    {
     "name": "stdout",
     "output_type": "stream",
     "text": [
      "Epoch 9840 val_loss_epoch 25.728178024291992 saved to checkpoints/2024-05-24_03-54-27/best_model_params.pt\n"
     ]
    },
    {
     "name": "stdout",
     "output_type": "stream",
     "text": [
      "Epoch 9940 val_loss_epoch 25.266408920288086 saved to checkpoints/2024-05-24_03-54-27/best_model_params.pt\n"
     ]
    },
    {
     "name": "stdout",
     "output_type": "stream",
     "text": [
      "Epoch 9960 val_loss_epoch 25.240577697753906 saved to checkpoints/2024-05-24_03-54-27/best_model_params.pt\n"
     ]
    },
    {
     "name": "stdout",
     "output_type": "stream",
     "text": [
      "Epoch 10060 val_loss_epoch 24.76134490966797 saved to checkpoints/2024-05-24_03-54-27/best_model_params.pt\n"
     ]
    },
    {
     "name": "stdout",
     "output_type": "stream",
     "text": [
      "Epoch 10200 val_loss_epoch 24.593231201171875 saved to checkpoints/2024-05-24_03-54-27/best_model_params.pt\n"
     ]
    },
    {
     "name": "stdout",
     "output_type": "stream",
     "text": [
      "Epoch 10280 val_loss_epoch 24.589786529541016 saved to checkpoints/2024-05-24_03-54-27/best_model_params.pt\n"
     ]
    },
    {
     "name": "stdout",
     "output_type": "stream",
     "text": [
      "Epoch 10360 val_loss_epoch 24.38043785095215 saved to checkpoints/2024-05-24_03-54-27/best_model_params.pt\n"
     ]
    },
    {
     "name": "stdout",
     "output_type": "stream",
     "text": [
      "Epoch 10400 val_loss_epoch 24.257171630859375 saved to checkpoints/2024-05-24_03-54-27/best_model_params.pt\n"
     ]
    },
    {
     "name": "stdout",
     "output_type": "stream",
     "text": [
      "Epoch 10440 val_loss_epoch 24.062776565551758 saved to checkpoints/2024-05-24_03-54-27/best_model_params.pt\n"
     ]
    },
    {
     "name": "stdout",
     "output_type": "stream",
     "text": [
      "Epoch 10620 val_loss_epoch 23.926908493041992 saved to checkpoints/2024-05-24_03-54-27/best_model_params.pt\n"
     ]
    },
    {
     "name": "stdout",
     "output_type": "stream",
     "text": [
      "Epoch 10760 val_loss_epoch 23.55681037902832 saved to checkpoints/2024-05-24_03-54-27/best_model_params.pt\n"
     ]
    },
    {
     "name": "stdout",
     "output_type": "stream",
     "text": [
      "Epoch 10820 val_loss_epoch 23.342845916748047 saved to checkpoints/2024-05-24_03-54-27/best_model_params.pt\n"
     ]
    },
    {
     "name": "stdout",
     "output_type": "stream",
     "text": [
      "Epoch 10960 val_loss_epoch 23.32512855529785 saved to checkpoints/2024-05-24_03-54-27/best_model_params.pt\n"
     ]
    },
    {
     "name": "stdout",
     "output_type": "stream",
     "text": [
      "Epoch 10980 val_loss_epoch 23.248977661132812 saved to checkpoints/2024-05-24_03-54-27/best_model_params.pt\n"
     ]
    },
    {
     "name": "stdout",
     "output_type": "stream",
     "text": [
      "Epoch 11040 val_loss_epoch 22.94091796875 saved to checkpoints/2024-05-24_03-54-27/best_model_params.pt\n"
     ]
    },
    {
     "name": "stdout",
     "output_type": "stream",
     "text": [
      "Epoch 11200 val_loss_epoch 22.6429386138916 saved to checkpoints/2024-05-24_03-54-27/best_model_params.pt\n"
     ]
    },
    {
     "name": "stdout",
     "output_type": "stream",
     "text": [
      "Epoch 11320 val_loss_epoch 22.612133026123047 saved to checkpoints/2024-05-24_03-54-27/best_model_params.pt\n"
     ]
    },
    {
     "name": "stdout",
     "output_type": "stream",
     "text": [
      "Epoch 11460 val_loss_epoch 22.30963897705078 saved to checkpoints/2024-05-24_03-54-27/best_model_params.pt\n"
     ]
    },
    {
     "name": "stdout",
     "output_type": "stream",
     "text": [
      "Epoch 11580 val_loss_epoch 22.238357543945312 saved to checkpoints/2024-05-24_03-54-27/best_model_params.pt\n"
     ]
    },
    {
     "name": "stdout",
     "output_type": "stream",
     "text": [
      "Epoch 11680 val_loss_epoch 22.21792221069336 saved to checkpoints/2024-05-24_03-54-27/best_model_params.pt\n"
     ]
    },
    {
     "name": "stdout",
     "output_type": "stream",
     "text": [
      "Epoch 11800 val_loss_epoch 22.119596481323242 saved to checkpoints/2024-05-24_03-54-27/best_model_params.pt\n"
     ]
    },
    {
     "name": "stdout",
     "output_type": "stream",
     "text": [
      "Epoch 11940 val_loss_epoch 21.998699188232422 saved to checkpoints/2024-05-24_03-54-27/best_model_params.pt\n"
     ]
    },
    {
     "name": "stdout",
     "output_type": "stream",
     "text": [
      "Epoch 12120 val_loss_epoch 21.909990310668945 saved to checkpoints/2024-05-24_03-54-27/best_model_params.pt\n"
     ]
    },
    {
     "name": "stdout",
     "output_type": "stream",
     "text": [
      "Epoch 12180 val_loss_epoch 21.657779693603516 saved to checkpoints/2024-05-24_03-54-27/best_model_params.pt\n"
     ]
    },
    {
     "name": "stdout",
     "output_type": "stream",
     "text": [
      "Epoch 12360 val_loss_epoch 21.6567440032959 saved to checkpoints/2024-05-24_03-54-27/best_model_params.pt\n"
     ]
    },
    {
     "name": "stdout",
     "output_type": "stream",
     "text": [
      "Epoch 12440 val_loss_epoch 21.39107894897461 saved to checkpoints/2024-05-24_03-54-27/best_model_params.pt\n"
     ]
    },
    {
     "name": "stdout",
     "output_type": "stream",
     "text": [
      "Epoch 12540 val_loss_epoch 21.34577751159668 saved to checkpoints/2024-05-24_03-54-27/best_model_params.pt\n"
     ]
    },
    {
     "name": "stdout",
     "output_type": "stream",
     "text": [
      "Epoch 12580 val_loss_epoch 21.276742935180664 saved to checkpoints/2024-05-24_03-54-27/best_model_params.pt\n"
     ]
    },
    {
     "name": "stdout",
     "output_type": "stream",
     "text": [
      "Epoch 12620 val_loss_epoch 21.095243453979492 saved to checkpoints/2024-05-24_03-54-27/best_model_params.pt\n"
     ]
    },
    {
     "name": "stdout",
     "output_type": "stream",
     "text": [
      "Epoch 12640 val_loss_epoch 21.094932556152344 saved to checkpoints/2024-05-24_03-54-27/best_model_params.pt\n"
     ]
    },
    {
     "name": "stdout",
     "output_type": "stream",
     "text": [
      "Epoch 12660 val_loss_epoch 21.04996681213379 saved to checkpoints/2024-05-24_03-54-27/best_model_params.pt\n"
     ]
    },
    {
     "name": "stdout",
     "output_type": "stream",
     "text": [
      "Epoch 12740 val_loss_epoch 20.88579559326172 saved to checkpoints/2024-05-24_03-54-27/best_model_params.pt\n"
     ]
    },
    {
     "name": "stdout",
     "output_type": "stream",
     "text": [
      "Epoch 12880 val_loss_epoch 20.854576110839844 saved to checkpoints/2024-05-24_03-54-27/best_model_params.pt\n"
     ]
    },
    {
     "name": "stdout",
     "output_type": "stream",
     "text": [
      "Epoch 12900 val_loss_epoch 20.710840225219727 saved to checkpoints/2024-05-24_03-54-27/best_model_params.pt\n"
     ]
    },
    {
     "name": "stdout",
     "output_type": "stream",
     "text": [
      "Epoch 12960 val_loss_epoch 20.596965789794922 saved to checkpoints/2024-05-24_03-54-27/best_model_params.pt\n"
     ]
    },
    {
     "name": "stdout",
     "output_type": "stream",
     "text": [
      "Epoch 13080 val_loss_epoch 20.569820404052734 saved to checkpoints/2024-05-24_03-54-27/best_model_params.pt\n"
     ]
    },
    {
     "name": "stdout",
     "output_type": "stream",
     "text": [
      "Epoch 13240 val_loss_epoch 20.489843368530273 saved to checkpoints/2024-05-24_03-54-27/best_model_params.pt\n"
     ]
    },
    {
     "name": "stdout",
     "output_type": "stream",
     "text": [
      "Epoch 13280 val_loss_epoch 20.397302627563477 saved to checkpoints/2024-05-24_03-54-27/best_model_params.pt\n"
     ]
    },
    {
     "name": "stdout",
     "output_type": "stream",
     "text": [
      "Epoch 13380 val_loss_epoch 20.29801368713379 saved to checkpoints/2024-05-24_03-54-27/best_model_params.pt\n"
     ]
    },
    {
     "name": "stdout",
     "output_type": "stream",
     "text": [
      "Epoch 13500 val_loss_epoch 20.23609733581543 saved to checkpoints/2024-05-24_03-54-27/best_model_params.pt\n"
     ]
    },
    {
     "name": "stdout",
     "output_type": "stream",
     "text": [
      "Epoch 13640 val_loss_epoch 20.195932388305664 saved to checkpoints/2024-05-24_03-54-27/best_model_params.pt\n"
     ]
    },
    {
     "name": "stdout",
     "output_type": "stream",
     "text": [
      "Epoch 13680 val_loss_epoch 20.151918411254883 saved to checkpoints/2024-05-24_03-54-27/best_model_params.pt\n"
     ]
    },
    {
     "name": "stdout",
     "output_type": "stream",
     "text": [
      "Epoch 13820 val_loss_epoch 20.07882308959961 saved to checkpoints/2024-05-24_03-54-27/best_model_params.pt\n"
     ]
    },
    {
     "name": "stdout",
     "output_type": "stream",
     "text": [
      "Epoch 13920 val_loss_epoch 20.037792205810547 saved to checkpoints/2024-05-24_03-54-27/best_model_params.pt\n"
     ]
    },
    {
     "name": "stdout",
     "output_type": "stream",
     "text": [
      "Epoch 14040 val_loss_epoch 19.827356338500977 saved to checkpoints/2024-05-24_03-54-27/best_model_params.pt\n"
     ]
    },
    {
     "name": "stdout",
     "output_type": "stream",
     "text": [
      "Epoch 14140 val_loss_epoch 19.81788444519043 saved to checkpoints/2024-05-24_03-54-27/best_model_params.pt\n"
     ]
    },
    {
     "name": "stdout",
     "output_type": "stream",
     "text": [
      "Epoch 14320 val_loss_epoch 19.795616149902344 saved to checkpoints/2024-05-24_03-54-27/best_model_params.pt\n"
     ]
    },
    {
     "name": "stdout",
     "output_type": "stream",
     "text": [
      "Epoch 14340 val_loss_epoch 19.63524055480957 saved to checkpoints/2024-05-24_03-54-27/best_model_params.pt\n"
     ]
    },
    {
     "name": "stdout",
     "output_type": "stream",
     "text": [
      "Epoch 14380 val_loss_epoch 19.576904296875 saved to checkpoints/2024-05-24_03-54-27/best_model_params.pt\n"
     ]
    },
    {
     "name": "stdout",
     "output_type": "stream",
     "text": [
      "Epoch 14680 val_loss_epoch 19.420757293701172 saved to checkpoints/2024-05-24_03-54-27/best_model_params.pt\n"
     ]
    },
    {
     "name": "stdout",
     "output_type": "stream",
     "text": [
      "Epoch 14920 val_loss_epoch 19.20892906188965 saved to checkpoints/2024-05-24_03-54-27/best_model_params.pt\n"
     ]
    },
    {
     "name": "stdout",
     "output_type": "stream",
     "text": [
      "Epoch 14940 val_loss_epoch 19.173797607421875 saved to checkpoints/2024-05-24_03-54-27/best_model_params.pt\n"
     ]
    },
    {
     "name": "stdout",
     "output_type": "stream",
     "text": [
      "Epoch 15000 val_loss_epoch 19.171634674072266 saved to checkpoints/2024-05-24_03-54-27/best_model_params.pt\n"
     ]
    },
    {
     "name": "stdout",
     "output_type": "stream",
     "text": [
      "Epoch 15060 val_loss_epoch 19.122352600097656 saved to checkpoints/2024-05-24_03-54-27/best_model_params.pt\n"
     ]
    },
    {
     "name": "stdout",
     "output_type": "stream",
     "text": [
      "Epoch 15160 val_loss_epoch 19.115028381347656 saved to checkpoints/2024-05-24_03-54-27/best_model_params.pt\n"
     ]
    },
    {
     "name": "stdout",
     "output_type": "stream",
     "text": [
      "Epoch 15180 val_loss_epoch 19.01514434814453 saved to checkpoints/2024-05-24_03-54-27/best_model_params.pt\n"
     ]
    },
    {
     "name": "stdout",
     "output_type": "stream",
     "text": [
      "Epoch 15280 val_loss_epoch 18.997989654541016 saved to checkpoints/2024-05-24_03-54-27/best_model_params.pt\n"
     ]
    },
    {
     "name": "stdout",
     "output_type": "stream",
     "text": [
      "Epoch 15420 val_loss_epoch 18.997058868408203 saved to checkpoints/2024-05-24_03-54-27/best_model_params.pt\n"
     ]
    },
    {
     "name": "stdout",
     "output_type": "stream",
     "text": [
      "Epoch 15480 val_loss_epoch 18.98760414123535 saved to checkpoints/2024-05-24_03-54-27/best_model_params.pt\n"
     ]
    },
    {
     "name": "stdout",
     "output_type": "stream",
     "text": [
      "Epoch 15500 val_loss_epoch 18.97642707824707 saved to checkpoints/2024-05-24_03-54-27/best_model_params.pt\n"
     ]
    },
    {
     "name": "stdout",
     "output_type": "stream",
     "text": [
      "Epoch 15600 val_loss_epoch 18.863597869873047 saved to checkpoints/2024-05-24_03-54-27/best_model_params.pt\n"
     ]
    },
    {
     "name": "stdout",
     "output_type": "stream",
     "text": [
      "Epoch 15660 val_loss_epoch 18.823301315307617 saved to checkpoints/2024-05-24_03-54-27/best_model_params.pt\n"
     ]
    },
    {
     "name": "stdout",
     "output_type": "stream",
     "text": [
      "Epoch 15860 val_loss_epoch 18.763378143310547 saved to checkpoints/2024-05-24_03-54-27/best_model_params.pt\n"
     ]
    },
    {
     "name": "stdout",
     "output_type": "stream",
     "text": [
      "Epoch 16020 val_loss_epoch 18.702159881591797 saved to checkpoints/2024-05-24_03-54-27/best_model_params.pt\n"
     ]
    },
    {
     "name": "stdout",
     "output_type": "stream",
     "text": [
      "Epoch 16080 val_loss_epoch 18.68936538696289 saved to checkpoints/2024-05-24_03-54-27/best_model_params.pt\n"
     ]
    },
    {
     "name": "stdout",
     "output_type": "stream",
     "text": [
      "Epoch 16320 val_loss_epoch 18.591176986694336 saved to checkpoints/2024-05-24_03-54-27/best_model_params.pt\n"
     ]
    },
    {
     "name": "stdout",
     "output_type": "stream",
     "text": [
      "Epoch 16420 val_loss_epoch 18.548492431640625 saved to checkpoints/2024-05-24_03-54-27/best_model_params.pt\n"
     ]
    },
    {
     "name": "stdout",
     "output_type": "stream",
     "text": [
      "Epoch 16500 val_loss_epoch 18.424659729003906 saved to checkpoints/2024-05-24_03-54-27/best_model_params.pt\n"
     ]
    },
    {
     "name": "stdout",
     "output_type": "stream",
     "text": [
      "Epoch 16860 val_loss_epoch 18.399572372436523 saved to checkpoints/2024-05-24_03-54-27/best_model_params.pt\n"
     ]
    },
    {
     "name": "stdout",
     "output_type": "stream",
     "text": [
      "Epoch 16940 val_loss_epoch 18.39777946472168 saved to checkpoints/2024-05-24_03-54-27/best_model_params.pt\n"
     ]
    },
    {
     "name": "stdout",
     "output_type": "stream",
     "text": [
      "Epoch 16960 val_loss_epoch 18.307031631469727 saved to checkpoints/2024-05-24_03-54-27/best_model_params.pt\n"
     ]
    },
    {
     "name": "stdout",
     "output_type": "stream",
     "text": [
      "Epoch 16980 val_loss_epoch 18.23512840270996 saved to checkpoints/2024-05-24_03-54-27/best_model_params.pt\n"
     ]
    },
    {
     "name": "stdout",
     "output_type": "stream",
     "text": [
      "Epoch 17060 val_loss_epoch 18.22202491760254 saved to checkpoints/2024-05-24_03-54-27/best_model_params.pt\n"
     ]
    },
    {
     "name": "stdout",
     "output_type": "stream",
     "text": [
      "Epoch 17100 val_loss_epoch 18.20180892944336 saved to checkpoints/2024-05-24_03-54-27/best_model_params.pt\n"
     ]
    },
    {
     "name": "stdout",
     "output_type": "stream",
     "text": [
      "Epoch 17340 val_loss_epoch 18.16827392578125 saved to checkpoints/2024-05-24_03-54-27/best_model_params.pt\n"
     ]
    },
    {
     "name": "stdout",
     "output_type": "stream",
     "text": [
      "Epoch 17620 val_loss_epoch 18.143815994262695 saved to checkpoints/2024-05-24_03-54-27/best_model_params.pt\n"
     ]
    },
    {
     "name": "stdout",
     "output_type": "stream",
     "text": [
      "Epoch 17680 val_loss_epoch 18.06522560119629 saved to checkpoints/2024-05-24_03-54-27/best_model_params.pt\n"
     ]
    },
    {
     "name": "stdout",
     "output_type": "stream",
     "text": [
      "Epoch 17740 val_loss_epoch 18.027318954467773 saved to checkpoints/2024-05-24_03-54-27/best_model_params.pt\n"
     ]
    },
    {
     "name": "stdout",
     "output_type": "stream",
     "text": [
      "Epoch 17760 val_loss_epoch 17.968732833862305 saved to checkpoints/2024-05-24_03-54-27/best_model_params.pt\n"
     ]
    },
    {
     "name": "stdout",
     "output_type": "stream",
     "text": [
      "Epoch 18100 val_loss_epoch 17.931499481201172 saved to checkpoints/2024-05-24_03-54-27/best_model_params.pt\n"
     ]
    },
    {
     "name": "stdout",
     "output_type": "stream",
     "text": [
      "Epoch 18140 val_loss_epoch 17.85360336303711 saved to checkpoints/2024-05-24_03-54-27/best_model_params.pt\n"
     ]
    },
    {
     "name": "stdout",
     "output_type": "stream",
     "text": [
      "Epoch 18380 val_loss_epoch 17.820749282836914 saved to checkpoints/2024-05-24_03-54-27/best_model_params.pt\n"
     ]
    },
    {
     "name": "stdout",
     "output_type": "stream",
     "text": [
      "Epoch 18540 val_loss_epoch 17.773033142089844 saved to checkpoints/2024-05-24_03-54-27/best_model_params.pt\n"
     ]
    },
    {
     "name": "stdout",
     "output_type": "stream",
     "text": [
      "Epoch 18780 val_loss_epoch 17.689533233642578 saved to checkpoints/2024-05-24_03-54-27/best_model_params.pt\n"
     ]
    },
    {
     "name": "stdout",
     "output_type": "stream",
     "text": [
      "Epoch 18800 val_loss_epoch 17.675172805786133 saved to checkpoints/2024-05-24_03-54-27/best_model_params.pt\n"
     ]
    },
    {
     "name": "stdout",
     "output_type": "stream",
     "text": [
      "Epoch 18860 val_loss_epoch 17.66133689880371 saved to checkpoints/2024-05-24_03-54-27/best_model_params.pt\n"
     ]
    },
    {
     "name": "stdout",
     "output_type": "stream",
     "text": [
      "Epoch 19000 val_loss_epoch 17.64063262939453 saved to checkpoints/2024-05-24_03-54-27/best_model_params.pt\n"
     ]
    },
    {
     "name": "stdout",
     "output_type": "stream",
     "text": [
      "Epoch 19260 val_loss_epoch 17.638946533203125 saved to checkpoints/2024-05-24_03-54-27/best_model_params.pt\n"
     ]
    },
    {
     "name": "stdout",
     "output_type": "stream",
     "text": [
      "Epoch 19320 val_loss_epoch 17.616477966308594 saved to checkpoints/2024-05-24_03-54-27/best_model_params.pt\n"
     ]
    },
    {
     "name": "stdout",
     "output_type": "stream",
     "text": [
      "Epoch 19420 val_loss_epoch 17.59663200378418 saved to checkpoints/2024-05-24_03-54-27/best_model_params.pt\n"
     ]
    },
    {
     "name": "stdout",
     "output_type": "stream",
     "text": [
      "Epoch 19500 val_loss_epoch 17.532817840576172 saved to checkpoints/2024-05-24_03-54-27/best_model_params.pt\n"
     ]
    },
    {
     "name": "stdout",
     "output_type": "stream",
     "text": [
      "Epoch 19680 val_loss_epoch 17.501890182495117 saved to checkpoints/2024-05-24_03-54-27/best_model_params.pt\n"
     ]
    },
    {
     "name": "stdout",
     "output_type": "stream",
     "text": [
      "Epoch 19760 val_loss_epoch 17.483699798583984 saved to checkpoints/2024-05-24_03-54-27/best_model_params.pt\n"
     ]
    },
    {
     "name": "stdout",
     "output_type": "stream",
     "text": [
      "Epoch 20040 val_loss_epoch 17.43712615966797 saved to checkpoints/2024-05-24_03-54-27/best_model_params.pt\n"
     ]
    },
    {
     "name": "stdout",
     "output_type": "stream",
     "text": [
      "Epoch 20500 val_loss_epoch 17.425537109375 saved to checkpoints/2024-05-24_03-54-27/best_model_params.pt\n"
     ]
    },
    {
     "name": "stdout",
     "output_type": "stream",
     "text": [
      "Epoch 20520 val_loss_epoch 17.342952728271484 saved to checkpoints/2024-05-24_03-54-27/best_model_params.pt\n"
     ]
    },
    {
     "name": "stdout",
     "output_type": "stream",
     "text": [
      "Epoch 20540 val_loss_epoch 17.315610885620117 saved to checkpoints/2024-05-24_03-54-27/best_model_params.pt\n"
     ]
    },
    {
     "name": "stdout",
     "output_type": "stream",
     "text": [
      "Epoch 20800 val_loss_epoch 17.281091690063477 saved to checkpoints/2024-05-24_03-54-27/best_model_params.pt\n"
     ]
    },
    {
     "name": "stdout",
     "output_type": "stream",
     "text": [
      "Epoch 20900 val_loss_epoch 17.273958206176758 saved to checkpoints/2024-05-24_03-54-27/best_model_params.pt\n"
     ]
    },
    {
     "name": "stdout",
     "output_type": "stream",
     "text": [
      "Epoch 21060 val_loss_epoch 17.263111114501953 saved to checkpoints/2024-05-24_03-54-27/best_model_params.pt\n"
     ]
    },
    {
     "name": "stdout",
     "output_type": "stream",
     "text": [
      "Epoch 21160 val_loss_epoch 17.227476119995117 saved to checkpoints/2024-05-24_03-54-27/best_model_params.pt\n"
     ]
    },
    {
     "name": "stdout",
     "output_type": "stream",
     "text": [
      "Epoch 21280 val_loss_epoch 17.21274185180664 saved to checkpoints/2024-05-24_03-54-27/best_model_params.pt\n"
     ]
    },
    {
     "name": "stdout",
     "output_type": "stream",
     "text": [
      "Epoch 22000 val_loss_epoch 17.15117645263672 saved to checkpoints/2024-05-24_03-54-27/best_model_params.pt\n"
     ]
    },
    {
     "name": "stdout",
     "output_type": "stream",
     "text": [
      "Epoch 22300 val_loss_epoch 17.146743774414062 saved to checkpoints/2024-05-24_03-54-27/best_model_params.pt\n"
     ]
    },
    {
     "name": "stdout",
     "output_type": "stream",
     "text": [
      "Epoch 22400 val_loss_epoch 17.141265869140625 saved to checkpoints/2024-05-24_03-54-27/best_model_params.pt\n"
     ]
    },
    {
     "name": "stdout",
     "output_type": "stream",
     "text": [
      "Epoch 22480 val_loss_epoch 17.140958786010742 saved to checkpoints/2024-05-24_03-54-27/best_model_params.pt\n"
     ]
    },
    {
     "name": "stdout",
     "output_type": "stream",
     "text": [
      "Epoch 22680 val_loss_epoch 17.131561279296875 saved to checkpoints/2024-05-24_03-54-27/best_model_params.pt\n"
     ]
    },
    {
     "name": "stdout",
     "output_type": "stream",
     "text": [
      "Epoch 22720 val_loss_epoch 17.088083267211914 saved to checkpoints/2024-05-24_03-54-27/best_model_params.pt\n"
     ]
    },
    {
     "name": "stdout",
     "output_type": "stream",
     "text": [
      "Epoch 22900 val_loss_epoch 17.073631286621094 saved to checkpoints/2024-05-24_03-54-27/best_model_params.pt\n"
     ]
    },
    {
     "name": "stdout",
     "output_type": "stream",
     "text": [
      "Epoch 23240 val_loss_epoch 17.07004737854004 saved to checkpoints/2024-05-24_03-54-27/best_model_params.pt\n"
     ]
    },
    {
     "name": "stdout",
     "output_type": "stream",
     "text": [
      "Epoch 23340 val_loss_epoch 17.05799674987793 saved to checkpoints/2024-05-24_03-54-27/best_model_params.pt\n"
     ]
    },
    {
     "name": "stdout",
     "output_type": "stream",
     "text": [
      "Epoch 24160 val_loss_epoch 17.03069305419922 saved to checkpoints/2024-05-24_03-54-27/best_model_params.pt\n"
     ]
    },
    {
     "name": "stdout",
     "output_type": "stream",
     "text": [
      "Epoch 24220 val_loss_epoch 17.01345443725586 saved to checkpoints/2024-05-24_03-54-27/best_model_params.pt\n"
     ]
    },
    {
     "name": "stdout",
     "output_type": "stream",
     "text": [
      "Epoch 24280 val_loss_epoch 17.012399673461914 saved to checkpoints/2024-05-24_03-54-27/best_model_params.pt\n"
     ]
    },
    {
     "name": "stdout",
     "output_type": "stream",
     "text": [
      "Epoch 24540 val_loss_epoch 16.999916076660156 saved to checkpoints/2024-05-24_03-54-27/best_model_params.pt\n"
     ]
    },
    {
     "name": "stdout",
     "output_type": "stream",
     "text": [
      "Epoch 24560 val_loss_epoch 16.980449676513672 saved to checkpoints/2024-05-24_03-54-27/best_model_params.pt\n"
     ]
    },
    {
     "name": "stdout",
     "output_type": "stream",
     "text": [
      "Epoch 25160 val_loss_epoch 16.976703643798828 saved to checkpoints/2024-05-24_03-54-27/best_model_params.pt\n"
     ]
    },
    {
     "name": "stdout",
     "output_type": "stream",
     "text": [
      "Epoch 25360 val_loss_epoch 16.97260856628418 saved to checkpoints/2024-05-24_03-54-27/best_model_params.pt\n"
     ]
    },
    {
     "name": "stdout",
     "output_type": "stream",
     "text": [
      "Epoch 25380 val_loss_epoch 16.96472930908203 saved to checkpoints/2024-05-24_03-54-27/best_model_params.pt\n"
     ]
    },
    {
     "name": "stdout",
     "output_type": "stream",
     "text": [
      "Epoch 25520 val_loss_epoch 16.964365005493164 saved to checkpoints/2024-05-24_03-54-27/best_model_params.pt\n"
     ]
    },
    {
     "name": "stdout",
     "output_type": "stream",
     "text": [
      "Epoch 25720 val_loss_epoch 16.955163955688477 saved to checkpoints/2024-05-24_03-54-27/best_model_params.pt\n"
     ]
    },
    {
     "name": "stdout",
     "output_type": "stream",
     "text": [
      "Epoch 26040 val_loss_epoch 16.950180053710938 saved to checkpoints/2024-05-24_03-54-27/best_model_params.pt\n"
     ]
    },
    {
     "name": "stdout",
     "output_type": "stream",
     "text": [
      "Epoch 26260 val_loss_epoch 16.949735641479492 saved to checkpoints/2024-05-24_03-54-27/best_model_params.pt\n"
     ]
    },
    {
     "name": "stdout",
     "output_type": "stream",
     "text": [
      "Epoch 26280 val_loss_epoch 16.947437286376953 saved to checkpoints/2024-05-24_03-54-27/best_model_params.pt\n"
     ]
    },
    {
     "name": "stdout",
     "output_type": "stream",
     "text": [
      "Epoch 26320 val_loss_epoch 16.9453125 saved to checkpoints/2024-05-24_03-54-27/best_model_params.pt\n"
     ]
    },
    {
     "name": "stdout",
     "output_type": "stream",
     "text": [
      "Epoch 26580 val_loss_epoch 16.945068359375 saved to checkpoints/2024-05-24_03-54-27/best_model_params.pt\n"
     ]
    },
    {
     "name": "stdout",
     "output_type": "stream",
     "text": [
      "Epoch 26860 val_loss_epoch 16.94022560119629 saved to checkpoints/2024-05-24_03-54-27/best_model_params.pt\n"
     ]
    },
    {
     "name": "stdout",
     "output_type": "stream",
     "text": [
      "Epoch 27000 val_loss_epoch 16.940160751342773 saved to checkpoints/2024-05-24_03-54-27/best_model_params.pt\n"
     ]
    },
    {
     "name": "stdout",
     "output_type": "stream",
     "text": [
      "Epoch 27200 val_loss_epoch 16.93119239807129 saved to checkpoints/2024-05-24_03-54-27/best_model_params.pt\n"
     ]
    },
    {
     "name": "stdout",
     "output_type": "stream",
     "text": [
      "Epoch 27220 val_loss_epoch 16.931142807006836 saved to checkpoints/2024-05-24_03-54-27/best_model_params.pt\n"
     ]
    },
    {
     "name": "stdout",
     "output_type": "stream",
     "text": [
      "Epoch 27280 val_loss_epoch 16.927839279174805 saved to checkpoints/2024-05-24_03-54-27/best_model_params.pt\n"
     ]
    },
    {
     "name": "stdout",
     "output_type": "stream",
     "text": [
      "Epoch 27860 val_loss_epoch 16.919618606567383 saved to checkpoints/2024-05-24_03-54-27/best_model_params.pt\n"
     ]
    },
    {
     "name": "stdout",
     "output_type": "stream",
     "text": [
      "Epoch 27880 val_loss_epoch 16.918622970581055 saved to checkpoints/2024-05-24_03-54-27/best_model_params.pt\n"
     ]
    },
    {
     "name": "stdout",
     "output_type": "stream",
     "text": [
      "Epoch 27920 val_loss_epoch 16.91745376586914 saved to checkpoints/2024-05-24_03-54-27/best_model_params.pt\n"
     ]
    },
    {
     "name": "stdout",
     "output_type": "stream",
     "text": [
      "Epoch 28000 val_loss_epoch 16.913625717163086 saved to checkpoints/2024-05-24_03-54-27/best_model_params.pt\n"
     ]
    },
    {
     "name": "stdout",
     "output_type": "stream",
     "text": [
      "Epoch 28020 val_loss_epoch 16.888961791992188 saved to checkpoints/2024-05-24_03-54-27/best_model_params.pt\n"
     ]
    },
    {
     "name": "stdout",
     "output_type": "stream",
     "text": [
      "Epoch 29520 val_loss_epoch 16.88860321044922 saved to checkpoints/2024-05-24_03-54-27/best_model_params.pt\n"
     ]
    },
    {
     "name": "stdout",
     "output_type": "stream",
     "text": [
      "Epoch 30840 val_loss_epoch 16.88759422302246 saved to checkpoints/2024-05-24_03-54-27/best_model_params.pt\n"
     ]
    },
    {
     "name": "stdout",
     "output_type": "stream",
     "text": [
      "Epoch 37840 val_loss_epoch 16.887474060058594 saved to checkpoints/2024-05-24_03-54-27/best_model_params.pt\n"
     ]
    },
    {
     "name": "stdout",
     "output_type": "stream",
     "text": [
      "Epoch 37860 val_loss_epoch 16.887434005737305 saved to checkpoints/2024-05-24_03-54-27/best_model_params.pt\n"
     ]
    },
    {
     "name": "stdout",
     "output_type": "stream",
     "text": [
      "Epoch 37880 val_loss_epoch 16.88742446899414 saved to checkpoints/2024-05-24_03-54-27/best_model_params.pt\n"
     ]
    },
    {
     "name": "stdout",
     "output_type": "stream",
     "text": [
      "Epoch 37920 val_loss_epoch 16.887361526489258 saved to checkpoints/2024-05-24_03-54-27/best_model_params.pt\n"
     ]
    },
    {
     "name": "stdout",
     "output_type": "stream",
     "text": [
      "Epoch 37940 val_loss_epoch 16.887243270874023 saved to checkpoints/2024-05-24_03-54-27/best_model_params.pt\n"
     ]
    },
    {
     "name": "stdout",
     "output_type": "stream",
     "text": [
      "Epoch 37980 val_loss_epoch 16.887231826782227 saved to checkpoints/2024-05-24_03-54-27/best_model_params.pt\n"
     ]
    },
    {
     "name": "stdout",
     "output_type": "stream",
     "text": [
      "Epoch 38000 val_loss_epoch 16.887134552001953 saved to checkpoints/2024-05-24_03-54-27/best_model_params.pt\n"
     ]
    },
    {
     "name": "stdout",
     "output_type": "stream",
     "text": [
      "Epoch 38040 val_loss_epoch 16.88701057434082 saved to checkpoints/2024-05-24_03-54-27/best_model_params.pt\n"
     ]
    },
    {
     "name": "stdout",
     "output_type": "stream",
     "text": [
      "Epoch 38140 val_loss_epoch 16.88689613342285 saved to checkpoints/2024-05-24_03-54-27/best_model_params.pt\n"
     ]
    },
    {
     "name": "stdout",
     "output_type": "stream",
     "text": [
      "Epoch 38160 val_loss_epoch 16.88688087463379 saved to checkpoints/2024-05-24_03-54-27/best_model_params.pt\n"
     ]
    },
    {
     "name": "stderr",
     "output_type": "stream",
     "text": [
      "\u001b[34m\u001b[1mwandb\u001b[0m: - 2.834 MB of 2.834 MB uploaded\r"
     ]
    },
    {
     "name": "stderr",
     "output_type": "stream",
     "text": [
      "\u001b[34m\u001b[1mwandb\u001b[0m: \\ 2.834 MB of 2.860 MB uploaded\r"
     ]
    },
    {
     "name": "stderr",
     "output_type": "stream",
     "text": [
      "\u001b[34m\u001b[1mwandb\u001b[0m: | 0.891 MB of 2.860 MB uploaded\r"
     ]
    },
    {
     "name": "stderr",
     "output_type": "stream",
     "text": [
      "\u001b[34m\u001b[1mwandb\u001b[0m: / 2.860 MB of 2.860 MB uploaded\r"
     ]
    },
    {
     "name": "stderr",
     "output_type": "stream",
     "text": [
      "\u001b[34m\u001b[1mwandb\u001b[0m: - 2.860 MB of 2.860 MB uploaded\r"
     ]
    },
    {
     "name": "stderr",
     "output_type": "stream",
     "text": [
      "\u001b[34m\u001b[1mwandb\u001b[0m: \\ 2.860 MB of 2.860 MB uploaded\r"
     ]
    },
    {
     "name": "stderr",
     "output_type": "stream",
     "text": [
      "\u001b[34m\u001b[1mwandb\u001b[0m: | 2.860 MB of 2.860 MB uploaded\r"
     ]
    },
    {
     "name": "stderr",
     "output_type": "stream",
     "text": [
      "\u001b[34m\u001b[1mwandb\u001b[0m:                                                                                \n"
     ]
    },
    {
     "name": "stderr",
     "output_type": "stream",
     "text": [
      "\u001b[34m\u001b[1mwandb\u001b[0m: \n",
      "\u001b[34m\u001b[1mwandb\u001b[0m: Run history:\n",
      "\u001b[34m\u001b[1mwandb\u001b[0m:             epoch ▁▁▁▁▂▂▂▂▂▃▃▃▃▃▃▄▄▄▄▄▅▅▅▅▅▅▆▆▆▆▆▇▇▇▇▇▇███\n",
      "\u001b[34m\u001b[1mwandb\u001b[0m: known_cascade_len █▅▁▁▁▅▁▅█▁█▅▅█▁█▁▅▅▅▅▁▁▅█▁█▁▅█▁▁▅▁▁▁██▁▁\n",
      "\u001b[34m\u001b[1mwandb\u001b[0m:     known_seq_len █▁▅▄▆▅▇▁▂▄▄▃▁█▄▇▁▄▅▃▇▅▆▅▆▅█▁▅▄▂██▅▇▃▄▆▂▅\n",
      "\u001b[34m\u001b[1mwandb\u001b[0m:                lr █▄▂▂▂▂▂▁▁▁▁▁▁▁▁▁▁▁▁▁▁▁▁▁▁▁▁▁▁▁▁▁▁▁▁▁▁▁▁▁\n",
      "\u001b[34m\u001b[1mwandb\u001b[0m:  train_loss_batch ▁█▁▁▁▁▁▂▁▁▁▁▂▁▁▁▆▁▁▁▁▁▁▁▁▁▁▆▁▁▅▁▁▁▁▁▁▁▃▁\n",
      "\u001b[34m\u001b[1mwandb\u001b[0m:  train_loss_epoch █▆▆▃▂▂▁▁▁▁▁▁▁▁▁▁▁▁▁▁▁▁▁▁▁▁▁▁▁▁▁▁▁▁▁▁▁▁▁▁\n",
      "\u001b[34m\u001b[1mwandb\u001b[0m:    val_loss_epoch █▆▅▃▂▂▁▁▁▁▁▁▁▁▁▁▁▁▁▁▁▁▁▁▁▁▁▁▁▁▁▁▁▁▁▁▁▁▁▁\n",
      "\u001b[34m\u001b[1mwandb\u001b[0m: \n",
      "\u001b[34m\u001b[1mwandb\u001b[0m: Run summary:\n",
      "\u001b[34m\u001b[1mwandb\u001b[0m:             epoch 100000\n",
      "\u001b[34m\u001b[1mwandb\u001b[0m: known_cascade_len 0\n",
      "\u001b[34m\u001b[1mwandb\u001b[0m:     known_seq_len 1\n",
      "\u001b[34m\u001b[1mwandb\u001b[0m:                lr 0.0\n",
      "\u001b[34m\u001b[1mwandb\u001b[0m:  train_loss_batch 83489.85156\n",
      "\u001b[34m\u001b[1mwandb\u001b[0m:  train_loss_epoch 16.25737\n",
      "\u001b[34m\u001b[1mwandb\u001b[0m:    val_loss_epoch 16.88753\n",
      "\u001b[34m\u001b[1mwandb\u001b[0m: \n"
     ]
    },
    {
     "name": "stderr",
     "output_type": "stream",
     "text": [
      "\u001b[34m\u001b[1mwandb\u001b[0m: 🚀 View run \u001b[33mcerulean-cloud-236\u001b[0m at: \u001b[34m\u001b[4mhttps://wandb.ai/kazeev/WyckoffTransformer/runs/1zfmt5l0\u001b[0m\n",
      "\u001b[34m\u001b[1mwandb\u001b[0m: ⭐️ View project at: \u001b[34m\u001b[4mhttps://wandb.ai/kazeev/WyckoffTransformer\u001b[0m\n",
      "\u001b[34m\u001b[1mwandb\u001b[0m: Synced 5 W&B file(s), 0 media file(s), 0 artifact file(s) and 1 other file(s)\n"
     ]
    },
    {
     "name": "stderr",
     "output_type": "stream",
     "text": [
      "\u001b[34m\u001b[1mwandb\u001b[0m: Find logs at: \u001b[35m\u001b[1m./wandb/run-20240524_035428-1zfmt5l0/logs\u001b[0m\n"
     ]
    }
   ],
   "source": [
    "import torch\n",
    "pad_dict = {\n",
    "    \"elements\": element_to_ids[PAD_TOKEN],\n",
    "    \"symmetry_sites\": site_to_ids[PAD_TOKEN],\n",
    "    \"symmetry_sites_enumeration\": enumeration_pad\n",
    "}\n",
    "mask_dict = {\n",
    "    \"elements\": element_to_ids[MASK_TOKEN],\n",
    "    \"symmetry_sites\": site_to_ids[MASK_TOKEN],\n",
    "    \"symmetry_sites_enumeration\": enumeration_mask\n",
    "}\n",
    "trainer = WyckoffTrainer(\n",
    "    model, torch_datasets, pad_dict, mask_dict, cascade_order, \"spacegroup_number\", max_len, device, dtype=dtype)\n",
    "trainer.train(epochs=100000, val_period=20)"
   ]
  }
 ],
 "metadata": {
  "kernelspec": {
   "display_name": "wyckofftransformer-FeCwefly-py3.10",
   "language": "python",
   "name": "python3"
  },
  "language_info": {
   "codemirror_mode": {
    "name": "ipython",
    "version": 3
   },
   "file_extension": ".py",
   "mimetype": "text/x-python",
   "name": "python",
   "nbconvert_exporter": "python",
   "pygments_lexer": "ipython3",
   "version": "3.10.12"
  }
 },
 "nbformat": 4,
 "nbformat_minor": 2
}
